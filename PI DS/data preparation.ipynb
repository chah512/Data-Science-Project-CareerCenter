{
 "cells": [
  {
   "cell_type": "markdown",
   "id": "f95d8983-b264-473d-9613-1fa8be34d890",
   "metadata": {},
   "source": [
    "<div style=\"text-align:center;\">\n",
    "    <h1 style=\"font-family:Arial, sans-serif; font-weight:bold; color:#FF5733\">Data preparation</h1>\n",
    "</div>\n"
   ]
  },
  {
   "cell_type": "code",
   "execution_count": 2,
   "id": "3586f6ea-5b7d-4b2f-98c0-7672161a503b",
   "metadata": {},
   "outputs": [],
   "source": [
    "import pandas as pd"
   ]
  },
  {
   "cell_type": "markdown",
   "id": "c452d940-b8b6-4b3c-b43f-9042078f6559",
   "metadata": {},
   "source": [
    "## Data Import"
   ]
  },
  {
   "cell_type": "code",
   "execution_count": 3,
   "id": "c7421684-4d50-4fac-a2a1-4d1a0461293a",
   "metadata": {},
   "outputs": [],
   "source": [
    "df1=pd.read_excel('data_NoAdditional.xlsx')\n",
    "df2=pd.read_excel('output.xlsx')"
   ]
  },
  {
   "cell_type": "code",
   "execution_count": 5,
   "id": "6ecc1a71-01cf-419f-a608-ab688cb7d5b6",
   "metadata": {},
   "outputs": [],
   "source": [
    "df1.drop(df1.columns[0], axis=1, inplace=True)\n",
    "df2.drop(df2.columns[0], axis=1, inplace=True)"
   ]
  },
  {
   "cell_type": "code",
   "execution_count": 27,
   "id": "a505f3d6-948f-4df7-b553-b04880b36387",
   "metadata": {},
   "outputs": [],
   "source": [
    "\n",
    "#frames=[df,df2]\n",
    "#data=pd.concat(frames)"
   ]
  },
  {
   "cell_type": "code",
   "execution_count": 6,
   "id": "e7b75bb8-d8d0-4570-a384-82775b4359ab",
   "metadata": {},
   "outputs": [],
   "source": [
    "df1.drop_duplicates(inplace=True)"
   ]
  },
  {
   "cell_type": "code",
   "execution_count": 7,
   "id": "51ae8749-b3a5-4753-b66a-0010253892fb",
   "metadata": {},
   "outputs": [
    {
     "name": "stdout",
     "output_type": "stream",
     "text": [
      "                                              job_title  \\\n",
      "0                                             DevSecOps   \n",
      "1                                     Technology Talent   \n",
      "2                                    DevSecOps Engineer   \n",
      "3                           New technologies specialist   \n",
      "4                     Data Management Solution Delivery   \n",
      "...                                                 ...   \n",
      "1588             Développement outil monitoring risques   \n",
      "1589  utilisant différentes données textuelles colle...   \n",
      "1590  Réflexion stratégique cadre conception platefo...   \n",
      "1591          Evaluation bilan carbone d'une entreprise   \n",
      "1592  Conception pilote et tokenisation crédit carbo...   \n",
      "\n",
      "                                         skill_required  \\\n",
      "0     software engineering, data development solutio...   \n",
      "1     Broad spectrum technologies (including Blockch...   \n",
      "2     Collaboration, architecture, design, deploymen...   \n",
      "3     Kafka, Java8 (JDK11/17), Spring Cloud Stream, ...   \n",
      "4     Cloudera/Spark/SnowFlake/Databricks/Stratio/Hi...   \n",
      "...                                                 ...   \n",
      "1588  implémentation chatbot intelligent, outil préd...   \n",
      "1589  Les techniques de webscrapping ou/et parsing d...   \n",
      "1590                                                NaN   \n",
      "1591       méthodologie, questionnaire (questions clés)   \n",
      "1592                                                NaN   \n",
      "\n",
      "                                               location  \\\n",
      "0                             SANTANDERTECHHUB-PROFILES   \n",
      "1     Poland, Portugal, Spain, UK, Mexico, Brazil an...   \n",
      "2                                      SANTANDERTECHHUB   \n",
      "3                                         Not specified   \n",
      "4                                      SantanderTechHub   \n",
      "...                                                 ...   \n",
      "1588                                                NaN   \n",
      "1589                                                NaN   \n",
      "1590                                                NaN   \n",
      "1591                                                NaN   \n",
      "1592                                              VALUE   \n",
      "\n",
      "                                                   link  \n",
      "0     2022-11-11 Job description junior positions-pa...  \n",
      "1     2022-11-11 Job description junior positions-pa...  \n",
      "2     2022-11-11 Job description junior positions-pa...  \n",
      "3     2022-11-11 Job description junior positions-pa...  \n",
      "4     2022-11-11 Job description junior positions-pa...  \n",
      "...                                                 ...  \n",
      "1588                                    Value-page8.pdf  \n",
      "1589                                    Value-page8.pdf  \n",
      "1590                                    Value-page8.pdf  \n",
      "1591                                    Value-page8.pdf  \n",
      "1592                                    Value-page8.pdf  \n",
      "\n",
      "[1579 rows x 4 columns]\n"
     ]
    }
   ],
   "source": [
    "print(df1)"
   ]
  },
  {
   "cell_type": "code",
   "execution_count": 8,
   "id": "aa4b9552-f502-4d03-a3ef-80f8132eabba",
   "metadata": {},
   "outputs": [
    {
     "name": "stdout",
     "output_type": "stream",
     "text": [
      "Requirement already satisfied: google-cloud-translate in c:\\anaconda3\\lib\\site-packages (3.11.1)\n",
      "Requirement already satisfied: proto-plus<2.0.0dev,>=1.22.0 in c:\\anaconda3\\lib\\site-packages (from google-cloud-translate) (1.22.2)\n",
      "Requirement already satisfied: google-cloud-core<3.0.0dev,>=1.3.0 in c:\\anaconda3\\lib\\site-packages (from google-cloud-translate) (2.3.2)\n",
      "Requirement already satisfied: google-api-core[grpc]!=2.0.*,!=2.1.*,!=2.10.*,!=2.2.*,!=2.3.*,!=2.4.*,!=2.5.*,!=2.6.*,!=2.7.*,!=2.8.*,!=2.9.*,<3.0.0dev,>=1.34.0 in c:\\anaconda3\\lib\\site-packages (from google-cloud-translate) (2.11.0)\n",
      "Requirement already satisfied: protobuf!=3.20.0,!=3.20.1,!=4.21.0,!=4.21.1,!=4.21.2,!=4.21.3,!=4.21.4,!=4.21.5,<5.0.0dev,>=3.19.5 in c:\\anaconda3\\lib\\site-packages (from google-cloud-translate) (4.22.1)\n",
      "Requirement already satisfied: googleapis-common-protos<2.0dev,>=1.56.2 in c:\\anaconda3\\lib\\site-packages (from google-api-core[grpc]!=2.0.*,!=2.1.*,!=2.10.*,!=2.2.*,!=2.3.*,!=2.4.*,!=2.5.*,!=2.6.*,!=2.7.*,!=2.8.*,!=2.9.*,<3.0.0dev,>=1.34.0->google-cloud-translate) (1.59.0)\n",
      "Requirement already satisfied: requests<3.0.0dev,>=2.18.0 in c:\\anaconda3\\lib\\site-packages (from google-api-core[grpc]!=2.0.*,!=2.1.*,!=2.10.*,!=2.2.*,!=2.3.*,!=2.4.*,!=2.5.*,!=2.6.*,!=2.7.*,!=2.8.*,!=2.9.*,<3.0.0dev,>=1.34.0->google-cloud-translate) (2.28.1)\n",
      "Requirement already satisfied: google-auth<3.0dev,>=2.14.1 in c:\\anaconda3\\lib\\site-packages (from google-api-core[grpc]!=2.0.*,!=2.1.*,!=2.10.*,!=2.2.*,!=2.3.*,!=2.4.*,!=2.5.*,!=2.6.*,!=2.7.*,!=2.8.*,!=2.9.*,<3.0.0dev,>=1.34.0->google-cloud-translate) (2.17.1)\n",
      "Requirement already satisfied: grpcio-status<2.0dev,>=1.33.2 in c:\\anaconda3\\lib\\site-packages (from google-api-core[grpc]!=2.0.*,!=2.1.*,!=2.10.*,!=2.2.*,!=2.3.*,!=2.4.*,!=2.5.*,!=2.6.*,!=2.7.*,!=2.8.*,!=2.9.*,<3.0.0dev,>=1.34.0->google-cloud-translate) (1.53.0)\n",
      "Requirement already satisfied: grpcio<2.0dev,>=1.33.2 in c:\\anaconda3\\lib\\site-packages (from google-api-core[grpc]!=2.0.*,!=2.1.*,!=2.10.*,!=2.2.*,!=2.3.*,!=2.4.*,!=2.5.*,!=2.6.*,!=2.7.*,!=2.8.*,!=2.9.*,<3.0.0dev,>=1.34.0->google-cloud-translate) (1.53.0)\n",
      "Requirement already satisfied: six>=1.9.0 in c:\\anaconda3\\lib\\site-packages (from google-auth<3.0dev,>=2.14.1->google-api-core[grpc]!=2.0.*,!=2.1.*,!=2.10.*,!=2.2.*,!=2.3.*,!=2.4.*,!=2.5.*,!=2.6.*,!=2.7.*,!=2.8.*,!=2.9.*,<3.0.0dev,>=1.34.0->google-cloud-translate) (1.16.0)\n",
      "Requirement already satisfied: rsa<5,>=3.1.4 in c:\\anaconda3\\lib\\site-packages (from google-auth<3.0dev,>=2.14.1->google-api-core[grpc]!=2.0.*,!=2.1.*,!=2.10.*,!=2.2.*,!=2.3.*,!=2.4.*,!=2.5.*,!=2.6.*,!=2.7.*,!=2.8.*,!=2.9.*,<3.0.0dev,>=1.34.0->google-cloud-translate) (4.9)\n",
      "Requirement already satisfied: cachetools<6.0,>=2.0.0 in c:\\anaconda3\\lib\\site-packages (from google-auth<3.0dev,>=2.14.1->google-api-core[grpc]!=2.0.*,!=2.1.*,!=2.10.*,!=2.2.*,!=2.3.*,!=2.4.*,!=2.5.*,!=2.6.*,!=2.7.*,!=2.8.*,!=2.9.*,<3.0.0dev,>=1.34.0->google-cloud-translate) (5.3.0)\n",
      "Requirement already satisfied: pyasn1-modules>=0.2.1 in c:\\anaconda3\\lib\\site-packages (from google-auth<3.0dev,>=2.14.1->google-api-core[grpc]!=2.0.*,!=2.1.*,!=2.10.*,!=2.2.*,!=2.3.*,!=2.4.*,!=2.5.*,!=2.6.*,!=2.7.*,!=2.8.*,!=2.9.*,<3.0.0dev,>=1.34.0->google-cloud-translate) (0.2.8)\n",
      "Requirement already satisfied: certifi>=2017.4.17 in c:\\anaconda3\\lib\\site-packages (from requests<3.0.0dev,>=2.18.0->google-api-core[grpc]!=2.0.*,!=2.1.*,!=2.10.*,!=2.2.*,!=2.3.*,!=2.4.*,!=2.5.*,!=2.6.*,!=2.7.*,!=2.8.*,!=2.9.*,<3.0.0dev,>=1.34.0->google-cloud-translate) (2022.12.7)\n",
      "Requirement already satisfied: idna<4,>=2.5 in c:\\anaconda3\\lib\\site-packages (from requests<3.0.0dev,>=2.18.0->google-api-core[grpc]!=2.0.*,!=2.1.*,!=2.10.*,!=2.2.*,!=2.3.*,!=2.4.*,!=2.5.*,!=2.6.*,!=2.7.*,!=2.8.*,!=2.9.*,<3.0.0dev,>=1.34.0->google-cloud-translate) (2.10)\n",
      "Requirement already satisfied: urllib3<1.27,>=1.21.1 in c:\\anaconda3\\lib\\site-packages (from requests<3.0.0dev,>=2.18.0->google-api-core[grpc]!=2.0.*,!=2.1.*,!=2.10.*,!=2.2.*,!=2.3.*,!=2.4.*,!=2.5.*,!=2.6.*,!=2.7.*,!=2.8.*,!=2.9.*,<3.0.0dev,>=1.34.0->google-cloud-translate) (1.26.14)\n",
      "Requirement already satisfied: charset-normalizer<3,>=2 in c:\\anaconda3\\lib\\site-packages (from requests<3.0.0dev,>=2.18.0->google-api-core[grpc]!=2.0.*,!=2.1.*,!=2.10.*,!=2.2.*,!=2.3.*,!=2.4.*,!=2.5.*,!=2.6.*,!=2.7.*,!=2.8.*,!=2.9.*,<3.0.0dev,>=1.34.0->google-cloud-translate) (2.0.4)\n",
      "Requirement already satisfied: pyasn1<0.5.0,>=0.4.6 in c:\\anaconda3\\lib\\site-packages (from pyasn1-modules>=0.2.1->google-auth<3.0dev,>=2.14.1->google-api-core[grpc]!=2.0.*,!=2.1.*,!=2.10.*,!=2.2.*,!=2.3.*,!=2.4.*,!=2.5.*,!=2.6.*,!=2.7.*,!=2.8.*,!=2.9.*,<3.0.0dev,>=1.34.0->google-cloud-translate) (0.4.8)\n",
      "Note: you may need to restart the kernel to use updated packages.\n"
     ]
    }
   ],
   "source": [
    "pip install google-cloud-translate\n"
   ]
  },
  {
   "cell_type": "code",
   "execution_count": 9,
   "id": "c6995076-4ea9-4b0a-aedb-d167ee774bb5",
   "metadata": {},
   "outputs": [
    {
     "name": "stdout",
     "output_type": "stream",
     "text": [
      "                                              job_title  \\\n",
      "0                                             DevSecOps   \n",
      "1                                     Technology Talent   \n",
      "2                                    DevSecOps Engineer   \n",
      "3                           New technologies specialist   \n",
      "4                     Data Management Solution Delivery   \n",
      "...                                                 ...   \n",
      "1588                Development of risk monitoring tool   \n",
      "1589             using different collected textual data   \n",
      "1590  Strategic thinking framework design greentech ...   \n",
      "1591                     Carbon assessment of a company   \n",
      "1592  Pilot design and tokenization carbon credit ba...   \n",
      "\n",
      "                                         skill_required  \\\n",
      "0     software engineering, data development solutio...   \n",
      "1     Broad spectrum technologies (including Blockch...   \n",
      "2     Collaboration, architecture, design, deploymen...   \n",
      "3     Kafka, Java8 (JDK11/17), Spring Cloud Stream, ...   \n",
      "4     Cloudera/Spark/SnowFlake/Databricks/Stratio/Hi...   \n",
      "...                                                 ...   \n",
      "1588  intelligent chatbot implementation, predictive...   \n",
      "1589  Techniques for webscrapping and/or parsing pdf...   \n",
      "1590                                                 in   \n",
      "1591         methodology, questionnaire (key questions)   \n",
      "1592                                                 in   \n",
      "\n",
      "                                               location  \\\n",
      "0                             SANTANDERTECHHUB-PROFILES   \n",
      "1     Poland, Portugal, Spain, UK, Mexico, Brazil an...   \n",
      "2                                      SANTANDERTECHHUB   \n",
      "3                                         Not specified   \n",
      "4                                      SantanderTechHub   \n",
      "...                                                 ...   \n",
      "1588                                                 in   \n",
      "1589                                                 in   \n",
      "1590                                                 in   \n",
      "1591                                                 in   \n",
      "1592                                              VALUE   \n",
      "\n",
      "                                                   link  \n",
      "0     2022-11-11 Job description junior positions-pa...  \n",
      "1     2022-11-11 Job description junior positions-pa...  \n",
      "2     2022-11-11 Job description junior positions-pa...  \n",
      "3     2022-11-11 Job description junior positions-pa...  \n",
      "4     2022-11-11 Job description junior positions-pa...  \n",
      "...                                                 ...  \n",
      "1588                                    Value-page8.pdf  \n",
      "1589                                    Value-page8.pdf  \n",
      "1590                                    Value-page8.pdf  \n",
      "1591                                    Value-page8.pdf  \n",
      "1592                                    Value-page8.pdf  \n",
      "\n",
      "[1579 rows x 4 columns]\n"
     ]
    }
   ],
   "source": [
    "from googletrans import Translator\n",
    "\n",
    "translator = Translator()\n",
    "\n",
    "\n",
    "\n",
    "# create a function to translate a single string value\n",
    "def translate_text(text):\n",
    "    translation = translator.translate(text)\n",
    "    return translation.text\n",
    "\n",
    "# apply the translation function to all cells of the dataframe\n",
    "df1.iloc[:, :-1] = df1.iloc[:, :-1].applymap(lambda x: translate_text(x))\n",
    "\n",
    "# display the translated dataframe\n",
    "print(df1)\n"
   ]
  },
  {
   "cell_type": "code",
   "execution_count": 10,
   "id": "4e4da9fe-5615-416a-a7f4-a4ba8532599f",
   "metadata": {},
   "outputs": [
    {
     "ename": "NameError",
     "evalue": "name 'df' is not defined",
     "output_type": "error",
     "traceback": [
      "\u001b[1;31m---------------------------------------------------------------------------\u001b[0m",
      "\u001b[1;31mNameError\u001b[0m                                 Traceback (most recent call last)",
      "Cell \u001b[1;32mIn[10], line 1\u001b[0m\n\u001b[1;32m----> 1\u001b[0m \u001b[43mdf\u001b[49m\u001b[38;5;241m.\u001b[39mto_excel(\u001b[38;5;124m\"\u001b[39m\u001b[38;5;124moutput2_translated.xlsx\u001b[39m\u001b[38;5;124m\"\u001b[39m)\n",
      "\u001b[1;31mNameError\u001b[0m: name 'df' is not defined"
     ]
    }
   ],
   "source": [
    "df.to_excel(\"output2_translated.xlsx\")"
   ]
  }
 ],
 "metadata": {
  "kernelspec": {
   "display_name": "Python 3 (ipykernel)",
   "language": "python",
   "name": "python3"
  },
  "language_info": {
   "codemirror_mode": {
    "name": "ipython",
    "version": 3
   },
   "file_extension": ".py",
   "mimetype": "text/x-python",
   "name": "python",
   "nbconvert_exporter": "python",
   "pygments_lexer": "ipython3",
   "version": "3.10.9"
  }
 },
 "nbformat": 4,
 "nbformat_minor": 5
}
