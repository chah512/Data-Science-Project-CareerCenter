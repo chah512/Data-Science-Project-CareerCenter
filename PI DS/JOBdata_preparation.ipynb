{
 "cells": [
  {
   "cell_type": "code",
   "execution_count": 1,
   "id": "90f8c92a-23c2-41ff-b012-bf030a561b3d",
   "metadata": {},
   "outputs": [],
   "source": [
    "import numpy as np\n",
    "import pandas as pd\n",
    "import matplotlib.pyplot as plt\n",
    "import seaborn as sns"
   ]
  },
  {
   "cell_type": "code",
   "execution_count": 2,
   "id": "39abf3ce-ed20-425c-9f16-9d1c82038dd0",
   "metadata": {},
   "outputs": [],
   "source": [
    "data=pd.read_excel(\"joboffer.xlsx\",header=0)"
   ]
  },
  {
   "cell_type": "code",
   "execution_count": 3,
   "id": "7d01b8f1-89ba-4774-b973-76569683cd2a",
   "metadata": {},
   "outputs": [
    {
     "data": {
      "text/plain": [
       "(1593, 5)"
      ]
     },
     "execution_count": 3,
     "metadata": {},
     "output_type": "execute_result"
    }
   ],
   "source": [
    "data.shape\n"
   ]
  },
  {
   "cell_type": "code",
   "execution_count": 4,
   "id": "a29bc0c6-aaed-4646-ada8-58f9bf994f3d",
   "metadata": {},
   "outputs": [
    {
     "data": {
      "text/plain": [
       "Index(['Unnamed: 0', 'job_title', 'skill_required', 'location', 'link'], dtype='object')"
      ]
     },
     "execution_count": 4,
     "metadata": {},
     "output_type": "execute_result"
    }
   ],
   "source": [
    "data.columns"
   ]
  },
  {
   "cell_type": "code",
   "execution_count": 5,
   "id": "e0842977-1408-4ab4-80b7-a7aeb2d7219a",
   "metadata": {},
   "outputs": [],
   "source": [
    "#There is an unnamed column and we cannot use this for data analysis.So we drop that column.\n",
    "# make a new dataframe because if you have same name and implement this kernel twice,it will drop the 0th column everytime\n",
    "df=data.drop(['Unnamed: 0'],axis=1)"
   ]
  },
  {
   "cell_type": "code",
   "execution_count": 6,
   "id": "9af5838f-2bed-4337-bbee-24dfca52097d",
   "metadata": {},
   "outputs": [
    {
     "data": {
      "text/html": [
       "<div>\n",
       "<style scoped>\n",
       "    .dataframe tbody tr th:only-of-type {\n",
       "        vertical-align: middle;\n",
       "    }\n",
       "\n",
       "    .dataframe tbody tr th {\n",
       "        vertical-align: top;\n",
       "    }\n",
       "\n",
       "    .dataframe thead th {\n",
       "        text-align: right;\n",
       "    }\n",
       "</style>\n",
       "<table border=\"1\" class=\"dataframe\">\n",
       "  <thead>\n",
       "    <tr style=\"text-align: right;\">\n",
       "      <th></th>\n",
       "      <th>job_title</th>\n",
       "      <th>skill_required</th>\n",
       "      <th>location</th>\n",
       "      <th>link</th>\n",
       "    </tr>\n",
       "  </thead>\n",
       "  <tbody>\n",
       "    <tr>\n",
       "      <th>0</th>\n",
       "      <td>DevSecOps</td>\n",
       "      <td>software engineering, data development solutio...</td>\n",
       "      <td>SANTANDERTECHHUB-PROFILES</td>\n",
       "      <td>2022-11-11 Job description junior positions-pa...</td>\n",
       "    </tr>\n",
       "    <tr>\n",
       "      <th>1</th>\n",
       "      <td>Technology Talent</td>\n",
       "      <td>Broad spectrum technologies (including Blockch...</td>\n",
       "      <td>Poland, Portugal, Spain, UK, Mexico, Brazil an...</td>\n",
       "      <td>2022-11-11 Job description junior positions-pa...</td>\n",
       "    </tr>\n",
       "    <tr>\n",
       "      <th>2</th>\n",
       "      <td>DevSecOps Engineer</td>\n",
       "      <td>Collaboration, architecture, design, deploymen...</td>\n",
       "      <td>SANTANDERTECHHUB</td>\n",
       "      <td>2022-11-11 Job description junior positions-pa...</td>\n",
       "    </tr>\n",
       "    <tr>\n",
       "      <th>3</th>\n",
       "      <td>New technologies specialist</td>\n",
       "      <td>Kafka, Java8 (JDK11/17), Spring Cloud Stream, ...</td>\n",
       "      <td>Not specified</td>\n",
       "      <td>2022-11-11 Job description junior positions-pa...</td>\n",
       "    </tr>\n",
       "    <tr>\n",
       "      <th>4</th>\n",
       "      <td>Data Management Solution Delivery</td>\n",
       "      <td>Cloudera/Spark/SnowFlake/Databricks/Stratio/Hi...</td>\n",
       "      <td>SantanderTechHub</td>\n",
       "      <td>2022-11-11 Job description junior positions-pa...</td>\n",
       "    </tr>\n",
       "  </tbody>\n",
       "</table>\n",
       "</div>"
      ],
      "text/plain": [
       "                           job_title  \\\n",
       "0                          DevSecOps   \n",
       "1                  Technology Talent   \n",
       "2                 DevSecOps Engineer   \n",
       "3        New technologies specialist   \n",
       "4  Data Management Solution Delivery   \n",
       "\n",
       "                                      skill_required  \\\n",
       "0  software engineering, data development solutio...   \n",
       "1  Broad spectrum technologies (including Blockch...   \n",
       "2  Collaboration, architecture, design, deploymen...   \n",
       "3  Kafka, Java8 (JDK11/17), Spring Cloud Stream, ...   \n",
       "4  Cloudera/Spark/SnowFlake/Databricks/Stratio/Hi...   \n",
       "\n",
       "                                            location  \\\n",
       "0                          SANTANDERTECHHUB-PROFILES   \n",
       "1  Poland, Portugal, Spain, UK, Mexico, Brazil an...   \n",
       "2                                   SANTANDERTECHHUB   \n",
       "3                                      Not specified   \n",
       "4                                   SantanderTechHub   \n",
       "\n",
       "                                                link  \n",
       "0  2022-11-11 Job description junior positions-pa...  \n",
       "1  2022-11-11 Job description junior positions-pa...  \n",
       "2  2022-11-11 Job description junior positions-pa...  \n",
       "3  2022-11-11 Job description junior positions-pa...  \n",
       "4  2022-11-11 Job description junior positions-pa...  "
      ]
     },
     "execution_count": 6,
     "metadata": {},
     "output_type": "execute_result"
    }
   ],
   "source": [
    "df.head()"
   ]
  },
  {
   "cell_type": "code",
   "execution_count": 7,
   "id": "b6fa17a7-3175-45c0-80d1-2a0553881202",
   "metadata": {},
   "outputs": [
    {
     "data": {
      "text/html": [
       "<div>\n",
       "<style scoped>\n",
       "    .dataframe tbody tr th:only-of-type {\n",
       "        vertical-align: middle;\n",
       "    }\n",
       "\n",
       "    .dataframe tbody tr th {\n",
       "        vertical-align: top;\n",
       "    }\n",
       "\n",
       "    .dataframe thead th {\n",
       "        text-align: right;\n",
       "    }\n",
       "</style>\n",
       "<table border=\"1\" class=\"dataframe\">\n",
       "  <thead>\n",
       "    <tr style=\"text-align: right;\">\n",
       "      <th></th>\n",
       "      <th>job_title</th>\n",
       "      <th>skill_required</th>\n",
       "      <th>location</th>\n",
       "      <th>link</th>\n",
       "    </tr>\n",
       "  </thead>\n",
       "  <tbody>\n",
       "    <tr>\n",
       "      <th>1588</th>\n",
       "      <td>Développement outil monitoring risques</td>\n",
       "      <td>implémentation chatbot intelligent, outil préd...</td>\n",
       "      <td>NaN</td>\n",
       "      <td>Value-page8.pdf</td>\n",
       "    </tr>\n",
       "    <tr>\n",
       "      <th>1589</th>\n",
       "      <td>utilisant différentes données textuelles colle...</td>\n",
       "      <td>Les techniques de webscrapping ou/et parsing d...</td>\n",
       "      <td>NaN</td>\n",
       "      <td>Value-page8.pdf</td>\n",
       "    </tr>\n",
       "    <tr>\n",
       "      <th>1590</th>\n",
       "      <td>Réflexion stratégique cadre conception platefo...</td>\n",
       "      <td>NaN</td>\n",
       "      <td>NaN</td>\n",
       "      <td>Value-page8.pdf</td>\n",
       "    </tr>\n",
       "    <tr>\n",
       "      <th>1591</th>\n",
       "      <td>Evaluation bilan carbone d'une entreprise</td>\n",
       "      <td>méthodologie, questionnaire (questions clés)</td>\n",
       "      <td>NaN</td>\n",
       "      <td>Value-page8.pdf</td>\n",
       "    </tr>\n",
       "    <tr>\n",
       "      <th>1592</th>\n",
       "      <td>Conception pilote et tokenisation crédit carbo...</td>\n",
       "      <td>NaN</td>\n",
       "      <td>VALUE</td>\n",
       "      <td>Value-page8.pdf</td>\n",
       "    </tr>\n",
       "  </tbody>\n",
       "</table>\n",
       "</div>"
      ],
      "text/plain": [
       "                                              job_title  \\\n",
       "1588             Développement outil monitoring risques   \n",
       "1589  utilisant différentes données textuelles colle...   \n",
       "1590  Réflexion stratégique cadre conception platefo...   \n",
       "1591          Evaluation bilan carbone d'une entreprise   \n",
       "1592  Conception pilote et tokenisation crédit carbo...   \n",
       "\n",
       "                                         skill_required location  \\\n",
       "1588  implémentation chatbot intelligent, outil préd...      NaN   \n",
       "1589  Les techniques de webscrapping ou/et parsing d...      NaN   \n",
       "1590                                                NaN      NaN   \n",
       "1591       méthodologie, questionnaire (questions clés)      NaN   \n",
       "1592                                                NaN    VALUE   \n",
       "\n",
       "                 link  \n",
       "1588  Value-page8.pdf  \n",
       "1589  Value-page8.pdf  \n",
       "1590  Value-page8.pdf  \n",
       "1591  Value-page8.pdf  \n",
       "1592  Value-page8.pdf  "
      ]
     },
     "execution_count": 7,
     "metadata": {},
     "output_type": "execute_result"
    }
   ],
   "source": [
    "df.tail()"
   ]
  },
  {
   "cell_type": "code",
   "execution_count": 8,
   "id": "c1d50faa-6e71-49a3-bcce-4839ce3f7eca",
   "metadata": {},
   "outputs": [
    {
     "name": "stdout",
     "output_type": "stream",
     "text": [
      "<class 'pandas.core.frame.DataFrame'>\n",
      "RangeIndex: 1593 entries, 0 to 1592\n",
      "Data columns (total 4 columns):\n",
      " #   Column          Non-Null Count  Dtype \n",
      "---  ------          --------------  ----- \n",
      " 0   job_title       1572 non-null   object\n",
      " 1   skill_required  1398 non-null   object\n",
      " 2   location        1179 non-null   object\n",
      " 3   link            1593 non-null   object\n",
      "dtypes: object(4)\n",
      "memory usage: 49.9+ KB\n"
     ]
    }
   ],
   "source": [
    "df.info()\n"
   ]
  },
  {
   "cell_type": "code",
   "execution_count": 9,
   "id": "09fdcbf8-514e-428d-aa9e-250e20e23e20",
   "metadata": {},
   "outputs": [
    {
     "data": {
      "text/html": [
       "<div>\n",
       "<style scoped>\n",
       "    .dataframe tbody tr th:only-of-type {\n",
       "        vertical-align: middle;\n",
       "    }\n",
       "\n",
       "    .dataframe tbody tr th {\n",
       "        vertical-align: top;\n",
       "    }\n",
       "\n",
       "    .dataframe thead th {\n",
       "        text-align: right;\n",
       "    }\n",
       "</style>\n",
       "<table border=\"1\" class=\"dataframe\">\n",
       "  <thead>\n",
       "    <tr style=\"text-align: right;\">\n",
       "      <th></th>\n",
       "      <th>job_title</th>\n",
       "      <th>skill_required</th>\n",
       "      <th>location</th>\n",
       "      <th>link</th>\n",
       "    </tr>\n",
       "  </thead>\n",
       "  <tbody>\n",
       "    <tr>\n",
       "      <th>count</th>\n",
       "      <td>1572</td>\n",
       "      <td>1398</td>\n",
       "      <td>1179</td>\n",
       "      <td>1593</td>\n",
       "    </tr>\n",
       "    <tr>\n",
       "      <th>unique</th>\n",
       "      <td>1300</td>\n",
       "      <td>1174</td>\n",
       "      <td>447</td>\n",
       "      <td>597</td>\n",
       "    </tr>\n",
       "    <tr>\n",
       "      <th>top</th>\n",
       "      <td>Not specified</td>\n",
       "      <td>Not specified</td>\n",
       "      <td>France</td>\n",
       "      <td>EY-page5.pdf</td>\n",
       "    </tr>\n",
       "    <tr>\n",
       "      <th>freq</th>\n",
       "      <td>20</td>\n",
       "      <td>38</td>\n",
       "      <td>88</td>\n",
       "      <td>26</td>\n",
       "    </tr>\n",
       "  </tbody>\n",
       "</table>\n",
       "</div>"
      ],
      "text/plain": [
       "            job_title skill_required location          link\n",
       "count            1572           1398     1179          1593\n",
       "unique           1300           1174      447           597\n",
       "top     Not specified  Not specified   France  EY-page5.pdf\n",
       "freq               20             38       88            26"
      ]
     },
     "execution_count": 9,
     "metadata": {},
     "output_type": "execute_result"
    }
   ],
   "source": [
    "df.describe()"
   ]
  },
  {
   "cell_type": "code",
   "execution_count": 10,
   "id": "fb28e5fc-8164-4949-8d9b-9c5b1e7f87c6",
   "metadata": {},
   "outputs": [
    {
     "data": {
      "text/plain": [
       "<AxesSubplot:ylabel='None'>"
      ]
     },
     "execution_count": 10,
     "metadata": {},
     "output_type": "execute_result"
    },
    {
     "data": {
      "image/png": "[encoded data removed]",
      "text/plain": [
       "<Figure size 432x288 with 1 Axes>"
      ]
     },
     "metadata": {},
     "output_type": "display_data"
    }
   ],
   "source": [
    "df.dtypes.value_counts().plot.pie(autopct='%1.0f%%')\n"
   ]
  },
  {
   "cell_type": "code",
   "execution_count": 11,
   "id": "e7463289-ea06-45d0-8da5-532170d2c07b",
   "metadata": {},
   "outputs": [
    {
     "data": {
      "text/plain": [
       "True"
      ]
     },
     "execution_count": 11,
     "metadata": {},
     "output_type": "execute_result"
    }
   ],
   "source": [
    "df.duplicated().values.any()"
   ]
  },
  {
   "cell_type": "code",
   "execution_count": 12,
   "id": "fa47a6d5-b881-4491-b46e-5eb927ab4f4c",
   "metadata": {},
   "outputs": [
    {
     "name": "stdout",
     "output_type": "stream",
     "text": [
      "Number of duplicate rows: 14\n"
     ]
    }
   ],
   "source": [
    "duplicate_rows = df[df.duplicated()]\n",
    "\n",
    "print('Number of duplicate rows:', duplicate_rows.shape[0])"
   ]
  },
  {
   "cell_type": "code",
   "execution_count": 13,
   "id": "d44e3d27-0afc-43fc-8652-66519e07be60",
   "metadata": {},
   "outputs": [],
   "source": [
    "df.drop_duplicates(inplace=True)"
   ]
  },
  {
   "cell_type": "code",
   "execution_count": 14,
   "id": "69335c00-785c-433e-905b-b61576b98a30",
   "metadata": {},
   "outputs": [
    {
     "data": {
      "text/plain": [
       "False"
      ]
     },
     "execution_count": 14,
     "metadata": {},
     "output_type": "execute_result"
    }
   ],
   "source": [
    "df.duplicated().values.any()"
   ]
  },
  {
   "cell_type": "code",
   "execution_count": 15,
   "id": "93f5eff8-967e-4210-b41b-d3b5631a7d9b",
   "metadata": {},
   "outputs": [],
   "source": [
    "# ### To find the anomolities in data\n",
    "# for i in df.columns:\n",
    "#     print('*'*20,i,'*'*20)\n",
    "#     print(df[i].unique())"
   ]
  },
  {
   "cell_type": "code",
   "execution_count": 16,
   "id": "3c6f41f2-dc7a-46ca-b929-2dfd61cbd4a0",
   "metadata": {},
   "outputs": [
    {
     "data": {
      "text/plain": [
       "job_title          21\n",
       "skill_required    195\n",
       "location          414\n",
       "link                0\n",
       "dtype: int64"
      ]
     },
     "execution_count": 16,
     "metadata": {},
     "output_type": "execute_result"
    }
   ],
   "source": [
    "# Vérifier les valeurs manquantes\n",
    "df.isnull().sum()"
   ]
  },
  {
   "cell_type": "code",
   "execution_count": 17,
   "id": "7ac8e3d2-6dc1-4df6-93a3-665034b9c50f",
   "metadata": {},
   "outputs": [
    {
     "data": {
      "text/plain": [
       "'630'"
      ]
     },
     "execution_count": 17,
     "metadata": {},
     "output_type": "execute_result"
    }
   ],
   "source": [
    "#nb de valeurs manquantes\n",
    "str(df.isna().sum().sum())#total"
   ]
  },
  {
   "cell_type": "code",
   "execution_count": 18,
   "id": "2bc95359-b49b-4b98-b23a-6e758fd30f8b",
   "metadata": {},
   "outputs": [
    {
     "data": {
      "text/plain": [
       "link              0.000000\n",
       "job_title         0.013300\n",
       "skill_required    0.123496\n",
       "location          0.262191\n",
       "dtype: float64"
      ]
     },
     "execution_count": 18,
     "metadata": {},
     "output_type": "execute_result"
    }
   ],
   "source": [
    "#afficher la liste de pourcentage des valeurs manquantes pour chaque colonne triée par ordre décroissante\n",
    "(df.isna().sum()/df.shape[0]).sort_values()"
   ]
  },
  {
   "cell_type": "code",
   "execution_count": 19,
   "id": "4f3dbdc4-e28f-40b7-94d1-593baacb0377",
   "metadata": {},
   "outputs": [],
   "source": [
    "df.replace(to_replace = {'Unknown':np.nan,'not specified':np.nan,'Not mentioned':np.nan,'N/A':np.nan,'Non spécifié':np.nan,'Not specified':np.nan,'None':np.nan,'Undefined':np.nan,'Unspecified':np.nan,'ASAP':np.nan,'Nombre stagiaire':np.nan,'6 mois':np.nan,'5-6':np.nan,'[]':np.nan},inplace=True)"
   ]
  },
  {
   "cell_type": "code",
   "execution_count": 20,
   "id": "d0e85371-0fce-4224-9691-432cf321c83f",
   "metadata": {},
   "outputs": [],
   "source": [
    "df=df.drop(df[df['skill_required']=='-'].index)\n",
    "df=df.drop(df[df['job_title']=='1'].index)\n",
    "df=df.drop(df[df['skill_required']=='1'].index)\n",
    "df=df.drop(df[df['job_title']=='-'].index)\n",
    "\n"
   ]
  },
  {
   "cell_type": "code",
   "execution_count": 21,
   "id": "0af4e5db-0a8c-4e59-95b8-f29050fcca3e",
   "metadata": {},
   "outputs": [],
   "source": [
    "df['job_title'].fillna(np.nan, inplace=True)\n",
    "df['skill_required'].fillna(np.nan, inplace=True)\n",
    "df['location'].fillna(np.nan, inplace=True)"
   ]
  },
  {
   "cell_type": "code",
   "execution_count": 22,
   "id": "8663c6ed-c62f-4e55-8138-8d3830f221a2",
   "metadata": {},
   "outputs": [
    {
     "data": {
      "text/plain": [
       "'893'"
      ]
     },
     "execution_count": 22,
     "metadata": {},
     "output_type": "execute_result"
    }
   ],
   "source": [
    "str(df.isna().sum().sum())#total"
   ]
  },
  {
   "cell_type": "code",
   "execution_count": 23,
   "id": "42ee229d-fad0-4006-8037-5f7beb524577",
   "metadata": {},
   "outputs": [
    {
     "data": {
      "text/html": [
       "<div>\n",
       "<style scoped>\n",
       "    .dataframe tbody tr th:only-of-type {\n",
       "        vertical-align: middle;\n",
       "    }\n",
       "\n",
       "    .dataframe tbody tr th {\n",
       "        vertical-align: top;\n",
       "    }\n",
       "\n",
       "    .dataframe thead th {\n",
       "        text-align: right;\n",
       "    }\n",
       "</style>\n",
       "<table border=\"1\" class=\"dataframe\">\n",
       "  <thead>\n",
       "    <tr style=\"text-align: right;\">\n",
       "      <th></th>\n",
       "      <th>job_title</th>\n",
       "      <th>skill_required</th>\n",
       "      <th>location</th>\n",
       "      <th>link</th>\n",
       "    </tr>\n",
       "  </thead>\n",
       "  <tbody>\n",
       "    <tr>\n",
       "      <th>0</th>\n",
       "      <td>DevSecOps</td>\n",
       "      <td>software engineering, data development solutio...</td>\n",
       "      <td>SANTANDERTECHHUB-PROFILES</td>\n",
       "      <td>2022-11-11 Job description junior positions-pa...</td>\n",
       "    </tr>\n",
       "    <tr>\n",
       "      <th>1</th>\n",
       "      <td>Technology Talent</td>\n",
       "      <td>Broad spectrum technologies (including Blockch...</td>\n",
       "      <td>Poland, Portugal, Spain, UK, Mexico, Brazil an...</td>\n",
       "      <td>2022-11-11 Job description junior positions-pa...</td>\n",
       "    </tr>\n",
       "    <tr>\n",
       "      <th>2</th>\n",
       "      <td>DevSecOps Engineer</td>\n",
       "      <td>Collaboration, architecture, design, deploymen...</td>\n",
       "      <td>SANTANDERTECHHUB</td>\n",
       "      <td>2022-11-11 Job description junior positions-pa...</td>\n",
       "    </tr>\n",
       "    <tr>\n",
       "      <th>3</th>\n",
       "      <td>New technologies specialist</td>\n",
       "      <td>Kafka, Java8 (JDK11/17), Spring Cloud Stream, ...</td>\n",
       "      <td>NaN</td>\n",
       "      <td>2022-11-11 Job description junior positions-pa...</td>\n",
       "    </tr>\n",
       "    <tr>\n",
       "      <th>4</th>\n",
       "      <td>Data Management Solution Delivery</td>\n",
       "      <td>Cloudera/Spark/SnowFlake/Databricks/Stratio/Hi...</td>\n",
       "      <td>SantanderTechHub</td>\n",
       "      <td>2022-11-11 Job description junior positions-pa...</td>\n",
       "    </tr>\n",
       "  </tbody>\n",
       "</table>\n",
       "</div>"
      ],
      "text/plain": [
       "                           job_title  \\\n",
       "0                          DevSecOps   \n",
       "1                  Technology Talent   \n",
       "2                 DevSecOps Engineer   \n",
       "3        New technologies specialist   \n",
       "4  Data Management Solution Delivery   \n",
       "\n",
       "                                      skill_required  \\\n",
       "0  software engineering, data development solutio...   \n",
       "1  Broad spectrum technologies (including Blockch...   \n",
       "2  Collaboration, architecture, design, deploymen...   \n",
       "3  Kafka, Java8 (JDK11/17), Spring Cloud Stream, ...   \n",
       "4  Cloudera/Spark/SnowFlake/Databricks/Stratio/Hi...   \n",
       "\n",
       "                                            location  \\\n",
       "0                          SANTANDERTECHHUB-PROFILES   \n",
       "1  Poland, Portugal, Spain, UK, Mexico, Brazil an...   \n",
       "2                                   SANTANDERTECHHUB   \n",
       "3                                                NaN   \n",
       "4                                   SantanderTechHub   \n",
       "\n",
       "                                                link  \n",
       "0  2022-11-11 Job description junior positions-pa...  \n",
       "1  2022-11-11 Job description junior positions-pa...  \n",
       "2  2022-11-11 Job description junior positions-pa...  \n",
       "3  2022-11-11 Job description junior positions-pa...  \n",
       "4  2022-11-11 Job description junior positions-pa...  "
      ]
     },
     "execution_count": 23,
     "metadata": {},
     "output_type": "execute_result"
    }
   ],
   "source": [
    "df.head()"
   ]
  },
  {
   "cell_type": "code",
   "execution_count": 24,
   "id": "97cfc4c8-b868-46ff-aabd-9243bbda45c7",
   "metadata": {},
   "outputs": [
    {
     "data": {
      "text/plain": [
       "job_title          29\n",
       "skill_required    277\n",
       "location          587\n",
       "link                0\n",
       "dtype: int64"
      ]
     },
     "execution_count": 24,
     "metadata": {},
     "output_type": "execute_result"
    }
   ],
   "source": [
    "df.isnull().sum()"
   ]
  },
  {
   "cell_type": "code",
   "execution_count": 25,
   "id": "5bebd977-5130-438b-9167-b667d0b710a4",
   "metadata": {
    "tags": []
   },
   "outputs": [],
   "source": [
    "# skill_counts = df['skill_required'].str.get_dummies(sep=',').sum()\n",
    "\n",
    "# for skill in skill_counts.index:\n",
    "#     df[skill + '_count'] = df['skill_required'].str.contains(skill).astype(int)\n"
   ]
  },
  {
   "cell_type": "code",
   "execution_count": 26,
   "id": "ba91ac0d-ccc1-453a-b383-381b3d2be704",
   "metadata": {},
   "outputs": [
    {
     "data": {
      "text/html": [
       "<div>\n",
       "<style scoped>\n",
       "    .dataframe tbody tr th:only-of-type {\n",
       "        vertical-align: middle;\n",
       "    }\n",
       "\n",
       "    .dataframe tbody tr th {\n",
       "        vertical-align: top;\n",
       "    }\n",
       "\n",
       "    .dataframe thead th {\n",
       "        text-align: right;\n",
       "    }\n",
       "</style>\n",
       "<table border=\"1\" class=\"dataframe\">\n",
       "  <thead>\n",
       "    <tr style=\"text-align: right;\">\n",
       "      <th></th>\n",
       "      <th>job_title</th>\n",
       "      <th>skill_required</th>\n",
       "      <th>location</th>\n",
       "      <th>link</th>\n",
       "    </tr>\n",
       "  </thead>\n",
       "  <tbody>\n",
       "    <tr>\n",
       "      <th>21</th>\n",
       "      <td>NaN</td>\n",
       "      <td>COMPRENDRE LES NOTIONS THEORIQUES DE BASE LINUX</td>\n",
       "      <td>ARIANA</td>\n",
       "      <td>ACTIA-page11.pdf</td>\n",
       "    </tr>\n",
       "    <tr>\n",
       "      <th>22</th>\n",
       "      <td>NaN</td>\n",
       "      <td>REDIGER UN DOCUMENT DE CONCEPTION</td>\n",
       "      <td>ARIANA</td>\n",
       "      <td>ACTIA-page11.pdf</td>\n",
       "    </tr>\n",
       "    <tr>\n",
       "      <th>23</th>\n",
       "      <td>NaN</td>\n",
       "      <td>DEVELOPPER DES TASKS RTOS POUR CONTROLER UN FL...</td>\n",
       "      <td>ARIANA</td>\n",
       "      <td>ACTIA-page11.pdf</td>\n",
       "    </tr>\n",
       "    <tr>\n",
       "      <th>25</th>\n",
       "      <td>NaN</td>\n",
       "      <td>TESTER ET VALIDER LES RÉSULTATS OBTENUS</td>\n",
       "      <td>ARIANA</td>\n",
       "      <td>ACTIA-page11.pdf</td>\n",
       "    </tr>\n",
       "    <tr>\n",
       "      <th>26</th>\n",
       "      <td>NaN</td>\n",
       "      <td>MATÉRIELS: EVALBOARD IMX6</td>\n",
       "      <td>ARIANA</td>\n",
       "      <td>ACTIA-page11.pdf</td>\n",
       "    </tr>\n",
       "    <tr>\n",
       "      <th>27</th>\n",
       "      <td>NaN</td>\n",
       "      <td>LANGAGES DE PROGRAMMATION: C/C++</td>\n",
       "      <td>ARIANA</td>\n",
       "      <td>ACTIA-page11.pdf</td>\n",
       "    </tr>\n",
       "    <tr>\n",
       "      <th>28</th>\n",
       "      <td>NaN</td>\n",
       "      <td>ATELIER/OUTILS DE DÉVELOPPEMENT: VSCODE, UBUNTU</td>\n",
       "      <td>ARIANA</td>\n",
       "      <td>ACTIA-page11.pdf</td>\n",
       "    </tr>\n",
       "    <tr>\n",
       "      <th>122</th>\n",
       "      <td>NaN</td>\n",
       "      <td>NaN</td>\n",
       "      <td>NaN</td>\n",
       "      <td>AIVENTU-page1.pdf</td>\n",
       "    </tr>\n",
       "    <tr>\n",
       "      <th>152</th>\n",
       "      <td>NaN</td>\n",
       "      <td>Issu d'une formation d'école d'ingénieurs</td>\n",
       "      <td>NaN</td>\n",
       "      <td>AS2E AUTOMATION-page10.pdf</td>\n",
       "    </tr>\n",
       "    <tr>\n",
       "      <th>153</th>\n",
       "      <td>NaN</td>\n",
       "      <td>Solides compétences mécatronique</td>\n",
       "      <td>NaN</td>\n",
       "      <td>AS2E AUTOMATION-page10.pdf</td>\n",
       "    </tr>\n",
       "    <tr>\n",
       "      <th>154</th>\n",
       "      <td>NaN</td>\n",
       "      <td>Connaissances Solidworks, Factory I/O</td>\n",
       "      <td>NaN</td>\n",
       "      <td>AS2E AUTOMATION-page10.pdf</td>\n",
       "    </tr>\n",
       "    <tr>\n",
       "      <th>155</th>\n",
       "      <td>NaN</td>\n",
       "      <td>Passionné, bonne capacité d'organisation commu...</td>\n",
       "      <td>NaN</td>\n",
       "      <td>AS2E AUTOMATION-page10.pdf</td>\n",
       "    </tr>\n",
       "    <tr>\n",
       "      <th>156</th>\n",
       "      <td>NaN</td>\n",
       "      <td>Réf:AS2E-PFE-2211-08</td>\n",
       "      <td>NaN</td>\n",
       "      <td>AS2E AUTOMATION-page10.pdf</td>\n",
       "    </tr>\n",
       "    <tr>\n",
       "      <th>157</th>\n",
       "      <td>NaN</td>\n",
       "      <td>Département:Machines Spéciales</td>\n",
       "      <td>NaN</td>\n",
       "      <td>AS2E AUTOMATION-page10.pdf</td>\n",
       "    </tr>\n",
       "    <tr>\n",
       "      <th>158</th>\n",
       "      <td>NaN</td>\n",
       "      <td>Durée:4 mois</td>\n",
       "      <td>NaN</td>\n",
       "      <td>AS2E AUTOMATION-page10.pdf</td>\n",
       "    </tr>\n",
       "    <tr>\n",
       "      <th>253</th>\n",
       "      <td>NaN</td>\n",
       "      <td>Finance</td>\n",
       "      <td>NaN</td>\n",
       "      <td>AxeFinance-page41.pdf</td>\n",
       "    </tr>\n",
       "    <tr>\n",
       "      <th>260</th>\n",
       "      <td>NaN</td>\n",
       "      <td>PRODUCT</td>\n",
       "      <td>NaN</td>\n",
       "      <td>AxeFinance-page6.pdf</td>\n",
       "    </tr>\n",
       "    <tr>\n",
       "      <th>261</th>\n",
       "      <td>NaN</td>\n",
       "      <td>MACRO-ECONOMIC FORECASTING AND MODELLING</td>\n",
       "      <td>NaN</td>\n",
       "      <td>AxeFinance-page6.pdf</td>\n",
       "    </tr>\n",
       "    <tr>\n",
       "      <th>262</th>\n",
       "      <td>NaN</td>\n",
       "      <td>NaN</td>\n",
       "      <td>4 MONTHS</td>\n",
       "      <td>AxeFinance-page6.pdf</td>\n",
       "    </tr>\n",
       "    <tr>\n",
       "      <th>266</th>\n",
       "      <td>NaN</td>\n",
       "      <td>NaN</td>\n",
       "      <td>NaN</td>\n",
       "      <td>AxeFinance-page7.pdf</td>\n",
       "    </tr>\n",
       "    <tr>\n",
       "      <th>392</th>\n",
       "      <td>NaN</td>\n",
       "      <td>NaN</td>\n",
       "      <td>NaN</td>\n",
       "      <td>COFICAB-page4.pdf</td>\n",
       "    </tr>\n",
       "    <tr>\n",
       "      <th>400</th>\n",
       "      <td>NaN</td>\n",
       "      <td>NaN</td>\n",
       "      <td>NaN</td>\n",
       "      <td>COFICAB-page6.pdf</td>\n",
       "    </tr>\n",
       "    <tr>\n",
       "      <th>559</th>\n",
       "      <td>NaN</td>\n",
       "      <td>NaN</td>\n",
       "      <td>Locations</td>\n",
       "      <td>DRAXLMAIER-page4.pdf</td>\n",
       "    </tr>\n",
       "    <tr>\n",
       "      <th>560</th>\n",
       "      <td>NaN</td>\n",
       "      <td>NaN</td>\n",
       "      <td>45YearsofHistory</td>\n",
       "      <td>DRAXLMAIER-page4.pdf</td>\n",
       "    </tr>\n",
       "    <tr>\n",
       "      <th>561</th>\n",
       "      <td>NaN</td>\n",
       "      <td>NaN</td>\n",
       "      <td>45YearsofHistoryDRÄXLMAIERTunisi</td>\n",
       "      <td>DRAXLMAIER-page4.pdf</td>\n",
       "    </tr>\n",
       "    <tr>\n",
       "      <th>562</th>\n",
       "      <td>NaN</td>\n",
       "      <td>NaN</td>\n",
       "      <td>a10000Employees5Locations</td>\n",
       "      <td>DRAXLMAIER-page4.pdf</td>\n",
       "    </tr>\n",
       "    <tr>\n",
       "      <th>563</th>\n",
       "      <td>NaN</td>\n",
       "      <td>NaN</td>\n",
       "      <td>+45YearsofHistory4ExcellenceCenters</td>\n",
       "      <td>DRAXLMAIER-page4.pdf</td>\n",
       "    </tr>\n",
       "    <tr>\n",
       "      <th>593</th>\n",
       "      <td>NaN</td>\n",
       "      <td>NaN</td>\n",
       "      <td>DRÄXLMAIER Sousse, Zone Industrielle Sidi Abde...</td>\n",
       "      <td>DRAXLMAIER-page6.pdf</td>\n",
       "    </tr>\n",
       "    <tr>\n",
       "      <th>1123</th>\n",
       "      <td>NaN</td>\n",
       "      <td>NaN</td>\n",
       "      <td>recrut@aymax.fr</td>\n",
       "      <td>pfe-book-Aymax (1)-page18.pdf</td>\n",
       "    </tr>\n",
       "  </tbody>\n",
       "</table>\n",
       "</div>"
      ],
      "text/plain": [
       "     job_title                                     skill_required  \\\n",
       "21         NaN    COMPRENDRE LES NOTIONS THEORIQUES DE BASE LINUX   \n",
       "22         NaN                  REDIGER UN DOCUMENT DE CONCEPTION   \n",
       "23         NaN  DEVELOPPER DES TASKS RTOS POUR CONTROLER UN FL...   \n",
       "25         NaN            TESTER ET VALIDER LES RÉSULTATS OBTENUS   \n",
       "26         NaN                          MATÉRIELS: EVALBOARD IMX6   \n",
       "27         NaN                   LANGAGES DE PROGRAMMATION: C/C++   \n",
       "28         NaN    ATELIER/OUTILS DE DÉVELOPPEMENT: VSCODE, UBUNTU   \n",
       "122        NaN                                                NaN   \n",
       "152        NaN          Issu d'une formation d'école d'ingénieurs   \n",
       "153        NaN                   Solides compétences mécatronique   \n",
       "154        NaN              Connaissances Solidworks, Factory I/O   \n",
       "155        NaN  Passionné, bonne capacité d'organisation commu...   \n",
       "156        NaN                               Réf:AS2E-PFE-2211-08   \n",
       "157        NaN                     Département:Machines Spéciales   \n",
       "158        NaN                                       Durée:4 mois   \n",
       "253        NaN                                            Finance   \n",
       "260        NaN                                            PRODUCT   \n",
       "261        NaN           MACRO-ECONOMIC FORECASTING AND MODELLING   \n",
       "262        NaN                                                NaN   \n",
       "266        NaN                                                NaN   \n",
       "392        NaN                                                NaN   \n",
       "400        NaN                                                NaN   \n",
       "559        NaN                                                NaN   \n",
       "560        NaN                                                NaN   \n",
       "561        NaN                                                NaN   \n",
       "562        NaN                                                NaN   \n",
       "563        NaN                                                NaN   \n",
       "593        NaN                                                NaN   \n",
       "1123       NaN                                                NaN   \n",
       "\n",
       "                                               location  \\\n",
       "21                                               ARIANA   \n",
       "22                                               ARIANA   \n",
       "23                                               ARIANA   \n",
       "25                                               ARIANA   \n",
       "26                                               ARIANA   \n",
       "27                                               ARIANA   \n",
       "28                                               ARIANA   \n",
       "122                                                 NaN   \n",
       "152                                                 NaN   \n",
       "153                                                 NaN   \n",
       "154                                                 NaN   \n",
       "155                                                 NaN   \n",
       "156                                                 NaN   \n",
       "157                                                 NaN   \n",
       "158                                                 NaN   \n",
       "253                                                 NaN   \n",
       "260                                                 NaN   \n",
       "261                                                 NaN   \n",
       "262                                            4 MONTHS   \n",
       "266                                                 NaN   \n",
       "392                                                 NaN   \n",
       "400                                                 NaN   \n",
       "559                                           Locations   \n",
       "560                                    45YearsofHistory   \n",
       "561                    45YearsofHistoryDRÄXLMAIERTunisi   \n",
       "562                           a10000Employees5Locations   \n",
       "563                 +45YearsofHistory4ExcellenceCenters   \n",
       "593   DRÄXLMAIER Sousse, Zone Industrielle Sidi Abde...   \n",
       "1123                                    recrut@aymax.fr   \n",
       "\n",
       "                               link  \n",
       "21                 ACTIA-page11.pdf  \n",
       "22                 ACTIA-page11.pdf  \n",
       "23                 ACTIA-page11.pdf  \n",
       "25                 ACTIA-page11.pdf  \n",
       "26                 ACTIA-page11.pdf  \n",
       "27                 ACTIA-page11.pdf  \n",
       "28                 ACTIA-page11.pdf  \n",
       "122               AIVENTU-page1.pdf  \n",
       "152      AS2E AUTOMATION-page10.pdf  \n",
       "153      AS2E AUTOMATION-page10.pdf  \n",
       "154      AS2E AUTOMATION-page10.pdf  \n",
       "155      AS2E AUTOMATION-page10.pdf  \n",
       "156      AS2E AUTOMATION-page10.pdf  \n",
       "157      AS2E AUTOMATION-page10.pdf  \n",
       "158      AS2E AUTOMATION-page10.pdf  \n",
       "253           AxeFinance-page41.pdf  \n",
       "260            AxeFinance-page6.pdf  \n",
       "261            AxeFinance-page6.pdf  \n",
       "262            AxeFinance-page6.pdf  \n",
       "266            AxeFinance-page7.pdf  \n",
       "392               COFICAB-page4.pdf  \n",
       "400               COFICAB-page6.pdf  \n",
       "559            DRAXLMAIER-page4.pdf  \n",
       "560            DRAXLMAIER-page4.pdf  \n",
       "561            DRAXLMAIER-page4.pdf  \n",
       "562            DRAXLMAIER-page4.pdf  \n",
       "563            DRAXLMAIER-page4.pdf  \n",
       "593            DRAXLMAIER-page6.pdf  \n",
       "1123  pfe-book-Aymax (1)-page18.pdf  "
      ]
     },
     "execution_count": 26,
     "metadata": {},
     "output_type": "execute_result"
    }
   ],
   "source": [
    "df[df['job_title'].isnull()]"
   ]
  },
  {
   "cell_type": "code",
   "execution_count": 27,
   "id": "b36763dd-bfec-440b-9575-d7aced48d6dc",
   "metadata": {},
   "outputs": [],
   "source": [
    "df=df.dropna(subset=['job_title'])"
   ]
  },
  {
   "cell_type": "code",
   "execution_count": 28,
   "id": "fc40c1eb-2f34-465a-a7ba-b988be4490e1",
   "metadata": {},
   "outputs": [
    {
     "data": {
      "text/html": [
       "<div>\n",
       "<style scoped>\n",
       "    .dataframe tbody tr th:only-of-type {\n",
       "        vertical-align: middle;\n",
       "    }\n",
       "\n",
       "    .dataframe tbody tr th {\n",
       "        vertical-align: top;\n",
       "    }\n",
       "\n",
       "    .dataframe thead th {\n",
       "        text-align: right;\n",
       "    }\n",
       "</style>\n",
       "<table border=\"1\" class=\"dataframe\">\n",
       "  <thead>\n",
       "    <tr style=\"text-align: right;\">\n",
       "      <th></th>\n",
       "      <th>job_title</th>\n",
       "      <th>skill_required</th>\n",
       "      <th>location</th>\n",
       "      <th>link</th>\n",
       "    </tr>\n",
       "  </thead>\n",
       "  <tbody>\n",
       "  </tbody>\n",
       "</table>\n",
       "</div>"
      ],
      "text/plain": [
       "Empty DataFrame\n",
       "Columns: [job_title, skill_required, location, link]\n",
       "Index: []"
      ]
     },
     "execution_count": 28,
     "metadata": {},
     "output_type": "execute_result"
    }
   ],
   "source": [
    "df[df['job_title'].isnull()]\n"
   ]
  },
  {
   "cell_type": "code",
   "execution_count": null,
   "id": "d8219941-1cfe-46cb-8975-9b26f7d43ade",
   "metadata": {},
   "outputs": [],
   "source": []
  },
  {
   "cell_type": "code",
   "execution_count": 29,
   "id": "ee1c0f58-8b8a-4342-8748-679459547f00",
   "metadata": {},
   "outputs": [
    {
     "data": {
      "text/html": [
       "<div>\n",
       "<style scoped>\n",
       "    .dataframe tbody tr th:only-of-type {\n",
       "        vertical-align: middle;\n",
       "    }\n",
       "\n",
       "    .dataframe tbody tr th {\n",
       "        vertical-align: top;\n",
       "    }\n",
       "\n",
       "    .dataframe thead th {\n",
       "        text-align: right;\n",
       "    }\n",
       "</style>\n",
       "<table border=\"1\" class=\"dataframe\">\n",
       "  <thead>\n",
       "    <tr style=\"text-align: right;\">\n",
       "      <th></th>\n",
       "      <th>job_title</th>\n",
       "      <th>skill_required</th>\n",
       "      <th>location</th>\n",
       "      <th>link</th>\n",
       "    </tr>\n",
       "  </thead>\n",
       "  <tbody>\n",
       "    <tr>\n",
       "      <th>14</th>\n",
       "      <td>Disponibilidad viajes puntuales</td>\n",
       "      <td>NaN</td>\n",
       "      <td>NaN</td>\n",
       "      <td>2022-page3.pdf</td>\n",
       "    </tr>\n",
       "    <tr>\n",
       "      <th>29</th>\n",
       "      <td>DESCRIPTION PFE-8</td>\n",
       "      <td>NaN</td>\n",
       "      <td>ARIANA</td>\n",
       "      <td>ACTIA-page11.pdf</td>\n",
       "    </tr>\n",
       "    <tr>\n",
       "      <th>64</th>\n",
       "      <td>Quisommes-nous?</td>\n",
       "      <td>NaN</td>\n",
       "      <td>NaN</td>\n",
       "      <td>Addin-page1.pdf</td>\n",
       "    </tr>\n",
       "    <tr>\n",
       "      <th>65</th>\n",
       "      <td>Commentpostuler?</td>\n",
       "      <td>NaN</td>\n",
       "      <td>NaN</td>\n",
       "      <td>Addin-page1.pdf</td>\n",
       "    </tr>\n",
       "    <tr>\n",
       "      <th>66</th>\n",
       "      <td>Listeprojets</td>\n",
       "      <td>NaN</td>\n",
       "      <td>NaN</td>\n",
       "      <td>Addin-page1.pdf</td>\n",
       "    </tr>\n",
       "    <tr>\n",
       "      <th>...</th>\n",
       "      <td>...</td>\n",
       "      <td>...</td>\n",
       "      <td>...</td>\n",
       "      <td>...</td>\n",
       "    </tr>\n",
       "    <tr>\n",
       "      <th>1572</th>\n",
       "      <td>Heureux élus</td>\n",
       "      <td>NaN</td>\n",
       "      <td>NaN</td>\n",
       "      <td>Value-page5.pdf</td>\n",
       "    </tr>\n",
       "    <tr>\n",
       "      <th>1573</th>\n",
       "      <td>Célébrons ensemble votre première journée chez...</td>\n",
       "      <td>NaN</td>\n",
       "      <td>NaN</td>\n",
       "      <td>Value-page5.pdf</td>\n",
       "    </tr>\n",
       "    <tr>\n",
       "      <th>1582</th>\n",
       "      <td>Refactoring d'une solution intelligente desk t...</td>\n",
       "      <td>NaN</td>\n",
       "      <td>PFE-07</td>\n",
       "      <td>Value-page7.pdf</td>\n",
       "    </tr>\n",
       "    <tr>\n",
       "      <th>1590</th>\n",
       "      <td>Réflexion stratégique cadre conception platefo...</td>\n",
       "      <td>NaN</td>\n",
       "      <td>NaN</td>\n",
       "      <td>Value-page8.pdf</td>\n",
       "    </tr>\n",
       "    <tr>\n",
       "      <th>1592</th>\n",
       "      <td>Conception pilote et tokenisation crédit carbo...</td>\n",
       "      <td>NaN</td>\n",
       "      <td>VALUE</td>\n",
       "      <td>Value-page8.pdf</td>\n",
       "    </tr>\n",
       "  </tbody>\n",
       "</table>\n",
       "<p>265 rows × 4 columns</p>\n",
       "</div>"
      ],
      "text/plain": [
       "                                              job_title skill_required  \\\n",
       "14                      Disponibilidad viajes puntuales            NaN   \n",
       "29                                    DESCRIPTION PFE-8            NaN   \n",
       "64                                      Quisommes-nous?            NaN   \n",
       "65                                     Commentpostuler?            NaN   \n",
       "66                                         Listeprojets            NaN   \n",
       "...                                                 ...            ...   \n",
       "1572                                       Heureux élus            NaN   \n",
       "1573  Célébrons ensemble votre première journée chez...            NaN   \n",
       "1582  Refactoring d'une solution intelligente desk t...            NaN   \n",
       "1590  Réflexion stratégique cadre conception platefo...            NaN   \n",
       "1592  Conception pilote et tokenisation crédit carbo...            NaN   \n",
       "\n",
       "     location              link  \n",
       "14        NaN    2022-page3.pdf  \n",
       "29     ARIANA  ACTIA-page11.pdf  \n",
       "64        NaN   Addin-page1.pdf  \n",
       "65        NaN   Addin-page1.pdf  \n",
       "66        NaN   Addin-page1.pdf  \n",
       "...       ...               ...  \n",
       "1572      NaN   Value-page5.pdf  \n",
       "1573      NaN   Value-page5.pdf  \n",
       "1582   PFE-07   Value-page7.pdf  \n",
       "1590      NaN   Value-page8.pdf  \n",
       "1592    VALUE   Value-page8.pdf  \n",
       "\n",
       "[265 rows x 4 columns]"
      ]
     },
     "execution_count": 29,
     "metadata": {},
     "output_type": "execute_result"
    }
   ],
   "source": [
    "df[df['skill_required'].isnull()]"
   ]
  },
  {
   "cell_type": "code",
   "execution_count": 30,
   "id": "b3b7b40e-6108-4ace-8da1-1755ce5e4c52",
   "metadata": {},
   "outputs": [],
   "source": [
    "df=df.dropna(subset=['skill_required'])"
   ]
  },
  {
   "cell_type": "code",
   "execution_count": 31,
   "id": "b4f97ef7-aec8-4a48-ae75-5ad8908fb57a",
   "metadata": {},
   "outputs": [
    {
     "data": {
      "text/plain": [
       "'0'"
      ]
     },
     "execution_count": 31,
     "metadata": {},
     "output_type": "execute_result"
    }
   ],
   "source": [
    "str(df['skill_required'].isna().sum())"
   ]
  },
  {
   "cell_type": "code",
   "execution_count": 32,
   "id": "777e87d2-e36e-4329-88da-d393d2bb78ad",
   "metadata": {},
   "outputs": [
    {
     "name": "stdout",
     "output_type": "stream",
     "text": [
      "                                   job_title  \\\n",
      "0                                  DevSecOps   \n",
      "1                          Technology Talent   \n",
      "2                         DevSecOps Engineer   \n",
      "3                New technologies specialist   \n",
      "4          Data Management Solution Delivery   \n",
      "...                                      ...   \n",
      "1586            Analysis of application logs   \n",
      "1587              Build a reference database   \n",
      "1588     Development of risk monitoring tool   \n",
      "1589  using different collected textual data   \n",
      "1591          Carbon assessment of a company   \n",
      "\n",
      "                                         skill_required  \\\n",
      "0     software engineering, data development solutio...   \n",
      "1     Broad spectrum technologies (including Blockch...   \n",
      "2     Collaboration, architecture, design, deploymen...   \n",
      "3     Kafka, Java8 (JDK11/17), Spring Cloud Stream, ...   \n",
      "4     Cloudera/Spark/SnowFlake/Databricks/Stratio/Hi...   \n",
      "...                                                 ...   \n",
      "1586  to identify operational anomalies, performance...   \n",
      "1587  on the IS, document and produce the common dat...   \n",
      "1588  intelligent chatbot implementation, predictive...   \n",
      "1589  Techniques for webscrapping and/or parsing pdf...   \n",
      "1591         methodology, questionnaire (key questions)   \n",
      "\n",
      "                                               location  \\\n",
      "0                             SANTANDERTECHHUB-PROFILES   \n",
      "1     Poland, Portugal, Spain, UK, Mexico, Brazil an...   \n",
      "2                                      SANTANDERTECHHUB   \n",
      "3                                                    in   \n",
      "4                                      SantanderTechHub   \n",
      "...                                                 ...   \n",
      "1586                                             PFE-11   \n",
      "1587                                             PFE-12   \n",
      "1588                                                 in   \n",
      "1589                                                 in   \n",
      "1591                                                 in   \n",
      "\n",
      "                                                   link  \n",
      "0     2022-11-11 Job description junior positions-pa...  \n",
      "1     2022-11-11 Job description junior positions-pa...  \n",
      "2     2022-11-11 Job description junior positions-pa...  \n",
      "3     2022-11-11 Job description junior positions-pa...  \n",
      "4     2022-11-11 Job description junior positions-pa...  \n",
      "...                                                 ...  \n",
      "1586                                    Value-page7.pdf  \n",
      "1587                                    Value-page7.pdf  \n",
      "1588                                    Value-page8.pdf  \n",
      "1589                                    Value-page8.pdf  \n",
      "1591                                    Value-page8.pdf  \n",
      "\n",
      "[1274 rows x 4 columns]\n"
     ]
    }
   ],
   "source": [
    "from googletrans import Translator\n",
    "\n",
    "translator = Translator()\n",
    "\n",
    "\n",
    "\n",
    "# create a function to translate a single string value\n",
    "def translate_text(text):\n",
    "    translation = translator.translate(text)\n",
    "    return translation.text\n",
    "\n",
    "# apply the translation function to all cells of the dataframe\n",
    "df.iloc[:, :-1] = df.iloc[:, :-1].applymap(lambda x: translate_text(x))\n",
    "\n",
    "# display the translated dataframe\n",
    "print(df)"
   ]
  },
  {
   "cell_type": "code",
   "execution_count": 34,
   "id": "210ff69f-90d9-478a-bcc5-56ba165cd7dc",
   "metadata": {},
   "outputs": [],
   "source": [
    "df.to_excel(\"df_noNA.xlsx\")\n"
   ]
  },
  {
   "cell_type": "code",
   "execution_count": 35,
   "id": "27f8b948-59c3-49c3-89f8-c005ffb14ce3",
   "metadata": {},
   "outputs": [
    {
     "data": {
      "text/plain": [
       "(1274, 4)"
      ]
     },
     "execution_count": 35,
     "metadata": {},
     "output_type": "execute_result"
    }
   ],
   "source": [
    "df.shape"
   ]
  },
  {
   "cell_type": "code",
   "execution_count": null,
   "id": "331da486-7d4a-4ce8-9f67-7f47f36a36a3",
   "metadata": {},
   "outputs": [],
   "source": [
    "import plotly.graph_objects as go\n",
    "desc_count1 = df['location'].value_counts().reset_index().rename(columns={'index':'index','location':'count'})\n",
    "fig = go.Figure(go.Bar(\n",
    "    x = desc_count1['index'],y = desc_count1['count'],text=desc_count1['count'],marker={'color': desc_count1['count']}\n",
    "    ,textposition = \"outside\"))\n",
    "fig.update_layout(title_text='Count plot of locations\t',xaxis_title=\"\tlocation\t status\",yaxis_title=\"Number of count\")\n",
    "fig.show()"
   ]
  }
 ],
 "metadata": {
  "kernelspec": {
   "display_name": "Python 3 (ipykernel)",
   "language": "python",
   "name": "python3"
  },
  "language_info": {
   "codemirror_mode": {
    "name": "ipython",
    "version": 3
   },
   "file_extension": ".py",
   "mimetype": "text/x-python",
   "name": "python",
   "nbconvert_exporter": "python",
   "pygments_lexer": "ipython3",
   "version": "3.9.12"
  }
 },
 "nbformat": 4,
 "nbformat_minor": 5
}
