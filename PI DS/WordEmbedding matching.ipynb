{
 "cells": [
  {
   "cell_type": "markdown",
   "id": "47bffeaf-415c-48f2-b60e-82badad61444",
   "metadata": {
    "tags": []
   },
   "source": [
    "### Matching"
   ]
  },
  {
   "cell_type": "code",
   "execution_count": 1,
   "id": "b7bee305-f827-4c7d-ae61-db70e63507ba",
   "metadata": {},
   "outputs": [],
   "source": [
    "import pandas as pd"
   ]
  },
  {
   "cell_type": "code",
   "execution_count": 2,
   "id": "549b8857-fa8d-47ee-860b-6ace8478cf37",
   "metadata": {},
   "outputs": [],
   "source": [
    "df1=pd.read_excel('CSV\\\\prepared_job_data.xlsx')\n",
    "df2=pd.read_csv('CSV\\\\PreparedCV.csv')"
   ]
  },
  {
   "cell_type": "code",
   "execution_count": 3,
   "id": "fbab880f-9db0-4dab-aaed-0c826797f2ce",
   "metadata": {},
   "outputs": [],
   "source": [
    "df1 = df1.drop('Unnamed: 0', axis=1)"
   ]
  },
  {
   "cell_type": "code",
   "execution_count": 4,
   "id": "f0e3f245-23d5-4796-88c1-4c537923983d",
   "metadata": {},
   "outputs": [],
   "source": [
    "df1.to_csv('CSV\\\\job_offers.csv', index=False)"
   ]
  },
  {
   "cell_type": "code",
   "execution_count": 4,
   "id": "89824aa5-28ca-4c6a-9a60-f1af251dfbee",
   "metadata": {},
   "outputs": [],
   "source": [
    "df1.to_json('CSV\\\\Jobs.json', orient='records')"
   ]
  },
  {
   "cell_type": "code",
   "execution_count": 5,
   "id": "4a222fbd-24a9-4f03-9179-53f184c60e50",
   "metadata": {},
   "outputs": [
    {
     "name": "stdout",
     "output_type": "stream",
     "text": [
      "0       software engineering, data development solutio...\n",
      "1       Broad spectrum technologies (including Blockch...\n",
      "2       Collaboration, architecture, design, deploymen...\n",
      "3       Kafka, Java8 (JDK11/17), Spring Cloud Stream, ...\n",
      "4       Cloudera/Spark/SnowFlake/Databricks/Stratio/Hi...\n",
      "                              ...                        \n",
      "1293    pour identifier des anomalies de fonctionnemen...\n",
      "1294    globale sur le SI, documenter et produire le m...\n",
      "1295    implémentation chatbot intelligent, outil préd...\n",
      "1296    Les techniques de webscrapping ou/et parsing d...\n",
      "1297         méthodologie, questionnaire (questions clés)\n",
      "Name: skill_required, Length: 1298, dtype: object\n"
     ]
    }
   ],
   "source": [
    "print(df1['skill_required'])\n"
   ]
  },
  {
   "cell_type": "code",
   "execution_count": null,
   "id": "fd72f297-16d8-48a4-8a02-cc5a48309f50",
   "metadata": {},
   "outputs": [],
   "source": []
  },
  {
   "cell_type": "code",
   "execution_count": 152,
   "id": "5ea59cf2-d537-4af6-a9ee-9f7bfed38704",
   "metadata": {},
   "outputs": [
    {
     "name": "stdout",
     "output_type": "stream",
     "text": [
      "                                                   URL  \\\n",
      "0                https://www.linkedin.com/in/talel-kb/   \n",
      "1         https://www.linkedin.com/in/omar-talbi-sfax/   \n",
      "2    https://www.linkedin.com/in/hassen-knani-21991...   \n",
      "3            https://www.linkedin.com/in/safwendammak/   \n",
      "4    https://www.linkedin.com/in/oumayma-b%C3%A9hi-...   \n",
      "..                                                 ...   \n",
      "429  https://www.linkedin.com/in/khaoula-ben-othman...   \n",
      "430  https://www.linkedin.com/in/farah-abid-989683191/   \n",
      "431  https://www.linkedin.com/in/achref-cherif-data...   \n",
      "432          https://www.linkedin.com/in/hamza-samaiy/   \n",
      "433  https://www.linkedin.com/in/zitouni-amal-286b9...   \n",
      "\n",
      "                                             job_title                Name  \\\n",
      "0          web developer  software engineering student        Talel Kbaier   \n",
      "1                              freelance web developer          Omar Talbi   \n",
      "2                           web developer chez zetabox        Hassen Knani   \n",
      "3                              freelance web developer       Safwen Dammak   \n",
      "4                              web  mobile developer 💻        Oumayma Béhi   \n",
      "..                                                 ...                 ...   \n",
      "429                              data science engineer  khaoula Ben othman   \n",
      "430                            data science enthusiast          Farah Abid   \n",
      "431  data scientist  founder  ceo of data science t...       Achref Cherif   \n",
      "432       data science master student  works at vermeg        Hamza Samaiy   \n",
      "433  ingénieur en informatique  spécialité data sci...        Zitouni Amal   \n",
      "\n",
      "                                                skills  \\\n",
      "0    analyse donnees competences analytiques framew...   \n",
      "1    laravel react javascript php microsoft bot fra...   \n",
      "2    management service client microsoft office ven...   \n",
      "3    angular phpsymfony developpement web developpe...   \n",
      "4                                            mentioned   \n",
      "..                                                 ...   \n",
      "429  mongodb rstudio business intelligence bi pyspa...   \n",
      "430  analyse donnees nlp extraction donnees python ...   \n",
      "431  extract transform load etl analytical skills d...   \n",
      "432  developpement web javascript php laravel feuil...   \n",
      "433  microsoft azure machine learning apprentissage...   \n",
      "\n",
      "                                           experiences  \n",
      "0    Développeur web:janv. 2023 - aujourd’hui · 2 m...  \n",
      "1    Freelance Web Developer:août 2019 - aujourd’hu...  \n",
      "2    React Js Instructor:mars 2022 - aujourd’hui · ...  \n",
      "3    Web Developer:oct. 2020 - févr. 2022 · 1 an 5 ...  \n",
      "4    Projet de fin d’études:févr. 2022 - juin 2022 ...  \n",
      "..                                                 ...  \n",
      "429                                    nan:nan,nan:nan  \n",
      "430  Data Science Intern:Oct 2022 - Present · 5 mos...  \n",
      "431  Data Scientist:Sep 2020 - Present · 2 yrs 6 mo...  \n",
      "432  Software Programmer:Jan 2023 - Present · 2 mos...  \n",
      "433  Ingénieur BI:Oct 2022 - Present · 5 mos,Member...  \n",
      "\n",
      "[434 rows x 5 columns]\n"
     ]
    }
   ],
   "source": [
    "print(df2)"
   ]
  },
  {
   "cell_type": "code",
   "execution_count": 6,
   "id": "21f888a2-de91-4a01-a90f-5e4f7ee8a5e4",
   "metadata": {},
   "outputs": [
    {
     "data": {
      "text/plain": [
       "0      analyse donnees competences analytiques framew...\n",
       "1      laravel react javascript php microsoft bot fra...\n",
       "2      management service client microsoft office ven...\n",
       "3      angular phpsymfony developpement web developpe...\n",
       "4                                              mentioned\n",
       "                             ...                        \n",
       "429    mongodb rstudio business intelligence bi pyspa...\n",
       "430    analyse donnees nlp extraction donnees python ...\n",
       "431    extract transform load etl analytical skills d...\n",
       "432    developpement web javascript php laravel feuil...\n",
       "433    microsoft azure machine learning apprentissage...\n",
       "Name: skills, Length: 434, dtype: object"
      ]
     },
     "execution_count": 6,
     "metadata": {},
     "output_type": "execute_result"
    }
   ],
   "source": [
    "df2['skills'].dropna()"
   ]
  },
  {
   "cell_type": "code",
   "execution_count": 7,
   "id": "1394640c-7254-4464-bdd9-036d6166c00b",
   "metadata": {},
   "outputs": [
    {
     "name": "stdout",
     "output_type": "stream",
     "text": [
      "management service client microsoft office vente gestion projet robotique gestion risques microcontroleurs mysql arduino microsoft word matlab labview solidworks leadership communication gestion d'equipe expressjs programmation javascript bootstrap mongodb reduxjs reactjs nodejs css\n"
     ]
    }
   ],
   "source": [
    "print(df2['skills'][2])"
   ]
  },
  {
   "cell_type": "code",
   "execution_count": 8,
   "id": "6a96bcf8-e76f-4813-b8ac-fddfed78a6b0",
   "metadata": {},
   "outputs": [
    {
     "name": "stdout",
     "output_type": "stream",
     "text": [
      "Collaboration, architecture, design, deployment solutions, system integration, automation, execution support, pipeline deployments, ALM tools, cyber security, SW deployments, automation functional regression tests, continuous integration, environments infrastructures, continuous monitoring, automatic deployment tools (Terraform, Ansible, etc.), cloud architectures (vCloud, Azure/AWS), monitoring tools, OpenShift/DockerHub/Kubernetes/CloudALM, Jira/Confluence, Git, Jenkins (CloudBees), Nexus, SonarHarbour, scripting languages (Groovy, Python, JavaScript, etc.), PostgreSQL, MongoDB, AzureCosmosDB\n"
     ]
    }
   ],
   "source": [
    "print(df1['skill_required'][2])"
   ]
  },
  {
   "cell_type": "markdown",
   "id": "80d1a877-ef3e-42d7-ad48-e90cd0b4821c",
   "metadata": {},
   "source": [
    "## preparation for words embedding of jobs dataset"
   ]
  },
  {
   "cell_type": "markdown",
   "id": "4fd87425-159e-44c2-953f-fb6f3d23799f",
   "metadata": {},
   "source": [
    "removing stop words from skill_required column"
   ]
  },
  {
   "cell_type": "code",
   "execution_count": 9,
   "id": "1ddb7e11-62ec-44fa-b12c-3bbe34bf199b",
   "metadata": {},
   "outputs": [
    {
     "name": "stderr",
     "output_type": "stream",
     "text": [
      "[nltk_data] Downloading package stopwords to C:\\Users\\MSI\n",
      "[nltk_data]     GF63\\AppData\\Roaming\\nltk_data...\n",
      "[nltk_data]   Package stopwords is already up-to-date!\n",
      "[nltk_data] Downloading package punkt to C:\\Users\\MSI\n",
      "[nltk_data]     GF63\\AppData\\Roaming\\nltk_data...\n",
      "[nltk_data]   Package punkt is already up-to-date!\n"
     ]
    },
    {
     "data": {
      "text/plain": [
       "True"
      ]
     },
     "execution_count": 9,
     "metadata": {},
     "output_type": "execute_result"
    }
   ],
   "source": [
    "import nltk\n",
    "from nltk.corpus import stopwords\n",
    "from nltk.tokenize import word_tokenize\n",
    "\n",
    "nltk.download('stopwords')\n",
    "nltk.download('punkt')\n",
    "\n",
    "\n"
   ]
  },
  {
   "cell_type": "code",
   "execution_count": 12,
   "id": "c735ced0-c81f-49c5-8dfd-e03dcc863273",
   "metadata": {},
   "outputs": [],
   "source": [
    "stop_words = set(stopwords.words('english'))\n",
    "\n",
    "def clean(text):\n",
    "    tokens = word_tokenize(text)\n",
    "\n",
    "    filtered_tokens = [word for word in tokens if not word.lower() in stop_words]\n",
    "\n",
    "    filtered_text = ' '.join(filtered_tokens)\n",
    "    return filtered_text"
   ]
  },
  {
   "cell_type": "code",
   "execution_count": 13,
   "id": "0db1f787-3fef-4ff7-8bda-02a38004ed66",
   "metadata": {},
   "outputs": [],
   "source": [
    "df1['skill_required'] = df1['skill_required'].apply(clean)\n",
    "df2['skills'] = df2['skills'].apply(clean)\n"
   ]
  },
  {
   "cell_type": "code",
   "execution_count": 14,
   "id": "760d2e1d-b70d-4437-bab5-40746c54ec5d",
   "metadata": {},
   "outputs": [
    {
     "name": "stdout",
     "output_type": "stream",
     "text": [
      "Cloudera/Spark/SnowFlake/Databricks/Stratio/Hive/Impala/HBase , Spark Streaming/Flink/Storm , API Ecosystems , HDFS , S3 , Kafka , Scala/Python/Java , CI/CD , Google/AWS/Azure\n"
     ]
    }
   ],
   "source": [
    "print(df1['skill_required'][4])"
   ]
  },
  {
   "cell_type": "code",
   "execution_count": 15,
   "id": "6a01603a-3fa7-45e7-ae21-252dba83c6df",
   "metadata": {},
   "outputs": [
    {
     "name": "stdout",
     "output_type": "stream",
     "text": [
      "angular phpsymfony developpement web developpement logiciels applications web conception technique methodes agiles gestion projet developpement frontend javascript jquery php wordpress xml json plsql uml html symfony cakephp typescript developpement web backend framework symfony conception frontend git mysql sql twitter bootstrap ajax feuilles style cascade css linux api rest\n"
     ]
    }
   ],
   "source": [
    "print(df2['skills'][3])"
   ]
  },
  {
   "cell_type": "code",
   "execution_count": 16,
   "id": "bc9a78e2-c36c-4abd-ac06-8b2446000473",
   "metadata": {},
   "outputs": [],
   "source": [
    "import ast\n",
    "#list_from_string = ast.literal_eval(\"['Python', 'AI', 'Digitallending']\")\n",
    "\n",
    "#print(list_from_string)\n",
    "def tolist(text):\n",
    "    try:\n",
    "        split_skills= ast.literal_eval(text)\n",
    "        split_skills = [item.split('/') for item in split_skills]\n",
    "        flat_list = [item.strip() for sublist in split_skills for item in sublist]\n",
    "        return flat_list \n",
    "    except:\n",
    "        split_skills=text.split(',')\n",
    "        split_skills = [item.split('/') for item in split_skills]\n",
    "        flat_list = [item.strip() for sublist in split_skills for item in sublist]\n",
    "        return flat_list \n",
    "\n",
    "        \n",
    "df1['skill_required'] = df1['skill_required'].apply(tolist)\n",
    "df2['skills'] = df2['skills'].apply(tolist)\n"
   ]
  },
  {
   "cell_type": "code",
   "execution_count": 17,
   "id": "6e157f13-0b1e-45d1-96b8-329271238ef5",
   "metadata": {},
   "outputs": [
    {
     "name": "stdout",
     "output_type": "stream",
     "text": [
      "['laravel react javascript php microsoft bot framework java testng selenium testing management programming language objectoriented programming oop unity sql databases microsoft power automate sharepoint microsoft power apps azure functions cloud computing automation agile methodologies microsoft azure microsoft office python programming language nosql']\n"
     ]
    }
   ],
   "source": [
    "print(df2['skills'][1])"
   ]
  },
  {
   "cell_type": "code",
   "execution_count": 18,
   "id": "3ffba0d5-6402-414c-af53-561bf4f39c0d",
   "metadata": {},
   "outputs": [
    {
     "name": "stdout",
     "output_type": "stream",
     "text": [
      "['Broad spectrum technologies ( including Blockchain', 'Big Data', 'Angular ) kinds premise & cloud-based platforms']\n"
     ]
    }
   ],
   "source": [
    "print(df1['skill_required'][1])"
   ]
  },
  {
   "cell_type": "markdown",
   "id": "96279301-f365-44b3-9a1a-8ab43462932d",
   "metadata": {},
   "source": [
    "dataframe where every skill is a column "
   ]
  },
  {
   "cell_type": "code",
   "execution_count": 19,
   "id": "a00ae538-3a66-4053-9690-98603575194b",
   "metadata": {},
   "outputs": [],
   "source": [
    "# create a set of all unique skills\n",
    "all_skills = set([skill for skills_list in df1['skill_required'] for skill in skills_list])\n",
    "\n",
    "# create a dictionary with keys as skills and values as empty lists\n",
    "skills_dict = {skill: [] for skill in all_skills}\n",
    "\n",
    "# fill the dictionary with 1 or 0 depending on whether the skill is present or not in the skills list\n",
    "for skills_list in df1['skill_required']:\n",
    "    for skill in all_skills:\n",
    "        if skill in skills_list:\n",
    "            skills_dict[skill].append(1)\n",
    "        else:\n",
    "            skills_dict[skill].append(0)\n",
    "\n",
    "# create a new data frame from the dictionary\n",
    "skills_df = pd.DataFrame.from_dict(skills_dict)\n"
   ]
  },
  {
   "cell_type": "markdown",
   "id": "e11a6715-8127-4aa8-95b3-3509a2b1a7d6",
   "metadata": {},
   "source": [
    "## Cosinie Similarity"
   ]
  },
  {
   "cell_type": "markdown",
   "id": "99238a15-625f-4487-973f-c6d1239d0c0a",
   "metadata": {},
   "source": [
    "word embedding"
   ]
  },
  {
   "cell_type": "code",
   "execution_count": 20,
   "id": "4ff1774c-a49c-40e3-8842-b4a2e717e461",
   "metadata": {},
   "outputs": [],
   "source": [
    "import gensim.downloader as api\n",
    "import numpy as np\n",
    "wv = api.load('word2vec-google-news-300')\n"
   ]
  },
  {
   "cell_type": "code",
   "execution_count": 21,
   "id": "0d300547-7f20-4f63-aca3-dad349160eec",
   "metadata": {},
   "outputs": [
    {
     "name": "stderr",
     "output_type": "stream",
     "text": [
      "[nltk_data] Downloading package wordnet to C:\\Users\\MSI\n",
      "[nltk_data]     GF63\\AppData\\Roaming\\nltk_data...\n",
      "[nltk_data]   Package wordnet is already up-to-date!\n"
     ]
    }
   ],
   "source": [
    "import os\n",
    "import gensim\n",
    "from gensim.utils import simple_preprocess\n",
    "from gensim.parsing.preprocessing import STOPWORDS\n",
    "from gensim.parsing.preprocessing import remove_stopwords\n",
    "from nltk.stem import WordNetLemmatizer, SnowballStemmer\n",
    "from nltk.stem.porter import *\n",
    "import numpy as np\n",
    "np.random.seed(2018)\n",
    "from gensim.models import Word2Vec\n",
    "import nltk\n",
    "nltk.download('wordnet')\n",
    "stemmer = SnowballStemmer('english')\n",
    "\n",
    "from numpy import dot\n",
    "from numpy.linalg import norm"
   ]
  },
  {
   "cell_type": "code",
   "execution_count": 22,
   "id": "41999fe5-4a15-472a-be50-f746cf1d86b9",
   "metadata": {},
   "outputs": [
    {
     "name": "stderr",
     "output_type": "stream",
     "text": [
      "[nltk_data] Downloading package omw-1.4 to C:\\Users\\MSI\n",
      "[nltk_data]     GF63\\AppData\\Roaming\\nltk_data...\n",
      "[nltk_data]   Package omw-1.4 is already up-to-date!\n"
     ]
    },
    {
     "data": {
      "text/plain": [
       "True"
      ]
     },
     "execution_count": 22,
     "metadata": {},
     "output_type": "execute_result"
    }
   ],
   "source": [
    "import nltk\n",
    "nltk.download('omw-1.4')"
   ]
  },
  {
   "cell_type": "code",
   "execution_count": 23,
   "id": "5c9ef01b-49c7-4b11-b5ce-ac3737a54d78",
   "metadata": {},
   "outputs": [],
   "source": [
    "def lemmatize_stemming(text):\n",
    "    return stemmer.stem(WordNetLemmatizer().lemmatize(text, pos='v'))\n",
    "def preprocess(text):\n",
    "    result = []\n",
    "    text=str(text)\n",
    "    # Remove stopwords from the text\n",
    "    text = remove_stopwords(text)\n",
    "    for token in gensim.utils.simple_preprocess(text):\n",
    "        if token not in gensim.parsing.preprocessing.STOPWORDS and len(token) > 3:\n",
    "            if token == 'xxxx':\n",
    "                continue\n",
    "            result.append(lemmatize_stemming(token))\n",
    "    \n",
    "    return result"
   ]
  },
  {
   "cell_type": "code",
   "execution_count": 24,
   "id": "3b576a1e-8526-4fb9-9a29-0edfb848c177",
   "metadata": {},
   "outputs": [],
   "source": [
    "processed_docs=df1['skill_required'].map(preprocess)"
   ]
  },
  {
   "cell_type": "code",
   "execution_count": 25,
   "id": "09735d38-0d45-4d1b-8afa-5c02440282ed",
   "metadata": {},
   "outputs": [],
   "source": [
    "p=df2['skills'].map(preprocess)"
   ]
  },
  {
   "cell_type": "code",
   "execution_count": 26,
   "id": "c83931af-b456-401b-bc1a-720d62a3e04c",
   "metadata": {},
   "outputs": [
    {
     "name": "stdout",
     "output_type": "stream",
     "text": [
      "['program', 'languag', 'microsoft', 'excel', 'javascript', 'program', 'program', 'concept', 'html', 'design', 'small', 'busi', 'manag', 'design', 'theori', 'cascad', 'style', 'sheet', 'python', 'program', 'languag', 'adob', 'photoshop', 'experi', 'utilisateur', 'feuill', 'style', 'cascad', 'graphiqu', 'illustr', 'graphism', 'standard', 'bootstrap', 'developp', 'developp', 'frontend', 'frontend', 'develop', 'develop', 'standard', 'user', 'experi', 'access', 'access', 'typographi', 'typographi', 'site', 'adaptatif', 'sass', 'stylesheet', 'languag', 'nodej']\n"
     ]
    }
   ],
   "source": [
    "print(p[5])"
   ]
  },
  {
   "cell_type": "code",
   "execution_count": 27,
   "id": "9c1107dd-96a1-4a52-8254-3666ee76e86e",
   "metadata": {},
   "outputs": [
    {
     "name": "stdout",
     "output_type": "stream",
     "text": [
      "['valorará', 'acreditar', 'experiencia', 'profesion', 'buena', 'soft', 'skill', 'buena', 'capacidad', 'comunicativa', 'relación', 'nivel', 'proactivo', 'miedo', 'cambio', 'orientado', 'objetivo', 'buena', 'habilidad', 'ofimática', 'excel', 'powerpoint', 'necesario', 'buen', 'nivel', 'inglé']\n"
     ]
    }
   ],
   "source": [
    "print(processed_docs[13])"
   ]
  },
  {
   "cell_type": "code",
   "execution_count": 28,
   "id": "887184d1-cbd4-4c86-aa58-a7fe13bde7b5",
   "metadata": {},
   "outputs": [
    {
     "name": "stdout",
     "output_type": "stream",
     "text": [
      "1298\n"
     ]
    }
   ],
   "source": [
    "print(len(processed_docs))"
   ]
  },
  {
   "cell_type": "code",
   "execution_count": 29,
   "id": "44e7a679-ef4c-4553-a14f-511ebbd5b531",
   "metadata": {},
   "outputs": [
    {
     "name": "stdout",
     "output_type": "stream",
     "text": [
      "434\n"
     ]
    }
   ],
   "source": [
    "print(len(p))"
   ]
  },
  {
   "cell_type": "code",
   "execution_count": 30,
   "id": "db0244d8-16b2-4c26-814b-addab5ad64a8",
   "metadata": {},
   "outputs": [],
   "source": [
    "processed_data=pd.concat([processed_docs,p])"
   ]
  },
  {
   "cell_type": "code",
   "execution_count": 31,
   "id": "cf5a38d5-8d44-4078-9583-97e56f427a85",
   "metadata": {},
   "outputs": [],
   "source": [
    "processed_data2=processed_data.map(preprocess)"
   ]
  },
  {
   "cell_type": "code",
   "execution_count": 32,
   "id": "e706ff3a-6cd7-4453-a923-ecd75c03a1d0",
   "metadata": {},
   "outputs": [],
   "source": [
    "processed_data=pd.concat([processed_data,processed_data2])"
   ]
  },
  {
   "cell_type": "code",
   "execution_count": 33,
   "id": "eb8955e2-a26c-4cdf-a6e1-3e9115d3d819",
   "metadata": {},
   "outputs": [
    {
     "name": "stdout",
     "output_type": "stream",
     "text": [
      "3464\n"
     ]
    }
   ],
   "source": [
    "print(len(processed_data))"
   ]
  },
  {
   "cell_type": "code",
   "execution_count": 34,
   "id": "9ab3b6c4-6c3f-4e6d-aeee-83d27f0db5a9",
   "metadata": {},
   "outputs": [],
   "source": [
    "def word2vec_model():\n",
    "    w2v_model = Word2Vec(min_count=1,\n",
    "                     window=3,\n",
    "                     vector_size=50,\n",
    "                     sample=6e-5, \n",
    "                     alpha=0.03, \n",
    "                     min_alpha=0.0007, \n",
    "                     negative=20)\n",
    "    \n",
    "    w2v_model.build_vocab(processed_data)\n",
    "    w2v_model.train(processed_data, total_examples=w2v_model.corpus_count, epochs=300, report_delay=1)\n",
    "    \n",
    "    return w2v_model"
   ]
  },
  {
   "cell_type": "code",
   "execution_count": 35,
   "id": "255b88d8-9832-415c-a8a3-4ebeb7d74537",
   "metadata": {},
   "outputs": [],
   "source": [
    "w2v_model = word2vec_model()\n",
    "w2v_model.save('word2vec_model_noSW')"
   ]
  },
  {
   "cell_type": "code",
   "execution_count": 36,
   "id": "8c414702-4a3a-4f4d-bad8-61c86fae7822",
   "metadata": {},
   "outputs": [],
   "source": [
    "emb_vec = w2v_model.wv"
   ]
  },
  {
   "cell_type": "code",
   "execution_count": 37,
   "id": "1ce3ffe7-adde-4d61-b10a-b7a443a1179c",
   "metadata": {},
   "outputs": [
    {
     "data": {
      "text/plain": [
       "array([ 0.01058971, -1.3089925 ,  0.08116454,  0.22937128,  0.5539384 ,\n",
       "       -1.1946093 , -0.0154536 ,  0.27638793,  0.19544479,  0.34801197,\n",
       "        0.715787  ,  0.01268382,  0.15384103,  0.41719112, -0.40052298,\n",
       "        0.40317827,  0.13914669,  0.89994323, -0.36767638,  1.111186  ,\n",
       "        0.53451055, -0.28778636,  0.5552984 ,  1.466706  ,  0.72034526,\n",
       "        0.9204868 ,  0.05575425,  0.6271853 ,  0.05831338, -0.35136902,\n",
       "       -0.49765384, -1.0936556 , -0.76823455, -0.3996785 , -1.4230335 ,\n",
       "        0.46341613,  1.2635194 , -0.17408012, -0.7993756 , -0.5798614 ,\n",
       "       -0.07294805, -0.37899193, -0.4241187 ,  0.31042087, -0.11437657,\n",
       "       -0.1209499 , -0.24423723, -1.365406  ,  0.41990322, -0.54702914],\n",
       "      dtype=float32)"
      ]
     },
     "execution_count": 37,
     "metadata": {},
     "output_type": "execute_result"
    }
   ],
   "source": [
    "emb_vec['python'] # It will return vector representation of the word python"
   ]
  },
  {
   "cell_type": "markdown",
   "id": "1c046188-ef63-4ca3-b877-467108f7828b",
   "metadata": {},
   "source": [
    "## Cosine Similarity"
   ]
  },
  {
   "cell_type": "code",
   "execution_count": 38,
   "id": "2ee370cc-e8f1-4c98-8ab2-ee13baca34c2",
   "metadata": {},
   "outputs": [],
   "source": [
    "def find_similarity(sen1, sen2, model):\n",
    "    p_sen1 = preprocess(sen1)\n",
    "    p_sen2 = preprocess(sen2)\n",
    "    \n",
    "    sen_vec1 = np.zeros(50)\n",
    "    sen_vec2 = np.zeros(50)\n",
    "    for val in p_sen1:\n",
    "        sen_vec1 = np.add(sen_vec1, model[val])\n",
    "\n",
    "    for val in p_sen2:\n",
    "        sen_vec2 = np.add(sen_vec2, model[val])\n",
    "    return dot(sen_vec1,sen_vec2)/(norm(sen_vec1)*norm(sen_vec2))\n",
    "def find_similarity2(sen1, sen2, model): \n",
    "    p_sen1 = preprocess(sen1)\n",
    "    p_sen2 = preprocess(sen2)\n",
    "    sen_vec1 = np.zeros(50)\n",
    "    sen_vec2 = np.zeros(50)\n",
    "    for val in p_sen1:\n",
    "        sen_vec1 = np.add(sen_vec1, model[val])\n",
    "\n",
    "    for val in p_sen2:\n",
    "        sen_vec2 = np.add(sen_vec2, model[val])\n",
    "    return dot(sen_vec1,sen_vec2)/(norm(sen_vec1)*norm(sen_vec2))"
   ]
  },
  {
   "cell_type": "code",
   "execution_count": 39,
   "id": "9ec7ee40-9e9b-4a87-9f6f-63d2b047a625",
   "metadata": {},
   "outputs": [
    {
     "data": {
      "text/plain": [
       "0.8985078152538182"
      ]
     },
     "execution_count": 39,
     "metadata": {},
     "output_type": "execute_result"
    }
   ],
   "source": [
    "find_similarity('JAVA developement','java',emb_vec)"
   ]
  },
  {
   "cell_type": "code",
   "execution_count": 40,
   "id": "27c24b57-d000-4533-b05f-aaecafd0a662",
   "metadata": {},
   "outputs": [
    {
     "data": {
      "text/plain": [
       "0.8711619532458093"
      ]
     },
     "execution_count": 40,
     "metadata": {},
     "output_type": "execute_result"
    }
   ],
   "source": [
    "find_similarity('Android, Java', 'Android, Java, Python, Django, Xamarin, Cloud',emb_vec )"
   ]
  },
  {
   "cell_type": "code",
   "execution_count": 41,
   "id": "c917974b-025e-4abb-b554-14799ba93aca",
   "metadata": {},
   "outputs": [
    {
     "data": {
      "text/plain": [
       "0.4433011472082337"
      ]
     },
     "execution_count": 41,
     "metadata": {},
     "output_type": "execute_result"
    }
   ],
   "source": [
    "find_similarity('Java', 'mobil',emb_vec )"
   ]
  },
  {
   "cell_type": "code",
   "execution_count": 42,
   "id": "58b60367-0d56-4043-b882-b4f0db980e67",
   "metadata": {},
   "outputs": [
    {
     "name": "stdout",
     "output_type": "stream",
     "text": [
      "['laravel react javascript php microsoft bot framework java testng selenium testing management programming language objectoriented programming oop unity sql databases microsoft power automate sharepoint microsoft power apps azure functions cloud computing automation agile methodologies microsoft azure microsoft office python programming language nosql']\n"
     ]
    }
   ],
   "source": [
    "print(df2['skills'][1])"
   ]
  },
  {
   "cell_type": "code",
   "execution_count": 43,
   "id": "67239068-83dc-4fb4-a732-95223350bf56",
   "metadata": {},
   "outputs": [
    {
     "name": "stdout",
     "output_type": "stream",
     "text": [
      "['Collaboration', 'architecture', 'design', 'deployment solutions', 'system integration', 'automation', 'execution support', 'pipeline deployments', 'ALM tools', 'cyber security', 'SW deployments', 'automation functional regression tests', 'continuous integration', 'environments infrastructures', 'continuous monitoring', 'automatic deployment tools ( Terraform', 'Ansible', 'etc . )', 'cloud architectures ( vCloud', 'Azure', 'AWS )', 'monitoring tools', 'OpenShift', 'DockerHub', 'Kubernetes', 'CloudALM', 'Jira', 'Confluence', 'Git', 'Jenkins ( CloudBees )', 'Nexus', 'SonarHarbour', 'scripting languages ( Groovy', 'Python', 'JavaScript', 'etc . )', 'PostgreSQL', 'MongoDB', 'AzureCosmosDB']\n"
     ]
    }
   ],
   "source": [
    "print(df1['skill_required'][2])"
   ]
  },
  {
   "cell_type": "code",
   "execution_count": 44,
   "id": "e90a9e7d-9924-4f17-b4eb-02ebce88a3f0",
   "metadata": {
    "tags": []
   },
   "outputs": [
    {
     "data": {
      "text/plain": [
       "0.38975029706314246"
      ]
     },
     "execution_count": 44,
     "metadata": {},
     "output_type": "execute_result"
    }
   ],
   "source": [
    "find_similarity(str(df2['skills'][1]),str(df1['skill_required'][2]),emb_vec)#need to train the emb_vec on the skills dataset too"
   ]
  },
  {
   "cell_type": "code",
   "execution_count": 45,
   "id": "f148b807-a1f8-4eb7-a54d-f0abfb2c4f00",
   "metadata": {},
   "outputs": [],
   "source": [
    "def similarity(skill,required,model):\n",
    "    p_skill=preprocess(skill)\n",
    "    p_required=preprocess(required)\n",
    "    result=[]\n",
    "    for i in range(len(p_required)):\n",
    "        similarities=[]\n",
    "        for j in range(len(p_skill)):\n",
    "            similarities.append(find_similarity2(p_skill[j],p_required[i],model))\n",
    "        result.append(max(similarities)) \n",
    "    result = [0 if pd.isna(x) else x for x in result]    \n",
    "    if len(result) > 0:\n",
    "        avg_similarity = sum(result) / len(result)\n",
    "    else:\n",
    "        avg_similarity = 0\n",
    "    return avg_similarity,required,result    \n",
    "    #we returned the similarity score , the required skills  ,all similiraty for every word alone"
   ]
  },
  {
   "cell_type": "code",
   "execution_count": 46,
   "id": "6c60798b-55c9-4324-9ba5-0891921f4aba",
   "metadata": {},
   "outputs": [
    {
     "data": {
      "text/plain": [
       "(1.0, 'Android, Java ', [1.0, 1.0])"
      ]
     },
     "execution_count": 46,
     "metadata": {},
     "output_type": "execute_result"
    }
   ],
   "source": [
    "similarity('Android, Java, Python, Django', 'Android, Java ',emb_vec )"
   ]
  },
  {
   "cell_type": "code",
   "execution_count": 47,
   "id": "6d84bd50-35a8-49d3-b6ab-fe09aaf8f38b",
   "metadata": {},
   "outputs": [
    {
     "data": {
      "text/plain": [
       "(0.8594404348701894,\n",
       " 'Android, Java, Python, Django ',\n",
       " [1.0, 1.0, 0.849387563477178, 0.5883741760035798])"
      ]
     },
     "execution_count": 47,
     "metadata": {},
     "output_type": "execute_result"
    }
   ],
   "source": [
    "similarity('Android, Java', 'Android, Java, Python, Django ',emb_vec )"
   ]
  },
  {
   "cell_type": "code",
   "execution_count": 48,
   "id": "d5d0d32f-693c-4a69-945c-243575ac3891",
   "metadata": {},
   "outputs": [
    {
     "data": {
      "text/plain": [
       "(0.02842758066361597,\n",
       " ['Collaboration',\n",
       "  'architecture',\n",
       "  'design',\n",
       "  'deployment solutions',\n",
       "  'system integration',\n",
       "  'automation',\n",
       "  'execution support',\n",
       "  'pipeline deployments',\n",
       "  'ALM tools',\n",
       "  'cyber security',\n",
       "  'SW deployments',\n",
       "  'automation functional regression tests',\n",
       "  'continuous integration',\n",
       "  'environments infrastructures',\n",
       "  'continuous monitoring',\n",
       "  'automatic deployment tools ( Terraform',\n",
       "  'Ansible',\n",
       "  'etc . )',\n",
       "  'cloud architectures ( vCloud',\n",
       "  'Azure',\n",
       "  'AWS )',\n",
       "  'monitoring tools',\n",
       "  'OpenShift',\n",
       "  'DockerHub',\n",
       "  'Kubernetes',\n",
       "  'CloudALM',\n",
       "  'Jira',\n",
       "  'Confluence',\n",
       "  'Git',\n",
       "  'Jenkins ( CloudBees )',\n",
       "  'Nexus',\n",
       "  'SonarHarbour',\n",
       "  'scripting languages ( Groovy',\n",
       "  'Python',\n",
       "  'JavaScript',\n",
       "  'etc . )',\n",
       "  'PostgreSQL',\n",
       "  'MongoDB',\n",
       "  'AzureCosmosDB'],\n",
       " [0.08617587730384572,\n",
       "  0.30422849592243745,\n",
       "  0.11549021976066273,\n",
       "  -0.02844834319267346,\n",
       "  0.10827030719726213,\n",
       "  0.006098416418639263,\n",
       "  0.13963004369895682,\n",
       "  0.07327413336630476,\n",
       "  0.2155511978084512,\n",
       "  0.0519633813861214,\n",
       "  -0.02844834319267346,\n",
       "  0.030253637060149483,\n",
       "  -0.1602593293801609,\n",
       "  0.02841642541852921,\n",
       "  -0.02844834319267346,\n",
       "  0.13963004369895682,\n",
       "  0.034534945164336577,\n",
       "  -0.1466870450656133,\n",
       "  0.4088025750544318,\n",
       "  0.06744005375131712,\n",
       "  0.006098416418639263,\n",
       "  0.1013472604367576,\n",
       "  0.021862510251070635,\n",
       "  0.06744005375131712,\n",
       "  0.09495831263250437,\n",
       "  -0.06562726301407416,\n",
       "  -0.02844834319267346,\n",
       "  0.030253637060149483,\n",
       "  -0.010666408577327428,\n",
       "  -0.004978033107036778,\n",
       "  -0.01767449981715788,\n",
       "  0.30422849592243745,\n",
       "  0.06160807460901495,\n",
       "  0.04689110537290647,\n",
       "  0.09495831263250437,\n",
       "  0.030253637060149483,\n",
       "  0.0427074525553008,\n",
       "  -0.04352731495614506,\n",
       "  0.08454652184104555,\n",
       "  -0.1054880137935754,\n",
       "  0.06921730701457332,\n",
       "  -0.07783162692663394,\n",
       "  -0.03505165258583451,\n",
       "  -0.15300065837074894,\n",
       "  -0.056273174165329155,\n",
       "  -0.18990133006498938,\n",
       "  -0.06968062449705958,\n",
       "  0.12663580594014173,\n",
       "  -0.23051432426914514,\n",
       "  0.11449767913780262,\n",
       "  0.10310588785999135,\n",
       "  -0.02527746410357473,\n",
       "  0.03311098109041401,\n",
       "  -0.20215971329676102])"
      ]
     },
     "execution_count": 48,
     "metadata": {},
     "output_type": "execute_result"
    }
   ],
   "source": [
    "similarity(df2['skills'][4],df1['skill_required'][2],emb_vec)#need to train the emb_vec on the skills dataset too"
   ]
  },
  {
   "cell_type": "code",
   "execution_count": 49,
   "id": "8aff45cd-6b2e-48b8-8c0a-7812220e38c4",
   "metadata": {},
   "outputs": [
    {
     "name": "stdout",
     "output_type": "stream",
     "text": [
      "['mentioned']\n",
      "['Collaboration', 'architecture', 'design', 'deployment solutions', 'system integration', 'automation', 'execution support', 'pipeline deployments', 'ALM tools', 'cyber security', 'SW deployments', 'automation functional regression tests', 'continuous integration', 'environments infrastructures', 'continuous monitoring', 'automatic deployment tools ( Terraform', 'Ansible', 'etc . )', 'cloud architectures ( vCloud', 'Azure', 'AWS )', 'monitoring tools', 'OpenShift', 'DockerHub', 'Kubernetes', 'CloudALM', 'Jira', 'Confluence', 'Git', 'Jenkins ( CloudBees )', 'Nexus', 'SonarHarbour', 'scripting languages ( Groovy', 'Python', 'JavaScript', 'etc . )', 'PostgreSQL', 'MongoDB', 'AzureCosmosDB']\n"
     ]
    }
   ],
   "source": [
    "print(df2['skills'][4])\n",
    "print(df1['skill_required'][2])"
   ]
  },
  {
   "cell_type": "markdown",
   "id": "248e4fa2-3add-4880-b4a1-e439528fcf77",
   "metadata": {},
   "source": [
    "# need evaluation"
   ]
  },
  {
   "cell_type": "code",
   "execution_count": null,
   "id": "2d362a3a-e673-4b9d-976f-e1d237b1a58b",
   "metadata": {},
   "outputs": [],
   "source": []
  },
  {
   "cell_type": "markdown",
   "id": "baa26d8a-fdbd-4649-bec4-c42439107490",
   "metadata": {},
   "source": [
    "# Some adjustement to try "
   ]
  },
  {
   "cell_type": "code",
   "execution_count": 601,
   "id": "dae2de4f-c29b-4077-a780-c4242d6f3645",
   "metadata": {},
   "outputs": [
    {
     "data": {
      "text/plain": [
       "0      False\n",
       "1      False\n",
       "2      False\n",
       "3      False\n",
       "4      False\n",
       "       ...  \n",
       "429     True\n",
       "430    False\n",
       "431    False\n",
       "432     True\n",
       "433    False\n",
       "Length: 3464, dtype: bool"
      ]
     },
     "execution_count": 601,
     "metadata": {},
     "output_type": "execute_result"
    }
   ],
   "source": [
    "processed_data.duplicated()"
   ]
  },
  {
   "cell_type": "code",
   "execution_count": 602,
   "id": "3b1d33fc-0726-4396-956c-0d2c76fa30d7",
   "metadata": {},
   "outputs": [],
   "source": [
    "processed_data2=processed_data.drop_duplicates()"
   ]
  },
  {
   "cell_type": "code",
   "execution_count": 603,
   "id": "9a3dd0c8-bc0c-405c-9d04-2ee7a61cb022",
   "metadata": {},
   "outputs": [
    {
     "data": {
      "text/plain": [
       "2054"
      ]
     },
     "execution_count": 603,
     "metadata": {},
     "output_type": "execute_result"
    }
   ],
   "source": [
    "len(processed_data2)"
   ]
  },
  {
   "cell_type": "code",
   "execution_count": 604,
   "id": "4b3fef1a-bb46-4ccf-adf1-9613cec99fda",
   "metadata": {},
   "outputs": [],
   "source": [
    "def word2vec_model2():\n",
    "    w2v_model2 = Word2Vec(min_count=1,\n",
    "                     window=3,\n",
    "                     vector_size=50,\n",
    "                     sample=6e-5, \n",
    "                     alpha=0.03, \n",
    "                     min_alpha=0.0007, \n",
    "                     negative=20)\n",
    "    \n",
    "    w2v_model2.build_vocab(processed_data2)\n",
    "    w2v_model2.train(processed_data, total_examples=w2v_model.corpus_count, epochs=300, report_delay=1)\n",
    "    \n",
    "    return w2v_model2"
   ]
  },
  {
   "cell_type": "code",
   "execution_count": 605,
   "id": "df402cdf-3734-4f4c-b00f-059e212c21a0",
   "metadata": {},
   "outputs": [],
   "source": [
    "w2v_model2 = word2vec_model2()\n",
    "w2v_model2.save('word2vec_model_V2')"
   ]
  },
  {
   "cell_type": "code",
   "execution_count": 606,
   "id": "71d75f89-88ac-40de-a0c3-d14cd09cf62f",
   "metadata": {},
   "outputs": [],
   "source": [
    "emb_vec2 = w2v_model2.wv"
   ]
  },
  {
   "cell_type": "code",
   "execution_count": 607,
   "id": "9b625bd6-d34c-4eb3-821e-cb1690b5562f",
   "metadata": {
    "collapsed": true,
    "jupyter": {
     "outputs_hidden": true
    },
    "tags": []
   },
   "outputs": [
    {
     "data": {
      "text/plain": [
       "(0.17915858044855756,\n",
       " ['Collaboration',\n",
       "  'architecture',\n",
       "  'design',\n",
       "  'deployment solutions',\n",
       "  'system integration',\n",
       "  'automation',\n",
       "  'execution support',\n",
       "  'pipeline deployments',\n",
       "  'ALM tools',\n",
       "  'cyber security',\n",
       "  'SW deployments',\n",
       "  'automation functional regression tests',\n",
       "  'continuous integration',\n",
       "  'environments infrastructures',\n",
       "  'continuous monitoring',\n",
       "  'automatic deployment tools ( Terraform',\n",
       "  'Ansible',\n",
       "  'etc . )',\n",
       "  'cloud architectures ( vCloud',\n",
       "  'Azure',\n",
       "  'AWS )',\n",
       "  'monitoring tools',\n",
       "  'OpenShift',\n",
       "  'DockerHub',\n",
       "  'Kubernetes',\n",
       "  'CloudALM',\n",
       "  'Jira',\n",
       "  'Confluence',\n",
       "  'Git',\n",
       "  'Jenkins ( CloudBees )',\n",
       "  'Nexus',\n",
       "  'SonarHarbour',\n",
       "  'scripting languages ( Groovy',\n",
       "  'Python',\n",
       "  'JavaScript',\n",
       "  'etc . )',\n",
       "  'PostgreSQL',\n",
       "  'MongoDB',\n",
       "  'AzureCosmosDB'],\n",
       " [0.01228260892163513,\n",
       "  0.024947112438300185,\n",
       "  -0.16211852168848348,\n",
       "  0.3082816611665612,\n",
       "  -0.1371445855882149,\n",
       "  0.1449384003796424,\n",
       "  0.2305559876830418,\n",
       "  0.23716890133905535,\n",
       "  0.10046413283337939,\n",
       "  0.1436063637949839,\n",
       "  0.3082816611665612,\n",
       "  0.171484511233136,\n",
       "  0.2990771059433905,\n",
       "  0.3737537365648225,\n",
       "  0.3082816611665612,\n",
       "  0.2305559876830418,\n",
       "  0.11089078512899962,\n",
       "  0.2981572650788518,\n",
       "  0.0031373788686886762,\n",
       "  0.30695791707646697,\n",
       "  0.1449384003796424,\n",
       "  0.28652539418290657,\n",
       "  0.28050594604259543,\n",
       "  0.30695791707646697,\n",
       "  0.1934392172022183,\n",
       "  0.2706884746016917,\n",
       "  0.3082816611665612,\n",
       "  0.171484511233136,\n",
       "  0.39632545909922107,\n",
       "  0.4208041308624758,\n",
       "  0.1290521261616906,\n",
       "  0.024947112438300185,\n",
       "  0.2993733212674891,\n",
       "  0.14021595050348237,\n",
       "  0.1934392172022183,\n",
       "  0.171484511233136,\n",
       "  0.14979684931924753,\n",
       "  0.15150431066747644,\n",
       "  0.1713217547971151,\n",
       "  0.1691538647803607,\n",
       "  0.09358529560560744,\n",
       "  0.17139409945464526,\n",
       "  0.4401785644265448,\n",
       "  0.20470755436810642,\n",
       "  0.11979397169196841,\n",
       "  0.1491490266259772,\n",
       "  0.029050695163602192,\n",
       "  0.140027168385042,\n",
       "  0.09774109847101,\n",
       "  0.02463179091051105,\n",
       "  0.0977698521053054,\n",
       "  0.19822097429032556,\n",
       "  0.07653048828265648,\n",
       "  0.13798256303294762])"
      ]
     },
     "execution_count": 607,
     "metadata": {},
     "output_type": "execute_result"
    }
   ],
   "source": [
    "similarity(df2['skills'][4],df1['skill_required'][2],emb_vec2)#need to train the emb_vec on the skills dataset too"
   ]
  },
  {
   "cell_type": "markdown",
   "id": "bdc2ae78-e820-4870-9a24-beeb7e7083f6",
   "metadata": {},
   "source": [
    "first model gave 0.05 wich is more  logical than the 0.17 in the second model we'll go for the first one for now "
   ]
  },
  {
   "cell_type": "code",
   "execution_count": 45,
   "id": "bfba747f-005d-4c3a-aad1-5dc09799ed75",
   "metadata": {},
   "outputs": [
    {
     "name": "stdout",
     "output_type": "stream",
     "text": [
      "Index(['job_title', 'skill_required', 'location', 'link'], dtype='object')\n",
      "Index(['URL', 'job_title', 'Name', 'skills', 'experiences'], dtype='object')\n"
     ]
    }
   ],
   "source": [
    "print(df1.columns)\n",
    "print(df2.columns)"
   ]
  },
  {
   "cell_type": "code",
   "execution_count": 80,
   "id": "59fcbf7e-d7ec-40e8-bd35-59f871efb523",
   "metadata": {},
   "outputs": [],
   "source": [
    "def match_person(cv_row,jbdf,emb_vec):\n",
    "    sim_score=0\n",
    "    for j in range(len(jbdf)):\n",
    "        s=similarity(cv_row['skills'],jbdf['skill_required'][j] , emb_vec)[0]\n",
    "        if s>sim_score:\n",
    "            sim_score, skills_list, score_list = similarity(cv_row['skills'],jbdf['skill_required'][j] , emb_vec)\n",
    "            row_job=jbdf.iloc[j]\n",
    "    return row_job,sim_score,skills_list,score_list        \n",
    "    \n",
    "    "
   ]
  },
  {
   "cell_type": "code",
   "execution_count": 52,
   "id": "47130b67-2878-4186-811b-0d0284a28643",
   "metadata": {},
   "outputs": [],
   "source": [
    "def match_job(jb_row,cvdf,emb_vec):\n",
    "    sim_score=0\n",
    "    for j in range(len(cvdf)):\n",
    "        s=similarity(cvdf['skills'][j],jb_row['skill_required'] , emb_vec)[0]\n",
    "        if s>sim_score:\n",
    "            sim_score, skills_list, score_list = similarity(cvdf['skills'][j],jb_row['skill_required'] , emb_vec)\n",
    "            row_job=cvdf.iloc[j]\n",
    "    return row_job,sim_score,skills_list,score_list  \n",
    "    "
   ]
  },
  {
   "cell_type": "code",
   "execution_count": 81,
   "id": "0673f3c0-986a-4214-a545-3e5422f58c34",
   "metadata": {},
   "outputs": [
    {
     "name": "stderr",
     "output_type": "stream",
     "text": [
      "C:\\Users\\MSI GF63\\AppData\\Local\\Temp\\ipykernel_7204\\3122937574.py:23: RuntimeWarning: invalid value encountered in double_scalars\n",
      "  return dot(sen_vec1,sen_vec2)/(norm(sen_vec1)*norm(sen_vec2))\n"
     ]
    },
    {
     "data": {
      "text/plain": [
       "(job_title         Implementation process management APP Internship\n",
       " skill_required                                              [Java]\n",
       " location                                                       NaN\n",
       " link                                        DATAHORIZON-page17.pdf\n",
       " Name: 356, dtype: object,\n",
       " 1.0,\n",
       " ['Java'],\n",
       " [1.0])"
      ]
     },
     "execution_count": 81,
     "metadata": {},
     "output_type": "execute_result"
    }
   ],
   "source": [
    "match_person(df2.iloc[1],df1,emb_vec)"
   ]
  },
  {
   "cell_type": "code",
   "execution_count": 55,
   "id": "63700e2c-004a-459d-90ee-e93d6494a3e5",
   "metadata": {},
   "outputs": [
    {
     "name": "stderr",
     "output_type": "stream",
     "text": [
      "C:\\Users\\MSI GF63\\AppData\\Local\\Temp\\ipykernel_7204\\3122937574.py:23: RuntimeWarning: invalid value encountered in double_scalars\n",
      "  return dot(sen_vec1,sen_vec2)/(norm(sen_vec1)*norm(sen_vec2))\n"
     ]
    },
    {
     "data": {
      "text/plain": [
       "(URL                       https://www.linkedin.com/in/nourkobbi/\n",
       " job_title                   data science and engineering student\n",
       " Name                                                  Nour Kobbi\n",
       " skills         [angularjs net framework developpement logicie...\n",
       " experiences                                      nan:nan,nan:nan\n",
       " Name: 247, dtype: object,\n",
       " 0.7036426325967947,\n",
       " ['Kafka',\n",
       "  'Java8 ( JDK11',\n",
       "  '17 )',\n",
       "  'Spring Cloud Stream',\n",
       "  'Spring Boot',\n",
       "  'Spring Cloud ( Web',\n",
       "  'Data',\n",
       "  'JPA )',\n",
       "  'Spring Framework Reactive',\n",
       "  'WebFlux',\n",
       "  'Microservices',\n",
       "  'Event-Driven architecture',\n",
       "  'MongoDB',\n",
       "  'Neo4J',\n",
       "  'SaaS software level',\n",
       "  'Openshift',\n",
       "  'K8S',\n",
       "  'Flink'],\n",
       " [1.0000000000000002,\n",
       "  1.0,\n",
       "  1.0,\n",
       "  0.3575618375810914,\n",
       "  0.37840990834611477,\n",
       "  1.0,\n",
       "  0.9118453209603206,\n",
       "  1.0,\n",
       "  0.3575618375810914,\n",
       "  0.7850050059549888,\n",
       "  1.0,\n",
       "  1.0,\n",
       "  0.4689299917113523,\n",
       "  0.6629063057116708,\n",
       "  1.0,\n",
       "  0.41201777520673816,\n",
       "  0.630056372773615,\n",
       "  0.9999999999999999,\n",
       "  0.860062981346659,\n",
       "  0,\n",
       "  0.6820317305548615,\n",
       "  0.5128263663596753,\n",
       "  0.4634013973857221,\n",
       "  0.40480635084917044])"
      ]
     },
     "execution_count": 55,
     "metadata": {},
     "output_type": "execute_result"
    }
   ],
   "source": [
    "match_job(df1.iloc[3],df2,emb_vec)"
   ]
  },
  {
   "cell_type": "code",
   "execution_count": null,
   "id": "4c2a28fe-76fb-48e1-b99d-13ec3b0c3366",
   "metadata": {},
   "outputs": [],
   "source": []
  },
  {
   "cell_type": "code",
   "execution_count": 56,
   "id": "673b436c-eb82-445d-885a-8c183d63ccd2",
   "metadata": {},
   "outputs": [],
   "source": [
    "def Match(cvdf,jbdf,emb_vec):\n",
    "    matchdf = pd.DataFrame(columns=['URL', 'Name', 'job_matched', 'job skills', 'total_score', 'score_list'])\n",
    "    for i in range(len(cvdf)):\n",
    "        print(cvdf.iloc[i])\n",
    "        sim_score=0\n",
    "        for j in range(len(jbdf)):\n",
    "            s=similarity(cvdf['skills'][i],jbdf['skill_required'][j] , emb_vec)[0]\n",
    "            if s>sim_score:\n",
    "                sim_score, skills_list, score_list = similarity(cvdf['skills'][i],jbdf['skill_required'][j] , emb_vec)\n",
    "                row_job=jbdf.iloc[j]\n",
    "        matchdf = pd.concat([matchdf, pd.DataFrame({\n",
    "                  'URL': [cvdf['URL'][i]], \n",
    "                  'Name': [cvdf['Name'][i]], \n",
    "                  'job_matched': [row_job['job_title']], \n",
    "                  'job skills': [skills_list], \n",
    "                  'total_score': [sim_score], \n",
    "                  'score_list': [score_list]\n",
    "                  })])\n",
    "            \n",
    "    return matchdf    \n",
    "\n",
    "\n",
    "\n",
    "         \n"
   ]
  },
  {
   "cell_type": "code",
   "execution_count": 73,
   "id": "902b570a-7f79-4bb5-9284-03d754656ec7",
   "metadata": {
    "collapsed": true,
    "jupyter": {
     "outputs_hidden": true
    },
    "tags": []
   },
   "outputs": [
    {
     "name": "stdout",
     "output_type": "stream",
     "text": [
      "URL                        https://www.linkedin.com/in/talel-kb/\n",
      "job_title            web developer  software engineering student\n",
      "Name                                                Talel Kbaier\n",
      "skills         [analyse donnees competences analytiques frame...\n",
      "experiences    Développeur web:janv. 2023 - aujourd’hui · 2 m...\n",
      "Name: 0, dtype: object\n"
     ]
    },
    {
     "name": "stderr",
     "output_type": "stream",
     "text": [
      "C:\\Users\\MSI GF63\\AppData\\Local\\Temp\\ipykernel_15404\\3122937574.py:23: RuntimeWarning: invalid value encountered in double_scalars\n",
      "  return dot(sen_vec1,sen_vec2)/(norm(sen_vec1)*norm(sen_vec2))\n"
     ]
    },
    {
     "name": "stdout",
     "output_type": "stream",
     "text": [
      "URL                 https://www.linkedin.com/in/omar-talbi-sfax/\n",
      "job_title                                freelance web developer\n",
      "Name                                                  Omar Talbi\n",
      "skills         [laravel react javascript php microsoft bot fr...\n",
      "experiences    Freelance Web Developer:août 2019 - aujourd’hu...\n",
      "Name: 1, dtype: object\n"
     ]
    },
    {
     "name": "stderr",
     "output_type": "stream",
     "text": [
      "C:\\Users\\MSI GF63\\AppData\\Local\\Temp\\ipykernel_15404\\3122937574.py:23: RuntimeWarning: invalid value encountered in double_scalars\n",
      "  return dot(sen_vec1,sen_vec2)/(norm(sen_vec1)*norm(sen_vec2))\n"
     ]
    },
    {
     "name": "stdout",
     "output_type": "stream",
     "text": [
      "URL            https://www.linkedin.com/in/hassen-knani-21991...\n",
      "job_title                             web developer chez zetabox\n",
      "Name                                                Hassen Knani\n",
      "skills         [management service client microsoft office ve...\n",
      "experiences    React Js Instructor:mars 2022 - aujourd’hui · ...\n",
      "Name: 2, dtype: object\n"
     ]
    },
    {
     "name": "stderr",
     "output_type": "stream",
     "text": [
      "C:\\Users\\MSI GF63\\AppData\\Local\\Temp\\ipykernel_15404\\3122937574.py:23: RuntimeWarning: invalid value encountered in double_scalars\n",
      "  return dot(sen_vec1,sen_vec2)/(norm(sen_vec1)*norm(sen_vec2))\n"
     ]
    },
    {
     "name": "stdout",
     "output_type": "stream",
     "text": [
      "URL                    https://www.linkedin.com/in/safwendammak/\n",
      "job_title                                freelance web developer\n",
      "Name                                               Safwen Dammak\n",
      "skills         [angular phpsymfony developpement web developp...\n",
      "experiences    Web Developer:oct. 2020 - févr. 2022 · 1 an 5 ...\n",
      "Name: 3, dtype: object\n"
     ]
    },
    {
     "name": "stderr",
     "output_type": "stream",
     "text": [
      "C:\\Users\\MSI GF63\\AppData\\Local\\Temp\\ipykernel_15404\\3122937574.py:23: RuntimeWarning: invalid value encountered in double_scalars\n",
      "  return dot(sen_vec1,sen_vec2)/(norm(sen_vec1)*norm(sen_vec2))\n"
     ]
    },
    {
     "name": "stdout",
     "output_type": "stream",
     "text": [
      "URL            https://www.linkedin.com/in/oumayma-b%C3%A9hi-...\n",
      "job_title                                web  mobile developer 💻\n",
      "Name                                                Oumayma Béhi\n",
      "skills                                               [mentioned]\n",
      "experiences    Projet de fin d’études:févr. 2022 - juin 2022 ...\n",
      "Name: 4, dtype: object\n"
     ]
    },
    {
     "name": "stderr",
     "output_type": "stream",
     "text": [
      "C:\\Users\\MSI GF63\\AppData\\Local\\Temp\\ipykernel_15404\\3122937574.py:23: RuntimeWarning: invalid value encountered in double_scalars\n",
      "  return dot(sen_vec1,sen_vec2)/(norm(sen_vec1)*norm(sen_vec2))\n"
     ]
    },
    {
     "name": "stdout",
     "output_type": "stream",
     "text": [
      "URL            https://www.linkedin.com/in/med-yassine-ben-ro...\n",
      "job_title               full stack web developer  odoo developer\n",
      "Name                                    Med Yassine Ben Romdhane\n",
      "skills         [programming language microsoft excel javascri...\n",
      "experiences    Odoo developer:sept. 2022 - févr. 2023 · 6 moi...\n",
      "Name: 5, dtype: object\n"
     ]
    },
    {
     "name": "stderr",
     "output_type": "stream",
     "text": [
      "C:\\Users\\MSI GF63\\AppData\\Local\\Temp\\ipykernel_15404\\3122937574.py:23: RuntimeWarning: invalid value encountered in double_scalars\n",
      "  return dot(sen_vec1,sen_vec2)/(norm(sen_vec1)*norm(sen_vec2))\n"
     ]
    },
    {
     "name": "stdout",
     "output_type": "stream",
     "text": [
      "URL            https://www.linkedin.com/in/houssem-derouich-a...\n",
      "job_title                            web developer  php  symfony\n",
      "Name                                            Houssem Derouich\n",
      "skills         [php jquery javascript ajax symfony php symfon...\n",
      "experiences    Développeur  Symfony:juin 2021 - aujourd’hui ·...\n",
      "Name: 6, dtype: object\n"
     ]
    },
    {
     "name": "stderr",
     "output_type": "stream",
     "text": [
      "C:\\Users\\MSI GF63\\AppData\\Local\\Temp\\ipykernel_15404\\3122937574.py:23: RuntimeWarning: invalid value encountered in double_scalars\n",
      "  return dot(sen_vec1,sen_vec2)/(norm(sen_vec1)*norm(sen_vec2))\n"
     ]
    },
    {
     "name": "stdout",
     "output_type": "stream",
     "text": [
      "URL                  https://www.linkedin.com/in/abdelkefi-omar/\n",
      "job_title                          data scientist  web developer\n",
      "Name                                              Omar Abdelkefi\n",
      "skills         [gorm postgresql reduxjs nestjs prisma vuejs t...\n",
      "experiences    Full-stack Developer:sept. 2022 - aujourd’hui ...\n",
      "Name: 7, dtype: object\n"
     ]
    },
    {
     "name": "stderr",
     "output_type": "stream",
     "text": [
      "C:\\Users\\MSI GF63\\AppData\\Local\\Temp\\ipykernel_15404\\3122937574.py:23: RuntimeWarning: invalid value encountered in double_scalars\n",
      "  return dot(sen_vec1,sen_vec2)/(norm(sen_vec1)*norm(sen_vec2))\n"
     ]
    },
    {
     "name": "stdout",
     "output_type": "stream",
     "text": [
      "URL            https://www.linkedin.com/in/med-ridha-harhira-...\n",
      "job_title      junior web developer  javascript typescript  r...\n",
      "Name                                           Med.Ridha Harhira\n",
      "skills         [recherche moteur competences analytiques stra...\n",
      "experiences    Instructeur:juin 2022 - févr. 2023 · 9 mois,Te...\n",
      "Name: 8, dtype: object\n"
     ]
    },
    {
     "name": "stderr",
     "output_type": "stream",
     "text": [
      "C:\\Users\\MSI GF63\\AppData\\Local\\Temp\\ipykernel_15404\\3122937574.py:23: RuntimeWarning: invalid value encountered in double_scalars\n",
      "  return dot(sen_vec1,sen_vec2)/(norm(sen_vec1)*norm(sen_vec2))\n"
     ]
    },
    {
     "name": "stdout",
     "output_type": "stream",
     "text": [
      "URL            https://www.linkedin.com/in/dhia-boudhraa-243b...\n",
      "job_title                                          web developer\n",
      "Name                                               Dhia Boudhraa\n",
      "skills         [laravel cascading style sheets css web develo...\n",
      "experiences                                      nan:nan,nan:nan\n",
      "Name: 9, dtype: object\n"
     ]
    },
    {
     "name": "stderr",
     "output_type": "stream",
     "text": [
      "C:\\Users\\MSI GF63\\AppData\\Local\\Temp\\ipykernel_15404\\3122937574.py:23: RuntimeWarning: invalid value encountered in double_scalars\n",
      "  return dot(sen_vec1,sen_vec2)/(norm(sen_vec1)*norm(sen_vec2))\n"
     ]
    },
    {
     "name": "stdout",
     "output_type": "stream",
     "text": [
      "URL                       https://www.linkedin.com/in/amineazri/\n",
      "job_title            software engineer  full stack web developer\n",
      "Name                                                  Amine AZRI\n",
      "skills         [phpmyadmin balsamiq langage modelisation unif...\n",
      "experiences    Software Engineer:janv. 2023 - aujourd’hui · 2...\n",
      "Name: 10, dtype: object\n"
     ]
    },
    {
     "name": "stderr",
     "output_type": "stream",
     "text": [
      "C:\\Users\\MSI GF63\\AppData\\Local\\Temp\\ipykernel_15404\\3122937574.py:23: RuntimeWarning: invalid value encountered in double_scalars\n",
      "  return dot(sen_vec1,sen_vec2)/(norm(sen_vec1)*norm(sen_vec2))\n"
     ]
    },
    {
     "name": "stdout",
     "output_type": "stream",
     "text": [
      "URL            https://www.linkedin.com/in/ramzi-fraj-561814218/\n",
      "job_title                            uiux designer web developer\n",
      "Name                                                  ramzi fraj\n",
      "skills         [anglais developpement web developpement d'app...\n",
      "experiences                                      nan:nan,nan:nan\n",
      "Name: 11, dtype: object\n"
     ]
    },
    {
     "name": "stderr",
     "output_type": "stream",
     "text": [
      "C:\\Users\\MSI GF63\\AppData\\Local\\Temp\\ipykernel_15404\\3122937574.py:23: RuntimeWarning: invalid value encountered in double_scalars\n",
      "  return dot(sen_vec1,sen_vec2)/(norm(sen_vec1)*norm(sen_vec2))\n"
     ]
    },
    {
     "name": "stdout",
     "output_type": "stream",
     "text": [
      "URL            https://www.linkedin.com/in/saoussen-ben-moham...\n",
      "job_title                         junior fullstack web developer\n",
      "Name                                        Saoussen Ben Mohamed\n",
      "skills                                               [mentioned]\n",
      "experiences    Junior Full-stack web developer:janv. 2023 - a...\n",
      "Name: 12, dtype: object\n"
     ]
    },
    {
     "name": "stderr",
     "output_type": "stream",
     "text": [
      "C:\\Users\\MSI GF63\\AppData\\Local\\Temp\\ipykernel_15404\\3122937574.py:23: RuntimeWarning: invalid value encountered in double_scalars\n",
      "  return dot(sen_vec1,sen_vec2)/(norm(sen_vec1)*norm(sen_vec2))\n"
     ]
    },
    {
     "name": "stdout",
     "output_type": "stream",
     "text": [
      "URL                     https://www.linkedin.com/in/marouen-kou/\n",
      "job_title                                freelance web developer\n",
      "Name                                               Marouen Kouki\n",
      "skills         [git react native bootstrap rest apis html sas...\n",
      "experiences    Freelance Web Developer:janv. 2023 - aujourd’h...\n",
      "Name: 13, dtype: object\n"
     ]
    },
    {
     "name": "stderr",
     "output_type": "stream",
     "text": [
      "C:\\Users\\MSI GF63\\AppData\\Local\\Temp\\ipykernel_15404\\3122937574.py:23: RuntimeWarning: invalid value encountered in double_scalars\n",
      "  return dot(sen_vec1,sen_vec2)/(norm(sen_vec1)*norm(sen_vec2))\n"
     ]
    },
    {
     "name": "stdout",
     "output_type": "stream",
     "text": [
      "URL            https://www.linkedin.com/in/ikram-nebti-6901b1...\n",
      "job_title                        software developer at satoripop\n",
      "Name                                                 Ikram Nebti\n",
      "skills         [api platform git angular symfony framework sq...\n",
      "experiences    Web Developer:nov. 2022 - aujourd’hui · 4 mois...\n",
      "Name: 14, dtype: object\n"
     ]
    },
    {
     "name": "stderr",
     "output_type": "stream",
     "text": [
      "C:\\Users\\MSI GF63\\AppData\\Local\\Temp\\ipykernel_15404\\3122937574.py:23: RuntimeWarning: invalid value encountered in double_scalars\n",
      "  return dot(sen_vec1,sen_vec2)/(norm(sen_vec1)*norm(sen_vec2))\n"
     ]
    },
    {
     "name": "stdout",
     "output_type": "stream",
     "text": [
      "URL                    https://www.linkedin.com/in/yessin-rebhi/\n",
      "job_title             full stack web developer  mobile developer\n",
      "Name                                                Yessin Rebhi\n",
      "skills         [expressjs nodejs reactjs javascript unified m...\n",
      "experiences    Full-stack Developer:sept. 2022 - aujourd’hui ...\n",
      "Name: 15, dtype: object\n"
     ]
    },
    {
     "name": "stderr",
     "output_type": "stream",
     "text": [
      "C:\\Users\\MSI GF63\\AppData\\Local\\Temp\\ipykernel_15404\\3122937574.py:23: RuntimeWarning: invalid value encountered in double_scalars\n",
      "  return dot(sen_vec1,sen_vec2)/(norm(sen_vec1)*norm(sen_vec2))\n"
     ]
    },
    {
     "name": "stdout",
     "output_type": "stream",
     "text": [
      "URL                   https://www.linkedin.com/in/rouissi-adnen/\n",
      "job_title         front end web developer  junior java developer\n",
      "Name                                               Rouissi Adnen\n",
      "skills         [git java gestion temps anglais francais larav...\n",
      "experiences    Développeur front-end:janv. 2022 - aujourd’hui...\n",
      "Name: 16, dtype: object\n"
     ]
    },
    {
     "name": "stderr",
     "output_type": "stream",
     "text": [
      "C:\\Users\\MSI GF63\\AppData\\Local\\Temp\\ipykernel_15404\\3122937574.py:23: RuntimeWarning: invalid value encountered in double_scalars\n",
      "  return dot(sen_vec1,sen_vec2)/(norm(sen_vec1)*norm(sen_vec2))\n"
     ]
    },
    {
     "name": "stdout",
     "output_type": "stream",
     "text": [
      "URL                     https://www.linkedin.com/in/majd-ghabri/\n",
      "job_title                      développeur web chez capitol soft\n",
      "Name                                                 Majd Ghabri\n",
      "skills                                          [gestion projet]\n",
      "experiences    Développeur web:juin 2021 - aujourd’hui · 1 an...\n",
      "Name: 17, dtype: object\n"
     ]
    },
    {
     "name": "stderr",
     "output_type": "stream",
     "text": [
      "C:\\Users\\MSI GF63\\AppData\\Local\\Temp\\ipykernel_15404\\3122937574.py:23: RuntimeWarning: invalid value encountered in double_scalars\n",
      "  return dot(sen_vec1,sen_vec2)/(norm(sen_vec1)*norm(sen_vec2))\n"
     ]
    },
    {
     "name": "stdout",
     "output_type": "stream",
     "text": [
      "URL            https://www.linkedin.com/in/yassin-kaabi-72408...\n",
      "job_title                                          web developer\n",
      "Name                                                Yassin Kaabi\n",
      "skills         [html feuilles style cascade css reactjs nodej...\n",
      "experiences    Créer un site web au sein d'Alerta security:fé...\n",
      "Name: 18, dtype: object\n"
     ]
    },
    {
     "name": "stderr",
     "output_type": "stream",
     "text": [
      "C:\\Users\\MSI GF63\\AppData\\Local\\Temp\\ipykernel_15404\\3122937574.py:23: RuntimeWarning: invalid value encountered in double_scalars\n",
      "  return dot(sen_vec1,sen_vec2)/(norm(sen_vec1)*norm(sen_vec2))\n"
     ]
    },
    {
     "name": "stdout",
     "output_type": "stream",
     "text": [
      "URL                      https://www.linkedin.com/in/omarneyfar/\n",
      "job_title                                   full stack developer\n",
      "Name                                                 Omar Naifar\n",
      "skills         [javascript mongodb nodejs html leadership com...\n",
      "experiences    Développeur web:janv. 2023 - aujourd’hui · 2 m...\n",
      "Name: 19, dtype: object\n"
     ]
    },
    {
     "name": "stderr",
     "output_type": "stream",
     "text": [
      "C:\\Users\\MSI GF63\\AppData\\Local\\Temp\\ipykernel_15404\\3122937574.py:23: RuntimeWarning: invalid value encountered in double_scalars\n",
      "  return dot(sen_vec1,sen_vec2)/(norm(sen_vec1)*norm(sen_vec2))\n"
     ]
    },
    {
     "name": "stdout",
     "output_type": "stream",
     "text": [
      "URL            https://www.linkedin.com/in/aymen-haji-246483212/\n",
      "job_title                                          web developer\n",
      "Name                                                  Aymen Haji\n",
      "skills         [html feuilles style cascade css javascript re...\n",
      "experiences    Développeur web:mars 2021 - aujourd’hui · 2 an...\n",
      "Name: 20, dtype: object\n"
     ]
    },
    {
     "name": "stderr",
     "output_type": "stream",
     "text": [
      "C:\\Users\\MSI GF63\\AppData\\Local\\Temp\\ipykernel_15404\\3122937574.py:23: RuntimeWarning: invalid value encountered in double_scalars\n",
      "  return dot(sen_vec1,sen_vec2)/(norm(sen_vec1)*norm(sen_vec2))\n"
     ]
    },
    {
     "name": "stdout",
     "output_type": "stream",
     "text": [
      "URL            https://www.linkedin.com/in/imen-ben-yahya-4a7...\n",
      "job_title                                         web developer \n",
      "Name                                             Imen  Ben Yahya\n",
      "skills                                               [mentioned]\n",
      "experiences                                      nan:nan,nan:nan\n",
      "Name: 21, dtype: object\n"
     ]
    },
    {
     "name": "stderr",
     "output_type": "stream",
     "text": [
      "C:\\Users\\MSI GF63\\AppData\\Local\\Temp\\ipykernel_15404\\3122937574.py:23: RuntimeWarning: invalid value encountered in double_scalars\n",
      "  return dot(sen_vec1,sen_vec2)/(norm(sen_vec1)*norm(sen_vec2))\n"
     ]
    },
    {
     "name": "stdout",
     "output_type": "stream",
     "text": [
      "URL              https://www.linkedin.com/in/mohamedbechirmejri/\n",
      "job_title      web developer with a focus on crafting intuiti...\n",
      "Name                                        Mohamed Bechir Mejri\n",
      "skills         [search engine optimization seo git nodejs web...\n",
      "experiences    Freelance Web Developer:août 2022 - aujourd’hu...\n",
      "Name: 22, dtype: object\n"
     ]
    },
    {
     "name": "stderr",
     "output_type": "stream",
     "text": [
      "C:\\Users\\MSI GF63\\AppData\\Local\\Temp\\ipykernel_15404\\3122937574.py:23: RuntimeWarning: invalid value encountered in double_scalars\n",
      "  return dot(sen_vec1,sen_vec2)/(norm(sen_vec1)*norm(sen_vec2))\n"
     ]
    },
    {
     "name": "stdout",
     "output_type": "stream",
     "text": [
      "URL               https://www.linkedin.com/in/abidi-khaireddine/\n",
      "job_title                                          developer web\n",
      "Name                                           Abidi Khaireddine\n",
      "skills         [python anaconda spyder jenkins devops php big...\n",
      "experiences    Stagiaire:févr. 2022 - juil. 2022 · 6 mois,Sta...\n",
      "Name: 23, dtype: object\n"
     ]
    },
    {
     "name": "stderr",
     "output_type": "stream",
     "text": [
      "C:\\Users\\MSI GF63\\AppData\\Local\\Temp\\ipykernel_15404\\3122937574.py:23: RuntimeWarning: invalid value encountered in double_scalars\n",
      "  return dot(sen_vec1,sen_vec2)/(norm(sen_vec1)*norm(sen_vec2))\n"
     ]
    },
    {
     "name": "stdout",
     "output_type": "stream",
     "text": [
      "URL                       https://www.linkedin.com/in/saidatoui/\n",
      "job_title                full stack developer  react js  node js\n",
      "Name                                                  Said Atoui\n",
      "skills         [sql github html javascript node js mongodb ex...\n",
      "experiences    Junior Web Developer:févr. 2022 - nov. 2022 · ...\n",
      "Name: 24, dtype: object\n"
     ]
    },
    {
     "name": "stderr",
     "output_type": "stream",
     "text": [
      "C:\\Users\\MSI GF63\\AppData\\Local\\Temp\\ipykernel_15404\\3122937574.py:23: RuntimeWarning: invalid value encountered in double_scalars\n",
      "  return dot(sen_vec1,sen_vec2)/(norm(sen_vec1)*norm(sen_vec2))\n"
     ]
    },
    {
     "name": "stdout",
     "output_type": "stream",
     "text": [
      "URL            https://www.linkedin.com/in/marwen-ayedi-1a951...\n",
      "job_title                     frontend web developerangularreact\n",
      "Name                                                Marwen Ayedi\n",
      "skills         [problem solving web development backend web d...\n",
      "experiences                                      nan:nan,nan:nan\n",
      "Name: 25, dtype: object\n"
     ]
    },
    {
     "name": "stderr",
     "output_type": "stream",
     "text": [
      "C:\\Users\\MSI GF63\\AppData\\Local\\Temp\\ipykernel_15404\\3122937574.py:23: RuntimeWarning: invalid value encountered in double_scalars\n",
      "  return dot(sen_vec1,sen_vec2)/(norm(sen_vec1)*norm(sen_vec2))\n"
     ]
    },
    {
     "name": "stdout",
     "output_type": "stream",
     "text": [
      "URL            https://www.linkedin.com/in/khalil-bouhdida-30...\n",
      "job_title                                          web developer\n",
      "Name                                             Khalil Bouhdida\n",
      "skills         [php laravel feuilles style cascade css javasc...\n",
      "experiences    Web Developer:sept. 2022 - aujourd’hui · 6 moi...\n",
      "Name: 26, dtype: object\n"
     ]
    },
    {
     "name": "stderr",
     "output_type": "stream",
     "text": [
      "C:\\Users\\MSI GF63\\AppData\\Local\\Temp\\ipykernel_15404\\3122937574.py:23: RuntimeWarning: invalid value encountered in double_scalars\n",
      "  return dot(sen_vec1,sen_vec2)/(norm(sen_vec1)*norm(sen_vec2))\n"
     ]
    },
    {
     "name": "stdout",
     "output_type": "stream",
     "text": [
      "URL            https://www.linkedin.com/in/loujaien-limayma-5...\n",
      "job_title                                          web developer\n",
      "Name                                            Loujaien Limayma\n",
      "skills         [integration cloud computing linux unix inform...\n",
      "experiences    Responsable commercial et logistique :sept. 20...\n",
      "Name: 27, dtype: object\n"
     ]
    },
    {
     "name": "stderr",
     "output_type": "stream",
     "text": [
      "C:\\Users\\MSI GF63\\AppData\\Local\\Temp\\ipykernel_15404\\3122937574.py:23: RuntimeWarning: invalid value encountered in double_scalars\n",
      "  return dot(sen_vec1,sen_vec2)/(norm(sen_vec1)*norm(sen_vec2))\n"
     ]
    },
    {
     "name": "stdout",
     "output_type": "stream",
     "text": [
      "URL                https://www.linkedin.com/in/nissrine-hnainia/\n",
      "job_title                            web developer at go my code\n",
      "Name                                            Nissrine Hnainia\n",
      "skills         [javascript react nodejs reduxjs cascading sty...\n",
      "experiences    Web Developer:août 2020 - aujourd’hui · 2 ans ...\n",
      "Name: 28, dtype: object\n"
     ]
    },
    {
     "name": "stderr",
     "output_type": "stream",
     "text": [
      "C:\\Users\\MSI GF63\\AppData\\Local\\Temp\\ipykernel_15404\\3122937574.py:23: RuntimeWarning: invalid value encountered in double_scalars\n",
      "  return dot(sen_vec1,sen_vec2)/(norm(sen_vec1)*norm(sen_vec2))\n"
     ]
    },
    {
     "name": "stdout",
     "output_type": "stream",
     "text": [
      "URL                    https://www.linkedin.com/in/jilanigharbi/\n",
      "job_title      ⚡️junior web developerangularjs 🅰️  reactjs ⚛️...\n",
      "Name                                             Jilani Gharbi 🌐\n",
      "skills         [plsql selenium developpement web backend matl...\n",
      "experiences    Projet de fin d’études:janv. 2022 - juin 2022 ...\n",
      "Name: 29, dtype: object\n"
     ]
    },
    {
     "name": "stderr",
     "output_type": "stream",
     "text": [
      "C:\\Users\\MSI GF63\\AppData\\Local\\Temp\\ipykernel_15404\\3122937574.py:23: RuntimeWarning: invalid value encountered in double_scalars\n",
      "  return dot(sen_vec1,sen_vec2)/(norm(sen_vec1)*norm(sen_vec2))\n"
     ]
    },
    {
     "name": "stdout",
     "output_type": "stream",
     "text": [
      "URL                   https://www.linkedin.com/in/doghmen-rahma/\n",
      "job_title                                          web developer\n",
      "Name                                               Doghmen Rahma\n",
      "skills         [laravel odoo php javascript bootstrap mysql p...\n",
      "experiences    Webmaster:mars 2022 - aujourd’hui · 1 an,Dével...\n",
      "Name: 30, dtype: object\n"
     ]
    },
    {
     "name": "stderr",
     "output_type": "stream",
     "text": [
      "C:\\Users\\MSI GF63\\AppData\\Local\\Temp\\ipykernel_15404\\3122937574.py:23: RuntimeWarning: invalid value encountered in double_scalars\n",
      "  return dot(sen_vec1,sen_vec2)/(norm(sen_vec1)*norm(sen_vec2))\n"
     ]
    },
    {
     "name": "stdout",
     "output_type": "stream",
     "text": [
      "URL            https://www.linkedin.com/in/marwen-hinaoui-479...\n",
      "job_title      junior mobile developer  experience with react...\n",
      "Name                                              Marwen Hinaoui\n",
      "skills         [android ionic react native expressjs nodejs m...\n",
      "experiences    Web Developer:mars 2020 - aujourd’hui · 3 ans,...\n",
      "Name: 31, dtype: object\n"
     ]
    },
    {
     "name": "stderr",
     "output_type": "stream",
     "text": [
      "C:\\Users\\MSI GF63\\AppData\\Local\\Temp\\ipykernel_15404\\3122937574.py:23: RuntimeWarning: invalid value encountered in double_scalars\n",
      "  return dot(sen_vec1,sen_vec2)/(norm(sen_vec1)*norm(sen_vec2))\n"
     ]
    },
    {
     "name": "stdout",
     "output_type": "stream",
     "text": [
      "URL            https://www.linkedin.com/in/wissem-el-hammi-2a...\n",
      "job_title                              développeur web fullstack\n",
      "Name                                             Wissem El'HAMMI\n",
      "skills         [angular framework ionic net html software dev...\n",
      "experiences    Full-stack Developer:janv. 2017 - aujourd’hui ...\n",
      "Name: 32, dtype: object\n"
     ]
    },
    {
     "name": "stderr",
     "output_type": "stream",
     "text": [
      "C:\\Users\\MSI GF63\\AppData\\Local\\Temp\\ipykernel_15404\\3122937574.py:23: RuntimeWarning: invalid value encountered in double_scalars\n",
      "  return dot(sen_vec1,sen_vec2)/(norm(sen_vec1)*norm(sen_vec2))\n"
     ]
    },
    {
     "name": "stdout",
     "output_type": "stream",
     "text": [
      "URL            https://www.linkedin.com/in/wiem-kouki-17a7a0193/\n",
      "job_title                                          web developer\n",
      "Name                                                  wiem kouki\n",
      "skills                                                    [html]\n",
      "experiences    Web Developer:avr. 2022 - nov. 2022 · 8 mois,W...\n",
      "Name: 33, dtype: object\n"
     ]
    },
    {
     "name": "stderr",
     "output_type": "stream",
     "text": [
      "C:\\Users\\MSI GF63\\AppData\\Local\\Temp\\ipykernel_15404\\3122937574.py:23: RuntimeWarning: invalid value encountered in double_scalars\n",
      "  return dot(sen_vec1,sen_vec2)/(norm(sen_vec1)*norm(sen_vec2))\n"
     ]
    },
    {
     "name": "stdout",
     "output_type": "stream",
     "text": [
      "URL            https://www.linkedin.com/in/maryem-waddeni-147...\n",
      "job_title                               full stack web developer\n",
      "Name                                              maryem waddeni\n",
      "skills         [mysql java oracle sql developer web design so...\n",
      "experiences                                      nan:nan,nan:nan\n",
      "Name: 34, dtype: object\n"
     ]
    },
    {
     "name": "stderr",
     "output_type": "stream",
     "text": [
      "C:\\Users\\MSI GF63\\AppData\\Local\\Temp\\ipykernel_15404\\3122937574.py:23: RuntimeWarning: invalid value encountered in double_scalars\n",
      "  return dot(sen_vec1,sen_vec2)/(norm(sen_vec1)*norm(sen_vec2))\n"
     ]
    },
    {
     "name": "stdout",
     "output_type": "stream",
     "text": [
      "URL            https://www.linkedin.com/in/samir-swidi-322709...\n",
      "job_title                             web developer chez devclic\n",
      "Name                                                 Samir Swidi\n",
      "skills         [developpement web html css php sql angular fi...\n",
      "experiences    Web Developer:déc. 2018 - aujourd’hui · 4 ans ...\n",
      "Name: 35, dtype: object\n"
     ]
    },
    {
     "name": "stderr",
     "output_type": "stream",
     "text": [
      "C:\\Users\\MSI GF63\\AppData\\Local\\Temp\\ipykernel_15404\\3122937574.py:23: RuntimeWarning: invalid value encountered in double_scalars\n",
      "  return dot(sen_vec1,sen_vec2)/(norm(sen_vec1)*norm(sen_vec2))\n"
     ]
    },
    {
     "name": "stdout",
     "output_type": "stream",
     "text": [
      "URL            https://www.linkedin.com/in/ahmed-cheikhrouhou...\n",
      "job_title                              full stack web developer \n",
      "Name                                          Ahmed Cheikhrouhou\n",
      "skills                        [angular nodejs expressjs mongodb]\n",
      "experiences    Technicien Supérieur en Maintenance industriel...\n",
      "Name: 36, dtype: object\n"
     ]
    },
    {
     "name": "stderr",
     "output_type": "stream",
     "text": [
      "C:\\Users\\MSI GF63\\AppData\\Local\\Temp\\ipykernel_15404\\3122937574.py:23: RuntimeWarning: invalid value encountered in double_scalars\n",
      "  return dot(sen_vec1,sen_vec2)/(norm(sen_vec1)*norm(sen_vec2))\n"
     ]
    },
    {
     "name": "stdout",
     "output_type": "stream",
     "text": [
      "URL            https://www.linkedin.com/in/chebbi-mariem-9707...\n",
      "job_title                                          web developer\n",
      "Name                                               Chebbi Mariem\n",
      "skills         [mysql gestion projet communication recherche ...\n",
      "experiences    Développeuse web:janv. 2022 - févr. 2022 · 2 m...\n",
      "Name: 37, dtype: object\n"
     ]
    },
    {
     "name": "stderr",
     "output_type": "stream",
     "text": [
      "C:\\Users\\MSI GF63\\AppData\\Local\\Temp\\ipykernel_15404\\3122937574.py:23: RuntimeWarning: invalid value encountered in double_scalars\n",
      "  return dot(sen_vec1,sen_vec2)/(norm(sen_vec1)*norm(sen_vec2))\n"
     ]
    },
    {
     "name": "stdout",
     "output_type": "stream",
     "text": [
      "URL            https://www.linkedin.com/in/dridi-amira-48b905...\n",
      "job_title                    junior web developer  lets connect \n",
      "Name                                                 Dridi Amira\n",
      "skills         [php laravel web applications frontend develop...\n",
      "experiences    Développeuse  d'une application web:janv. 2022...\n",
      "Name: 38, dtype: object\n"
     ]
    },
    {
     "name": "stderr",
     "output_type": "stream",
     "text": [
      "C:\\Users\\MSI GF63\\AppData\\Local\\Temp\\ipykernel_15404\\3122937574.py:23: RuntimeWarning: invalid value encountered in double_scalars\n",
      "  return dot(sen_vec1,sen_vec2)/(norm(sen_vec1)*norm(sen_vec2))\n"
     ]
    },
    {
     "name": "stdout",
     "output_type": "stream",
     "text": [
      "URL            https://www.linkedin.com/in/dhia-tarchoun-5b94...\n",
      "job_title                                          web developer\n",
      "Name                                               Dhia Tarchoun\n",
      "skills         [javascript docker spring boot java keycloak t...\n",
      "experiences    Stagiaire:févr. 2022 - juin 2022 · 5 mois,Stag...\n",
      "Name: 39, dtype: object\n"
     ]
    },
    {
     "name": "stderr",
     "output_type": "stream",
     "text": [
      "C:\\Users\\MSI GF63\\AppData\\Local\\Temp\\ipykernel_15404\\3122937574.py:23: RuntimeWarning: invalid value encountered in double_scalars\n",
      "  return dot(sen_vec1,sen_vec2)/(norm(sen_vec1)*norm(sen_vec2))\n"
     ]
    },
    {
     "name": "stdout",
     "output_type": "stream",
     "text": [
      "URL            https://www.linkedin.com/in/sihem-manoubi-b8a5...\n",
      "job_title              fullstack web developer net core  angular\n",
      "Name                                               Sihem Manoubi\n",
      "skills         [methodes agiles clean architecture net core s...\n",
      "experiences    Full-stack Web Developer (.Net core / Angular)...\n",
      "Name: 40, dtype: object\n"
     ]
    },
    {
     "name": "stderr",
     "output_type": "stream",
     "text": [
      "C:\\Users\\MSI GF63\\AppData\\Local\\Temp\\ipykernel_15404\\3122937574.py:23: RuntimeWarning: invalid value encountered in double_scalars\n",
      "  return dot(sen_vec1,sen_vec2)/(norm(sen_vec1)*norm(sen_vec2))\n"
     ]
    },
    {
     "name": "stdout",
     "output_type": "stream",
     "text": [
      "URL            https://www.linkedin.com/in/feriel-jendoubi-95...\n",
      "job_title                  web developer at neopolis development\n",
      "Name                                             Feriel Jendoubi\n",
      "skills         [deep learning django rest framework reactjs d...\n",
      "experiences    Frontend Web Developer:sept. 2022 - aujourd’hu...\n",
      "Name: 41, dtype: object\n"
     ]
    },
    {
     "name": "stderr",
     "output_type": "stream",
     "text": [
      "C:\\Users\\MSI GF63\\AppData\\Local\\Temp\\ipykernel_15404\\3122937574.py:23: RuntimeWarning: invalid value encountered in double_scalars\n",
      "  return dot(sen_vec1,sen_vec2)/(norm(sen_vec1)*norm(sen_vec2))\n"
     ]
    },
    {
     "name": "stdout",
     "output_type": "stream",
     "text": [
      "URL            https://www.linkedin.com/in/houssem-fennani-4b...\n",
      "job_title                               full stack web developer\n",
      "Name                                             Houssem Fennani\n",
      "skills         [javascript aspnet mvc developpement android n...\n",
      "experiences    Dotnet Developer:févr. 2019 - aujourd’hui · 4 ...\n",
      "Name: 42, dtype: object\n"
     ]
    },
    {
     "name": "stderr",
     "output_type": "stream",
     "text": [
      "C:\\Users\\MSI GF63\\AppData\\Local\\Temp\\ipykernel_15404\\3122937574.py:23: RuntimeWarning: invalid value encountered in double_scalars\n",
      "  return dot(sen_vec1,sen_vec2)/(norm(sen_vec1)*norm(sen_vec2))\n"
     ]
    },
    {
     "name": "stdout",
     "output_type": "stream",
     "text": [
      "URL            https://www.linkedin.com/in/yosra-bejaoui-b199...\n",
      "job_title                                          web developer\n",
      "Name                                               Yosra Bejaoui\n",
      "skills         [anglais microsoft office agronomie developpem...\n",
      "experiences    Gestionnaire en assurance:sept. 2019 - janv. 2...\n",
      "Name: 43, dtype: object\n"
     ]
    },
    {
     "name": "stderr",
     "output_type": "stream",
     "text": [
      "C:\\Users\\MSI GF63\\AppData\\Local\\Temp\\ipykernel_15404\\3122937574.py:23: RuntimeWarning: invalid value encountered in double_scalars\n",
      "  return dot(sen_vec1,sen_vec2)/(norm(sen_vec1)*norm(sen_vec2))\n"
     ]
    },
    {
     "name": "stdout",
     "output_type": "stream",
     "text": [
      "URL            https://www.linkedin.com/in/houssem-albouchi-2...\n",
      "job_title                                front end web developer\n",
      "Name                                            Houssem Albouchi\n",
      "skills                     [sales effectiveness sales trainings]\n",
      "experiences    Développeur web junior:févr. 2021 - août 2021 ...\n",
      "Name: 44, dtype: object\n"
     ]
    },
    {
     "name": "stderr",
     "output_type": "stream",
     "text": [
      "C:\\Users\\MSI GF63\\AppData\\Local\\Temp\\ipykernel_15404\\3122937574.py:23: RuntimeWarning: invalid value encountered in double_scalars\n",
      "  return dot(sen_vec1,sen_vec2)/(norm(sen_vec1)*norm(sen_vec2))\n"
     ]
    },
    {
     "name": "stdout",
     "output_type": "stream",
     "text": [
      "URL            https://www.linkedin.com/in/achref-essid-b4047...\n",
      "job_title                 fullstack web developer react nodejs\\n\n",
      "Name                                               Achref Essid \n",
      "skills         [english agile methodologies reactjs javascrip...\n",
      "experiences    Full-stack web developer :mars 2020 - aujourd’...\n",
      "Name: 45, dtype: object\n"
     ]
    },
    {
     "name": "stderr",
     "output_type": "stream",
     "text": [
      "C:\\Users\\MSI GF63\\AppData\\Local\\Temp\\ipykernel_15404\\3122937574.py:23: RuntimeWarning: invalid value encountered in double_scalars\n",
      "  return dot(sen_vec1,sen_vec2)/(norm(sen_vec1)*norm(sen_vec2))\n"
     ]
    },
    {
     "name": "stdout",
     "output_type": "stream",
     "text": [
      "URL                 https://www.linkedin.com/in/alaadineandolsi/\n",
      "job_title                                          web developer\n",
      "Name                                            alaadine andolsi\n",
      "skills         [web development javascript web services web a...\n",
      "experiences    Full Stack Engineer:nov. 2017 - aujourd’hui · ...\n",
      "Name: 46, dtype: object\n"
     ]
    },
    {
     "name": "stderr",
     "output_type": "stream",
     "text": [
      "C:\\Users\\MSI GF63\\AppData\\Local\\Temp\\ipykernel_15404\\3122937574.py:23: RuntimeWarning: invalid value encountered in double_scalars\n",
      "  return dot(sen_vec1,sen_vec2)/(norm(sen_vec1)*norm(sen_vec2))\n"
     ]
    },
    {
     "name": "stdout",
     "output_type": "stream",
     "text": [
      "URL                     https://www.linkedin.com/in/mahdy-tlili/\n",
      "job_title                                          web developer\n",
      "Name                                                 Mahdi Tlili\n",
      "skills         [cascading style sheets css reactjs bootstrap ...\n",
      "experiences    Web Developer:nov. 2021 - oct. 2022 · 1 an,Web...\n",
      "Name: 47, dtype: object\n"
     ]
    },
    {
     "name": "stderr",
     "output_type": "stream",
     "text": [
      "C:\\Users\\MSI GF63\\AppData\\Local\\Temp\\ipykernel_15404\\3122937574.py:23: RuntimeWarning: invalid value encountered in double_scalars\n",
      "  return dot(sen_vec1,sen_vec2)/(norm(sen_vec1)*norm(sen_vec2))\n"
     ]
    },
    {
     "name": "stdout",
     "output_type": "stream",
     "text": [
      "URL                    https://www.linkedin.com/in/slah-faguira/\n",
      "job_title                                 full stack développeur\n",
      "Name                                                Slah Faguira\n",
      "skills         [reactjs expressjs java javascript mongodb sql...\n",
      "experiences    Web Developer :janv. 2021 - aujourd’hui · 2 an...\n",
      "Name: 48, dtype: object\n"
     ]
    },
    {
     "name": "stderr",
     "output_type": "stream",
     "text": [
      "C:\\Users\\MSI GF63\\AppData\\Local\\Temp\\ipykernel_15404\\3122937574.py:23: RuntimeWarning: invalid value encountered in double_scalars\n",
      "  return dot(sen_vec1,sen_vec2)/(norm(sen_vec1)*norm(sen_vec2))\n"
     ]
    },
    {
     "name": "stdout",
     "output_type": "stream",
     "text": [
      "URL            https://www.linkedin.com/in/ahmed-awadni-4bba1...\n",
      "job_title                                          web developer\n",
      "Name                                                Ahmed Awadni\n",
      "skills         [php spring boot sql feuilles style cascade cs...\n",
      "experiences    Inventory Manager:janv. 2021 - janv. 2022 · 1 ...\n",
      "Name: 49, dtype: object\n"
     ]
    },
    {
     "name": "stderr",
     "output_type": "stream",
     "text": [
      "C:\\Users\\MSI GF63\\AppData\\Local\\Temp\\ipykernel_15404\\3122937574.py:23: RuntimeWarning: invalid value encountered in double_scalars\n",
      "  return dot(sen_vec1,sen_vec2)/(norm(sen_vec1)*norm(sen_vec2))\n"
     ]
    },
    {
     "name": "stdout",
     "output_type": "stream",
     "text": [
      "URL            https://www.linkedin.com/in/abdeslam-ghoul-1b7...\n",
      "job_title                            web developer  web designer\n",
      "Name                                              Abdeslam Ghoul\n",
      "skills         [javascript angularjs symfony reactjs nodejs m...\n",
      "experiences    Stage en ingénierie:août 2022 - oct. 2022 · 3 ...\n",
      "Name: 50, dtype: object\n"
     ]
    },
    {
     "name": "stderr",
     "output_type": "stream",
     "text": [
      "C:\\Users\\MSI GF63\\AppData\\Local\\Temp\\ipykernel_15404\\3122937574.py:23: RuntimeWarning: invalid value encountered in double_scalars\n",
      "  return dot(sen_vec1,sen_vec2)/(norm(sen_vec1)*norm(sen_vec2))\n"
     ]
    },
    {
     "name": "stdout",
     "output_type": "stream",
     "text": [
      "URL            https://www.linkedin.com/in/ahmed-ghoul-6262b9...\n",
      "job_title                               web developer chez infor\n",
      "Name                                                 Ahmed GHOUL\n",
      "skills         [nodejs typescript javascript services web res...\n",
      "experiences    Software Engineer:déc. 2019 - aujourd’hui · 3 ...\n",
      "Name: 51, dtype: object\n"
     ]
    },
    {
     "name": "stderr",
     "output_type": "stream",
     "text": [
      "C:\\Users\\MSI GF63\\AppData\\Local\\Temp\\ipykernel_15404\\3122937574.py:23: RuntimeWarning: invalid value encountered in double_scalars\n",
      "  return dot(sen_vec1,sen_vec2)/(norm(sen_vec1)*norm(sen_vec2))\n"
     ]
    },
    {
     "name": "stdout",
     "output_type": "stream",
     "text": [
      "URL               https://www.linkedin.com/in/samar-s-743711229/\n",
      "job_title                                fullstack web developer\n",
      "Name                                                    Samar S.\n",
      "skills         [conception web html developpement web laravel...\n",
      "experiences    Software Engineer:oct. 2022 - aujourd’hui · 5 ...\n",
      "Name: 52, dtype: object\n"
     ]
    },
    {
     "name": "stderr",
     "output_type": "stream",
     "text": [
      "C:\\Users\\MSI GF63\\AppData\\Local\\Temp\\ipykernel_15404\\3122937574.py:23: RuntimeWarning: invalid value encountered in double_scalars\n",
      "  return dot(sen_vec1,sen_vec2)/(norm(sen_vec1)*norm(sen_vec2))\n"
     ]
    },
    {
     "name": "stdout",
     "output_type": "stream",
     "text": [
      "URL            https://www.linkedin.com/in/amami-mohamed-355a...\n",
      "job_title                         web developer at self employed\n",
      "Name                                               Amami Mohamed\n",
      "skills         [php html css jquery jquery mobile joomla erp ...\n",
      "experiences    Web Developer:juil. 2017 - aujourd’hui · 5 ans...\n",
      "Name: 53, dtype: object\n"
     ]
    },
    {
     "name": "stderr",
     "output_type": "stream",
     "text": [
      "C:\\Users\\MSI GF63\\AppData\\Local\\Temp\\ipykernel_15404\\3122937574.py:23: RuntimeWarning: invalid value encountered in double_scalars\n",
      "  return dot(sen_vec1,sen_vec2)/(norm(sen_vec1)*norm(sen_vec2))\n"
     ]
    },
    {
     "name": "stdout",
     "output_type": "stream",
     "text": [
      "URL            https://www.linkedin.com/in/ahmed-boudhina-8a2...\n",
      "job_title                full stack web developerreact jsnode js\n",
      "Name                                              Ahmed Boudhina\n",
      "skills            [reactjs nodejs javascript symfony phpmyadmin]\n",
      "experiences                                      nan:nan,nan:nan\n",
      "Name: 54, dtype: object\n"
     ]
    },
    {
     "name": "stderr",
     "output_type": "stream",
     "text": [
      "C:\\Users\\MSI GF63\\AppData\\Local\\Temp\\ipykernel_15404\\3122937574.py:23: RuntimeWarning: invalid value encountered in double_scalars\n",
      "  return dot(sen_vec1,sen_vec2)/(norm(sen_vec1)*norm(sen_vec2))\n"
     ]
    },
    {
     "name": "stdout",
     "output_type": "stream",
     "text": [
      "URL            https://www.linkedin.com/in/sabri-hasnaoui-270...\n",
      "job_title                      développeur web  frontend backend\n",
      "Name                                              Sabri Hasnaoui\n",
      "skills         [developpement logiciels developpement fullsta...\n",
      "experiences    Développeur web:févr. 2018 - aujourd’hui · 5 a...\n",
      "Name: 55, dtype: object\n"
     ]
    },
    {
     "name": "stderr",
     "output_type": "stream",
     "text": [
      "C:\\Users\\MSI GF63\\AppData\\Local\\Temp\\ipykernel_15404\\3122937574.py:23: RuntimeWarning: invalid value encountered in double_scalars\n",
      "  return dot(sen_vec1,sen_vec2)/(norm(sen_vec1)*norm(sen_vec2))\n"
     ]
    },
    {
     "name": "stdout",
     "output_type": "stream",
     "text": [
      "URL            https://www.linkedin.com/in/yosra-mejri-389152...\n",
      "job_title                                          web developer\n",
      "Name                                                 Yosra Mejri\n",
      "skills         [programmation anglais teamcenter systemes emb...\n",
      "experiences    PLM Consultant:juin 2022 - aujourd’hui · 9 moi...\n",
      "Name: 56, dtype: object\n"
     ]
    },
    {
     "name": "stderr",
     "output_type": "stream",
     "text": [
      "C:\\Users\\MSI GF63\\AppData\\Local\\Temp\\ipykernel_15404\\3122937574.py:23: RuntimeWarning: invalid value encountered in double_scalars\n",
      "  return dot(sen_vec1,sen_vec2)/(norm(sen_vec1)*norm(sen_vec2))\n"
     ]
    },
    {
     "name": "stdout",
     "output_type": "stream",
     "text": [
      "URL            https://www.linkedin.com/in/rim-harbeoui-66a68...\n",
      "job_title                                          web developer\n",
      "Name                                                Rim Harbeoui\n",
      "skills         [html javascript feuilles style cascade css my...\n",
      "experiences    Développeur web laravel:juin 2020 - aujourd’hu...\n",
      "Name: 57, dtype: object\n"
     ]
    },
    {
     "name": "stderr",
     "output_type": "stream",
     "text": [
      "C:\\Users\\MSI GF63\\AppData\\Local\\Temp\\ipykernel_15404\\3122937574.py:23: RuntimeWarning: invalid value encountered in double_scalars\n",
      "  return dot(sen_vec1,sen_vec2)/(norm(sen_vec1)*norm(sen_vec2))\n"
     ]
    },
    {
     "name": "stdout",
     "output_type": "stream",
     "text": [
      "URL            https://www.linkedin.com/in/najla-fajraoui-212...\n",
      "job_title                                          web developer\n",
      "Name                                              Najla Fajraoui\n",
      "skills         [ingenierie communication resolution problemes...\n",
      "experiences    Développeur web:mai 2022 - aujourd’hui · 10 mo...\n",
      "Name: 58, dtype: object\n"
     ]
    },
    {
     "name": "stderr",
     "output_type": "stream",
     "text": [
      "C:\\Users\\MSI GF63\\AppData\\Local\\Temp\\ipykernel_15404\\3122937574.py:23: RuntimeWarning: invalid value encountered in double_scalars\n",
      "  return dot(sen_vec1,sen_vec2)/(norm(sen_vec1)*norm(sen_vec2))\n"
     ]
    },
    {
     "name": "stdout",
     "output_type": "stream",
     "text": [
      "URL            https://www.linkedin.com/in/hatem-dardouri-99a...\n",
      "job_title               full stack web developer react jsnode js\n",
      "Name                                              Hatem Dardouri\n",
      "skills         [reactjs nodejs javascript feuilles style casc...\n",
      "experiences                                      nan:nan,nan:nan\n",
      "Name: 59, dtype: object\n"
     ]
    },
    {
     "name": "stderr",
     "output_type": "stream",
     "text": [
      "C:\\Users\\MSI GF63\\AppData\\Local\\Temp\\ipykernel_15404\\3122937574.py:23: RuntimeWarning: invalid value encountered in double_scalars\n",
      "  return dot(sen_vec1,sen_vec2)/(norm(sen_vec1)*norm(sen_vec2))\n"
     ]
    },
    {
     "name": "stdout",
     "output_type": "stream",
     "text": [
      "URL            https://www.linkedin.com/in/ahmed-bouhrira-6bb...\n",
      "job_title                                          web developer\n",
      "Name                                              Ahmed Bouhrira\n",
      "skills         [javascript nodejs mongodb angular vuejs nuxtj...\n",
      "experiences                                      nan:nan,nan:nan\n",
      "Name: 60, dtype: object\n"
     ]
    },
    {
     "name": "stderr",
     "output_type": "stream",
     "text": [
      "C:\\Users\\MSI GF63\\AppData\\Local\\Temp\\ipykernel_15404\\3122937574.py:23: RuntimeWarning: invalid value encountered in double_scalars\n",
      "  return dot(sen_vec1,sen_vec2)/(norm(sen_vec1)*norm(sen_vec2))\n"
     ]
    },
    {
     "name": "stdout",
     "output_type": "stream",
     "text": [
      "URL                   https://www.linkedin.com/in/soltani-hajer/\n",
      "job_title                                  web developer reactjs\n",
      "Name                                               Soltani Hajer\n",
      "skills         [marketing developpement web redaction contenu...\n",
      "experiences    Développeur React.js:déc. 2021 - aujourd’hui ·...\n",
      "Name: 61, dtype: object\n"
     ]
    },
    {
     "name": "stderr",
     "output_type": "stream",
     "text": [
      "C:\\Users\\MSI GF63\\AppData\\Local\\Temp\\ipykernel_15404\\3122937574.py:23: RuntimeWarning: invalid value encountered in double_scalars\n",
      "  return dot(sen_vec1,sen_vec2)/(norm(sen_vec1)*norm(sen_vec2))\n"
     ]
    },
    {
     "name": "stdout",
     "output_type": "stream",
     "text": [
      "URL            https://www.linkedin.com/in/wafa-akrouti-b8b04...\n",
      "job_title                                          web developer\n",
      "Name                                                Wafa Akrouti\n",
      "skills         [anglais design microsoft excel communication ...\n",
      "experiences    Web:janv. 2022 - aujourd’hui · 1 an 2 mois,Fre...\n",
      "Name: 62, dtype: object\n"
     ]
    },
    {
     "name": "stderr",
     "output_type": "stream",
     "text": [
      "C:\\Users\\MSI GF63\\AppData\\Local\\Temp\\ipykernel_15404\\3122937574.py:23: RuntimeWarning: invalid value encountered in double_scalars\n",
      "  return dot(sen_vec1,sen_vec2)/(norm(sen_vec1)*norm(sen_vec2))\n"
     ]
    },
    {
     "name": "stdout",
     "output_type": "stream",
     "text": [
      "URL            https://www.linkedin.com/in/oussema-yahyaoui-b...\n",
      "job_title                                          web developer\n",
      "Name                                            Oussema Yahyaoui\n",
      "skills         [php mysql javascript bootstrap feuilles style...\n",
      "experiences    Full-stack Developer:mars 2021 - juil. 2021 · ...\n",
      "Name: 63, dtype: object\n"
     ]
    },
    {
     "name": "stderr",
     "output_type": "stream",
     "text": [
      "C:\\Users\\MSI GF63\\AppData\\Local\\Temp\\ipykernel_15404\\3122937574.py:23: RuntimeWarning: invalid value encountered in double_scalars\n",
      "  return dot(sen_vec1,sen_vec2)/(norm(sen_vec1)*norm(sen_vec2))\n"
     ]
    },
    {
     "name": "stdout",
     "output_type": "stream",
     "text": [
      "URL                   https://www.linkedin.com/in/khalifa-hadil/\n",
      "job_title                        full stack web developer intern\n",
      "Name                                               Khalifa Hadil\n",
      "skills         [python langage programmation microsoft powerp...\n",
      "experiences     Stagiaire:févr. 2022 - mai 2022 · 4 mois,nan:nan\n",
      "Name: 64, dtype: object\n"
     ]
    },
    {
     "name": "stderr",
     "output_type": "stream",
     "text": [
      "C:\\Users\\MSI GF63\\AppData\\Local\\Temp\\ipykernel_15404\\3122937574.py:23: RuntimeWarning: invalid value encountered in double_scalars\n",
      "  return dot(sen_vec1,sen_vec2)/(norm(sen_vec1)*norm(sen_vec2))\n"
     ]
    },
    {
     "name": "stdout",
     "output_type": "stream",
     "text": [
      "URL            https://www.linkedin.com/in/rim-yakoubi-65aabb...\n",
      "job_title                           web developer  chez sofrecom\n",
      "Name                                                 Rim Yakoubi\n",
      "skills         [symfony angular javajee html ajax php css boo...\n",
      "experiences    Web Developer:juin 2019 - aujourd’hui · 3 ans ...\n",
      "Name: 65, dtype: object\n"
     ]
    },
    {
     "name": "stderr",
     "output_type": "stream",
     "text": [
      "C:\\Users\\MSI GF63\\AppData\\Local\\Temp\\ipykernel_15404\\3122937574.py:23: RuntimeWarning: invalid value encountered in double_scalars\n",
      "  return dot(sen_vec1,sen_vec2)/(norm(sen_vec1)*norm(sen_vec2))\n"
     ]
    },
    {
     "name": "stdout",
     "output_type": "stream",
     "text": [
      "URL                 https://www.linkedin.com/in/youssef-el-amri/\n",
      "job_title                               full stack web developer\n",
      "Name                                             Youssef El Amri\n",
      "skills         [montage video typescript sql firebase design ...\n",
      "experiences    Développeur:févr. 2022 - juin 2022 · 5 mois,St...\n",
      "Name: 66, dtype: object\n"
     ]
    },
    {
     "name": "stderr",
     "output_type": "stream",
     "text": [
      "C:\\Users\\MSI GF63\\AppData\\Local\\Temp\\ipykernel_15404\\3122937574.py:23: RuntimeWarning: invalid value encountered in double_scalars\n",
      "  return dot(sen_vec1,sen_vec2)/(norm(sen_vec1)*norm(sen_vec2))\n"
     ]
    },
    {
     "name": "stdout",
     "output_type": "stream",
     "text": [
      "URL            https://www.linkedin.com/in/sameh-nasri-3b9128...\n",
      "job_title                                         web developer \n",
      "Name                                                 Sameh Nasri\n",
      "skills         [parler public gestion projet methodes agiles ...\n",
      "experiences    Trainee Research Development:févr. 2018 - mai ...\n",
      "Name: 67, dtype: object\n"
     ]
    },
    {
     "name": "stderr",
     "output_type": "stream",
     "text": [
      "C:\\Users\\MSI GF63\\AppData\\Local\\Temp\\ipykernel_15404\\3122937574.py:23: RuntimeWarning: invalid value encountered in double_scalars\n",
      "  return dot(sen_vec1,sen_vec2)/(norm(sen_vec1)*norm(sen_vec2))\n"
     ]
    },
    {
     "name": "stdout",
     "output_type": "stream",
     "text": [
      "URL            https://www.linkedin.com/in/yosra-ouechtati-1a...\n",
      "job_title                            développeur web full stack \n",
      "Name                                             Yosra Ouechtati\n",
      "skills         [html developpement web bootstrap framework sy...\n",
      "experiences    Développeur web:janv. 2019 - aujourd’hui · 4 a...\n",
      "Name: 68, dtype: object\n"
     ]
    },
    {
     "name": "stderr",
     "output_type": "stream",
     "text": [
      "C:\\Users\\MSI GF63\\AppData\\Local\\Temp\\ipykernel_15404\\3122937574.py:23: RuntimeWarning: invalid value encountered in double_scalars\n",
      "  return dot(sen_vec1,sen_vec2)/(norm(sen_vec1)*norm(sen_vec2))\n"
     ]
    },
    {
     "name": "stdout",
     "output_type": "stream",
     "text": [
      "URL            https://www.linkedin.com/in/yassine-amri-a9a23...\n",
      "job_title                                          web developer\n",
      "Name                                                yassine amri\n",
      "skills         [reactjs mongodb expressjs nestjs oracle sql d...\n",
      "experiences    Développeur web:déc. 2018 - aujourd’hui · 4 an...\n",
      "Name: 69, dtype: object\n"
     ]
    },
    {
     "name": "stderr",
     "output_type": "stream",
     "text": [
      "C:\\Users\\MSI GF63\\AppData\\Local\\Temp\\ipykernel_15404\\3122937574.py:23: RuntimeWarning: invalid value encountered in double_scalars\n",
      "  return dot(sen_vec1,sen_vec2)/(norm(sen_vec1)*norm(sen_vec2))\n"
     ]
    },
    {
     "name": "stdout",
     "output_type": "stream",
     "text": [
      "URL            https://www.linkedin.com/in/tlili-hamida-8a5b9...\n",
      "job_title                     web developer engineer at sagemcom\n",
      "Name                                                TLILI Hamida\n",
      "skills         [java linux php jee javascript java enterprise...\n",
      "experiences    Web System Developer:oct. 2017 - aujourd’hui ·...\n",
      "Name: 70, dtype: object\n"
     ]
    },
    {
     "name": "stderr",
     "output_type": "stream",
     "text": [
      "C:\\Users\\MSI GF63\\AppData\\Local\\Temp\\ipykernel_15404\\3122937574.py:23: RuntimeWarning: invalid value encountered in double_scalars\n",
      "  return dot(sen_vec1,sen_vec2)/(norm(sen_vec1)*norm(sen_vec2))\n"
     ]
    },
    {
     "name": "stdout",
     "output_type": "stream",
     "text": [
      "URL            https://www.linkedin.com/in/jihene-chaieb-1467...\n",
      "job_title      web developer  angular  laravel  symfony  java...\n",
      "Name                                               jihene chaieb\n",
      "skills         [angular sql unity github java microsoft sql s...\n",
      "experiences                                      nan:nan,nan:nan\n",
      "Name: 71, dtype: object\n"
     ]
    },
    {
     "name": "stderr",
     "output_type": "stream",
     "text": [
      "C:\\Users\\MSI GF63\\AppData\\Local\\Temp\\ipykernel_15404\\3122937574.py:23: RuntimeWarning: invalid value encountered in double_scalars\n",
      "  return dot(sen_vec1,sen_vec2)/(norm(sen_vec1)*norm(sen_vec2))\n"
     ]
    },
    {
     "name": "stdout",
     "output_type": "stream",
     "text": [
      "URL            https://www.linkedin.com/in/fakher-bakouch-688...\n",
      "job_title                                        react developer\n",
      "Name                                              fakher bakouch\n",
      "skills                                               [mentioned]\n",
      "experiences    React Developer:janv. 2020 - aujourd’hui · 3 a...\n",
      "Name: 72, dtype: object\n"
     ]
    },
    {
     "name": "stderr",
     "output_type": "stream",
     "text": [
      "C:\\Users\\MSI GF63\\AppData\\Local\\Temp\\ipykernel_15404\\3122937574.py:23: RuntimeWarning: invalid value encountered in double_scalars\n",
      "  return dot(sen_vec1,sen_vec2)/(norm(sen_vec1)*norm(sen_vec2))\n"
     ]
    },
    {
     "name": "stdout",
     "output_type": "stream",
     "text": [
      "URL                 https://www.linkedin.com/in/yassine-tayachi/\n",
      "job_title             full stack web developer  graphic designer\n",
      "Name                                            Yassine  Tayachi\n",
      "skills         [fullstack development graphic design branding...\n",
      "experiences    Junior Full Stack Web Developer and Graphic De...\n",
      "Name: 73, dtype: object\n"
     ]
    },
    {
     "name": "stderr",
     "output_type": "stream",
     "text": [
      "C:\\Users\\MSI GF63\\AppData\\Local\\Temp\\ipykernel_15404\\3122937574.py:23: RuntimeWarning: invalid value encountered in double_scalars\n",
      "  return dot(sen_vec1,sen_vec2)/(norm(sen_vec1)*norm(sen_vec2))\n"
     ]
    },
    {
     "name": "stdout",
     "output_type": "stream",
     "text": [
      "URL            https://www.linkedin.com/in/feres-ben-mansour-...\n",
      "job_title                            forex trader  web developer\n",
      "Name                                           Feres Ben Mansour\n",
      "skills         [analyse technique trading anglais forex devel...\n",
      "experiences    Forex Account Manager:nov. 2017 - déc. 2018 · ...\n",
      "Name: 74, dtype: object\n"
     ]
    },
    {
     "name": "stderr",
     "output_type": "stream",
     "text": [
      "C:\\Users\\MSI GF63\\AppData\\Local\\Temp\\ipykernel_15404\\3122937574.py:23: RuntimeWarning: invalid value encountered in double_scalars\n",
      "  return dot(sen_vec1,sen_vec2)/(norm(sen_vec1)*norm(sen_vec2))\n"
     ]
    },
    {
     "name": "stdout",
     "output_type": "stream",
     "text": [
      "URL            https://www.linkedin.com/in/eya-marzouk-2a9654...\n",
      "job_title                software engineer  web developer at ads\n",
      "Name                                                 Eya Marzouk\n",
      "skills         [jakarta ee java developpement web spring boot...\n",
      "experiences    Ingénieure Full Stack:sept. 2022 - aujourd’hui...\n",
      "Name: 75, dtype: object\n"
     ]
    },
    {
     "name": "stderr",
     "output_type": "stream",
     "text": [
      "C:\\Users\\MSI GF63\\AppData\\Local\\Temp\\ipykernel_15404\\3122937574.py:23: RuntimeWarning: invalid value encountered in double_scalars\n",
      "  return dot(sen_vec1,sen_vec2)/(norm(sen_vec1)*norm(sen_vec2))\n"
     ]
    },
    {
     "name": "stdout",
     "output_type": "stream",
     "text": [
      "URL                      https://www.linkedin.com/in/iheb-nacib/\n",
      "job_title                                   full stack developer\n",
      "Name                                                  Iheb Nacib\n",
      "skills         [programming languages web development php lar...\n",
      "experiences    Web Developer:juin 2022 - aujourd’hui · 9 mois...\n",
      "Name: 76, dtype: object\n"
     ]
    },
    {
     "name": "stderr",
     "output_type": "stream",
     "text": [
      "C:\\Users\\MSI GF63\\AppData\\Local\\Temp\\ipykernel_15404\\3122937574.py:23: RuntimeWarning: invalid value encountered in double_scalars\n",
      "  return dot(sen_vec1,sen_vec2)/(norm(sen_vec1)*norm(sen_vec2))\n"
     ]
    },
    {
     "name": "stdout",
     "output_type": "stream",
     "text": [
      "URL                  https://www.linkedin.com/in/wissem-rouabeh/\n",
      "job_title                       web developer  software engineer\n",
      "Name                                              Rouabeh Wissem\n",
      "skills         [reactjs nextjs reduxjs nodejs typescript angu...\n",
      "experiences    Software Engineer Intern:févr. 2022 - juin 202...\n",
      "Name: 77, dtype: object\n"
     ]
    },
    {
     "name": "stderr",
     "output_type": "stream",
     "text": [
      "C:\\Users\\MSI GF63\\AppData\\Local\\Temp\\ipykernel_15404\\3122937574.py:23: RuntimeWarning: invalid value encountered in double_scalars\n",
      "  return dot(sen_vec1,sen_vec2)/(norm(sen_vec1)*norm(sen_vec2))\n"
     ]
    },
    {
     "name": "stdout",
     "output_type": "stream",
     "text": [
      "URL            https://www.linkedin.com/in/nada-jamazi-8b1321...\n",
      "job_title                              web developer as beginner\n",
      "Name                                                 Nada Jamazi\n",
      "skills         [informatique science java visual basic net vb...\n",
      "experiences     Stagiaire:mars 2021 - avr. 2021 · 2 mois,nan:nan\n",
      "Name: 78, dtype: object\n"
     ]
    },
    {
     "name": "stderr",
     "output_type": "stream",
     "text": [
      "C:\\Users\\MSI GF63\\AppData\\Local\\Temp\\ipykernel_15404\\3122937574.py:23: RuntimeWarning: invalid value encountered in double_scalars\n",
      "  return dot(sen_vec1,sen_vec2)/(norm(sen_vec1)*norm(sen_vec2))\n"
     ]
    },
    {
     "name": "stdout",
     "output_type": "stream",
     "text": [
      "URL            https://www.linkedin.com/in/dhia-abdelli-1a201...\n",
      "job_title                                web developer at google\n",
      "Name                                                dhia abdelli\n",
      "skills                                               [mentioned]\n",
      "experiences                                      nan:nan,nan:nan\n",
      "Name: 79, dtype: object\n"
     ]
    },
    {
     "name": "stderr",
     "output_type": "stream",
     "text": [
      "C:\\Users\\MSI GF63\\AppData\\Local\\Temp\\ipykernel_15404\\3122937574.py:23: RuntimeWarning: invalid value encountered in double_scalars\n",
      "  return dot(sen_vec1,sen_vec2)/(norm(sen_vec1)*norm(sen_vec2))\n"
     ]
    },
    {
     "name": "stdout",
     "output_type": "stream",
     "text": [
      "URL            https://www.linkedin.com/in/hechmi-benhadjali-...\n",
      "job_title                           web developer  mern stack ⚛️\n",
      "Name                                           Hechmi Benhadjali\n",
      "skills                                               [mentioned]\n",
      "experiences    Développeur Full Stack:oct. 2022 - aujourd’hui...\n",
      "Name: 80, dtype: object\n"
     ]
    },
    {
     "name": "stderr",
     "output_type": "stream",
     "text": [
      "C:\\Users\\MSI GF63\\AppData\\Local\\Temp\\ipykernel_15404\\3122937574.py:23: RuntimeWarning: invalid value encountered in double_scalars\n",
      "  return dot(sen_vec1,sen_vec2)/(norm(sen_vec1)*norm(sen_vec2))\n"
     ]
    },
    {
     "name": "stdout",
     "output_type": "stream",
     "text": [
      "URL                   https://www.linkedin.com/in/mouadh-bouneb/\n",
      "job_title                                          fullstack web\n",
      "Name                                               Mouadh Bouneb\n",
      "skills         [desktop application development web developme...\n",
      "experiences    Mobile Developer:juil. 2021 - oct. 2022 · 1 an...\n",
      "Name: 81, dtype: object\n"
     ]
    },
    {
     "name": "stderr",
     "output_type": "stream",
     "text": [
      "C:\\Users\\MSI GF63\\AppData\\Local\\Temp\\ipykernel_15404\\3122937574.py:23: RuntimeWarning: invalid value encountered in double_scalars\n",
      "  return dot(sen_vec1,sen_vec2)/(norm(sen_vec1)*norm(sen_vec2))\n"
     ]
    },
    {
     "name": "stdout",
     "output_type": "stream",
     "text": [
      "URL                      https://www.linkedin.com/in/slamataieb/\n",
      "job_title             senior mobile developer  androidflutterios\n",
      "Name                                                 Taieb Slama\n",
      "skills         [slack flutter dart android development agile ...\n",
      "experiences    Senior Mobile Developer:déc. 2022 - aujourd’hu...\n",
      "Name: 82, dtype: object\n"
     ]
    },
    {
     "name": "stderr",
     "output_type": "stream",
     "text": [
      "C:\\Users\\MSI GF63\\AppData\\Local\\Temp\\ipykernel_15404\\3122937574.py:23: RuntimeWarning: invalid value encountered in double_scalars\n",
      "  return dot(sen_vec1,sen_vec2)/(norm(sen_vec1)*norm(sen_vec2))\n"
     ]
    },
    {
     "name": "stdout",
     "output_type": "stream",
     "text": [
      "URL            https://www.linkedin.com/in/rania-aouida-94508...\n",
      "job_title                    embedded and mobile system student \n",
      "Name                                                Rania Aouida\n",
      "skills         [flutter spring boot angular microsoft sql ser...\n",
      "experiences    Web and mobile developer:févr. 2023 - aujourd’...\n",
      "Name: 83, dtype: object\n"
     ]
    },
    {
     "name": "stderr",
     "output_type": "stream",
     "text": [
      "C:\\Users\\MSI GF63\\AppData\\Local\\Temp\\ipykernel_15404\\3122937574.py:23: RuntimeWarning: invalid value encountered in double_scalars\n",
      "  return dot(sen_vec1,sen_vec2)/(norm(sen_vec1)*norm(sen_vec2))\n"
     ]
    },
    {
     "name": "stdout",
     "output_type": "stream",
     "text": [
      "URL                      https://www.linkedin.com/in/wiem-rebah/\n",
      "job_title               challenger  mobile engineer ios  android\n",
      "Name                                                  wiem rebah\n",
      "skills         [sql plsql data warehouse data mining supply c...\n",
      "experiences    Mobile software engineer:nov. 2021 - aujourd’h...\n",
      "Name: 84, dtype: object\n"
     ]
    },
    {
     "name": "stderr",
     "output_type": "stream",
     "text": [
      "C:\\Users\\MSI GF63\\AppData\\Local\\Temp\\ipykernel_15404\\3122937574.py:23: RuntimeWarning: invalid value encountered in double_scalars\n",
      "  return dot(sen_vec1,sen_vec2)/(norm(sen_vec1)*norm(sen_vec2))\n"
     ]
    },
    {
     "name": "stdout",
     "output_type": "stream",
     "text": [
      "URL             https://www.linkedin.com/in/hela-aidi-7a0b28137/\n",
      "job_title                         mobile developer at advantry x\n",
      "Name                                                   Hela AIDI\n",
      "skills         [android development php mysql intelligence ar...\n",
      "experiences    Mobile Developer:avr. 2022 - aujourd’hui · 11 ...\n",
      "Name: 85, dtype: object\n"
     ]
    },
    {
     "name": "stderr",
     "output_type": "stream",
     "text": [
      "C:\\Users\\MSI GF63\\AppData\\Local\\Temp\\ipykernel_15404\\3122937574.py:23: RuntimeWarning: invalid value encountered in double_scalars\n",
      "  return dot(sen_vec1,sen_vec2)/(norm(sen_vec1)*norm(sen_vec2))\n"
     ]
    },
    {
     "name": "stdout",
     "output_type": "stream",
     "text": [
      "URL                   https://www.linkedin.com/in/bilel-dhouibi/\n",
      "job_title                                      mobile developer \n",
      "Name                                               bilel dhouibi\n",
      "skills         [scrum state management swift programming lang...\n",
      "experiences    Mobile Application Developer:nov. 2022 - aujou...\n",
      "Name: 86, dtype: object\n"
     ]
    },
    {
     "name": "stderr",
     "output_type": "stream",
     "text": [
      "C:\\Users\\MSI GF63\\AppData\\Local\\Temp\\ipykernel_15404\\3122937574.py:23: RuntimeWarning: invalid value encountered in double_scalars\n",
      "  return dot(sen_vec1,sen_vec2)/(norm(sen_vec1)*norm(sen_vec2))\n"
     ]
    },
    {
     "name": "stdout",
     "output_type": "stream",
     "text": [
      "URL              https://www.linkedin.com/in/hrichi-kabil-40707/\n",
      "job_title                      mobile developer at eadevelopment\n",
      "Name                                                hrichi kabil\n",
      "skills         [git conception d'applications mobiles react n...\n",
      "experiences    Mobile Developer:juin 2022 - aujourd’hui · 9 m...\n",
      "Name: 87, dtype: object\n"
     ]
    },
    {
     "name": "stderr",
     "output_type": "stream",
     "text": [
      "C:\\Users\\MSI GF63\\AppData\\Local\\Temp\\ipykernel_15404\\3122937574.py:23: RuntimeWarning: invalid value encountered in double_scalars\n",
      "  return dot(sen_vec1,sen_vec2)/(norm(sen_vec1)*norm(sen_vec2))\n"
     ]
    },
    {
     "name": "stdout",
     "output_type": "stream",
     "text": [
      "URL            https://www.linkedin.com/in/wissal-ferjaoui-90...\n",
      "job_title                                     développeur mobile\n",
      "Name                                             wissal ferjaoui\n",
      "skills         [developpement d'applications mobiles java flu...\n",
      "experiences    Développeuse d’applications mobiles:sept. 2021...\n",
      "Name: 88, dtype: object\n"
     ]
    },
    {
     "name": "stderr",
     "output_type": "stream",
     "text": [
      "C:\\Users\\MSI GF63\\AppData\\Local\\Temp\\ipykernel_15404\\3122937574.py:23: RuntimeWarning: invalid value encountered in double_scalars\n",
      "  return dot(sen_vec1,sen_vec2)/(norm(sen_vec1)*norm(sen_vec2))\n"
     ]
    },
    {
     "name": "stdout",
     "output_type": "stream",
     "text": [
      "URL                    https://www.linkedin.com/in/marwatrimech/\n",
      "job_title                    software engineer  mobile developer\n",
      "Name                                               Marwa Trimech\n",
      "skills         [artificial intelligence programmation oriente...\n",
      "experiences    Mobile Developer:nov. 2022 - aujourd’hui · 4 m...\n",
      "Name: 89, dtype: object\n"
     ]
    },
    {
     "name": "stderr",
     "output_type": "stream",
     "text": [
      "C:\\Users\\MSI GF63\\AppData\\Local\\Temp\\ipykernel_15404\\3122937574.py:23: RuntimeWarning: invalid value encountered in double_scalars\n",
      "  return dot(sen_vec1,sen_vec2)/(norm(sen_vec1)*norm(sen_vec2))\n"
     ]
    },
    {
     "name": "stdout",
     "output_type": "stream",
     "text": [
      "URL              https://www.linkedin.com/in/mayssa-b-b265ab194/\n",
      "job_title                                       mobile developer\n",
      "Name                                                   Mayssa B.\n",
      "skills         [kotlin developpement android dart flutter and...\n",
      "experiences    Mobile Developer:févr. 2023 - aujourd’hui · 1 ...\n",
      "Name: 90, dtype: object\n"
     ]
    },
    {
     "name": "stderr",
     "output_type": "stream",
     "text": [
      "C:\\Users\\MSI GF63\\AppData\\Local\\Temp\\ipykernel_15404\\3122937574.py:23: RuntimeWarning: invalid value encountered in double_scalars\n",
      "  return dot(sen_vec1,sen_vec2)/(norm(sen_vec1)*norm(sen_vec2))\n"
     ]
    },
    {
     "name": "stdout",
     "output_type": "stream",
     "text": [
      "URL            https://www.linkedin.com/in/chaima-hichri-1705...\n",
      "job_title                                   mobile engineer 👩🏻‍💻\n",
      "Name                                               Chaima Hichri\n",
      "skills         [developpement android developpement ios flutt...\n",
      "experiences    Mobile Developer:mai 2022 - nov. 2022 · 7 mois...\n",
      "Name: 91, dtype: object\n"
     ]
    },
    {
     "name": "stderr",
     "output_type": "stream",
     "text": [
      "C:\\Users\\MSI GF63\\AppData\\Local\\Temp\\ipykernel_15404\\3122937574.py:23: RuntimeWarning: invalid value encountered in double_scalars\n",
      "  return dot(sen_vec1,sen_vec2)/(norm(sen_vec1)*norm(sen_vec2))\n"
     ]
    },
    {
     "name": "stdout",
     "output_type": "stream",
     "text": [
      "URL            https://www.linkedin.com/in/mohamed-ben-halima...\n",
      "job_title      mobile developer  flutter enthusiast  lead flu...\n",
      "Name                                          Mohamed Ben Halima\n",
      "skills         [sql software development android git kotlin o...\n",
      "experiences    Mobile Developer:juin 2022 - aujourd’hui · 9 m...\n",
      "Name: 92, dtype: object\n"
     ]
    },
    {
     "name": "stderr",
     "output_type": "stream",
     "text": [
      "C:\\Users\\MSI GF63\\AppData\\Local\\Temp\\ipykernel_15404\\3122937574.py:23: RuntimeWarning: invalid value encountered in double_scalars\n",
      "  return dot(sen_vec1,sen_vec2)/(norm(sen_vec1)*norm(sen_vec2))\n"
     ]
    },
    {
     "name": "stdout",
     "output_type": "stream",
     "text": [
      "URL            https://www.linkedin.com/in/sarra-limam-b27777...\n",
      "job_title                    software engineer  mobile developer\n",
      "Name                                                 Sarra Limam\n",
      "skills         [developpement d'applications mobiles flutter ...\n",
      "experiences    Développement mobile:déc. 2017 - févr. 2018 · ...\n",
      "Name: 93, dtype: object\n"
     ]
    },
    {
     "name": "stderr",
     "output_type": "stream",
     "text": [
      "C:\\Users\\MSI GF63\\AppData\\Local\\Temp\\ipykernel_15404\\3122937574.py:23: RuntimeWarning: invalid value encountered in double_scalars\n",
      "  return dot(sen_vec1,sen_vec2)/(norm(sen_vec1)*norm(sen_vec2))\n"
     ]
    },
    {
     "name": "stdout",
     "output_type": "stream",
     "text": [
      "URL            https://www.linkedin.com/in/ghassen-ayed-56023...\n",
      "job_title                          ios mobile developer engineer\n",
      "Name                                                Ghassen Ayed\n",
      "skills         [ios development xcode swift programming langu...\n",
      "experiences     IOS Mobile Developer:août 2021 - aujourd’hui ...\n",
      "Name: 94, dtype: object\n"
     ]
    },
    {
     "name": "stderr",
     "output_type": "stream",
     "text": [
      "C:\\Users\\MSI GF63\\AppData\\Local\\Temp\\ipykernel_15404\\3122937574.py:23: RuntimeWarning: invalid value encountered in double_scalars\n",
      "  return dot(sen_vec1,sen_vec2)/(norm(sen_vec1)*norm(sen_vec2))\n"
     ]
    },
    {
     "name": "stdout",
     "output_type": "stream",
     "text": [
      "URL                    https://www.linkedin.com/in/adel-inoubli/\n",
      "job_title               mobile developer  ios  devops enthusiast\n",
      "Name                                                Adel Inoubli\n",
      "skills         [ios swift git objectivec rest apis sql javasc...\n",
      "experiences    Mobile Software Engineer - iOS:août 2019 - nov...\n",
      "Name: 95, dtype: object\n"
     ]
    },
    {
     "name": "stderr",
     "output_type": "stream",
     "text": [
      "C:\\Users\\MSI GF63\\AppData\\Local\\Temp\\ipykernel_15404\\3122937574.py:23: RuntimeWarning: invalid value encountered in double_scalars\n",
      "  return dot(sen_vec1,sen_vec2)/(norm(sen_vec1)*norm(sen_vec2))\n"
     ]
    },
    {
     "name": "stdout",
     "output_type": "stream",
     "text": [
      "URL                     https://www.linkedin.com/in/outail-ouni/\n",
      "job_title                             fullstack mobile developer\n",
      "Name                                                 Outail Ouni\n",
      "skills         [socketio kotlin swift langage programmation e...\n",
      "experiences    Flutter Developer:juin 2022 - déc. 2022 · 7 mo...\n",
      "Name: 96, dtype: object\n"
     ]
    },
    {
     "name": "stderr",
     "output_type": "stream",
     "text": [
      "C:\\Users\\MSI GF63\\AppData\\Local\\Temp\\ipykernel_15404\\3122937574.py:23: RuntimeWarning: invalid value encountered in double_scalars\n",
      "  return dot(sen_vec1,sen_vec2)/(norm(sen_vec1)*norm(sen_vec2))\n"
     ]
    },
    {
     "name": "stdout",
     "output_type": "stream",
     "text": [
      "URL                   https://www.linkedin.com/in/ghassen-abbes/\n",
      "job_title                               mobile software engineer\n",
      "Name                                               Ghassen ABBES\n",
      "skills         [android flutter react native python php java ...\n",
      "experiences    Mobile Software Engineer:mars 2021 - aujourd’h...\n",
      "Name: 97, dtype: object\n"
     ]
    },
    {
     "name": "stderr",
     "output_type": "stream",
     "text": [
      "C:\\Users\\MSI GF63\\AppData\\Local\\Temp\\ipykernel_15404\\3122937574.py:23: RuntimeWarning: invalid value encountered in double_scalars\n",
      "  return dot(sen_vec1,sen_vec2)/(norm(sen_vec1)*norm(sen_vec2))\n"
     ]
    },
    {
     "name": "stdout",
     "output_type": "stream",
     "text": [
      "URL            https://www.linkedin.com/in/yesmine-khayati-b5...\n",
      "job_title              software engineering and mobile developer\n",
      "Name                                             yesmine khayati\n",
      "skills         [mqtt python langage programmation spring boot...\n",
      "experiences    Ingénieur mobile:févr. 2023 - aujourd’hui · 1 ...\n",
      "Name: 98, dtype: object\n"
     ]
    },
    {
     "name": "stderr",
     "output_type": "stream",
     "text": [
      "C:\\Users\\MSI GF63\\AppData\\Local\\Temp\\ipykernel_15404\\3122937574.py:23: RuntimeWarning: invalid value encountered in double_scalars\n",
      "  return dot(sen_vec1,sen_vec2)/(norm(sen_vec1)*norm(sen_vec2))\n"
     ]
    },
    {
     "name": "stdout",
     "output_type": "stream",
     "text": [
      "URL                     https://www.linkedin.com/in/dora-tekaya/\n",
      "job_title                               mobile software engineer\n",
      "Name                                                 Dora Tekaya\n",
      "skills         [anglais gestion projet developpement android ...\n",
      "experiences    Enseignante Formatrice Associée - ingénieur:se...\n",
      "Name: 99, dtype: object\n"
     ]
    },
    {
     "name": "stderr",
     "output_type": "stream",
     "text": [
      "C:\\Users\\MSI GF63\\AppData\\Local\\Temp\\ipykernel_15404\\3122937574.py:23: RuntimeWarning: invalid value encountered in double_scalars\n",
      "  return dot(sen_vec1,sen_vec2)/(norm(sen_vec1)*norm(sen_vec2))\n"
     ]
    },
    {
     "name": "stdout",
     "output_type": "stream",
     "text": [
      "URL                 https://www.linkedin.com/in/mohamedyahyaoui/\n",
      "job_title                       mobile developer at softparadigm\n",
      "Name                                            Mohamed Yahyaoui\n",
      "skills         [programming language python programming langu...\n",
      "experiences    Mobile Developer:oct. 2022 - aujourd’hui · 5 m...\n",
      "Name: 100, dtype: object\n"
     ]
    },
    {
     "name": "stderr",
     "output_type": "stream",
     "text": [
      "C:\\Users\\MSI GF63\\AppData\\Local\\Temp\\ipykernel_15404\\3122937574.py:23: RuntimeWarning: invalid value encountered in double_scalars\n",
      "  return dot(sen_vec1,sen_vec2)/(norm(sen_vec1)*norm(sen_vec2))\n"
     ]
    },
    {
     "name": "stdout",
     "output_type": "stream",
     "text": [
      "URL            https://www.linkedin.com/in/fakhfakh-fatma-961...\n",
      "job_title                               mobile software designer\n",
      "Name                                              FAKHFAKH Fatma\n",
      "skills         [typescript developpement d'applications mobil...\n",
      "experiences    Mobile Developer:janv. 2022 - aujourd’hui · 1 ...\n",
      "Name: 101, dtype: object\n"
     ]
    },
    {
     "name": "stderr",
     "output_type": "stream",
     "text": [
      "C:\\Users\\MSI GF63\\AppData\\Local\\Temp\\ipykernel_15404\\3122937574.py:23: RuntimeWarning: invalid value encountered in double_scalars\n",
      "  return dot(sen_vec1,sen_vec2)/(norm(sen_vec1)*norm(sen_vec2))\n"
     ]
    },
    {
     "name": "stdout",
     "output_type": "stream",
     "text": [
      "URL                    https://www.linkedin.com/in/hichri-louay/\n",
      "job_title                développeur mobile at bros technologies\n",
      "Name                                                Louay HICHRI\n",
      "skills         [flutter react native dart frontend developmen...\n",
      "experiences    Développeur Mobile:déc. 2021 - aujourd’hui · 1...\n",
      "Name: 102, dtype: object\n"
     ]
    },
    {
     "name": "stderr",
     "output_type": "stream",
     "text": [
      "C:\\Users\\MSI GF63\\AppData\\Local\\Temp\\ipykernel_15404\\3122937574.py:23: RuntimeWarning: invalid value encountered in double_scalars\n",
      "  return dot(sen_vec1,sen_vec2)/(norm(sen_vec1)*norm(sen_vec2))\n"
     ]
    },
    {
     "name": "stdout",
     "output_type": "stream",
     "text": [
      "URL                      https://www.linkedin.com/in/zekriiyadh/\n",
      "job_title                           mobile  fullrstack developer\n",
      "Name                                                 iyadh zekri\n",
      "skills         [ios development web development project manag...\n",
      "experiences    Software Engineer:avr. 2020 - aujourd’hui · 2 ...\n",
      "Name: 103, dtype: object\n"
     ]
    },
    {
     "name": "stderr",
     "output_type": "stream",
     "text": [
      "C:\\Users\\MSI GF63\\AppData\\Local\\Temp\\ipykernel_15404\\3122937574.py:23: RuntimeWarning: invalid value encountered in double_scalars\n",
      "  return dot(sen_vec1,sen_vec2)/(norm(sen_vec1)*norm(sen_vec2))\n"
     ]
    },
    {
     "name": "stdout",
     "output_type": "stream",
     "text": [
      "URL                    https://www.linkedin.com/in/moezbenselem/\n",
      "job_title                                        mobile engineer\n",
      "Name                                               Moez Benselem\n",
      "skills         [kotlin flutter developpement android nodejs e...\n",
      "experiences    Mobile Engineer:juil. 2022 - aujourd’hui · 8 m...\n",
      "Name: 104, dtype: object\n"
     ]
    },
    {
     "name": "stderr",
     "output_type": "stream",
     "text": [
      "C:\\Users\\MSI GF63\\AppData\\Local\\Temp\\ipykernel_15404\\3122937574.py:23: RuntimeWarning: invalid value encountered in double_scalars\n",
      "  return dot(sen_vec1,sen_vec2)/(norm(sen_vec1)*norm(sen_vec2))\n"
     ]
    },
    {
     "name": "stdout",
     "output_type": "stream",
     "text": [
      "URL                  https://www.linkedin.com/in/moussariadh889/\n",
      "job_title                               mobile software engineer\n",
      "Name                                                Moussa Riadh\n",
      "skills         [developpement web backend interface programma...\n",
      "experiences    Mobile Software engineer:janv. 2023 - aujourd’...\n",
      "Name: 105, dtype: object\n"
     ]
    },
    {
     "name": "stderr",
     "output_type": "stream",
     "text": [
      "C:\\Users\\MSI GF63\\AppData\\Local\\Temp\\ipykernel_15404\\3122937574.py:23: RuntimeWarning: invalid value encountered in double_scalars\n",
      "  return dot(sen_vec1,sen_vec2)/(norm(sen_vec1)*norm(sen_vec2))\n"
     ]
    },
    {
     "name": "stdout",
     "output_type": "stream",
     "text": [
      "URL                        https://www.linkedin.com/in/ahmedha1/\n",
      "job_title                                senior mobile developer\n",
      "Name                                            Ahmed Hadj Ammar\n",
      "skills         [kotlin react native flutter android java php ...\n",
      "experiences    Mobile team lead :févr. 2022 - aujourd’hui · 1...\n",
      "Name: 106, dtype: object\n"
     ]
    },
    {
     "name": "stderr",
     "output_type": "stream",
     "text": [
      "C:\\Users\\MSI GF63\\AppData\\Local\\Temp\\ipykernel_15404\\3122937574.py:23: RuntimeWarning: invalid value encountered in double_scalars\n",
      "  return dot(sen_vec1,sen_vec2)/(norm(sen_vec1)*norm(sen_vec2))\n"
     ]
    },
    {
     "name": "stdout",
     "output_type": "stream",
     "text": [
      "URL            https://www.linkedin.com/in/firas-soltani-2637...\n",
      "job_title                              mobile software engineer \n",
      "Name                                               Firas Soltani\n",
      "skills         [ios android keycloak microsoft azure kubernet...\n",
      "experiences    Software Engineer:sept. 2022 - aujourd’hui · 6...\n",
      "Name: 107, dtype: object\n"
     ]
    },
    {
     "name": "stderr",
     "output_type": "stream",
     "text": [
      "C:\\Users\\MSI GF63\\AppData\\Local\\Temp\\ipykernel_15404\\3122937574.py:23: RuntimeWarning: invalid value encountered in double_scalars\n",
      "  return dot(sen_vec1,sen_vec2)/(norm(sen_vec1)*norm(sen_vec2))\n"
     ]
    },
    {
     "name": "stdout",
     "output_type": "stream",
     "text": [
      "URL            https://www.linkedin.com/in/rim-zouari-268691165/\n",
      "job_title                    engineer in mobile computer systems\n",
      "Name                                                  Rim Zouari\n",
      "skills         [mobile application development ubuntu linux s...\n",
      "experiences    Mobile Developer:nov. 2021 - aujourd’hui · 1 a...\n",
      "Name: 108, dtype: object\n"
     ]
    },
    {
     "name": "stderr",
     "output_type": "stream",
     "text": [
      "C:\\Users\\MSI GF63\\AppData\\Local\\Temp\\ipykernel_15404\\3122937574.py:23: RuntimeWarning: invalid value encountered in double_scalars\n",
      "  return dot(sen_vec1,sen_vec2)/(norm(sen_vec1)*norm(sen_vec2))\n"
     ]
    },
    {
     "name": "stdout",
     "output_type": "stream",
     "text": [
      "URL            https://www.linkedin.com/in/ahmed-ouni-022a39131/\n",
      "job_title         developpeur windev et windev mobile chez wedev\n",
      "Name                                                  Ahmed Ouni\n",
      "skills         [developpement logiciel management gestion tem...\n",
      "experiences    Developpeur Windev et Windev Mobile:sept. 2020...\n",
      "Name: 109, dtype: object\n"
     ]
    },
    {
     "name": "stderr",
     "output_type": "stream",
     "text": [
      "C:\\Users\\MSI GF63\\AppData\\Local\\Temp\\ipykernel_15404\\3122937574.py:23: RuntimeWarning: invalid value encountered in double_scalars\n",
      "  return dot(sen_vec1,sen_vec2)/(norm(sen_vec1)*norm(sen_vec2))\n"
     ]
    },
    {
     "name": "stdout",
     "output_type": "stream",
     "text": [
      "URL            https://www.linkedin.com/in/siwar-lahrech-82a6...\n",
      "job_title                          mobile developer at satoripop\n",
      "Name                                               Siwar Lahrech\n",
      "skills                                               [mentioned]\n",
      "experiences    Mobile Developer:août 2020 - aujourd’hui · 2 a...\n",
      "Name: 110, dtype: object\n"
     ]
    },
    {
     "name": "stderr",
     "output_type": "stream",
     "text": [
      "C:\\Users\\MSI GF63\\AppData\\Local\\Temp\\ipykernel_15404\\3122937574.py:23: RuntimeWarning: invalid value encountered in double_scalars\n",
      "  return dot(sen_vec1,sen_vec2)/(norm(sen_vec1)*norm(sen_vec2))\n"
     ]
    },
    {
     "name": "stdout",
     "output_type": "stream",
     "text": [
      "URL               https://www.linkedin.com/in/yassine-benghanem/\n",
      "job_title                                       mobile developer\n",
      "Name                                          Yassine Ben Ghanem\n",
      "skills         [javascript android development kotlin microso...\n",
      "experiences    Mobile Developer:août 2022 - aujourd’hui · 7 m...\n",
      "Name: 111, dtype: object\n"
     ]
    },
    {
     "name": "stderr",
     "output_type": "stream",
     "text": [
      "C:\\Users\\MSI GF63\\AppData\\Local\\Temp\\ipykernel_15404\\3122937574.py:23: RuntimeWarning: invalid value encountered in double_scalars\n",
      "  return dot(sen_vec1,sen_vec2)/(norm(sen_vec1)*norm(sen_vec2))\n"
     ]
    },
    {
     "name": "stdout",
     "output_type": "stream",
     "text": [
      "URL                     https://www.linkedin.com/in/yassinhkiri/\n",
      "job_title                                senior mobile developer\n",
      "Name                                                Yassin Hkiri\n",
      "skills         [android sdk objectivec swift programming lang...\n",
      "experiences    Senior Mobile Developer:juil. 2022 - aujourd’h...\n",
      "Name: 112, dtype: object\n"
     ]
    },
    {
     "name": "stderr",
     "output_type": "stream",
     "text": [
      "C:\\Users\\MSI GF63\\AppData\\Local\\Temp\\ipykernel_15404\\3122937574.py:23: RuntimeWarning: invalid value encountered in double_scalars\n",
      "  return dot(sen_vec1,sen_vec2)/(norm(sen_vec1)*norm(sen_vec2))\n"
     ]
    },
    {
     "name": "stdout",
     "output_type": "stream",
     "text": [
      "URL                    https://www.linkedin.com/in/amyr-fezzeni/\n",
      "job_title      lead mobile developer at letaff  computer soft...\n",
      "Name                                                Amyr Fezzeni\n",
      "skills         [mobile application development pcap flutter p...\n",
      "experiences    Lead Mobile Developer:oct. 2022 - aujourd’hui ...\n",
      "Name: 113, dtype: object\n"
     ]
    },
    {
     "name": "stderr",
     "output_type": "stream",
     "text": [
      "C:\\Users\\MSI GF63\\AppData\\Local\\Temp\\ipykernel_15404\\3122937574.py:23: RuntimeWarning: invalid value encountered in double_scalars\n",
      "  return dot(sen_vec1,sen_vec2)/(norm(sen_vec1)*norm(sen_vec2))\n"
     ]
    },
    {
     "name": "stdout",
     "output_type": "stream",
     "text": [
      "URL            https://www.linkedin.com/in/hamdi-moadeb-b77a5...\n",
      "job_title                       mobile developer at tayara group\n",
      "Name                                                Hamdi Moadeb\n",
      "skills         [developpement android java javascript informa...\n",
      "experiences    Mobile Developer:févr. 2021 - aujourd’hui · 2 ...\n",
      "Name: 114, dtype: object\n"
     ]
    },
    {
     "name": "stderr",
     "output_type": "stream",
     "text": [
      "C:\\Users\\MSI GF63\\AppData\\Local\\Temp\\ipykernel_15404\\3122937574.py:23: RuntimeWarning: invalid value encountered in double_scalars\n",
      "  return dot(sen_vec1,sen_vec2)/(norm(sen_vec1)*norm(sen_vec2))\n"
     ]
    },
    {
     "name": "stdout",
     "output_type": "stream",
     "text": [
      "URL            https://www.linkedin.com/in/ghada-benhmida-a38...\n",
      "job_title                        développeur webmobile freelance\n",
      "Name                                              Ghada Benhmida\n",
      "skills         [developpement d'algorithmes gestion projet fo...\n",
      "experiences    Développeur web freelance:avr. 2020 - aujourd’...\n",
      "Name: 115, dtype: object\n"
     ]
    },
    {
     "name": "stderr",
     "output_type": "stream",
     "text": [
      "C:\\Users\\MSI GF63\\AppData\\Local\\Temp\\ipykernel_15404\\3122937574.py:23: RuntimeWarning: invalid value encountered in double_scalars\n",
      "  return dot(sen_vec1,sen_vec2)/(norm(sen_vec1)*norm(sen_vec2))\n"
     ]
    },
    {
     "name": "stdout",
     "output_type": "stream",
     "text": [
      "URL            https://www.linkedin.com/in/aziz-guizani-47745...\n",
      "job_title                                     software developer\n",
      "Name                                                Aziz Guizani\n",
      "skills         [net framework software development xamarin en...\n",
      "experiences    Mobile Developer:juil. 2022 - aujourd’hui · 8 ...\n",
      "Name: 116, dtype: object\n"
     ]
    },
    {
     "name": "stderr",
     "output_type": "stream",
     "text": [
      "C:\\Users\\MSI GF63\\AppData\\Local\\Temp\\ipykernel_15404\\3122937574.py:23: RuntimeWarning: invalid value encountered in double_scalars\n",
      "  return dot(sen_vec1,sen_vec2)/(norm(sen_vec1)*norm(sen_vec2))\n"
     ]
    },
    {
     "name": "stdout",
     "output_type": "stream",
     "text": [
      "URL                   https://www.linkedin.com/in/ghaziabdallah/\n",
      "job_title                    full stack web and mobile developer\n",
      "Name                                              Ghazi Abdallah\n",
      "skills         [angular framework ionic prestashop wordpress ...\n",
      "experiences    Founder and Développeur Full Stack:juil. 2016 ...\n",
      "Name: 117, dtype: object\n"
     ]
    },
    {
     "name": "stderr",
     "output_type": "stream",
     "text": [
      "C:\\Users\\MSI GF63\\AppData\\Local\\Temp\\ipykernel_15404\\3122937574.py:23: RuntimeWarning: invalid value encountered in double_scalars\n",
      "  return dot(sen_vec1,sen_vec2)/(norm(sen_vec1)*norm(sen_vec2))\n"
     ]
    },
    {
     "name": "stdout",
     "output_type": "stream",
     "text": [
      "URL            https://www.linkedin.com/in/iheb-ben-hamada-10...\n",
      "job_title                             mobile developer at wimobi\n",
      "Name                                             Iheb Ben Hamada\n",
      "skills         [react native flutter developpement android fr...\n",
      "experiences    Mobile Developer:sept. 2021 - aujourd’hui · 1 ...\n",
      "Name: 118, dtype: object\n"
     ]
    },
    {
     "name": "stderr",
     "output_type": "stream",
     "text": [
      "C:\\Users\\MSI GF63\\AppData\\Local\\Temp\\ipykernel_15404\\3122937574.py:23: RuntimeWarning: invalid value encountered in double_scalars\n",
      "  return dot(sen_vec1,sen_vec2)/(norm(sen_vec1)*norm(sen_vec2))\n"
     ]
    },
    {
     "name": "stdout",
     "output_type": "stream",
     "text": [
      "URL                    https://www.linkedin.com/in/omarouederni/\n",
      "job_title                             mobile developer beautinda\n",
      "Name                                               Omar Ouederni\n",
      "skills         [google cloud platform gcp rest apis continuou...\n",
      "experiences    Mobile Developer:nov. 2022 - aujourd’hui · 4 m...\n",
      "Name: 119, dtype: object\n"
     ]
    },
    {
     "name": "stderr",
     "output_type": "stream",
     "text": [
      "C:\\Users\\MSI GF63\\AppData\\Local\\Temp\\ipykernel_15404\\3122937574.py:23: RuntimeWarning: invalid value encountered in double_scalars\n",
      "  return dot(sen_vec1,sen_vec2)/(norm(sen_vec1)*norm(sen_vec2))\n"
     ]
    },
    {
     "name": "stdout",
     "output_type": "stream",
     "text": [
      "URL            https://www.linkedin.com/in/inar-henia-548ba3151/\n",
      "job_title                                     mobile rd engineer\n",
      "Name                                                  Inar Henia\n",
      "skills         [developpement android framework symfony mysql...\n",
      "experiences    Mobile R&D engineer:févr. 2023 - aujourd’hui ·...\n",
      "Name: 120, dtype: object\n"
     ]
    },
    {
     "name": "stderr",
     "output_type": "stream",
     "text": [
      "C:\\Users\\MSI GF63\\AppData\\Local\\Temp\\ipykernel_15404\\3122937574.py:23: RuntimeWarning: invalid value encountered in double_scalars\n",
      "  return dot(sen_vec1,sen_vec2)/(norm(sen_vec1)*norm(sen_vec2))\n"
     ]
    },
    {
     "name": "stdout",
     "output_type": "stream",
     "text": [
      "URL               https://www.linkedin.com/in/medsedkiyouzbechi/\n",
      "job_title                                     développeur mobile\n",
      "Name                                     Mohamed Sedki YOUZBECHI\n",
      "skills         [java android kotlin recherche software develo...\n",
      "experiences    Développeur Mobile Flutter:déc. 2021 - aujourd...\n",
      "Name: 121, dtype: object\n"
     ]
    },
    {
     "name": "stderr",
     "output_type": "stream",
     "text": [
      "C:\\Users\\MSI GF63\\AppData\\Local\\Temp\\ipykernel_15404\\3122937574.py:23: RuntimeWarning: invalid value encountered in double_scalars\n",
      "  return dot(sen_vec1,sen_vec2)/(norm(sen_vec1)*norm(sen_vec2))\n"
     ]
    },
    {
     "name": "stdout",
     "output_type": "stream",
     "text": [
      "URL                    https://www.linkedin.com/in/ahmedkaraoud/\n",
      "job_title      software engineer  mobile developer  flutter  ...\n",
      "Name                                               Ahmed Karaoud\n",
      "skills         [dart teamwork kotlin restful webservices git ...\n",
      "experiences    Mobile Engineer:janv. 2023 - aujourd’hui · 2 m...\n",
      "Name: 122, dtype: object\n"
     ]
    },
    {
     "name": "stderr",
     "output_type": "stream",
     "text": [
      "C:\\Users\\MSI GF63\\AppData\\Local\\Temp\\ipykernel_15404\\3122937574.py:23: RuntimeWarning: invalid value encountered in double_scalars\n",
      "  return dot(sen_vec1,sen_vec2)/(norm(sen_vec1)*norm(sen_vec2))\n"
     ]
    },
    {
     "name": "stdout",
     "output_type": "stream",
     "text": [
      "URL                      https://www.linkedin.com/in/samitouibi/\n",
      "job_title                               mobile software engineer\n",
      "Name                                                 Sami Touibi\n",
      "skills         [flutter android ios swift programming languag...\n",
      "experiences    Mobile Application Developer:mai 2022 - aujour...\n",
      "Name: 123, dtype: object\n"
     ]
    },
    {
     "name": "stderr",
     "output_type": "stream",
     "text": [
      "C:\\Users\\MSI GF63\\AppData\\Local\\Temp\\ipykernel_15404\\3122937574.py:23: RuntimeWarning: invalid value encountered in double_scalars\n",
      "  return dot(sen_vec1,sen_vec2)/(norm(sen_vec1)*norm(sen_vec2))\n"
     ]
    },
    {
     "name": "stdout",
     "output_type": "stream",
     "text": [
      "URL            https://www.linkedin.com/in/mansour-fourati-3b...\n",
      "job_title           consultant développeur windev  windev mobile\n",
      "Name                                             Mansour Fourati\n",
      "skills         [negociations service client gestion projet mi...\n",
      "experiences    CONSULTANT DÉVELOPPEUR WINDEV / WINDEV MOBILE:...\n",
      "Name: 124, dtype: object\n"
     ]
    },
    {
     "name": "stderr",
     "output_type": "stream",
     "text": [
      "C:\\Users\\MSI GF63\\AppData\\Local\\Temp\\ipykernel_15404\\3122937574.py:23: RuntimeWarning: invalid value encountered in double_scalars\n",
      "  return dot(sen_vec1,sen_vec2)/(norm(sen_vec1)*norm(sen_vec2))\n"
     ]
    },
    {
     "name": "stdout",
     "output_type": "stream",
     "text": [
      "URL            https://www.linkedin.com/in/khemiri-meher-2454...\n",
      "job_title                               mobile developer android\n",
      "Name                                              Khemiri  Meher\n",
      "skills                                                 [android]\n",
      "experiences    Développeur d’applications mobiles:mai 2022 - ...\n",
      "Name: 125, dtype: object\n"
     ]
    },
    {
     "name": "stderr",
     "output_type": "stream",
     "text": [
      "C:\\Users\\MSI GF63\\AppData\\Local\\Temp\\ipykernel_15404\\3122937574.py:23: RuntimeWarning: invalid value encountered in double_scalars\n",
      "  return dot(sen_vec1,sen_vec2)/(norm(sen_vec1)*norm(sen_vec2))\n"
     ]
    },
    {
     "name": "stdout",
     "output_type": "stream",
     "text": [
      "URL                    https://www.linkedin.com/in/akram-jabeur/\n",
      "job_title      fullstack developper  web  mobile  api  mern s...\n",
      "Name                                                Akram Jabeur\n",
      "skills         [nodejs mongodb reactjs javascript react nativ...\n",
      "experiences    Développeur Mobile Ionic / React Native:nov. 2...\n",
      "Name: 126, dtype: object\n"
     ]
    },
    {
     "name": "stderr",
     "output_type": "stream",
     "text": [
      "C:\\Users\\MSI GF63\\AppData\\Local\\Temp\\ipykernel_15404\\3122937574.py:23: RuntimeWarning: invalid value encountered in double_scalars\n",
      "  return dot(sen_vec1,sen_vec2)/(norm(sen_vec1)*norm(sen_vec2))\n"
     ]
    },
    {
     "name": "stdout",
     "output_type": "stream",
     "text": [
      "URL            https://www.linkedin.com/in/rahma-chriaa-09694...\n",
      "job_title                      mobile developer  ios reactnative\n",
      "Name                                                rahma Chriaa\n",
      "skills         [react native developpement ios swift programm...\n",
      "experiences    Mobile Developer:févr. 2022 - aujourd’hui · 1 ...\n",
      "Name: 127, dtype: object\n"
     ]
    },
    {
     "name": "stderr",
     "output_type": "stream",
     "text": [
      "C:\\Users\\MSI GF63\\AppData\\Local\\Temp\\ipykernel_15404\\3122937574.py:23: RuntimeWarning: invalid value encountered in double_scalars\n",
      "  return dot(sen_vec1,sen_vec2)/(norm(sen_vec1)*norm(sen_vec2))\n"
     ]
    },
    {
     "name": "stdout",
     "output_type": "stream",
     "text": [
      "URL                        https://www.linkedin.com/in/omarmach/\n",
      "job_title               full stack crossplatform mobile enigneer\n",
      "Name                                             Omar Mach-houty\n",
      "skills         [react native expressjs expressjs jest appium ...\n",
      "experiences    Full-stack cross-platform mobile engineer:nov....\n",
      "Name: 128, dtype: object\n"
     ]
    },
    {
     "name": "stderr",
     "output_type": "stream",
     "text": [
      "C:\\Users\\MSI GF63\\AppData\\Local\\Temp\\ipykernel_15404\\3122937574.py:23: RuntimeWarning: invalid value encountered in double_scalars\n",
      "  return dot(sen_vec1,sen_vec2)/(norm(sen_vec1)*norm(sen_vec2))\n"
     ]
    },
    {
     "name": "stdout",
     "output_type": "stream",
     "text": [
      "URL                         https://www.linkedin.com/in/zouuabi/\n",
      "job_title                                       mobile developer\n",
      "Name                                               Oubeid Zouabi\n",
      "skills         [apis provider pattern android python programm...\n",
      "experiences    Mobile Developer:oct. 2021 - aujourd’hui · 1 a...\n",
      "Name: 129, dtype: object\n"
     ]
    },
    {
     "name": "stderr",
     "output_type": "stream",
     "text": [
      "C:\\Users\\MSI GF63\\AppData\\Local\\Temp\\ipykernel_15404\\3122937574.py:23: RuntimeWarning: invalid value encountered in double_scalars\n",
      "  return dot(sen_vec1,sen_vec2)/(norm(sen_vec1)*norm(sen_vec2))\n"
     ]
    },
    {
     "name": "stdout",
     "output_type": "stream",
     "text": [
      "URL            https://www.linkedin.com/in/dorra-jlassi-8767b...\n",
      "job_title                                      software engineer\n",
      "Name                                                Dorra Jlassi\n",
      "skills         [nodejs mysql flutter docker cloud computing a...\n",
      "experiences    Mobile Developer:févr. 2022 - juin 2022 · 5 mo...\n",
      "Name: 130, dtype: object\n"
     ]
    },
    {
     "name": "stderr",
     "output_type": "stream",
     "text": [
      "C:\\Users\\MSI GF63\\AppData\\Local\\Temp\\ipykernel_15404\\3122937574.py:23: RuntimeWarning: invalid value encountered in double_scalars\n",
      "  return dot(sen_vec1,sen_vec2)/(norm(sen_vec1)*norm(sen_vec2))\n"
     ]
    },
    {
     "name": "stdout",
     "output_type": "stream",
     "text": [
      "URL            https://www.linkedin.com/in/nour-jouini-525215...\n",
      "job_title                                   full stack developer\n",
      "Name                                                 nour jouini\n",
      "skills         [javascript react native vuejs xcode ionic fra...\n",
      "experiences    Software Developer:sept. 2022 - aujourd’hui · ...\n",
      "Name: 131, dtype: object\n"
     ]
    },
    {
     "name": "stderr",
     "output_type": "stream",
     "text": [
      "C:\\Users\\MSI GF63\\AppData\\Local\\Temp\\ipykernel_15404\\3122937574.py:23: RuntimeWarning: invalid value encountered in double_scalars\n",
      "  return dot(sen_vec1,sen_vec2)/(norm(sen_vec1)*norm(sen_vec2))\n"
     ]
    },
    {
     "name": "stdout",
     "output_type": "stream",
     "text": [
      "URL            https://www.linkedin.com/in/mohamed-yacine-mis...\n",
      "job_title                                        mobile engineer\n",
      "Name                                     Mohamed yacine Missaoui\n",
      "skills         [php mongodb angular ionic kotlin android aspn...\n",
      "experiences    Android Engineer:sept. 2022 - aujourd’hui · 6 ...\n",
      "Name: 132, dtype: object\n"
     ]
    },
    {
     "name": "stderr",
     "output_type": "stream",
     "text": [
      "C:\\Users\\MSI GF63\\AppData\\Local\\Temp\\ipykernel_15404\\3122937574.py:23: RuntimeWarning: invalid value encountered in double_scalars\n",
      "  return dot(sen_vec1,sen_vec2)/(norm(sen_vec1)*norm(sen_vec2))\n"
     ]
    },
    {
     "name": "stdout",
     "output_type": "stream",
     "text": [
      "URL                      https://www.linkedin.com/in/med-li-jr-/\n",
      "job_title      software engineer  web  mobile developer  net ...\n",
      "Name                                           Mohamed LAWANI Jr\n",
      "skills         [software development aspnet core flutter sql ...\n",
      "experiences    Full Stack Developer:juil. 2022 - aujourd’hui ...\n",
      "Name: 133, dtype: object\n"
     ]
    },
    {
     "name": "stderr",
     "output_type": "stream",
     "text": [
      "C:\\Users\\MSI GF63\\AppData\\Local\\Temp\\ipykernel_15404\\3122937574.py:23: RuntimeWarning: invalid value encountered in double_scalars\n",
      "  return dot(sen_vec1,sen_vec2)/(norm(sen_vec1)*norm(sen_vec2))\n"
     ]
    },
    {
     "name": "stdout",
     "output_type": "stream",
     "text": [
      "URL                     https://www.linkedin.com/in/tahaelleuch/\n",
      "job_title                                     software developer\n",
      "Name                                                Taha Elleuch\n",
      "skills         [web python flask devops django marketing flut...\n",
      "experiences    Full Stack Mobile Developer:oct. 2021 - aujour...\n",
      "Name: 134, dtype: object\n"
     ]
    },
    {
     "name": "stderr",
     "output_type": "stream",
     "text": [
      "C:\\Users\\MSI GF63\\AppData\\Local\\Temp\\ipykernel_15404\\3122937574.py:23: RuntimeWarning: invalid value encountered in double_scalars\n",
      "  return dot(sen_vec1,sen_vec2)/(norm(sen_vec1)*norm(sen_vec2))\n"
     ]
    },
    {
     "name": "stdout",
     "output_type": "stream",
     "text": [
      "URL                    https://www.linkedin.com/in/rania-kthiri/\n",
      "job_title                           mobile application developer\n",
      "Name                                                Rania Kthiri\n",
      "skills         [financial analysis analytical skills business...\n",
      "experiences    Mobile Application Developer:mars 2022 - aujou...\n",
      "Name: 135, dtype: object\n"
     ]
    },
    {
     "name": "stderr",
     "output_type": "stream",
     "text": [
      "C:\\Users\\MSI GF63\\AppData\\Local\\Temp\\ipykernel_15404\\3122937574.py:23: RuntimeWarning: invalid value encountered in double_scalars\n",
      "  return dot(sen_vec1,sen_vec2)/(norm(sen_vec1)*norm(sen_vec2))\n"
     ]
    },
    {
     "name": "stdout",
     "output_type": "stream",
     "text": [
      "URL                    https://www.linkedin.com/in/ameni-chaker/\n",
      "job_title            mobile team lead react native  android  ios\n",
      "Name                                                Ameni CHAKER\n",
      "skills         [xcode api facebook javascript react native an...\n",
      "experiences    Mobile Software Engineer:mars 2022 - aujourd’h...\n",
      "Name: 136, dtype: object\n"
     ]
    },
    {
     "name": "stderr",
     "output_type": "stream",
     "text": [
      "C:\\Users\\MSI GF63\\AppData\\Local\\Temp\\ipykernel_15404\\3122937574.py:23: RuntimeWarning: invalid value encountered in double_scalars\n",
      "  return dot(sen_vec1,sen_vec2)/(norm(sen_vec1)*norm(sen_vec2))\n"
     ]
    },
    {
     "name": "stdout",
     "output_type": "stream",
     "text": [
      "URL            https://www.linkedin.com/in/fedy-belaid-4a486a...\n",
      "job_title              full stack webmobile developer at tekniva\n",
      "Name                                                 Fedy Belaid\n",
      "skills         [mongoose odm sequelizejs dart flutter nodejs ...\n",
      "experiences    Mobile Developer:juil. 2022 - aujourd’hui · 8 ...\n",
      "Name: 137, dtype: object\n"
     ]
    },
    {
     "name": "stderr",
     "output_type": "stream",
     "text": [
      "C:\\Users\\MSI GF63\\AppData\\Local\\Temp\\ipykernel_15404\\3122937574.py:23: RuntimeWarning: invalid value encountered in double_scalars\n",
      "  return dot(sen_vec1,sen_vec2)/(norm(sen_vec1)*norm(sen_vec2))\n"
     ]
    },
    {
     "name": "stdout",
     "output_type": "stream",
     "text": [
      "URL                 https://www.linkedin.com/in/yasine-romdhane/\n",
      "job_title                                      software engineer\n",
      "Name                                             Yasine Romdhane\n",
      "skills         [mobile developer flutter user experience ux r...\n",
      "experiences    Mobile Developer:avr. 2022 - mai 2022 · 2 mois...\n",
      "Name: 138, dtype: object\n"
     ]
    },
    {
     "name": "stderr",
     "output_type": "stream",
     "text": [
      "C:\\Users\\MSI GF63\\AppData\\Local\\Temp\\ipykernel_15404\\3122937574.py:23: RuntimeWarning: invalid value encountered in double_scalars\n",
      "  return dot(sen_vec1,sen_vec2)/(norm(sen_vec1)*norm(sen_vec2))\n"
     ]
    },
    {
     "name": "stdout",
     "output_type": "stream",
     "text": [
      "URL                  https://www.linkedin.com/in/nawras-bartoul/\n",
      "job_title               mobile software engineer chez bfi groupe\n",
      "Name                                              Nawras Bartoul\n",
      "skills         [developpement web ios developpement d'applica...\n",
      "experiences    Mobile software engineer:mars 2022 - aujourd’h...\n",
      "Name: 139, dtype: object\n"
     ]
    },
    {
     "name": "stderr",
     "output_type": "stream",
     "text": [
      "C:\\Users\\MSI GF63\\AppData\\Local\\Temp\\ipykernel_15404\\3122937574.py:23: RuntimeWarning: invalid value encountered in double_scalars\n",
      "  return dot(sen_vec1,sen_vec2)/(norm(sen_vec1)*norm(sen_vec2))\n"
     ]
    },
    {
     "name": "stdout",
     "output_type": "stream",
     "text": [
      "URL            https://www.linkedin.com/in/mahmoud-ben-khedhe...\n",
      "job_title                                        mobile engineer\n",
      "Name                                         Mahmoud ben khedher\n",
      "skills         [sonarqube kotlin modular app java swift kotli...\n",
      "experiences    Mobile Engineer:déc. 2021 - aujourd’hui · 1 an...\n",
      "Name: 140, dtype: object\n"
     ]
    },
    {
     "name": "stderr",
     "output_type": "stream",
     "text": [
      "C:\\Users\\MSI GF63\\AppData\\Local\\Temp\\ipykernel_15404\\3122937574.py:23: RuntimeWarning: invalid value encountered in double_scalars\n",
      "  return dot(sen_vec1,sen_vec2)/(norm(sen_vec1)*norm(sen_vec2))\n"
     ]
    },
    {
     "name": "stdout",
     "output_type": "stream",
     "text": [
      "URL            https://www.linkedin.com/in/yasser-omar-jammel...\n",
      "job_title                            mobile developer iosflutter\n",
      "Name                                         Yasser Omar Jammeli\n",
      "skills         [flutter swift ios developpement ios applicati...\n",
      "experiences    Mobile Developer (iOS/ Flutter):juil. 2019 - a...\n",
      "Name: 141, dtype: object\n"
     ]
    },
    {
     "name": "stderr",
     "output_type": "stream",
     "text": [
      "C:\\Users\\MSI GF63\\AppData\\Local\\Temp\\ipykernel_15404\\3122937574.py:23: RuntimeWarning: invalid value encountered in double_scalars\n",
      "  return dot(sen_vec1,sen_vec2)/(norm(sen_vec1)*norm(sen_vec2))\n"
     ]
    },
    {
     "name": "stdout",
     "output_type": "stream",
     "text": [
      "URL             https://www.linkedin.com/in/asma-smai-ab373a148/\n",
      "job_title                              mobile developer at mantu\n",
      "Name                                                   Asma smai\n",
      "skills         [xamarin scrum agile methodologies video editi...\n",
      "experiences    Mobile Developer | Scrum master:avr. 2019 - au...\n",
      "Name: 142, dtype: object\n"
     ]
    },
    {
     "name": "stderr",
     "output_type": "stream",
     "text": [
      "C:\\Users\\MSI GF63\\AppData\\Local\\Temp\\ipykernel_15404\\3122937574.py:23: RuntimeWarning: invalid value encountered in double_scalars\n",
      "  return dot(sen_vec1,sen_vec2)/(norm(sen_vec1)*norm(sen_vec2))\n"
     ]
    },
    {
     "name": "stdout",
     "output_type": "stream",
     "text": [
      "URL            https://www.linkedin.com/in/ghassen-kahri-18aa...\n",
      "job_title      full stack mobile development engineer flask f...\n",
      "Name                                               Ghassen KAHRI\n",
      "skills         [english engineering communication french web ...\n",
      "experiences    Full Stack Mobile Development Engineer (Flask,...\n",
      "Name: 143, dtype: object\n"
     ]
    },
    {
     "name": "stderr",
     "output_type": "stream",
     "text": [
      "C:\\Users\\MSI GF63\\AppData\\Local\\Temp\\ipykernel_15404\\3122937574.py:23: RuntimeWarning: invalid value encountered in double_scalars\n",
      "  return dot(sen_vec1,sen_vec2)/(norm(sen_vec1)*norm(sen_vec2))\n"
     ]
    },
    {
     "name": "stdout",
     "output_type": "stream",
     "text": [
      "URL                      https://www.linkedin.com/in/aymen-sbei/\n",
      "job_title                        mobile developer  web developer\n",
      "Name                                                  Aymen Sbei\n",
      "skills         [redux rxjs cryptography reactjs ios developme...\n",
      "experiences    Frontend Web Developer:nov. 2022 - aujourd’hui...\n",
      "Name: 144, dtype: object\n"
     ]
    },
    {
     "name": "stderr",
     "output_type": "stream",
     "text": [
      "C:\\Users\\MSI GF63\\AppData\\Local\\Temp\\ipykernel_15404\\3122937574.py:23: RuntimeWarning: invalid value encountered in double_scalars\n",
      "  return dot(sen_vec1,sen_vec2)/(norm(sen_vec1)*norm(sen_vec2))\n"
     ]
    },
    {
     "name": "stdout",
     "output_type": "stream",
     "text": [
      "URL            https://www.linkedin.com/in/assil-jaber-1044b9...\n",
      "job_title                               mobile engineer at value\n",
      "Name                                                 Assil Jaber\n",
      "skills         [java php nodejs scrum methodes agiles dart fl...\n",
      "experiences    Mobile Developer:oct. 2021 - aujourd’hui · 1 a...\n",
      "Name: 145, dtype: object\n"
     ]
    },
    {
     "name": "stderr",
     "output_type": "stream",
     "text": [
      "C:\\Users\\MSI GF63\\AppData\\Local\\Temp\\ipykernel_15404\\3122937574.py:23: RuntimeWarning: invalid value encountered in double_scalars\n",
      "  return dot(sen_vec1,sen_vec2)/(norm(sen_vec1)*norm(sen_vec2))\n"
     ]
    },
    {
     "name": "stdout",
     "output_type": "stream",
     "text": [
      "URL                   https://www.linkedin.com/in/demni-naoufel/\n",
      "job_title                                 ingénieur radio mobile\n",
      "Name                                              Demni  Naoufel\n",
      "skills         [umts wcdma gsm optimisation optimisaion optim...\n",
      "experiences    Ingénieur Support et Intégration RAN 2G/3G/LTE...\n",
      "Name: 146, dtype: object\n"
     ]
    },
    {
     "name": "stderr",
     "output_type": "stream",
     "text": [
      "C:\\Users\\MSI GF63\\AppData\\Local\\Temp\\ipykernel_15404\\3122937574.py:23: RuntimeWarning: invalid value encountered in double_scalars\n",
      "  return dot(sen_vec1,sen_vec2)/(norm(sen_vec1)*norm(sen_vec2))\n"
     ]
    },
    {
     "name": "stdout",
     "output_type": "stream",
     "text": [
      "URL            https://www.linkedin.com/in/adalia-moutiia-469...\n",
      "job_title                 embedded and mobile software developer\n",
      "Name                                              Adalia Moutiia\n",
      "skills         [xml microsoft excel microsoft word microsoft ...\n",
      "experiences    Embedded and mobile Software Developer:sept. 2...\n",
      "Name: 147, dtype: object\n"
     ]
    },
    {
     "name": "stderr",
     "output_type": "stream",
     "text": [
      "C:\\Users\\MSI GF63\\AppData\\Local\\Temp\\ipykernel_15404\\3122937574.py:23: RuntimeWarning: invalid value encountered in double_scalars\n",
      "  return dot(sen_vec1,sen_vec2)/(norm(sen_vec1)*norm(sen_vec2))\n"
     ]
    },
    {
     "name": "stdout",
     "output_type": "stream",
     "text": [
      "URL            https://www.linkedin.com/in/saoussen-laghouane...\n",
      "job_title                                   ingénieur full stack\n",
      "Name                                          saoussen laghouane\n",
      "skills         [java matlab android rtos arm xilinx ise alter...\n",
      "experiences    Ingénieur consultante Dotnet et applications m...\n",
      "Name: 148, dtype: object\n"
     ]
    },
    {
     "name": "stderr",
     "output_type": "stream",
     "text": [
      "C:\\Users\\MSI GF63\\AppData\\Local\\Temp\\ipykernel_15404\\3122937574.py:23: RuntimeWarning: invalid value encountered in double_scalars\n",
      "  return dot(sen_vec1,sen_vec2)/(norm(sen_vec1)*norm(sen_vec2))\n"
     ]
    },
    {
     "name": "stdout",
     "output_type": "stream",
     "text": [
      "URL             https://www.linkedin.com/in/amel-tlili-78959b94/\n",
      "job_title          software developer windevwindev mobile   sfc™\n",
      "Name                                                  Amel Tlili\n",
      "skills         [programmation gds windev mobile windev html c...\n",
      "experiences    WinDev Software Developer :mai 2021 - janv. 20...\n",
      "Name: 149, dtype: object\n"
     ]
    },
    {
     "name": "stderr",
     "output_type": "stream",
     "text": [
      "C:\\Users\\MSI GF63\\AppData\\Local\\Temp\\ipykernel_15404\\3122937574.py:23: RuntimeWarning: invalid value encountered in double_scalars\n",
      "  return dot(sen_vec1,sen_vec2)/(norm(sen_vec1)*norm(sen_vec2))\n"
     ]
    },
    {
     "name": "stdout",
     "output_type": "stream",
     "text": [
      "URL            https://www.linkedin.com/in/ala%C3%A9ddine-jen...\n",
      "job_title              crossplatform mobile application engineer\n",
      "Name                                          Alaéddine Jendoubi\n",
      "skills         [redux google maps api react hooks functional ...\n",
      "experiences    Mobile Application engineer :mai 2022 - aujour...\n",
      "Name: 150, dtype: object\n"
     ]
    },
    {
     "name": "stderr",
     "output_type": "stream",
     "text": [
      "C:\\Users\\MSI GF63\\AppData\\Local\\Temp\\ipykernel_15404\\3122937574.py:23: RuntimeWarning: invalid value encountered in double_scalars\n",
      "  return dot(sen_vec1,sen_vec2)/(norm(sen_vec1)*norm(sen_vec2))\n"
     ]
    },
    {
     "name": "stdout",
     "output_type": "stream",
     "text": [
      "URL                     https://www.linkedin.com/in/smiri-bacem/\n",
      "job_title                                          web developer\n",
      "Name                                                 Bacem Smiri\n",
      "skills         [integration ui jotai redux wordpress mern sta...\n",
      "experiences    Développeur Full Stack:juin 2021 - aujourd’hui...\n",
      "Name: 151, dtype: object\n"
     ]
    },
    {
     "name": "stderr",
     "output_type": "stream",
     "text": [
      "C:\\Users\\MSI GF63\\AppData\\Local\\Temp\\ipykernel_15404\\3122937574.py:23: RuntimeWarning: invalid value encountered in double_scalars\n",
      "  return dot(sen_vec1,sen_vec2)/(norm(sen_vec1)*norm(sen_vec2))\n"
     ]
    },
    {
     "name": "stdout",
     "output_type": "stream",
     "text": [
      "URL                      https://www.linkedin.com/in/rayen-almi/\n",
      "job_title                     développeur full stack web  mobile\n",
      "Name                                                  Rayen Almi\n",
      "skills         [unity redux reactjs nodejs flutter unity mong...\n",
      "experiences    DÉVELOPPEUR FULL STACK MOBILE:janv. 2022 - jui...\n",
      "Name: 152, dtype: object\n"
     ]
    },
    {
     "name": "stderr",
     "output_type": "stream",
     "text": [
      "C:\\Users\\MSI GF63\\AppData\\Local\\Temp\\ipykernel_15404\\3122937574.py:23: RuntimeWarning: invalid value encountered in double_scalars\n",
      "  return dot(sen_vec1,sen_vec2)/(norm(sen_vec1)*norm(sen_vec2))\n"
     ]
    },
    {
     "name": "stdout",
     "output_type": "stream",
     "text": [
      "URL            https://www.linkedin.com/in/bilel-ameur-095242...\n",
      "job_title                          développeur full stack mobile\n",
      "Name                                                 Bilel AMEUR\n",
      "skills         [erp android net core windev java aspnet flutt...\n",
      "experiences    Développeur/Consultant Mobile:juil. 2020 - auj...\n",
      "Name: 153, dtype: object\n"
     ]
    },
    {
     "name": "stderr",
     "output_type": "stream",
     "text": [
      "C:\\Users\\MSI GF63\\AppData\\Local\\Temp\\ipykernel_15404\\3122937574.py:23: RuntimeWarning: invalid value encountered in double_scalars\n",
      "  return dot(sen_vec1,sen_vec2)/(norm(sen_vec1)*norm(sen_vec2))\n"
     ]
    },
    {
     "name": "stdout",
     "output_type": "stream",
     "text": [
      "URL            https://www.linkedin.com/in/salim-brahmi-b064a...\n",
      "job_title                            team lead  mobile developer\n",
      "Name                                                Salim BRAHMI\n",
      "skills         [objectivec javascript reactjs react native sw...\n",
      "experiences    Team Lead:juil. 2020 - aujourd’hui · 2 ans 8 m...\n",
      "Name: 154, dtype: object\n"
     ]
    },
    {
     "name": "stderr",
     "output_type": "stream",
     "text": [
      "C:\\Users\\MSI GF63\\AppData\\Local\\Temp\\ipykernel_15404\\3122937574.py:23: RuntimeWarning: invalid value encountered in double_scalars\n",
      "  return dot(sen_vec1,sen_vec2)/(norm(sen_vec1)*norm(sen_vec2))\n"
     ]
    },
    {
     "name": "stdout",
     "output_type": "stream",
     "text": [
      "URL            https://www.linkedin.com/in/neit-addi-mariem-3...\n",
      "job_title                                      software engineer\n",
      "Name                                            Neit Addi Mariem\n",
      "skills         [design d'experience utilisateur ux developpem...\n",
      "experiences    Instructeur:févr. 2022 - aujourd’hui · 1 an 1 ...\n",
      "Name: 155, dtype: object\n"
     ]
    },
    {
     "name": "stderr",
     "output_type": "stream",
     "text": [
      "C:\\Users\\MSI GF63\\AppData\\Local\\Temp\\ipykernel_15404\\3122937574.py:23: RuntimeWarning: invalid value encountered in double_scalars\n",
      "  return dot(sen_vec1,sen_vec2)/(norm(sen_vec1)*norm(sen_vec2))\n"
     ]
    },
    {
     "name": "stdout",
     "output_type": "stream",
     "text": [
      "URL            https://www.linkedin.com/in/mlaouah-houda-9679...\n",
      "job_title                                                    NaN\n",
      "Name                                               mlaouah houda\n",
      "skills         [figma engineering html cascading style sheets...\n",
      "experiences    Mobile Developer:oct. 2021 - aujourd’hui · 1 a...\n",
      "Name: 156, dtype: object\n"
     ]
    },
    {
     "name": "stderr",
     "output_type": "stream",
     "text": [
      "C:\\Users\\MSI GF63\\AppData\\Local\\Temp\\ipykernel_15404\\3122937574.py:23: RuntimeWarning: invalid value encountered in double_scalars\n",
      "  return dot(sen_vec1,sen_vec2)/(norm(sen_vec1)*norm(sen_vec2))\n"
     ]
    },
    {
     "name": "stdout",
     "output_type": "stream",
     "text": [
      "URL                   https://www.linkedin.com/in/ilyess-tourki/\n",
      "job_title                                       mobile developer\n",
      "Name                                               ilyess tourki\n",
      "skills         [java android flutter react native scrum php s...\n",
      "experiences    Mobile Developer:juil. 2022 - aujourd’hui · 8 ...\n",
      "Name: 157, dtype: object\n"
     ]
    },
    {
     "name": "stderr",
     "output_type": "stream",
     "text": [
      "C:\\Users\\MSI GF63\\AppData\\Local\\Temp\\ipykernel_15404\\3122937574.py:23: RuntimeWarning: invalid value encountered in double_scalars\n",
      "  return dot(sen_vec1,sen_vec2)/(norm(sen_vec1)*norm(sen_vec2))\n"
     ]
    },
    {
     "name": "stdout",
     "output_type": "stream",
     "text": [
      "URL            https://www.linkedin.com/in/sameh-khemira-5038...\n",
      "job_title                                        mobile engineer\n",
      "Name                                               Sameh Khemira\n",
      "skills         [nodejs applications php framework symfony sql...\n",
      "experiences    Web and Mobile Developer:sept. 2018 - aujourd’...\n",
      "Name: 158, dtype: object\n"
     ]
    },
    {
     "name": "stderr",
     "output_type": "stream",
     "text": [
      "C:\\Users\\MSI GF63\\AppData\\Local\\Temp\\ipykernel_15404\\3122937574.py:23: RuntimeWarning: invalid value encountered in double_scalars\n",
      "  return dot(sen_vec1,sen_vec2)/(norm(sen_vec1)*norm(sen_vec2))\n"
     ]
    },
    {
     "name": "stdout",
     "output_type": "stream",
     "text": [
      "URL                       https://www.linkedin.com/in/moez-sbaa/\n",
      "job_title                                full stack js developer\n",
      "Name                                                   Moez Sbaa\n",
      "skills         [information technology web development mobile...\n",
      "experiences    Web and Mobile Developer:sept. 2021 - aujourd’...\n",
      "Name: 159, dtype: object\n"
     ]
    },
    {
     "name": "stderr",
     "output_type": "stream",
     "text": [
      "C:\\Users\\MSI GF63\\AppData\\Local\\Temp\\ipykernel_15404\\3122937574.py:23: RuntimeWarning: invalid value encountered in double_scalars\n",
      "  return dot(sen_vec1,sen_vec2)/(norm(sen_vec1)*norm(sen_vec2))\n"
     ]
    },
    {
     "name": "stdout",
     "output_type": "stream",
     "text": [
      "URL                  https://www.linkedin.com/in/houssem-rached/\n",
      "job_title                       mobile software engineer android\n",
      "Name                                              Houssem Rached\n",
      "skills         [android android development java kotlin unit ...\n",
      "experiences    Mobile Software Engineer :janv. 2023 - aujourd...\n",
      "Name: 160, dtype: object\n"
     ]
    },
    {
     "name": "stderr",
     "output_type": "stream",
     "text": [
      "C:\\Users\\MSI GF63\\AppData\\Local\\Temp\\ipykernel_15404\\3122937574.py:23: RuntimeWarning: invalid value encountered in double_scalars\n",
      "  return dot(sen_vec1,sen_vec2)/(norm(sen_vec1)*norm(sen_vec2))\n"
     ]
    },
    {
     "name": "stdout",
     "output_type": "stream",
     "text": [
      "URL            https://www.linkedin.com/in/abir-jebali-b58467ba/\n",
      "job_title                  ingénieur support réseau mobile  fixe\n",
      "Name                                                 Abir Jebali\n",
      "skills         [virtualisation troubleshooting telecommunicat...\n",
      "experiences    Ingénieure support réseau mobile & fixe:déc. 2...\n",
      "Name: 161, dtype: object\n"
     ]
    },
    {
     "name": "stderr",
     "output_type": "stream",
     "text": [
      "C:\\Users\\MSI GF63\\AppData\\Local\\Temp\\ipykernel_15404\\3122937574.py:23: RuntimeWarning: invalid value encountered in double_scalars\n",
      "  return dot(sen_vec1,sen_vec2)/(norm(sen_vec1)*norm(sen_vec2))\n"
     ]
    },
    {
     "name": "stdout",
     "output_type": "stream",
     "text": [
      "URL                        https://www.linkedin.com/in/ahmedbhd/\n",
      "job_title                              ingénieur logiciel mobile\n",
      "Name                                             Ahmed BEN HENDA\n",
      "skills         [android swift kotlin unit testing web technol...\n",
      "experiences    Ingénieur Mobile:oct. 2019 - aujourd’hui · 3 a...\n",
      "Name: 162, dtype: object\n"
     ]
    },
    {
     "name": "stderr",
     "output_type": "stream",
     "text": [
      "C:\\Users\\MSI GF63\\AppData\\Local\\Temp\\ipykernel_15404\\3122937574.py:23: RuntimeWarning: invalid value encountered in double_scalars\n",
      "  return dot(sen_vec1,sen_vec2)/(norm(sen_vec1)*norm(sen_vec2))\n"
     ]
    },
    {
     "name": "stdout",
     "output_type": "stream",
     "text": [
      "URL                    https://www.linkedin.com/in/sabrimbarek1/\n",
      "job_title               développeur windev webdev  windev mobile\n",
      "Name                                                Sabri MBAREK\n",
      "skills         [sql html javascript windev developpement logi...\n",
      "experiences    Développeur WinDev,WebDev,WinDev Mobile:sept. ...\n",
      "Name: 163, dtype: object\n"
     ]
    },
    {
     "name": "stderr",
     "output_type": "stream",
     "text": [
      "C:\\Users\\MSI GF63\\AppData\\Local\\Temp\\ipykernel_15404\\3122937574.py:23: RuntimeWarning: invalid value encountered in double_scalars\n",
      "  return dot(sen_vec1,sen_vec2)/(norm(sen_vec1)*norm(sen_vec2))\n"
     ]
    },
    {
     "name": "stdout",
     "output_type": "stream",
     "text": [
      "URL            https://www.linkedin.com/in/abdelhak-labyadh-7...\n",
      "job_title                           frontend webmobile developer\n",
      "Name                                            Abdelhak Labyadh\n",
      "skills         [reactjs react native figma logiciel typescrip...\n",
      "experiences    Front-end web/mobile developer:mai 2022 - aujo...\n",
      "Name: 164, dtype: object\n"
     ]
    },
    {
     "name": "stderr",
     "output_type": "stream",
     "text": [
      "C:\\Users\\MSI GF63\\AppData\\Local\\Temp\\ipykernel_15404\\3122937574.py:23: RuntimeWarning: invalid value encountered in double_scalars\n",
      "  return dot(sen_vec1,sen_vec2)/(norm(sen_vec1)*norm(sen_vec2))\n"
     ]
    },
    {
     "name": "stdout",
     "output_type": "stream",
     "text": [
      "URL            https://www.linkedin.com/in/chaima-jallouli-78...\n",
      "job_title                              mobile software engineer \n",
      "Name                                             Chaima Jallouli\n",
      "skills                                               [mentioned]\n",
      "experiences    Mobile Software Engineer:oct. 2020 - aujourd’h...\n",
      "Name: 165, dtype: object\n"
     ]
    },
    {
     "name": "stderr",
     "output_type": "stream",
     "text": [
      "C:\\Users\\MSI GF63\\AppData\\Local\\Temp\\ipykernel_15404\\3122937574.py:23: RuntimeWarning: invalid value encountered in double_scalars\n",
      "  return dot(sen_vec1,sen_vec2)/(norm(sen_vec1)*norm(sen_vec2))\n"
     ]
    },
    {
     "name": "stdout",
     "output_type": "stream",
     "text": [
      "URL            https://www.linkedin.com/in/mohamed-zerzeri-84...\n",
      "job_title                             huawei mobile core network\n",
      "Name                                             Mohamed Zerzeri\n",
      "skills         [ip gsm umts qos core network reseau principal...\n",
      "experiences    Mobile Core Network Senior Engineer:juin 2008 ...\n",
      "Name: 166, dtype: object\n"
     ]
    },
    {
     "name": "stderr",
     "output_type": "stream",
     "text": [
      "C:\\Users\\MSI GF63\\AppData\\Local\\Temp\\ipykernel_15404\\3122937574.py:23: RuntimeWarning: invalid value encountered in double_scalars\n",
      "  return dot(sen_vec1,sen_vec2)/(norm(sen_vec1)*norm(sen_vec2))\n"
     ]
    },
    {
     "name": "stdout",
     "output_type": "stream",
     "text": [
      "URL            https://www.linkedin.com/in/abir-hcine-4b99b914b/\n",
      "job_title              software mobile developer at mssolutions \n",
      "Name                                                  Abir Hcine\n",
      "skills         [java javascript feuilles style cascade css an...\n",
      "experiences    Mobile Software developer:janv. 2020 - aujourd...\n",
      "Name: 167, dtype: object\n"
     ]
    },
    {
     "name": "stderr",
     "output_type": "stream",
     "text": [
      "C:\\Users\\MSI GF63\\AppData\\Local\\Temp\\ipykernel_15404\\3122937574.py:23: RuntimeWarning: invalid value encountered in double_scalars\n",
      "  return dot(sen_vec1,sen_vec2)/(norm(sen_vec1)*norm(sen_vec2))\n"
     ]
    },
    {
     "name": "stdout",
     "output_type": "stream",
     "text": [
      "URL            https://www.linkedin.com/in/romdhani-hajer-2b0...\n",
      "job_title        développeur web et mobile angular react flutter\n",
      "Name                                              Romdhani Hajer\n",
      "skills         [javascript reactjs flutter nodejs mongodb git...\n",
      "experiences    Développeur web et mobile:juil. 2020 - aujourd...\n",
      "Name: 168, dtype: object\n"
     ]
    },
    {
     "name": "stderr",
     "output_type": "stream",
     "text": [
      "C:\\Users\\MSI GF63\\AppData\\Local\\Temp\\ipykernel_15404\\3122937574.py:23: RuntimeWarning: invalid value encountered in double_scalars\n",
      "  return dot(sen_vec1,sen_vec2)/(norm(sen_vec1)*norm(sen_vec2))\n"
     ]
    },
    {
     "name": "stdout",
     "output_type": "stream",
     "text": [
      "URL                https://www.linkedin.com/in/mariem-ben-rejeb/\n",
      "job_title                     développeur mobile chez streamwide\n",
      "Name                                            Mariem Ben Rejeb\n",
      "skills         [developpement android mobile development appl...\n",
      "experiences    Développeur Mobile:juil. 2019 - aujourd’hui · ...\n",
      "Name: 169, dtype: object\n"
     ]
    },
    {
     "name": "stderr",
     "output_type": "stream",
     "text": [
      "C:\\Users\\MSI GF63\\AppData\\Local\\Temp\\ipykernel_15404\\3122937574.py:23: RuntimeWarning: invalid value encountered in double_scalars\n",
      "  return dot(sen_vec1,sen_vec2)/(norm(sen_vec1)*norm(sen_vec2))\n"
     ]
    },
    {
     "name": "stdout",
     "output_type": "stream",
     "text": [
      "URL                   https://www.linkedin.com/in/omar-trabelsi/\n",
      "job_title                              mobile developer engineer\n",
      "Name                                               Omar Trabelsi\n",
      "skills         [jav programmation programmation orientee obje...\n",
      "experiences    Développeur applications mobiles:nov. 2022 - a...\n",
      "Name: 170, dtype: object\n"
     ]
    },
    {
     "name": "stderr",
     "output_type": "stream",
     "text": [
      "C:\\Users\\MSI GF63\\AppData\\Local\\Temp\\ipykernel_15404\\3122937574.py:23: RuntimeWarning: invalid value encountered in double_scalars\n",
      "  return dot(sen_vec1,sen_vec2)/(norm(sen_vec1)*norm(sen_vec2))\n"
     ]
    },
    {
     "name": "stdout",
     "output_type": "stream",
     "text": [
      "URL            https://www.linkedin.com/in/hassine-khelil-120...\n",
      "job_title                         ingénieur développement mobile\n",
      "Name                                              Hassine KHELIL\n",
      "skills         [android ios java technologie mobile gestion p...\n",
      "experiences    Ingénieur développement mobile:sept. 2021 - au...\n",
      "Name: 171, dtype: object\n"
     ]
    },
    {
     "name": "stderr",
     "output_type": "stream",
     "text": [
      "C:\\Users\\MSI GF63\\AppData\\Local\\Temp\\ipykernel_15404\\3122937574.py:23: RuntimeWarning: invalid value encountered in double_scalars\n",
      "  return dot(sen_vec1,sen_vec2)/(norm(sen_vec1)*norm(sen_vec2))\n"
     ]
    },
    {
     "name": "stdout",
     "output_type": "stream",
     "text": [
      "URL            https://www.linkedin.com/in/islam-talbi-194a85...\n",
      "job_title                               flutter mobile developer\n",
      "Name                                                 Islam Talbi\n",
      "skills         [ios development android development unity big...\n",
      "experiences    Full Stack Engineer:déc. 2020 - aujourd’hui · ...\n",
      "Name: 172, dtype: object\n"
     ]
    },
    {
     "name": "stderr",
     "output_type": "stream",
     "text": [
      "C:\\Users\\MSI GF63\\AppData\\Local\\Temp\\ipykernel_15404\\3122937574.py:23: RuntimeWarning: invalid value encountered in double_scalars\n",
      "  return dot(sen_vec1,sen_vec2)/(norm(sen_vec1)*norm(sen_vec2))\n"
     ]
    },
    {
     "name": "stdout",
     "output_type": "stream",
     "text": [
      "URL            https://www.linkedin.com/in/hamza-attia-774bb7...\n",
      "job_title         ingénieur test et validation  certifié istqb® \n",
      "Name                                                 Hamza Attia\n",
      "skills         [testing test automation software testing phot...\n",
      "experiences    QA Engineer:juin 2020 - aujourd’hui · 2 ans 9 ...\n",
      "Name: 173, dtype: object\n"
     ]
    },
    {
     "name": "stderr",
     "output_type": "stream",
     "text": [
      "C:\\Users\\MSI GF63\\AppData\\Local\\Temp\\ipykernel_15404\\3122937574.py:23: RuntimeWarning: invalid value encountered in double_scalars\n",
      "  return dot(sen_vec1,sen_vec2)/(norm(sen_vec1)*norm(sen_vec2))\n"
     ]
    },
    {
     "name": "stdout",
     "output_type": "stream",
     "text": [
      "URL                        https://www.linkedin.com/in/tmkh1986/\n",
      "job_title              web  mobile developer react  react native\n",
      "Name                                               Tarek Mokhtar\n",
      "skills         [figma software data structures frontend devel...\n",
      "experiences    Web Developer (MERN Stack) | Mobile Developer ...\n",
      "Name: 174, dtype: object\n"
     ]
    },
    {
     "name": "stderr",
     "output_type": "stream",
     "text": [
      "C:\\Users\\MSI GF63\\AppData\\Local\\Temp\\ipykernel_15404\\3122937574.py:23: RuntimeWarning: invalid value encountered in double_scalars\n",
      "  return dot(sen_vec1,sen_vec2)/(norm(sen_vec1)*norm(sen_vec2))\n"
     ]
    },
    {
     "name": "stdout",
     "output_type": "stream",
     "text": [
      "URL                  https://www.linkedin.com/in/thameurmelliti/\n",
      "job_title        mobile core network engineer at ooredoo tunisie\n",
      "Name                                             Melliti Thameur\n",
      "skills         [core network telecommunications troubleshooti...\n",
      "experiences    Mobile Core network Expert and Trainer:sept. 2...\n",
      "Name: 175, dtype: object\n"
     ]
    },
    {
     "name": "stderr",
     "output_type": "stream",
     "text": [
      "C:\\Users\\MSI GF63\\AppData\\Local\\Temp\\ipykernel_15404\\3122937574.py:23: RuntimeWarning: invalid value encountered in double_scalars\n",
      "  return dot(sen_vec1,sen_vec2)/(norm(sen_vec1)*norm(sen_vec2))\n"
     ]
    },
    {
     "name": "stdout",
     "output_type": "stream",
     "text": [
      "URL               https://www.linkedin.com/in/souheil-bouzouita/\n",
      "job_title      full stack mobile developer  certified tensorf...\n",
      "Name                                           Souheil Bouzouita\n",
      "skills         [flutter ios android reactjs nodejs machine le...\n",
      "experiences    Software Engineer Intern:juil. 2022 - aujourd’...\n",
      "Name: 176, dtype: object\n"
     ]
    },
    {
     "name": "stderr",
     "output_type": "stream",
     "text": [
      "C:\\Users\\MSI GF63\\AppData\\Local\\Temp\\ipykernel_15404\\3122937574.py:23: RuntimeWarning: invalid value encountered in double_scalars\n",
      "  return dot(sen_vec1,sen_vec2)/(norm(sen_vec1)*norm(sen_vec2))\n"
     ]
    },
    {
     "name": "stdout",
     "output_type": "stream",
     "text": [
      "URL                        https://www.linkedin.com/in/majdlefi/\n",
      "job_title                               webmobile apps developer\n",
      "Name                                                   Majd LEFI\n",
      "skills         [figma software nextjs redux thunk javascript ...\n",
      "experiences    Mern Stack Developer:mai 2022 - aujourd’hui · ...\n",
      "Name: 177, dtype: object\n"
     ]
    },
    {
     "name": "stderr",
     "output_type": "stream",
     "text": [
      "C:\\Users\\MSI GF63\\AppData\\Local\\Temp\\ipykernel_15404\\3122937574.py:23: RuntimeWarning: invalid value encountered in double_scalars\n",
      "  return dot(sen_vec1,sen_vec2)/(norm(sen_vec1)*norm(sen_vec2))\n"
     ]
    },
    {
     "name": "stdout",
     "output_type": "stream",
     "text": [
      "URL                  https://www.linkedin.com/in/trabelsi-hazem/\n",
      "job_title             team leader mobile developer chez medianet\n",
      "Name                                              Trabelsi Hazem\n",
      "skills         [xml mysql javascript android java ios php jqu...\n",
      "experiences    Team Leader Mobile Developer:oct. 2015 - aujou...\n",
      "Name: 178, dtype: object\n"
     ]
    },
    {
     "name": "stderr",
     "output_type": "stream",
     "text": [
      "C:\\Users\\MSI GF63\\AppData\\Local\\Temp\\ipykernel_15404\\3122937574.py:23: RuntimeWarning: invalid value encountered in double_scalars\n",
      "  return dot(sen_vec1,sen_vec2)/(norm(sen_vec1)*norm(sen_vec2))\n"
     ]
    },
    {
     "name": "stdout",
     "output_type": "stream",
     "text": [
      "URL                  https://www.linkedin.com/in/labibmezghanni/\n",
      "job_title                             mobile software developer \n",
      "Name                                             labib mezghanni\n",
      "skills         [teamwork scrum android ios windows unity java...\n",
      "experiences    Mobile Software developer:janv. 2017 - aujourd...\n",
      "Name: 179, dtype: object\n"
     ]
    },
    {
     "name": "stderr",
     "output_type": "stream",
     "text": [
      "C:\\Users\\MSI GF63\\AppData\\Local\\Temp\\ipykernel_15404\\3122937574.py:23: RuntimeWarning: invalid value encountered in double_scalars\n",
      "  return dot(sen_vec1,sen_vec2)/(norm(sen_vec1)*norm(sen_vec2))\n"
     ]
    },
    {
     "name": "stdout",
     "output_type": "stream",
     "text": [
      "URL            https://www.linkedin.com/in/raed-ben-cherif-81...\n",
      "job_title                                  data science engineer\n",
      "Name                                             Raed Ben cherif\n",
      "skills         [machine learning python nosql statistiques ja...\n",
      "experiences    Data Science Engineer:janv. 2022 - aujourd’hui...\n",
      "Name: 180, dtype: object\n"
     ]
    },
    {
     "name": "stderr",
     "output_type": "stream",
     "text": [
      "C:\\Users\\MSI GF63\\AppData\\Local\\Temp\\ipykernel_15404\\3122937574.py:23: RuntimeWarning: invalid value encountered in double_scalars\n",
      "  return dot(sen_vec1,sen_vec2)/(norm(sen_vec1)*norm(sen_vec2))\n"
     ]
    },
    {
     "name": "stdout",
     "output_type": "stream",
     "text": [
      "URL            https://www.linkedin.com/in/khaoula-hadrouchi-...\n",
      "job_title                          Data Science Studentat esprit\n",
      "Name                                           Khaoula Hadrouchi\n",
      "skills                                               [mentioned]\n",
      "experiences    MLOps Intern:févr. 2023 - aujourd’hui · 1 mois...\n",
      "Name: 181, dtype: object\n"
     ]
    },
    {
     "name": "stderr",
     "output_type": "stream",
     "text": [
      "C:\\Users\\MSI GF63\\AppData\\Local\\Temp\\ipykernel_15404\\3122937574.py:23: RuntimeWarning: invalid value encountered in double_scalars\n",
      "  return dot(sen_vec1,sen_vec2)/(norm(sen_vec1)*norm(sen_vec2))\n"
     ]
    },
    {
     "name": "stdout",
     "output_type": "stream",
     "text": [
      "URL                     https://www.linkedin.com/in/azizmsaddek/\n",
      "job_title                                   Data Science Student\n",
      "Name                                                Aziz Msaddek\n",
      "skills         [java python langage programmation net framewo...\n",
      "experiences    Project Intern:mars 2021 - mai 2021 · 3 mois,S...\n",
      "Name: 182, dtype: object\n"
     ]
    },
    {
     "name": "stderr",
     "output_type": "stream",
     "text": [
      "C:\\Users\\MSI GF63\\AppData\\Local\\Temp\\ipykernel_15404\\3122937574.py:23: RuntimeWarning: invalid value encountered in double_scalars\n",
      "  return dot(sen_vec1,sen_vec2)/(norm(sen_vec1)*norm(sen_vec2))\n"
     ]
    },
    {
     "name": "stdout",
     "output_type": "stream",
     "text": [
      "URL            https://www.linkedin.com/in/mahdi-louati-35641...\n",
      "job_title            data science  statistics  machine learning \n",
      "Name                                                Mahdi Louati\n",
      "skills         [science donnees analyse exploratoire donnees ...\n",
      "experiences    Professeur de l'Enseignement Supérieur:mars 20...\n",
      "Name: 183, dtype: object\n"
     ]
    },
    {
     "name": "stderr",
     "output_type": "stream",
     "text": [
      "C:\\Users\\MSI GF63\\AppData\\Local\\Temp\\ipykernel_15404\\3122937574.py:23: RuntimeWarning: invalid value encountered in double_scalars\n",
      "  return dot(sen_vec1,sen_vec2)/(norm(sen_vec1)*norm(sen_vec2))\n"
     ]
    },
    {
     "name": "stdout",
     "output_type": "stream",
     "text": [
      "URL            https://www.linkedin.com/in/anas-ben-rejeb-504...\n",
      "job_title      applied mathematics engineerdata science assoc...\n",
      "Name                                              Anas Ben rejeb\n",
      "skills         [analyse donnees modelisation mathematique pyt...\n",
      "experiences    Data Science Associate:nov. 2021 - aujourd’hui...\n",
      "Name: 184, dtype: object\n"
     ]
    },
    {
     "name": "stderr",
     "output_type": "stream",
     "text": [
      "C:\\Users\\MSI GF63\\AppData\\Local\\Temp\\ipykernel_15404\\3122937574.py:23: RuntimeWarning: invalid value encountered in double_scalars\n",
      "  return dot(sen_vec1,sen_vec2)/(norm(sen_vec1)*norm(sen_vec2))\n"
     ]
    },
    {
     "name": "stdout",
     "output_type": "stream",
     "text": [
      "URL            https://www.linkedin.com/in/mohamed-iyadh-tajo...\n",
      "job_title               data science engineering  data scientist\n",
      "Name                                       Mohamed Iyadh Tajouri\n",
      "skills         [python langage programmation machine learning...\n",
      "experiences    Intern:janv. 2022 - juil. 2022 · 7 mois,Engine...\n",
      "Name: 185, dtype: object\n"
     ]
    },
    {
     "name": "stderr",
     "output_type": "stream",
     "text": [
      "C:\\Users\\MSI GF63\\AppData\\Local\\Temp\\ipykernel_15404\\3122937574.py:23: RuntimeWarning: invalid value encountered in double_scalars\n",
      "  return dot(sen_vec1,sen_vec2)/(norm(sen_vec1)*norm(sen_vec2))\n"
     ]
    },
    {
     "name": "stdout",
     "output_type": "stream",
     "text": [
      "URL            https://www.linkedin.com/in/wael-khanfirhachen...\n",
      "job_title                                   Data Science Student\n",
      "Name                                         Wael KHANFIRHACHENI\n",
      "skills         [nlp python yaml django java php plsql html fe...\n",
      "experiences    Stagiaire data scientist:févr. 2023 - aujourd’...\n",
      "Name: 186, dtype: object\n"
     ]
    },
    {
     "name": "stderr",
     "output_type": "stream",
     "text": [
      "C:\\Users\\MSI GF63\\AppData\\Local\\Temp\\ipykernel_15404\\3122937574.py:23: RuntimeWarning: invalid value encountered in double_scalars\n",
      "  return dot(sen_vec1,sen_vec2)/(norm(sen_vec1)*norm(sen_vec2))\n"
     ]
    },
    {
     "name": "stdout",
     "output_type": "stream",
     "text": [
      "URL            https://www.linkedin.com/in/hadil-chatti-8176a...\n",
      "job_title                                   Data Science Student\n",
      "Name                                                Hadil Chatti\n",
      "skills                                               [mentioned]\n",
      "experiences    Data Science Intern:févr. 2023 - aujourd’hui ·...\n",
      "Name: 187, dtype: object\n"
     ]
    },
    {
     "name": "stderr",
     "output_type": "stream",
     "text": [
      "C:\\Users\\MSI GF63\\AppData\\Local\\Temp\\ipykernel_15404\\3122937574.py:23: RuntimeWarning: invalid value encountered in double_scalars\n",
      "  return dot(sen_vec1,sen_vec2)/(norm(sen_vec1)*norm(sen_vec2))\n"
     ]
    },
    {
     "name": "stdout",
     "output_type": "stream",
     "text": [
      "URL            https://www.linkedin.com/in/myriam-charfeddine...\n",
      "job_title                                   Data Science Student\n",
      "Name                                          Myriam Charfeddine\n",
      "skills                 [programming python programming language]\n",
      "experiences    Member:oct. 2022 - aujourd’hui · 5 mois,SAP in...\n",
      "Name: 188, dtype: object\n"
     ]
    },
    {
     "name": "stderr",
     "output_type": "stream",
     "text": [
      "C:\\Users\\MSI GF63\\AppData\\Local\\Temp\\ipykernel_15404\\3122937574.py:23: RuntimeWarning: invalid value encountered in double_scalars\n",
      "  return dot(sen_vec1,sen_vec2)/(norm(sen_vec1)*norm(sen_vec2))\n"
     ]
    },
    {
     "name": "stdout",
     "output_type": "stream",
     "text": [
      "URL            https://www.linkedin.com/in/nour-hammami-99469...\n",
      "job_title      Data Science Student business intelligence gra...\n",
      "Name                                                Nour HAMMAMI\n",
      "skills         [prestashop drupal plsql sql framework symfony...\n",
      "experiences    Stagiaire été:juil. 2022 - août 2022 · 2 mois,...\n",
      "Name: 189, dtype: object\n"
     ]
    },
    {
     "name": "stderr",
     "output_type": "stream",
     "text": [
      "C:\\Users\\MSI GF63\\AppData\\Local\\Temp\\ipykernel_15404\\3122937574.py:23: RuntimeWarning: invalid value encountered in double_scalars\n",
      "  return dot(sen_vec1,sen_vec2)/(norm(sen_vec1)*norm(sen_vec2))\n"
     ]
    },
    {
     "name": "stdout",
     "output_type": "stream",
     "text": [
      "URL            https://www.linkedin.com/in/eyhem-zitouni-3754...\n",
      "job_title                                   Data Science Student\n",
      "Name                                               Eyhem Zitouni\n",
      "skills         [marketing digital marketing web development p...\n",
      "experiences    Project Manager:oct. 2021 - aujourd’hui · 1 an...\n",
      "Name: 190, dtype: object\n"
     ]
    },
    {
     "name": "stderr",
     "output_type": "stream",
     "text": [
      "C:\\Users\\MSI GF63\\AppData\\Local\\Temp\\ipykernel_15404\\3122937574.py:23: RuntimeWarning: invalid value encountered in double_scalars\n",
      "  return dot(sen_vec1,sen_vec2)/(norm(sen_vec1)*norm(sen_vec2))\n"
     ]
    },
    {
     "name": "stdout",
     "output_type": "stream",
     "text": [
      "URL            https://www.linkedin.com/in/abdelkader-daghfous-/\n",
      "job_title                                   Data Science Student\n",
      "Name                                         Abdelkader Daghfous\n",
      "skills         [churn apprentissage automatique visual basic ...\n",
      "experiences    Science des données:févr. 2023 - aujourd’hui ·...\n",
      "Name: 191, dtype: object\n"
     ]
    },
    {
     "name": "stderr",
     "output_type": "stream",
     "text": [
      "C:\\Users\\MSI GF63\\AppData\\Local\\Temp\\ipykernel_15404\\3122937574.py:23: RuntimeWarning: invalid value encountered in double_scalars\n",
      "  return dot(sen_vec1,sen_vec2)/(norm(sen_vec1)*norm(sen_vec2))\n"
     ]
    },
    {
     "name": "stdout",
     "output_type": "stream",
     "text": [
      "URL            https://www.linkedin.com/in/chayma-dhahri-b6b1...\n",
      "job_title                                   Data Science Student\n",
      "Name                                               chayma dhahri\n",
      "skills                                               [mentioned]\n",
      "experiences                                      nan:nan,nan:nan\n",
      "Name: 192, dtype: object\n"
     ]
    },
    {
     "name": "stderr",
     "output_type": "stream",
     "text": [
      "C:\\Users\\MSI GF63\\AppData\\Local\\Temp\\ipykernel_15404\\3122937574.py:23: RuntimeWarning: invalid value encountered in double_scalars\n",
      "  return dot(sen_vec1,sen_vec2)/(norm(sen_vec1)*norm(sen_vec2))\n"
     ]
    },
    {
     "name": "stdout",
     "output_type": "stream",
     "text": [
      "URL              https://www.linkedin.com/in/smirani-abdessalem/\n",
      "job_title                                  data science engineer\n",
      "Name                                          SMIRANI Abdessalem\n",
      "skills         [web scraping traitement automatique langage n...\n",
      "experiences    Consultant Data Science:sept. 2022 - aujourd’h...\n",
      "Name: 193, dtype: object\n"
     ]
    },
    {
     "name": "stderr",
     "output_type": "stream",
     "text": [
      "C:\\Users\\MSI GF63\\AppData\\Local\\Temp\\ipykernel_15404\\3122937574.py:23: RuntimeWarning: invalid value encountered in double_scalars\n",
      "  return dot(sen_vec1,sen_vec2)/(norm(sen_vec1)*norm(sen_vec2))\n"
     ]
    },
    {
     "name": "stdout",
     "output_type": "stream",
     "text": [
      "URL            https://www.linkedin.com/in/med-aziz-omrani-41...\n",
      "job_title      data science  engineering student  private hig...\n",
      "Name                                             Med aziz Omrani\n",
      "skills                                               [mentioned]\n",
      "experiences                                      nan:nan,nan:nan\n",
      "Name: 194, dtype: object\n"
     ]
    },
    {
     "name": "stderr",
     "output_type": "stream",
     "text": [
      "C:\\Users\\MSI GF63\\AppData\\Local\\Temp\\ipykernel_15404\\3122937574.py:23: RuntimeWarning: invalid value encountered in double_scalars\n",
      "  return dot(sen_vec1,sen_vec2)/(norm(sen_vec1)*norm(sen_vec2))\n"
     ]
    },
    {
     "name": "stdout",
     "output_type": "stream",
     "text": [
      "URL                  https://www.linkedin.com/in/maissa-madouri/\n",
      "job_title                                   Data Science Student\n",
      "Name                                              Maissa Madouri\n",
      "skills         [analyse donnees r leadership d'equipe travail...\n",
      "experiences    Stagiaire:août 2020 · 1 mois,Stagiaire:janv. 2...\n",
      "Name: 195, dtype: object\n"
     ]
    },
    {
     "name": "stderr",
     "output_type": "stream",
     "text": [
      "C:\\Users\\MSI GF63\\AppData\\Local\\Temp\\ipykernel_15404\\3122937574.py:23: RuntimeWarning: invalid value encountered in double_scalars\n",
      "  return dot(sen_vec1,sen_vec2)/(norm(sen_vec1)*norm(sen_vec2))\n"
     ]
    },
    {
     "name": "stdout",
     "output_type": "stream",
     "text": [
      "URL            https://www.linkedin.com/in/eya-bouzaiene-9812...\n",
      "job_title                      data science  engineering student\n",
      "Name                                               eya bouzaiene\n",
      "skills                                               [mentioned]\n",
      "experiences                                      nan:nan,nan:nan\n",
      "Name: 196, dtype: object\n"
     ]
    },
    {
     "name": "stderr",
     "output_type": "stream",
     "text": [
      "C:\\Users\\MSI GF63\\AppData\\Local\\Temp\\ipykernel_15404\\3122937574.py:23: RuntimeWarning: invalid value encountered in double_scalars\n",
      "  return dot(sen_vec1,sen_vec2)/(norm(sen_vec1)*norm(sen_vec2))\n"
     ]
    },
    {
     "name": "stdout",
     "output_type": "stream",
     "text": [
      "URL            https://www.linkedin.com/in/eya-cherni-4498a6172/\n",
      "job_title                                   Data Science Student\n",
      "Name                                                  Eya CHERNI\n",
      "skills                                               [mentioned]\n",
      "experiences    Data Science Intern:juil. 2022 - aujourd’hui ·...\n",
      "Name: 197, dtype: object\n"
     ]
    },
    {
     "name": "stderr",
     "output_type": "stream",
     "text": [
      "C:\\Users\\MSI GF63\\AppData\\Local\\Temp\\ipykernel_15404\\3122937574.py:23: RuntimeWarning: invalid value encountered in double_scalars\n",
      "  return dot(sen_vec1,sen_vec2)/(norm(sen_vec1)*norm(sen_vec2))\n"
     ]
    },
    {
     "name": "stdout",
     "output_type": "stream",
     "text": [
      "URL                      https://www.linkedin.com/in/raniafradi/\n",
      "job_title                                   Data Science Student\n",
      "Name                                                 Rania Fradi\n",
      "skills         [natural language processing nlp python progra...\n",
      "experiences    Machine Learning Intern:févr. 2023 - aujourd’h...\n",
      "Name: 198, dtype: object\n"
     ]
    },
    {
     "name": "stderr",
     "output_type": "stream",
     "text": [
      "C:\\Users\\MSI GF63\\AppData\\Local\\Temp\\ipykernel_15404\\3122937574.py:23: RuntimeWarning: invalid value encountered in double_scalars\n",
      "  return dot(sen_vec1,sen_vec2)/(norm(sen_vec1)*norm(sen_vec2))\n"
     ]
    },
    {
     "name": "stdout",
     "output_type": "stream",
     "text": [
      "URL            https://www.linkedin.com/in/oumayma-bechraoui-...\n",
      "job_title            data science master engineer  at axefinance\n",
      "Name                                           Oumayma BECHRAOUI\n",
      "skills         [analyse donnees python langage programmation ...\n",
      "experiences    End of study project:févr. 2021 - aujourd’hui ...\n",
      "Name: 199, dtype: object\n"
     ]
    },
    {
     "name": "stderr",
     "output_type": "stream",
     "text": [
      "C:\\Users\\MSI GF63\\AppData\\Local\\Temp\\ipykernel_15404\\3122937574.py:23: RuntimeWarning: invalid value encountered in double_scalars\n",
      "  return dot(sen_vec1,sen_vec2)/(norm(sen_vec1)*norm(sen_vec2))\n"
     ]
    },
    {
     "name": "stdout",
     "output_type": "stream",
     "text": [
      "URL            https://www.linkedin.com/in/ghada-ouni-800806197/\n",
      "job_title                                   Data Science Student\n",
      "Name                                                  ghada ouni\n",
      "skills                                               [mentioned]\n",
      "experiences                                      nan:nan,nan:nan\n",
      "Name: 200, dtype: object\n"
     ]
    },
    {
     "name": "stderr",
     "output_type": "stream",
     "text": [
      "C:\\Users\\MSI GF63\\AppData\\Local\\Temp\\ipykernel_15404\\3122937574.py:23: RuntimeWarning: invalid value encountered in double_scalars\n",
      "  return dot(sen_vec1,sen_vec2)/(norm(sen_vec1)*norm(sen_vec2))\n"
     ]
    },
    {
     "name": "stdout",
     "output_type": "stream",
     "text": [
      "URL            https://www.linkedin.com/in/ilyes-allouche-a72...\n",
      "job_title      applied mathematics and modeling engineering s...\n",
      "Name                                              Ilyes Allouche\n",
      "skills                                               [mentioned]\n",
      "experiences    Data Science Intern:févr. 2023 - aujourd’hui ·...\n",
      "Name: 201, dtype: object\n"
     ]
    },
    {
     "name": "stderr",
     "output_type": "stream",
     "text": [
      "C:\\Users\\MSI GF63\\AppData\\Local\\Temp\\ipykernel_15404\\3122937574.py:23: RuntimeWarning: invalid value encountered in double_scalars\n",
      "  return dot(sen_vec1,sen_vec2)/(norm(sen_vec1)*norm(sen_vec2))\n"
     ]
    },
    {
     "name": "stdout",
     "output_type": "stream",
     "text": [
      "URL            https://www.linkedin.com/in/moussa-elghouli-25...\n",
      "job_title                                  data science engineer\n",
      "Name                                             Moussa Elghouli\n",
      "skills                                               [mentioned]\n",
      "experiences     Engineering Student (TEK-UP):sept. 2019 - nov...\n",
      "Name: 202, dtype: object\n"
     ]
    },
    {
     "name": "stderr",
     "output_type": "stream",
     "text": [
      "C:\\Users\\MSI GF63\\AppData\\Local\\Temp\\ipykernel_15404\\3122937574.py:23: RuntimeWarning: invalid value encountered in double_scalars\n",
      "  return dot(sen_vec1,sen_vec2)/(norm(sen_vec1)*norm(sen_vec2))\n"
     ]
    },
    {
     "name": "stdout",
     "output_type": "stream",
     "text": [
      "URL            https://www.linkedin.com/in/ghada-aissa-64a60b...\n",
      "job_title                                   Data Science Student\n",
      "Name                                                 Ghada Aissa\n",
      "skills         [apprentissage automatique travail d'equipe an...\n",
      "experiences    Summer Intern:juin 2022 - juil. 2022 · 2 mois,...\n",
      "Name: 203, dtype: object\n"
     ]
    },
    {
     "name": "stderr",
     "output_type": "stream",
     "text": [
      "C:\\Users\\MSI GF63\\AppData\\Local\\Temp\\ipykernel_15404\\3122937574.py:23: RuntimeWarning: invalid value encountered in double_scalars\n",
      "  return dot(sen_vec1,sen_vec2)/(norm(sen_vec1)*norm(sen_vec2))\n"
     ]
    },
    {
     "name": "stdout",
     "output_type": "stream",
     "text": [
      "URL            https://www.linkedin.com/in/islem-saoudi-15516...\n",
      "job_title                                   Data Science Student\n",
      "Name                                                Islem Saoudi\n",
      "skills         [python langage programmation java anglais dee...\n",
      "experiences    Membre:2021 - aujourd’hui · 2 ans 2 mois,Stagi...\n",
      "Name: 204, dtype: object\n"
     ]
    },
    {
     "name": "stderr",
     "output_type": "stream",
     "text": [
      "C:\\Users\\MSI GF63\\AppData\\Local\\Temp\\ipykernel_15404\\3122937574.py:23: RuntimeWarning: invalid value encountered in double_scalars\n",
      "  return dot(sen_vec1,sen_vec2)/(norm(sen_vec1)*norm(sen_vec2))\n"
     ]
    },
    {
     "name": "stdout",
     "output_type": "stream",
     "text": [
      "URL                  https://www.linkedin.com/in/oumaima-zrelli/\n",
      "job_title                                  data science engineer\n",
      "Name                                              Oumeima ZRELLI\n",
      "skills         [nosql data mining scikitlearn internet things...\n",
      "experiences    founding member :oct. 2019 - aujourd’hui · 3 a...\n",
      "Name: 205, dtype: object\n"
     ]
    },
    {
     "name": "stderr",
     "output_type": "stream",
     "text": [
      "C:\\Users\\MSI GF63\\AppData\\Local\\Temp\\ipykernel_15404\\3122937574.py:23: RuntimeWarning: invalid value encountered in double_scalars\n",
      "  return dot(sen_vec1,sen_vec2)/(norm(sen_vec1)*norm(sen_vec2))\n"
     ]
    },
    {
     "name": "stdout",
     "output_type": "stream",
     "text": [
      "URL                     https://www.linkedin.com/in/eyachaabani/\n",
      "job_title                                   Data Science Student\n",
      "Name                                                      Eya C.\n",
      "skills         [microsoft sql server sql extract transform lo...\n",
      "experiences    Data Engineer Intern:févr. 2022 - juin 2022 · ...\n",
      "Name: 206, dtype: object\n"
     ]
    },
    {
     "name": "stderr",
     "output_type": "stream",
     "text": [
      "C:\\Users\\MSI GF63\\AppData\\Local\\Temp\\ipykernel_15404\\3122937574.py:23: RuntimeWarning: invalid value encountered in double_scalars\n",
      "  return dot(sen_vec1,sen_vec2)/(norm(sen_vec1)*norm(sen_vec2))\n"
     ]
    },
    {
     "name": "stdout",
     "output_type": "stream",
     "text": [
      "URL            https://www.linkedin.com/in/safa-chaari-a04729...\n",
      "job_title                                   Data Science Student\n",
      "Name                                                 Safa Chaari\n",
      "skills         [microsoft power bi java scrum sql talend open...\n",
      "experiences    Stagiaire:juil. 2022 - août 2022 · 2 mois,Stag...\n",
      "Name: 207, dtype: object\n"
     ]
    },
    {
     "name": "stderr",
     "output_type": "stream",
     "text": [
      "C:\\Users\\MSI GF63\\AppData\\Local\\Temp\\ipykernel_15404\\3122937574.py:23: RuntimeWarning: invalid value encountered in double_scalars\n",
      "  return dot(sen_vec1,sen_vec2)/(norm(sen_vec1)*norm(sen_vec2))\n"
     ]
    },
    {
     "name": "stdout",
     "output_type": "stream",
     "text": [
      "URL                    https://www.linkedin.com/in/insaf-mnakbi/\n",
      "job_title      Data Science Studentchez ecole supérieure priv...\n",
      "Name                                                Insaf Mnakbi\n",
      "skills         [deep learning machine learning python r java ...\n",
      "experiences    Computer Vision and Full Stack Developer inter...\n",
      "Name: 208, dtype: object\n"
     ]
    },
    {
     "name": "stderr",
     "output_type": "stream",
     "text": [
      "C:\\Users\\MSI GF63\\AppData\\Local\\Temp\\ipykernel_15404\\3122937574.py:23: RuntimeWarning: invalid value encountered in double_scalars\n",
      "  return dot(sen_vec1,sen_vec2)/(norm(sen_vec1)*norm(sen_vec2))\n"
     ]
    },
    {
     "name": "stdout",
     "output_type": "stream",
     "text": [
      "URL                      https://www.linkedin.com/in/yosrchabbi/\n",
      "job_title                                   Data Science Student\n",
      "Name                                                 Yosr Chabbi\n",
      "skills         [intelligence artificielle ia machine learning...\n",
      "experiences    Étudiante:sept. 2021 - aujourd’hui · 1 an 6 mo...\n",
      "Name: 209, dtype: object\n"
     ]
    },
    {
     "name": "stderr",
     "output_type": "stream",
     "text": [
      "C:\\Users\\MSI GF63\\AppData\\Local\\Temp\\ipykernel_15404\\3122937574.py:23: RuntimeWarning: invalid value encountered in double_scalars\n",
      "  return dot(sen_vec1,sen_vec2)/(norm(sen_vec1)*norm(sen_vec2))\n"
     ]
    },
    {
     "name": "stdout",
     "output_type": "stream",
     "text": [
      "URL            https://www.linkedin.com/in/esya-saker-8564a3227/\n",
      "job_title                                   Data Science Student\n",
      "Name                                                  Esya Saker\n",
      "skills                                               [mentioned]\n",
      "experiences    Stagiaire:juil. 2022 - août 2022 · 2 mois,Resp...\n",
      "Name: 210, dtype: object\n"
     ]
    },
    {
     "name": "stderr",
     "output_type": "stream",
     "text": [
      "C:\\Users\\MSI GF63\\AppData\\Local\\Temp\\ipykernel_15404\\3122937574.py:23: RuntimeWarning: invalid value encountered in double_scalars\n",
      "  return dot(sen_vec1,sen_vec2)/(norm(sen_vec1)*norm(sen_vec2))\n"
     ]
    },
    {
     "name": "stdout",
     "output_type": "stream",
     "text": [
      "URL                  https://www.linkedin.com/in/youssef-tfifha/\n",
      "job_title                                         data scientist\n",
      "Name                                              Youssef Tfifha\n",
      "skills         [mysql transport layer security tls deep learn...\n",
      "experiences    Data Science Intern:janv. 2023 - aujourd’hui ·...\n",
      "Name: 211, dtype: object\n"
     ]
    },
    {
     "name": "stderr",
     "output_type": "stream",
     "text": [
      "C:\\Users\\MSI GF63\\AppData\\Local\\Temp\\ipykernel_15404\\3122937574.py:23: RuntimeWarning: invalid value encountered in double_scalars\n",
      "  return dot(sen_vec1,sen_vec2)/(norm(sen_vec1)*norm(sen_vec2))\n"
     ]
    },
    {
     "name": "stdout",
     "output_type": "stream",
     "text": [
      "URL            https://www.linkedin.com/in/malek-mrabti-12415...\n",
      "job_title                                  data science engineer\n",
      "Name                                               Malek MRABTI \n",
      "skills         [data mining data visualization data analysis ...\n",
      "experiences    Data Science Intern:mars 2021 - sept. 2021 · 7...\n",
      "Name: 212, dtype: object\n"
     ]
    },
    {
     "name": "stderr",
     "output_type": "stream",
     "text": [
      "C:\\Users\\MSI GF63\\AppData\\Local\\Temp\\ipykernel_15404\\3122937574.py:23: RuntimeWarning: invalid value encountered in double_scalars\n",
      "  return dot(sen_vec1,sen_vec2)/(norm(sen_vec1)*norm(sen_vec2))\n"
     ]
    },
    {
     "name": "stdout",
     "output_type": "stream",
     "text": [
      "URL            https://www.linkedin.com/in/amal-essid-84a48319b/\n",
      "job_title      junior data science engineer looking for first...\n",
      "Name                                                  Amal Essid\n",
      "skills         [nlp tensorflow anglais r visualisation donnee...\n",
      "experiences    Étudiant:déc. 2022,Data Science Intern:févr. 2...\n",
      "Name: 213, dtype: object\n"
     ]
    },
    {
     "name": "stderr",
     "output_type": "stream",
     "text": [
      "C:\\Users\\MSI GF63\\AppData\\Local\\Temp\\ipykernel_15404\\3122937574.py:23: RuntimeWarning: invalid value encountered in double_scalars\n",
      "  return dot(sen_vec1,sen_vec2)/(norm(sen_vec1)*norm(sen_vec2))\n"
     ]
    },
    {
     "name": "stdout",
     "output_type": "stream",
     "text": [
      "URL            https://www.linkedin.com/in/khalil-ennaifer-16...\n",
      "job_title                                   Data Science Student\n",
      "Name                                             Khalil Ennaifer\n",
      "skills         [deep learning apprentissage automatique r pyt...\n",
      "experiences    Data Science Intern:juin 2022 - août 2022 · 3 ...\n",
      "Name: 214, dtype: object\n"
     ]
    },
    {
     "name": "stderr",
     "output_type": "stream",
     "text": [
      "C:\\Users\\MSI GF63\\AppData\\Local\\Temp\\ipykernel_15404\\3122937574.py:23: RuntimeWarning: invalid value encountered in double_scalars\n",
      "  return dot(sen_vec1,sen_vec2)/(norm(sen_vec1)*norm(sen_vec2))\n"
     ]
    },
    {
     "name": "stdout",
     "output_type": "stream",
     "text": [
      "URL            https://www.linkedin.com/in/dhibi-achref-81682...\n",
      "job_title                                   Data Science Student\n",
      "Name                                                Dhibi Achref\n",
      "skills                                               [mentioned]\n",
      "experiences                                      nan:nan,nan:nan\n",
      "Name: 215, dtype: object\n"
     ]
    },
    {
     "name": "stderr",
     "output_type": "stream",
     "text": [
      "C:\\Users\\MSI GF63\\AppData\\Local\\Temp\\ipykernel_15404\\3122937574.py:23: RuntimeWarning: invalid value encountered in double_scalars\n",
      "  return dot(sen_vec1,sen_vec2)/(norm(sen_vec1)*norm(sen_vec2))\n"
     ]
    },
    {
     "name": "stdout",
     "output_type": "stream",
     "text": [
      "URL                  https://www.linkedin.com/in/nessrine-sanei/\n",
      "job_title                       data science engineer at recinov\n",
      "Name                                              NESSRINE SANEI\n",
      "skills         [kali linux scalability problem solving git ba...\n",
      "experiences    Data Science Engineer:nov. 2021 - aujourd’hui ...\n",
      "Name: 216, dtype: object\n"
     ]
    },
    {
     "name": "stderr",
     "output_type": "stream",
     "text": [
      "C:\\Users\\MSI GF63\\AppData\\Local\\Temp\\ipykernel_15404\\3122937574.py:23: RuntimeWarning: invalid value encountered in double_scalars\n",
      "  return dot(sen_vec1,sen_vec2)/(norm(sen_vec1)*norm(sen_vec2))\n"
     ]
    },
    {
     "name": "stdout",
     "output_type": "stream",
     "text": [
      "URL                 https://www.linkedin.com/in/selim-bousselmi/\n",
      "job_title                                   Data Science Student\n",
      "Name                                             Selim Bousselmi\n",
      "skills         [apprentissage automatique developpement web d...\n",
      "experiences    Data Science Intern:juil. 2022 - août 2022 · 2...\n",
      "Name: 217, dtype: object\n"
     ]
    },
    {
     "name": "stderr",
     "output_type": "stream",
     "text": [
      "C:\\Users\\MSI GF63\\AppData\\Local\\Temp\\ipykernel_15404\\3122937574.py:23: RuntimeWarning: invalid value encountered in double_scalars\n",
      "  return dot(sen_vec1,sen_vec2)/(norm(sen_vec1)*norm(sen_vec2))\n"
     ]
    },
    {
     "name": "stdout",
     "output_type": "stream",
     "text": [
      "URL            https://www.linkedin.com/in/dhia-elhak-betaieb...\n",
      "job_title      data science and actuarial science engineering...\n",
      "Name                                          Dhia Elhak Betaieb\n",
      "skills         [computer vision sql python nlp r deep learnin...\n",
      "experiences                                      nan:nan,nan:nan\n",
      "Name: 218, dtype: object\n"
     ]
    },
    {
     "name": "stderr",
     "output_type": "stream",
     "text": [
      "C:\\Users\\MSI GF63\\AppData\\Local\\Temp\\ipykernel_15404\\3122937574.py:23: RuntimeWarning: invalid value encountered in double_scalars\n",
      "  return dot(sen_vec1,sen_vec2)/(norm(sen_vec1)*norm(sen_vec2))\n"
     ]
    },
    {
     "name": "stdout",
     "output_type": "stream",
     "text": [
      "URL            https://www.linkedin.com/in/ramzi-khefifi-b775...\n",
      "job_title             bi intern  bl microsoft department  inetum\n",
      "Name                                               Ramzi Khefifi\n",
      "skills         [talend open studio python talend deep learnin...\n",
      "experiences    Stagiaire data science:juil. 2022 - août 2022 ...\n",
      "Name: 219, dtype: object\n"
     ]
    },
    {
     "name": "stderr",
     "output_type": "stream",
     "text": [
      "C:\\Users\\MSI GF63\\AppData\\Local\\Temp\\ipykernel_15404\\3122937574.py:23: RuntimeWarning: invalid value encountered in double_scalars\n",
      "  return dot(sen_vec1,sen_vec2)/(norm(sen_vec1)*norm(sen_vec2))\n"
     ]
    },
    {
     "name": "stdout",
     "output_type": "stream",
     "text": [
      "URL            https://www.linkedin.com/in/amal-arbi-bb58551a3/\n",
      "job_title                              Data Science Student👩🏻‍🎓\n",
      "Name                                                  amal arbi\n",
      "skills                                              [mentioned]\n",
      "experiences                                     nan:nan,nan:nan\n",
      "Name: 220, dtype: object\n"
     ]
    },
    {
     "name": "stderr",
     "output_type": "stream",
     "text": [
      "C:\\Users\\MSI GF63\\AppData\\Local\\Temp\\ipykernel_15404\\3122937574.py:23: RuntimeWarning: invalid value encountered in double_scalars\n",
      "  return dot(sen_vec1,sen_vec2)/(norm(sen_vec1)*norm(sen_vec2))\n"
     ]
    },
    {
     "name": "stdout",
     "output_type": "stream",
     "text": [
      "URL            https://www.linkedin.com/in/syrine-amami-02068...\n",
      "job_title                                   Data Science Student\n",
      "Name                                                Syrine Amami\n",
      "skills                                               [mentioned]\n",
      "experiences    Étudiante d'ingénierie d'informatique:sept. 20...\n",
      "Name: 221, dtype: object\n"
     ]
    },
    {
     "name": "stderr",
     "output_type": "stream",
     "text": [
      "C:\\Users\\MSI GF63\\AppData\\Local\\Temp\\ipykernel_15404\\3122937574.py:23: RuntimeWarning: invalid value encountered in double_scalars\n",
      "  return dot(sen_vec1,sen_vec2)/(norm(sen_vec1)*norm(sen_vec2))\n"
     ]
    },
    {
     "name": "stdout",
     "output_type": "stream",
     "text": [
      "URL            https://www.linkedin.com/in/omar-dahmen-600469...\n",
      "job_title                                  data science engineer\n",
      "Name                                                 Omar DAHMEN\n",
      "skills         [neurolinguistic programming nlp angular ionic...\n",
      "experiences    Data Scientist:mars 2022 - sept. 2022 · 7 mois...\n",
      "Name: 222, dtype: object\n"
     ]
    },
    {
     "name": "stderr",
     "output_type": "stream",
     "text": [
      "C:\\Users\\MSI GF63\\AppData\\Local\\Temp\\ipykernel_15404\\3122937574.py:23: RuntimeWarning: invalid value encountered in double_scalars\n",
      "  return dot(sen_vec1,sen_vec2)/(norm(sen_vec1)*norm(sen_vec2))\n"
     ]
    },
    {
     "name": "stdout",
     "output_type": "stream",
     "text": [
      "URL            https://www.linkedin.com/in/jawadi-nesrine-78b...\n",
      "job_title                                   Data Science Student\n",
      "Name                                              Jawadi Nesrine\n",
      "skills         [javascript css langage programmation php mysq...\n",
      "experiences                                      nan:nan,nan:nan\n",
      "Name: 223, dtype: object\n"
     ]
    },
    {
     "name": "stderr",
     "output_type": "stream",
     "text": [
      "C:\\Users\\MSI GF63\\AppData\\Local\\Temp\\ipykernel_15404\\3122937574.py:23: RuntimeWarning: invalid value encountered in double_scalars\n",
      "  return dot(sen_vec1,sen_vec2)/(norm(sen_vec1)*norm(sen_vec2))\n"
     ]
    },
    {
     "name": "stdout",
     "output_type": "stream",
     "text": [
      "URL            https://www.linkedin.com/in/taher-zribi-115ab4...\n",
      "job_title                                   Data Science Student\n",
      "Name                                                 Taher Zribi\n",
      "skills         [science donnees angular typescript nodejs mac...\n",
      "experiences    Stage de fin d’études:févr. 2023 - aujourd’hui...\n",
      "Name: 224, dtype: object\n"
     ]
    },
    {
     "name": "stderr",
     "output_type": "stream",
     "text": [
      "C:\\Users\\MSI GF63\\AppData\\Local\\Temp\\ipykernel_15404\\3122937574.py:23: RuntimeWarning: invalid value encountered in double_scalars\n",
      "  return dot(sen_vec1,sen_vec2)/(norm(sen_vec1)*norm(sen_vec2))\n"
     ]
    },
    {
     "name": "stdout",
     "output_type": "stream",
     "text": [
      "URL                    https://www.linkedin.com/in/asma-chaouch/\n",
      "job_title                                      data science lead\n",
      "Name                                                Asma Chaouch\n",
      "skills         [data analysis forecasting consulting machine ...\n",
      "experiences    Data Science Lead:juil. 2022 - aujourd’hui · 8...\n",
      "Name: 225, dtype: object\n"
     ]
    },
    {
     "name": "stderr",
     "output_type": "stream",
     "text": [
      "C:\\Users\\MSI GF63\\AppData\\Local\\Temp\\ipykernel_15404\\3122937574.py:23: RuntimeWarning: invalid value encountered in double_scalars\n",
      "  return dot(sen_vec1,sen_vec2)/(norm(sen_vec1)*norm(sen_vec2))\n"
     ]
    },
    {
     "name": "stdout",
     "output_type": "stream",
     "text": [
      "URL            https://www.linkedin.com/in/amel-ghozzi-a79a1b...\n",
      "job_title                                   Data Science Student\n",
      "Name                                                 Amel Ghozzi\n",
      "skills         [communication apprentissage automatique pytho...\n",
      "experiences    Stagiaire:août 2022 · 1 mois,Stagiaire:juin 20...\n",
      "Name: 226, dtype: object\n"
     ]
    },
    {
     "name": "stderr",
     "output_type": "stream",
     "text": [
      "C:\\Users\\MSI GF63\\AppData\\Local\\Temp\\ipykernel_15404\\3122937574.py:23: RuntimeWarning: invalid value encountered in double_scalars\n",
      "  return dot(sen_vec1,sen_vec2)/(norm(sen_vec1)*norm(sen_vec2))\n"
     ]
    },
    {
     "name": "stdout",
     "output_type": "stream",
     "text": [
      "URL            https://www.linkedin.com/in/aya-cherigui-a617b...\n",
      "job_title                                   Data Science Student\n",
      "Name                                                Aya Cherigui\n",
      "skills                             [sql application development]\n",
      "experiences    Full-stack development intern:juil. 2022 - aoû...\n",
      "Name: 227, dtype: object\n"
     ]
    },
    {
     "name": "stderr",
     "output_type": "stream",
     "text": [
      "C:\\Users\\MSI GF63\\AppData\\Local\\Temp\\ipykernel_15404\\3122937574.py:23: RuntimeWarning: invalid value encountered in double_scalars\n",
      "  return dot(sen_vec1,sen_vec2)/(norm(sen_vec1)*norm(sen_vec2))\n"
     ]
    },
    {
     "name": "stdout",
     "output_type": "stream",
     "text": [
      "URL            https://www.linkedin.com/in/ons-wechtati-62919...\n",
      "job_title      data science engineer certified in project man...\n",
      "Name                                                ons wechtati\n",
      "skills         [gestion projet informatique decisionnelle dee...\n",
      "experiences    Data science engineer:mars 2021 - mars 2022 · ...\n",
      "Name: 228, dtype: object\n"
     ]
    },
    {
     "name": "stderr",
     "output_type": "stream",
     "text": [
      "C:\\Users\\MSI GF63\\AppData\\Local\\Temp\\ipykernel_15404\\3122937574.py:23: RuntimeWarning: invalid value encountered in double_scalars\n",
      "  return dot(sen_vec1,sen_vec2)/(norm(sen_vec1)*norm(sen_vec2))\n"
     ]
    },
    {
     "name": "stdout",
     "output_type": "stream",
     "text": [
      "URL                   https://www.linkedin.com/in/raslen-guesmi/\n",
      "job_title                                   Data Science Student\n",
      "Name                                               Raslen Guesmi\n",
      "skills         [natural language processing nlp communication...\n",
      "experiences                                      nan:nan,nan:nan\n",
      "Name: 229, dtype: object\n"
     ]
    },
    {
     "name": "stderr",
     "output_type": "stream",
     "text": [
      "C:\\Users\\MSI GF63\\AppData\\Local\\Temp\\ipykernel_15404\\3122937574.py:23: RuntimeWarning: invalid value encountered in double_scalars\n",
      "  return dot(sen_vec1,sen_vec2)/(norm(sen_vec1)*norm(sen_vec2))\n"
     ]
    },
    {
     "name": "stdout",
     "output_type": "stream",
     "text": [
      "URL            https://www.linkedin.com/in/mariem-dridi-15924...\n",
      "job_title             etudiante en m1 data science for business \n",
      "Name                                                mariem dridi\n",
      "skills         [communication gestion projet python langage p...\n",
      "experiences    Stagiaire:mars 2022 - mai 2022 · 3 mois,Stagia...\n",
      "Name: 230, dtype: object\n"
     ]
    },
    {
     "name": "stderr",
     "output_type": "stream",
     "text": [
      "C:\\Users\\MSI GF63\\AppData\\Local\\Temp\\ipykernel_15404\\3122937574.py:23: RuntimeWarning: invalid value encountered in double_scalars\n",
      "  return dot(sen_vec1,sen_vec2)/(norm(sen_vec1)*norm(sen_vec2))\n"
     ]
    },
    {
     "name": "stdout",
     "output_type": "stream",
     "text": [
      "URL                          https://www.linkedin.com/in/ahmdme/\n",
      "job_title                                   Data Science Student\n",
      "Name                                      Ahmed Mohamed Meouloud\n",
      "skills         [natural language processing nlp deep learning...\n",
      "experiences    Stagiaire:juil. 2019 - août 2019 · 2 mois,Stag...\n",
      "Name: 231, dtype: object\n"
     ]
    },
    {
     "name": "stderr",
     "output_type": "stream",
     "text": [
      "C:\\Users\\MSI GF63\\AppData\\Local\\Temp\\ipykernel_15404\\3122937574.py:23: RuntimeWarning: invalid value encountered in double_scalars\n",
      "  return dot(sen_vec1,sen_vec2)/(norm(sen_vec1)*norm(sen_vec2))\n"
     ]
    },
    {
     "name": "stdout",
     "output_type": "stream",
     "text": [
      "URL            https://www.linkedin.com/in/marwen-saidi-23b54...\n",
      "job_title                          Data Science Studentat esprit\n",
      "Name                                                Marwen SAIDI\n",
      "skills         [regression models neural networks optical cha...\n",
      "experiences    Summer Internship:juil. 2022 - sept. 2022 · 3 ...\n",
      "Name: 232, dtype: object\n"
     ]
    },
    {
     "name": "stderr",
     "output_type": "stream",
     "text": [
      "C:\\Users\\MSI GF63\\AppData\\Local\\Temp\\ipykernel_15404\\3122937574.py:23: RuntimeWarning: invalid value encountered in double_scalars\n",
      "  return dot(sen_vec1,sen_vec2)/(norm(sen_vec1)*norm(sen_vec2))\n"
     ]
    },
    {
     "name": "stdout",
     "output_type": "stream",
     "text": [
      "URL                   https://www.linkedin.com/in/ilyes-bouzidi/\n",
      "job_title                          Data Science Studentat esprit\n",
      "Name                                               ilyes bouzidi\n",
      "skills         [deep learning natural language processing nlp...\n",
      "experiences    Data Science Intern:juin 2022 - aujourd’hui · ...\n",
      "Name: 233, dtype: object\n"
     ]
    },
    {
     "name": "stderr",
     "output_type": "stream",
     "text": [
      "C:\\Users\\MSI GF63\\AppData\\Local\\Temp\\ipykernel_15404\\3122937574.py:23: RuntimeWarning: invalid value encountered in double_scalars\n",
      "  return dot(sen_vec1,sen_vec2)/(norm(sen_vec1)*norm(sen_vec2))\n"
     ]
    },
    {
     "name": "stdout",
     "output_type": "stream",
     "text": [
      "URL            https://www.linkedin.com/in/isra-friaa-2061b51ba/\n",
      "job_title                                   Data Science Student\n",
      "Name                                                  Isra Friaa\n",
      "skills         [devexpress mysql phpmyadmin risk management a...\n",
      "experiences    Stagiaire en Business intelligence:juin 2022 -...\n",
      "Name: 234, dtype: object\n"
     ]
    },
    {
     "name": "stderr",
     "output_type": "stream",
     "text": [
      "C:\\Users\\MSI GF63\\AppData\\Local\\Temp\\ipykernel_15404\\3122937574.py:23: RuntimeWarning: invalid value encountered in double_scalars\n",
      "  return dot(sen_vec1,sen_vec2)/(norm(sen_vec1)*norm(sen_vec2))\n"
     ]
    },
    {
     "name": "stdout",
     "output_type": "stream",
     "text": [
      "URL            https://www.linkedin.com/in/samar-chamekh-3a15...\n",
      "job_title      data science and telecommunications engineer  ...\n",
      "Name                                               Samar Chamekh\n",
      "skills         [telecommunications apprentissage automatique ...\n",
      "experiences    Stage Ingénieur:juil. 2021 - sept. 2021 · 3 mo...\n",
      "Name: 235, dtype: object\n"
     ]
    },
    {
     "name": "stderr",
     "output_type": "stream",
     "text": [
      "C:\\Users\\MSI GF63\\AppData\\Local\\Temp\\ipykernel_15404\\3122937574.py:23: RuntimeWarning: invalid value encountered in double_scalars\n",
      "  return dot(sen_vec1,sen_vec2)/(norm(sen_vec1)*norm(sen_vec2))\n"
     ]
    },
    {
     "name": "stdout",
     "output_type": "stream",
     "text": [
      "URL            https://www.linkedin.com/in/gomri-melek-b8935a...\n",
      "job_title          data science and acturial engineering student\n",
      "Name                                                 Gomri Melek\n",
      "skills          [python langage programmation framework symfony]\n",
      "experiences                                      nan:nan,nan:nan\n",
      "Name: 236, dtype: object\n"
     ]
    },
    {
     "name": "stderr",
     "output_type": "stream",
     "text": [
      "C:\\Users\\MSI GF63\\AppData\\Local\\Temp\\ipykernel_15404\\3122937574.py:23: RuntimeWarning: invalid value encountered in double_scalars\n",
      "  return dot(sen_vec1,sen_vec2)/(norm(sen_vec1)*norm(sen_vec2))\n"
     ]
    },
    {
     "name": "stdout",
     "output_type": "stream",
     "text": [
      "URL            https://www.linkedin.com/in/abir-tabarki-5789b...\n",
      "job_title                                  Data Science Student \n",
      "Name                                                abir tabarki\n",
      "skills                                               [mentioned]\n",
      "experiences    Chair:janv. 2022 - aujourd’hui · 1 an 2 mois,H...\n",
      "Name: 237, dtype: object\n"
     ]
    },
    {
     "name": "stderr",
     "output_type": "stream",
     "text": [
      "C:\\Users\\MSI GF63\\AppData\\Local\\Temp\\ipykernel_15404\\3122937574.py:23: RuntimeWarning: invalid value encountered in double_scalars\n",
      "  return dot(sen_vec1,sen_vec2)/(norm(sen_vec1)*norm(sen_vec2))\n"
     ]
    },
    {
     "name": "stdout",
     "output_type": "stream",
     "text": [
      "URL            https://www.linkedin.com/in/essia-houaoui-8211...\n",
      "job_title                  Data Science Student lifelong learner\n",
      "Name                                               Essia Houaoui\n",
      "skills         [travail d'equipe microsoft excel java scrum n...\n",
      "experiences    Data scientist intern:juil. 2021 - août 2021 ·...\n",
      "Name: 238, dtype: object\n"
     ]
    },
    {
     "name": "stderr",
     "output_type": "stream",
     "text": [
      "C:\\Users\\MSI GF63\\AppData\\Local\\Temp\\ipykernel_15404\\3122937574.py:23: RuntimeWarning: invalid value encountered in double_scalars\n",
      "  return dot(sen_vec1,sen_vec2)/(norm(sen_vec1)*norm(sen_vec2))\n"
     ]
    },
    {
     "name": "stdout",
     "output_type": "stream",
     "text": [
      "URL            https://www.linkedin.com/in/abir-barouni-abb59...\n",
      "job_title                                   Data Science Student\n",
      "Name                                                Abir Barouni\n",
      "skills         [php desktop eclipse laravel api postman xml x...\n",
      "experiences    Stagiaire:juil. 2022 - août 2022 · 2 mois,Stag...\n",
      "Name: 239, dtype: object\n"
     ]
    },
    {
     "name": "stderr",
     "output_type": "stream",
     "text": [
      "C:\\Users\\MSI GF63\\AppData\\Local\\Temp\\ipykernel_15404\\3122937574.py:23: RuntimeWarning: invalid value encountered in double_scalars\n",
      "  return dot(sen_vec1,sen_vec2)/(norm(sen_vec1)*norm(sen_vec2))\n"
     ]
    },
    {
     "name": "stdout",
     "output_type": "stream",
     "text": [
      "URL            https://www.linkedin.com/in/nader-abichou-5a11...\n",
      "job_title                                   Data Science Student\n",
      "Name                                               Nader Abichou\n",
      "skills         [data science apprentissage automatique vision...\n",
      "experiences    Marketing data analyst intern:févr. 2023 - auj...\n",
      "Name: 240, dtype: object\n"
     ]
    },
    {
     "name": "stderr",
     "output_type": "stream",
     "text": [
      "C:\\Users\\MSI GF63\\AppData\\Local\\Temp\\ipykernel_15404\\3122937574.py:23: RuntimeWarning: invalid value encountered in double_scalars\n",
      "  return dot(sen_vec1,sen_vec2)/(norm(sen_vec1)*norm(sen_vec2))\n"
     ]
    },
    {
     "name": "stdout",
     "output_type": "stream",
     "text": [
      "URL            https://www.linkedin.com/in/maissa-rebhi-4695a...\n",
      "job_title                       intern in data science at telnet\n",
      "Name                                                Maissa Rebhi\n",
      "skills         [engineering problem solving python programmin...\n",
      "experiences    Graduation Internship:févr. 2022 - aujourd’hui...\n",
      "Name: 241, dtype: object\n"
     ]
    },
    {
     "name": "stderr",
     "output_type": "stream",
     "text": [
      "C:\\Users\\MSI GF63\\AppData\\Local\\Temp\\ipykernel_15404\\3122937574.py:23: RuntimeWarning: invalid value encountered in double_scalars\n",
      "  return dot(sen_vec1,sen_vec2)/(norm(sen_vec1)*norm(sen_vec2))\n"
     ]
    },
    {
     "name": "stdout",
     "output_type": "stream",
     "text": [
      "URL                https://www.linkedin.com/in/houssem-bayoudha/\n",
      "job_title                                   Data Science Student\n",
      "Name                                     Houssem Eddine Bayoudha\n",
      "skills         [programming language stress management team m...\n",
      "experiences    Machine Learning Engineer:juil. 2022 - nov. 20...\n",
      "Name: 242, dtype: object\n"
     ]
    },
    {
     "name": "stderr",
     "output_type": "stream",
     "text": [
      "C:\\Users\\MSI GF63\\AppData\\Local\\Temp\\ipykernel_15404\\3122937574.py:23: RuntimeWarning: invalid value encountered in double_scalars\n",
      "  return dot(sen_vec1,sen_vec2)/(norm(sen_vec1)*norm(sen_vec2))\n"
     ]
    },
    {
     "name": "stdout",
     "output_type": "stream",
     "text": [
      "URL            https://www.linkedin.com/in/omar-joudi-975270147/\n",
      "job_title                                data science consultant\n",
      "Name                                                  Omar Joudi\n",
      "skills         [data science negotiation python programming l...\n",
      "experiences    Consultant Data Science:août 2022 - aujourd’hu...\n",
      "Name: 243, dtype: object\n"
     ]
    },
    {
     "name": "stderr",
     "output_type": "stream",
     "text": [
      "C:\\Users\\MSI GF63\\AppData\\Local\\Temp\\ipykernel_15404\\3122937574.py:23: RuntimeWarning: invalid value encountered in double_scalars\n",
      "  return dot(sen_vec1,sen_vec2)/(norm(sen_vec1)*norm(sen_vec2))\n"
     ]
    },
    {
     "name": "stdout",
     "output_type": "stream",
     "text": [
      "URL            https://www.linkedin.com/in/asma-hwimli-0a1970...\n",
      "job_title                                   Data Science Student\n",
      "Name                                                 Asma Hwimli\n",
      "skills                                   [english french arabic]\n",
      "experiences                                      nan:nan,nan:nan\n",
      "Name: 244, dtype: object\n"
     ]
    },
    {
     "name": "stderr",
     "output_type": "stream",
     "text": [
      "C:\\Users\\MSI GF63\\AppData\\Local\\Temp\\ipykernel_15404\\3122937574.py:23: RuntimeWarning: invalid value encountered in double_scalars\n",
      "  return dot(sen_vec1,sen_vec2)/(norm(sen_vec1)*norm(sen_vec2))\n"
     ]
    },
    {
     "name": "stdout",
     "output_type": "stream",
     "text": [
      "URL               https://www.linkedin.com/in/wael-el-ferchichi/\n",
      "job_title                    consultant data science à quantylix\n",
      "Name                                           Wael El Ferchichi\n",
      "skills         [data science r python machine learning deep l...\n",
      "experiences    Consultant Data Science:sept. 2021 - aujourd’h...\n",
      "Name: 245, dtype: object\n"
     ]
    },
    {
     "name": "stderr",
     "output_type": "stream",
     "text": [
      "C:\\Users\\MSI GF63\\AppData\\Local\\Temp\\ipykernel_15404\\3122937574.py:23: RuntimeWarning: invalid value encountered in double_scalars\n",
      "  return dot(sen_vec1,sen_vec2)/(norm(sen_vec1)*norm(sen_vec2))\n"
     ]
    },
    {
     "name": "stdout",
     "output_type": "stream",
     "text": [
      "URL            https://www.linkedin.com/in/narjess-iben-cheik...\n",
      "job_title      data science and actuarial engineering student 💻📚\n",
      "Name                                         Narjess Iben Cheikh\n",
      "skills         [ingenierie communication gestion projet data ...\n",
      "experiences    Data Science Internship:juin 2022 - août 2022 ...\n",
      "Name: 246, dtype: object\n"
     ]
    },
    {
     "name": "stderr",
     "output_type": "stream",
     "text": [
      "C:\\Users\\MSI GF63\\AppData\\Local\\Temp\\ipykernel_15404\\3122937574.py:23: RuntimeWarning: invalid value encountered in double_scalars\n",
      "  return dot(sen_vec1,sen_vec2)/(norm(sen_vec1)*norm(sen_vec2))\n"
     ]
    },
    {
     "name": "stdout",
     "output_type": "stream",
     "text": [
      "URL                       https://www.linkedin.com/in/nourkobbi/\n",
      "job_title                   data science and engineering student\n",
      "Name                                                  Nour Kobbi\n",
      "skills         [angularjs net framework developpement logicie...\n",
      "experiences                                      nan:nan,nan:nan\n",
      "Name: 247, dtype: object\n"
     ]
    },
    {
     "name": "stderr",
     "output_type": "stream",
     "text": [
      "C:\\Users\\MSI GF63\\AppData\\Local\\Temp\\ipykernel_15404\\3122937574.py:23: RuntimeWarning: invalid value encountered in double_scalars\n",
      "  return dot(sen_vec1,sen_vec2)/(norm(sen_vec1)*norm(sen_vec2))\n"
     ]
    },
    {
     "name": "stdout",
     "output_type": "stream",
     "text": [
      "URL                      https://www.linkedin.com/in/hadilameri/\n",
      "job_title                                   Data Science Student\n",
      "Name                                                 Hadil Ameri\n",
      "skills         [indicateurs cles performance analyse donnees ...\n",
      "experiences    Data science:août 2022 - aujourd’hui · 7 mois,...\n",
      "Name: 248, dtype: object\n"
     ]
    },
    {
     "name": "stderr",
     "output_type": "stream",
     "text": [
      "C:\\Users\\MSI GF63\\AppData\\Local\\Temp\\ipykernel_15404\\3122937574.py:23: RuntimeWarning: invalid value encountered in double_scalars\n",
      "  return dot(sen_vec1,sen_vec2)/(norm(sen_vec1)*norm(sen_vec2))\n"
     ]
    },
    {
     "name": "stdout",
     "output_type": "stream",
     "text": [
      "URL                   https://www.linkedin.com/in/hedi-louhichi/\n",
      "job_title                                   Data Science Student\n",
      "Name                                               Hedi Louhichi\n",
      "skills         [anglais ingenierie gestion projet communicati...\n",
      "experiences    Stage d'immersion:juil. 2022 - août 2022 · 2 m...\n",
      "Name: 249, dtype: object\n"
     ]
    },
    {
     "name": "stderr",
     "output_type": "stream",
     "text": [
      "C:\\Users\\MSI GF63\\AppData\\Local\\Temp\\ipykernel_15404\\3122937574.py:23: RuntimeWarning: invalid value encountered in double_scalars\n",
      "  return dot(sen_vec1,sen_vec2)/(norm(sen_vec1)*norm(sen_vec2))\n"
     ]
    },
    {
     "name": "stdout",
     "output_type": "stream",
     "text": [
      "URL            https://www.linkedin.com/in/rahma-jlassi-a71b5...\n",
      "job_title                  data science instructor at go my code\n",
      "Name                                                Rahma Jlassi\n",
      "skills         [data science adobe photoshop public speaking ...\n",
      "experiences    Data Science instructor :nov. 2022 - aujourd’h...\n",
      "Name: 250, dtype: object\n"
     ]
    },
    {
     "name": "stderr",
     "output_type": "stream",
     "text": [
      "C:\\Users\\MSI GF63\\AppData\\Local\\Temp\\ipykernel_15404\\3122937574.py:23: RuntimeWarning: invalid value encountered in double_scalars\n",
      "  return dot(sen_vec1,sen_vec2)/(norm(sen_vec1)*norm(sen_vec2))\n"
     ]
    },
    {
     "name": "stdout",
     "output_type": "stream",
     "text": [
      "URL               https://www.linkedin.com/in/ihssene-ghazouani/\n",
      "job_title                                data science instructor\n",
      "Name                                           Ihssene Ghazouani\n",
      "skills         [research sql python programming language pres...\n",
      "experiences    Data science Instructor :août 2022 - aujourd’h...\n",
      "Name: 251, dtype: object\n"
     ]
    },
    {
     "name": "stderr",
     "output_type": "stream",
     "text": [
      "C:\\Users\\MSI GF63\\AppData\\Local\\Temp\\ipykernel_15404\\3122937574.py:23: RuntimeWarning: invalid value encountered in double_scalars\n",
      "  return dot(sen_vec1,sen_vec2)/(norm(sen_vec1)*norm(sen_vec2))\n"
     ]
    },
    {
     "name": "stdout",
     "output_type": "stream",
     "text": [
      "URL             https://www.linkedin.com/in/mohamedaziz-souissi/\n",
      "job_title                                   Data Science Student\n",
      "Name                                         MohamedAziz SOUISSI\n",
      "skills         [aspnet extraction contenu web apprentissage s...\n",
      "experiences       Intern:juin 2022 - sept. 2022 · 4 mois,nan:nan\n",
      "Name: 252, dtype: object\n"
     ]
    },
    {
     "name": "stderr",
     "output_type": "stream",
     "text": [
      "C:\\Users\\MSI GF63\\AppData\\Local\\Temp\\ipykernel_15404\\3122937574.py:23: RuntimeWarning: invalid value encountered in double_scalars\n",
      "  return dot(sen_vec1,sen_vec2)/(norm(sen_vec1)*norm(sen_vec2))\n"
     ]
    },
    {
     "name": "stdout",
     "output_type": "stream",
     "text": [
      "URL            https://www.linkedin.com/in/donia-ben-hammouda...\n",
      "job_title                                  data science engineer\n",
      "Name                                          Donia Ben Hammouda\n",
      "skills                                            [python linux]\n",
      "experiences    Data Science Engineer:juin 2022 - aujourd’hui ...\n",
      "Name: 253, dtype: object\n"
     ]
    },
    {
     "name": "stderr",
     "output_type": "stream",
     "text": [
      "C:\\Users\\MSI GF63\\AppData\\Local\\Temp\\ipykernel_15404\\3122937574.py:23: RuntimeWarning: invalid value encountered in double_scalars\n",
      "  return dot(sen_vec1,sen_vec2)/(norm(sen_vec1)*norm(sen_vec2))\n"
     ]
    },
    {
     "name": "stdout",
     "output_type": "stream",
     "text": [
      "URL            https://www.linkedin.com/in/selsebil-bel-hadj-...\n",
      "job_title                                data science enthusiast\n",
      "Name                                   Selsebil bel hadj sghaier\n",
      "skills         [python exploration donnees apprentissage auto...\n",
      "experiences    Technical Coach:janv. 2020 - aujourd’hui · 3 a...\n",
      "Name: 254, dtype: object\n"
     ]
    },
    {
     "name": "stderr",
     "output_type": "stream",
     "text": [
      "C:\\Users\\MSI GF63\\AppData\\Local\\Temp\\ipykernel_15404\\3122937574.py:23: RuntimeWarning: invalid value encountered in double_scalars\n",
      "  return dot(sen_vec1,sen_vec2)/(norm(sen_vec1)*norm(sen_vec2))\n"
     ]
    },
    {
     "name": "stdout",
     "output_type": "stream",
     "text": [
      "URL            https://www.linkedin.com/in/jihene-saidi-6b634...\n",
      "job_title                                   Data Science Student\n",
      "Name                                                Jihene SAIDI\n",
      "skills         [php java javascript linux cisco networking la...\n",
      "experiences                                      nan:nan,nan:nan\n",
      "Name: 255, dtype: object\n"
     ]
    },
    {
     "name": "stderr",
     "output_type": "stream",
     "text": [
      "C:\\Users\\MSI GF63\\AppData\\Local\\Temp\\ipykernel_15404\\3122937574.py:23: RuntimeWarning: invalid value encountered in double_scalars\n",
      "  return dot(sen_vec1,sen_vec2)/(norm(sen_vec1)*norm(sen_vec2))\n"
     ]
    },
    {
     "name": "stdout",
     "output_type": "stream",
     "text": [
      "URL            https://www.linkedin.com/in/marwa-guerfel-3398...\n",
      "job_title                  Data Science Student business analyst\n",
      "Name                                               Marwa Guerfel\n",
      "skills         [microsoft power bi java sql php javascript re...\n",
      "experiences    Stagiaire:févr. 2022 - aujourd’hui · 1 an 1 mo...\n",
      "Name: 256, dtype: object\n"
     ]
    },
    {
     "name": "stderr",
     "output_type": "stream",
     "text": [
      "C:\\Users\\MSI GF63\\AppData\\Local\\Temp\\ipykernel_15404\\3122937574.py:23: RuntimeWarning: invalid value encountered in double_scalars\n",
      "  return dot(sen_vec1,sen_vec2)/(norm(sen_vec1)*norm(sen_vec2))\n"
     ]
    },
    {
     "name": "stdout",
     "output_type": "stream",
     "text": [
      "URL            https://www.linkedin.com/in/malek-bentaher-361...\n",
      "job_title                                   Data Science Student\n",
      "Name                                              malek BENTAHER\n",
      "skills         [flutter python langage programmation langage ...\n",
      "experiences    Étudiante:sept. 2019 - aujourd’hui · 3 ans 6 m...\n",
      "Name: 257, dtype: object\n"
     ]
    },
    {
     "name": "stderr",
     "output_type": "stream",
     "text": [
      "C:\\Users\\MSI GF63\\AppData\\Local\\Temp\\ipykernel_15404\\3122937574.py:23: RuntimeWarning: invalid value encountered in double_scalars\n",
      "  return dot(sen_vec1,sen_vec2)/(norm(sen_vec1)*norm(sen_vec2))\n"
     ]
    },
    {
     "name": "stdout",
     "output_type": "stream",
     "text": [
      "URL            https://www.linkedin.com/in/hakim-atrous-78476...\n",
      "job_title                                   Data Science Student\n",
      "Name                                                Hakim Atrous\n",
      "skills                                               [mentioned]\n",
      "experiences    Instructional Facilitator:oct. 2022 - aujourd’...\n",
      "Name: 258, dtype: object\n"
     ]
    },
    {
     "name": "stderr",
     "output_type": "stream",
     "text": [
      "C:\\Users\\MSI GF63\\AppData\\Local\\Temp\\ipykernel_15404\\3122937574.py:23: RuntimeWarning: invalid value encountered in double_scalars\n",
      "  return dot(sen_vec1,sen_vec2)/(norm(sen_vec1)*norm(sen_vec2))\n"
     ]
    },
    {
     "name": "stdout",
     "output_type": "stream",
     "text": [
      "URL            https://www.linkedin.com/in/narjess-ben-slimen...\n",
      "job_title      big data engineer ibm certified  Data Science ...\n",
      "Name                                         Narjess Ben Slimene\n",
      "skills         [data analysis artificial intelligence machine...\n",
      "experiences    Data Science internship:juil. 2022 - août 2022...\n",
      "Name: 259, dtype: object\n"
     ]
    },
    {
     "name": "stderr",
     "output_type": "stream",
     "text": [
      "C:\\Users\\MSI GF63\\AppData\\Local\\Temp\\ipykernel_15404\\3122937574.py:23: RuntimeWarning: invalid value encountered in double_scalars\n",
      "  return dot(sen_vec1,sen_vec2)/(norm(sen_vec1)*norm(sen_vec2))\n"
     ]
    },
    {
     "name": "stdout",
     "output_type": "stream",
     "text": [
      "URL            https://www.linkedin.com/in/adam-chaabani-5a15...\n",
      "job_title           data science consultant at biware consulting\n",
      "Name                                               Adam Chaabani\n",
      "skills         [gestion risques intelligence artificielle ia ...\n",
      "experiences    Data Science Consultant:déc. 2022 - aujourd’hu...\n",
      "Name: 260, dtype: object\n"
     ]
    },
    {
     "name": "stderr",
     "output_type": "stream",
     "text": [
      "C:\\Users\\MSI GF63\\AppData\\Local\\Temp\\ipykernel_15404\\3122937574.py:23: RuntimeWarning: invalid value encountered in double_scalars\n",
      "  return dot(sen_vec1,sen_vec2)/(norm(sen_vec1)*norm(sen_vec2))\n"
     ]
    },
    {
     "name": "stdout",
     "output_type": "stream",
     "text": [
      "URL            https://www.linkedin.com/in/fatma-mannai-a0450...\n",
      "job_title                                   Data Science Student\n",
      "Name                                                Fatma Mannai\n",
      "skills         [r sql python langage programmation langage mo...\n",
      "experiences      Data Science Intern:juil. 2022 · 1 mois,nan:nan\n",
      "Name: 261, dtype: object\n"
     ]
    },
    {
     "name": "stderr",
     "output_type": "stream",
     "text": [
      "C:\\Users\\MSI GF63\\AppData\\Local\\Temp\\ipykernel_15404\\3122937574.py:23: RuntimeWarning: invalid value encountered in double_scalars\n",
      "  return dot(sen_vec1,sen_vec2)/(norm(sen_vec1)*norm(sen_vec2))\n"
     ]
    },
    {
     "name": "stdout",
     "output_type": "stream",
     "text": [
      "URL            https://www.linkedin.com/in/sofiene-landolsi-1...\n",
      "job_title      data science intern  data science ecole supéri...\n",
      "Name                                            Sofiene Landolsi\n",
      "skills         [science donnees git python langage programmat...\n",
      "experiences    Data Science Intern:déc. 2021 - aujourd’hui · ...\n",
      "Name: 262, dtype: object\n"
     ]
    },
    {
     "name": "stderr",
     "output_type": "stream",
     "text": [
      "C:\\Users\\MSI GF63\\AppData\\Local\\Temp\\ipykernel_15404\\3122937574.py:23: RuntimeWarning: invalid value encountered in double_scalars\n",
      "  return dot(sen_vec1,sen_vec2)/(norm(sen_vec1)*norm(sen_vec2))\n"
     ]
    },
    {
     "name": "stdout",
     "output_type": "stream",
     "text": [
      "URL            https://www.linkedin.com/in/othmen-gares-4172a...\n",
      "job_title                         data science  data engineering\n",
      "Name                                                Othmen Gares\n",
      "skills         [python programming language web development d...\n",
      "experiences    Data Science Intern:févr. 2023 - aujourd’hui ·...\n",
      "Name: 263, dtype: object\n"
     ]
    },
    {
     "name": "stderr",
     "output_type": "stream",
     "text": [
      "C:\\Users\\MSI GF63\\AppData\\Local\\Temp\\ipykernel_15404\\3122937574.py:23: RuntimeWarning: invalid value encountered in double_scalars\n",
      "  return dot(sen_vec1,sen_vec2)/(norm(sen_vec1)*norm(sen_vec2))\n"
     ]
    },
    {
     "name": "stdout",
     "output_type": "stream",
     "text": [
      "URL            https://www.linkedin.com/in/salma-ghribi-02675...\n",
      "job_title      data analyst  data scientist  business intelli...\n",
      "Name                                                Salma Ghribi\n",
      "skills         [unity feuilles style cascade css qlick talend...\n",
      "experiences     Business Intelligence BI Consultant:sept. 202...\n",
      "Name: 264, dtype: object\n"
     ]
    },
    {
     "name": "stderr",
     "output_type": "stream",
     "text": [
      "C:\\Users\\MSI GF63\\AppData\\Local\\Temp\\ipykernel_15404\\3122937574.py:23: RuntimeWarning: invalid value encountered in double_scalars\n",
      "  return dot(sen_vec1,sen_vec2)/(norm(sen_vec1)*norm(sen_vec2))\n"
     ]
    },
    {
     "name": "stdout",
     "output_type": "stream",
     "text": [
      "URL                       https://www.linkedin.com/in/tliliimen/\n",
      "job_title      data science  business intelligence  machine l...\n",
      "Name                                                  Imen Tlili\n",
      "skills         [data analytics big data intelligence artifici...\n",
      "experiences    Internship Trainee:févr. 2022 - mai 2022 · 4 m...\n",
      "Name: 265, dtype: object\n"
     ]
    },
    {
     "name": "stderr",
     "output_type": "stream",
     "text": [
      "C:\\Users\\MSI GF63\\AppData\\Local\\Temp\\ipykernel_15404\\3122937574.py:23: RuntimeWarning: invalid value encountered in double_scalars\n",
      "  return dot(sen_vec1,sen_vec2)/(norm(sen_vec1)*norm(sen_vec2))\n"
     ]
    },
    {
     "name": "stdout",
     "output_type": "stream",
     "text": [
      "URL                https://www.linkedin.com/in/benmhannakoussay/\n",
      "job_title              consultant en data science chez quantylix\n",
      "Name                                          Koussay Ben Mhanna\n",
      "skills         [data science machine learning deep learning p...\n",
      "experiences    Consultant data science:août 2022 - aujourd’hu...\n",
      "Name: 266, dtype: object\n"
     ]
    },
    {
     "name": "stderr",
     "output_type": "stream",
     "text": [
      "C:\\Users\\MSI GF63\\AppData\\Local\\Temp\\ipykernel_15404\\3122937574.py:23: RuntimeWarning: invalid value encountered in double_scalars\n",
      "  return dot(sen_vec1,sen_vec2)/(norm(sen_vec1)*norm(sen_vec2))\n"
     ]
    },
    {
     "name": "stdout",
     "output_type": "stream",
     "text": [
      "URL                      https://www.linkedin.com/in/wadiisaidi/\n",
      "job_title                       data science   backend developer\n",
      "Name                                                 wadii Saidi\n",
      "skills         [formation recherche ingenierie competences an...\n",
      "experiences    Computer Vision Algorithm Engineer:janv. 2022 ...\n",
      "Name: 267, dtype: object\n"
     ]
    },
    {
     "name": "stderr",
     "output_type": "stream",
     "text": [
      "C:\\Users\\MSI GF63\\AppData\\Local\\Temp\\ipykernel_15404\\3122937574.py:23: RuntimeWarning: invalid value encountered in double_scalars\n",
      "  return dot(sen_vec1,sen_vec2)/(norm(sen_vec1)*norm(sen_vec2))\n"
     ]
    },
    {
     "name": "stdout",
     "output_type": "stream",
     "text": [
      "URL                    https://www.linkedin.com/in/achrefkhairi/\n",
      "job_title                                data science enthusiast\n",
      "Name                                               Achref Khairi\n",
      "skills         [graphic design marketing fullstack developmen...\n",
      "experiences                                      nan:nan,nan:nan\n",
      "Name: 268, dtype: object\n"
     ]
    },
    {
     "name": "stderr",
     "output_type": "stream",
     "text": [
      "C:\\Users\\MSI GF63\\AppData\\Local\\Temp\\ipykernel_15404\\3122937574.py:23: RuntimeWarning: invalid value encountered in double_scalars\n",
      "  return dot(sen_vec1,sen_vec2)/(norm(sen_vec1)*norm(sen_vec2))\n"
     ]
    },
    {
     "name": "stdout",
     "output_type": "stream",
     "text": [
      "URL            https://www.linkedin.com/in/nourhene-rebai-b43...\n",
      "job_title                       end of year Data Science Student\n",
      "Name                                              Nourhene Rebai\n",
      "skills         [conception web developpement web entrepreneur...\n",
      "experiences    Stagiaire en Data science:févr. 2023 - aujourd...\n",
      "Name: 269, dtype: object\n"
     ]
    },
    {
     "name": "stderr",
     "output_type": "stream",
     "text": [
      "C:\\Users\\MSI GF63\\AppData\\Local\\Temp\\ipykernel_15404\\3122937574.py:23: RuntimeWarning: invalid value encountered in double_scalars\n",
      "  return dot(sen_vec1,sen_vec2)/(norm(sen_vec1)*norm(sen_vec2))\n"
     ]
    },
    {
     "name": "stdout",
     "output_type": "stream",
     "text": [
      "URL            https://www.linkedin.com/in/mouhib-dalhoumi-45...\n",
      "job_title                                   Data Science Student\n",
      "Name                                             Mouhib Dalhoumi\n",
      "skills                                               [mentioned]\n",
      "experiences                                      nan:nan,nan:nan\n",
      "Name: 270, dtype: object\n"
     ]
    },
    {
     "name": "stderr",
     "output_type": "stream",
     "text": [
      "C:\\Users\\MSI GF63\\AppData\\Local\\Temp\\ipykernel_15404\\3122937574.py:23: RuntimeWarning: invalid value encountered in double_scalars\n",
      "  return dot(sen_vec1,sen_vec2)/(norm(sen_vec1)*norm(sen_vec2))\n"
     ]
    },
    {
     "name": "stdout",
     "output_type": "stream",
     "text": [
      "URL            https://www.linkedin.com/in/mayssa-jaziri-2bb4...\n",
      "job_title                        data science intern at elyadata\n",
      "Name                                               Mayssa Jaziri\n",
      "skills         [java engineering deep learning natural langua...\n",
      "experiences    Data Science Intern:juin 2022 - août 2022 · 3 ...\n",
      "Name: 271, dtype: object\n"
     ]
    },
    {
     "name": "stderr",
     "output_type": "stream",
     "text": [
      "C:\\Users\\MSI GF63\\AppData\\Local\\Temp\\ipykernel_15404\\3122937574.py:23: RuntimeWarning: invalid value encountered in double_scalars\n",
      "  return dot(sen_vec1,sen_vec2)/(norm(sen_vec1)*norm(sen_vec2))\n"
     ]
    },
    {
     "name": "stdout",
     "output_type": "stream",
     "text": [
      "URL                       https://www.linkedin.com/in/ons-salhi/\n",
      "job_title                                    data science intern\n",
      "Name                                                   Ons Salhi\n",
      "skills                                               [mentioned]\n",
      "experiences    Data Scientist:févr. 2023 - aujourd’hui · 1 mo...\n",
      "Name: 272, dtype: object\n"
     ]
    },
    {
     "name": "stderr",
     "output_type": "stream",
     "text": [
      "C:\\Users\\MSI GF63\\AppData\\Local\\Temp\\ipykernel_15404\\3122937574.py:23: RuntimeWarning: invalid value encountered in double_scalars\n",
      "  return dot(sen_vec1,sen_vec2)/(norm(sen_vec1)*norm(sen_vec2))\n"
     ]
    },
    {
     "name": "stdout",
     "output_type": "stream",
     "text": [
      "URL            https://www.linkedin.com/in/siwar-dhifi-538b90...\n",
      "job_title             data science  engineering student at essai\n",
      "Name                                                 Siwar Dhifi\n",
      "skills         [r programming language python programming lan...\n",
      "experiences                                      nan:nan,nan:nan\n",
      "Name: 273, dtype: object\n"
     ]
    },
    {
     "name": "stderr",
     "output_type": "stream",
     "text": [
      "C:\\Users\\MSI GF63\\AppData\\Local\\Temp\\ipykernel_15404\\3122937574.py:23: RuntimeWarning: invalid value encountered in double_scalars\n",
      "  return dot(sen_vec1,sen_vec2)/(norm(sen_vec1)*norm(sen_vec2))\n"
     ]
    },
    {
     "name": "stdout",
     "output_type": "stream",
     "text": [
      "URL                   https://www.linkedin.com/in/hanene-ennine/\n",
      "job_title                                  data science engineer\n",
      "Name                                               Hanene Ennine\n",
      "skills         [php java developpement web mysql ubuntu intel...\n",
      "experiences    University Teacher:sept. 2022 - aujourd’hui · ...\n",
      "Name: 274, dtype: object\n"
     ]
    },
    {
     "name": "stderr",
     "output_type": "stream",
     "text": [
      "C:\\Users\\MSI GF63\\AppData\\Local\\Temp\\ipykernel_15404\\3122937574.py:23: RuntimeWarning: invalid value encountered in double_scalars\n",
      "  return dot(sen_vec1,sen_vec2)/(norm(sen_vec1)*norm(sen_vec2))\n"
     ]
    },
    {
     "name": "stdout",
     "output_type": "stream",
     "text": [
      "URL                   https://www.linkedin.com/in/molka-kharrat/\n",
      "job_title                                   Data Science Student\n",
      "Name                                               Molka Kharrat\n",
      "skills         [python machine learning deep learning java ja...\n",
      "experiences    Data Scientist:févr. 2022 - août 2022 · 7 mois...\n",
      "Name: 275, dtype: object\n"
     ]
    },
    {
     "name": "stderr",
     "output_type": "stream",
     "text": [
      "C:\\Users\\MSI GF63\\AppData\\Local\\Temp\\ipykernel_15404\\3122937574.py:23: RuntimeWarning: invalid value encountered in double_scalars\n",
      "  return dot(sen_vec1,sen_vec2)/(norm(sen_vec1)*norm(sen_vec2))\n"
     ]
    },
    {
     "name": "stdout",
     "output_type": "stream",
     "text": [
      "URL            https://www.linkedin.com/in/laabidi-ons-063524...\n",
      "job_title                                    data science intern\n",
      "Name                                                 Laabidi Ons\n",
      "skills         [prise parole public physique quantique logici...\n",
      "experiences    Data Engineer:févr. 2023 - aujourd’hui · 1 moi...\n",
      "Name: 276, dtype: object\n"
     ]
    },
    {
     "name": "stderr",
     "output_type": "stream",
     "text": [
      "C:\\Users\\MSI GF63\\AppData\\Local\\Temp\\ipykernel_15404\\3122937574.py:23: RuntimeWarning: invalid value encountered in double_scalars\n",
      "  return dot(sen_vec1,sen_vec2)/(norm(sen_vec1)*norm(sen_vec2))\n"
     ]
    },
    {
     "name": "stdout",
     "output_type": "stream",
     "text": [
      "URL            https://www.linkedin.com/in/houssem-abdelkefi-...\n",
      "job_title      data science and business intelligence enginee...\n",
      "Name                                           Houssem ABDELKEFI\n",
      "skills         [microsoft sql server microsoft power bi micro...\n",
      "experiences    Stagiaire:juin 2022 - juil. 2022 · 2 mois,Stag...\n",
      "Name: 277, dtype: object\n"
     ]
    },
    {
     "name": "stderr",
     "output_type": "stream",
     "text": [
      "C:\\Users\\MSI GF63\\AppData\\Local\\Temp\\ipykernel_15404\\3122937574.py:23: RuntimeWarning: invalid value encountered in double_scalars\n",
      "  return dot(sen_vec1,sen_vec2)/(norm(sen_vec1)*norm(sen_vec2))\n"
     ]
    },
    {
     "name": "stdout",
     "output_type": "stream",
     "text": [
      "URL                    https://www.linkedin.com/in/faressoltani/\n",
      "job_title      data science enthusiast  certified tensorflow ...\n",
      "Name                                               Fares Soltani\n",
      "skills         [machine learning python programming language ...\n",
      "experiences    Junior Data Scientist (End of Studies Internsh...\n",
      "Name: 278, dtype: object\n"
     ]
    },
    {
     "name": "stderr",
     "output_type": "stream",
     "text": [
      "C:\\Users\\MSI GF63\\AppData\\Local\\Temp\\ipykernel_15404\\3122937574.py:23: RuntimeWarning: invalid value encountered in double_scalars\n",
      "  return dot(sen_vec1,sen_vec2)/(norm(sen_vec1)*norm(sen_vec2))\n"
     ]
    },
    {
     "name": "stdout",
     "output_type": "stream",
     "text": [
      "URL                  https://www.linkedin.com/in/karim-ben-jrad/\n",
      "job_title                   software data engineer chez elyadata\n",
      "Name                                              Karim Ben jrad\n",
      "skills         [python java ingenierie javascript angularjs t...\n",
      "experiences    Data Engineer:juil. 2022 - aujourd’hui · 8 moi...\n",
      "Name: 279, dtype: object\n"
     ]
    },
    {
     "name": "stderr",
     "output_type": "stream",
     "text": [
      "C:\\Users\\MSI GF63\\AppData\\Local\\Temp\\ipykernel_15404\\3122937574.py:23: RuntimeWarning: invalid value encountered in double_scalars\n",
      "  return dot(sen_vec1,sen_vec2)/(norm(sen_vec1)*norm(sen_vec2))\n"
     ]
    },
    {
     "name": "stdout",
     "output_type": "stream",
     "text": [
      "URL            https://www.linkedin.com/in/mohamed-radhouane-...\n",
      "job_title                     data science manager at infor  phd\n",
      "Name                                   Mohamed Radhouane Douissa\n",
      "skills         [sql team leadership presentations computer sc...\n",
      "experiences    Manager, Data Science:janv. 2022 - aujourd’hui...\n",
      "Name: 280, dtype: object\n"
     ]
    },
    {
     "name": "stderr",
     "output_type": "stream",
     "text": [
      "C:\\Users\\MSI GF63\\AppData\\Local\\Temp\\ipykernel_15404\\3122937574.py:23: RuntimeWarning: invalid value encountered in double_scalars\n",
      "  return dot(sen_vec1,sen_vec2)/(norm(sen_vec1)*norm(sen_vec2))\n"
     ]
    },
    {
     "name": "stdout",
     "output_type": "stream",
     "text": [
      "URL            https://www.linkedin.com/in/sabrine-abassi-ba0...\n",
      "job_title                                   Data Science Student\n",
      "Name                                              Sabrine Abassi\n",
      "skills         [methodes agiles django deep learning java lan...\n",
      "experiences    Membre:févr. 2023 - aujourd’hui · 1 mois,Stagi...\n",
      "Name: 281, dtype: object\n"
     ]
    },
    {
     "name": "stderr",
     "output_type": "stream",
     "text": [
      "C:\\Users\\MSI GF63\\AppData\\Local\\Temp\\ipykernel_15404\\3122937574.py:23: RuntimeWarning: invalid value encountered in double_scalars\n",
      "  return dot(sen_vec1,sen_vec2)/(norm(sen_vec1)*norm(sen_vec2))\n"
     ]
    },
    {
     "name": "stdout",
     "output_type": "stream",
     "text": [
      "URL            https://www.linkedin.com/in/belhassen-chater-4...\n",
      "job_title                                   Data Science Student\n",
      "Name                                            Belhassen Chater\n",
      "skills         [oracle database netbeans phpstorm java databa...\n",
      "experiences    Project Manager Officer :sept. 2022 - aujourd’...\n",
      "Name: 282, dtype: object\n"
     ]
    },
    {
     "name": "stderr",
     "output_type": "stream",
     "text": [
      "C:\\Users\\MSI GF63\\AppData\\Local\\Temp\\ipykernel_15404\\3122937574.py:23: RuntimeWarning: invalid value encountered in double_scalars\n",
      "  return dot(sen_vec1,sen_vec2)/(norm(sen_vec1)*norm(sen_vec2))\n"
     ]
    },
    {
     "name": "stdout",
     "output_type": "stream",
     "text": [
      "URL            https://www.linkedin.com/in/latifa-mankai-4678...\n",
      "job_title                      big data and Data Science Student\n",
      "Name                                               Latifa Mankai\n",
      "skills               [developpement web data analytics big data]\n",
      "experiences    Stagiaire chez BFI groupe:janv. 2021 - mai 202...\n",
      "Name: 283, dtype: object\n"
     ]
    },
    {
     "name": "stderr",
     "output_type": "stream",
     "text": [
      "C:\\Users\\MSI GF63\\AppData\\Local\\Temp\\ipykernel_15404\\3122937574.py:23: RuntimeWarning: invalid value encountered in double_scalars\n",
      "  return dot(sen_vec1,sen_vec2)/(norm(sen_vec1)*norm(sen_vec2))\n"
     ]
    },
    {
     "name": "stdout",
     "output_type": "stream",
     "text": [
      "URL            https://www.linkedin.com/in/hassen-ben-said-09...\n",
      "job_title      master degree student  data science and softwa...\n",
      "Name                                             Hassen ben said\n",
      "skills                                               [mentioned]\n",
      "experiences                                      nan:nan,nan:nan\n",
      "Name: 284, dtype: object\n"
     ]
    },
    {
     "name": "stderr",
     "output_type": "stream",
     "text": [
      "C:\\Users\\MSI GF63\\AppData\\Local\\Temp\\ipykernel_15404\\3122937574.py:23: RuntimeWarning: invalid value encountered in double_scalars\n",
      "  return dot(sen_vec1,sen_vec2)/(norm(sen_vec1)*norm(sen_vec2))\n"
     ]
    },
    {
     "name": "stdout",
     "output_type": "stream",
     "text": [
      "URL                 https://www.linkedin.com/in/hamza-ferchichi/\n",
      "job_title                       data scientist chez data science\n",
      "Name                                             Hamza Ferchichi\n",
      "skills         [python big data data analysis analytical skil...\n",
      "experiences    Data Scientist:nov. 2019 - aujourd’hui · 3 ans...\n",
      "Name: 285, dtype: object\n"
     ]
    },
    {
     "name": "stderr",
     "output_type": "stream",
     "text": [
      "C:\\Users\\MSI GF63\\AppData\\Local\\Temp\\ipykernel_15404\\3122937574.py:23: RuntimeWarning: invalid value encountered in double_scalars\n",
      "  return dot(sen_vec1,sen_vec2)/(norm(sen_vec1)*norm(sen_vec2))\n"
     ]
    },
    {
     "name": "stdout",
     "output_type": "stream",
     "text": [
      "URL            https://www.linkedin.com/in/eya-benzayed-280bb...\n",
      "job_title                                   Data Science Student\n",
      "Name                                                Eya BENZAYED\n",
      "skills         [competences analytiques science donnees sens ...\n",
      "experiences    Data Scientist Intern:févr. 2023 - aujourd’hui...\n",
      "Name: 286, dtype: object\n"
     ]
    },
    {
     "name": "stderr",
     "output_type": "stream",
     "text": [
      "C:\\Users\\MSI GF63\\AppData\\Local\\Temp\\ipykernel_15404\\3122937574.py:23: RuntimeWarning: invalid value encountered in double_scalars\n",
      "  return dot(sen_vec1,sen_vec2)/(norm(sen_vec1)*norm(sen_vec2))\n"
     ]
    },
    {
     "name": "stdout",
     "output_type": "stream",
     "text": [
      "URL            https://www.linkedin.com/in/zaineb-boujelbene-...\n",
      "job_title                                   Data Science Student\n",
      "Name                                           Zaineb Boujelbene\n",
      "skills         [deep learning python sql intelligence artific...\n",
      "experiences    Chairwoman:sept. 2022 - aujourd’hui · 6 mois,S...\n",
      "Name: 287, dtype: object\n"
     ]
    },
    {
     "name": "stderr",
     "output_type": "stream",
     "text": [
      "C:\\Users\\MSI GF63\\AppData\\Local\\Temp\\ipykernel_15404\\3122937574.py:23: RuntimeWarning: invalid value encountered in double_scalars\n",
      "  return dot(sen_vec1,sen_vec2)/(norm(sen_vec1)*norm(sen_vec2))\n"
     ]
    },
    {
     "name": "stdout",
     "output_type": "stream",
     "text": [
      "URL                      https://www.linkedin.com/in/ahmed-rzem/\n",
      "job_title         business intelligence and Data Science Student\n",
      "Name                                                  AHMED RZEM\n",
      "skills         [data analysis expressions dax apprentissage a...\n",
      "experiences    Consultant SAP Basis:févr. 2023 - aujourd’hui ...\n",
      "Name: 288, dtype: object\n"
     ]
    },
    {
     "name": "stderr",
     "output_type": "stream",
     "text": [
      "C:\\Users\\MSI GF63\\AppData\\Local\\Temp\\ipykernel_15404\\3122937574.py:23: RuntimeWarning: invalid value encountered in double_scalars\n",
      "  return dot(sen_vec1,sen_vec2)/(norm(sen_vec1)*norm(sen_vec2))\n"
     ]
    },
    {
     "name": "stdout",
     "output_type": "stream",
     "text": [
      "URL               https://www.linkedin.com/in/eya-ghodhbeni-pro/\n",
      "job_title                          data science consultant at ey\n",
      "Name                                               Eya Ghodhbeni\n",
      "skills         [computer vision microsoft azure visual studio...\n",
      "experiences    Data science consultant:sept. 2022 - aujourd’h...\n",
      "Name: 289, dtype: object\n"
     ]
    },
    {
     "name": "stderr",
     "output_type": "stream",
     "text": [
      "C:\\Users\\MSI GF63\\AppData\\Local\\Temp\\ipykernel_15404\\3122937574.py:23: RuntimeWarning: invalid value encountered in double_scalars\n",
      "  return dot(sen_vec1,sen_vec2)/(norm(sen_vec1)*norm(sen_vec2))\n"
     ]
    },
    {
     "name": "stdout",
     "output_type": "stream",
     "text": [
      "URL            https://www.linkedin.com/in/chaima-njeh-563425...\n",
      "job_title                                   Data Science Student\n",
      "Name                                                 Chaima Njeh\n",
      "skills                                               [mentioned]\n",
      "experiences                                      nan:nan,nan:nan\n",
      "Name: 290, dtype: object\n"
     ]
    },
    {
     "name": "stderr",
     "output_type": "stream",
     "text": [
      "C:\\Users\\MSI GF63\\AppData\\Local\\Temp\\ipykernel_15404\\3122937574.py:23: RuntimeWarning: invalid value encountered in double_scalars\n",
      "  return dot(sen_vec1,sen_vec2)/(norm(sen_vec1)*norm(sen_vec2))\n"
     ]
    },
    {
     "name": "stdout",
     "output_type": "stream",
     "text": [
      "URL            https://www.linkedin.com/in/bilel-jammazi-1b51...\n",
      "job_title                                           data science\n",
      "Name                                               bilel jammazi\n",
      "skills         [sql server integration services ssis sql pyth...\n",
      "experiences    Chef de département:mai 2019 - aujourd’hui · 3...\n",
      "Name: 291, dtype: object\n"
     ]
    },
    {
     "name": "stderr",
     "output_type": "stream",
     "text": [
      "C:\\Users\\MSI GF63\\AppData\\Local\\Temp\\ipykernel_15404\\3122937574.py:23: RuntimeWarning: invalid value encountered in double_scalars\n",
      "  return dot(sen_vec1,sen_vec2)/(norm(sen_vec1)*norm(sen_vec2))\n"
     ]
    },
    {
     "name": "stdout",
     "output_type": "stream",
     "text": [
      "URL            https://www.linkedin.com/in/wajih-jouini-46816...\n",
      "job_title                                   Data Science Student\n",
      "Name                                                wajih jouini\n",
      "skills                                               [mentioned]\n",
      "experiences                                      nan:nan,nan:nan\n",
      "Name: 292, dtype: object\n"
     ]
    },
    {
     "name": "stderr",
     "output_type": "stream",
     "text": [
      "C:\\Users\\MSI GF63\\AppData\\Local\\Temp\\ipykernel_15404\\3122937574.py:23: RuntimeWarning: invalid value encountered in double_scalars\n",
      "  return dot(sen_vec1,sen_vec2)/(norm(sen_vec1)*norm(sen_vec2))\n"
     ]
    },
    {
     "name": "stdout",
     "output_type": "stream",
     "text": [
      "URL                   https://www.linkedin.com/in/khairihammami/\n",
      "job_title                                   Data Science Student\n",
      "Name                                              Khairi Hammami\n",
      "skills         [plsql algorithms unified modeling language um...\n",
      "experiences    Vice President:juin 2022 - déc. 2022 · 7 mois,...\n",
      "Name: 293, dtype: object\n"
     ]
    },
    {
     "name": "stderr",
     "output_type": "stream",
     "text": [
      "C:\\Users\\MSI GF63\\AppData\\Local\\Temp\\ipykernel_15404\\3122937574.py:23: RuntimeWarning: invalid value encountered in double_scalars\n",
      "  return dot(sen_vec1,sen_vec2)/(norm(sen_vec1)*norm(sen_vec2))\n"
     ]
    },
    {
     "name": "stdout",
     "output_type": "stream",
     "text": [
      "URL            https://www.linkedin.com/in/khalil-allah-dimas...\n",
      "job_title                          data science engineer student\n",
      "Name                                        Khalil Allah Dimassi\n",
      "skills         [python programming language backend web devel...\n",
      "experiences    Student Software Engineer:sept. 2022 - aujourd...\n",
      "Name: 294, dtype: object\n"
     ]
    },
    {
     "name": "stderr",
     "output_type": "stream",
     "text": [
      "C:\\Users\\MSI GF63\\AppData\\Local\\Temp\\ipykernel_15404\\3122937574.py:23: RuntimeWarning: invalid value encountered in double_scalars\n",
      "  return dot(sen_vec1,sen_vec2)/(norm(sen_vec1)*norm(sen_vec2))\n"
     ]
    },
    {
     "name": "stdout",
     "output_type": "stream",
     "text": [
      "URL            https://www.linkedin.com/in/chaima-bouslah-528...\n",
      "job_title                                   Data Science Student\n",
      "Name                                              chaima Bouslah\n",
      "skills         [cassandra apache spark mongodb nosql sql pyth...\n",
      "experiences    Stagiaire:févr. 2023 - aujourd’hui · 1 mois,St...\n",
      "Name: 295, dtype: object\n"
     ]
    },
    {
     "name": "stderr",
     "output_type": "stream",
     "text": [
      "C:\\Users\\MSI GF63\\AppData\\Local\\Temp\\ipykernel_15404\\3122937574.py:23: RuntimeWarning: invalid value encountered in double_scalars\n",
      "  return dot(sen_vec1,sen_vec2)/(norm(sen_vec1)*norm(sen_vec2))\n"
     ]
    },
    {
     "name": "stdout",
     "output_type": "stream",
     "text": [
      "URL            https://www.linkedin.com/in/eya-ben-romdhane-b...\n",
      "job_title                         data science engineer student \n",
      "Name                                            Eya Ben Romdhane\n",
      "skills         [ubuntu linux java microsoft windows cisco net...\n",
      "experiences    Étudiant stagiaire:juin 2020 - aujourd’hui · 2...\n",
      "Name: 296, dtype: object\n"
     ]
    },
    {
     "name": "stderr",
     "output_type": "stream",
     "text": [
      "C:\\Users\\MSI GF63\\AppData\\Local\\Temp\\ipykernel_15404\\3122937574.py:23: RuntimeWarning: invalid value encountered in double_scalars\n",
      "  return dot(sen_vec1,sen_vec2)/(norm(sen_vec1)*norm(sen_vec2))\n"
     ]
    },
    {
     "name": "stdout",
     "output_type": "stream",
     "text": [
      "URL            https://www.linkedin.com/in/mouhamed-ali-romme...\n",
      "job_title            data  science engineering student at esprit\n",
      "Name                                        Mouhamed Ali Rommene\n",
      "skills         [python programming language django scrum mach...\n",
      "experiences                                      nan:nan,nan:nan\n",
      "Name: 297, dtype: object\n"
     ]
    },
    {
     "name": "stderr",
     "output_type": "stream",
     "text": [
      "C:\\Users\\MSI GF63\\AppData\\Local\\Temp\\ipykernel_15404\\3122937574.py:23: RuntimeWarning: invalid value encountered in double_scalars\n",
      "  return dot(sen_vec1,sen_vec2)/(norm(sen_vec1)*norm(sen_vec2))\n"
     ]
    },
    {
     "name": "stdout",
     "output_type": "stream",
     "text": [
      "URL                       https://www.linkedin.com/in/maminizer/\n",
      "job_title      Data Science Studentand computer vision practi...\n",
      "Name                                                  Amine Mami\n",
      "skills         [python programming language machine learning ...\n",
      "experiences    Data Science / Business Intelligence intern (S...\n",
      "Name: 298, dtype: object\n"
     ]
    },
    {
     "name": "stderr",
     "output_type": "stream",
     "text": [
      "C:\\Users\\MSI GF63\\AppData\\Local\\Temp\\ipykernel_15404\\3122937574.py:23: RuntimeWarning: invalid value encountered in double_scalars\n",
      "  return dot(sen_vec1,sen_vec2)/(norm(sen_vec1)*norm(sen_vec2))\n"
     ]
    },
    {
     "name": "stdout",
     "output_type": "stream",
     "text": [
      "URL                      https://www.linkedin.com/in/molkazheni/\n",
      "job_title                                   Data Science Student\n",
      "Name                                                 Molka Zheni\n",
      "skills         [java javascript django business intelligence ...\n",
      "experiences    Aucune:nan,Python-Django Intern:juil. 2022 - o...\n",
      "Name: 299, dtype: object\n"
     ]
    },
    {
     "name": "stderr",
     "output_type": "stream",
     "text": [
      "C:\\Users\\MSI GF63\\AppData\\Local\\Temp\\ipykernel_15404\\3122937574.py:23: RuntimeWarning: invalid value encountered in double_scalars\n",
      "  return dot(sen_vec1,sen_vec2)/(norm(sen_vec1)*norm(sen_vec2))\n"
     ]
    },
    {
     "name": "stdout",
     "output_type": "stream",
     "text": [
      "URL                   https://www.linkedin.com/in/dhambri-bilel/\n",
      "job_title              Data Science Student paris dauphine tunis\n",
      "Name                                               Bilel Dhambri\n",
      "skills         [machine learning python programming language ...\n",
      "experiences    Stagiaire en développement Web:févr. 2021 - ju...\n",
      "Name: 300, dtype: object\n"
     ]
    },
    {
     "name": "stderr",
     "output_type": "stream",
     "text": [
      "C:\\Users\\MSI GF63\\AppData\\Local\\Temp\\ipykernel_15404\\3122937574.py:23: RuntimeWarning: invalid value encountered in double_scalars\n",
      "  return dot(sen_vec1,sen_vec2)/(norm(sen_vec1)*norm(sen_vec2))\n"
     ]
    },
    {
     "name": "stdout",
     "output_type": "stream",
     "text": [
      "URL            https://www.linkedin.com/in/moudhafferbouallegui/\n",
      "job_title      data science  machine learning engineering stu...\n",
      "Name                                       Moudhaffer Bouallegui\n",
      "skills         [natural language processing nlp transformer b...\n",
      "experiences    Natural Language Processing Intern:juin 2022 -...\n",
      "Name: 301, dtype: object\n"
     ]
    },
    {
     "name": "stderr",
     "output_type": "stream",
     "text": [
      "C:\\Users\\MSI GF63\\AppData\\Local\\Temp\\ipykernel_15404\\3122937574.py:23: RuntimeWarning: invalid value encountered in double_scalars\n",
      "  return dot(sen_vec1,sen_vec2)/(norm(sen_vec1)*norm(sen_vec2))\n"
     ]
    },
    {
     "name": "stdout",
     "output_type": "stream",
     "text": [
      "URL            https://www.linkedin.com/in/salha-medini-0b250...\n",
      "job_title                                   Data Science Student\n",
      "Name                                                Salha MEDINI\n",
      "skills         [mern stack finance python langage programmati...\n",
      "experiences    Stagiaire:juil. 2022 - août 2022 · 2 mois,Stag...\n",
      "Name: 302, dtype: object\n"
     ]
    },
    {
     "name": "stderr",
     "output_type": "stream",
     "text": [
      "C:\\Users\\MSI GF63\\AppData\\Local\\Temp\\ipykernel_15404\\3122937574.py:23: RuntimeWarning: invalid value encountered in double_scalars\n",
      "  return dot(sen_vec1,sen_vec2)/(norm(sen_vec1)*norm(sen_vec2))\n"
     ]
    },
    {
     "name": "stdout",
     "output_type": "stream",
     "text": [
      "URL            https://www.linkedin.com/in/chaima-laouini-878...\n",
      "job_title                                   Data Science Student\n",
      "Name                                              chaima laouini\n",
      "skills         [marketing digital r studio java mongodb oracl...\n",
      "experiences                                      nan:nan,nan:nan\n",
      "Name: 303, dtype: object\n"
     ]
    },
    {
     "name": "stderr",
     "output_type": "stream",
     "text": [
      "C:\\Users\\MSI GF63\\AppData\\Local\\Temp\\ipykernel_15404\\3122937574.py:23: RuntimeWarning: invalid value encountered in double_scalars\n",
      "  return dot(sen_vec1,sen_vec2)/(norm(sen_vec1)*norm(sen_vec2))\n"
     ]
    },
    {
     "name": "stdout",
     "output_type": "stream",
     "text": [
      "URL                    https://www.linkedin.com/in/dhia-hammadi/\n",
      "job_title         data science and business intelligence student\n",
      "Name                                                DHIA HAMMADI\n",
      "skills          [spring boot microsoft power bi microsoft excel]\n",
      "experiences    Stagiaire:juil. 2022 - août 2022 · 2 mois,Stag...\n",
      "Name: 304, dtype: object\n"
     ]
    },
    {
     "name": "stderr",
     "output_type": "stream",
     "text": [
      "C:\\Users\\MSI GF63\\AppData\\Local\\Temp\\ipykernel_15404\\3122937574.py:23: RuntimeWarning: invalid value encountered in double_scalars\n",
      "  return dot(sen_vec1,sen_vec2)/(norm(sen_vec1)*norm(sen_vec2))\n"
     ]
    },
    {
     "name": "stdout",
     "output_type": "stream",
     "text": [
      "URL            https://www.linkedin.com/in/khalil-hajji-a7166...\n",
      "job_title      Data Science Studentat the higher school of st...\n",
      "Name                                                Khalil Hajji\n",
      "skills         [project management strategic planning communi...\n",
      "experiences    End of Study Internship in Data Science:févr. ...\n",
      "Name: 305, dtype: object\n"
     ]
    },
    {
     "name": "stderr",
     "output_type": "stream",
     "text": [
      "C:\\Users\\MSI GF63\\AppData\\Local\\Temp\\ipykernel_15404\\3122937574.py:23: RuntimeWarning: invalid value encountered in double_scalars\n",
      "  return dot(sen_vec1,sen_vec2)/(norm(sen_vec1)*norm(sen_vec2))\n"
     ]
    },
    {
     "name": "stdout",
     "output_type": "stream",
     "text": [
      "URL                 https://www.linkedin.com/in/med-hedy-ezzine/\n",
      "job_title                                   Data Science Student\n",
      "Name                                             Med Hedy Ezzine\n",
      "skills         [python langage programmation machine learning...\n",
      "experiences        Intern:juin 2022 - août 2022 · 3 mois,nan:nan\n",
      "Name: 306, dtype: object\n"
     ]
    },
    {
     "name": "stderr",
     "output_type": "stream",
     "text": [
      "C:\\Users\\MSI GF63\\AppData\\Local\\Temp\\ipykernel_15404\\3122937574.py:23: RuntimeWarning: invalid value encountered in double_scalars\n",
      "  return dot(sen_vec1,sen_vec2)/(norm(sen_vec1)*norm(sen_vec2))\n"
     ]
    },
    {
     "name": "stdout",
     "output_type": "stream",
     "text": [
      "URL            https://www.linkedin.com/in/saba-ben-salem/\n",
      "job_title                                     data science\n",
      "Name                                        Saba BEN SALEM\n",
      "skills                                         [mentioned]\n",
      "experiences                                nan:nan,nan:nan\n",
      "Name: 307, dtype: object\n"
     ]
    },
    {
     "name": "stderr",
     "output_type": "stream",
     "text": [
      "C:\\Users\\MSI GF63\\AppData\\Local\\Temp\\ipykernel_15404\\3122937574.py:23: RuntimeWarning: invalid value encountered in double_scalars\n",
      "  return dot(sen_vec1,sen_vec2)/(norm(sen_vec1)*norm(sen_vec2))\n"
     ]
    },
    {
     "name": "stdout",
     "output_type": "stream",
     "text": [
      "URL            https://www.linkedin.com/in/mohamed-amine-mila...\n",
      "job_title                                   Data Science Student\n",
      "Name                                        Mohamed Amine Miladi\n",
      "skills                                               [mentioned]\n",
      "experiences                                      nan:nan,nan:nan\n",
      "Name: 308, dtype: object\n"
     ]
    },
    {
     "name": "stderr",
     "output_type": "stream",
     "text": [
      "C:\\Users\\MSI GF63\\AppData\\Local\\Temp\\ipykernel_15404\\3122937574.py:23: RuntimeWarning: invalid value encountered in double_scalars\n",
      "  return dot(sen_vec1,sen_vec2)/(norm(sen_vec1)*norm(sen_vec2))\n"
     ]
    },
    {
     "name": "stdout",
     "output_type": "stream",
     "text": [
      "URL            https://www.linkedin.com/in/rima-essa%C3%AFdi-...\n",
      "job_title                                   Data Science Student\n",
      "Name                                                Rima Essaïdi\n",
      "skills         [public speaking communication english french ...\n",
      "experiences    Project Intern:Feb 2022 - Jun 2022 · 5 mos,Pro...\n",
      "Name: 309, dtype: object\n"
     ]
    },
    {
     "name": "stderr",
     "output_type": "stream",
     "text": [
      "C:\\Users\\MSI GF63\\AppData\\Local\\Temp\\ipykernel_15404\\3122937574.py:23: RuntimeWarning: invalid value encountered in double_scalars\n",
      "  return dot(sen_vec1,sen_vec2)/(norm(sen_vec1)*norm(sen_vec2))\n"
     ]
    },
    {
     "name": "stdout",
     "output_type": "stream",
     "text": [
      "URL            https://www.linkedin.com/in/mahjoubi-amir-aa25...\n",
      "job_title                             data science  data analyst\n",
      "Name                                               Mahjoubi Amir\n",
      "skills         [sql nosql python big data intelligence artifi...\n",
      "experiences    Data Engineer:May 2022 - Present · 10 mos,Data...\n",
      "Name: 310, dtype: object\n"
     ]
    },
    {
     "name": "stderr",
     "output_type": "stream",
     "text": [
      "C:\\Users\\MSI GF63\\AppData\\Local\\Temp\\ipykernel_15404\\3122937574.py:23: RuntimeWarning: invalid value encountered in double_scalars\n",
      "  return dot(sen_vec1,sen_vec2)/(norm(sen_vec1)*norm(sen_vec2))\n"
     ]
    },
    {
     "name": "stdout",
     "output_type": "stream",
     "text": [
      "URL            https://www.linkedin.com/in/amine-ben-taher-25...\n",
      "job_title                                  data science engineer\n",
      "Name                                             Amine Ben Taher\n",
      "skills         [science donnees apprentissage automatique pyt...\n",
      "experiences    Data Analyst:Feb 2022 - Jun 2022 · 5 mos,Stagi...\n",
      "Name: 311, dtype: object\n"
     ]
    },
    {
     "name": "stderr",
     "output_type": "stream",
     "text": [
      "C:\\Users\\MSI GF63\\AppData\\Local\\Temp\\ipykernel_15404\\3122937574.py:23: RuntimeWarning: invalid value encountered in double_scalars\n",
      "  return dot(sen_vec1,sen_vec2)/(norm(sen_vec1)*norm(sen_vec2))\n"
     ]
    },
    {
     "name": "stdout",
     "output_type": "stream",
     "text": [
      "URL                   https://www.linkedin.com/in/chaima-chahed/\n",
      "job_title                                           data science\n",
      "Name                                               chaima chahed\n",
      "skills         [java java database connectivity jdbc angularj...\n",
      "experiences                                      nan:nan,nan:nan\n",
      "Name: 312, dtype: object\n"
     ]
    },
    {
     "name": "stderr",
     "output_type": "stream",
     "text": [
      "C:\\Users\\MSI GF63\\AppData\\Local\\Temp\\ipykernel_15404\\3122937574.py:23: RuntimeWarning: invalid value encountered in double_scalars\n",
      "  return dot(sen_vec1,sen_vec2)/(norm(sen_vec1)*norm(sen_vec2))\n"
     ]
    },
    {
     "name": "stdout",
     "output_type": "stream",
     "text": [
      "URL                       https://www.linkedin.com/in/anasrhili/\n",
      "job_title                          data science engineer student\n",
      "Name                                                  Anas Rhili\n",
      "skills         [svm modelisation mathematique openmp langage ...\n",
      "experiences    Stagiaire:Aug 2021 - Sep 2021 · 2 mos,Stagiair...\n",
      "Name: 313, dtype: object\n"
     ]
    },
    {
     "name": "stderr",
     "output_type": "stream",
     "text": [
      "C:\\Users\\MSI GF63\\AppData\\Local\\Temp\\ipykernel_15404\\3122937574.py:23: RuntimeWarning: invalid value encountered in double_scalars\n",
      "  return dot(sen_vec1,sen_vec2)/(norm(sen_vec1)*norm(sen_vec2))\n"
     ]
    },
    {
     "name": "stdout",
     "output_type": "stream",
     "text": [
      "URL                      https://www.linkedin.com/in/inesnakhli/\n",
      "job_title                                   Data Science Student\n",
      "Name                                                 Ines Nakhli\n",
      "skills         [python langage programmation r sql mysql anal...\n",
      "experiences    Stagiaire en Business Intelligence :Feb 2022 -...\n",
      "Name: 314, dtype: object\n"
     ]
    },
    {
     "name": "stderr",
     "output_type": "stream",
     "text": [
      "C:\\Users\\MSI GF63\\AppData\\Local\\Temp\\ipykernel_15404\\3122937574.py:23: RuntimeWarning: invalid value encountered in double_scalars\n",
      "  return dot(sen_vec1,sen_vec2)/(norm(sen_vec1)*norm(sen_vec2))\n"
     ]
    },
    {
     "name": "stdout",
     "output_type": "stream",
     "text": [
      "URL            https://www.linkedin.com/in/wael-othmani-5a55b...\n",
      "job_title      senior data scientist   data science manager a...\n",
      "Name                                                Wael Othmani\n",
      "skills         [data analysis machine learning data manipulat...\n",
      "experiences    Senior Data Scientist:Jul 2018 - Present · 4 y...\n",
      "Name: 315, dtype: object\n"
     ]
    },
    {
     "name": "stderr",
     "output_type": "stream",
     "text": [
      "C:\\Users\\MSI GF63\\AppData\\Local\\Temp\\ipykernel_15404\\3122937574.py:23: RuntimeWarning: invalid value encountered in double_scalars\n",
      "  return dot(sen_vec1,sen_vec2)/(norm(sen_vec1)*norm(sen_vec2))\n"
     ]
    },
    {
     "name": "stdout",
     "output_type": "stream",
     "text": [
      "URL                  https://www.linkedin.com/in/ghmougui-nada-/\n",
      "job_title      applied mathematics and modeling engineer  dat...\n",
      "Name                                               Nada Ghmougui\n",
      "skills         [reseaux neurones artificiels visualisation do...\n",
      "experiences    Stagiaire:Feb 2022 - Aug 2022 · 7 mos,Stagiair...\n",
      "Name: 316, dtype: object\n"
     ]
    },
    {
     "name": "stderr",
     "output_type": "stream",
     "text": [
      "C:\\Users\\MSI GF63\\AppData\\Local\\Temp\\ipykernel_15404\\3122937574.py:23: RuntimeWarning: invalid value encountered in double_scalars\n",
      "  return dot(sen_vec1,sen_vec2)/(norm(sen_vec1)*norm(sen_vec2))\n"
     ]
    },
    {
     "name": "stdout",
     "output_type": "stream",
     "text": [
      "URL                  https://www.linkedin.com/in/mariam-bahloul/\n",
      "job_title                                data engineering intern\n",
      "Name                                              mariam bahloul\n",
      "skills         [talend open studio google cloud platform gcp ...\n",
      "experiences    Data Engineering Intern:Feb 2023 - Present · 1...\n",
      "Name: 317, dtype: object\n"
     ]
    },
    {
     "name": "stderr",
     "output_type": "stream",
     "text": [
      "C:\\Users\\MSI GF63\\AppData\\Local\\Temp\\ipykernel_15404\\3122937574.py:23: RuntimeWarning: invalid value encountered in double_scalars\n",
      "  return dot(sen_vec1,sen_vec2)/(norm(sen_vec1)*norm(sen_vec2))\n"
     ]
    },
    {
     "name": "stdout",
     "output_type": "stream",
     "text": [
      "URL            https://www.linkedin.com/in/amine-ayari-5813b8...\n",
      "job_title                                   Data Science Student\n",
      "Name                                                 Amine AYARI\n",
      "skills                                               [mentioned]\n",
      "experiences    Data Scientist:Jun 2022 - Aug 2022 · 3 mos,Sof...\n",
      "Name: 318, dtype: object\n"
     ]
    },
    {
     "name": "stderr",
     "output_type": "stream",
     "text": [
      "C:\\Users\\MSI GF63\\AppData\\Local\\Temp\\ipykernel_15404\\3122937574.py:23: RuntimeWarning: invalid value encountered in double_scalars\n",
      "  return dot(sen_vec1,sen_vec2)/(norm(sen_vec1)*norm(sen_vec2))\n"
     ]
    },
    {
     "name": "stdout",
     "output_type": "stream",
     "text": [
      "URL            https://www.linkedin.com/in/zraibia-nour-33120...\n",
      "job_title        Data Science Studentat esprit  robotics trainer\n",
      "Name                                                zraibia nour\n",
      "skills                                               [mentioned]\n",
      "experiences                                      nan:nan,nan:nan\n",
      "Name: 319, dtype: object\n"
     ]
    },
    {
     "name": "stderr",
     "output_type": "stream",
     "text": [
      "C:\\Users\\MSI GF63\\AppData\\Local\\Temp\\ipykernel_15404\\3122937574.py:23: RuntimeWarning: invalid value encountered in double_scalars\n",
      "  return dot(sen_vec1,sen_vec2)/(norm(sen_vec1)*norm(sen_vec2))\n"
     ]
    },
    {
     "name": "stdout",
     "output_type": "stream",
     "text": [
      "URL                   https://www.linkedin.com/in/mahmoud-limam/\n",
      "job_title      deep learning  machine learning  data science ...\n",
      "Name                                               Mahmoud Limam\n",
      "skills         [machine learning deep learning english statis...\n",
      "experiences    Deep Learning Research Intern:Feb 2023 - Prese...\n",
      "Name: 320, dtype: object\n"
     ]
    },
    {
     "name": "stderr",
     "output_type": "stream",
     "text": [
      "C:\\Users\\MSI GF63\\AppData\\Local\\Temp\\ipykernel_15404\\3122937574.py:23: RuntimeWarning: invalid value encountered in double_scalars\n",
      "  return dot(sen_vec1,sen_vec2)/(norm(sen_vec1)*norm(sen_vec2))\n"
     ]
    },
    {
     "name": "stdout",
     "output_type": "stream",
     "text": [
      "URL            https://www.linkedin.com/in/mariem-hachicha-17...\n",
      "job_title      data science and business intelligence enginee...\n",
      "Name                                             Mariem Hachicha\n",
      "skills         [python programming language programming langu...\n",
      "experiences                                      nan:nan,nan:nan\n",
      "Name: 321, dtype: object\n"
     ]
    },
    {
     "name": "stderr",
     "output_type": "stream",
     "text": [
      "C:\\Users\\MSI GF63\\AppData\\Local\\Temp\\ipykernel_15404\\3122937574.py:23: RuntimeWarning: invalid value encountered in double_scalars\n",
      "  return dot(sen_vec1,sen_vec2)/(norm(sen_vec1)*norm(sen_vec2))\n"
     ]
    },
    {
     "name": "stdout",
     "output_type": "stream",
     "text": [
      "URL            https://www.linkedin.com/in/ali-boughnim-65476...\n",
      "job_title                                   Data Science Student\n",
      "Name                                                Ali Boughnim\n",
      "skills                                               [mentioned]\n",
      "experiences                                      nan:nan,nan:nan\n",
      "Name: 322, dtype: object\n"
     ]
    },
    {
     "name": "stderr",
     "output_type": "stream",
     "text": [
      "C:\\Users\\MSI GF63\\AppData\\Local\\Temp\\ipykernel_15404\\3122937574.py:23: RuntimeWarning: invalid value encountered in double_scalars\n",
      "  return dot(sen_vec1,sen_vec2)/(norm(sen_vec1)*norm(sen_vec2))\n"
     ]
    },
    {
     "name": "stdout",
     "output_type": "stream",
     "text": [
      "URL            https://www.linkedin.com/in/ikbel-fridhi-41380...\n",
      "job_title                                   Data Science Student\n",
      "Name                                                ikbel fridhi\n",
      "skills                                               [mentioned]\n",
      "experiences                                      nan:nan,nan:nan\n",
      "Name: 323, dtype: object\n"
     ]
    },
    {
     "name": "stderr",
     "output_type": "stream",
     "text": [
      "C:\\Users\\MSI GF63\\AppData\\Local\\Temp\\ipykernel_15404\\3122937574.py:23: RuntimeWarning: invalid value encountered in double_scalars\n",
      "  return dot(sen_vec1,sen_vec2)/(norm(sen_vec1)*norm(sen_vec2))\n"
     ]
    },
    {
     "name": "stdout",
     "output_type": "stream",
     "text": [
      "URL                   https://www.linkedin.com/in/skander-rhifi/\n",
      "job_title                                   Data Science Student\n",
      "Name                                               Skander Rhifi\n",
      "skills         [data science statistics data analytics data a...\n",
      "experiences           Intern:Jul 2022 - Aug 2022 · 2 mos,nan:nan\n",
      "Name: 324, dtype: object\n"
     ]
    },
    {
     "name": "stderr",
     "output_type": "stream",
     "text": [
      "C:\\Users\\MSI GF63\\AppData\\Local\\Temp\\ipykernel_15404\\3122937574.py:23: RuntimeWarning: invalid value encountered in double_scalars\n",
      "  return dot(sen_vec1,sen_vec2)/(norm(sen_vec1)*norm(sen_vec2))\n"
     ]
    },
    {
     "name": "stdout",
     "output_type": "stream",
     "text": [
      "URL                    https://www.linkedin.com/in/yosser-akili/\n",
      "job_title                                   Data Science Student\n",
      "Name                                                YOSSER AKILI\n",
      "skills         [r shiny machine learning data analysis search...\n",
      "experiences    Secretary General:Sep 2022 - Present · 6 mos,M...\n",
      "Name: 325, dtype: object\n"
     ]
    },
    {
     "name": "stderr",
     "output_type": "stream",
     "text": [
      "C:\\Users\\MSI GF63\\AppData\\Local\\Temp\\ipykernel_15404\\3122937574.py:23: RuntimeWarning: invalid value encountered in double_scalars\n",
      "  return dot(sen_vec1,sen_vec2)/(norm(sen_vec1)*norm(sen_vec2))\n"
     ]
    },
    {
     "name": "stdout",
     "output_type": "stream",
     "text": [
      "URL            https://www.linkedin.com/in/hajer-sassi-7571b7...\n",
      "job_title                                    data science intern\n",
      "Name                                                 Hajer Sassi\n",
      "skills         [data science langage programmation wordpress ...\n",
      "experiences    data sciences master student :Sep 2020 - Prese...\n",
      "Name: 326, dtype: object\n"
     ]
    },
    {
     "name": "stderr",
     "output_type": "stream",
     "text": [
      "C:\\Users\\MSI GF63\\AppData\\Local\\Temp\\ipykernel_15404\\3122937574.py:23: RuntimeWarning: invalid value encountered in double_scalars\n",
      "  return dot(sen_vec1,sen_vec2)/(norm(sen_vec1)*norm(sen_vec2))\n"
     ]
    },
    {
     "name": "stdout",
     "output_type": "stream",
     "text": [
      "URL            https://www.linkedin.com/in/mohamed-aziz-kasse...\n",
      "job_title                                   Data Science Student\n",
      "Name                                         Mohamed Aziz Kasseb\n",
      "skills         [java fx methodes agiles java java fx framewor...\n",
      "experiences        Adjoint RH:Jul 2022 - Present · 8 mos,nan:nan\n",
      "Name: 327, dtype: object\n"
     ]
    },
    {
     "name": "stderr",
     "output_type": "stream",
     "text": [
      "C:\\Users\\MSI GF63\\AppData\\Local\\Temp\\ipykernel_15404\\3122937574.py:23: RuntimeWarning: invalid value encountered in double_scalars\n",
      "  return dot(sen_vec1,sen_vec2)/(norm(sen_vec1)*norm(sen_vec2))\n"
     ]
    },
    {
     "name": "stdout",
     "output_type": "stream",
     "text": [
      "URL                      https://www.linkedin.com/in/jmportilla/\n",
      "job_title                                   head of data science\n",
      "Name                                       Jose Marcial Portilla\n",
      "skills         [machine learning matlab python numpy data ana...\n",
      "experiences    Head of Data Science:Nov 2015 - Present · 7 yr...\n",
      "Name: 328, dtype: object\n"
     ]
    },
    {
     "name": "stderr",
     "output_type": "stream",
     "text": [
      "C:\\Users\\MSI GF63\\AppData\\Local\\Temp\\ipykernel_15404\\3122937574.py:23: RuntimeWarning: invalid value encountered in double_scalars\n",
      "  return dot(sen_vec1,sen_vec2)/(norm(sen_vec1)*norm(sen_vec2))\n"
     ]
    },
    {
     "name": "stdout",
     "output_type": "stream",
     "text": [
      "URL            https://www.linkedin.com/in/nourh%C3%A8ne-balt...\n",
      "job_title                                    master data science\n",
      "Name                                              Nourhène Balti\n",
      "skills         [technologies l'information mysql hibernate cy...\n",
      "experiences    Étudiante stagiaire:Jan 2021 - Jun 2021 · 6 mo...\n",
      "Name: 329, dtype: object\n"
     ]
    },
    {
     "name": "stderr",
     "output_type": "stream",
     "text": [
      "C:\\Users\\MSI GF63\\AppData\\Local\\Temp\\ipykernel_15404\\3122937574.py:23: RuntimeWarning: invalid value encountered in double_scalars\n",
      "  return dot(sen_vec1,sen_vec2)/(norm(sen_vec1)*norm(sen_vec2))\n"
     ]
    },
    {
     "name": "stdout",
     "output_type": "stream",
     "text": [
      "URL            https://www.linkedin.com/in/hana-ben-ali-357b1...\n",
      "job_title                                data science enthusiast\n",
      "Name                                                Hana Ben Ali\n",
      "skills         [extraction contenu webbeautiful soup plsql r ...\n",
      "experiences           intern:Mar 2022 - Apr 2022 · 2 mos,nan:nan\n",
      "Name: 330, dtype: object\n"
     ]
    },
    {
     "name": "stderr",
     "output_type": "stream",
     "text": [
      "C:\\Users\\MSI GF63\\AppData\\Local\\Temp\\ipykernel_15404\\3122937574.py:23: RuntimeWarning: invalid value encountered in double_scalars\n",
      "  return dot(sen_vec1,sen_vec2)/(norm(sen_vec1)*norm(sen_vec2))\n"
     ]
    },
    {
     "name": "stdout",
     "output_type": "stream",
     "text": [
      "URL            https://www.linkedin.com/in/mzoughui-omar-908a...\n",
      "job_title                                   Data Science Student\n",
      "Name                                               Mzoughui Omar\n",
      "skills                                               [mentioned]\n",
      "experiences       Member:Sep 2021 - Present · 1 yr 6 mos,nan:nan\n",
      "Name: 331, dtype: object\n"
     ]
    },
    {
     "name": "stderr",
     "output_type": "stream",
     "text": [
      "C:\\Users\\MSI GF63\\AppData\\Local\\Temp\\ipykernel_15404\\3122937574.py:23: RuntimeWarning: invalid value encountered in double_scalars\n",
      "  return dot(sen_vec1,sen_vec2)/(norm(sen_vec1)*norm(sen_vec2))\n"
     ]
    },
    {
     "name": "stdout",
     "output_type": "stream",
     "text": [
      "URL            https://www.linkedin.com/in/mariem-kadhi-42251...\n",
      "job_title                   étudiante en 3ème année data science\n",
      "Name                                                Mariem Kadhi\n",
      "skills         [business intelligence bi intelligence artific...\n",
      "experiences    Data Science Intern:Jun 2022 - Jul 2022 · 2 mo...\n",
      "Name: 332, dtype: object\n"
     ]
    },
    {
     "name": "stderr",
     "output_type": "stream",
     "text": [
      "C:\\Users\\MSI GF63\\AppData\\Local\\Temp\\ipykernel_15404\\3122937574.py:23: RuntimeWarning: invalid value encountered in double_scalars\n",
      "  return dot(sen_vec1,sen_vec2)/(norm(sen_vec1)*norm(sen_vec2))\n"
     ]
    },
    {
     "name": "stdout",
     "output_type": "stream",
     "text": [
      "URL            https://www.linkedin.com/in/sirine-dahech-bb1b...\n",
      "job_title                                   Data Science Student\n",
      "Name                                               Sirine Dahech\n",
      "skills           [machine learning python langage programmation]\n",
      "experiences                                      nan:nan,nan:nan\n",
      "Name: 333, dtype: object\n"
     ]
    },
    {
     "name": "stderr",
     "output_type": "stream",
     "text": [
      "C:\\Users\\MSI GF63\\AppData\\Local\\Temp\\ipykernel_15404\\3122937574.py:23: RuntimeWarning: invalid value encountered in double_scalars\n",
      "  return dot(sen_vec1,sen_vec2)/(norm(sen_vec1)*norm(sen_vec2))\n"
     ]
    },
    {
     "name": "stdout",
     "output_type": "stream",
     "text": [
      "URL            https://www.linkedin.com/in/oumaima-hafsi/\n",
      "job_title                            Data Science Student\n",
      "Name                                        Oumaima Hafsi\n",
      "skills                                        [mentioned]\n",
      "experiences                               nan:nan,nan:nan\n",
      "Name: 334, dtype: object\n"
     ]
    },
    {
     "name": "stderr",
     "output_type": "stream",
     "text": [
      "C:\\Users\\MSI GF63\\AppData\\Local\\Temp\\ipykernel_15404\\3122937574.py:23: RuntimeWarning: invalid value encountered in double_scalars\n",
      "  return dot(sen_vec1,sen_vec2)/(norm(sen_vec1)*norm(sen_vec2))\n"
     ]
    },
    {
     "name": "stdout",
     "output_type": "stream",
     "text": [
      "URL                      https://www.linkedin.com/in/waeldhouib/\n",
      "job_title                          Data Science Studentat esprit\n",
      "Name                                                 Wael Dhouib\n",
      "skills         [python r java machine learning data analysis ...\n",
      "experiences           Intern:Jan 2016 - Jun 2016 · 6 mos,nan:nan\n",
      "Name: 335, dtype: object\n"
     ]
    },
    {
     "name": "stderr",
     "output_type": "stream",
     "text": [
      "C:\\Users\\MSI GF63\\AppData\\Local\\Temp\\ipykernel_15404\\3122937574.py:23: RuntimeWarning: invalid value encountered in double_scalars\n",
      "  return dot(sen_vec1,sen_vec2)/(norm(sen_vec1)*norm(sen_vec2))\n"
     ]
    },
    {
     "name": "stdout",
     "output_type": "stream",
     "text": [
      "URL            https://www.linkedin.com/in/chayma-jaziri-550b...\n",
      "job_title                                    data science intern\n",
      "Name                                               Chayma Jaziri\n",
      "skills         [python langage programmation analyse donnees ...\n",
      "experiences    Data Science Intern:Feb 2022 - Aug 2022 · 7 mo...\n",
      "Name: 336, dtype: object\n"
     ]
    },
    {
     "name": "stderr",
     "output_type": "stream",
     "text": [
      "C:\\Users\\MSI GF63\\AppData\\Local\\Temp\\ipykernel_15404\\3122937574.py:23: RuntimeWarning: invalid value encountered in double_scalars\n",
      "  return dot(sen_vec1,sen_vec2)/(norm(sen_vec1)*norm(sen_vec2))\n"
     ]
    },
    {
     "name": "stdout",
     "output_type": "stream",
     "text": [
      "URL            https://www.linkedin.com/in/aziz-jebari-14144b...\n",
      "job_title                                   Data Science Student\n",
      "Name                                                 Aziz JEBARI\n",
      "skills                                               [mentioned]\n",
      "experiences    PFE internship:Feb 2022 - Present · 1 yr 1 mo,...\n",
      "Name: 337, dtype: object\n"
     ]
    },
    {
     "name": "stderr",
     "output_type": "stream",
     "text": [
      "C:\\Users\\MSI GF63\\AppData\\Local\\Temp\\ipykernel_15404\\3122937574.py:23: RuntimeWarning: invalid value encountered in double_scalars\n",
      "  return dot(sen_vec1,sen_vec2)/(norm(sen_vec1)*norm(sen_vec2))\n"
     ]
    },
    {
     "name": "stdout",
     "output_type": "stream",
     "text": [
      "URL            https://www.linkedin.com/in/iheb-eddine-ksiksi...\n",
      "job_title                                   Data Science Student\n",
      "Name                                          Iheb Eddine Ksiksi\n",
      "skills         [engineering english automation internet thing...\n",
      "experiences    Student:Sep 2021 - Present · 1 yr 6 mos,Projec...\n",
      "Name: 338, dtype: object\n"
     ]
    },
    {
     "name": "stderr",
     "output_type": "stream",
     "text": [
      "C:\\Users\\MSI GF63\\AppData\\Local\\Temp\\ipykernel_15404\\3122937574.py:23: RuntimeWarning: invalid value encountered in double_scalars\n",
      "  return dot(sen_vec1,sen_vec2)/(norm(sen_vec1)*norm(sen_vec2))\n"
     ]
    },
    {
     "name": "stdout",
     "output_type": "stream",
     "text": [
      "URL            https://www.linkedin.com/in/souha-diwani-83617...\n",
      "job_title                                           data science\n",
      "Name                                                Souha Diwani\n",
      "skills         [javascript feuilles style cascade css html ja...\n",
      "experiences                                      nan:nan,nan:nan\n",
      "Name: 339, dtype: object\n"
     ]
    },
    {
     "name": "stderr",
     "output_type": "stream",
     "text": [
      "C:\\Users\\MSI GF63\\AppData\\Local\\Temp\\ipykernel_15404\\3122937574.py:23: RuntimeWarning: invalid value encountered in double_scalars\n",
      "  return dot(sen_vec1,sen_vec2)/(norm(sen_vec1)*norm(sen_vec2))\n"
     ]
    },
    {
     "name": "stdout",
     "output_type": "stream",
     "text": [
      "URL            https://www.linkedin.com/in/ghazi-tlalet-a3ab3...\n",
      "job_title                                   Data Science Student\n",
      "Name                                                Ghazi Tlalet\n",
      "skills         [developpement web python langage programmatio...\n",
      "experiences    Data Visualization Specialist:Aug 2021 - Sep 2...\n",
      "Name: 340, dtype: object\n"
     ]
    },
    {
     "name": "stderr",
     "output_type": "stream",
     "text": [
      "C:\\Users\\MSI GF63\\AppData\\Local\\Temp\\ipykernel_15404\\3122937574.py:23: RuntimeWarning: invalid value encountered in double_scalars\n",
      "  return dot(sen_vec1,sen_vec2)/(norm(sen_vec1)*norm(sen_vec2))\n"
     ]
    },
    {
     "name": "stdout",
     "output_type": "stream",
     "text": [
      "URL            https://www.linkedin.com/in/yosra-khalfaoui-29...\n",
      "job_title                                  junior data scientist\n",
      "Name                                             Yosra KHALFAOUI\n",
      "skills         [python langage programmation nosql traitement...\n",
      "experiences                                      nan:nan,nan:nan\n",
      "Name: 341, dtype: object\n"
     ]
    },
    {
     "name": "stderr",
     "output_type": "stream",
     "text": [
      "C:\\Users\\MSI GF63\\AppData\\Local\\Temp\\ipykernel_15404\\3122937574.py:23: RuntimeWarning: invalid value encountered in double_scalars\n",
      "  return dot(sen_vec1,sen_vec2)/(norm(sen_vec1)*norm(sen_vec2))\n"
     ]
    },
    {
     "name": "stdout",
     "output_type": "stream",
     "text": [
      "URL            https://www.linkedin.com/in/takwa-makhlouf-356...\n",
      "job_title                     data science intern enova robotics\n",
      "Name                                              takwa makhlouf\n",
      "skills         [python langage programmation machine learning...\n",
      "experiences    Data Science Intern:Jun 2022 - Jul 2022 · 2 mo...\n",
      "Name: 342, dtype: object\n"
     ]
    },
    {
     "name": "stderr",
     "output_type": "stream",
     "text": [
      "C:\\Users\\MSI GF63\\AppData\\Local\\Temp\\ipykernel_15404\\3122937574.py:23: RuntimeWarning: invalid value encountered in double_scalars\n",
      "  return dot(sen_vec1,sen_vec2)/(norm(sen_vec1)*norm(sen_vec2))\n"
     ]
    },
    {
     "name": "stdout",
     "output_type": "stream",
     "text": [
      "URL            https://www.linkedin.com/in/emna-mastouri-5511...\n",
      "job_title                                  data science engineer\n",
      "Name                                               Emna Mastouri\n",
      "skills         [machine learning deep learning python mongodb...\n",
      "experiences    Stagiaire:Mar 2022 - Aug 2022 · 6 mos,Stagiair...\n",
      "Name: 343, dtype: object\n"
     ]
    },
    {
     "name": "stderr",
     "output_type": "stream",
     "text": [
      "C:\\Users\\MSI GF63\\AppData\\Local\\Temp\\ipykernel_15404\\3122937574.py:23: RuntimeWarning: invalid value encountered in double_scalars\n",
      "  return dot(sen_vec1,sen_vec2)/(norm(sen_vec1)*norm(sen_vec2))\n"
     ]
    },
    {
     "name": "stdout",
     "output_type": "stream",
     "text": [
      "URL            https://www.linkedin.com/in/chahine-laouini-39...\n",
      "job_title                                   Data Science Student\n",
      "Name                                             Chahine Laouini\n",
      "skills                                               [mentioned]\n",
      "experiences                         Student Engineer:nan,nan:nan\n",
      "Name: 344, dtype: object\n"
     ]
    },
    {
     "name": "stderr",
     "output_type": "stream",
     "text": [
      "C:\\Users\\MSI GF63\\AppData\\Local\\Temp\\ipykernel_15404\\3122937574.py:23: RuntimeWarning: invalid value encountered in double_scalars\n",
      "  return dot(sen_vec1,sen_vec2)/(norm(sen_vec1)*norm(sen_vec2))\n"
     ]
    },
    {
     "name": "stdout",
     "output_type": "stream",
     "text": [
      "URL            https://www.linkedin.com/in/mohamed-chahed-296...\n",
      "job_title      statistics and Data Science Student certified ...\n",
      "Name                                              MOHAMED CHAHED\n",
      "skills         [machine learning python programming language ...\n",
      "experiences    Student Intern:Jun 2022 - Jul 2022 · 2 mos,nan...\n",
      "Name: 345, dtype: object\n"
     ]
    },
    {
     "name": "stderr",
     "output_type": "stream",
     "text": [
      "C:\\Users\\MSI GF63\\AppData\\Local\\Temp\\ipykernel_15404\\3122937574.py:23: RuntimeWarning: invalid value encountered in double_scalars\n",
      "  return dot(sen_vec1,sen_vec2)/(norm(sen_vec1)*norm(sen_vec2))\n"
     ]
    },
    {
     "name": "stdout",
     "output_type": "stream",
     "text": [
      "URL            https://www.linkedin.com/in/tarek-arfaoui-8951...\n",
      "job_title                                   Data Science Student\n",
      "Name                                               Tarek Arfaoui\n",
      "skills                                               [mentioned]\n",
      "experiences    Member:Jan 2020 - Present · 3 yrs 2 mos,Gradua...\n",
      "Name: 346, dtype: object\n"
     ]
    },
    {
     "name": "stderr",
     "output_type": "stream",
     "text": [
      "C:\\Users\\MSI GF63\\AppData\\Local\\Temp\\ipykernel_15404\\3122937574.py:23: RuntimeWarning: invalid value encountered in double_scalars\n",
      "  return dot(sen_vec1,sen_vec2)/(norm(sen_vec1)*norm(sen_vec2))\n"
     ]
    },
    {
     "name": "stdout",
     "output_type": "stream",
     "text": [
      "URL            https://www.linkedin.com/in/benomrane-nour-4b4...\n",
      "job_title                                   Data Science Student\n",
      "Name                                              Benomrane Nour\n",
      "skills                                               [mentioned]\n",
      "experiences                                      nan:nan,nan:nan\n",
      "Name: 347, dtype: object\n"
     ]
    },
    {
     "name": "stderr",
     "output_type": "stream",
     "text": [
      "C:\\Users\\MSI GF63\\AppData\\Local\\Temp\\ipykernel_15404\\3122937574.py:23: RuntimeWarning: invalid value encountered in double_scalars\n",
      "  return dot(sen_vec1,sen_vec2)/(norm(sen_vec1)*norm(sen_vec2))\n"
     ]
    },
    {
     "name": "stdout",
     "output_type": "stream",
     "text": [
      "URL            https://www.linkedin.com/in/mohamed-yassine-be...\n",
      "job_title         data science and software development student \n",
      "Name                                      Mohamed Yassine BELHAJ\n",
      "skills         [python langage programmation html apprentissa...\n",
      "experiences    Business Intelligence Intern:Mar 2021 - Sep 20...\n",
      "Name: 348, dtype: object\n"
     ]
    },
    {
     "name": "stderr",
     "output_type": "stream",
     "text": [
      "C:\\Users\\MSI GF63\\AppData\\Local\\Temp\\ipykernel_15404\\3122937574.py:23: RuntimeWarning: invalid value encountered in double_scalars\n",
      "  return dot(sen_vec1,sen_vec2)/(norm(sen_vec1)*norm(sen_vec2))\n"
     ]
    },
    {
     "name": "stdout",
     "output_type": "stream",
     "text": [
      "URL            https://www.linkedin.com/in/amen-berrjeb-63910...\n",
      "job_title      ict engineering student at enit  data science ...\n",
      "Name                                                Amen Berrjeb\n",
      "skills         [intelligence artificielle ia machine learning...\n",
      "experiences    Summer Intern:Jul 2022 · 1 mo,Data Science Int...\n",
      "Name: 349, dtype: object\n"
     ]
    },
    {
     "name": "stderr",
     "output_type": "stream",
     "text": [
      "C:\\Users\\MSI GF63\\AppData\\Local\\Temp\\ipykernel_15404\\3122937574.py:23: RuntimeWarning: invalid value encountered in double_scalars\n",
      "  return dot(sen_vec1,sen_vec2)/(norm(sen_vec1)*norm(sen_vec2))\n"
     ]
    },
    {
     "name": "stdout",
     "output_type": "stream",
     "text": [
      "URL            https://www.linkedin.com/in/mohamed-ali-ben-sl...\n",
      "job_title      ingénieur en business intelligence  consultant...\n",
      "Name                                     Mohamed Ali Ben Slimane\n",
      "skills         [github dbt google bigquery snowflake funnel g...\n",
      "experiences    Consultant data science:Aug 2022 - Present · 7...\n",
      "Name: 350, dtype: object\n"
     ]
    },
    {
     "name": "stderr",
     "output_type": "stream",
     "text": [
      "C:\\Users\\MSI GF63\\AppData\\Local\\Temp\\ipykernel_15404\\3122937574.py:23: RuntimeWarning: invalid value encountered in double_scalars\n",
      "  return dot(sen_vec1,sen_vec2)/(norm(sen_vec1)*norm(sen_vec2))\n"
     ]
    },
    {
     "name": "stdout",
     "output_type": "stream",
     "text": [
      "URL                  https://www.linkedin.com/in/dhia-makhloufi/\n",
      "job_title                        masters in Data Science Student\n",
      "Name                                              Dhia Makhloufi\n",
      "skills         [data science business intelligence big data d...\n",
      "experiences    Stagiaire:Feb 2022 - Jun 2022 · 5 mos,Ressourc...\n",
      "Name: 351, dtype: object\n"
     ]
    },
    {
     "name": "stderr",
     "output_type": "stream",
     "text": [
      "C:\\Users\\MSI GF63\\AppData\\Local\\Temp\\ipykernel_15404\\3122937574.py:23: RuntimeWarning: invalid value encountered in double_scalars\n",
      "  return dot(sen_vec1,sen_vec2)/(norm(sen_vec1)*norm(sen_vec2))\n"
     ]
    },
    {
     "name": "stdout",
     "output_type": "stream",
     "text": [
      "URL            https://www.linkedin.com/in/riadh-rabti-452544...\n",
      "job_title                      data science and ai enthousiaste \n",
      "Name                                                 Riadh Rabti\n",
      "skills         [python langage programmation web scraping num...\n",
      "experiences    Internship :Aug 2022 - Sep 2022 · 2 mos,Gradua...\n",
      "Name: 352, dtype: object\n"
     ]
    },
    {
     "name": "stderr",
     "output_type": "stream",
     "text": [
      "C:\\Users\\MSI GF63\\AppData\\Local\\Temp\\ipykernel_15404\\3122937574.py:23: RuntimeWarning: invalid value encountered in double_scalars\n",
      "  return dot(sen_vec1,sen_vec2)/(norm(sen_vec1)*norm(sen_vec2))\n"
     ]
    },
    {
     "name": "stdout",
     "output_type": "stream",
     "text": [
      "URL                       https://www.linkedin.com/in/bj-nassef/\n",
      "job_title                     data science  machine learning  ai\n",
      "Name                                           Nassef Ben Jeddou\n",
      "skills         [technologies l'information programming langua...\n",
      "experiences    Data Scientist:Feb 2023 - Present · 1 mo,Instr...\n",
      "Name: 353, dtype: object\n"
     ]
    },
    {
     "name": "stderr",
     "output_type": "stream",
     "text": [
      "C:\\Users\\MSI GF63\\AppData\\Local\\Temp\\ipykernel_15404\\3122937574.py:23: RuntimeWarning: invalid value encountered in double_scalars\n",
      "  return dot(sen_vec1,sen_vec2)/(norm(sen_vec1)*norm(sen_vec2))\n"
     ]
    },
    {
     "name": "stdout",
     "output_type": "stream",
     "text": [
      "URL            https://www.linkedin.com/in/brahim-boughdiri-6...\n",
      "job_title                                consultant data science\n",
      "Name                                            Brahim Boughdiri\n",
      "skills         [developpement web programmation sas teradata ...\n",
      "experiences    Ingénieur Data Science:Oct 2019 - Present · 3 ...\n",
      "Name: 354, dtype: object\n"
     ]
    },
    {
     "name": "stderr",
     "output_type": "stream",
     "text": [
      "C:\\Users\\MSI GF63\\AppData\\Local\\Temp\\ipykernel_15404\\3122937574.py:23: RuntimeWarning: invalid value encountered in double_scalars\n",
      "  return dot(sen_vec1,sen_vec2)/(norm(sen_vec1)*norm(sen_vec2))\n"
     ]
    },
    {
     "name": "stdout",
     "output_type": "stream",
     "text": [
      "URL            https://www.linkedin.com/in/yasmine-jaziri-556...\n",
      "job_title      Data Science Student intern at capgemini engin...\n",
      "Name                                              Yasmine Jaziri\n",
      "skills         [microsoft excel finance commerce marche monet...\n",
      "experiences    End of studies Internship:Feb 2023 - Present ·...\n",
      "Name: 355, dtype: object\n"
     ]
    },
    {
     "name": "stderr",
     "output_type": "stream",
     "text": [
      "C:\\Users\\MSI GF63\\AppData\\Local\\Temp\\ipykernel_15404\\3122937574.py:23: RuntimeWarning: invalid value encountered in double_scalars\n",
      "  return dot(sen_vec1,sen_vec2)/(norm(sen_vec1)*norm(sen_vec2))\n"
     ]
    },
    {
     "name": "stdout",
     "output_type": "stream",
     "text": [
      "URL                       https://www.linkedin.com/in/ghazouani/\n",
      "job_title      artificial intelligence and data science engineer\n",
      "Name                                              Sami Ghazouani\n",
      "skills         [apprentissage automatique sparql grattage don...\n",
      "experiences    AI project Manager:Jan 2022 - Dec 2022 · 1 yr,...\n",
      "Name: 356, dtype: object\n"
     ]
    },
    {
     "name": "stderr",
     "output_type": "stream",
     "text": [
      "C:\\Users\\MSI GF63\\AppData\\Local\\Temp\\ipykernel_15404\\3122937574.py:23: RuntimeWarning: invalid value encountered in double_scalars\n",
      "  return dot(sen_vec1,sen_vec2)/(norm(sen_vec1)*norm(sen_vec2))\n"
     ]
    },
    {
     "name": "stdout",
     "output_type": "stream",
     "text": [
      "URL            https://www.linkedin.com/in/nour-moalla-742463...\n",
      "job_title      data science for business and economics  m1 ma...\n",
      "Name                                                 Nour MOALLA\n",
      "skills                             [sponsoring gestion d'equipe]\n",
      "experiences    Stagiaire:Aug 2021 - Sep 2021 · 2 mos,Stagiair...\n",
      "Name: 357, dtype: object\n"
     ]
    },
    {
     "name": "stderr",
     "output_type": "stream",
     "text": [
      "C:\\Users\\MSI GF63\\AppData\\Local\\Temp\\ipykernel_15404\\3122937574.py:23: RuntimeWarning: invalid value encountered in double_scalars\n",
      "  return dot(sen_vec1,sen_vec2)/(norm(sen_vec1)*norm(sen_vec2))\n"
     ]
    },
    {
     "name": "stdout",
     "output_type": "stream",
     "text": [
      "URL            https://www.linkedin.com/in/youssef-kaanich-5b...\n",
      "job_title      project manager scrum master psm® data science...\n",
      "Name                                             youssef kaanich\n",
      "skills         [framework sping methodes agiles management de...\n",
      "experiences    Project manager:Mar 2020 - Present · 3 yrs,Dat...\n",
      "Name: 358, dtype: object\n"
     ]
    },
    {
     "name": "stderr",
     "output_type": "stream",
     "text": [
      "C:\\Users\\MSI GF63\\AppData\\Local\\Temp\\ipykernel_15404\\3122937574.py:23: RuntimeWarning: invalid value encountered in double_scalars\n",
      "  return dot(sen_vec1,sen_vec2)/(norm(sen_vec1)*norm(sen_vec2))\n"
     ]
    },
    {
     "name": "stdout",
     "output_type": "stream",
     "text": [
      "URL                     https://www.linkedin.com/in/abiir-ramma/\n",
      "job_title      data science engineer holding master degree in...\n",
      "Name                                                  Abir Ramma\n",
      "skills         [data analytics bases donnees sap btp sap inte...\n",
      "experiences    Stagiaire:Feb 2023 - Present · 1 mo,Data Scien...\n",
      "Name: 359, dtype: object\n"
     ]
    },
    {
     "name": "stderr",
     "output_type": "stream",
     "text": [
      "C:\\Users\\MSI GF63\\AppData\\Local\\Temp\\ipykernel_15404\\3122937574.py:23: RuntimeWarning: invalid value encountered in double_scalars\n",
      "  return dot(sen_vec1,sen_vec2)/(norm(sen_vec1)*norm(sen_vec2))\n"
     ]
    },
    {
     "name": "stdout",
     "output_type": "stream",
     "text": [
      "URL            https://www.linkedin.com/in/mohamed-aymen-ella...\n",
      "job_title                                ingénieur data science \n",
      "Name                                        mohamed aymen ellafi\n",
      "skills         [python langage programmation sgbdoracle net s...\n",
      "experiences    Stage Ingénieur (PFA):Jul 2022 - Sep 2022 · 3 ...\n",
      "Name: 360, dtype: object\n"
     ]
    },
    {
     "name": "stderr",
     "output_type": "stream",
     "text": [
      "C:\\Users\\MSI GF63\\AppData\\Local\\Temp\\ipykernel_15404\\3122937574.py:23: RuntimeWarning: invalid value encountered in double_scalars\n",
      "  return dot(sen_vec1,sen_vec2)/(norm(sen_vec1)*norm(sen_vec2))\n"
     ]
    },
    {
     "name": "stdout",
     "output_type": "stream",
     "text": [
      "URL                   https://www.linkedin.com/in/narjess-nebli/\n",
      "job_title      recent graduate of master’s degree in data sci...\n",
      "Name                                               Narjess Nebli\n",
      "skills         [reseaux neurones artificiels flask dash plotl...\n",
      "experiences    Data Science intern ( End-of-studies Internshi...\n",
      "Name: 361, dtype: object\n"
     ]
    },
    {
     "name": "stderr",
     "output_type": "stream",
     "text": [
      "C:\\Users\\MSI GF63\\AppData\\Local\\Temp\\ipykernel_15404\\3122937574.py:23: RuntimeWarning: invalid value encountered in double_scalars\n",
      "  return dot(sen_vec1,sen_vec2)/(norm(sen_vec1)*norm(sen_vec2))\n"
     ]
    },
    {
     "name": "stdout",
     "output_type": "stream",
     "text": [
      "URL            https://www.linkedin.com/in/daoud-ghassen-7b08...\n",
      "job_title        • data science  artificial intelligence student\n",
      "Name                                               Daoud Ghassen\n",
      "skills         [statistics data analysis big data python prog...\n",
      "experiences    Business Intelligence Developer:Feb 2022 - May...\n",
      "Name: 362, dtype: object\n"
     ]
    },
    {
     "name": "stderr",
     "output_type": "stream",
     "text": [
      "C:\\Users\\MSI GF63\\AppData\\Local\\Temp\\ipykernel_15404\\3122937574.py:23: RuntimeWarning: invalid value encountered in double_scalars\n",
      "  return dot(sen_vec1,sen_vec2)/(norm(sen_vec1)*norm(sen_vec2))\n"
     ]
    },
    {
     "name": "stdout",
     "output_type": "stream",
     "text": [
      "URL            https://www.linkedin.com/in/ines-khalfaoui-162...\n",
      "job_title                           Data Science Studentat tekup\n",
      "Name                                              Ines khalfaoui\n",
      "skills         [naturel network procesing apache kafka apache...\n",
      "experiences    Stagiaire:Aug 2021 - Sep 2021 · 2 mos,Stagiair...\n",
      "Name: 363, dtype: object\n"
     ]
    },
    {
     "name": "stderr",
     "output_type": "stream",
     "text": [
      "C:\\Users\\MSI GF63\\AppData\\Local\\Temp\\ipykernel_15404\\3122937574.py:23: RuntimeWarning: invalid value encountered in double_scalars\n",
      "  return dot(sen_vec1,sen_vec2)/(norm(sen_vec1)*norm(sen_vec2))\n"
     ]
    },
    {
     "name": "stdout",
     "output_type": "stream",
     "text": [
      "URL            https://www.linkedin.com/in/ghassen-hammemi-10...\n",
      "job_title                                   Data Science Student\n",
      "Name                                             Ghassen Hammemi\n",
      "skills         [ingenierie communication gestion projet pytho...\n",
      "experiences                                      nan:nan,nan:nan\n",
      "Name: 364, dtype: object\n"
     ]
    },
    {
     "name": "stderr",
     "output_type": "stream",
     "text": [
      "C:\\Users\\MSI GF63\\AppData\\Local\\Temp\\ipykernel_15404\\3122937574.py:23: RuntimeWarning: invalid value encountered in double_scalars\n",
      "  return dot(sen_vec1,sen_vec2)/(norm(sen_vec1)*norm(sen_vec2))\n"
     ]
    },
    {
     "name": "stdout",
     "output_type": "stream",
     "text": [
      "URL                  https://www.linkedin.com/in/rihab-bayoudhi/\n",
      "job_title      data science and business intelligence enginee...\n",
      "Name                                                    Rihab B.\n",
      "skills         [azure databricks android studio blockchain cl...\n",
      "experiences    Stage en ingénierie:Feb 2023 - Present · 1 mo,...\n",
      "Name: 365, dtype: object\n"
     ]
    },
    {
     "name": "stderr",
     "output_type": "stream",
     "text": [
      "C:\\Users\\MSI GF63\\AppData\\Local\\Temp\\ipykernel_15404\\3122937574.py:23: RuntimeWarning: invalid value encountered in double_scalars\n",
      "  return dot(sen_vec1,sen_vec2)/(norm(sen_vec1)*norm(sen_vec2))\n"
     ]
    },
    {
     "name": "stdout",
     "output_type": "stream",
     "text": [
      "URL            https://www.linkedin.com/in/omaima-fakhfakh-a9...\n",
      "job_title      data science and business intelligence enginee...\n",
      "Name                                             Omaima Fakhfakh\n",
      "skills         [java feuilles style cascade css programmation...\n",
      "experiences    Stagiaire:Jul 2022 - Aug 2022 · 2 mos,Projet f...\n",
      "Name: 366, dtype: object\n"
     ]
    },
    {
     "name": "stderr",
     "output_type": "stream",
     "text": [
      "C:\\Users\\MSI GF63\\AppData\\Local\\Temp\\ipykernel_15404\\3122937574.py:23: RuntimeWarning: invalid value encountered in double_scalars\n",
      "  return dot(sen_vec1,sen_vec2)/(norm(sen_vec1)*norm(sen_vec2))\n"
     ]
    },
    {
     "name": "stdout",
     "output_type": "stream",
     "text": [
      "URL                    https://www.linkedin.com/in/rachid-hssin/\n",
      "job_title      computer science student engineering   datasci...\n",
      "Name                                                Rachid Hssin\n",
      "skills         [python langage programmation flutter feuilles...\n",
      "experiences                                      nan:nan,nan:nan\n",
      "Name: 367, dtype: object\n"
     ]
    },
    {
     "name": "stderr",
     "output_type": "stream",
     "text": [
      "C:\\Users\\MSI GF63\\AppData\\Local\\Temp\\ipykernel_15404\\3122937574.py:23: RuntimeWarning: invalid value encountered in double_scalars\n",
      "  return dot(sen_vec1,sen_vec2)/(norm(sen_vec1)*norm(sen_vec2))\n"
     ]
    },
    {
     "name": "stdout",
     "output_type": "stream",
     "text": [
      "URL             https://www.linkedin.com/in/mohamed-habib-douik/\n",
      "job_title         ingenieur informatique specialite data science\n",
      "Name                                         Mohamed Habib DOUIK\n",
      "skills         [python langage programmation nodejs symfony j...\n",
      "experiences                                      nan:nan,nan:nan\n",
      "Name: 368, dtype: object\n"
     ]
    },
    {
     "name": "stderr",
     "output_type": "stream",
     "text": [
      "C:\\Users\\MSI GF63\\AppData\\Local\\Temp\\ipykernel_15404\\3122937574.py:23: RuntimeWarning: invalid value encountered in double_scalars\n",
      "  return dot(sen_vec1,sen_vec2)/(norm(sen_vec1)*norm(sen_vec2))\n"
     ]
    },
    {
     "name": "stdout",
     "output_type": "stream",
     "text": [
      "URL            https://www.linkedin.com/in/chaima-miled-63b9a...\n",
      "job_title                                   Data Science Student\n",
      "Name                                                chaima miled\n",
      "skills                                               [mentioned]\n",
      "experiences    Professeur adjoint:Aug 2022 - Present · 7 mos,...\n",
      "Name: 369, dtype: object\n"
     ]
    },
    {
     "name": "stderr",
     "output_type": "stream",
     "text": [
      "C:\\Users\\MSI GF63\\AppData\\Local\\Temp\\ipykernel_15404\\3122937574.py:23: RuntimeWarning: invalid value encountered in double_scalars\n",
      "  return dot(sen_vec1,sen_vec2)/(norm(sen_vec1)*norm(sen_vec2))\n"
     ]
    },
    {
     "name": "stdout",
     "output_type": "stream",
     "text": [
      "URL            https://www.linkedin.com/in/dhafer-jemai-a6239...\n",
      "job_title                                    data science intern\n",
      "Name                                                Dhafer Jemai\n",
      "skills         [artificial intelligence data analysis matplot...\n",
      "experiences    Intern:Jul 2022 - Sep 2022 · 3 mos,President:S...\n",
      "Name: 370, dtype: object\n"
     ]
    },
    {
     "name": "stderr",
     "output_type": "stream",
     "text": [
      "C:\\Users\\MSI GF63\\AppData\\Local\\Temp\\ipykernel_15404\\3122937574.py:23: RuntimeWarning: invalid value encountered in double_scalars\n",
      "  return dot(sen_vec1,sen_vec2)/(norm(sen_vec1)*norm(sen_vec2))\n"
     ]
    },
    {
     "name": "stdout",
     "output_type": "stream",
     "text": [
      "URL            https://www.linkedin.com/in/isra-chaabani-2663...\n",
      "job_title      data science  machine learning engineering stu...\n",
      "Name                                               Isra Chaabani\n",
      "skills         [visual basic applications vba microsoft excel...\n",
      "experiences    Stagiaire:Apr 2022 - May 2022 · 2 mos,Stagiair...\n",
      "Name: 371, dtype: object\n"
     ]
    },
    {
     "name": "stderr",
     "output_type": "stream",
     "text": [
      "C:\\Users\\MSI GF63\\AppData\\Local\\Temp\\ipykernel_15404\\3122937574.py:23: RuntimeWarning: invalid value encountered in double_scalars\n",
      "  return dot(sen_vec1,sen_vec2)/(norm(sen_vec1)*norm(sen_vec2))\n"
     ]
    },
    {
     "name": "stdout",
     "output_type": "stream",
     "text": [
      "URL                     https://www.linkedin.com/in/cheikhnadia/\n",
      "job_title       ingénieure informatique spécialité data science \n",
      "Name                                                Nadia CHEIKH\n",
      "skills         [ingenierie anglais formation leadership educa...\n",
      "experiences    Data scientist:Jan 2022 - Jun 2022 · 6 mos,Dat...\n",
      "Name: 372, dtype: object\n"
     ]
    },
    {
     "name": "stderr",
     "output_type": "stream",
     "text": [
      "C:\\Users\\MSI GF63\\AppData\\Local\\Temp\\ipykernel_15404\\3122937574.py:23: RuntimeWarning: invalid value encountered in double_scalars\n",
      "  return dot(sen_vec1,sen_vec2)/(norm(sen_vec1)*norm(sen_vec2))\n"
     ]
    },
    {
     "name": "stdout",
     "output_type": "stream",
     "text": [
      "URL                   https://www.linkedin.com/in/sara-tabbassi/\n",
      "job_title      data science and engineering student at tekup ...\n",
      "Name                                               Sara Tabbassi\n",
      "skills         [shopify power bi data analysis team leadershi...\n",
      "experiences    Web Developer & Shopify Store Manager:Jun 2021...\n",
      "Name: 373, dtype: object\n"
     ]
    },
    {
     "name": "stderr",
     "output_type": "stream",
     "text": [
      "C:\\Users\\MSI GF63\\AppData\\Local\\Temp\\ipykernel_15404\\3122937574.py:23: RuntimeWarning: invalid value encountered in double_scalars\n",
      "  return dot(sen_vec1,sen_vec2)/(norm(sen_vec1)*norm(sen_vec2))\n"
     ]
    },
    {
     "name": "stdout",
     "output_type": "stream",
     "text": [
      "URL            https://www.linkedin.com/in/yasmine-ouni-0a7a1...\n",
      "job_title                                   Data Science Student\n",
      "Name                                                Yasmine Ouni\n",
      "skills                                               [mentioned]\n",
      "experiences        Étudiante :Sep 2022 - Present · 6 mos,nan:nan\n",
      "Name: 374, dtype: object\n"
     ]
    },
    {
     "name": "stderr",
     "output_type": "stream",
     "text": [
      "C:\\Users\\MSI GF63\\AppData\\Local\\Temp\\ipykernel_15404\\3122937574.py:23: RuntimeWarning: invalid value encountered in double_scalars\n",
      "  return dot(sen_vec1,sen_vec2)/(norm(sen_vec1)*norm(sen_vec2))\n"
     ]
    },
    {
     "name": "stdout",
     "output_type": "stream",
     "text": [
      "URL            https://www.linkedin.com/in/mohamed-amine-ghmi...\n",
      "job_title                                 expert en data science\n",
      "Name                                        Mohamed Amine GHMIKI\n",
      "skills                                               [mentioned]\n",
      "experiences    Senior Data Scientist:Aug 2017 - Present · 5 y...\n",
      "Name: 375, dtype: object\n"
     ]
    },
    {
     "name": "stderr",
     "output_type": "stream",
     "text": [
      "C:\\Users\\MSI GF63\\AppData\\Local\\Temp\\ipykernel_15404\\3122937574.py:23: RuntimeWarning: invalid value encountered in double_scalars\n",
      "  return dot(sen_vec1,sen_vec2)/(norm(sen_vec1)*norm(sen_vec2))\n"
     ]
    },
    {
     "name": "stdout",
     "output_type": "stream",
     "text": [
      "URL             https://www.linkedin.com/in/lotfi-ncib-68443963/\n",
      "job_title      senior data scientist phd applied mathematics ...\n",
      "Name                                                  Lotfi Ncib\n",
      "skills         [computer science applied mathematics matlab r...\n",
      "experiences    Consultant Data Science :Apr 2022 - Present · ...\n",
      "Name: 376, dtype: object\n"
     ]
    },
    {
     "name": "stderr",
     "output_type": "stream",
     "text": [
      "C:\\Users\\MSI GF63\\AppData\\Local\\Temp\\ipykernel_15404\\3122937574.py:23: RuntimeWarning: invalid value encountered in double_scalars\n",
      "  return dot(sen_vec1,sen_vec2)/(norm(sen_vec1)*norm(sen_vec2))\n"
     ]
    },
    {
     "name": "stdout",
     "output_type": "stream",
     "text": [
      "URL            https://www.linkedin.com/in/samer-azzabi-54496...\n",
      "job_title      statistical engineering student  data science ...\n",
      "Name                                                Samer Azzabi\n",
      "skills         [storytelling risk analysis early warning syst...\n",
      "experiences    Data Science Intern:Feb 2023 - Present · 1 mo,...\n",
      "Name: 377, dtype: object\n"
     ]
    },
    {
     "name": "stderr",
     "output_type": "stream",
     "text": [
      "C:\\Users\\MSI GF63\\AppData\\Local\\Temp\\ipykernel_15404\\3122937574.py:23: RuntimeWarning: invalid value encountered in double_scalars\n",
      "  return dot(sen_vec1,sen_vec2)/(norm(sen_vec1)*norm(sen_vec2))\n"
     ]
    },
    {
     "name": "stdout",
     "output_type": "stream",
     "text": [
      "URL                     https://www.linkedin.com/in/ghada-smida/\n",
      "job_title                           data analytics  data science\n",
      "Name                                                 Ghada SMIDA\n",
      "skills         [data cleaning data modeling data analysis dat...\n",
      "experiences    Odoo Developer | Data Analyst:Feb 2022 - Jun 2...\n",
      "Name: 378, dtype: object\n"
     ]
    },
    {
     "name": "stderr",
     "output_type": "stream",
     "text": [
      "C:\\Users\\MSI GF63\\AppData\\Local\\Temp\\ipykernel_15404\\3122937574.py:23: RuntimeWarning: invalid value encountered in double_scalars\n",
      "  return dot(sen_vec1,sen_vec2)/(norm(sen_vec1)*norm(sen_vec2))\n"
     ]
    },
    {
     "name": "stdout",
     "output_type": "stream",
     "text": [
      "URL            https://www.linkedin.com/in/syrine-ben-hamouda...\n",
      "job_title                                   Data Science Student\n",
      "Name                                          Syrine Ben Hamouda\n",
      "skills         [android development financial accounting aspn...\n",
      "experiences    End of studies internship :Feb 2022 - Jun 2022...\n",
      "Name: 379, dtype: object\n"
     ]
    },
    {
     "name": "stderr",
     "output_type": "stream",
     "text": [
      "C:\\Users\\MSI GF63\\AppData\\Local\\Temp\\ipykernel_15404\\3122937574.py:23: RuntimeWarning: invalid value encountered in double_scalars\n",
      "  return dot(sen_vec1,sen_vec2)/(norm(sen_vec1)*norm(sen_vec2))\n"
     ]
    },
    {
     "name": "stdout",
     "output_type": "stream",
     "text": [
      "URL              https://www.linkedin.com/in/haythembenmechichi/\n",
      "job_title      4th year computer science student specialized ...\n",
      "Name                                        Haythem Ben Mechichi\n",
      "skills         [microsoft powerapps sharepoint microsoft powe...\n",
      "experiences    Project Management Intern:Jul 2022 - Sep 2022 ...\n",
      "Name: 380, dtype: object\n"
     ]
    },
    {
     "name": "stderr",
     "output_type": "stream",
     "text": [
      "C:\\Users\\MSI GF63\\AppData\\Local\\Temp\\ipykernel_15404\\3122937574.py:23: RuntimeWarning: invalid value encountered in double_scalars\n",
      "  return dot(sen_vec1,sen_vec2)/(norm(sen_vec1)*norm(sen_vec2))\n"
     ]
    },
    {
     "name": "stdout",
     "output_type": "stream",
     "text": [
      "URL            https://www.linkedin.com/in/amine-hablani-1787...\n",
      "job_title                                   Data Science Student\n",
      "Name                                               amine hablani\n",
      "skills                                               [mentioned]\n",
      "experiences                                      nan:nan,nan:nan\n",
      "Name: 381, dtype: object\n"
     ]
    },
    {
     "name": "stderr",
     "output_type": "stream",
     "text": [
      "C:\\Users\\MSI GF63\\AppData\\Local\\Temp\\ipykernel_15404\\3122937574.py:23: RuntimeWarning: invalid value encountered in double_scalars\n",
      "  return dot(sen_vec1,sen_vec2)/(norm(sen_vec1)*norm(sen_vec2))\n"
     ]
    },
    {
     "name": "stdout",
     "output_type": "stream",
     "text": [
      "URL                  https://www.linkedin.com/in/mohamed-chafei/\n",
      "job_title                                   Data Science Student\n",
      "Name                                       Chafeï Mohamed chafeï\n",
      "skills         [python programming language natural language ...\n",
      "experiences    Data Science Intern:Jan 2023 - Present · 2 mos...\n",
      "Name: 382, dtype: object\n"
     ]
    },
    {
     "name": "stderr",
     "output_type": "stream",
     "text": [
      "C:\\Users\\MSI GF63\\AppData\\Local\\Temp\\ipykernel_15404\\3122937574.py:23: RuntimeWarning: invalid value encountered in double_scalars\n",
      "  return dot(sen_vec1,sen_vec2)/(norm(sen_vec1)*norm(sen_vec2))\n"
     ]
    },
    {
     "name": "stdout",
     "output_type": "stream",
     "text": [
      "URL            https://www.linkedin.com/in/houssem-kais-0b6b3...\n",
      "job_title                                           data science\n",
      "Name                                                Houssem Kais\n",
      "skills         [mysql langage programmation java python langa...\n",
      "experiences                                      nan:nan,nan:nan\n",
      "Name: 383, dtype: object\n"
     ]
    },
    {
     "name": "stderr",
     "output_type": "stream",
     "text": [
      "C:\\Users\\MSI GF63\\AppData\\Local\\Temp\\ipykernel_15404\\3122937574.py:23: RuntimeWarning: invalid value encountered in double_scalars\n",
      "  return dot(sen_vec1,sen_vec2)/(norm(sen_vec1)*norm(sen_vec2))\n"
     ]
    },
    {
     "name": "stdout",
     "output_type": "stream",
     "text": [
      "URL            https://www.linkedin.com/in/abdelkabir-bilel-0...\n",
      "job_title               data science researcher chez fseg nabeul\n",
      "Name                                            abdelkabir bilel\n",
      "skills         [machine learning intelligence artificielle op...\n",
      "experiences    head of searching team:May 2020 - Present · 2 ...\n",
      "Name: 384, dtype: object\n"
     ]
    },
    {
     "name": "stderr",
     "output_type": "stream",
     "text": [
      "C:\\Users\\MSI GF63\\AppData\\Local\\Temp\\ipykernel_15404\\3122937574.py:23: RuntimeWarning: invalid value encountered in double_scalars\n",
      "  return dot(sen_vec1,sen_vec2)/(norm(sen_vec1)*norm(sen_vec2))\n"
     ]
    },
    {
     "name": "stdout",
     "output_type": "stream",
     "text": [
      "URL            https://www.linkedin.com/in/mehdi-chaouch-53a6...\n",
      "job_title                                   Data Science Student\n",
      "Name                                               Mehdi Chaouch\n",
      "skills         [rapports financiers calcul couts gestion proj...\n",
      "experiences    Principal Chief Executive Officer:Jun 2021 - P...\n",
      "Name: 385, dtype: object\n"
     ]
    },
    {
     "name": "stderr",
     "output_type": "stream",
     "text": [
      "C:\\Users\\MSI GF63\\AppData\\Local\\Temp\\ipykernel_15404\\3122937574.py:23: RuntimeWarning: invalid value encountered in double_scalars\n",
      "  return dot(sen_vec1,sen_vec2)/(norm(sen_vec1)*norm(sen_vec2))\n"
     ]
    },
    {
     "name": "stdout",
     "output_type": "stream",
     "text": [
      "URL            https://www.linkedin.com/in/sahraoui-bouthaina...\n",
      "job_title                           Data Science Studentat essai\n",
      "Name                                          Sahraoui Bouthaina\n",
      "skills         [microsoft word microsoft excel mysql python l...\n",
      "experiences    Membre au pole développement commercial:2022 -...\n",
      "Name: 386, dtype: object\n"
     ]
    },
    {
     "name": "stderr",
     "output_type": "stream",
     "text": [
      "C:\\Users\\MSI GF63\\AppData\\Local\\Temp\\ipykernel_15404\\3122937574.py:23: RuntimeWarning: invalid value encountered in double_scalars\n",
      "  return dot(sen_vec1,sen_vec2)/(norm(sen_vec1)*norm(sen_vec2))\n"
     ]
    },
    {
     "name": "stdout",
     "output_type": "stream",
     "text": [
      "URL                       https://www.linkedin.com/in/med-ridha/\n",
      "job_title       m1 data science and software development student\n",
      "Name                                            Med Ridha Zemzem\n",
      "skills         [web development java php unity nodejs html pr...\n",
      "experiences                                      nan:nan,nan:nan\n",
      "Name: 387, dtype: object\n"
     ]
    },
    {
     "name": "stderr",
     "output_type": "stream",
     "text": [
      "C:\\Users\\MSI GF63\\AppData\\Local\\Temp\\ipykernel_15404\\3122937574.py:23: RuntimeWarning: invalid value encountered in double_scalars\n",
      "  return dot(sen_vec1,sen_vec2)/(norm(sen_vec1)*norm(sen_vec2))\n"
     ]
    },
    {
     "name": "stdout",
     "output_type": "stream",
     "text": [
      "URL               https://www.linkedin.com/in/ayoub-ben-mahmoud/\n",
      "job_title                                   Data Science Student\n",
      "Name                                           Ayoub Ben Mahmoud\n",
      "skills         [langage programmation java machine learning d...\n",
      "experiences    Data Science Intern:Dec 2022 - Jan 2023 · 2 mo...\n",
      "Name: 388, dtype: object\n"
     ]
    },
    {
     "name": "stderr",
     "output_type": "stream",
     "text": [
      "C:\\Users\\MSI GF63\\AppData\\Local\\Temp\\ipykernel_15404\\3122937574.py:23: RuntimeWarning: invalid value encountered in double_scalars\n",
      "  return dot(sen_vec1,sen_vec2)/(norm(sen_vec1)*norm(sen_vec2))\n"
     ]
    },
    {
     "name": "stdout",
     "output_type": "stream",
     "text": [
      "URL                https://www.linkedin.com/in/achraf-abdelaziz/\n",
      "job_title      Data Science Student seeking endofstudies inte...\n",
      "Name                                            Achraf Abdelaziz\n",
      "skills                             [python programming language]\n",
      "experiences    Intern:Jun 2022 - Aug 2022 · 3 mos,Intern:Jul ...\n",
      "Name: 389, dtype: object\n"
     ]
    },
    {
     "name": "stderr",
     "output_type": "stream",
     "text": [
      "C:\\Users\\MSI GF63\\AppData\\Local\\Temp\\ipykernel_15404\\3122937574.py:23: RuntimeWarning: invalid value encountered in double_scalars\n",
      "  return dot(sen_vec1,sen_vec2)/(norm(sen_vec1)*norm(sen_vec2))\n"
     ]
    },
    {
     "name": "stdout",
     "output_type": "stream",
     "text": [
      "URL            https://www.linkedin.com/in/ines-chanbi-13a142...\n",
      "job_title      software engineering student  data science and...\n",
      "Name                                                 Ines Chanbi\n",
      "skills         [computer vision python programming language p...\n",
      "experiences    Junior Machine Learning Engineer:Jan 2023 - Pr...\n",
      "Name: 390, dtype: object\n"
     ]
    },
    {
     "name": "stderr",
     "output_type": "stream",
     "text": [
      "C:\\Users\\MSI GF63\\AppData\\Local\\Temp\\ipykernel_15404\\3122937574.py:23: RuntimeWarning: invalid value encountered in double_scalars\n",
      "  return dot(sen_vec1,sen_vec2)/(norm(sen_vec1)*norm(sen_vec2))\n"
     ]
    },
    {
     "name": "stdout",
     "output_type": "stream",
     "text": [
      "URL            https://www.linkedin.com/in/baccouch-rawia-705...\n",
      "job_title                                   Data Science Student\n",
      "Name                                              Baccouch Rawia\n",
      "skills                                               [mentioned]\n",
      "experiences    réalisation d'une application web :Feb 2020 - ...\n",
      "Name: 391, dtype: object\n"
     ]
    },
    {
     "name": "stderr",
     "output_type": "stream",
     "text": [
      "C:\\Users\\MSI GF63\\AppData\\Local\\Temp\\ipykernel_15404\\3122937574.py:23: RuntimeWarning: invalid value encountered in double_scalars\n",
      "  return dot(sen_vec1,sen_vec2)/(norm(sen_vec1)*norm(sen_vec2))\n"
     ]
    },
    {
     "name": "stdout",
     "output_type": "stream",
     "text": [
      "URL            https://www.linkedin.com/in/houcem-sagaama-478...\n",
      "job_title                     data science engineer at eura nova\n",
      "Name                                              houcem sagaama\n",
      "skills         [apprentissage automatique deep learning pytho...\n",
      "experiences    Data Scientist:Jan 2020 - Present · 3 yrs 2 mo...\n",
      "Name: 392, dtype: object\n"
     ]
    },
    {
     "name": "stderr",
     "output_type": "stream",
     "text": [
      "C:\\Users\\MSI GF63\\AppData\\Local\\Temp\\ipykernel_15404\\3122937574.py:23: RuntimeWarning: invalid value encountered in double_scalars\n",
      "  return dot(sen_vec1,sen_vec2)/(norm(sen_vec1)*norm(sen_vec2))\n"
     ]
    },
    {
     "name": "stdout",
     "output_type": "stream",
     "text": [
      "URL            https://www.linkedin.com/in/donia-ben-gara-ali...\n",
      "job_title                        masters in Data Science Student\n",
      "Name                                          Donia Ben Gara Ali\n",
      "skills         [python programming language django rest frame...\n",
      "experiences    Back End Developer:Jun 2022 - Jul 2022 · 2 mos...\n",
      "Name: 393, dtype: object\n"
     ]
    },
    {
     "name": "stderr",
     "output_type": "stream",
     "text": [
      "C:\\Users\\MSI GF63\\AppData\\Local\\Temp\\ipykernel_15404\\3122937574.py:23: RuntimeWarning: invalid value encountered in double_scalars\n",
      "  return dot(sen_vec1,sen_vec2)/(norm(sen_vec1)*norm(sen_vec2))\n"
     ]
    },
    {
     "name": "stdout",
     "output_type": "stream",
     "text": [
      "URL            https://www.linkedin.com/in/fatma-rabai-3b0821...\n",
      "job_title                 m2  data science  software development\n",
      "Name                                                 Fatma Rabai\n",
      "skills         [analyse donnees extract transform load etl py...\n",
      "experiences    Stage de fin d’études:Feb 2020 - May 2020 · 4 ...\n",
      "Name: 394, dtype: object\n"
     ]
    },
    {
     "name": "stderr",
     "output_type": "stream",
     "text": [
      "C:\\Users\\MSI GF63\\AppData\\Local\\Temp\\ipykernel_15404\\3122937574.py:23: RuntimeWarning: invalid value encountered in double_scalars\n",
      "  return dot(sen_vec1,sen_vec2)/(norm(sen_vec1)*norm(sen_vec2))\n"
     ]
    },
    {
     "name": "stdout",
     "output_type": "stream",
     "text": [
      "URL                 https://www.linkedin.com/in/oumaima-souissi/\n",
      "job_title      Data Science Student looking for an end of stu...\n",
      "Name                                             Oumaima SOUISSI\n",
      "skills         [r python langage programmation javascript spr...\n",
      "experiences    Développeuse web:Apr 2021 - Jun 2021 · 3 mos,S...\n",
      "Name: 395, dtype: object\n"
     ]
    },
    {
     "name": "stderr",
     "output_type": "stream",
     "text": [
      "C:\\Users\\MSI GF63\\AppData\\Local\\Temp\\ipykernel_15404\\3122937574.py:23: RuntimeWarning: invalid value encountered in double_scalars\n",
      "  return dot(sen_vec1,sen_vec2)/(norm(sen_vec1)*norm(sen_vec2))\n"
     ]
    },
    {
     "name": "stdout",
     "output_type": "stream",
     "text": [
      "URL            https://www.linkedin.com/in/mariem-zouari-2582...\n",
      "job_title                        élève ingénieur en data science\n",
      "Name                                               Mariem Zouari\n",
      "skills                                               [mentioned]\n",
      "experiences                                      nan:nan,nan:nan\n",
      "Name: 396, dtype: object\n"
     ]
    },
    {
     "name": "stderr",
     "output_type": "stream",
     "text": [
      "C:\\Users\\MSI GF63\\AppData\\Local\\Temp\\ipykernel_15404\\3122937574.py:23: RuntimeWarning: invalid value encountered in double_scalars\n",
      "  return dot(sen_vec1,sen_vec2)/(norm(sen_vec1)*norm(sen_vec2))\n"
     ]
    },
    {
     "name": "stdout",
     "output_type": "stream",
     "text": [
      "URL            https://www.linkedin.com/in/mariem-ben-abid-13...\n",
      "job_title      big data engineer ibm certified Data Science S...\n",
      "Name                                             Mariem Ben abid\n",
      "skills         [django langage programmation javascript sql h...\n",
      "experiences    Data Science Intern:Jul 2022 - Aug 2022 · 2 mo...\n",
      "Name: 397, dtype: object\n"
     ]
    },
    {
     "name": "stderr",
     "output_type": "stream",
     "text": [
      "C:\\Users\\MSI GF63\\AppData\\Local\\Temp\\ipykernel_15404\\3122937574.py:23: RuntimeWarning: invalid value encountered in double_scalars\n",
      "  return dot(sen_vec1,sen_vec2)/(norm(sen_vec1)*norm(sen_vec2))\n"
     ]
    },
    {
     "name": "stdout",
     "output_type": "stream",
     "text": [
      "URL            https://www.linkedin.com/in/mansour-ibtihel-38...\n",
      "job_title                            data science master student\n",
      "Name                                             Mansour Ibtihel\n",
      "skills         [apprentissage automatique communication pytho...\n",
      "experiences                                      nan:nan,nan:nan\n",
      "Name: 398, dtype: object\n"
     ]
    },
    {
     "name": "stderr",
     "output_type": "stream",
     "text": [
      "C:\\Users\\MSI GF63\\AppData\\Local\\Temp\\ipykernel_15404\\3122937574.py:23: RuntimeWarning: invalid value encountered in double_scalars\n",
      "  return dot(sen_vec1,sen_vec2)/(norm(sen_vec1)*norm(sen_vec2))\n"
     ]
    },
    {
     "name": "stdout",
     "output_type": "stream",
     "text": [
      "URL                     https://www.linkedin.com/in/haddadwalid/\n",
      "job_title                          data science consultant at ey\n",
      "Name                                                Walid Haddad\n",
      "skills         [python programming language systemes recomman...\n",
      "experiences    Junior Data scientist:Oct 2021 - Present · 1 y...\n",
      "Name: 399, dtype: object\n"
     ]
    },
    {
     "name": "stderr",
     "output_type": "stream",
     "text": [
      "C:\\Users\\MSI GF63\\AppData\\Local\\Temp\\ipykernel_15404\\3122937574.py:23: RuntimeWarning: invalid value encountered in double_scalars\n",
      "  return dot(sen_vec1,sen_vec2)/(norm(sen_vec1)*norm(sen_vec2))\n"
     ]
    },
    {
     "name": "stdout",
     "output_type": "stream",
     "text": [
      "URL            https://www.linkedin.com/in/rayen-ben-fathalla...\n",
      "job_title      it engineering student specialized in data sci...\n",
      "Name                                         Rayen ben Fathallah\n",
      "skills         [machine learning data science statistical inf...\n",
      "experiences    Data science unity manager :Nov 2022 - Present...\n",
      "Name: 400, dtype: object\n"
     ]
    },
    {
     "name": "stderr",
     "output_type": "stream",
     "text": [
      "C:\\Users\\MSI GF63\\AppData\\Local\\Temp\\ipykernel_15404\\3122937574.py:23: RuntimeWarning: invalid value encountered in double_scalars\n",
      "  return dot(sen_vec1,sen_vec2)/(norm(sen_vec1)*norm(sen_vec2))\n"
     ]
    },
    {
     "name": "stdout",
     "output_type": "stream",
     "text": [
      "URL            https://www.linkedin.com/in/nader-ltaief-a7a30...\n",
      "job_title                                                    NaN\n",
      "Name                                                nader ltaief\n",
      "skills         [flutter robotics iot programming siemens tia ...\n",
      "experiences           Intern:Feb 2022 - Jun 2022 · 5 mos,nan:nan\n",
      "Name: 401, dtype: object\n"
     ]
    },
    {
     "name": "stderr",
     "output_type": "stream",
     "text": [
      "C:\\Users\\MSI GF63\\AppData\\Local\\Temp\\ipykernel_15404\\3122937574.py:23: RuntimeWarning: invalid value encountered in double_scalars\n",
      "  return dot(sen_vec1,sen_vec2)/(norm(sen_vec1)*norm(sen_vec2))\n"
     ]
    },
    {
     "name": "stdout",
     "output_type": "stream",
     "text": [
      "URL            https://www.linkedin.com/in/islem-bel-hadj-abd...\n",
      "job_title      Data Science Student looking an end studies in...\n",
      "Name                                     Islem Bel Hadj Abdallah\n",
      "skills         [sql arabe francais anglais formation analyse ...\n",
      "experiences                                      nan:nan,nan:nan\n",
      "Name: 402, dtype: object\n"
     ]
    },
    {
     "name": "stderr",
     "output_type": "stream",
     "text": [
      "C:\\Users\\MSI GF63\\AppData\\Local\\Temp\\ipykernel_15404\\3122937574.py:23: RuntimeWarning: invalid value encountered in double_scalars\n",
      "  return dot(sen_vec1,sen_vec2)/(norm(sen_vec1)*norm(sen_vec2))\n"
     ]
    },
    {
     "name": "stdout",
     "output_type": "stream",
     "text": [
      "URL                   https://www.linkedin.com/in/nawres-yeddes/\n",
      "job_title      data science  student looking for summer inter...\n",
      "Name                                               Nawres Yeddes\n",
      "skills         [nosql intelligence emotionnelle nodejs analys...\n",
      "experiences    Stagiaire:Feb 2021 - Present · 2 yrs 1 mo,nan:nan\n",
      "Name: 403, dtype: object\n"
     ]
    },
    {
     "name": "stderr",
     "output_type": "stream",
     "text": [
      "C:\\Users\\MSI GF63\\AppData\\Local\\Temp\\ipykernel_15404\\3122937574.py:23: RuntimeWarning: invalid value encountered in double_scalars\n",
      "  return dot(sen_vec1,sen_vec2)/(norm(sen_vec1)*norm(sen_vec2))\n"
     ]
    },
    {
     "name": "stdout",
     "output_type": "stream",
     "text": [
      "URL            https://www.linkedin.com/in/skander-belloum-a3...\n",
      "job_title                     data science master degree student\n",
      "Name                                             Skander Belloum\n",
      "skills         [developpement web html css java script analys...\n",
      "experiences    Stagiaire de cabinet comptable:Feb 2022 - Jun ...\n",
      "Name: 404, dtype: object\n"
     ]
    },
    {
     "name": "stderr",
     "output_type": "stream",
     "text": [
      "C:\\Users\\MSI GF63\\AppData\\Local\\Temp\\ipykernel_15404\\3122937574.py:23: RuntimeWarning: invalid value encountered in double_scalars\n",
      "  return dot(sen_vec1,sen_vec2)/(norm(sen_vec1)*norm(sen_vec2))\n"
     ]
    },
    {
     "name": "stdout",
     "output_type": "stream",
     "text": [
      "URL            https://www.linkedin.com/in/klibi-souha-5a2475...\n",
      "job_title      data analyst  business analyst  data science  ...\n",
      "Name                                                 Klibi Souha\n",
      "skills         [machine learning deep learning system deploym...\n",
      "experiences    Data Science Intern:Nov 2022 - Present · 4 mos...\n",
      "Name: 405, dtype: object\n"
     ]
    },
    {
     "name": "stderr",
     "output_type": "stream",
     "text": [
      "C:\\Users\\MSI GF63\\AppData\\Local\\Temp\\ipykernel_15404\\3122937574.py:23: RuntimeWarning: invalid value encountered in double_scalars\n",
      "  return dot(sen_vec1,sen_vec2)/(norm(sen_vec1)*norm(sen_vec2))\n"
     ]
    },
    {
     "name": "stdout",
     "output_type": "stream",
     "text": [
      "URL                   https://www.linkedin.com/in/ibrahim-rouis/\n",
      "job_title                                  data science engineer\n",
      "Name                                               Ibrahim Rouis\n",
      "skills         [r programming language machine learning sql d...\n",
      "experiences    Data Scientist:Feb 2020 - Present · 3 yrs 1 mo...\n",
      "Name: 406, dtype: object\n"
     ]
    },
    {
     "name": "stderr",
     "output_type": "stream",
     "text": [
      "C:\\Users\\MSI GF63\\AppData\\Local\\Temp\\ipykernel_15404\\3122937574.py:23: RuntimeWarning: invalid value encountered in double_scalars\n",
      "  return dot(sen_vec1,sen_vec2)/(norm(sen_vec1)*norm(sen_vec2))\n"
     ]
    },
    {
     "name": "stdout",
     "output_type": "stream",
     "text": [
      "URL            https://www.linkedin.com/in/chiraz-ben-boubake...\n",
      "job_title              big data and Data Science Studentat isamm\n",
      "Name                                         Chiraz Ben Boubaker\n",
      "skills                                        [anglais francais]\n",
      "experiences    Membre d’équipe marketing:Oct 2021 - Present ·...\n",
      "Name: 407, dtype: object\n"
     ]
    },
    {
     "name": "stderr",
     "output_type": "stream",
     "text": [
      "C:\\Users\\MSI GF63\\AppData\\Local\\Temp\\ipykernel_15404\\3122937574.py:23: RuntimeWarning: invalid value encountered in double_scalars\n",
      "  return dot(sen_vec1,sen_vec2)/(norm(sen_vec1)*norm(sen_vec2))\n"
     ]
    },
    {
     "name": "stdout",
     "output_type": "stream",
     "text": [
      "URL            https://www.linkedin.com/in/syrine-hamdi-ab500...\n",
      "job_title          data science and software development student\n",
      "Name                                                Syrine Hamdi\n",
      "skills         [gestion projet ressources humaines rh develop...\n",
      "experiences    Research and Development Developer:Oct 2022 - ...\n",
      "Name: 408, dtype: object\n"
     ]
    },
    {
     "name": "stderr",
     "output_type": "stream",
     "text": [
      "C:\\Users\\MSI GF63\\AppData\\Local\\Temp\\ipykernel_15404\\3122937574.py:23: RuntimeWarning: invalid value encountered in double_scalars\n",
      "  return dot(sen_vec1,sen_vec2)/(norm(sen_vec1)*norm(sen_vec2))\n"
     ]
    },
    {
     "name": "stdout",
     "output_type": "stream",
     "text": [
      "URL            https://www.linkedin.com/in/yosser-kaddour-698...\n",
      "job_title                                   Data Science Student\n",
      "Name                                              Yosser Kaddour\n",
      "skills         [apprentissage automatique aspnet mvc programm...\n",
      "experiences    Community service :Feb 2022 - Present · 1 yr 1...\n",
      "Name: 409, dtype: object\n"
     ]
    },
    {
     "name": "stderr",
     "output_type": "stream",
     "text": [
      "C:\\Users\\MSI GF63\\AppData\\Local\\Temp\\ipykernel_15404\\3122937574.py:23: RuntimeWarning: invalid value encountered in double_scalars\n",
      "  return dot(sen_vec1,sen_vec2)/(norm(sen_vec1)*norm(sen_vec2))\n"
     ]
    },
    {
     "name": "stdout",
     "output_type": "stream",
     "text": [
      "URL                      https://www.linkedin.com/in/abir-moula/\n",
      "job_title                          Data Science Studentat esprit\n",
      "Name                                                 Abir  Moula\n",
      "skills         [mapreduce hadoop data analysis data warehousi...\n",
      "experiences                                      nan:nan,nan:nan\n",
      "Name: 410, dtype: object\n"
     ]
    },
    {
     "name": "stderr",
     "output_type": "stream",
     "text": [
      "C:\\Users\\MSI GF63\\AppData\\Local\\Temp\\ipykernel_15404\\3122937574.py:23: RuntimeWarning: invalid value encountered in double_scalars\n",
      "  return dot(sen_vec1,sen_vec2)/(norm(sen_vec1)*norm(sen_vec2))\n"
     ]
    },
    {
     "name": "stdout",
     "output_type": "stream",
     "text": [
      "URL            https://www.linkedin.com/in/zeineb-jalled-039a...\n",
      "job_title                                   Data Science Student\n",
      "Name                                               Zeineb Jalled\n",
      "skills         [politiques rh formation developpement employe...\n",
      "experiences    Machine Learning Engineer:Feb 2023 - Present ·...\n",
      "Name: 411, dtype: object\n"
     ]
    },
    {
     "name": "stderr",
     "output_type": "stream",
     "text": [
      "C:\\Users\\MSI GF63\\AppData\\Local\\Temp\\ipykernel_15404\\3122937574.py:23: RuntimeWarning: invalid value encountered in double_scalars\n",
      "  return dot(sen_vec1,sen_vec2)/(norm(sen_vec1)*norm(sen_vec2))\n"
     ]
    },
    {
     "name": "stdout",
     "output_type": "stream",
     "text": [
      "URL                  https://www.linkedin.com/in/rouissi-mehrez/\n",
      "job_title                                   Data Science Student\n",
      "Name                                              Rouissi Mehrez\n",
      "skills         [sql python programming language problem solving]\n",
      "experiences                                      nan:nan,nan:nan\n",
      "Name: 412, dtype: object\n"
     ]
    },
    {
     "name": "stderr",
     "output_type": "stream",
     "text": [
      "C:\\Users\\MSI GF63\\AppData\\Local\\Temp\\ipykernel_15404\\3122937574.py:23: RuntimeWarning: invalid value encountered in double_scalars\n",
      "  return dot(sen_vec1,sen_vec2)/(norm(sen_vec1)*norm(sen_vec2))\n"
     ]
    },
    {
     "name": "stdout",
     "output_type": "stream",
     "text": [
      "URL                      https://www.linkedin.com/in/dhiasouidi/\n",
      "job_title                                         data scientist\n",
      "Name                                           Dhiaeddine Souidi\n",
      "skills         [git spring framework java android development...\n",
      "experiences    Data Science Intern:Feb 2023 - Present · 1 mo,...\n",
      "Name: 413, dtype: object\n"
     ]
    },
    {
     "name": "stderr",
     "output_type": "stream",
     "text": [
      "C:\\Users\\MSI GF63\\AppData\\Local\\Temp\\ipykernel_15404\\3122937574.py:23: RuntimeWarning: invalid value encountered in double_scalars\n",
      "  return dot(sen_vec1,sen_vec2)/(norm(sen_vec1)*norm(sen_vec2))\n"
     ]
    },
    {
     "name": "stdout",
     "output_type": "stream",
     "text": [
      "URL            https://www.linkedin.com/in/youssef-ben-amara-...\n",
      "job_title      Data Science Student 📣 looking for an end of s...\n",
      "Name                                           Youssef Ben Amara\n",
      "skills         [laravel mysql github communication leadership...\n",
      "experiences    Data Intern:Jun 2022 - Aug 2022 · 3 mos,Summer...\n",
      "Name: 414, dtype: object\n"
     ]
    },
    {
     "name": "stderr",
     "output_type": "stream",
     "text": [
      "C:\\Users\\MSI GF63\\AppData\\Local\\Temp\\ipykernel_15404\\3122937574.py:23: RuntimeWarning: invalid value encountered in double_scalars\n",
      "  return dot(sen_vec1,sen_vec2)/(norm(sen_vec1)*norm(sen_vec2))\n"
     ]
    },
    {
     "name": "stdout",
     "output_type": "stream",
     "text": [
      "URL            https://www.linkedin.com/in/iheb-ben-amor-1749...\n",
      "job_title                                   Data Science Student\n",
      "Name                                               Iheb Ben amor\n",
      "skills         [apprentissage automatique deep learning machi...\n",
      "experiences    Full-stack Developer:Mar 2021 - Jun 2021 · 4 m...\n",
      "Name: 415, dtype: object\n"
     ]
    },
    {
     "name": "stderr",
     "output_type": "stream",
     "text": [
      "C:\\Users\\MSI GF63\\AppData\\Local\\Temp\\ipykernel_15404\\3122937574.py:23: RuntimeWarning: invalid value encountered in double_scalars\n",
      "  return dot(sen_vec1,sen_vec2)/(norm(sen_vec1)*norm(sen_vec2))\n"
     ]
    },
    {
     "name": "stdout",
     "output_type": "stream",
     "text": [
      "URL            https://www.linkedin.com/in/fairouz-bourbia-41...\n",
      "job_title                                   Data Science Student\n",
      "Name                                             Fairouz Bourbia\n",
      "skills         [data analysis java swing web scraping machine...\n",
      "experiences    Data Scientist:Feb 2023 - Present · 1 mo,Data ...\n",
      "Name: 416, dtype: object\n"
     ]
    },
    {
     "name": "stderr",
     "output_type": "stream",
     "text": [
      "C:\\Users\\MSI GF63\\AppData\\Local\\Temp\\ipykernel_15404\\3122937574.py:23: RuntimeWarning: invalid value encountered in double_scalars\n",
      "  return dot(sen_vec1,sen_vec2)/(norm(sen_vec1)*norm(sen_vec2))\n"
     ]
    },
    {
     "name": "stdout",
     "output_type": "stream",
     "text": [
      "URL                 https://www.linkedin.com/in/med-amine-salah/\n",
      "job_title                data science intern chez orange tunisie\n",
      "Name                                         Mohamed Amine SALAH\n",
      "skills         [machine learning operations mlops science don...\n",
      "experiences    Data Science Intern:Feb 2023 - Present · 1 mo,...\n",
      "Name: 417, dtype: object\n"
     ]
    },
    {
     "name": "stderr",
     "output_type": "stream",
     "text": [
      "C:\\Users\\MSI GF63\\AppData\\Local\\Temp\\ipykernel_15404\\3122937574.py:23: RuntimeWarning: invalid value encountered in double_scalars\n",
      "  return dot(sen_vec1,sen_vec2)/(norm(sen_vec1)*norm(sen_vec2))\n"
     ]
    },
    {
     "name": "stdout",
     "output_type": "stream",
     "text": [
      "URL                   https://www.linkedin.com/in/rihab-dabbebi/\n",
      "job_title                           data science masters student\n",
      "Name                                               Dabbebi Rihab\n",
      "skills         [deep learning machine learning data cleaning ...\n",
      "experiences                                      nan:nan,nan:nan\n",
      "Name: 418, dtype: object\n"
     ]
    },
    {
     "name": "stderr",
     "output_type": "stream",
     "text": [
      "C:\\Users\\MSI GF63\\AppData\\Local\\Temp\\ipykernel_15404\\3122937574.py:23: RuntimeWarning: invalid value encountered in double_scalars\n",
      "  return dot(sen_vec1,sen_vec2)/(norm(sen_vec1)*norm(sen_vec2))\n"
     ]
    },
    {
     "name": "stdout",
     "output_type": "stream",
     "text": [
      "URL            https://www.linkedin.com/in/iskander-khalsi-48...\n",
      "job_title                   statistics and data science engineer\n",
      "Name                                             Iskander KHALSI\n",
      "skills         [python mathematiques etude series temporelles...\n",
      "experiences    Ingénieur statisticien:Oct 2022 - Present · 5 ...\n",
      "Name: 419, dtype: object\n"
     ]
    },
    {
     "name": "stderr",
     "output_type": "stream",
     "text": [
      "C:\\Users\\MSI GF63\\AppData\\Local\\Temp\\ipykernel_15404\\3122937574.py:23: RuntimeWarning: invalid value encountered in double_scalars\n",
      "  return dot(sen_vec1,sen_vec2)/(norm(sen_vec1)*norm(sen_vec2))\n"
     ]
    },
    {
     "name": "stdout",
     "output_type": "stream",
     "text": [
      "URL            https://www.linkedin.com/in/hassen-riahi-49079...\n",
      "job_title           mechanical engineer  data science enthusiast\n",
      "Name                                                Hassen Riahi\n",
      "skills         [programming python programming language datab...\n",
      "experiences    Mechanical Engineer:Mar 2016 - Present · 7 yrs...\n",
      "Name: 420, dtype: object\n"
     ]
    },
    {
     "name": "stderr",
     "output_type": "stream",
     "text": [
      "C:\\Users\\MSI GF63\\AppData\\Local\\Temp\\ipykernel_15404\\3122937574.py:23: RuntimeWarning: invalid value encountered in double_scalars\n",
      "  return dot(sen_vec1,sen_vec2)/(norm(sen_vec1)*norm(sen_vec2))\n"
     ]
    },
    {
     "name": "stdout",
     "output_type": "stream",
     "text": [
      "URL            https://www.linkedin.com/in/douaa-mami-3473ab119/\n",
      "job_title      Data Science Student• looking for data science...\n",
      "Name                                                  Douaa Mami\n",
      "skills         [spss clementine ibm spss statistics microsoft...\n",
      "experiences           Intern:Feb 2021 - Jun 2021 · 5 mos,nan:nan\n",
      "Name: 421, dtype: object\n"
     ]
    },
    {
     "name": "stderr",
     "output_type": "stream",
     "text": [
      "C:\\Users\\MSI GF63\\AppData\\Local\\Temp\\ipykernel_15404\\3122937574.py:23: RuntimeWarning: invalid value encountered in double_scalars\n",
      "  return dot(sen_vec1,sen_vec2)/(norm(sen_vec1)*norm(sen_vec2))\n"
     ]
    },
    {
     "name": "stdout",
     "output_type": "stream",
     "text": [
      "URL                   https://www.linkedin.com/in/ramzi-jebalia/\n",
      "job_title                   computer science engineering student\n",
      "Name                                               Ramzi Jebalia\n",
      "skills            [analyse donnees science donnees data science]\n",
      "experiences    Data Science Intern:Oct 2022 · 1 mo,Intern:Jun...\n",
      "Name: 422, dtype: object\n"
     ]
    },
    {
     "name": "stderr",
     "output_type": "stream",
     "text": [
      "C:\\Users\\MSI GF63\\AppData\\Local\\Temp\\ipykernel_15404\\3122937574.py:23: RuntimeWarning: invalid value encountered in double_scalars\n",
      "  return dot(sen_vec1,sen_vec2)/(norm(sen_vec1)*norm(sen_vec2))\n"
     ]
    },
    {
     "name": "stdout",
     "output_type": "stream",
     "text": [
      "URL                  https://www.linkedin.com/in/ines-bousselmi/\n",
      "job_title      software engineering student  specialized in d...\n",
      "Name                                              Ines Bousselmi\n",
      "skills         [python algorithmes mathematiques machine lear...\n",
      "experiences    Data Science Intern:Sep 2021 - Nov 2021 · 3 mo...\n",
      "Name: 423, dtype: object\n"
     ]
    },
    {
     "name": "stderr",
     "output_type": "stream",
     "text": [
      "C:\\Users\\MSI GF63\\AppData\\Local\\Temp\\ipykernel_15404\\3122937574.py:23: RuntimeWarning: invalid value encountered in double_scalars\n",
      "  return dot(sen_vec1,sen_vec2)/(norm(sen_vec1)*norm(sen_vec2))\n"
     ]
    },
    {
     "name": "stdout",
     "output_type": "stream",
     "text": [
      "URL            https://www.linkedin.com/in/fatma-jeddy-1b2b2b...\n",
      "job_title                               data science researcher \n",
      "Name                                                 Fatma Jeddy\n",
      "skills         [developpement web python langage programmatio...\n",
      "experiences    Enseignante vacataire :Sep 2022 - Present · 6 ...\n",
      "Name: 424, dtype: object\n"
     ]
    },
    {
     "name": "stderr",
     "output_type": "stream",
     "text": [
      "C:\\Users\\MSI GF63\\AppData\\Local\\Temp\\ipykernel_15404\\3122937574.py:23: RuntimeWarning: invalid value encountered in double_scalars\n",
      "  return dot(sen_vec1,sen_vec2)/(norm(sen_vec1)*norm(sen_vec2))\n"
     ]
    },
    {
     "name": "stdout",
     "output_type": "stream",
     "text": [
      "URL            https://www.linkedin.com/in/hiba-zouita-b98448...\n",
      "job_title      data science for business master’s student  gr...\n",
      "Name                                                 Hiba Zouita\n",
      "skills         [machine learning apprentissage supervise lang...\n",
      "experiences    Consultante | pôle projet : Etude de marché:Oc...\n",
      "Name: 425, dtype: object\n"
     ]
    },
    {
     "name": "stderr",
     "output_type": "stream",
     "text": [
      "C:\\Users\\MSI GF63\\AppData\\Local\\Temp\\ipykernel_15404\\3122937574.py:23: RuntimeWarning: invalid value encountered in double_scalars\n",
      "  return dot(sen_vec1,sen_vec2)/(norm(sen_vec1)*norm(sen_vec2))\n"
     ]
    },
    {
     "name": "stdout",
     "output_type": "stream",
     "text": [
      "URL            https://www.linkedin.com/in/malak-ben-cheikh-l...\n",
      "job_title                                   Data Science Student\n",
      "Name                                      Malak Ben Cheikh Larbi\n",
      "skills         [spring boot elasticsearch activemq apache kaf...\n",
      "experiences    Marketing Manager:Aug 2022 - Present · 7 mos,M...\n",
      "Name: 426, dtype: object\n"
     ]
    },
    {
     "name": "stderr",
     "output_type": "stream",
     "text": [
      "C:\\Users\\MSI GF63\\AppData\\Local\\Temp\\ipykernel_15404\\3122937574.py:23: RuntimeWarning: invalid value encountered in double_scalars\n",
      "  return dot(sen_vec1,sen_vec2)/(norm(sen_vec1)*norm(sen_vec2))\n"
     ]
    },
    {
     "name": "stdout",
     "output_type": "stream",
     "text": [
      "URL            https://www.linkedin.com/in/houa%C3%AFda-gharb...\n",
      "job_title                    master data science for business \\n\n",
      "Name                                              Houaïda Gharbi\n",
      "skills         [java python big data r apprentissage automati...\n",
      "experiences    Analyste de données:Jan 2021 - Present · 2 yrs...\n",
      "Name: 427, dtype: object\n"
     ]
    },
    {
     "name": "stderr",
     "output_type": "stream",
     "text": [
      "C:\\Users\\MSI GF63\\AppData\\Local\\Temp\\ipykernel_15404\\3122937574.py:23: RuntimeWarning: invalid value encountered in double_scalars\n",
      "  return dot(sen_vec1,sen_vec2)/(norm(sen_vec1)*norm(sen_vec2))\n"
     ]
    },
    {
     "name": "stdout",
     "output_type": "stream",
     "text": [
      "URL            https://www.linkedin.com/in/mootez-gam-826525206/\n",
      "job_title                  4th grade Data Science Student esprit\n",
      "Name                                                  mootez gam\n",
      "skills         [intelligence artificielle ia science donnees ...\n",
      "experiences    Data Scientist:Jun 2022 - Aug 2022 · 3 mos,Sum...\n",
      "Name: 428, dtype: object\n"
     ]
    },
    {
     "name": "stderr",
     "output_type": "stream",
     "text": [
      "C:\\Users\\MSI GF63\\AppData\\Local\\Temp\\ipykernel_15404\\3122937574.py:23: RuntimeWarning: invalid value encountered in double_scalars\n",
      "  return dot(sen_vec1,sen_vec2)/(norm(sen_vec1)*norm(sen_vec2))\n"
     ]
    },
    {
     "name": "stdout",
     "output_type": "stream",
     "text": [
      "URL            https://www.linkedin.com/in/khaoula-ben-othman...\n",
      "job_title                                  data science engineer\n",
      "Name                                          khaoula Ben othman\n",
      "skills         [mongodb rstudio business intelligence bi pysp...\n",
      "experiences                                      nan:nan,nan:nan\n",
      "Name: 429, dtype: object\n"
     ]
    },
    {
     "name": "stderr",
     "output_type": "stream",
     "text": [
      "C:\\Users\\MSI GF63\\AppData\\Local\\Temp\\ipykernel_15404\\3122937574.py:23: RuntimeWarning: invalid value encountered in double_scalars\n",
      "  return dot(sen_vec1,sen_vec2)/(norm(sen_vec1)*norm(sen_vec2))\n"
     ]
    },
    {
     "name": "stdout",
     "output_type": "stream",
     "text": [
      "URL            https://www.linkedin.com/in/farah-abid-989683191/\n",
      "job_title                                data science enthusiast\n",
      "Name                                                  Farah Abid\n",
      "skills         [analyse donnees nlp extraction donnees python...\n",
      "experiences    Data Science Intern:Oct 2022 - Present · 5 mos...\n",
      "Name: 430, dtype: object\n"
     ]
    },
    {
     "name": "stderr",
     "output_type": "stream",
     "text": [
      "C:\\Users\\MSI GF63\\AppData\\Local\\Temp\\ipykernel_15404\\3122937574.py:23: RuntimeWarning: invalid value encountered in double_scalars\n",
      "  return dot(sen_vec1,sen_vec2)/(norm(sen_vec1)*norm(sen_vec2))\n"
     ]
    },
    {
     "name": "stdout",
     "output_type": "stream",
     "text": [
      "URL            https://www.linkedin.com/in/achref-cherif-data...\n",
      "job_title      data scientist  founder  ceo of data science t...\n",
      "Name                                               Achref Cherif\n",
      "skills         [extract transform load etl analytical skills ...\n",
      "experiences    Data Scientist:Sep 2020 - Present · 2 yrs 6 mo...\n",
      "Name: 431, dtype: object\n"
     ]
    },
    {
     "name": "stderr",
     "output_type": "stream",
     "text": [
      "C:\\Users\\MSI GF63\\AppData\\Local\\Temp\\ipykernel_15404\\3122937574.py:23: RuntimeWarning: invalid value encountered in double_scalars\n",
      "  return dot(sen_vec1,sen_vec2)/(norm(sen_vec1)*norm(sen_vec2))\n"
     ]
    },
    {
     "name": "stdout",
     "output_type": "stream",
     "text": [
      "URL                    https://www.linkedin.com/in/hamza-samaiy/\n",
      "job_title           data science master student  works at vermeg\n",
      "Name                                                Hamza Samaiy\n",
      "skills         [developpement web javascript php laravel feui...\n",
      "experiences    Software Programmer:Jan 2023 - Present · 2 mos...\n",
      "Name: 432, dtype: object\n"
     ]
    },
    {
     "name": "stderr",
     "output_type": "stream",
     "text": [
      "C:\\Users\\MSI GF63\\AppData\\Local\\Temp\\ipykernel_15404\\3122937574.py:23: RuntimeWarning: invalid value encountered in double_scalars\n",
      "  return dot(sen_vec1,sen_vec2)/(norm(sen_vec1)*norm(sen_vec2))\n"
     ]
    },
    {
     "name": "stdout",
     "output_type": "stream",
     "text": [
      "URL            https://www.linkedin.com/in/zitouni-amal-286b9...\n",
      "job_title      ingénieur en informatique  spécialité data sci...\n",
      "Name                                                Zitouni Amal\n",
      "skills         [microsoft azure machine learning apprentissag...\n",
      "experiences    Ingénieur BI:Oct 2022 - Present · 5 mos,Member...\n",
      "Name: 433, dtype: object\n"
     ]
    },
    {
     "name": "stderr",
     "output_type": "stream",
     "text": [
      "C:\\Users\\MSI GF63\\AppData\\Local\\Temp\\ipykernel_15404\\3122937574.py:23: RuntimeWarning: invalid value encountered in double_scalars\n",
      "  return dot(sen_vec1,sen_vec2)/(norm(sen_vec1)*norm(sen_vec2))\n"
     ]
    }
   ],
   "source": [
    "matchdf=Match(df2,df1,emb_vec)"
   ]
  },
  {
   "cell_type": "code",
   "execution_count": 75,
   "id": "a659f84c-7dd1-4316-a699-9297600aa95a",
   "metadata": {},
   "outputs": [
    {
     "name": "stdout",
     "output_type": "stream",
     "text": [
      "                                                 URL           Name  \\\n",
      "0              https://www.linkedin.com/in/talel-kb/   Talel Kbaier   \n",
      "0       https://www.linkedin.com/in/omar-talbi-sfax/     Omar Talbi   \n",
      "0  https://www.linkedin.com/in/hassen-knani-21991...   Hassen Knani   \n",
      "0          https://www.linkedin.com/in/safwendammak/  Safwen Dammak   \n",
      "0  https://www.linkedin.com/in/oumayma-b%C3%A9hi-...   Oumayma Béhi   \n",
      "\n",
      "                                         job_matched  \\\n",
      "0   Implementation process management APP Internship   \n",
      "0   Implementation process management APP Internship   \n",
      "0                Master Ingénieur réseau et sécurité   \n",
      "0  CONCEPTION ET DÉVELOPPEMENT D'UN SIMULATEUR SO...   \n",
      "0                              innovation specialist   \n",
      "\n",
      "                              job skills  total_score  \\\n",
      "0                                 [Java]     1.000000   \n",
      "0                                 [Java]     1.000000   \n",
      "0                               [Projet]     1.000000   \n",
      "0           [C++, QT, LINUX, SOME, IP, ]     1.000000   \n",
      "0  [curiosity, creativity, adaptability]     0.265073   \n",
      "\n",
      "                                          score_list  \n",
      "0                               [1.0000000000000002]  \n",
      "0                               [1.0000000000000002]  \n",
      "0                               [1.0000000000000002]  \n",
      "0                               [1.0000000000000002]  \n",
      "0  [0.2622474085608724, 0.2650820348991975, 0.267...  \n"
     ]
    }
   ],
   "source": [
    "print(matchdf.head())"
   ]
  },
  {
   "cell_type": "code",
   "execution_count": 77,
   "id": "d0721481-ffb3-40ae-bb6a-2d85466a4815",
   "metadata": {},
   "outputs": [],
   "source": [
    "matchdf.to_excel('CSV\\\\Matched_data.xlsx', index=False)\n"
   ]
  },
  {
   "cell_type": "markdown",
   "id": "4fa30cd0-a3ad-4da7-be30-07468bcba08d",
   "metadata": {},
   "source": [
    "## Pretrained Bert Model"
   ]
  },
  {
   "cell_type": "code",
   "execution_count": 104,
   "id": "afa041f9-3f2d-47cd-9e33-fb6268029c70",
   "metadata": {},
   "outputs": [
    {
     "name": "stdout",
     "output_type": "stream",
     "text": [
      "Collecting sentence-transformers\n",
      "  Downloading sentence-transformers-2.2.2.tar.gz (85 kB)\n",
      "     -------------------------------------- 86.0/86.0 kB 805.5 kB/s eta 0:00:00\n",
      "  Preparing metadata (setup.py): started\n",
      "  Preparing metadata (setup.py): finished with status 'done'\n",
      "Requirement already satisfied: transformers<5.0.0,>=4.6.0 in c:\\anaconda3\\lib\\site-packages (from sentence-transformers) (4.24.0)\n",
      "Requirement already satisfied: tqdm in c:\\anaconda3\\lib\\site-packages (from sentence-transformers) (4.64.1)\n",
      "Requirement already satisfied: torch>=1.6.0 in c:\\anaconda3\\lib\\site-packages (from sentence-transformers) (1.12.1)\n",
      "Collecting torchvision\n",
      "  Downloading torchvision-0.15.1-cp310-cp310-win_amd64.whl (1.2 MB)\n",
      "     ---------------------------------------- 1.2/1.2 MB 729.5 kB/s eta 0:00:00\n",
      "Requirement already satisfied: numpy in c:\\anaconda3\\lib\\site-packages (from sentence-transformers) (1.23.5)\n",
      "Requirement already satisfied: scikit-learn in c:\\anaconda3\\lib\\site-packages (from sentence-transformers) (1.2.1)\n",
      "Requirement already satisfied: scipy in c:\\anaconda3\\lib\\site-packages (from sentence-transformers) (1.10.0)\n",
      "Requirement already satisfied: nltk in c:\\anaconda3\\lib\\site-packages (from sentence-transformers) (3.7)\n",
      "Collecting sentencepiece\n",
      "  Downloading sentencepiece-0.1.99-cp310-cp310-win_amd64.whl (977 kB)\n",
      "     ------------------------------------ 977.5/977.5 kB 562.7 kB/s eta 0:00:00\n",
      "Requirement already satisfied: huggingface-hub>=0.4.0 in c:\\anaconda3\\lib\\site-packages (from sentence-transformers) (0.10.1)\n",
      "Requirement already satisfied: filelock in c:\\anaconda3\\lib\\site-packages (from huggingface-hub>=0.4.0->sentence-transformers) (3.9.0)\n",
      "Requirement already satisfied: pyyaml>=5.1 in c:\\anaconda3\\lib\\site-packages (from huggingface-hub>=0.4.0->sentence-transformers) (6.0)\n",
      "Requirement already satisfied: typing-extensions>=3.7.4.3 in c:\\anaconda3\\lib\\site-packages (from huggingface-hub>=0.4.0->sentence-transformers) (4.4.0)\n",
      "Requirement already satisfied: requests in c:\\anaconda3\\lib\\site-packages (from huggingface-hub>=0.4.0->sentence-transformers) (2.28.1)\n",
      "Requirement already satisfied: packaging>=20.9 in c:\\anaconda3\\lib\\site-packages (from huggingface-hub>=0.4.0->sentence-transformers) (22.0)\n",
      "Requirement already satisfied: tokenizers!=0.11.3,<0.14,>=0.11.1 in c:\\anaconda3\\lib\\site-packages (from transformers<5.0.0,>=4.6.0->sentence-transformers) (0.11.4)\n",
      "Requirement already satisfied: regex!=2019.12.17 in c:\\anaconda3\\lib\\site-packages (from transformers<5.0.0,>=4.6.0->sentence-transformers) (2022.7.9)\n",
      "Requirement already satisfied: colorama in c:\\anaconda3\\lib\\site-packages (from tqdm->sentence-transformers) (0.4.6)\n",
      "Requirement already satisfied: click in c:\\anaconda3\\lib\\site-packages (from nltk->sentence-transformers) (8.0.4)\n",
      "Requirement already satisfied: joblib in c:\\anaconda3\\lib\\site-packages (from nltk->sentence-transformers) (1.1.1)\n",
      "Requirement already satisfied: threadpoolctl>=2.0.0 in c:\\anaconda3\\lib\\site-packages (from scikit-learn->sentence-transformers) (2.2.0)\n",
      "Requirement already satisfied: pillow!=8.3.*,>=5.3.0 in c:\\anaconda3\\lib\\site-packages (from torchvision->sentence-transformers) (9.4.0)\n",
      "Collecting torch>=1.6.0\n",
      "  Downloading torch-2.0.0-cp310-cp310-win_amd64.whl (172.3 MB)\n",
      "     ------------------------------------ 172.3/172.3 MB 827.6 kB/s eta 0:00:00\n",
      "Requirement already satisfied: sympy in c:\\anaconda3\\lib\\site-packages (from torch>=1.6.0->sentence-transformers) (1.11.1)\n",
      "Requirement already satisfied: jinja2 in c:\\anaconda3\\lib\\site-packages (from torch>=1.6.0->sentence-transformers) (3.1.2)\n",
      "Requirement already satisfied: networkx in c:\\anaconda3\\lib\\site-packages (from torch>=1.6.0->sentence-transformers) (2.8.4)\n",
      "Requirement already satisfied: MarkupSafe>=2.0 in c:\\anaconda3\\lib\\site-packages (from jinja2->torch>=1.6.0->sentence-transformers) (2.1.1)\n",
      "Requirement already satisfied: urllib3<1.27,>=1.21.1 in c:\\anaconda3\\lib\\site-packages (from requests->huggingface-hub>=0.4.0->sentence-transformers) (1.26.14)\n",
      "Requirement already satisfied: charset-normalizer<3,>=2 in c:\\anaconda3\\lib\\site-packages (from requests->huggingface-hub>=0.4.0->sentence-transformers) (2.0.4)\n",
      "Requirement already satisfied: certifi>=2017.4.17 in c:\\anaconda3\\lib\\site-packages (from requests->huggingface-hub>=0.4.0->sentence-transformers) (2022.12.7)\n",
      "Requirement already satisfied: idna<4,>=2.5 in c:\\anaconda3\\lib\\site-packages (from requests->huggingface-hub>=0.4.0->sentence-transformers) (2.10)\n",
      "Requirement already satisfied: mpmath>=0.19 in c:\\anaconda3\\lib\\site-packages (from sympy->torch>=1.6.0->sentence-transformers) (1.2.1)\n",
      "Building wheels for collected packages: sentence-transformers\n",
      "  Building wheel for sentence-transformers (setup.py): started\n",
      "  Building wheel for sentence-transformers (setup.py): finished with status 'done'\n",
      "  Created wheel for sentence-transformers: filename=sentence_transformers-2.2.2-py3-none-any.whl size=125960 sha256=9162504e4d057cbf2a166882ed93f3d60c90d6f8fb87e63b56df1c441d433fe3\n",
      "  Stored in directory: c:\\users\\msi gf63\\appdata\\local\\pip\\cache\\wheels\\0a\\f5\\dd\\9d00836c4e9e279c2a59d5b0ab72dafa66cbc626a327c550dd\n",
      "Successfully built sentence-transformers\n",
      "Installing collected packages: sentencepiece, torch, torchvision, sentence-transformers\n",
      "  Attempting uninstall: torch\n",
      "    Found existing installation: torch 1.12.1\n",
      "    Uninstalling torch-1.12.1:\n",
      "      Successfully uninstalled torch-1.12.1\n",
      "Successfully installed sentence-transformers-2.2.2 sentencepiece-0.1.99 torch-2.0.0 torchvision-0.15.1\n",
      "Note: you may need to restart the kernel to use updated packages.\n"
     ]
    },
    {
     "name": "stderr",
     "output_type": "stream",
     "text": [
      "WARNING: Ignoring invalid distribution -rotobuf (c:\\anaconda3\\lib\\site-packages)\n",
      "WARNING: Ignoring invalid distribution -rotobuf (c:\\anaconda3\\lib\\site-packages)\n",
      "WARNING: Ignoring invalid distribution -rotobuf (c:\\anaconda3\\lib\\site-packages)\n",
      "    WARNING: Ignoring invalid distribution -rotobuf (c:\\anaconda3\\lib\\site-packages)\n",
      "WARNING: Ignoring invalid distribution -rotobuf (c:\\anaconda3\\lib\\site-packages)\n",
      "WARNING: Ignoring invalid distribution -rotobuf (c:\\anaconda3\\lib\\site-packages)\n",
      "WARNING: Ignoring invalid distribution -rotobuf (c:\\anaconda3\\lib\\site-packages)\n",
      "WARNING: Ignoring invalid distribution -rotobuf (c:\\anaconda3\\lib\\site-packages)\n",
      "WARNING: Ignoring invalid distribution -rotobuf (c:\\anaconda3\\lib\\site-packages)\n",
      "WARNING: Ignoring invalid distribution -rotobuf (c:\\anaconda3\\lib\\site-packages)\n",
      "WARNING: Ignoring invalid distribution -rotobuf (c:\\anaconda3\\lib\\site-packages)\n"
     ]
    }
   ],
   "source": [
    "pip install sentence-transformers"
   ]
  },
  {
   "cell_type": "code",
   "execution_count": 57,
   "id": "c231e6fc-ac06-4e70-b4f7-33a443e92cd2",
   "metadata": {},
   "outputs": [],
   "source": [
    "from sentence_transformers import SentenceTransformer\n",
    "\n",
    "model = SentenceTransformer('bert-base-nli-mean-tokens')"
   ]
  },
  {
   "cell_type": "code",
   "execution_count": 59,
   "id": "dfa7229e-6b9d-4895-8e64-ce9d46a2cd05",
   "metadata": {},
   "outputs": [],
   "source": [
    "model.save('bertMODEL')"
   ]
  },
  {
   "cell_type": "code",
   "execution_count": 60,
   "id": "dbc9d33b-64ba-4c85-a933-bc9645c3d116",
   "metadata": {},
   "outputs": [],
   "source": [
    "sentence_embeddings = model.encode(df2['skills'][1])\n"
   ]
  },
  {
   "cell_type": "code",
   "execution_count": 61,
   "id": "fe91d1e2-c2c5-4d13-bab2-bc712c51180d",
   "metadata": {
    "collapsed": true,
    "jupyter": {
     "outputs_hidden": true
    },
    "tags": []
   },
   "outputs": [
    {
     "data": {
      "text/plain": [
       "array([-2.46460795e-01,  4.16334391e-01,  1.09131372e+00, -6.30743802e-02,\n",
       "        7.99204409e-02,  1.09192276e+00,  1.70364738e-01,  1.51926517e+00,\n",
       "       -1.28249586e+00,  7.09121525e-01, -9.87488806e-01,  4.79984552e-01,\n",
       "       -6.58217728e-01,  1.47507906e-01,  6.19223833e-01,  3.07309180e-02,\n",
       "       -8.29079151e-01, -5.82966626e-01,  6.27305448e-01, -5.22945523e-02,\n",
       "       -1.25515461e-02,  8.77614200e-01, -4.05389637e-01, -7.83491433e-01,\n",
       "        5.16248763e-01, -1.69070423e-01,  1.81295976e-01, -2.95025080e-01,\n",
       "       -6.98406935e-01,  1.28157631e-01, -7.00810432e-01, -4.91766959e-01,\n",
       "        1.06496704e+00,  6.05641186e-01, -2.59486467e-01, -7.08003819e-01,\n",
       "       -4.99629408e-01, -9.85539481e-02, -1.42428264e-01,  4.06365514e-01,\n",
       "        1.42157876e+00, -4.02914166e-01,  4.64940071e-01,  3.83913040e-01,\n",
       "       -6.28552973e-01,  2.37806633e-01,  5.89850664e-01,  3.72156143e-01,\n",
       "       -4.50615764e-01, -7.06084967e-01, -9.19309437e-01, -4.05465275e-01,\n",
       "        5.98991700e-02, -1.58887189e-02, -3.19142938e-01, -1.09143531e+00,\n",
       "        1.73421860e+00, -1.95836186e-01,  1.73028350e-01,  3.13067913e-01,\n",
       "       -4.16275747e-02,  2.69182295e-01, -2.84573913e-01,  2.22761929e-01,\n",
       "       -8.86272430e-01,  1.35341406e+00,  3.15232873e-01,  5.87380715e-02,\n",
       "       -1.44432768e-01,  3.51234036e-03,  1.50866282e+00, -5.32352030e-01,\n",
       "       -1.10397971e+00,  6.09614789e-01, -7.65764713e-01, -8.47299278e-01,\n",
       "       -2.56819576e-01,  5.10641515e-01,  1.00565898e+00,  8.62183645e-02,\n",
       "        7.82109082e-01,  6.98955774e-01,  1.41470492e+00, -1.77225396e-01,\n",
       "        4.41869386e-02, -6.43069074e-02,  6.95675388e-02,  1.53863490e+00,\n",
       "       -9.90347207e-01, -3.09844941e-01, -1.90673351e-01,  1.30012572e+00,\n",
       "        2.06072703e-01,  1.21197724e+00, -3.55330318e-01, -6.97477400e-01,\n",
       "        1.84830818e-02,  7.56948516e-02,  5.49499929e-01, -2.22666517e-01,\n",
       "       -1.14076877e+00, -3.70561689e-01, -1.30126715e+00, -8.28385502e-02,\n",
       "        3.38715643e-01,  2.30368450e-01, -4.98769432e-01,  3.22750658e-01,\n",
       "       -1.29886866e+00,  8.04997206e-01, -7.74370670e-01,  8.80126774e-01,\n",
       "        5.74737787e-01, -5.21810055e-01, -5.16507149e-01, -3.37344319e-01,\n",
       "       -5.87095678e-01,  3.56589317e-01, -3.08114797e-01,  2.73814380e-01,\n",
       "        3.60529810e-01,  3.57630968e-01, -4.70539182e-02,  1.75464332e-01,\n",
       "        5.60242891e-01, -4.56756830e-01,  8.32259655e-02, -4.46056992e-01,\n",
       "       -2.80080646e-01,  3.75721365e-01, -2.46045187e-01,  1.16276109e+00,\n",
       "        1.56288338e+00,  1.09637462e-01,  1.30771309e-01, -7.82060325e-01,\n",
       "       -3.51905107e-01,  2.42707968e-01,  3.14330250e-01, -4.54745531e-01,\n",
       "       -8.59094918e-01,  7.83948123e-01, -4.78690356e-01,  7.24640369e-01,\n",
       "        3.26868266e-01, -9.76522505e-01,  6.04085207e-01,  3.78957897e-01,\n",
       "       -7.05665827e-01,  6.20405972e-01, -1.23566484e+00, -1.20038897e-01,\n",
       "       -1.05872142e+00, -6.61501467e-01, -7.27791011e-01, -7.87045300e-01,\n",
       "        2.97726274e-01, -3.35284680e-01,  1.91931352e-01,  2.89298743e-01,\n",
       "        2.29970500e-01,  6.82994545e-01, -7.54491746e-01,  4.04984839e-02,\n",
       "        2.14278087e-01, -8.74273956e-01, -2.51083970e-01, -1.26830673e+00,\n",
       "        6.02706850e-01,  2.94053137e-01, -4.92672235e-01, -3.90775919e-01,\n",
       "       -2.92995930e-01,  4.94986266e-01, -5.62205732e-01, -6.61169171e-01,\n",
       "        4.09005642e-01,  2.56511390e-01,  5.21625996e-01, -3.22689444e-01,\n",
       "        2.79522896e-01, -6.01252854e-01,  7.99291909e-01, -6.57047272e-01,\n",
       "       -1.54541954e-01, -3.76820773e-01,  1.13637626e-01, -7.82008827e-01,\n",
       "        7.06311166e-01, -1.17306985e-01, -1.45655358e+00, -7.12972641e-01,\n",
       "        1.80792585e-01, -8.25437546e-01,  1.69317082e-01,  6.76883534e-02,\n",
       "       -6.39662981e-01,  3.17937762e-01,  3.32941301e-02, -1.33911029e-01,\n",
       "        4.31904942e-01, -3.50586176e-01,  1.83024004e-01, -1.47774713e-02,\n",
       "        3.06268215e-01,  4.63675976e-01,  1.85037240e-01, -6.62957907e-01,\n",
       "       -1.34499371e-03, -1.00433258e-02, -5.94277203e-01,  9.11913395e-01,\n",
       "       -4.03060079e-01, -3.37308019e-01,  7.48271704e-01,  1.42680526e-01,\n",
       "        1.14699376e+00, -1.08169389e+00, -6.76340759e-01,  4.02713984e-01,\n",
       "        1.18303120e+00, -7.82136545e-02,  7.78624296e-01, -4.31426764e-01,\n",
       "       -1.03000796e+00,  1.03005338e+00,  6.99721158e-01, -4.56238031e-01,\n",
       "       -1.22515142e-01,  2.92481482e-01,  6.66131020e-01, -1.95694879e-01,\n",
       "       -9.91958320e-01,  6.13774061e-01,  6.69106722e-01, -3.95310372e-02,\n",
       "        1.38995752e-01, -1.11111689e+00, -6.25842631e-01,  9.23300087e-01,\n",
       "        9.56932008e-01,  7.38902092e-01,  1.70697138e-01,  1.88326403e-01,\n",
       "       -1.00383735e+00, -1.17907763e+00,  6.77734077e-01,  1.28833786e-01,\n",
       "       -4.31919217e-01,  9.13953602e-01, -8.44078064e-02, -9.88368213e-01,\n",
       "        1.03053343e+00,  2.40842029e-01,  3.48764688e-01,  4.63630915e-01,\n",
       "       -7.62145221e-01, -4.35345322e-01, -6.99118137e-01, -3.14220876e-01,\n",
       "       -1.24929762e+00, -4.46887493e-01, -1.91359207e-01,  3.75031918e-01,\n",
       "       -3.85504603e-01,  4.24234629e-01, -1.74083844e-01,  2.03601420e-01,\n",
       "        1.76097289e-01,  4.87993151e-01, -1.10553354e-02, -2.05701992e-01,\n",
       "       -6.97464883e-01, -2.74988383e-01,  1.63958713e-01, -3.54236692e-01,\n",
       "        4.33983117e-01, -3.02431375e-01, -8.46080363e-01, -1.23396981e+00,\n",
       "       -8.71538639e-01,  8.54209602e-01, -1.10377574e+00,  2.25231692e-01,\n",
       "       -9.47885290e-02,  2.67201662e-01,  1.15694128e-01, -9.72921133e-01,\n",
       "       -8.62750053e-01,  4.81161028e-02, -3.85804027e-01,  7.31366575e-02,\n",
       "       -9.77797508e-01, -3.72186035e-01, -5.10547757e-01, -4.88203913e-01,\n",
       "        2.38597319e-01, -1.20413542e+00, -1.00500502e-01, -1.64207444e-01,\n",
       "       -1.01343584e+00, -3.64219874e-01, -4.78161961e-01,  8.51680338e-01,\n",
       "        6.71352625e-01, -1.71469167e-01,  4.48137283e-01,  2.68494636e-01,\n",
       "       -5.14031053e-02,  6.72741756e-02, -8.43266904e-01, -9.81427450e-03,\n",
       "        5.65539300e-01,  9.79031265e-01,  7.30961025e-01, -2.49203835e-02,\n",
       "       -8.95622730e-01, -4.86933708e-01, -5.60956299e-01, -8.17071140e-01,\n",
       "        1.28766164e-01,  9.09340918e-01,  1.99212193e-01,  7.59821475e-01,\n",
       "        8.32958043e-01,  2.08260372e-01,  2.01833770e-01,  6.26558721e-01,\n",
       "       -2.67380536e-01, -3.38211298e-01,  7.31016370e-03, -1.19560313e+00,\n",
       "       -2.47824118e-01,  5.14526725e-01, -5.19531071e-01,  1.01671660e+00,\n",
       "       -1.31737992e-01, -4.97317702e-01, -6.92453459e-02,  5.39005816e-01,\n",
       "       -2.99320191e-01, -1.04486859e+00, -5.42748749e-01,  3.23043823e-01,\n",
       "        9.65971172e-01, -2.73912072e-01,  3.20754856e-01, -5.12718976e-01,\n",
       "        1.72237232e-01,  2.42399678e-01, -2.67273515e-01,  5.09889126e-01,\n",
       "       -7.59456336e-01, -2.59349972e-01, -1.19170010e+00, -1.42585599e+00,\n",
       "        3.16431731e-01,  9.65144765e-03, -4.74578708e-01,  1.72841743e-01,\n",
       "        1.24679826e-01,  1.60571671e+00, -1.04608186e-01, -1.11828554e+00,\n",
       "       -3.02668899e-01,  3.47565025e-01,  6.50522947e-01, -1.99544013e-01,\n",
       "        1.31109726e+00, -3.54288854e-02,  7.73263037e-01, -6.71947718e-01,\n",
       "       -1.14599574e+00, -3.02299947e-01,  8.82732198e-02, -3.76345724e-01,\n",
       "        1.05573034e+00, -1.16043675e+00, -3.11150819e-01, -2.05929741e-01,\n",
       "       -3.07037383e-01, -8.80230248e-01,  3.40135664e-01,  2.06435248e-01,\n",
       "       -8.06359470e-01, -1.90239429e-01,  3.01575214e-01, -3.46296340e-01,\n",
       "       -1.09358482e-01,  1.99195981e-01,  6.44383848e-01,  1.61451414e-01,\n",
       "       -9.45831537e-01, -6.47332907e-01,  6.06222451e-02, -9.58798230e-01,\n",
       "        5.09552181e-01,  2.16814816e-01, -1.86820075e-01,  3.25629234e-01,\n",
       "        1.59612045e-01,  4.72223043e-01,  1.14361989e+00,  9.65243995e-01,\n",
       "        7.06795633e-01, -8.95690620e-01,  1.04433835e-01,  5.47471941e-01,\n",
       "       -4.72187787e-01, -2.14659750e-01, -3.65004092e-01,  2.32804958e-02,\n",
       "       -8.58294070e-01, -5.13283670e-01, -2.07865909e-01,  1.12602198e+00,\n",
       "        1.91043377e-01, -3.83662552e-01,  3.94334882e-01,  9.40484345e-01,\n",
       "        7.60469139e-02, -7.11167812e-01,  1.46760806e-01,  1.23195732e+00,\n",
       "       -9.74364936e-01,  2.91567475e-01, -6.07708395e-01, -9.14382637e-01,\n",
       "       -1.08280003e+00,  2.36889660e-01, -6.36484250e-02, -1.43648654e-01,\n",
       "       -3.52682501e-01, -1.90303460e-01,  1.07953370e+00, -3.80540222e-01,\n",
       "        5.84812224e-01, -5.46840727e-01, -5.63912332e-01,  6.79039538e-01,\n",
       "        5.72493434e-01, -6.13163412e-01, -4.82658148e-01, -9.36781392e-02,\n",
       "       -7.65935332e-02, -2.61720806e-01,  3.51628631e-01, -9.36068356e-01,\n",
       "       -1.29826933e-01,  1.77178442e-01, -2.71721601e-01,  5.86757481e-01,\n",
       "       -1.46303520e-01,  3.55538636e-01,  1.12233555e+00,  7.70576894e-01,\n",
       "        3.51125628e-01,  1.65659368e-01,  9.91768017e-02, -9.69081104e-01,\n",
       "        5.76374352e-01,  3.10982078e-01, -5.41674912e-01, -7.23984301e-01,\n",
       "        1.59431860e-01,  8.54485750e-01, -4.22790617e-01,  3.41341496e-01,\n",
       "        3.19877177e-01,  5.20087421e-01,  3.80572639e-02,  6.19612634e-01,\n",
       "        2.08576038e-01, -6.68157041e-01,  7.85194635e-01,  8.16083420e-03,\n",
       "       -6.25229299e-01, -1.43707171e-01, -2.26279989e-01,  7.04144657e-01,\n",
       "        1.76684842e-01,  9.30616200e-01, -2.15130687e-01, -3.33079159e-01,\n",
       "       -7.08164275e-01, -2.23144174e-01, -1.02014206e-01,  6.81685448e-01,\n",
       "        9.87073600e-01, -3.02939415e-02,  2.25135043e-01, -4.67254072e-01,\n",
       "       -1.31116140e+00, -8.50223780e-01, -5.53309143e-01,  5.18152773e-01,\n",
       "       -4.71281894e-02, -6.35387823e-02, -4.71088648e-01,  1.83771178e-01,\n",
       "        7.82783747e-01, -2.02298220e-02, -1.22843921e+00, -2.14742318e-01,\n",
       "        6.00702107e-01,  9.50110912e-01, -1.70149818e-01, -1.35926020e+00,\n",
       "       -5.26938736e-02,  4.53417331e-01, -3.10927123e-01, -2.38443166e-02,\n",
       "        1.78111985e-01, -4.47746783e-01, -1.88253596e-01, -8.97555649e-01,\n",
       "       -1.37480199e-02, -1.58747450e-01,  7.47205555e-01, -7.13373661e-01,\n",
       "       -6.77357167e-02,  2.75619835e-01, -6.43857062e-01,  4.96662468e-01,\n",
       "        4.54593271e-01,  8.32744658e-01, -8.76151919e-02, -4.01001982e-02,\n",
       "       -2.26199672e-01, -7.76430607e-01, -2.19366506e-01, -4.05806988e-01,\n",
       "       -6.26716197e-01,  8.22461128e-01,  5.48131466e-02,  2.91190654e-01,\n",
       "        2.89668471e-01, -1.20867777e+00,  1.03949797e+00,  4.80972439e-01,\n",
       "       -2.06652954e-01,  1.01210713e-01,  3.43108624e-01, -3.75657082e-01,\n",
       "       -2.82596558e-01,  4.91836518e-01,  6.03014648e-01, -8.17851961e-01,\n",
       "        3.96142483e-01,  2.78198216e-02,  6.09403372e-01,  4.92117524e-01,\n",
       "        2.71955933e-02, -2.03697041e-01, -8.09115946e-01, -3.41526061e-01,\n",
       "       -1.12762535e+00,  1.83724284e-01, -2.47729227e-01, -6.44634441e-02,\n",
       "        5.24385631e-01, -3.99140269e-01, -4.26797390e-01,  4.21675771e-01,\n",
       "       -1.57380331e+00, -6.23377025e-01,  2.89603067e-03,  1.69176295e-01,\n",
       "       -2.73289710e-01, -9.62176993e-02, -3.69788259e-01, -8.36432695e-01,\n",
       "       -1.86654821e-01,  1.89677462e-01, -5.49016833e-01, -4.55351830e-01,\n",
       "        1.80270255e+00, -8.21680367e-01, -1.32854307e+00, -1.47158757e-01,\n",
       "        4.44074541e-01,  1.13900554e+00,  2.44568110e-01, -6.98519051e-01,\n",
       "        6.82952881e-01, -1.85652375e-01,  5.86233556e-01, -4.82585669e-01,\n",
       "        7.83046484e-01,  1.42231512e+00,  5.59652627e-01, -2.78034117e-02,\n",
       "        1.36402115e-01, -9.63635385e-01,  6.23233855e-01,  3.19166332e-01,\n",
       "       -2.42498994e-01,  7.43639290e-01, -1.00802042e-01,  6.66234612e-01,\n",
       "        6.25546217e-01, -9.99921322e-01, -1.02085602e+00,  6.11333847e-01,\n",
       "       -3.16756487e-01,  5.92439473e-02, -4.77952242e-01,  6.13074780e-01,\n",
       "       -1.10952699e+00,  6.24726832e-01,  1.25827837e+00, -5.90736806e-01,\n",
       "       -8.33924532e-01, -7.19048604e-02, -8.59103739e-01, -5.68430126e-01,\n",
       "        6.21569417e-02,  9.50298786e-01,  2.32748196e-01,  6.38210833e-01,\n",
       "       -3.25162560e-01,  2.94990271e-01, -8.93481433e-01, -3.41365933e-01,\n",
       "        7.94795975e-02, -1.11585903e+00,  8.78101528e-01, -4.33063000e-01,\n",
       "       -2.15836704e-01,  1.53124645e-01,  4.34715480e-01,  1.49385691e-01,\n",
       "        1.08916372e-01,  5.32903016e-01, -8.07157815e-01,  1.24987566e+00,\n",
       "        4.60566759e-01,  1.19637735e-01,  6.43313751e-02, -2.89834172e-01,\n",
       "        4.38899308e-01, -1.08752871e+00,  2.71423966e-01, -5.41209221e-01,\n",
       "        5.55785000e-01,  1.07212491e-01,  7.26905540e-02,  9.73209441e-01,\n",
       "        4.50059533e-01,  6.76496997e-02, -8.69327784e-02, -5.35709321e-01,\n",
       "       -1.56459346e-01,  1.78654745e-01,  5.50960958e-01, -8.94095898e-02,\n",
       "       -4.88033265e-01,  5.63162148e-01, -2.53350377e-01, -7.56001651e-01,\n",
       "       -6.15959847e-03, -2.86040545e-01,  1.38256684e-01, -4.44683939e-01,\n",
       "        6.18692696e-01,  6.15431070e-01,  2.64623791e-01,  3.12221289e-01,\n",
       "       -1.96379468e-01,  1.27896702e+00, -1.03205748e-01,  2.36375734e-01,\n",
       "       -8.57088149e-01, -2.83838063e-01,  1.89583227e-02, -2.65092999e-01,\n",
       "        1.53024518e+00, -1.12374328e-01,  4.43639278e-01,  3.74813050e-01,\n",
       "       -4.68077451e-01,  7.97050953e-01,  3.38680029e-01,  7.30722770e-02,\n",
       "        2.75311857e-01,  1.71491459e-01, -1.09318924e+00,  2.46233180e-01,\n",
       "       -7.23347068e-02, -3.87462109e-01,  7.68260181e-01,  4.18925762e-01,\n",
       "        2.42701662e-03, -4.33507860e-02,  3.75917554e-02,  1.12950778e+00,\n",
       "       -1.86426386e-01, -1.53541580e-01, -5.47868311e-01,  6.79321662e-02,\n",
       "        3.05381060e-01, -8.05027723e-01, -6.35958552e-01,  5.01054108e-01,\n",
       "       -6.74148560e-01, -6.80303156e-01, -1.79539099e-01, -6.61425531e-01,\n",
       "        6.69767559e-01,  9.39956665e-01,  4.63052422e-01,  1.50601673e+00,\n",
       "        4.57692007e-03,  3.70855182e-01, -8.09773922e-01,  6.17990196e-01,\n",
       "       -2.45680916e-03,  1.38484284e-01,  4.12467480e-01, -3.07096153e-01,\n",
       "       -3.89364332e-01,  1.48485765e-01,  6.36740685e-01,  3.82913679e-01,\n",
       "       -8.51000845e-01, -2.72085369e-02, -8.74928057e-01,  4.13773745e-01,\n",
       "       -9.76151943e-01, -6.59974217e-01, -2.62287527e-01,  2.31673762e-01,\n",
       "       -8.61369312e-01,  2.00418949e-01,  1.15553677e+00, -5.92206776e-01,\n",
       "       -2.33221248e-01,  9.11433101e-02, -1.87199041e-01,  6.62431300e-01,\n",
       "       -6.81480408e-01, -2.38331482e-01,  2.13317394e-01, -7.80488074e-01,\n",
       "       -4.80822623e-02,  2.61023074e-01,  3.58683914e-01,  2.32617840e-01,\n",
       "       -9.73837554e-01,  2.76022762e-01,  6.81713521e-01,  4.22948390e-01,\n",
       "        2.29106605e-01, -6.30869448e-01, -3.31873626e-01,  4.32593040e-02,\n",
       "       -1.11810827e+00, -8.07252347e-01,  1.25352636e-01,  1.02736390e+00,\n",
       "       -3.73979419e-01,  8.38540077e-01, -1.45033777e-01, -5.94660282e-01,\n",
       "        1.36958659e-01,  6.58981621e-01,  9.37788486e-02, -6.49355724e-02],\n",
       "      dtype=float32)"
      ]
     },
     "execution_count": 61,
     "metadata": {},
     "output_type": "execute_result"
    }
   ],
   "source": [
    "model.encode('python')"
   ]
  },
  {
   "cell_type": "code",
   "execution_count": 62,
   "id": "18ede162-5f9f-4509-a752-ce57dbeb7abc",
   "metadata": {},
   "outputs": [],
   "source": [
    "def bert_similarity(sen1, sen2, model):\n",
    "    p_sen1 = preprocess(sen1)\n",
    "    p_sen2 = preprocess(sen2)\n",
    "    sen_vec1 = model.encode(p_sen1).flatten()\n",
    "    sen_vec2 = model.encode(p_sen2).flatten()\n",
    "    return dot(sen_vec1, sen_vec2) / (norm(sen_vec1) * norm(sen_vec2))"
   ]
  },
  {
   "cell_type": "code",
   "execution_count": 63,
   "id": "aa7b4126-4676-498d-a7b2-7cb424c8266e",
   "metadata": {},
   "outputs": [],
   "source": [
    "def BERTsimilarity(skill,required,model):\n",
    "    p_skill=preprocess(skill)\n",
    "    p_required=preprocess(required)\n",
    "    result=[]\n",
    "    for i in range(len(p_required)):\n",
    "        similarities=[]\n",
    "        for j in range(len(p_skill)):\n",
    "            similarities.append(bert_similarity(p_skill[j],p_required[i],model))\n",
    "        result.append(max(similarities)) \n",
    "    result = [0 if pd.isna(x) else x for x in result]    \n",
    "    if len(result) > 0:\n",
    "        avg_similarity = sum(result) / len(result)\n",
    "    else:\n",
    "        avg_similarity = 0\n",
    "        \n",
    "    return avg_similarity,required,result    \n",
    "    #we returned the similarity score , the required skills  ,all similiraty for every word alone"
   ]
  },
  {
   "cell_type": "code",
   "execution_count": 64,
   "id": "cc4adb60-cbaf-4da3-8ba3-f3ca09a048cb",
   "metadata": {},
   "outputs": [
    {
     "data": {
      "text/plain": [
       "(1.0000001192092896, 'Java', [1.0000001])"
      ]
     },
     "execution_count": 64,
     "metadata": {},
     "output_type": "execute_result"
    }
   ],
   "source": [
    "BERTsimilarity('Android,Java,Cloud','Java',model)"
   ]
  },
  {
   "cell_type": "code",
   "execution_count": 65,
   "id": "eaa4d9e3-6238-43da-a80e-ad3692ed3cd0",
   "metadata": {
    "collapsed": true,
    "jupyter": {
     "outputs_hidden": true
    },
    "tags": []
   },
   "outputs": [
    {
     "data": {
      "text/plain": [
       "(0.7070480684439341, 'Android,Java,Cloud', [0.67967814, 1.0000001, 0.44146594])"
      ]
     },
     "execution_count": 65,
     "metadata": {},
     "output_type": "execute_result"
    }
   ],
   "source": [
    "BERTsimilarity('Java','Android,Java,Cloud',model)\n"
   ]
  },
  {
   "cell_type": "code",
   "execution_count": 66,
   "id": "b3829fcf-f92f-49ec-91b9-ee53d250e073",
   "metadata": {
    "collapsed": true,
    "jupyter": {
     "outputs_hidden": true
    },
    "tags": []
   },
   "outputs": [
    {
     "data": {
      "text/plain": [
       "(0.6702160629400611,\n",
       " 'Android,Java,Cloud',\n",
       " [0.8247132502617905, 1.0, 0.185934938558393])"
      ]
     },
     "execution_count": 66,
     "metadata": {},
     "output_type": "execute_result"
    }
   ],
   "source": [
    "similarity('Java','Android,Java,Cloud',emb_vec)\n"
   ]
  },
  {
   "cell_type": "code",
   "execution_count": 67,
   "id": "b3e123ea-afc8-48b3-a34e-16d41610bfcf",
   "metadata": {},
   "outputs": [
    {
     "data": {
      "text/plain": [
       "(0.185934938558393, 'cloud', [0.185934938558393])"
      ]
     },
     "execution_count": 67,
     "metadata": {},
     "output_type": "execute_result"
    }
   ],
   "source": [
    "similarity('Java','cloud',emb_vec)"
   ]
  },
  {
   "cell_type": "code",
   "execution_count": 76,
   "id": "75841d8c-5b0e-4740-b635-34fb381bfdcc",
   "metadata": {},
   "outputs": [
    {
     "data": {
      "text/plain": [
       "(0.44146594405174255, 'cloud', [0.44146594])"
      ]
     },
     "execution_count": 76,
     "metadata": {},
     "output_type": "execute_result"
    }
   ],
   "source": [
    "BERTsimilarity('Java','cloud',model)"
   ]
  },
  {
   "cell_type": "code",
   "execution_count": 77,
   "id": "1e2648a5-8f27-4e9c-8d98-8922b7b08343",
   "metadata": {
    "tags": []
   },
   "outputs": [
    {
     "data": {
      "text/plain": [
       "(0.7424085349948318,\n",
       " ['Collaboration',\n",
       "  'architecture',\n",
       "  'design',\n",
       "  'deployment solutions',\n",
       "  'system integration',\n",
       "  'automation',\n",
       "  'execution support',\n",
       "  'pipeline deployments',\n",
       "  'ALM tools',\n",
       "  'cyber security',\n",
       "  'SW deployments',\n",
       "  'automation functional regression tests',\n",
       "  'continuous integration',\n",
       "  'environments infrastructures',\n",
       "  'continuous monitoring',\n",
       "  'automatic deployment tools ( Terraform',\n",
       "  'Ansible',\n",
       "  'etc . )',\n",
       "  'cloud architectures ( vCloud',\n",
       "  'Azure',\n",
       "  'AWS )',\n",
       "  'monitoring tools',\n",
       "  'OpenShift',\n",
       "  'DockerHub',\n",
       "  'Kubernetes',\n",
       "  'CloudALM',\n",
       "  'Jira',\n",
       "  'Confluence',\n",
       "  'Git',\n",
       "  'Jenkins ( CloudBees )',\n",
       "  'Nexus',\n",
       "  'SonarHarbour',\n",
       "  'scripting languages ( Groovy',\n",
       "  'Python',\n",
       "  'JavaScript',\n",
       "  'etc . )',\n",
       "  'PostgreSQL',\n",
       "  'MongoDB',\n",
       "  'AzureCosmosDB'],\n",
       " [0.8266571,\n",
       "  0.60174066,\n",
       "  0.8234171,\n",
       "  0.81405544,\n",
       "  0.8387943,\n",
       "  0.86670685,\n",
       "  0.7367999,\n",
       "  0.8197017,\n",
       "  0.74529076,\n",
       "  0.64547867,\n",
       "  0.81405544,\n",
       "  0.7248997,\n",
       "  0.6007641,\n",
       "  0.8300316,\n",
       "  0.81405544,\n",
       "  0.7367999,\n",
       "  0.8224602,\n",
       "  0.66631234,\n",
       "  0.7566851,\n",
       "  0.85189503,\n",
       "  0.86670685,\n",
       "  0.786881,\n",
       "  0.6217613,\n",
       "  0.85189503,\n",
       "  0.85057575,\n",
       "  0.6448704,\n",
       "  0.81405544,\n",
       "  0.7248997,\n",
       "  0.6639383,\n",
       "  0.844398,\n",
       "  0.64650965,\n",
       "  0.60174066,\n",
       "  0.7018461,\n",
       "  0.8032066,\n",
       "  0.85057575,\n",
       "  0.7248997,\n",
       "  0.73782957,\n",
       "  0.757843,\n",
       "  0.77408767,\n",
       "  0.67751193,\n",
       "  0.8224402,\n",
       "  0.7139464,\n",
       "  0.82597417,\n",
       "  0.6999075,\n",
       "  0.80950963,\n",
       "  0.64183545,\n",
       "  0.8246391,\n",
       "  0.7939175,\n",
       "  0.7640438,\n",
       "  0.5033187,\n",
       "  0.46316397,\n",
       "  0.65738004,\n",
       "  0.7299704,\n",
       "  0.55738026])"
      ]
     },
     "execution_count": 77,
     "metadata": {},
     "output_type": "execute_result"
    }
   ],
   "source": [
    "BERTsimilarity(df2['skills'][4],df1['skill_required'][2],model)"
   ]
  },
  {
   "cell_type": "code",
   "execution_count": 71,
   "id": "69261af4-7b7b-45da-b0f1-c483c5d15065",
   "metadata": {},
   "outputs": [],
   "source": [
    "def Bmatch_person(cv_row,jbdf,emb_vec):\n",
    "    sim_score=0\n",
    "    for j in range(len(jbdf)):\n",
    "        s=BERTsimilarity(cv_row['skills'],jbdf['skill_required'][j] , emb_vec)[0]\n",
    "        if s>sim_score:\n",
    "            sim_score, skills_list, score_list = similarity(cv_row['skills'],jbdf['skill_required'][j] , emb_vec)\n",
    "            row_job=jbdf.iloc[j]\n",
    "    return row_job,sim_score,skills_list,score_list  "
   ]
  },
  {
   "cell_type": "code",
   "execution_count": null,
   "id": "b3a53b6a-5595-4dbf-9377-4004c40b084b",
   "metadata": {},
   "outputs": [],
   "source": [
    "Bmatch_person(df2.iloc[1],df1,model)"
   ]
  },
  {
   "cell_type": "code",
   "execution_count": 74,
   "id": "6c44f4f1-6deb-4fa7-b32f-fa63e7fa0f0b",
   "metadata": {},
   "outputs": [
    {
     "ename": "ValueError",
     "evalue": "shapes (768,) and (0,) not aligned: 768 (dim 0) != 0 (dim 0)",
     "output_type": "error",
     "traceback": [
      "\u001b[1;31m---------------------------------------------------------------------------\u001b[0m",
      "\u001b[1;31mValueError\u001b[0m                                Traceback (most recent call last)",
      "Cell \u001b[1;32mIn[74], line 1\u001b[0m\n\u001b[1;32m----> 1\u001b[0m \u001b[43mBmatch_job\u001b[49m\u001b[43m(\u001b[49m\u001b[43mdf1\u001b[49m\u001b[38;5;241;43m.\u001b[39;49m\u001b[43miloc\u001b[49m\u001b[43m[\u001b[49m\u001b[38;5;241;43m3\u001b[39;49m\u001b[43m]\u001b[49m\u001b[43m,\u001b[49m\u001b[43mdf2\u001b[49m\u001b[43m,\u001b[49m\u001b[43mmodel\u001b[49m\u001b[43m)\u001b[49m\n",
      "Cell \u001b[1;32mIn[73], line 4\u001b[0m, in \u001b[0;36mBmatch_job\u001b[1;34m(jb_row, cvdf, emb_vec)\u001b[0m\n\u001b[0;32m      2\u001b[0m sim_score\u001b[38;5;241m=\u001b[39m\u001b[38;5;241m0\u001b[39m\n\u001b[0;32m      3\u001b[0m \u001b[38;5;28;01mfor\u001b[39;00m j \u001b[38;5;129;01min\u001b[39;00m \u001b[38;5;28mrange\u001b[39m(\u001b[38;5;28mlen\u001b[39m(cvdf)):\n\u001b[1;32m----> 4\u001b[0m     s\u001b[38;5;241m=\u001b[39m\u001b[43mBERTsimilarity\u001b[49m\u001b[43m(\u001b[49m\u001b[43mcvdf\u001b[49m\u001b[43m[\u001b[49m\u001b[38;5;124;43m'\u001b[39;49m\u001b[38;5;124;43mskills\u001b[39;49m\u001b[38;5;124;43m'\u001b[39;49m\u001b[43m]\u001b[49m\u001b[43m[\u001b[49m\u001b[43mj\u001b[49m\u001b[43m]\u001b[49m\u001b[43m,\u001b[49m\u001b[43mjb_row\u001b[49m\u001b[43m[\u001b[49m\u001b[38;5;124;43m'\u001b[39;49m\u001b[38;5;124;43mskill_required\u001b[39;49m\u001b[38;5;124;43m'\u001b[39;49m\u001b[43m]\u001b[49m\u001b[43m \u001b[49m\u001b[43m,\u001b[49m\u001b[43m \u001b[49m\u001b[43memb_vec\u001b[49m\u001b[43m)\u001b[49m[\u001b[38;5;241m0\u001b[39m]\n\u001b[0;32m      5\u001b[0m     \u001b[38;5;28;01mif\u001b[39;00m s\u001b[38;5;241m>\u001b[39msim_score:\n\u001b[0;32m      6\u001b[0m         sim_score, skills_list, score_list \u001b[38;5;241m=\u001b[39m similarity(cvdf[\u001b[38;5;124m'\u001b[39m\u001b[38;5;124mskills\u001b[39m\u001b[38;5;124m'\u001b[39m][j],jb_row[\u001b[38;5;124m'\u001b[39m\u001b[38;5;124mskill_required\u001b[39m\u001b[38;5;124m'\u001b[39m] , emb_vec)\n",
      "Cell \u001b[1;32mIn[63], line 8\u001b[0m, in \u001b[0;36mBERTsimilarity\u001b[1;34m(skill, required, model)\u001b[0m\n\u001b[0;32m      6\u001b[0m     similarities\u001b[38;5;241m=\u001b[39m[]\n\u001b[0;32m      7\u001b[0m     \u001b[38;5;28;01mfor\u001b[39;00m j \u001b[38;5;129;01min\u001b[39;00m \u001b[38;5;28mrange\u001b[39m(\u001b[38;5;28mlen\u001b[39m(p_skill)):\n\u001b[1;32m----> 8\u001b[0m         similarities\u001b[38;5;241m.\u001b[39mappend(\u001b[43mbert_similarity\u001b[49m\u001b[43m(\u001b[49m\u001b[43mp_skill\u001b[49m\u001b[43m[\u001b[49m\u001b[43mj\u001b[49m\u001b[43m]\u001b[49m\u001b[43m,\u001b[49m\u001b[43mp_required\u001b[49m\u001b[43m[\u001b[49m\u001b[43mi\u001b[49m\u001b[43m]\u001b[49m\u001b[43m,\u001b[49m\u001b[43mmodel\u001b[49m\u001b[43m)\u001b[49m)\n\u001b[0;32m      9\u001b[0m     result\u001b[38;5;241m.\u001b[39mappend(\u001b[38;5;28mmax\u001b[39m(similarities)) \n\u001b[0;32m     10\u001b[0m result \u001b[38;5;241m=\u001b[39m [\u001b[38;5;241m0\u001b[39m \u001b[38;5;28;01mif\u001b[39;00m pd\u001b[38;5;241m.\u001b[39misna(x) \u001b[38;5;28;01melse\u001b[39;00m x \u001b[38;5;28;01mfor\u001b[39;00m x \u001b[38;5;129;01min\u001b[39;00m result]    \n",
      "Cell \u001b[1;32mIn[62], line 6\u001b[0m, in \u001b[0;36mbert_similarity\u001b[1;34m(sen1, sen2, model)\u001b[0m\n\u001b[0;32m      4\u001b[0m sen_vec1 \u001b[38;5;241m=\u001b[39m model\u001b[38;5;241m.\u001b[39mencode(p_sen1)\u001b[38;5;241m.\u001b[39mflatten()\n\u001b[0;32m      5\u001b[0m sen_vec2 \u001b[38;5;241m=\u001b[39m model\u001b[38;5;241m.\u001b[39mencode(p_sen2)\u001b[38;5;241m.\u001b[39mflatten()\n\u001b[1;32m----> 6\u001b[0m \u001b[38;5;28;01mreturn\u001b[39;00m \u001b[43mdot\u001b[49m\u001b[43m(\u001b[49m\u001b[43msen_vec1\u001b[49m\u001b[43m,\u001b[49m\u001b[43m \u001b[49m\u001b[43msen_vec2\u001b[49m\u001b[43m)\u001b[49m \u001b[38;5;241m/\u001b[39m (norm(sen_vec1) \u001b[38;5;241m*\u001b[39m norm(sen_vec2))\n",
      "File \u001b[1;32m<__array_function__ internals>:180\u001b[0m, in \u001b[0;36mdot\u001b[1;34m(*args, **kwargs)\u001b[0m\n",
      "\u001b[1;31mValueError\u001b[0m: shapes (768,) and (0,) not aligned: 768 (dim 0) != 0 (dim 0)"
     ]
    }
   ],
   "source": [
    "Bmatch_job(df1.iloc[3],df2,model)"
   ]
  },
  {
   "cell_type": "code",
   "execution_count": 73,
   "id": "7c645cc0-6e6a-483e-a7f5-9a9aba0f96f7",
   "metadata": {},
   "outputs": [],
   "source": [
    "def Bmatch_job(jb_row,cvdf,emb_vec):\n",
    "    sim_score=0\n",
    "    for j in range(len(cvdf)):\n",
    "        s=BERTsimilarity(cvdf['skills'][j],jb_row['skill_required'] , emb_vec)[0]\n",
    "        if s>sim_score:\n",
    "            sim_score, skills_list, score_list = similarity(cvdf['skills'][j],jb_row['skill_required'] , emb_vec)\n",
    "            row_job=cvdf.iloc[j]\n",
    "    return row_job,sim_score,skills_list,score_list  "
   ]
  },
  {
   "cell_type": "code",
   "execution_count": 78,
   "id": "052b4df8-6e67-4321-b064-e9134abef84c",
   "metadata": {},
   "outputs": [],
   "source": [
    "w2v_model = Word2Vec.load('word2vec_model_noSW')\n"
   ]
  }
 ],
 "metadata": {
  "kernelspec": {
   "display_name": "Python 3 (ipykernel)",
   "language": "python",
   "name": "python3"
  },
  "language_info": {
   "codemirror_mode": {
    "name": "ipython",
    "version": 3
   },
   "file_extension": ".py",
   "mimetype": "text/x-python",
   "name": "python",
   "nbconvert_exporter": "python",
   "pygments_lexer": "ipython3",
   "version": "3.10.9"
  }
 },
 "nbformat": 4,
 "nbformat_minor": 5
}
