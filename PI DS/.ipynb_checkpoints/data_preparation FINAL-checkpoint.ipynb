{
 "cells": [
  {
   "cell_type": "code",
   "execution_count": 62,
   "id": "5dbf58d7",
   "metadata": {},
   "outputs": [],
   "source": [
    "import numpy as np\n",
    "import pandas as pd\n",
    "import matplotlib.pyplot as plt\n",
    "from numpy import isnan\n",
    "from pandas import read_csv"
   ]
  },
  {
   "cell_type": "code",
   "execution_count": 63,
   "id": "821bf640",
   "metadata": {
    "scrolled": true
   },
   "outputs": [
    {
     "name": "stdout",
     "output_type": "stream",
     "text": [
      "Requirement already satisfied: pymongo in c:\\users\\guira\\anaconda3\\lib\\site-packages (4.3.3)\n",
      "Requirement already satisfied: dnspython<3.0.0,>=1.16.0 in c:\\users\\guira\\anaconda3\\lib\\site-packages (from pymongo) (2.3.0)\n",
      "Note: you may need to restart the kernel to use updated packages.\n"
     ]
    }
   ],
   "source": [
    "pip install pymongo"
   ]
  },
  {
   "cell_type": "code",
   "execution_count": 1030,
   "id": "467ddd88",
   "metadata": {},
   "outputs": [],
   "source": [
    "import pymongo\n",
    "from pymongo import MongoClient"
   ]
  },
  {
   "cell_type": "code",
   "execution_count": 1031,
   "id": "4c4ec98f",
   "metadata": {},
   "outputs": [],
   "source": [
    "myclient = pymongo.MongoClient(\"mongodb://localhost:27017\")"
   ]
  },
  {
   "cell_type": "code",
   "execution_count": 1032,
   "id": "62a38653",
   "metadata": {},
   "outputs": [],
   "source": [
    "client = MongoClient('mongodb://localhost:27017/')\n",
    "db = client['cv']\n",
    "collection = db['eleves']"
   ]
  },
  {
   "cell_type": "code",
   "execution_count": 1033,
   "id": "be17d7cd",
   "metadata": {},
   "outputs": [],
   "source": [
    "data=collection.find()"
   ]
  },
  {
   "cell_type": "code",
   "execution_count": 1034,
   "id": "92875405",
   "metadata": {},
   "outputs": [
    {
     "data": {
      "text/plain": [
       "<pymongo.cursor.Cursor at 0x29ff1729b20>"
      ]
     },
     "execution_count": 1034,
     "metadata": {},
     "output_type": "execute_result"
    }
   ],
   "source": [
    "data"
   ]
  },
  {
   "cell_type": "code",
   "execution_count": 1035,
   "id": "86787dee",
   "metadata": {},
   "outputs": [],
   "source": [
    "import pandas as pd\n",
    "df = pd.DataFrame(list(data))"
   ]
  },
  {
   "cell_type": "code",
   "execution_count": 1036,
   "id": "50e9b509",
   "metadata": {},
   "outputs": [
    {
     "data": {
      "text/html": [
       "<div>\n",
       "<style scoped>\n",
       "    .dataframe tbody tr th:only-of-type {\n",
       "        vertical-align: middle;\n",
       "    }\n",
       "\n",
       "    .dataframe tbody tr th {\n",
       "        vertical-align: top;\n",
       "    }\n",
       "\n",
       "    .dataframe thead th {\n",
       "        text-align: right;\n",
       "    }\n",
       "</style>\n",
       "<table border=\"1\" class=\"dataframe\">\n",
       "  <thead>\n",
       "    <tr style=\"text-align: right;\">\n",
       "      <th></th>\n",
       "      <th>_id</th>\n",
       "      <th>URL</th>\n",
       "      <th>job_title</th>\n",
       "      <th>location</th>\n",
       "      <th>Name</th>\n",
       "      <th>company</th>\n",
       "      <th>skills</th>\n",
       "      <th>experiences</th>\n",
       "    </tr>\n",
       "  </thead>\n",
       "  <tbody>\n",
       "    <tr>\n",
       "      <th>0</th>\n",
       "      <td>642b8071f246b83896bba6ac</td>\n",
       "      <td>https://www.linkedin.com/in/talel-kb/</td>\n",
       "      <td>Web developer &amp; software engineering student</td>\n",
       "      <td>Gouvernorat Tunis, Tunisie</td>\n",
       "      <td>Talel Kbaier</td>\n",
       "      <td>Triweb</td>\n",
       "      <td>Analyse de données, Compétences analytiques, F...</td>\n",
       "      <td>Développeur web:janv. 2023 - aujourd’hui · 2 m...</td>\n",
       "    </tr>\n",
       "    <tr>\n",
       "      <th>1</th>\n",
       "      <td>642b8071f246b83896bba6ad</td>\n",
       "      <td>https://www.linkedin.com/in/omar-talbi-sfax/</td>\n",
       "      <td>Freelance Web Developer</td>\n",
       "      <td>Gouvernorat Sfax, Tunisie</td>\n",
       "      <td>Omar Talbi</td>\n",
       "      <td>Freelance</td>\n",
       "      <td>Laravel, React, JavaScript, PHP, Microsoft Bot...</td>\n",
       "      <td>Freelance Web Developer:août 2019 - aujourd’hu...</td>\n",
       "    </tr>\n",
       "    <tr>\n",
       "      <th>2</th>\n",
       "      <td>642b8071f246b83896bba6ae</td>\n",
       "      <td>https://www.linkedin.com/in/hassen-knani-21991...</td>\n",
       "      <td>Web developer chez ZETABOX</td>\n",
       "      <td>Gouvernorat Sfax, Tunisie</td>\n",
       "      <td>Hassen Knani</td>\n",
       "      <td>GOMYCODE</td>\n",
       "      <td>Management, Service client, Microsoft Office, ...</td>\n",
       "      <td>React Js Instructor:mars 2022 - aujourd’hui · ...</td>\n",
       "    </tr>\n",
       "    <tr>\n",
       "      <th>3</th>\n",
       "      <td>642b8071f246b83896bba6af</td>\n",
       "      <td>https://www.linkedin.com/in/safwendammak/</td>\n",
       "      <td>Freelance Web Developer</td>\n",
       "      <td>Gouvernorat Sfax, Tunisie</td>\n",
       "      <td>Safwen Dammak</td>\n",
       "      <td>PixiMind</td>\n",
       "      <td>Angular, PHP/Symfony, Développement web, Dével...</td>\n",
       "      <td>Web Developer:oct. 2020 - févr. 2022 · 1 an 5 ...</td>\n",
       "    </tr>\n",
       "    <tr>\n",
       "      <th>4</th>\n",
       "      <td>642b8071f246b83896bba6b0</td>\n",
       "      <td>https://www.linkedin.com/in/oumayma-b%C3%A9hi-...</td>\n",
       "      <td>web &amp; mobile developer 💻</td>\n",
       "      <td>Tunis, Gouvernorat Tunis, Tunisie</td>\n",
       "      <td>Oumayma Béhi</td>\n",
       "      <td>SIGA</td>\n",
       "      <td>NaN</td>\n",
       "      <td>Projet de fin d’études:févr. 2022 - juin 2022 ...</td>\n",
       "    </tr>\n",
       "    <tr>\n",
       "      <th>...</th>\n",
       "      <td>...</td>\n",
       "      <td>...</td>\n",
       "      <td>...</td>\n",
       "      <td>...</td>\n",
       "      <td>...</td>\n",
       "      <td>...</td>\n",
       "      <td>...</td>\n",
       "      <td>...</td>\n",
       "    </tr>\n",
       "    <tr>\n",
       "      <th>459</th>\n",
       "      <td>642b8071f246b83896bba877</td>\n",
       "      <td>https://www.linkedin.com/in/khaoula-ben-othman...</td>\n",
       "      <td>Data Science Engineer</td>\n",
       "      <td>Tunisia</td>\n",
       "      <td>khaoula Ben othman</td>\n",
       "      <td>NaN</td>\n",
       "      <td>MongoDB, RStudio, Business Intelligence (BI), ...</td>\n",
       "      <td>nan:nan,nan:nan</td>\n",
       "    </tr>\n",
       "    <tr>\n",
       "      <th>460</th>\n",
       "      <td>642b8071f246b83896bba878</td>\n",
       "      <td>https://www.linkedin.com/in/farah-abid-989683191/</td>\n",
       "      <td>Data Science Enthusiast</td>\n",
       "      <td>Sfax, Tunisia</td>\n",
       "      <td>Farah Abid</td>\n",
       "      <td>Medicacom</td>\n",
       "      <td>Analyse de données, nlp, Extraction de données...</td>\n",
       "      <td>Data Science Intern:Oct 2022 - Present · 5 mos...</td>\n",
       "    </tr>\n",
       "    <tr>\n",
       "      <th>461</th>\n",
       "      <td>642b8071f246b83896bba879</td>\n",
       "      <td>https://www.linkedin.com/in/achref-cherif-data...</td>\n",
       "      <td>Data Scientist | Founder &amp; CEO of Data Science...</td>\n",
       "      <td>Tunis, Tunis, Tunisia</td>\n",
       "      <td>Achref Cherif</td>\n",
       "      <td>TEK-UP</td>\n",
       "      <td>Extract, Transform, Load (ETL), Analytical Ski...</td>\n",
       "      <td>Data Scientist:Sep 2020 - Present · 2 yrs 6 mo...</td>\n",
       "    </tr>\n",
       "    <tr>\n",
       "      <th>462</th>\n",
       "      <td>642b8071f246b83896bba87a</td>\n",
       "      <td>https://www.linkedin.com/in/hamza-samaiy/</td>\n",
       "      <td>Data science master Student | Works at Vermeg</td>\n",
       "      <td>Sousse, Tunisia</td>\n",
       "      <td>Hamza Samaiy</td>\n",
       "      <td>VERMEG for Banking &amp; Insurance Software</td>\n",
       "      <td>Développement web, JavaScript, PHP, Laravel, F...</td>\n",
       "      <td>Software Programmer:Jan 2023 - Present · 2 mos...</td>\n",
       "    </tr>\n",
       "    <tr>\n",
       "      <th>463</th>\n",
       "      <td>642b8071f246b83896bba87b</td>\n",
       "      <td>https://www.linkedin.com/in/zitouni-amal-286b9...</td>\n",
       "      <td>Ingénieur en informatique || Spécialité Data s...</td>\n",
       "      <td>Tunis, Tunisia</td>\n",
       "      <td>Zitouni Amal</td>\n",
       "      <td>TahaPharma</td>\n",
       "      <td>Microsoft Azure Machine Learning, Apprentissag...</td>\n",
       "      <td>Ingénieur BI:Oct 2022 - Present · 5 mos,Member...</td>\n",
       "    </tr>\n",
       "  </tbody>\n",
       "</table>\n",
       "<p>464 rows × 8 columns</p>\n",
       "</div>"
      ],
      "text/plain": [
       "                          _id  \\\n",
       "0    642b8071f246b83896bba6ac   \n",
       "1    642b8071f246b83896bba6ad   \n",
       "2    642b8071f246b83896bba6ae   \n",
       "3    642b8071f246b83896bba6af   \n",
       "4    642b8071f246b83896bba6b0   \n",
       "..                        ...   \n",
       "459  642b8071f246b83896bba877   \n",
       "460  642b8071f246b83896bba878   \n",
       "461  642b8071f246b83896bba879   \n",
       "462  642b8071f246b83896bba87a   \n",
       "463  642b8071f246b83896bba87b   \n",
       "\n",
       "                                                   URL  \\\n",
       "0                https://www.linkedin.com/in/talel-kb/   \n",
       "1         https://www.linkedin.com/in/omar-talbi-sfax/   \n",
       "2    https://www.linkedin.com/in/hassen-knani-21991...   \n",
       "3            https://www.linkedin.com/in/safwendammak/   \n",
       "4    https://www.linkedin.com/in/oumayma-b%C3%A9hi-...   \n",
       "..                                                 ...   \n",
       "459  https://www.linkedin.com/in/khaoula-ben-othman...   \n",
       "460  https://www.linkedin.com/in/farah-abid-989683191/   \n",
       "461  https://www.linkedin.com/in/achref-cherif-data...   \n",
       "462          https://www.linkedin.com/in/hamza-samaiy/   \n",
       "463  https://www.linkedin.com/in/zitouni-amal-286b9...   \n",
       "\n",
       "                                             job_title  \\\n",
       "0         Web developer & software engineering student   \n",
       "1                              Freelance Web Developer   \n",
       "2                           Web developer chez ZETABOX   \n",
       "3                              Freelance Web Developer   \n",
       "4                             web & mobile developer 💻   \n",
       "..                                                 ...   \n",
       "459                              Data Science Engineer   \n",
       "460                            Data Science Enthusiast   \n",
       "461  Data Scientist | Founder & CEO of Data Science...   \n",
       "462      Data science master Student | Works at Vermeg   \n",
       "463  Ingénieur en informatique || Spécialité Data s...   \n",
       "\n",
       "                              location                Name  \\\n",
       "0           Gouvernorat Tunis, Tunisie        Talel Kbaier   \n",
       "1            Gouvernorat Sfax, Tunisie          Omar Talbi   \n",
       "2            Gouvernorat Sfax, Tunisie        Hassen Knani   \n",
       "3            Gouvernorat Sfax, Tunisie       Safwen Dammak   \n",
       "4    Tunis, Gouvernorat Tunis, Tunisie        Oumayma Béhi   \n",
       "..                                 ...                 ...   \n",
       "459                            Tunisia  khaoula Ben othman   \n",
       "460                      Sfax, Tunisia          Farah Abid   \n",
       "461              Tunis, Tunis, Tunisia       Achref Cherif   \n",
       "462                    Sousse, Tunisia        Hamza Samaiy   \n",
       "463                     Tunis, Tunisia        Zitouni Amal   \n",
       "\n",
       "                                     company  \\\n",
       "0                                     Triweb   \n",
       "1                                  Freelance   \n",
       "2                                   GOMYCODE   \n",
       "3                                   PixiMind   \n",
       "4                                       SIGA   \n",
       "..                                       ...   \n",
       "459                                      NaN   \n",
       "460                                Medicacom   \n",
       "461                                   TEK-UP   \n",
       "462  VERMEG for Banking & Insurance Software   \n",
       "463                               TahaPharma   \n",
       "\n",
       "                                                skills  \\\n",
       "0    Analyse de données, Compétences analytiques, F...   \n",
       "1    Laravel, React, JavaScript, PHP, Microsoft Bot...   \n",
       "2    Management, Service client, Microsoft Office, ...   \n",
       "3    Angular, PHP/Symfony, Développement web, Dével...   \n",
       "4                                                  NaN   \n",
       "..                                                 ...   \n",
       "459  MongoDB, RStudio, Business Intelligence (BI), ...   \n",
       "460  Analyse de données, nlp, Extraction de données...   \n",
       "461  Extract, Transform, Load (ETL), Analytical Ski...   \n",
       "462  Développement web, JavaScript, PHP, Laravel, F...   \n",
       "463  Microsoft Azure Machine Learning, Apprentissag...   \n",
       "\n",
       "                                           experiences  \n",
       "0    Développeur web:janv. 2023 - aujourd’hui · 2 m...  \n",
       "1    Freelance Web Developer:août 2019 - aujourd’hu...  \n",
       "2    React Js Instructor:mars 2022 - aujourd’hui · ...  \n",
       "3    Web Developer:oct. 2020 - févr. 2022 · 1 an 5 ...  \n",
       "4    Projet de fin d’études:févr. 2022 - juin 2022 ...  \n",
       "..                                                 ...  \n",
       "459                                    nan:nan,nan:nan  \n",
       "460  Data Science Intern:Oct 2022 - Present · 5 mos...  \n",
       "461  Data Scientist:Sep 2020 - Present · 2 yrs 6 mo...  \n",
       "462  Software Programmer:Jan 2023 - Present · 2 mos...  \n",
       "463  Ingénieur BI:Oct 2022 - Present · 5 mos,Member...  \n",
       "\n",
       "[464 rows x 8 columns]"
      ]
     },
     "execution_count": 1036,
     "metadata": {},
     "output_type": "execute_result"
    }
   ],
   "source": [
    "df"
   ]
  },
  {
   "cell_type": "code",
   "execution_count": 1037,
   "id": "7596e7bf",
   "metadata": {},
   "outputs": [],
   "source": [
    "df.drop('_id', axis=1, inplace=True)"
   ]
  },
  {
   "cell_type": "code",
   "execution_count": 1038,
   "id": "410ddad1",
   "metadata": {},
   "outputs": [
    {
     "data": {
      "text/html": [
       "<div>\n",
       "<style scoped>\n",
       "    .dataframe tbody tr th:only-of-type {\n",
       "        vertical-align: middle;\n",
       "    }\n",
       "\n",
       "    .dataframe tbody tr th {\n",
       "        vertical-align: top;\n",
       "    }\n",
       "\n",
       "    .dataframe thead th {\n",
       "        text-align: right;\n",
       "    }\n",
       "</style>\n",
       "<table border=\"1\" class=\"dataframe\">\n",
       "  <thead>\n",
       "    <tr style=\"text-align: right;\">\n",
       "      <th></th>\n",
       "      <th>URL</th>\n",
       "      <th>job_title</th>\n",
       "      <th>location</th>\n",
       "      <th>Name</th>\n",
       "      <th>company</th>\n",
       "      <th>skills</th>\n",
       "      <th>experiences</th>\n",
       "    </tr>\n",
       "  </thead>\n",
       "  <tbody>\n",
       "    <tr>\n",
       "      <th>0</th>\n",
       "      <td>https://www.linkedin.com/in/talel-kb/</td>\n",
       "      <td>Web developer &amp; software engineering student</td>\n",
       "      <td>Gouvernorat Tunis, Tunisie</td>\n",
       "      <td>Talel Kbaier</td>\n",
       "      <td>Triweb</td>\n",
       "      <td>Analyse de données, Compétences analytiques, F...</td>\n",
       "      <td>Développeur web:janv. 2023 - aujourd’hui · 2 m...</td>\n",
       "    </tr>\n",
       "    <tr>\n",
       "      <th>1</th>\n",
       "      <td>https://www.linkedin.com/in/omar-talbi-sfax/</td>\n",
       "      <td>Freelance Web Developer</td>\n",
       "      <td>Gouvernorat Sfax, Tunisie</td>\n",
       "      <td>Omar Talbi</td>\n",
       "      <td>Freelance</td>\n",
       "      <td>Laravel, React, JavaScript, PHP, Microsoft Bot...</td>\n",
       "      <td>Freelance Web Developer:août 2019 - aujourd’hu...</td>\n",
       "    </tr>\n",
       "    <tr>\n",
       "      <th>2</th>\n",
       "      <td>https://www.linkedin.com/in/hassen-knani-21991...</td>\n",
       "      <td>Web developer chez ZETABOX</td>\n",
       "      <td>Gouvernorat Sfax, Tunisie</td>\n",
       "      <td>Hassen Knani</td>\n",
       "      <td>GOMYCODE</td>\n",
       "      <td>Management, Service client, Microsoft Office, ...</td>\n",
       "      <td>React Js Instructor:mars 2022 - aujourd’hui · ...</td>\n",
       "    </tr>\n",
       "    <tr>\n",
       "      <th>3</th>\n",
       "      <td>https://www.linkedin.com/in/safwendammak/</td>\n",
       "      <td>Freelance Web Developer</td>\n",
       "      <td>Gouvernorat Sfax, Tunisie</td>\n",
       "      <td>Safwen Dammak</td>\n",
       "      <td>PixiMind</td>\n",
       "      <td>Angular, PHP/Symfony, Développement web, Dével...</td>\n",
       "      <td>Web Developer:oct. 2020 - févr. 2022 · 1 an 5 ...</td>\n",
       "    </tr>\n",
       "    <tr>\n",
       "      <th>4</th>\n",
       "      <td>https://www.linkedin.com/in/oumayma-b%C3%A9hi-...</td>\n",
       "      <td>web &amp; mobile developer 💻</td>\n",
       "      <td>Tunis, Gouvernorat Tunis, Tunisie</td>\n",
       "      <td>Oumayma Béhi</td>\n",
       "      <td>SIGA</td>\n",
       "      <td>NaN</td>\n",
       "      <td>Projet de fin d’études:févr. 2022 - juin 2022 ...</td>\n",
       "    </tr>\n",
       "    <tr>\n",
       "      <th>...</th>\n",
       "      <td>...</td>\n",
       "      <td>...</td>\n",
       "      <td>...</td>\n",
       "      <td>...</td>\n",
       "      <td>...</td>\n",
       "      <td>...</td>\n",
       "      <td>...</td>\n",
       "    </tr>\n",
       "    <tr>\n",
       "      <th>459</th>\n",
       "      <td>https://www.linkedin.com/in/khaoula-ben-othman...</td>\n",
       "      <td>Data Science Engineer</td>\n",
       "      <td>Tunisia</td>\n",
       "      <td>khaoula Ben othman</td>\n",
       "      <td>NaN</td>\n",
       "      <td>MongoDB, RStudio, Business Intelligence (BI), ...</td>\n",
       "      <td>nan:nan,nan:nan</td>\n",
       "    </tr>\n",
       "    <tr>\n",
       "      <th>460</th>\n",
       "      <td>https://www.linkedin.com/in/farah-abid-989683191/</td>\n",
       "      <td>Data Science Enthusiast</td>\n",
       "      <td>Sfax, Tunisia</td>\n",
       "      <td>Farah Abid</td>\n",
       "      <td>Medicacom</td>\n",
       "      <td>Analyse de données, nlp, Extraction de données...</td>\n",
       "      <td>Data Science Intern:Oct 2022 - Present · 5 mos...</td>\n",
       "    </tr>\n",
       "    <tr>\n",
       "      <th>461</th>\n",
       "      <td>https://www.linkedin.com/in/achref-cherif-data...</td>\n",
       "      <td>Data Scientist | Founder &amp; CEO of Data Science...</td>\n",
       "      <td>Tunis, Tunis, Tunisia</td>\n",
       "      <td>Achref Cherif</td>\n",
       "      <td>TEK-UP</td>\n",
       "      <td>Extract, Transform, Load (ETL), Analytical Ski...</td>\n",
       "      <td>Data Scientist:Sep 2020 - Present · 2 yrs 6 mo...</td>\n",
       "    </tr>\n",
       "    <tr>\n",
       "      <th>462</th>\n",
       "      <td>https://www.linkedin.com/in/hamza-samaiy/</td>\n",
       "      <td>Data science master Student | Works at Vermeg</td>\n",
       "      <td>Sousse, Tunisia</td>\n",
       "      <td>Hamza Samaiy</td>\n",
       "      <td>VERMEG for Banking &amp; Insurance Software</td>\n",
       "      <td>Développement web, JavaScript, PHP, Laravel, F...</td>\n",
       "      <td>Software Programmer:Jan 2023 - Present · 2 mos...</td>\n",
       "    </tr>\n",
       "    <tr>\n",
       "      <th>463</th>\n",
       "      <td>https://www.linkedin.com/in/zitouni-amal-286b9...</td>\n",
       "      <td>Ingénieur en informatique || Spécialité Data s...</td>\n",
       "      <td>Tunis, Tunisia</td>\n",
       "      <td>Zitouni Amal</td>\n",
       "      <td>TahaPharma</td>\n",
       "      <td>Microsoft Azure Machine Learning, Apprentissag...</td>\n",
       "      <td>Ingénieur BI:Oct 2022 - Present · 5 mos,Member...</td>\n",
       "    </tr>\n",
       "  </tbody>\n",
       "</table>\n",
       "<p>464 rows × 7 columns</p>\n",
       "</div>"
      ],
      "text/plain": [
       "                                                   URL  \\\n",
       "0                https://www.linkedin.com/in/talel-kb/   \n",
       "1         https://www.linkedin.com/in/omar-talbi-sfax/   \n",
       "2    https://www.linkedin.com/in/hassen-knani-21991...   \n",
       "3            https://www.linkedin.com/in/safwendammak/   \n",
       "4    https://www.linkedin.com/in/oumayma-b%C3%A9hi-...   \n",
       "..                                                 ...   \n",
       "459  https://www.linkedin.com/in/khaoula-ben-othman...   \n",
       "460  https://www.linkedin.com/in/farah-abid-989683191/   \n",
       "461  https://www.linkedin.com/in/achref-cherif-data...   \n",
       "462          https://www.linkedin.com/in/hamza-samaiy/   \n",
       "463  https://www.linkedin.com/in/zitouni-amal-286b9...   \n",
       "\n",
       "                                             job_title  \\\n",
       "0         Web developer & software engineering student   \n",
       "1                              Freelance Web Developer   \n",
       "2                           Web developer chez ZETABOX   \n",
       "3                              Freelance Web Developer   \n",
       "4                             web & mobile developer 💻   \n",
       "..                                                 ...   \n",
       "459                              Data Science Engineer   \n",
       "460                            Data Science Enthusiast   \n",
       "461  Data Scientist | Founder & CEO of Data Science...   \n",
       "462      Data science master Student | Works at Vermeg   \n",
       "463  Ingénieur en informatique || Spécialité Data s...   \n",
       "\n",
       "                              location                Name  \\\n",
       "0           Gouvernorat Tunis, Tunisie        Talel Kbaier   \n",
       "1            Gouvernorat Sfax, Tunisie          Omar Talbi   \n",
       "2            Gouvernorat Sfax, Tunisie        Hassen Knani   \n",
       "3            Gouvernorat Sfax, Tunisie       Safwen Dammak   \n",
       "4    Tunis, Gouvernorat Tunis, Tunisie        Oumayma Béhi   \n",
       "..                                 ...                 ...   \n",
       "459                            Tunisia  khaoula Ben othman   \n",
       "460                      Sfax, Tunisia          Farah Abid   \n",
       "461              Tunis, Tunis, Tunisia       Achref Cherif   \n",
       "462                    Sousse, Tunisia        Hamza Samaiy   \n",
       "463                     Tunis, Tunisia        Zitouni Amal   \n",
       "\n",
       "                                     company  \\\n",
       "0                                     Triweb   \n",
       "1                                  Freelance   \n",
       "2                                   GOMYCODE   \n",
       "3                                   PixiMind   \n",
       "4                                       SIGA   \n",
       "..                                       ...   \n",
       "459                                      NaN   \n",
       "460                                Medicacom   \n",
       "461                                   TEK-UP   \n",
       "462  VERMEG for Banking & Insurance Software   \n",
       "463                               TahaPharma   \n",
       "\n",
       "                                                skills  \\\n",
       "0    Analyse de données, Compétences analytiques, F...   \n",
       "1    Laravel, React, JavaScript, PHP, Microsoft Bot...   \n",
       "2    Management, Service client, Microsoft Office, ...   \n",
       "3    Angular, PHP/Symfony, Développement web, Dével...   \n",
       "4                                                  NaN   \n",
       "..                                                 ...   \n",
       "459  MongoDB, RStudio, Business Intelligence (BI), ...   \n",
       "460  Analyse de données, nlp, Extraction de données...   \n",
       "461  Extract, Transform, Load (ETL), Analytical Ski...   \n",
       "462  Développement web, JavaScript, PHP, Laravel, F...   \n",
       "463  Microsoft Azure Machine Learning, Apprentissag...   \n",
       "\n",
       "                                           experiences  \n",
       "0    Développeur web:janv. 2023 - aujourd’hui · 2 m...  \n",
       "1    Freelance Web Developer:août 2019 - aujourd’hu...  \n",
       "2    React Js Instructor:mars 2022 - aujourd’hui · ...  \n",
       "3    Web Developer:oct. 2020 - févr. 2022 · 1 an 5 ...  \n",
       "4    Projet de fin d’études:févr. 2022 - juin 2022 ...  \n",
       "..                                                 ...  \n",
       "459                                    nan:nan,nan:nan  \n",
       "460  Data Science Intern:Oct 2022 - Present · 5 mos...  \n",
       "461  Data Scientist:Sep 2020 - Present · 2 yrs 6 mo...  \n",
       "462  Software Programmer:Jan 2023 - Present · 2 mos...  \n",
       "463  Ingénieur BI:Oct 2022 - Present · 5 mos,Member...  \n",
       "\n",
       "[464 rows x 7 columns]"
      ]
     },
     "execution_count": 1038,
     "metadata": {},
     "output_type": "execute_result"
    }
   ],
   "source": [
    "df"
   ]
  },
  {
   "cell_type": "code",
   "execution_count": 1039,
   "id": "3c9959a6",
   "metadata": {},
   "outputs": [
    {
     "data": {
      "text/plain": [
       "(464, 7)"
      ]
     },
     "execution_count": 1039,
     "metadata": {},
     "output_type": "execute_result"
    }
   ],
   "source": [
    "df.shape"
   ]
  },
  {
   "cell_type": "code",
   "execution_count": 1040,
   "id": "191a8c1a",
   "metadata": {},
   "outputs": [
    {
     "data": {
      "text/html": [
       "<div>\n",
       "<style scoped>\n",
       "    .dataframe tbody tr th:only-of-type {\n",
       "        vertical-align: middle;\n",
       "    }\n",
       "\n",
       "    .dataframe tbody tr th {\n",
       "        vertical-align: top;\n",
       "    }\n",
       "\n",
       "    .dataframe thead th {\n",
       "        text-align: right;\n",
       "    }\n",
       "</style>\n",
       "<table border=\"1\" class=\"dataframe\">\n",
       "  <thead>\n",
       "    <tr style=\"text-align: right;\">\n",
       "      <th></th>\n",
       "      <th>URL</th>\n",
       "      <th>job_title</th>\n",
       "      <th>location</th>\n",
       "      <th>Name</th>\n",
       "      <th>company</th>\n",
       "      <th>skills</th>\n",
       "      <th>experiences</th>\n",
       "    </tr>\n",
       "  </thead>\n",
       "  <tbody>\n",
       "    <tr>\n",
       "      <th>count</th>\n",
       "      <td>436</td>\n",
       "      <td>435</td>\n",
       "      <td>436</td>\n",
       "      <td>436</td>\n",
       "      <td>380</td>\n",
       "      <td>390</td>\n",
       "      <td>464</td>\n",
       "    </tr>\n",
       "    <tr>\n",
       "      <th>unique</th>\n",
       "      <td>435</td>\n",
       "      <td>318</td>\n",
       "      <td>107</td>\n",
       "      <td>435</td>\n",
       "      <td>298</td>\n",
       "      <td>389</td>\n",
       "      <td>378</td>\n",
       "    </tr>\n",
       "    <tr>\n",
       "      <th>top</th>\n",
       "      <td>https://www.linkedin.com/in/marwen-hinaoui-479...</td>\n",
       "      <td>Data Science Student</td>\n",
       "      <td>Tunis, Gouvernorat Tunis, Tunisie</td>\n",
       "      <td>Marwen Hinaoui</td>\n",
       "      <td>Freelance</td>\n",
       "      <td>Android, Ionic, React Native, Express.js, Node...</td>\n",
       "      <td>nan:nan,nan:nan</td>\n",
       "    </tr>\n",
       "    <tr>\n",
       "      <th>freq</th>\n",
       "      <td>2</td>\n",
       "      <td>24</td>\n",
       "      <td>66</td>\n",
       "      <td>2</td>\n",
       "      <td>16</td>\n",
       "      <td>2</td>\n",
       "      <td>84</td>\n",
       "    </tr>\n",
       "  </tbody>\n",
       "</table>\n",
       "</div>"
      ],
      "text/plain": [
       "                                                      URL  \\\n",
       "count                                                 436   \n",
       "unique                                                435   \n",
       "top     https://www.linkedin.com/in/marwen-hinaoui-479...   \n",
       "freq                                                    2   \n",
       "\n",
       "                   job_title                           location  \\\n",
       "count                    435                                436   \n",
       "unique                   318                                107   \n",
       "top     Data Science Student  Tunis, Gouvernorat Tunis, Tunisie   \n",
       "freq                      24                                 66   \n",
       "\n",
       "                  Name    company  \\\n",
       "count              436        380   \n",
       "unique             435        298   \n",
       "top     Marwen Hinaoui  Freelance   \n",
       "freq                 2         16   \n",
       "\n",
       "                                                   skills      experiences  \n",
       "count                                                 390              464  \n",
       "unique                                                389              378  \n",
       "top     Android, Ionic, React Native, Express.js, Node...  nan:nan,nan:nan  \n",
       "freq                                                    2               84  "
      ]
     },
     "execution_count": 1040,
     "metadata": {},
     "output_type": "execute_result"
    }
   ],
   "source": [
    "df.describe()"
   ]
  },
  {
   "cell_type": "code",
   "execution_count": 1041,
   "id": "50699509",
   "metadata": {},
   "outputs": [
    {
     "data": {
      "text/plain": [
       "<AxesSubplot:ylabel='None'>"
      ]
     },
     "execution_count": 1041,
     "metadata": {},
     "output_type": "execute_result"
    },
    {
     "data": {
      "image/png": "[encoded data removed]",
      "text/plain": [
       "<Figure size 432x288 with 1 Axes>"
      ]
     },
     "metadata": {},
     "output_type": "display_data"
    }
   ],
   "source": [
    "df.dtypes.value_counts().plot.pie(autopct='%1.0f%%')"
   ]
  },
  {
   "cell_type": "code",
   "execution_count": 1042,
   "id": "68eee668",
   "metadata": {},
   "outputs": [
    {
     "data": {
      "text/plain": [
       "True"
      ]
     },
     "execution_count": 1042,
     "metadata": {},
     "output_type": "execute_result"
    }
   ],
   "source": [
    "df.duplicated().values.any()"
   ]
  },
  {
   "cell_type": "code",
   "execution_count": 1043,
   "id": "c36ef285",
   "metadata": {},
   "outputs": [
    {
     "name": "stdout",
     "output_type": "stream",
     "text": [
      "<class 'pandas.core.frame.DataFrame'>\n",
      "RangeIndex: 464 entries, 0 to 463\n",
      "Data columns (total 7 columns):\n",
      " #   Column       Non-Null Count  Dtype \n",
      "---  ------       --------------  ----- \n",
      " 0   URL          436 non-null    object\n",
      " 1   job_title    435 non-null    object\n",
      " 2   location     436 non-null    object\n",
      " 3   Name         436 non-null    object\n",
      " 4   company      380 non-null    object\n",
      " 5   skills       390 non-null    object\n",
      " 6   experiences  464 non-null    object\n",
      "dtypes: object(7)\n",
      "memory usage: 25.5+ KB\n"
     ]
    }
   ],
   "source": [
    "df.info()"
   ]
  },
  {
   "cell_type": "code",
   "execution_count": 1044,
   "id": "01554071",
   "metadata": {},
   "outputs": [
    {
     "data": {
      "text/html": [
       "<div>\n",
       "<style scoped>\n",
       "    .dataframe tbody tr th:only-of-type {\n",
       "        vertical-align: middle;\n",
       "    }\n",
       "\n",
       "    .dataframe tbody tr th {\n",
       "        vertical-align: top;\n",
       "    }\n",
       "\n",
       "    .dataframe thead th {\n",
       "        text-align: right;\n",
       "    }\n",
       "</style>\n",
       "<table border=\"1\" class=\"dataframe\">\n",
       "  <thead>\n",
       "    <tr style=\"text-align: right;\">\n",
       "      <th></th>\n",
       "      <th>URL</th>\n",
       "      <th>job_title</th>\n",
       "      <th>location</th>\n",
       "      <th>Name</th>\n",
       "      <th>company</th>\n",
       "      <th>skills</th>\n",
       "      <th>experiences</th>\n",
       "    </tr>\n",
       "  </thead>\n",
       "  <tbody>\n",
       "    <tr>\n",
       "      <th>0</th>\n",
       "      <td>https://www.linkedin.com/in/talel-kb/</td>\n",
       "      <td>Web developer &amp; software engineering student</td>\n",
       "      <td>Gouvernorat Tunis, Tunisie</td>\n",
       "      <td>Talel Kbaier</td>\n",
       "      <td>Triweb</td>\n",
       "      <td>Analyse de données, Compétences analytiques, F...</td>\n",
       "      <td>Développeur web:janv. 2023 - aujourd’hui · 2 m...</td>\n",
       "    </tr>\n",
       "    <tr>\n",
       "      <th>1</th>\n",
       "      <td>https://www.linkedin.com/in/omar-talbi-sfax/</td>\n",
       "      <td>Freelance Web Developer</td>\n",
       "      <td>Gouvernorat Sfax, Tunisie</td>\n",
       "      <td>Omar Talbi</td>\n",
       "      <td>Freelance</td>\n",
       "      <td>Laravel, React, JavaScript, PHP, Microsoft Bot...</td>\n",
       "      <td>Freelance Web Developer:août 2019 - aujourd’hu...</td>\n",
       "    </tr>\n",
       "    <tr>\n",
       "      <th>2</th>\n",
       "      <td>https://www.linkedin.com/in/hassen-knani-21991...</td>\n",
       "      <td>Web developer chez ZETABOX</td>\n",
       "      <td>Gouvernorat Sfax, Tunisie</td>\n",
       "      <td>Hassen Knani</td>\n",
       "      <td>GOMYCODE</td>\n",
       "      <td>Management, Service client, Microsoft Office, ...</td>\n",
       "      <td>React Js Instructor:mars 2022 - aujourd’hui · ...</td>\n",
       "    </tr>\n",
       "    <tr>\n",
       "      <th>3</th>\n",
       "      <td>https://www.linkedin.com/in/safwendammak/</td>\n",
       "      <td>Freelance Web Developer</td>\n",
       "      <td>Gouvernorat Sfax, Tunisie</td>\n",
       "      <td>Safwen Dammak</td>\n",
       "      <td>PixiMind</td>\n",
       "      <td>Angular, PHP/Symfony, Développement web, Dével...</td>\n",
       "      <td>Web Developer:oct. 2020 - févr. 2022 · 1 an 5 ...</td>\n",
       "    </tr>\n",
       "    <tr>\n",
       "      <th>4</th>\n",
       "      <td>https://www.linkedin.com/in/oumayma-b%C3%A9hi-...</td>\n",
       "      <td>web &amp; mobile developer 💻</td>\n",
       "      <td>Tunis, Gouvernorat Tunis, Tunisie</td>\n",
       "      <td>Oumayma Béhi</td>\n",
       "      <td>SIGA</td>\n",
       "      <td>NaN</td>\n",
       "      <td>Projet de fin d’études:févr. 2022 - juin 2022 ...</td>\n",
       "    </tr>\n",
       "  </tbody>\n",
       "</table>\n",
       "</div>"
      ],
      "text/plain": [
       "                                                 URL  \\\n",
       "0              https://www.linkedin.com/in/talel-kb/   \n",
       "1       https://www.linkedin.com/in/omar-talbi-sfax/   \n",
       "2  https://www.linkedin.com/in/hassen-knani-21991...   \n",
       "3          https://www.linkedin.com/in/safwendammak/   \n",
       "4  https://www.linkedin.com/in/oumayma-b%C3%A9hi-...   \n",
       "\n",
       "                                      job_title  \\\n",
       "0  Web developer & software engineering student   \n",
       "1                       Freelance Web Developer   \n",
       "2                    Web developer chez ZETABOX   \n",
       "3                       Freelance Web Developer   \n",
       "4                      web & mobile developer 💻   \n",
       "\n",
       "                            location           Name    company  \\\n",
       "0         Gouvernorat Tunis, Tunisie   Talel Kbaier     Triweb   \n",
       "1          Gouvernorat Sfax, Tunisie     Omar Talbi  Freelance   \n",
       "2          Gouvernorat Sfax, Tunisie   Hassen Knani   GOMYCODE   \n",
       "3          Gouvernorat Sfax, Tunisie  Safwen Dammak   PixiMind   \n",
       "4  Tunis, Gouvernorat Tunis, Tunisie   Oumayma Béhi       SIGA   \n",
       "\n",
       "                                              skills  \\\n",
       "0  Analyse de données, Compétences analytiques, F...   \n",
       "1  Laravel, React, JavaScript, PHP, Microsoft Bot...   \n",
       "2  Management, Service client, Microsoft Office, ...   \n",
       "3  Angular, PHP/Symfony, Développement web, Dével...   \n",
       "4                                                NaN   \n",
       "\n",
       "                                         experiences  \n",
       "0  Développeur web:janv. 2023 - aujourd’hui · 2 m...  \n",
       "1  Freelance Web Developer:août 2019 - aujourd’hu...  \n",
       "2  React Js Instructor:mars 2022 - aujourd’hui · ...  \n",
       "3  Web Developer:oct. 2020 - févr. 2022 · 1 an 5 ...  \n",
       "4  Projet de fin d’études:févr. 2022 - juin 2022 ...  "
      ]
     },
     "execution_count": 1044,
     "metadata": {},
     "output_type": "execute_result"
    }
   ],
   "source": [
    "df.head()"
   ]
  },
  {
   "cell_type": "code",
   "execution_count": 1045,
   "id": "5cb43124",
   "metadata": {
    "scrolled": false
   },
   "outputs": [
    {
     "data": {
      "text/html": [
       "<div>\n",
       "<style scoped>\n",
       "    .dataframe tbody tr th:only-of-type {\n",
       "        vertical-align: middle;\n",
       "    }\n",
       "\n",
       "    .dataframe tbody tr th {\n",
       "        vertical-align: top;\n",
       "    }\n",
       "\n",
       "    .dataframe thead th {\n",
       "        text-align: right;\n",
       "    }\n",
       "</style>\n",
       "<table border=\"1\" class=\"dataframe\">\n",
       "  <thead>\n",
       "    <tr style=\"text-align: right;\">\n",
       "      <th></th>\n",
       "      <th>URL</th>\n",
       "      <th>job_title</th>\n",
       "      <th>location</th>\n",
       "      <th>Name</th>\n",
       "      <th>company</th>\n",
       "      <th>skills</th>\n",
       "      <th>experiences</th>\n",
       "    </tr>\n",
       "  </thead>\n",
       "  <tbody>\n",
       "    <tr>\n",
       "      <th>459</th>\n",
       "      <td>https://www.linkedin.com/in/khaoula-ben-othman...</td>\n",
       "      <td>Data Science Engineer</td>\n",
       "      <td>Tunisia</td>\n",
       "      <td>khaoula Ben othman</td>\n",
       "      <td>NaN</td>\n",
       "      <td>MongoDB, RStudio, Business Intelligence (BI), ...</td>\n",
       "      <td>nan:nan,nan:nan</td>\n",
       "    </tr>\n",
       "    <tr>\n",
       "      <th>460</th>\n",
       "      <td>https://www.linkedin.com/in/farah-abid-989683191/</td>\n",
       "      <td>Data Science Enthusiast</td>\n",
       "      <td>Sfax, Tunisia</td>\n",
       "      <td>Farah Abid</td>\n",
       "      <td>Medicacom</td>\n",
       "      <td>Analyse de données, nlp, Extraction de données...</td>\n",
       "      <td>Data Science Intern:Oct 2022 - Present · 5 mos...</td>\n",
       "    </tr>\n",
       "    <tr>\n",
       "      <th>461</th>\n",
       "      <td>https://www.linkedin.com/in/achref-cherif-data...</td>\n",
       "      <td>Data Scientist | Founder &amp; CEO of Data Science...</td>\n",
       "      <td>Tunis, Tunis, Tunisia</td>\n",
       "      <td>Achref Cherif</td>\n",
       "      <td>TEK-UP</td>\n",
       "      <td>Extract, Transform, Load (ETL), Analytical Ski...</td>\n",
       "      <td>Data Scientist:Sep 2020 - Present · 2 yrs 6 mo...</td>\n",
       "    </tr>\n",
       "    <tr>\n",
       "      <th>462</th>\n",
       "      <td>https://www.linkedin.com/in/hamza-samaiy/</td>\n",
       "      <td>Data science master Student | Works at Vermeg</td>\n",
       "      <td>Sousse, Tunisia</td>\n",
       "      <td>Hamza Samaiy</td>\n",
       "      <td>VERMEG for Banking &amp; Insurance Software</td>\n",
       "      <td>Développement web, JavaScript, PHP, Laravel, F...</td>\n",
       "      <td>Software Programmer:Jan 2023 - Present · 2 mos...</td>\n",
       "    </tr>\n",
       "    <tr>\n",
       "      <th>463</th>\n",
       "      <td>https://www.linkedin.com/in/zitouni-amal-286b9...</td>\n",
       "      <td>Ingénieur en informatique || Spécialité Data s...</td>\n",
       "      <td>Tunis, Tunisia</td>\n",
       "      <td>Zitouni Amal</td>\n",
       "      <td>TahaPharma</td>\n",
       "      <td>Microsoft Azure Machine Learning, Apprentissag...</td>\n",
       "      <td>Ingénieur BI:Oct 2022 - Present · 5 mos,Member...</td>\n",
       "    </tr>\n",
       "  </tbody>\n",
       "</table>\n",
       "</div>"
      ],
      "text/plain": [
       "                                                   URL  \\\n",
       "459  https://www.linkedin.com/in/khaoula-ben-othman...   \n",
       "460  https://www.linkedin.com/in/farah-abid-989683191/   \n",
       "461  https://www.linkedin.com/in/achref-cherif-data...   \n",
       "462          https://www.linkedin.com/in/hamza-samaiy/   \n",
       "463  https://www.linkedin.com/in/zitouni-amal-286b9...   \n",
       "\n",
       "                                             job_title               location  \\\n",
       "459                              Data Science Engineer                Tunisia   \n",
       "460                            Data Science Enthusiast          Sfax, Tunisia   \n",
       "461  Data Scientist | Founder & CEO of Data Science...  Tunis, Tunis, Tunisia   \n",
       "462      Data science master Student | Works at Vermeg        Sousse, Tunisia   \n",
       "463  Ingénieur en informatique || Spécialité Data s...         Tunis, Tunisia   \n",
       "\n",
       "                   Name                                  company  \\\n",
       "459  khaoula Ben othman                                      NaN   \n",
       "460          Farah Abid                                Medicacom   \n",
       "461       Achref Cherif                                   TEK-UP   \n",
       "462        Hamza Samaiy  VERMEG for Banking & Insurance Software   \n",
       "463        Zitouni Amal                               TahaPharma   \n",
       "\n",
       "                                                skills  \\\n",
       "459  MongoDB, RStudio, Business Intelligence (BI), ...   \n",
       "460  Analyse de données, nlp, Extraction de données...   \n",
       "461  Extract, Transform, Load (ETL), Analytical Ski...   \n",
       "462  Développement web, JavaScript, PHP, Laravel, F...   \n",
       "463  Microsoft Azure Machine Learning, Apprentissag...   \n",
       "\n",
       "                                           experiences  \n",
       "459                                    nan:nan,nan:nan  \n",
       "460  Data Science Intern:Oct 2022 - Present · 5 mos...  \n",
       "461  Data Scientist:Sep 2020 - Present · 2 yrs 6 mo...  \n",
       "462  Software Programmer:Jan 2023 - Present · 2 mos...  \n",
       "463  Ingénieur BI:Oct 2022 - Present · 5 mos,Member...  "
      ]
     },
     "execution_count": 1045,
     "metadata": {},
     "output_type": "execute_result"
    }
   ],
   "source": [
    "df.tail()"
   ]
  },
  {
   "cell_type": "code",
   "execution_count": 1046,
   "id": "7ad52795",
   "metadata": {},
   "outputs": [
    {
     "name": "stdout",
     "output_type": "stream",
     "text": [
      "L'accuracy de la qualité des données est :  0.916564039408867\n"
     ]
    }
   ],
   "source": [
    "import pandas as pd\n",
    "\n",
    "# Calculer la précision des valeurs manquantes\n",
    "missing_values_count = df.isnull().sum()\n",
    "total_cells = np.product(df.shape)\n",
    "total_missing = missing_values_count.sum()\n",
    "accuracy = 1 - (total_missing / total_cells)\n",
    "\n",
    "# Afficher le résultat\n",
    "print(\"L'accuracy de la qualité des données est : \", accuracy)\n"
   ]
  },
  {
   "cell_type": "code",
   "execution_count": 1047,
   "id": "be55adc7",
   "metadata": {},
   "outputs": [
    {
     "data": {
      "text/plain": [
       "experiences    0.000000\n",
       "URL            0.060345\n",
       "location       0.060345\n",
       "Name           0.060345\n",
       "job_title      0.062500\n",
       "skills         0.159483\n",
       "company        0.181034\n",
       "dtype: float64"
      ]
     },
     "execution_count": 1047,
     "metadata": {},
     "output_type": "execute_result"
    }
   ],
   "source": [
    "#afficher la liste de pourcentage des valeurs manquantes pour chaque colonne triée par ordre décroissante\n",
    "(df.isna().sum()/df.shape[0]).sort_values()"
   ]
  },
  {
   "cell_type": "code",
   "execution_count": 1048,
   "id": "385059d3",
   "metadata": {},
   "outputs": [
    {
     "data": {
      "text/plain": [
       "True"
      ]
     },
     "execution_count": 1048,
     "metadata": {},
     "output_type": "execute_result"
    }
   ],
   "source": [
    "df.duplicated().values.any()"
   ]
  },
  {
   "cell_type": "code",
   "execution_count": 1049,
   "id": "4e975486",
   "metadata": {},
   "outputs": [],
   "source": [
    "df= df.drop_duplicates()"
   ]
  },
  {
   "cell_type": "code",
   "execution_count": 1050,
   "id": "e413385d",
   "metadata": {},
   "outputs": [
    {
     "data": {
      "text/plain": [
       "False"
      ]
     },
     "execution_count": 1050,
     "metadata": {},
     "output_type": "execute_result"
    }
   ],
   "source": [
    "df.duplicated().values.any()"
   ]
  },
  {
   "cell_type": "code",
   "execution_count": 1051,
   "id": "11f676dc",
   "metadata": {},
   "outputs": [
    {
     "data": {
      "text/plain": [
       "URL             1\n",
       "job_title       2\n",
       "location        1\n",
       "Name            1\n",
       "company        57\n",
       "skills         47\n",
       "experiences     0\n",
       "dtype: int64"
      ]
     },
     "execution_count": 1051,
     "metadata": {},
     "output_type": "execute_result"
    }
   ],
   "source": [
    "df.isnull().sum()"
   ]
  },
  {
   "cell_type": "code",
   "execution_count": 1052,
   "id": "32b8995d",
   "metadata": {},
   "outputs": [
    {
     "data": {
      "text/plain": [
       "'109'"
      ]
     },
     "execution_count": 1052,
     "metadata": {},
     "output_type": "execute_result"
    }
   ],
   "source": [
    "str(df.isna().sum().sum())#total"
   ]
  },
  {
   "cell_type": "markdown",
   "id": "341eb80b",
   "metadata": {},
   "source": [
    "# company"
   ]
  },
  {
   "cell_type": "code",
   "execution_count": 1053,
   "id": "c69b08ab",
   "metadata": {
    "scrolled": false
   },
   "outputs": [
    {
     "data": {
      "text/html": [
       "<div>\n",
       "<style scoped>\n",
       "    .dataframe tbody tr th:only-of-type {\n",
       "        vertical-align: middle;\n",
       "    }\n",
       "\n",
       "    .dataframe tbody tr th {\n",
       "        vertical-align: top;\n",
       "    }\n",
       "\n",
       "    .dataframe thead th {\n",
       "        text-align: right;\n",
       "    }\n",
       "</style>\n",
       "<table border=\"1\" class=\"dataframe\">\n",
       "  <thead>\n",
       "    <tr style=\"text-align: right;\">\n",
       "      <th></th>\n",
       "      <th>URL</th>\n",
       "      <th>job_title</th>\n",
       "      <th>location</th>\n",
       "      <th>Name</th>\n",
       "      <th>company</th>\n",
       "      <th>skills</th>\n",
       "      <th>experiences</th>\n",
       "    </tr>\n",
       "  </thead>\n",
       "  <tbody>\n",
       "    <tr>\n",
       "      <th>5</th>\n",
       "      <td>NaN</td>\n",
       "      <td>NaN</td>\n",
       "      <td>NaN</td>\n",
       "      <td>NaN</td>\n",
       "      <td>NaN</td>\n",
       "      <td>NaN</td>\n",
       "      <td>nan:nan,nan:nan</td>\n",
       "    </tr>\n",
       "    <tr>\n",
       "      <th>11</th>\n",
       "      <td>https://www.linkedin.com/in/dhia-boudhraa-243b...</td>\n",
       "      <td>Web developer</td>\n",
       "      <td>Délégation Kairouan Sud, Gouvernorat Kairouan,...</td>\n",
       "      <td>Dhia Boudhraa</td>\n",
       "      <td>NaN</td>\n",
       "      <td>Laravel, Cascading Style Sheets (CSS), HTML5, ...</td>\n",
       "      <td>nan:nan,nan:nan</td>\n",
       "    </tr>\n",
       "    <tr>\n",
       "      <th>13</th>\n",
       "      <td>https://www.linkedin.com/in/ramzi-fraj-561814218/</td>\n",
       "      <td>UI/UX Designer Web Developer</td>\n",
       "      <td>Délégation Kélibia, Gouvernorat Nabeul, Tunisie</td>\n",
       "      <td>ramzi fraj</td>\n",
       "      <td>NaN</td>\n",
       "      <td>Anglais, Développement web, Développement d’ap...</td>\n",
       "      <td>nan:nan,nan:nan</td>\n",
       "    </tr>\n",
       "    <tr>\n",
       "      <th>23</th>\n",
       "      <td>https://www.linkedin.com/in/imen-ben-yahya-4a7...</td>\n",
       "      <td>Web developer</td>\n",
       "      <td>Gouvernorat Sfax, Tunisie</td>\n",
       "      <td>Imen  Ben Yahya</td>\n",
       "      <td>NaN</td>\n",
       "      <td>NaN</td>\n",
       "      <td>nan:nan,nan:nan</td>\n",
       "    </tr>\n",
       "    <tr>\n",
       "      <th>28</th>\n",
       "      <td>https://www.linkedin.com/in/marwen-ayedi-1a951...</td>\n",
       "      <td>Front-end web developer:angular||react.</td>\n",
       "      <td>Délégation Sakiet Eddaier, Gouvernorat Sfax, T...</td>\n",
       "      <td>Marwen Ayedi</td>\n",
       "      <td>NaN</td>\n",
       "      <td>Problem Solving, Web Development, Back-End Web...</td>\n",
       "      <td>nan:nan,nan:nan</td>\n",
       "    </tr>\n",
       "    <tr>\n",
       "      <th>38</th>\n",
       "      <td>https://www.linkedin.com/in/maryem-waddeni-147...</td>\n",
       "      <td>Full Stack Web Developer</td>\n",
       "      <td>Gouvernorat Nabeul, Tunisie</td>\n",
       "      <td>maryem waddeni</td>\n",
       "      <td>NaN</td>\n",
       "      <td>MySQL, Java, Oracle SQL Developer, Web Design,...</td>\n",
       "      <td>nan:nan,nan:nan</td>\n",
       "    </tr>\n",
       "    <tr>\n",
       "      <th>61</th>\n",
       "      <td>https://www.linkedin.com/in/ahmed-boudhina-8a2...</td>\n",
       "      <td>Full Stack Web Developer(React js/Node js)</td>\n",
       "      <td>Ariana, Gouvernorat Ariana, Tunisie</td>\n",
       "      <td>Ahmed Boudhina</td>\n",
       "      <td>NaN</td>\n",
       "      <td>React.js, Node.js, JavaScript, Symfony, HTML5,...</td>\n",
       "      <td>nan:nan,nan:nan</td>\n",
       "    </tr>\n",
       "    <tr>\n",
       "      <th>69</th>\n",
       "      <td>https://www.linkedin.com/in/hatem-dardouri-99a...</td>\n",
       "      <td>Full Stack Web Developer {React js/Node js}</td>\n",
       "      <td>Ariana, Gouvernorat Ariana, Tunisie</td>\n",
       "      <td>Hatem Dardouri</td>\n",
       "      <td>NaN</td>\n",
       "      <td>React.js, Node.js, JavaScript, HTML5, Feuilles...</td>\n",
       "      <td>nan:nan,nan:nan</td>\n",
       "    </tr>\n",
       "    <tr>\n",
       "      <th>70</th>\n",
       "      <td>https://www.linkedin.com/in/ahmed-bouhrira-6bb...</td>\n",
       "      <td>Web developer</td>\n",
       "      <td>Tunis, Gouvernorat Tunis, Tunisie</td>\n",
       "      <td>Ahmed Bouhrira</td>\n",
       "      <td>NaN</td>\n",
       "      <td>JavaScript, Node.js, MongoDB, Angular, Vue.js,...</td>\n",
       "      <td>nan:nan,nan:nan</td>\n",
       "    </tr>\n",
       "    <tr>\n",
       "      <th>84</th>\n",
       "      <td>https://www.linkedin.com/in/jihene-chaieb-1467...</td>\n",
       "      <td>Web Developer | Angular | Laravel | Symfony | ...</td>\n",
       "      <td>Tunisie</td>\n",
       "      <td>jihene chaieb</td>\n",
       "      <td>NaN</td>\n",
       "      <td>angular, SQL, Unity, GitHub, java, Microsoft S...</td>\n",
       "      <td>nan:nan,nan:nan</td>\n",
       "    </tr>\n",
       "    <tr>\n",
       "      <th>98</th>\n",
       "      <td>https://www.linkedin.com/in/dhia-abdelli-1a201...</td>\n",
       "      <td>Web Developer at Google</td>\n",
       "      <td>Gouvernorat Tunis, Tunisie</td>\n",
       "      <td>dhia abdelli</td>\n",
       "      <td>NaN</td>\n",
       "      <td>NaN</td>\n",
       "      <td>nan:nan,nan:nan</td>\n",
       "    </tr>\n",
       "    <tr>\n",
       "      <th>222</th>\n",
       "      <td>https://www.linkedin.com/in/chayma-dhahri-b6b1...</td>\n",
       "      <td>Data science engineering student</td>\n",
       "      <td>Ariana Ville, Gouvernorat Ariana, Tunisie</td>\n",
       "      <td>chayma dhahri</td>\n",
       "      <td>NaN</td>\n",
       "      <td>NaN</td>\n",
       "      <td>nan:nan,nan:nan</td>\n",
       "    </tr>\n",
       "    <tr>\n",
       "      <th>224</th>\n",
       "      <td>https://www.linkedin.com/in/med-aziz-omrani-41...</td>\n",
       "      <td>Data science  engineering student | private hi...</td>\n",
       "      <td>Gouvernorat Tunis, Tunisie</td>\n",
       "      <td>Med aziz Omrani</td>\n",
       "      <td>NaN</td>\n",
       "      <td>NaN</td>\n",
       "      <td>nan:nan,nan:nan</td>\n",
       "    </tr>\n",
       "    <tr>\n",
       "      <th>226</th>\n",
       "      <td>https://www.linkedin.com/in/eya-bouzaiene-9812...</td>\n",
       "      <td>Data Science  Engineering student</td>\n",
       "      <td>Tunis, Gouvernorat Tunis, Tunisie</td>\n",
       "      <td>eya bouzaiene</td>\n",
       "      <td>NaN</td>\n",
       "      <td>NaN</td>\n",
       "      <td>nan:nan,nan:nan</td>\n",
       "    </tr>\n",
       "    <tr>\n",
       "      <th>230</th>\n",
       "      <td>https://www.linkedin.com/in/ghada-ouni-800806197/</td>\n",
       "      <td>Data science student</td>\n",
       "      <td>Gouvernorat Monastir, Tunisie</td>\n",
       "      <td>ghada ouni</td>\n",
       "      <td>NaN</td>\n",
       "      <td>NaN</td>\n",
       "      <td>nan:nan,nan:nan</td>\n",
       "    </tr>\n",
       "    <tr>\n",
       "      <th>245</th>\n",
       "      <td>https://www.linkedin.com/in/dhibi-achref-81682...</td>\n",
       "      <td>Data Science Student</td>\n",
       "      <td>Tunis, Gouvernorat Tunis, Tunisie</td>\n",
       "      <td>Dhibi Achref</td>\n",
       "      <td>NaN</td>\n",
       "      <td>NaN</td>\n",
       "      <td>nan:nan,nan:nan</td>\n",
       "    </tr>\n",
       "    <tr>\n",
       "      <th>248</th>\n",
       "      <td>https://www.linkedin.com/in/dhia-elhak-betaieb...</td>\n",
       "      <td>Data Science and Actuarial Science Engineering...</td>\n",
       "      <td>Tunis, Gouvernorat Tunis, Tunisie</td>\n",
       "      <td>Dhia Elhak Betaieb</td>\n",
       "      <td>NaN</td>\n",
       "      <td>Computer vision, SQL, Python, NLP, R, Deep lea...</td>\n",
       "      <td>nan:nan,nan:nan</td>\n",
       "    </tr>\n",
       "    <tr>\n",
       "      <th>250</th>\n",
       "      <td>https://www.linkedin.com/in/amal-arbi-bb58551a3/</td>\n",
       "      <td>Data Science Student 👩🏻‍🎓</td>\n",
       "      <td>Tunis, Gouvernorat Tunis, Tunisie</td>\n",
       "      <td>amal arbi</td>\n",
       "      <td>NaN</td>\n",
       "      <td>NaN</td>\n",
       "      <td>nan:nan,nan:nan</td>\n",
       "    </tr>\n",
       "    <tr>\n",
       "      <th>253</th>\n",
       "      <td>https://www.linkedin.com/in/jawadi-nesrine-78b...</td>\n",
       "      <td>Data science student</td>\n",
       "      <td>Gouvernorat Gabès, Tunisie</td>\n",
       "      <td>Jawadi Nesrine</td>\n",
       "      <td>NaN</td>\n",
       "      <td>JavaScript, HTML5, C++, CSS, C (langage de pro...</td>\n",
       "      <td>nan:nan,nan:nan</td>\n",
       "    </tr>\n",
       "    <tr>\n",
       "      <th>259</th>\n",
       "      <td>https://www.linkedin.com/in/raslen-guesmi/</td>\n",
       "      <td>Data Science Student</td>\n",
       "      <td>Délégation Hammamet, Gouvernorat Nabeul, Tunisie</td>\n",
       "      <td>Raslen Guesmi</td>\n",
       "      <td>NaN</td>\n",
       "      <td>Natural Language Processing (NLP), Communicati...</td>\n",
       "      <td>nan:nan,nan:nan</td>\n",
       "    </tr>\n",
       "    <tr>\n",
       "      <th>266</th>\n",
       "      <td>https://www.linkedin.com/in/gomri-melek-b8935a...</td>\n",
       "      <td>Data Science and Acturial engineering Student</td>\n",
       "      <td>Tunis, Gouvernorat Tunis, Tunisie</td>\n",
       "      <td>Gomri Melek</td>\n",
       "      <td>NaN</td>\n",
       "      <td>Python (langage de programmation), Framework S...</td>\n",
       "      <td>nan:nan,nan:nan</td>\n",
       "    </tr>\n",
       "    <tr>\n",
       "      <th>274</th>\n",
       "      <td>https://www.linkedin.com/in/asma-hwimli-0a1970...</td>\n",
       "      <td>Data Science Engineering Student</td>\n",
       "      <td>Tunis, Gouvernorat Tunis, Tunisie</td>\n",
       "      <td>Asma Hwimli</td>\n",
       "      <td>NaN</td>\n",
       "      <td>English, French, Arabic</td>\n",
       "      <td>nan:nan,nan:nan</td>\n",
       "    </tr>\n",
       "    <tr>\n",
       "      <th>277</th>\n",
       "      <td>https://www.linkedin.com/in/nourkobbi/</td>\n",
       "      <td>Data Science and Engineering student</td>\n",
       "      <td>Tunis, Gouvernorat Tunis, Tunisie</td>\n",
       "      <td>Nour Kobbi</td>\n",
       "      <td>NaN</td>\n",
       "      <td>AngularJS, .NET framework, Développement de lo...</td>\n",
       "      <td>nan:nan,nan:nan</td>\n",
       "    </tr>\n",
       "    <tr>\n",
       "      <th>285</th>\n",
       "      <td>https://www.linkedin.com/in/jihene-saidi-6b634...</td>\n",
       "      <td>DATA SCIENCE ENGINEERING STUDENT</td>\n",
       "      <td>Gouvernorat Tunis, Tunisie</td>\n",
       "      <td>Jihene SAIDI</td>\n",
       "      <td>NaN</td>\n",
       "      <td>PHP, Java, JavaScript, Linux, Cisco Networking...</td>\n",
       "      <td>nan:nan,nan:nan</td>\n",
       "    </tr>\n",
       "    <tr>\n",
       "      <th>298</th>\n",
       "      <td>https://www.linkedin.com/in/achrefkhairi/</td>\n",
       "      <td>Data Science Enthusiast</td>\n",
       "      <td>Tunis, Gouvernorat Tunis, Tunisie</td>\n",
       "      <td>Achref Khairi</td>\n",
       "      <td>NaN</td>\n",
       "      <td>Graphic Design, Marketing, Full-Stack Developm...</td>\n",
       "      <td>nan:nan,nan:nan</td>\n",
       "    </tr>\n",
       "    <tr>\n",
       "      <th>300</th>\n",
       "      <td>https://www.linkedin.com/in/mouhib-dalhoumi-45...</td>\n",
       "      <td>Data Science engineering student.</td>\n",
       "      <td>Tunis, Gouvernorat Tunis, Tunisie</td>\n",
       "      <td>Mouhib Dalhoumi</td>\n",
       "      <td>NaN</td>\n",
       "      <td>NaN</td>\n",
       "      <td>nan:nan,nan:nan</td>\n",
       "    </tr>\n",
       "    <tr>\n",
       "      <th>303</th>\n",
       "      <td>https://www.linkedin.com/in/siwar-dhifi-538b90...</td>\n",
       "      <td>Data science  engineering student at ESSAI</td>\n",
       "      <td>Tunis, Gouvernorat Tunis, Tunisie</td>\n",
       "      <td>Siwar Dhifi</td>\n",
       "      <td>NaN</td>\n",
       "      <td>R (Programming language), Python (Programming ...</td>\n",
       "      <td>nan:nan,nan:nan</td>\n",
       "    </tr>\n",
       "    <tr>\n",
       "      <th>314</th>\n",
       "      <td>https://www.linkedin.com/in/hassen-ben-said-09...</td>\n",
       "      <td>Master degree student  Data science and softwa...</td>\n",
       "      <td>Gouvernorat Tunis, Tunisie</td>\n",
       "      <td>Hassen ben said</td>\n",
       "      <td>NaN</td>\n",
       "      <td>NaN</td>\n",
       "      <td>nan:nan,nan:nan</td>\n",
       "    </tr>\n",
       "    <tr>\n",
       "      <th>320</th>\n",
       "      <td>https://www.linkedin.com/in/chaima-njeh-563425...</td>\n",
       "      <td>Data Science Engineering Student</td>\n",
       "      <td>Tunis, Gouvernorat Tunis, Tunisie</td>\n",
       "      <td>Chaima Njeh</td>\n",
       "      <td>NaN</td>\n",
       "      <td>NaN</td>\n",
       "      <td>nan:nan,nan:nan</td>\n",
       "    </tr>\n",
       "    <tr>\n",
       "      <th>322</th>\n",
       "      <td>https://www.linkedin.com/in/wajih-jouini-46816...</td>\n",
       "      <td>Data Science Student</td>\n",
       "      <td>Délégation El Battane, Gouvernorat La Manouba,...</td>\n",
       "      <td>wajih jouini</td>\n",
       "      <td>NaN</td>\n",
       "      <td>NaN</td>\n",
       "      <td>nan:nan,nan:nan</td>\n",
       "    </tr>\n",
       "    <tr>\n",
       "      <th>327</th>\n",
       "      <td>https://www.linkedin.com/in/mouhamed-ali-romme...</td>\n",
       "      <td>Data  Science engineering student at ESPRIT</td>\n",
       "      <td>Délégation Hammamet, Gouvernorat Nabeul, Tunisie</td>\n",
       "      <td>Mouhamed Ali Rommene</td>\n",
       "      <td>NaN</td>\n",
       "      <td>Python (Programming Language), Django, Scrum, ...</td>\n",
       "      <td>nan:nan,nan:nan</td>\n",
       "    </tr>\n",
       "    <tr>\n",
       "      <th>333</th>\n",
       "      <td>https://www.linkedin.com/in/chaima-laouini-878...</td>\n",
       "      <td>Data science student</td>\n",
       "      <td>Tunis, Gouvernorat Tunis, Tunisie</td>\n",
       "      <td>chaima laouini</td>\n",
       "      <td>NaN</td>\n",
       "      <td>Marketing digital, r studio, Java SE, MongoDB,...</td>\n",
       "      <td>nan:nan,nan:nan</td>\n",
       "    </tr>\n",
       "    <tr>\n",
       "      <th>337</th>\n",
       "      <td>https://www.linkedin.com/in/saba-ben-salem/</td>\n",
       "      <td>Data Science</td>\n",
       "      <td>Délégation Dar Chaabane El Fehri, Nabeul, Tunisia</td>\n",
       "      <td>Saba BEN SALEM</td>\n",
       "      <td>NaN</td>\n",
       "      <td>NaN</td>\n",
       "      <td>nan:nan,nan:nan</td>\n",
       "    </tr>\n",
       "    <tr>\n",
       "      <th>338</th>\n",
       "      <td>https://www.linkedin.com/in/mohamed-amine-mila...</td>\n",
       "      <td>Data Science Student</td>\n",
       "      <td>Grand Tunis Metropolitan Area</td>\n",
       "      <td>Mohamed Amine Miladi</td>\n",
       "      <td>NaN</td>\n",
       "      <td>NaN</td>\n",
       "      <td>nan:nan,nan:nan</td>\n",
       "    </tr>\n",
       "    <tr>\n",
       "      <th>342</th>\n",
       "      <td>https://www.linkedin.com/in/chaima-chahed/</td>\n",
       "      <td>Data Science</td>\n",
       "      <td>Sousse, Tunisia</td>\n",
       "      <td>chaima chahed</td>\n",
       "      <td>NaN</td>\n",
       "      <td>Java, Java Database Connectivity (JDBC), Angul...</td>\n",
       "      <td>nan:nan,nan:nan</td>\n",
       "    </tr>\n",
       "    <tr>\n",
       "      <th>349</th>\n",
       "      <td>https://www.linkedin.com/in/zraibia-nour-33120...</td>\n",
       "      <td>data science engineering student at ESPRIT | r...</td>\n",
       "      <td>Tunis, Tunis, Tunisia</td>\n",
       "      <td>zraibia nour</td>\n",
       "      <td>NaN</td>\n",
       "      <td>NaN</td>\n",
       "      <td>nan:nan,nan:nan</td>\n",
       "    </tr>\n",
       "    <tr>\n",
       "      <th>351</th>\n",
       "      <td>https://www.linkedin.com/in/mariem-hachicha-17...</td>\n",
       "      <td>Data science and business intelligence enginee...</td>\n",
       "      <td>Sfax, Tunisia</td>\n",
       "      <td>Mariem Hachicha</td>\n",
       "      <td>NaN</td>\n",
       "      <td>Python (Programming Language), C (Programming ...</td>\n",
       "      <td>nan:nan,nan:nan</td>\n",
       "    </tr>\n",
       "    <tr>\n",
       "      <th>352</th>\n",
       "      <td>https://www.linkedin.com/in/ali-boughnim-65476...</td>\n",
       "      <td>Data science student</td>\n",
       "      <td>Tunis, Tunis, Tunisia</td>\n",
       "      <td>Ali Boughnim</td>\n",
       "      <td>NaN</td>\n",
       "      <td>NaN</td>\n",
       "      <td>nan:nan,nan:nan</td>\n",
       "    </tr>\n",
       "    <tr>\n",
       "      <th>353</th>\n",
       "      <td>https://www.linkedin.com/in/ikbel-fridhi-41380...</td>\n",
       "      <td>Data science engineering student</td>\n",
       "      <td>Kasserine, Tunisia</td>\n",
       "      <td>ikbel fridhi</td>\n",
       "      <td>NaN</td>\n",
       "      <td>NaN</td>\n",
       "      <td>nan:nan,nan:nan</td>\n",
       "    </tr>\n",
       "    <tr>\n",
       "      <th>363</th>\n",
       "      <td>https://www.linkedin.com/in/sirine-dahech-bb1b...</td>\n",
       "      <td>Data science student</td>\n",
       "      <td>Bizerte, Tunisia</td>\n",
       "      <td>Sirine Dahech</td>\n",
       "      <td>NaN</td>\n",
       "      <td>Machine Learning, Python (langage de programma...</td>\n",
       "      <td>nan:nan,nan:nan</td>\n",
       "    </tr>\n",
       "    <tr>\n",
       "      <th>364</th>\n",
       "      <td>https://www.linkedin.com/in/oumaima-hafsi/</td>\n",
       "      <td>Data Science student</td>\n",
       "      <td>Nabeul, Tunisia</td>\n",
       "      <td>Oumaima Hafsi</td>\n",
       "      <td>NaN</td>\n",
       "      <td>NaN</td>\n",
       "      <td>nan:nan,nan:nan</td>\n",
       "    </tr>\n",
       "    <tr>\n",
       "      <th>369</th>\n",
       "      <td>https://www.linkedin.com/in/souha-diwani-83617...</td>\n",
       "      <td>Data science</td>\n",
       "      <td>Tunis, Tunis, Tunisia</td>\n",
       "      <td>Souha Diwani</td>\n",
       "      <td>NaN</td>\n",
       "      <td>JavaScript, Feuilles de style en cascade (CSS)...</td>\n",
       "      <td>nan:nan,nan:nan</td>\n",
       "    </tr>\n",
       "    <tr>\n",
       "      <th>371</th>\n",
       "      <td>https://www.linkedin.com/in/yosra-khalfaoui-29...</td>\n",
       "      <td>Junior data scientist</td>\n",
       "      <td>Tunisia</td>\n",
       "      <td>Yosra KHALFAOUI</td>\n",
       "      <td>NaN</td>\n",
       "      <td>Python (langage de programmation), NoSQL, Trai...</td>\n",
       "      <td>nan:nan,nan:nan</td>\n",
       "    </tr>\n",
       "    <tr>\n",
       "      <th>377</th>\n",
       "      <td>https://www.linkedin.com/in/benomrane-nour-4b4...</td>\n",
       "      <td>Data Science Student</td>\n",
       "      <td>Tunis, Tunis, Tunisia</td>\n",
       "      <td>Benomrane Nour</td>\n",
       "      <td>NaN</td>\n",
       "      <td>NaN</td>\n",
       "      <td>nan:nan,nan:nan</td>\n",
       "    </tr>\n",
       "    <tr>\n",
       "      <th>394</th>\n",
       "      <td>https://www.linkedin.com/in/ghassen-hammemi-10...</td>\n",
       "      <td>Data Science Engineering Student</td>\n",
       "      <td>Ariana, Tunisia</td>\n",
       "      <td>Ghassen Hammemi</td>\n",
       "      <td>NaN</td>\n",
       "      <td>Ingénierie, Communication, Gestion de projet, ...</td>\n",
       "      <td>nan:nan,nan:nan</td>\n",
       "    </tr>\n",
       "    <tr>\n",
       "      <th>397</th>\n",
       "      <td>https://www.linkedin.com/in/rachid-hssin/</td>\n",
       "      <td>Computer Science Student Engineering   #data_s...</td>\n",
       "      <td>Ariana Ville, Ariana, Tunisia</td>\n",
       "      <td>Rachid Hssin</td>\n",
       "      <td>NaN</td>\n",
       "      <td>C++, Python (langage de programmation), Flutte...</td>\n",
       "      <td>nan:nan,nan:nan</td>\n",
       "    </tr>\n",
       "    <tr>\n",
       "      <th>398</th>\n",
       "      <td>https://www.linkedin.com/in/mohamed-habib-douik/</td>\n",
       "      <td>Ingenieur informatique specialite Data Science</td>\n",
       "      <td>Ariana Ville, Ariana, Tunisia</td>\n",
       "      <td>Mohamed Habib DOUIK</td>\n",
       "      <td>NaN</td>\n",
       "      <td>Python (langage de programmation), Node.js, Sy...</td>\n",
       "      <td>nan:nan,nan:nan</td>\n",
       "    </tr>\n",
       "    <tr>\n",
       "      <th>411</th>\n",
       "      <td>https://www.linkedin.com/in/amine-hablani-1787...</td>\n",
       "      <td>Data science student</td>\n",
       "      <td>Tunis, Tunisia</td>\n",
       "      <td>amine hablani</td>\n",
       "      <td>NaN</td>\n",
       "      <td>NaN</td>\n",
       "      <td>nan:nan,nan:nan</td>\n",
       "    </tr>\n",
       "    <tr>\n",
       "      <th>413</th>\n",
       "      <td>https://www.linkedin.com/in/houssem-kais-0b6b3...</td>\n",
       "      <td>Data Science</td>\n",
       "      <td>Ariana, Tunisia</td>\n",
       "      <td>Houssem Kais</td>\n",
       "      <td>NaN</td>\n",
       "      <td>MySQL, C#, C (langage de programmation), Java,...</td>\n",
       "      <td>nan:nan,nan:nan</td>\n",
       "    </tr>\n",
       "    <tr>\n",
       "      <th>417</th>\n",
       "      <td>https://www.linkedin.com/in/med-ridha/</td>\n",
       "      <td>M1 Data Science and Software Development student</td>\n",
       "      <td>Tunis, Tunis, Tunisia</td>\n",
       "      <td>Med Ridha Zemzem</td>\n",
       "      <td>NaN</td>\n",
       "      <td>Web Development, java, PHP, c, unity, Node.js,...</td>\n",
       "      <td>nan:nan,nan:nan</td>\n",
       "    </tr>\n",
       "    <tr>\n",
       "      <th>426</th>\n",
       "      <td>https://www.linkedin.com/in/mariem-zouari-2582...</td>\n",
       "      <td>Élève ingénieur en Data science</td>\n",
       "      <td>Tunis, Tunis, Tunisia</td>\n",
       "      <td>Mariem Zouari</td>\n",
       "      <td>NaN</td>\n",
       "      <td>NaN</td>\n",
       "      <td>nan:nan,nan:nan</td>\n",
       "    </tr>\n",
       "    <tr>\n",
       "      <th>428</th>\n",
       "      <td>https://www.linkedin.com/in/mansour-ibtihel-38...</td>\n",
       "      <td>Data science master student</td>\n",
       "      <td>Monastir, Monastir, Tunisia</td>\n",
       "      <td>Mansour Ibtihel</td>\n",
       "      <td>NaN</td>\n",
       "      <td>Apprentissage automatique, Communication, Pyth...</td>\n",
       "      <td>nan:nan,nan:nan</td>\n",
       "    </tr>\n",
       "    <tr>\n",
       "      <th>432</th>\n",
       "      <td>https://www.linkedin.com/in/islem-bel-hadj-abd...</td>\n",
       "      <td>data science student | Looking an end studies ...</td>\n",
       "      <td>Tunisia</td>\n",
       "      <td>Islem Bel Hadj Abdallah</td>\n",
       "      <td>NaN</td>\n",
       "      <td>SQL, Arabe, Français, Anglais, Formation, Anal...</td>\n",
       "      <td>nan:nan,nan:nan</td>\n",
       "    </tr>\n",
       "    <tr>\n",
       "      <th>440</th>\n",
       "      <td>https://www.linkedin.com/in/abir-moula/</td>\n",
       "      <td>Data Science Student at ESPRIT</td>\n",
       "      <td>Tunis, Tunisia</td>\n",
       "      <td>Abir  Moula</td>\n",
       "      <td>NaN</td>\n",
       "      <td>MapReduce, Hadoop, Data Analysis, Data Warehou...</td>\n",
       "      <td>nan:nan,nan:nan</td>\n",
       "    </tr>\n",
       "    <tr>\n",
       "      <th>442</th>\n",
       "      <td>https://www.linkedin.com/in/rouissi-mehrez/</td>\n",
       "      <td>Data Science student</td>\n",
       "      <td>Tunisia</td>\n",
       "      <td>Rouissi Mehrez</td>\n",
       "      <td>NaN</td>\n",
       "      <td>SQL, Python (Programming Language), Problem So...</td>\n",
       "      <td>nan:nan,nan:nan</td>\n",
       "    </tr>\n",
       "    <tr>\n",
       "      <th>448</th>\n",
       "      <td>https://www.linkedin.com/in/rihab-dabbebi/</td>\n",
       "      <td>Data science Masters Student</td>\n",
       "      <td>Ben Arous, Tunisia</td>\n",
       "      <td>Dabbebi Rihab</td>\n",
       "      <td>NaN</td>\n",
       "      <td>Deep Learning, Machine Learning, Data Cleaning...</td>\n",
       "      <td>nan:nan,nan:nan</td>\n",
       "    </tr>\n",
       "    <tr>\n",
       "      <th>459</th>\n",
       "      <td>https://www.linkedin.com/in/khaoula-ben-othman...</td>\n",
       "      <td>Data Science Engineer</td>\n",
       "      <td>Tunisia</td>\n",
       "      <td>khaoula Ben othman</td>\n",
       "      <td>NaN</td>\n",
       "      <td>MongoDB, RStudio, Business Intelligence (BI), ...</td>\n",
       "      <td>nan:nan,nan:nan</td>\n",
       "    </tr>\n",
       "  </tbody>\n",
       "</table>\n",
       "</div>"
      ],
      "text/plain": [
       "                                                   URL  \\\n",
       "5                                                  NaN   \n",
       "11   https://www.linkedin.com/in/dhia-boudhraa-243b...   \n",
       "13   https://www.linkedin.com/in/ramzi-fraj-561814218/   \n",
       "23   https://www.linkedin.com/in/imen-ben-yahya-4a7...   \n",
       "28   https://www.linkedin.com/in/marwen-ayedi-1a951...   \n",
       "38   https://www.linkedin.com/in/maryem-waddeni-147...   \n",
       "61   https://www.linkedin.com/in/ahmed-boudhina-8a2...   \n",
       "69   https://www.linkedin.com/in/hatem-dardouri-99a...   \n",
       "70   https://www.linkedin.com/in/ahmed-bouhrira-6bb...   \n",
       "84   https://www.linkedin.com/in/jihene-chaieb-1467...   \n",
       "98   https://www.linkedin.com/in/dhia-abdelli-1a201...   \n",
       "222  https://www.linkedin.com/in/chayma-dhahri-b6b1...   \n",
       "224  https://www.linkedin.com/in/med-aziz-omrani-41...   \n",
       "226  https://www.linkedin.com/in/eya-bouzaiene-9812...   \n",
       "230  https://www.linkedin.com/in/ghada-ouni-800806197/   \n",
       "245  https://www.linkedin.com/in/dhibi-achref-81682...   \n",
       "248  https://www.linkedin.com/in/dhia-elhak-betaieb...   \n",
       "250   https://www.linkedin.com/in/amal-arbi-bb58551a3/   \n",
       "253  https://www.linkedin.com/in/jawadi-nesrine-78b...   \n",
       "259         https://www.linkedin.com/in/raslen-guesmi/   \n",
       "266  https://www.linkedin.com/in/gomri-melek-b8935a...   \n",
       "274  https://www.linkedin.com/in/asma-hwimli-0a1970...   \n",
       "277             https://www.linkedin.com/in/nourkobbi/   \n",
       "285  https://www.linkedin.com/in/jihene-saidi-6b634...   \n",
       "298          https://www.linkedin.com/in/achrefkhairi/   \n",
       "300  https://www.linkedin.com/in/mouhib-dalhoumi-45...   \n",
       "303  https://www.linkedin.com/in/siwar-dhifi-538b90...   \n",
       "314  https://www.linkedin.com/in/hassen-ben-said-09...   \n",
       "320  https://www.linkedin.com/in/chaima-njeh-563425...   \n",
       "322  https://www.linkedin.com/in/wajih-jouini-46816...   \n",
       "327  https://www.linkedin.com/in/mouhamed-ali-romme...   \n",
       "333  https://www.linkedin.com/in/chaima-laouini-878...   \n",
       "337        https://www.linkedin.com/in/saba-ben-salem/   \n",
       "338  https://www.linkedin.com/in/mohamed-amine-mila...   \n",
       "342         https://www.linkedin.com/in/chaima-chahed/   \n",
       "349  https://www.linkedin.com/in/zraibia-nour-33120...   \n",
       "351  https://www.linkedin.com/in/mariem-hachicha-17...   \n",
       "352  https://www.linkedin.com/in/ali-boughnim-65476...   \n",
       "353  https://www.linkedin.com/in/ikbel-fridhi-41380...   \n",
       "363  https://www.linkedin.com/in/sirine-dahech-bb1b...   \n",
       "364         https://www.linkedin.com/in/oumaima-hafsi/   \n",
       "369  https://www.linkedin.com/in/souha-diwani-83617...   \n",
       "371  https://www.linkedin.com/in/yosra-khalfaoui-29...   \n",
       "377  https://www.linkedin.com/in/benomrane-nour-4b4...   \n",
       "394  https://www.linkedin.com/in/ghassen-hammemi-10...   \n",
       "397          https://www.linkedin.com/in/rachid-hssin/   \n",
       "398   https://www.linkedin.com/in/mohamed-habib-douik/   \n",
       "411  https://www.linkedin.com/in/amine-hablani-1787...   \n",
       "413  https://www.linkedin.com/in/houssem-kais-0b6b3...   \n",
       "417             https://www.linkedin.com/in/med-ridha/   \n",
       "426  https://www.linkedin.com/in/mariem-zouari-2582...   \n",
       "428  https://www.linkedin.com/in/mansour-ibtihel-38...   \n",
       "432  https://www.linkedin.com/in/islem-bel-hadj-abd...   \n",
       "440            https://www.linkedin.com/in/abir-moula/   \n",
       "442        https://www.linkedin.com/in/rouissi-mehrez/   \n",
       "448         https://www.linkedin.com/in/rihab-dabbebi/   \n",
       "459  https://www.linkedin.com/in/khaoula-ben-othman...   \n",
       "\n",
       "                                             job_title  \\\n",
       "5                                                  NaN   \n",
       "11                                       Web developer   \n",
       "13                        UI/UX Designer Web Developer   \n",
       "23                                      Web developer    \n",
       "28             Front-end web developer:angular||react.   \n",
       "38                            Full Stack Web Developer   \n",
       "61          Full Stack Web Developer(React js/Node js)   \n",
       "69         Full Stack Web Developer {React js/Node js}   \n",
       "70                                       Web developer   \n",
       "84   Web Developer | Angular | Laravel | Symfony | ...   \n",
       "98                             Web Developer at Google   \n",
       "222                   Data science engineering student   \n",
       "224  Data science  engineering student | private hi...   \n",
       "226                  Data Science  Engineering student   \n",
       "230                              Data science student    \n",
       "245                               Data Science Student   \n",
       "248  Data Science and Actuarial Science Engineering...   \n",
       "250                          Data Science Student 👩🏻‍🎓   \n",
       "253                               Data science student   \n",
       "259                               Data Science Student   \n",
       "266      Data Science and Acturial engineering Student   \n",
       "274                   Data Science Engineering Student   \n",
       "277               Data Science and Engineering student   \n",
       "285                   DATA SCIENCE ENGINEERING STUDENT   \n",
       "298                            Data Science Enthusiast   \n",
       "300                  Data Science engineering student.   \n",
       "303         Data science  engineering student at ESSAI   \n",
       "314  Master degree student  Data science and softwa...   \n",
       "320                   Data Science Engineering Student   \n",
       "322                               Data Science Student   \n",
       "327        Data  Science engineering student at ESPRIT   \n",
       "333                               Data science student   \n",
       "337                                       Data Science   \n",
       "338                               Data Science Student   \n",
       "342                                       Data Science   \n",
       "349  data science engineering student at ESPRIT | r...   \n",
       "351  Data science and business intelligence enginee...   \n",
       "352                               Data science student   \n",
       "353                   Data science engineering student   \n",
       "363                               Data science student   \n",
       "364                              Data Science student    \n",
       "369                                       Data science   \n",
       "371                              Junior data scientist   \n",
       "377                               Data Science Student   \n",
       "394                   Data Science Engineering Student   \n",
       "397  Computer Science Student Engineering   #data_s...   \n",
       "398     Ingenieur informatique specialite Data Science   \n",
       "411                               Data science student   \n",
       "413                                       Data Science   \n",
       "417   M1 Data Science and Software Development student   \n",
       "426                    Élève ingénieur en Data science   \n",
       "428                        Data science master student   \n",
       "432  data science student | Looking an end studies ...   \n",
       "440                     Data Science Student at ESPRIT   \n",
       "442                               Data Science student   \n",
       "448                       Data science Masters Student   \n",
       "459                              Data Science Engineer   \n",
       "\n",
       "                                              location  \\\n",
       "5                                                  NaN   \n",
       "11   Délégation Kairouan Sud, Gouvernorat Kairouan,...   \n",
       "13     Délégation Kélibia, Gouvernorat Nabeul, Tunisie   \n",
       "23                           Gouvernorat Sfax, Tunisie   \n",
       "28   Délégation Sakiet Eddaier, Gouvernorat Sfax, T...   \n",
       "38                         Gouvernorat Nabeul, Tunisie   \n",
       "61                 Ariana, Gouvernorat Ariana, Tunisie   \n",
       "69                 Ariana, Gouvernorat Ariana, Tunisie   \n",
       "70                   Tunis, Gouvernorat Tunis, Tunisie   \n",
       "84                                             Tunisie   \n",
       "98                          Gouvernorat Tunis, Tunisie   \n",
       "222          Ariana Ville, Gouvernorat Ariana, Tunisie   \n",
       "224                         Gouvernorat Tunis, Tunisie   \n",
       "226                  Tunis, Gouvernorat Tunis, Tunisie   \n",
       "230                      Gouvernorat Monastir, Tunisie   \n",
       "245                  Tunis, Gouvernorat Tunis, Tunisie   \n",
       "248                  Tunis, Gouvernorat Tunis, Tunisie   \n",
       "250                  Tunis, Gouvernorat Tunis, Tunisie   \n",
       "253                         Gouvernorat Gabès, Tunisie   \n",
       "259   Délégation Hammamet, Gouvernorat Nabeul, Tunisie   \n",
       "266                  Tunis, Gouvernorat Tunis, Tunisie   \n",
       "274                  Tunis, Gouvernorat Tunis, Tunisie   \n",
       "277                  Tunis, Gouvernorat Tunis, Tunisie   \n",
       "285                         Gouvernorat Tunis, Tunisie   \n",
       "298                  Tunis, Gouvernorat Tunis, Tunisie   \n",
       "300                  Tunis, Gouvernorat Tunis, Tunisie   \n",
       "303                  Tunis, Gouvernorat Tunis, Tunisie   \n",
       "314                         Gouvernorat Tunis, Tunisie   \n",
       "320                  Tunis, Gouvernorat Tunis, Tunisie   \n",
       "322  Délégation El Battane, Gouvernorat La Manouba,...   \n",
       "327   Délégation Hammamet, Gouvernorat Nabeul, Tunisie   \n",
       "333                  Tunis, Gouvernorat Tunis, Tunisie   \n",
       "337  Délégation Dar Chaabane El Fehri, Nabeul, Tunisia   \n",
       "338                      Grand Tunis Metropolitan Area   \n",
       "342                                    Sousse, Tunisia   \n",
       "349                              Tunis, Tunis, Tunisia   \n",
       "351                                      Sfax, Tunisia   \n",
       "352                              Tunis, Tunis, Tunisia   \n",
       "353                                 Kasserine, Tunisia   \n",
       "363                                   Bizerte, Tunisia   \n",
       "364                                    Nabeul, Tunisia   \n",
       "369                              Tunis, Tunis, Tunisia   \n",
       "371                                            Tunisia   \n",
       "377                              Tunis, Tunis, Tunisia   \n",
       "394                                    Ariana, Tunisia   \n",
       "397                      Ariana Ville, Ariana, Tunisia   \n",
       "398                      Ariana Ville, Ariana, Tunisia   \n",
       "411                                     Tunis, Tunisia   \n",
       "413                                    Ariana, Tunisia   \n",
       "417                              Tunis, Tunis, Tunisia   \n",
       "426                              Tunis, Tunis, Tunisia   \n",
       "428                        Monastir, Monastir, Tunisia   \n",
       "432                                            Tunisia   \n",
       "440                                     Tunis, Tunisia   \n",
       "442                                            Tunisia   \n",
       "448                                 Ben Arous, Tunisia   \n",
       "459                                            Tunisia   \n",
       "\n",
       "                        Name company  \\\n",
       "5                        NaN     NaN   \n",
       "11             Dhia Boudhraa     NaN   \n",
       "13                ramzi fraj     NaN   \n",
       "23           Imen  Ben Yahya     NaN   \n",
       "28              Marwen Ayedi     NaN   \n",
       "38            maryem waddeni     NaN   \n",
       "61            Ahmed Boudhina     NaN   \n",
       "69            Hatem Dardouri     NaN   \n",
       "70            Ahmed Bouhrira     NaN   \n",
       "84             jihene chaieb     NaN   \n",
       "98              dhia abdelli     NaN   \n",
       "222            chayma dhahri     NaN   \n",
       "224          Med aziz Omrani     NaN   \n",
       "226            eya bouzaiene     NaN   \n",
       "230               ghada ouni     NaN   \n",
       "245             Dhibi Achref     NaN   \n",
       "248       Dhia Elhak Betaieb     NaN   \n",
       "250                amal arbi     NaN   \n",
       "253           Jawadi Nesrine     NaN   \n",
       "259            Raslen Guesmi     NaN   \n",
       "266              Gomri Melek     NaN   \n",
       "274              Asma Hwimli     NaN   \n",
       "277               Nour Kobbi     NaN   \n",
       "285             Jihene SAIDI     NaN   \n",
       "298            Achref Khairi     NaN   \n",
       "300          Mouhib Dalhoumi     NaN   \n",
       "303              Siwar Dhifi     NaN   \n",
       "314          Hassen ben said     NaN   \n",
       "320              Chaima Njeh     NaN   \n",
       "322             wajih jouini     NaN   \n",
       "327     Mouhamed Ali Rommene     NaN   \n",
       "333           chaima laouini     NaN   \n",
       "337           Saba BEN SALEM     NaN   \n",
       "338     Mohamed Amine Miladi     NaN   \n",
       "342            chaima chahed     NaN   \n",
       "349             zraibia nour     NaN   \n",
       "351          Mariem Hachicha     NaN   \n",
       "352             Ali Boughnim     NaN   \n",
       "353             ikbel fridhi     NaN   \n",
       "363            Sirine Dahech     NaN   \n",
       "364            Oumaima Hafsi     NaN   \n",
       "369             Souha Diwani     NaN   \n",
       "371          Yosra KHALFAOUI     NaN   \n",
       "377           Benomrane Nour     NaN   \n",
       "394          Ghassen Hammemi     NaN   \n",
       "397             Rachid Hssin     NaN   \n",
       "398      Mohamed Habib DOUIK     NaN   \n",
       "411            amine hablani     NaN   \n",
       "413             Houssem Kais     NaN   \n",
       "417         Med Ridha Zemzem     NaN   \n",
       "426            Mariem Zouari     NaN   \n",
       "428          Mansour Ibtihel     NaN   \n",
       "432  Islem Bel Hadj Abdallah     NaN   \n",
       "440              Abir  Moula     NaN   \n",
       "442           Rouissi Mehrez     NaN   \n",
       "448            Dabbebi Rihab     NaN   \n",
       "459       khaoula Ben othman     NaN   \n",
       "\n",
       "                                                skills      experiences  \n",
       "5                                                  NaN  nan:nan,nan:nan  \n",
       "11   Laravel, Cascading Style Sheets (CSS), HTML5, ...  nan:nan,nan:nan  \n",
       "13   Anglais, Développement web, Développement d’ap...  nan:nan,nan:nan  \n",
       "23                                                 NaN  nan:nan,nan:nan  \n",
       "28   Problem Solving, Web Development, Back-End Web...  nan:nan,nan:nan  \n",
       "38   MySQL, Java, Oracle SQL Developer, Web Design,...  nan:nan,nan:nan  \n",
       "61   React.js, Node.js, JavaScript, Symfony, HTML5,...  nan:nan,nan:nan  \n",
       "69   React.js, Node.js, JavaScript, HTML5, Feuilles...  nan:nan,nan:nan  \n",
       "70   JavaScript, Node.js, MongoDB, Angular, Vue.js,...  nan:nan,nan:nan  \n",
       "84   angular, SQL, Unity, GitHub, java, Microsoft S...  nan:nan,nan:nan  \n",
       "98                                                 NaN  nan:nan,nan:nan  \n",
       "222                                                NaN  nan:nan,nan:nan  \n",
       "224                                                NaN  nan:nan,nan:nan  \n",
       "226                                                NaN  nan:nan,nan:nan  \n",
       "230                                                NaN  nan:nan,nan:nan  \n",
       "245                                                NaN  nan:nan,nan:nan  \n",
       "248  Computer vision, SQL, Python, NLP, R, Deep lea...  nan:nan,nan:nan  \n",
       "250                                                NaN  nan:nan,nan:nan  \n",
       "253  JavaScript, HTML5, C++, CSS, C (langage de pro...  nan:nan,nan:nan  \n",
       "259  Natural Language Processing (NLP), Communicati...  nan:nan,nan:nan  \n",
       "266  Python (langage de programmation), Framework S...  nan:nan,nan:nan  \n",
       "274                            English, French, Arabic  nan:nan,nan:nan  \n",
       "277  AngularJS, .NET framework, Développement de lo...  nan:nan,nan:nan  \n",
       "285  PHP, Java, JavaScript, Linux, Cisco Networking...  nan:nan,nan:nan  \n",
       "298  Graphic Design, Marketing, Full-Stack Developm...  nan:nan,nan:nan  \n",
       "300                                                NaN  nan:nan,nan:nan  \n",
       "303  R (Programming language), Python (Programming ...  nan:nan,nan:nan  \n",
       "314                                                NaN  nan:nan,nan:nan  \n",
       "320                                                NaN  nan:nan,nan:nan  \n",
       "322                                                NaN  nan:nan,nan:nan  \n",
       "327  Python (Programming Language), Django, Scrum, ...  nan:nan,nan:nan  \n",
       "333  Marketing digital, r studio, Java SE, MongoDB,...  nan:nan,nan:nan  \n",
       "337                                                NaN  nan:nan,nan:nan  \n",
       "338                                                NaN  nan:nan,nan:nan  \n",
       "342  Java, Java Database Connectivity (JDBC), Angul...  nan:nan,nan:nan  \n",
       "349                                                NaN  nan:nan,nan:nan  \n",
       "351  Python (Programming Language), C (Programming ...  nan:nan,nan:nan  \n",
       "352                                                NaN  nan:nan,nan:nan  \n",
       "353                                                NaN  nan:nan,nan:nan  \n",
       "363  Machine Learning, Python (langage de programma...  nan:nan,nan:nan  \n",
       "364                                                NaN  nan:nan,nan:nan  \n",
       "369  JavaScript, Feuilles de style en cascade (CSS)...  nan:nan,nan:nan  \n",
       "371  Python (langage de programmation), NoSQL, Trai...  nan:nan,nan:nan  \n",
       "377                                                NaN  nan:nan,nan:nan  \n",
       "394  Ingénierie, Communication, Gestion de projet, ...  nan:nan,nan:nan  \n",
       "397  C++, Python (langage de programmation), Flutte...  nan:nan,nan:nan  \n",
       "398  Python (langage de programmation), Node.js, Sy...  nan:nan,nan:nan  \n",
       "411                                                NaN  nan:nan,nan:nan  \n",
       "413  MySQL, C#, C (langage de programmation), Java,...  nan:nan,nan:nan  \n",
       "417  Web Development, java, PHP, c, unity, Node.js,...  nan:nan,nan:nan  \n",
       "426                                                NaN  nan:nan,nan:nan  \n",
       "428  Apprentissage automatique, Communication, Pyth...  nan:nan,nan:nan  \n",
       "432  SQL, Arabe, Français, Anglais, Formation, Anal...  nan:nan,nan:nan  \n",
       "440  MapReduce, Hadoop, Data Analysis, Data Warehou...  nan:nan,nan:nan  \n",
       "442  SQL, Python (Programming Language), Problem So...  nan:nan,nan:nan  \n",
       "448  Deep Learning, Machine Learning, Data Cleaning...  nan:nan,nan:nan  \n",
       "459  MongoDB, RStudio, Business Intelligence (BI), ...  nan:nan,nan:nan  "
      ]
     },
     "execution_count": 1053,
     "metadata": {},
     "output_type": "execute_result"
    }
   ],
   "source": [
    "df[df['company'].isnull()]"
   ]
  },
  {
   "cell_type": "code",
   "execution_count": 1054,
   "id": "c46465e3",
   "metadata": {},
   "outputs": [
    {
     "name": "stderr",
     "output_type": "stream",
     "text": [
      "C:\\Users\\guira\\AppData\\Local\\Temp\\ipykernel_16364\\3746081923.py:1: SettingWithCopyWarning:\n",
      "\n",
      "\n",
      "A value is trying to be set on a copy of a slice from a DataFrame\n",
      "\n",
      "See the caveats in the documentation: https://pandas.pydata.org/pandas-docs/stable/user_guide/indexing.html#returning-a-view-versus-a-copy\n",
      "\n"
     ]
    }
   ],
   "source": [
    "df['company'].fillna(\"invalid company name\", inplace=True)"
   ]
  },
  {
   "cell_type": "code",
   "execution_count": 1055,
   "id": "c64a9836",
   "metadata": {},
   "outputs": [
    {
     "data": {
      "text/plain": [
       "URL             1\n",
       "job_title       2\n",
       "location        1\n",
       "Name            1\n",
       "company         0\n",
       "skills         47\n",
       "experiences     0\n",
       "dtype: int64"
      ]
     },
     "execution_count": 1055,
     "metadata": {},
     "output_type": "execute_result"
    }
   ],
   "source": [
    "df.isnull().sum()"
   ]
  },
  {
   "cell_type": "code",
   "execution_count": 1056,
   "id": "291b1a4d",
   "metadata": {},
   "outputs": [
    {
     "data": {
      "application/vnd.plotly.v1+json": {
       "config": {
        "plotlyServerURL": "https://plot.ly"
       },
       "data": [
        {
         "marker": {
          "color": [
           57,
           15,
           7,
           5,
           4,
           4,
           4,
           4,
           3,
           3,
           3,
           3,
           3,
           3,
           3,
           3,
           3,
           2,
           2,
           2,
           2,
           2,
           2,
           2,
           2,
           2,
           2,
           2,
           2,
           2,
           2,
           2,
           2,
           2,
           2,
           2,
           2,
           2,
           2,
           2,
           2,
           2,
           2,
           2,
           1,
           1,
           1,
           1,
           1,
           1,
           1,
           1,
           1,
           1,
           1,
           1,
           1,
           1,
           1,
           1,
           1,
           1,
           1,
           1,
           1,
           1,
           1,
           1,
           1,
           1,
           1,
           1,
           1,
           1,
           1,
           1,
           1,
           1,
           1,
           1,
           1,
           1,
           1,
           1,
           1,
           1,
           1,
           1,
           1,
           1,
           1,
           1,
           1,
           1,
           1,
           1,
           1,
           1,
           1,
           1,
           1,
           1,
           1,
           1,
           1,
           1,
           1,
           1,
           1,
           1,
           1,
           1,
           1,
           1,
           1,
           1,
           1,
           1,
           1,
           1,
           1,
           1,
           1,
           1,
           1,
           1,
           1,
           1,
           1,
           1,
           1,
           1,
           1,
           1,
           1,
           1,
           1,
           1,
           1,
           1,
           1,
           1,
           1,
           1,
           1,
           1,
           1,
           1,
           1,
           1,
           1,
           1,
           1,
           1,
           1,
           1,
           1,
           1,
           1,
           1,
           1,
           1,
           1,
           1,
           1,
           1,
           1,
           1,
           1,
           1,
           1,
           1,
           1,
           1,
           1,
           1,
           1,
           1,
           1,
           1,
           1,
           1,
           1,
           1,
           1,
           1,
           1,
           1,
           1,
           1,
           1,
           1,
           1,
           1,
           1,
           1,
           1,
           1,
           1,
           1,
           1,
           1,
           1,
           1,
           1,
           1,
           1,
           1,
           1,
           1,
           1,
           1,
           1,
           1,
           1,
           1,
           1,
           1,
           1,
           1,
           1,
           1,
           1,
           1,
           1,
           1,
           1,
           1,
           1,
           1,
           1,
           1,
           1,
           1,
           1,
           1,
           1,
           1,
           1,
           1,
           1,
           1,
           1,
           1,
           1,
           1,
           1,
           1,
           1,
           1,
           1,
           1,
           1,
           1,
           1,
           1,
           1,
           1,
           1,
           1,
           1,
           1,
           1,
           1,
           1,
           1,
           1,
           1,
           1,
           1,
           1,
           1,
           1,
           1,
           1,
           1,
           1,
           1,
           1,
           1,
           1,
           1,
           1,
           1,
           1,
           1,
           1,
           1,
           1,
           1,
           1,
           1,
           1,
           1,
           1,
           1,
           1,
           1,
           1
          ]
         },
         "text": [
          57,
          15,
          7,
          5,
          4,
          4,
          4,
          4,
          3,
          3,
          3,
          3,
          3,
          3,
          3,
          3,
          3,
          2,
          2,
          2,
          2,
          2,
          2,
          2,
          2,
          2,
          2,
          2,
          2,
          2,
          2,
          2,
          2,
          2,
          2,
          2,
          2,
          2,
          2,
          2,
          2,
          2,
          2,
          2,
          1,
          1,
          1,
          1,
          1,
          1,
          1,
          1,
          1,
          1,
          1,
          1,
          1,
          1,
          1,
          1,
          1,
          1,
          1,
          1,
          1,
          1,
          1,
          1,
          1,
          1,
          1,
          1,
          1,
          1,
          1,
          1,
          1,
          1,
          1,
          1,
          1,
          1,
          1,
          1,
          1,
          1,
          1,
          1,
          1,
          1,
          1,
          1,
          1,
          1,
          1,
          1,
          1,
          1,
          1,
          1,
          1,
          1,
          1,
          1,
          1,
          1,
          1,
          1,
          1,
          1,
          1,
          1,
          1,
          1,
          1,
          1,
          1,
          1,
          1,
          1,
          1,
          1,
          1,
          1,
          1,
          1,
          1,
          1,
          1,
          1,
          1,
          1,
          1,
          1,
          1,
          1,
          1,
          1,
          1,
          1,
          1,
          1,
          1,
          1,
          1,
          1,
          1,
          1,
          1,
          1,
          1,
          1,
          1,
          1,
          1,
          1,
          1,
          1,
          1,
          1,
          1,
          1,
          1,
          1,
          1,
          1,
          1,
          1,
          1,
          1,
          1,
          1,
          1,
          1,
          1,
          1,
          1,
          1,
          1,
          1,
          1,
          1,
          1,
          1,
          1,
          1,
          1,
          1,
          1,
          1,
          1,
          1,
          1,
          1,
          1,
          1,
          1,
          1,
          1,
          1,
          1,
          1,
          1,
          1,
          1,
          1,
          1,
          1,
          1,
          1,
          1,
          1,
          1,
          1,
          1,
          1,
          1,
          1,
          1,
          1,
          1,
          1,
          1,
          1,
          1,
          1,
          1,
          1,
          1,
          1,
          1,
          1,
          1,
          1,
          1,
          1,
          1,
          1,
          1,
          1,
          1,
          1,
          1,
          1,
          1,
          1,
          1,
          1,
          1,
          1,
          1,
          1,
          1,
          1,
          1,
          1,
          1,
          1,
          1,
          1,
          1,
          1,
          1,
          1,
          1,
          1,
          1,
          1,
          1,
          1,
          1,
          1,
          1,
          1,
          1,
          1,
          1,
          1,
          1,
          1,
          1,
          1,
          1,
          1,
          1,
          1,
          1,
          1,
          1,
          1,
          1,
          1,
          1,
          1,
          1,
          1,
          1,
          1,
          1
         ],
         "textposition": "outside",
         "type": "bar",
         "x": [
          "invalid company name",
          "Freelance",
          "ESPRIT (Ecole Supérieure Privée d'Ingénierie et de Technologies)",
          "GOMYCODE",
          "Ecole Supérieure Privée d'Ingénierie et de Technologies - ESPRIT",
          "Quantylix",
          "Value",
          "satoripop",
          "Tunisie Telecom",
          "Anypli",
          "EY",
          "Ooredoo Tunisie",
          "Infor",
          "ELYADATA",
          "axefinance",
          "Neopolis Development",
          "WEVIOO",
          "MASS Analytics",
          "CodeClause",
          "M13h",
          "IEEE Computer Society Chapter - FST Student Branch",
          "NeoLedge",
          "TEK-UP",
          "Wimbee",
          "BIAT",
          "Freelancer",
          "Talan Tunisie",
          "VERMEG for Banking & Insurance Software",
          "ZETABOX",
          "Délice Holding",
          "Proxym Group",
          "Advanced Derivative Solutions",
          "TALYS",
          "ISAMM Microsoft Club",
          "Banque Zitouna",
          "MEDIANET",
          "The Sparks Foundation",
          "ESSAI Junior Entreprise",
          "Streamlink",
          "Go My Code",
          "Telnet",
          "Venari Security",
          "Tunisie Télécom",
          "Talan",
          "AYMAX",
          "canadian system technology",
          "ANSI - tunCERT",
          "Phoenix-IT-Services",
          "Rutilea, Inc.",
          "Tmkin Dev Informatique",
          "Assurances BIAT",
          "ESPRIT",
          "Aucune",
          "UBCI",
          "Upgrade Factory, Tunisia",
          "Moneybounce",
          "ATIA Tunisia",
          "Ministère de l'Intérieur",
          "Sodexo Benefits and Rewards Services",
          "BFI GROUP",
          "Data Science",
          "Groupe SFM",
          "Primatec Engineering",
          "Générale Tunisienne de l'Informatique |  Attijari Bank Tunisie",
          "PODYAM",
          "Deepera.AI",
          "Rec-inov",
          "AIC Bureau d'Etudes",
          "Freelance Provider",
          "Sofrecom Tunisie",
          "Acredius",
          "WINDATA",
          "LINAGORA",
          "CNSS - Caisse Nationale de Sécurité Sociale",
          "Mauritel SA",
          "Institut Supérieur des Systèmes Industriels de Gabès",
          "IEEE AESS Chapter - ESPRIT Student Branch",
          "Diool Labs",
          "ArabSoft",
          "Kleos Training Center",
          "Magaztee",
          "One to One for Research and Polling",
          "SOCIETE TUNISIENNE DE BANQUE",
          "ERM Partners TN",
          "Laboratoire LAMSIN",
          "LEONI",
          "ISIMA",
          "Biware",
          "Goodwill Consulting",
          "The National Observatory of New and Emerging Diseases",
          "Triweb",
          "IYA SOFT",
          "Cognira",
          "Sartex Group",
          "Engineers Spark - Fst",
          "AMA GROUP",
          "MediSail",
          "Trust Services",
          "Sentidigital International Marketing Agency",
          "EURA NOVA",
          "Groupe Chimique Tunisien",
          "Omdena",
          "Picosoft",
          "Eunoia Academy",
          "Hormiga-services",
          "SMART MS SA",
          "LVMH",
          "DefensyLab",
          "BH Assurance",
          "Cabinet de comptabilité",
          "Afrikanda",
          "GET WIRELESS",
          "Medicacom",
          "Neway IT",
          "TunCom",
          "OPTIMA Junior Entreprise",
          "Smart Marketing Advisors : Junior Entreprise",
          "ISTIC Borj-cedria",
          "Public sector",
          "IOTGraphic",
          "PBR Rating",
          "Orange Tunisie",
          "smart tunisian technoparks",
          "Smart Conseil",
          "Heroi",
          "North American Tunisian Engineers Groupe (NATEG)",
          "Continuous Net",
          "RIDCHA DATA",
          "École Supérieure de la Statistique et de l'Analyse de l'Information",
          "ZMWARE - Société De Consulting Et De Développement des Systèmes Informatique.",
          "Enova ROBOTICS",
          "Firma Solutions",
          "IPACT Consult inc.",
          "ISS4U",
          "Pwn & Patch",
          "Enactus FST manar",
          "Pierian Data Inc.",
          "BANQUE DE TUNISIE",
          "Onetech Business Solutions",
          "iset nabeul",
          "Digital Research Center of Sfax",
          "Timsoft Group",
          "OliveSoft",
          "DataDoIt",
          "Sotetel",
          "Data Co-Lab",
          "Tinast Canada",
          "Fonds Social Transport et Logistique",
          "STB Bank الشركة التونسية للبنك",
          "attijari bank",
          "Zitouna Bank",
          "ALmourabi E-learning",
          "LOGICOM INFORMATIQUE SFAX",
          "foodomarket",
          "Booster BC",
          "Société Nationale de Distribution des Pétroles AGIL S.A",
          "Tenstep Tunisia",
          "PwC Technology Acceleration Center Tunisia",
          "Clinisys ERP",
          "Tassahil Center for Intelligent Solutions",
          "Capgemini Engineering",
          "Yellowsys",
          "EXCELIOR CONSEIL",
          "ODDO BHF",
          "IT BUSINESS SCHOOL",
          "La Poste Tunisienne",
          "Fiverr",
          "PITERION Group",
          "TLedger",
          "PENTABELL",
          "UTINA",
          "Indépendant",
          "perfect web technology",
          "Attijari bank Tunisie",
          "Sofrecom",
          "Technologia Academy",
          "GDev",
          "SAGEMCOM",
          "Smart AGL",
          "My own",
          "axia solutions",
          "Codix",
          "UPTech",
          "STREAMWIDE",
          "Advantry X",
          "keejob.com",
          "EA-DEVELOPMENT",
          "PEM DISTRIBUTION",
          "SMARTECH EAM Experts",
          "Uteek - Digital Agency",
          "Inetum",
          "NETOLYS",
          "Avempace",
          "Digibrain Agency",
          "SMARTECH Maximo Experts",
          "TELNET Space",
          "MBS Contact",
          "INTELLIGENT CONCEPTS SA",
          "BROS TECHNOLOGIE",
          "MyTek.tn",
          "PixiMind",
          "SIGA",
          "Your Team in Tunisia",
          "SECUR WEB",
          "Tekab.dev",
          "Générale Tunisienne de l'Informatique | GTI",
          "Avaxia Consulting",
          "CAPITOL SOFT",
          "Alerta Security",
          "Sofflex",
          "Chaaben Technology Group",
          "Bansko consulting",
          "STAMP",
          "ISET SIDI BOUZID",
          "Autres",
          "FSP plastique",
          "EVASTIN",
          "DEVCLIC COM",
          "Alumetal LLC",
          "Sagemcom",
          "Eight Prod",
          "Tunisie Nouvelles Technologies",
          "Confidencial",
          "PSZ electronic GmbH",
          "OWLIANCE",
          "Simplon.co",
          "Upwork",
          "TouchdownApps",
          "Leadiya",
          "Web2code",
          "SOFTParadigm",
          "LBConsulting",
          "New Access",
          "MarketBey",
          "TEAM IT Connection  ELeusys",
          "AAG Ventures",
          "Katomi France",
          "Hookedup",
          "Groupe Ténor",
          "TakiAcademy",
          "ENVAST",
          "PAYBACK",
          "Coriolis",
          "LOGAWIN",
          "SOSCuisine",
          "ASM - All Soft Multimedia",
          "Huawei",
          "MS Solutions Group (Monetics Services Solutions)",
          "StreamWIDE",
          "Frontend web developer",
          "Sierra Bravo Intelligence",
          "Wecraft",
          "Stagii.tn",
          "Axe Finance",
          "MENAPS",
          "RIF : Rassemblement des Ingénieurs Francophones",
          "École Nationale d'Electronique et des Télécommunications de Sfax (ENET'Com)",
          "Conseil Bancaire et Financier",
          "Galactech LLC",
          "Enactus FST",
          "Featway",
          "IEEE ESPRIT Student Branch",
          "Enactus",
          "Digital Identity",
          "Akkurad GmbH",
          "Hydatis",
          "Smarteo",
          "Linkia",
          "Elyos Digital",
          "AI BRIGHT",
          "DHYGEE",
          "WeDev",
          "HandsOn Systems",
          "LE TAFF",
          "Tayara Group",
          "B2M-IT",
          "Beyond Limit Studio",
          "WIMOBI",
          "Beautinda",
          "dejamobile",
          "Mobiblanc",
          "GBarena",
          "STE FHT",
          "Mantu",
          "Octoreality",
          "Brainy Concept",
          "MajusTic",
          "iDevBand - Digital Innovations 💡",
          "Digilogement",
          "Tech4IoT",
          "Superverse",
          "XtendPlex Group",
          "Majda Smart Solutions",
          "DuetoData",
          "Tekniva",
          "TechGenez Inc",
          "BFI Groupe",
          "NOVATEL IT Group",
          "TahaPharma"
         ],
         "y": [
          57,
          15,
          7,
          5,
          4,
          4,
          4,
          4,
          3,
          3,
          3,
          3,
          3,
          3,
          3,
          3,
          3,
          2,
          2,
          2,
          2,
          2,
          2,
          2,
          2,
          2,
          2,
          2,
          2,
          2,
          2,
          2,
          2,
          2,
          2,
          2,
          2,
          2,
          2,
          2,
          2,
          2,
          2,
          2,
          1,
          1,
          1,
          1,
          1,
          1,
          1,
          1,
          1,
          1,
          1,
          1,
          1,
          1,
          1,
          1,
          1,
          1,
          1,
          1,
          1,
          1,
          1,
          1,
          1,
          1,
          1,
          1,
          1,
          1,
          1,
          1,
          1,
          1,
          1,
          1,
          1,
          1,
          1,
          1,
          1,
          1,
          1,
          1,
          1,
          1,
          1,
          1,
          1,
          1,
          1,
          1,
          1,
          1,
          1,
          1,
          1,
          1,
          1,
          1,
          1,
          1,
          1,
          1,
          1,
          1,
          1,
          1,
          1,
          1,
          1,
          1,
          1,
          1,
          1,
          1,
          1,
          1,
          1,
          1,
          1,
          1,
          1,
          1,
          1,
          1,
          1,
          1,
          1,
          1,
          1,
          1,
          1,
          1,
          1,
          1,
          1,
          1,
          1,
          1,
          1,
          1,
          1,
          1,
          1,
          1,
          1,
          1,
          1,
          1,
          1,
          1,
          1,
          1,
          1,
          1,
          1,
          1,
          1,
          1,
          1,
          1,
          1,
          1,
          1,
          1,
          1,
          1,
          1,
          1,
          1,
          1,
          1,
          1,
          1,
          1,
          1,
          1,
          1,
          1,
          1,
          1,
          1,
          1,
          1,
          1,
          1,
          1,
          1,
          1,
          1,
          1,
          1,
          1,
          1,
          1,
          1,
          1,
          1,
          1,
          1,
          1,
          1,
          1,
          1,
          1,
          1,
          1,
          1,
          1,
          1,
          1,
          1,
          1,
          1,
          1,
          1,
          1,
          1,
          1,
          1,
          1,
          1,
          1,
          1,
          1,
          1,
          1,
          1,
          1,
          1,
          1,
          1,
          1,
          1,
          1,
          1,
          1,
          1,
          1,
          1,
          1,
          1,
          1,
          1,
          1,
          1,
          1,
          1,
          1,
          1,
          1,
          1,
          1,
          1,
          1,
          1,
          1,
          1,
          1,
          1,
          1,
          1,
          1,
          1,
          1,
          1,
          1,
          1,
          1,
          1,
          1,
          1,
          1,
          1,
          1,
          1,
          1,
          1,
          1,
          1,
          1,
          1,
          1,
          1,
          1,
          1,
          1,
          1,
          1,
          1,
          1,
          1,
          1,
          1
         ]
        }
       ],
       "layout": {
        "template": {
         "data": {
          "bar": [
           {
            "error_x": {
             "color": "#2a3f5f"
            },
            "error_y": {
             "color": "#2a3f5f"
            },
            "marker": {
             "line": {
              "color": "#E5ECF6",
              "width": 0.5
             },
             "pattern": {
              "fillmode": "overlay",
              "size": 10,
              "solidity": 0.2
             }
            },
            "type": "bar"
           }
          ],
          "barpolar": [
           {
            "marker": {
             "line": {
              "color": "#E5ECF6",
              "width": 0.5
             },
             "pattern": {
              "fillmode": "overlay",
              "size": 10,
              "solidity": 0.2
             }
            },
            "type": "barpolar"
           }
          ],
          "carpet": [
           {
            "aaxis": {
             "endlinecolor": "#2a3f5f",
             "gridcolor": "white",
             "linecolor": "white",
             "minorgridcolor": "white",
             "startlinecolor": "#2a3f5f"
            },
            "baxis": {
             "endlinecolor": "#2a3f5f",
             "gridcolor": "white",
             "linecolor": "white",
             "minorgridcolor": "white",
             "startlinecolor": "#2a3f5f"
            },
            "type": "carpet"
           }
          ],
          "choropleth": [
           {
            "colorbar": {
             "outlinewidth": 0,
             "ticks": ""
            },
            "type": "choropleth"
           }
          ],
          "contour": [
           {
            "colorbar": {
             "outlinewidth": 0,
             "ticks": ""
            },
            "colorscale": [
             [
              0,
              "#0d0887"
             ],
             [
              0.1111111111111111,
              "#46039f"
             ],
             [
              0.2222222222222222,
              "#7201a8"
             ],
             [
              0.3333333333333333,
              "#9c179e"
             ],
             [
              0.4444444444444444,
              "#bd3786"
             ],
             [
              0.5555555555555556,
              "#d8576b"
             ],
             [
              0.6666666666666666,
              "#ed7953"
             ],
             [
              0.7777777777777778,
              "#fb9f3a"
             ],
             [
              0.8888888888888888,
              "#fdca26"
             ],
             [
              1,
              "#f0f921"
             ]
            ],
            "type": "contour"
           }
          ],
          "contourcarpet": [
           {
            "colorbar": {
             "outlinewidth": 0,
             "ticks": ""
            },
            "type": "contourcarpet"
           }
          ],
          "heatmap": [
           {
            "colorbar": {
             "outlinewidth": 0,
             "ticks": ""
            },
            "colorscale": [
             [
              0,
              "#0d0887"
             ],
             [
              0.1111111111111111,
              "#46039f"
             ],
             [
              0.2222222222222222,
              "#7201a8"
             ],
             [
              0.3333333333333333,
              "#9c179e"
             ],
             [
              0.4444444444444444,
              "#bd3786"
             ],
             [
              0.5555555555555556,
              "#d8576b"
             ],
             [
              0.6666666666666666,
              "#ed7953"
             ],
             [
              0.7777777777777778,
              "#fb9f3a"
             ],
             [
              0.8888888888888888,
              "#fdca26"
             ],
             [
              1,
              "#f0f921"
             ]
            ],
            "type": "heatmap"
           }
          ],
          "heatmapgl": [
           {
            "colorbar": {
             "outlinewidth": 0,
             "ticks": ""
            },
            "colorscale": [
             [
              0,
              "#0d0887"
             ],
             [
              0.1111111111111111,
              "#46039f"
             ],
             [
              0.2222222222222222,
              "#7201a8"
             ],
             [
              0.3333333333333333,
              "#9c179e"
             ],
             [
              0.4444444444444444,
              "#bd3786"
             ],
             [
              0.5555555555555556,
              "#d8576b"
             ],
             [
              0.6666666666666666,
              "#ed7953"
             ],
             [
              0.7777777777777778,
              "#fb9f3a"
             ],
             [
              0.8888888888888888,
              "#fdca26"
             ],
             [
              1,
              "#f0f921"
             ]
            ],
            "type": "heatmapgl"
           }
          ],
          "histogram": [
           {
            "marker": {
             "pattern": {
              "fillmode": "overlay",
              "size": 10,
              "solidity": 0.2
             }
            },
            "type": "histogram"
           }
          ],
          "histogram2d": [
           {
            "colorbar": {
             "outlinewidth": 0,
             "ticks": ""
            },
            "colorscale": [
             [
              0,
              "#0d0887"
             ],
             [
              0.1111111111111111,
              "#46039f"
             ],
             [
              0.2222222222222222,
              "#7201a8"
             ],
             [
              0.3333333333333333,
              "#9c179e"
             ],
             [
              0.4444444444444444,
              "#bd3786"
             ],
             [
              0.5555555555555556,
              "#d8576b"
             ],
             [
              0.6666666666666666,
              "#ed7953"
             ],
             [
              0.7777777777777778,
              "#fb9f3a"
             ],
             [
              0.8888888888888888,
              "#fdca26"
             ],
             [
              1,
              "#f0f921"
             ]
            ],
            "type": "histogram2d"
           }
          ],
          "histogram2dcontour": [
           {
            "colorbar": {
             "outlinewidth": 0,
             "ticks": ""
            },
            "colorscale": [
             [
              0,
              "#0d0887"
             ],
             [
              0.1111111111111111,
              "#46039f"
             ],
             [
              0.2222222222222222,
              "#7201a8"
             ],
             [
              0.3333333333333333,
              "#9c179e"
             ],
             [
              0.4444444444444444,
              "#bd3786"
             ],
             [
              0.5555555555555556,
              "#d8576b"
             ],
             [
              0.6666666666666666,
              "#ed7953"
             ],
             [
              0.7777777777777778,
              "#fb9f3a"
             ],
             [
              0.8888888888888888,
              "#fdca26"
             ],
             [
              1,
              "#f0f921"
             ]
            ],
            "type": "histogram2dcontour"
           }
          ],
          "mesh3d": [
           {
            "colorbar": {
             "outlinewidth": 0,
             "ticks": ""
            },
            "type": "mesh3d"
           }
          ],
          "parcoords": [
           {
            "line": {
             "colorbar": {
              "outlinewidth": 0,
              "ticks": ""
             }
            },
            "type": "parcoords"
           }
          ],
          "pie": [
           {
            "automargin": true,
            "type": "pie"
           }
          ],
          "scatter": [
           {
            "marker": {
             "colorbar": {
              "outlinewidth": 0,
              "ticks": ""
             }
            },
            "type": "scatter"
           }
          ],
          "scatter3d": [
           {
            "line": {
             "colorbar": {
              "outlinewidth": 0,
              "ticks": ""
             }
            },
            "marker": {
             "colorbar": {
              "outlinewidth": 0,
              "ticks": ""
             }
            },
            "type": "scatter3d"
           }
          ],
          "scattercarpet": [
           {
            "marker": {
             "colorbar": {
              "outlinewidth": 0,
              "ticks": ""
             }
            },
            "type": "scattercarpet"
           }
          ],
          "scattergeo": [
           {
            "marker": {
             "colorbar": {
              "outlinewidth": 0,
              "ticks": ""
             }
            },
            "type": "scattergeo"
           }
          ],
          "scattergl": [
           {
            "marker": {
             "colorbar": {
              "outlinewidth": 0,
              "ticks": ""
             }
            },
            "type": "scattergl"
           }
          ],
          "scattermapbox": [
           {
            "marker": {
             "colorbar": {
              "outlinewidth": 0,
              "ticks": ""
             }
            },
            "type": "scattermapbox"
           }
          ],
          "scatterpolar": [
           {
            "marker": {
             "colorbar": {
              "outlinewidth": 0,
              "ticks": ""
             }
            },
            "type": "scatterpolar"
           }
          ],
          "scatterpolargl": [
           {
            "marker": {
             "colorbar": {
              "outlinewidth": 0,
              "ticks": ""
             }
            },
            "type": "scatterpolargl"
           }
          ],
          "scatterternary": [
           {
            "marker": {
             "colorbar": {
              "outlinewidth": 0,
              "ticks": ""
             }
            },
            "type": "scatterternary"
           }
          ],
          "surface": [
           {
            "colorbar": {
             "outlinewidth": 0,
             "ticks": ""
            },
            "colorscale": [
             [
              0,
              "#0d0887"
             ],
             [
              0.1111111111111111,
              "#46039f"
             ],
             [
              0.2222222222222222,
              "#7201a8"
             ],
             [
              0.3333333333333333,
              "#9c179e"
             ],
             [
              0.4444444444444444,
              "#bd3786"
             ],
             [
              0.5555555555555556,
              "#d8576b"
             ],
             [
              0.6666666666666666,
              "#ed7953"
             ],
             [
              0.7777777777777778,
              "#fb9f3a"
             ],
             [
              0.8888888888888888,
              "#fdca26"
             ],
             [
              1,
              "#f0f921"
             ]
            ],
            "type": "surface"
           }
          ],
          "table": [
           {
            "cells": {
             "fill": {
              "color": "#EBF0F8"
             },
             "line": {
              "color": "white"
             }
            },
            "header": {
             "fill": {
              "color": "#C8D4E3"
             },
             "line": {
              "color": "white"
             }
            },
            "type": "table"
           }
          ]
         },
         "layout": {
          "annotationdefaults": {
           "arrowcolor": "#2a3f5f",
           "arrowhead": 0,
           "arrowwidth": 1
          },
          "autotypenumbers": "strict",
          "coloraxis": {
           "colorbar": {
            "outlinewidth": 0,
            "ticks": ""
           }
          },
          "colorscale": {
           "diverging": [
            [
             0,
             "#8e0152"
            ],
            [
             0.1,
             "#c51b7d"
            ],
            [
             0.2,
             "#de77ae"
            ],
            [
             0.3,
             "#f1b6da"
            ],
            [
             0.4,
             "#fde0ef"
            ],
            [
             0.5,
             "#f7f7f7"
            ],
            [
             0.6,
             "#e6f5d0"
            ],
            [
             0.7,
             "#b8e186"
            ],
            [
             0.8,
             "#7fbc41"
            ],
            [
             0.9,
             "#4d9221"
            ],
            [
             1,
             "#276419"
            ]
           ],
           "sequential": [
            [
             0,
             "#0d0887"
            ],
            [
             0.1111111111111111,
             "#46039f"
            ],
            [
             0.2222222222222222,
             "#7201a8"
            ],
            [
             0.3333333333333333,
             "#9c179e"
            ],
            [
             0.4444444444444444,
             "#bd3786"
            ],
            [
             0.5555555555555556,
             "#d8576b"
            ],
            [
             0.6666666666666666,
             "#ed7953"
            ],
            [
             0.7777777777777778,
             "#fb9f3a"
            ],
            [
             0.8888888888888888,
             "#fdca26"
            ],
            [
             1,
             "#f0f921"
            ]
           ],
           "sequentialminus": [
            [
             0,
             "#0d0887"
            ],
            [
             0.1111111111111111,
             "#46039f"
            ],
            [
             0.2222222222222222,
             "#7201a8"
            ],
            [
             0.3333333333333333,
             "#9c179e"
            ],
            [
             0.4444444444444444,
             "#bd3786"
            ],
            [
             0.5555555555555556,
             "#d8576b"
            ],
            [
             0.6666666666666666,
             "#ed7953"
            ],
            [
             0.7777777777777778,
             "#fb9f3a"
            ],
            [
             0.8888888888888888,
             "#fdca26"
            ],
            [
             1,
             "#f0f921"
            ]
           ]
          },
          "colorway": [
           "#636efa",
           "#EF553B",
           "#00cc96",
           "#ab63fa",
           "#FFA15A",
           "#19d3f3",
           "#FF6692",
           "#B6E880",
           "#FF97FF",
           "#FECB52"
          ],
          "font": {
           "color": "#2a3f5f"
          },
          "geo": {
           "bgcolor": "white",
           "lakecolor": "white",
           "landcolor": "#E5ECF6",
           "showlakes": true,
           "showland": true,
           "subunitcolor": "white"
          },
          "hoverlabel": {
           "align": "left"
          },
          "hovermode": "closest",
          "mapbox": {
           "style": "light"
          },
          "paper_bgcolor": "white",
          "plot_bgcolor": "#E5ECF6",
          "polar": {
           "angularaxis": {
            "gridcolor": "white",
            "linecolor": "white",
            "ticks": ""
           },
           "bgcolor": "#E5ECF6",
           "radialaxis": {
            "gridcolor": "white",
            "linecolor": "white",
            "ticks": ""
           }
          },
          "scene": {
           "xaxis": {
            "backgroundcolor": "#E5ECF6",
            "gridcolor": "white",
            "gridwidth": 2,
            "linecolor": "white",
            "showbackground": true,
            "ticks": "",
            "zerolinecolor": "white"
           },
           "yaxis": {
            "backgroundcolor": "#E5ECF6",
            "gridcolor": "white",
            "gridwidth": 2,
            "linecolor": "white",
            "showbackground": true,
            "ticks": "",
            "zerolinecolor": "white"
           },
           "zaxis": {
            "backgroundcolor": "#E5ECF6",
            "gridcolor": "white",
            "gridwidth": 2,
            "linecolor": "white",
            "showbackground": true,
            "ticks": "",
            "zerolinecolor": "white"
           }
          },
          "shapedefaults": {
           "line": {
            "color": "#2a3f5f"
           }
          },
          "ternary": {
           "aaxis": {
            "gridcolor": "white",
            "linecolor": "white",
            "ticks": ""
           },
           "baxis": {
            "gridcolor": "white",
            "linecolor": "white",
            "ticks": ""
           },
           "bgcolor": "#E5ECF6",
           "caxis": {
            "gridcolor": "white",
            "linecolor": "white",
            "ticks": ""
           }
          },
          "title": {
           "x": 0.05
          },
          "xaxis": {
           "automargin": true,
           "gridcolor": "white",
           "linecolor": "white",
           "ticks": "",
           "title": {
            "standoff": 15
           },
           "zerolinecolor": "white",
           "zerolinewidth": 2
          },
          "yaxis": {
           "automargin": true,
           "gridcolor": "white",
           "linecolor": "white",
           "ticks": "",
           "title": {
            "standoff": 15
           },
           "zerolinecolor": "white",
           "zerolinewidth": 2
          }
         }
        },
        "title": {
         "text": "Count plot of company\t"
        },
        "xaxis": {
         "title": {
          "text": "\tcompany\t status"
         }
        },
        "yaxis": {
         "title": {
          "text": "Number of count"
         }
        }
       }
      },
      "text/html": [
       "<div>                            <div id=\"011286fe-2903-44e7-8053-fde4c173c9f6\" class=\"plotly-graph-div\" style=\"height:525px; width:100%;\"></div>            <script type=\"text/javascript\">                require([\"plotly\"], function(Plotly) {                    window.PLOTLYENV=window.PLOTLYENV || {};                                    if (document.getElementById(\"011286fe-2903-44e7-8053-fde4c173c9f6\")) {                    Plotly.newPlot(                        \"011286fe-2903-44e7-8053-fde4c173c9f6\",                        [{\"marker\":{\"color\":[57,15,7,5,4,4,4,4,3,3,3,3,3,3,3,3,3,2,2,2,2,2,2,2,2,2,2,2,2,2,2,2,2,2,2,2,2,2,2,2,2,2,2,2,1,1,1,1,1,1,1,1,1,1,1,1,1,1,1,1,1,1,1,1,1,1,1,1,1,1,1,1,1,1,1,1,1,1,1,1,1,1,1,1,1,1,1,1,1,1,1,1,1,1,1,1,1,1,1,1,1,1,1,1,1,1,1,1,1,1,1,1,1,1,1,1,1,1,1,1,1,1,1,1,1,1,1,1,1,1,1,1,1,1,1,1,1,1,1,1,1,1,1,1,1,1,1,1,1,1,1,1,1,1,1,1,1,1,1,1,1,1,1,1,1,1,1,1,1,1,1,1,1,1,1,1,1,1,1,1,1,1,1,1,1,1,1,1,1,1,1,1,1,1,1,1,1,1,1,1,1,1,1,1,1,1,1,1,1,1,1,1,1,1,1,1,1,1,1,1,1,1,1,1,1,1,1,1,1,1,1,1,1,1,1,1,1,1,1,1,1,1,1,1,1,1,1,1,1,1,1,1,1,1,1,1,1,1,1,1,1,1,1,1,1,1,1,1,1,1,1,1,1,1,1,1,1,1,1,1,1,1,1,1,1,1,1,1,1,1,1,1,1,1,1,1,1,1,1]},\"text\":[57.0,15.0,7.0,5.0,4.0,4.0,4.0,4.0,3.0,3.0,3.0,3.0,3.0,3.0,3.0,3.0,3.0,2.0,2.0,2.0,2.0,2.0,2.0,2.0,2.0,2.0,2.0,2.0,2.0,2.0,2.0,2.0,2.0,2.0,2.0,2.0,2.0,2.0,2.0,2.0,2.0,2.0,2.0,2.0,1.0,1.0,1.0,1.0,1.0,1.0,1.0,1.0,1.0,1.0,1.0,1.0,1.0,1.0,1.0,1.0,1.0,1.0,1.0,1.0,1.0,1.0,1.0,1.0,1.0,1.0,1.0,1.0,1.0,1.0,1.0,1.0,1.0,1.0,1.0,1.0,1.0,1.0,1.0,1.0,1.0,1.0,1.0,1.0,1.0,1.0,1.0,1.0,1.0,1.0,1.0,1.0,1.0,1.0,1.0,1.0,1.0,1.0,1.0,1.0,1.0,1.0,1.0,1.0,1.0,1.0,1.0,1.0,1.0,1.0,1.0,1.0,1.0,1.0,1.0,1.0,1.0,1.0,1.0,1.0,1.0,1.0,1.0,1.0,1.0,1.0,1.0,1.0,1.0,1.0,1.0,1.0,1.0,1.0,1.0,1.0,1.0,1.0,1.0,1.0,1.0,1.0,1.0,1.0,1.0,1.0,1.0,1.0,1.0,1.0,1.0,1.0,1.0,1.0,1.0,1.0,1.0,1.0,1.0,1.0,1.0,1.0,1.0,1.0,1.0,1.0,1.0,1.0,1.0,1.0,1.0,1.0,1.0,1.0,1.0,1.0,1.0,1.0,1.0,1.0,1.0,1.0,1.0,1.0,1.0,1.0,1.0,1.0,1.0,1.0,1.0,1.0,1.0,1.0,1.0,1.0,1.0,1.0,1.0,1.0,1.0,1.0,1.0,1.0,1.0,1.0,1.0,1.0,1.0,1.0,1.0,1.0,1.0,1.0,1.0,1.0,1.0,1.0,1.0,1.0,1.0,1.0,1.0,1.0,1.0,1.0,1.0,1.0,1.0,1.0,1.0,1.0,1.0,1.0,1.0,1.0,1.0,1.0,1.0,1.0,1.0,1.0,1.0,1.0,1.0,1.0,1.0,1.0,1.0,1.0,1.0,1.0,1.0,1.0,1.0,1.0,1.0,1.0,1.0,1.0,1.0,1.0,1.0,1.0,1.0,1.0,1.0,1.0,1.0,1.0,1.0,1.0,1.0,1.0,1.0,1.0,1.0,1.0,1.0,1.0,1.0,1.0,1.0,1.0,1.0,1.0,1.0,1.0,1.0,1.0,1.0,1.0,1.0,1.0,1.0],\"textposition\":\"outside\",\"x\":[\"invalid company name\",\"Freelance\",\"ESPRIT (Ecole Sup\\u00e9rieure Priv\\u00e9e d'Ing\\u00e9nierie et de Technologies)\",\"GOMYCODE\",\"Ecole Sup\\u00e9rieure Priv\\u00e9e d'Ing\\u00e9nierie et de Technologies - ESPRIT\",\"Quantylix\",\"Value\",\"satoripop\",\"Tunisie Telecom\",\"Anypli\",\"EY\",\"Ooredoo Tunisie\",\"Infor\",\"ELYADATA\",\"axefinance\",\"Neopolis Development\",\"WEVIOO\",\"MASS Analytics\",\"CodeClause\",\"M13h\",\"IEEE Computer Society Chapter - FST Student Branch\",\"NeoLedge\",\"TEK-UP\",\"Wimbee\",\"BIAT\",\"Freelancer\",\"Talan Tunisie\",\"VERMEG for Banking & Insurance Software\",\"ZETABOX\",\"D\\u00e9lice Holding\",\"Proxym Group\",\"Advanced Derivative Solutions\",\"TALYS\",\"ISAMM Microsoft Club\",\"Banque Zitouna\",\"MEDIANET\",\"The Sparks Foundation\",\"ESSAI Junior Entreprise\",\"Streamlink\",\"Go My Code\",\"Telnet\",\"Venari Security\",\"Tunisie T\\u00e9l\\u00e9com\",\"Talan\",\"AYMAX\",\"canadian system technology\",\"ANSI - tunCERT\",\"Phoenix-IT-Services\",\"Rutilea, Inc.\",\"Tmkin Dev Informatique\",\"Assurances BIAT\",\"ESPRIT\",\"Aucune\",\"UBCI\",\"Upgrade Factory, Tunisia\",\"Moneybounce\",\"ATIA Tunisia\",\"Minist\\u00e8re de l'Int\\u00e9rieur\",\"Sodexo Benefits and Rewards Services\",\"BFI GROUP\",\"Data Science\",\"Groupe SFM\",\"Primatec Engineering\",\"G\\u00e9n\\u00e9rale Tunisienne de l'Informatique |  Attijari Bank Tunisie\",\"PODYAM\",\"Deepera.AI\",\"Rec-inov\",\"AIC Bureau d'Etudes\",\"Freelance Provider\",\"Sofrecom Tunisie\",\"Acredius\",\"WINDATA\",\"LINAGORA\",\"CNSS - Caisse Nationale de S\\u00e9curit\\u00e9 Sociale\",\"Mauritel SA\",\"Institut Sup\\u00e9rieur des Syst\\u00e8mes Industriels de Gab\\u00e8s\",\"IEEE AESS Chapter - ESPRIT Student Branch\",\"Diool Labs\",\"ArabSoft\",\"Kleos Training Center\",\"Magaztee\",\"One to One for Research and Polling\",\"SOCIETE TUNISIENNE DE BANQUE\",\"ERM Partners TN\",\"Laboratoire LAMSIN\",\"LEONI\",\"ISIMA\",\"Biware\",\"Goodwill Consulting\",\"The National Observatory of New and Emerging Diseases\",\"Triweb\",\"IYA SOFT\",\"Cognira\",\"Sartex Group\",\"Engineers Spark - Fst\",\"AMA GROUP\",\"MediSail\",\"Trust Services\",\"Sentidigital International Marketing Agency\",\"EURA NOVA\",\"Groupe Chimique Tunisien\",\"Omdena\",\"Picosoft\",\"Eunoia Academy\",\"Hormiga-services\",\"SMART MS SA\",\"LVMH\",\"DefensyLab\",\"BH Assurance\",\"Cabinet de comptabilit\\u00e9\",\"Afrikanda\",\"GET WIRELESS\",\"Medicacom\",\"Neway IT\",\"TunCom\",\"OPTIMA Junior Entreprise\",\"Smart Marketing Advisors : Junior Entreprise\",\"ISTIC Borj-cedria\",\"Public sector\",\"IOTGraphic\",\"PBR Rating\",\"Orange Tunisie\",\"smart tunisian technoparks\",\"Smart Conseil\",\"Heroi\",\"North American Tunisian Engineers Groupe (NATEG)\",\"Continuous Net\",\"RIDCHA DATA\",\"\\u00c9cole Sup\\u00e9rieure de la Statistique et de l'Analyse de l'Information\",\"ZMWARE - Soci\\u00e9t\\u00e9 De Consulting Et De D\\u00e9veloppement des Syst\\u00e8mes Informatique.\",\"Enova ROBOTICS\",\"Firma Solutions\",\"IPACT Consult inc.\",\"ISS4U\",\"Pwn & Patch\",\"Enactus FST manar\",\"Pierian Data Inc.\",\"BANQUE DE TUNISIE\",\"Onetech Business Solutions\",\"iset nabeul\",\"Digital Research Center of Sfax\",\"Timsoft Group\",\"OliveSoft\",\"DataDoIt\",\"Sotetel\",\"Data Co-Lab\",\"Tinast Canada\",\"Fonds Social Transport et Logistique\",\"STB Bank \\u0627\\u0644\\u0634\\u0631\\u0643\\u0629 \\u0627\\u0644\\u062a\\u0648\\u0646\\u0633\\u064a\\u0629 \\u0644\\u0644\\u0628\\u0646\\u0643\",\"attijari bank\",\"Zitouna Bank\",\"ALmourabi E-learning\",\"LOGICOM INFORMATIQUE SFAX\",\"foodomarket\",\"Booster BC\",\"Soci\\u00e9t\\u00e9 Nationale de Distribution des P\\u00e9troles AGIL S.A\",\"Tenstep Tunisia\",\"PwC Technology Acceleration Center Tunisia\",\"Clinisys ERP\",\"Tassahil Center for Intelligent Solutions\",\"Capgemini Engineering\",\"Yellowsys\",\"EXCELIOR CONSEIL\",\"ODDO BHF\",\"IT BUSINESS SCHOOL\",\"La Poste Tunisienne\",\"Fiverr\",\"PITERION Group\",\"TLedger\",\"PENTABELL\",\"UTINA\",\"Ind\\u00e9pendant\",\"perfect web technology\",\"Attijari bank Tunisie\",\"Sofrecom\",\"Technologia Academy\",\"GDev\",\"SAGEMCOM\",\"Smart AGL\",\"My own\",\"axia solutions\",\"Codix\",\"UPTech\",\"STREAMWIDE\",\"Advantry X\",\"keejob.com\",\"EA-DEVELOPMENT\",\"PEM DISTRIBUTION\",\"SMARTECH EAM Experts\",\"Uteek - Digital Agency\",\"Inetum\",\"NETOLYS\",\"Avempace\",\"Digibrain Agency\",\"SMARTECH Maximo Experts\",\"TELNET Space\",\"MBS Contact\",\"INTELLIGENT CONCEPTS SA\",\"BROS TECHNOLOGIE\",\"MyTek.tn\",\"PixiMind\",\"SIGA\",\"Your Team in Tunisia\",\"SECUR WEB\",\"Tekab.dev\",\"G\\u00e9n\\u00e9rale Tunisienne de l'Informatique | GTI\",\"Avaxia Consulting\",\"CAPITOL SOFT\",\"Alerta Security\",\"Sofflex\",\"Chaaben Technology Group\",\"Bansko consulting\",\"STAMP\",\"ISET SIDI BOUZID\",\"Autres\",\"FSP plastique\",\"EVASTIN\",\"DEVCLIC COM\",\"Alumetal LLC\",\"Sagemcom\",\"Eight Prod\",\"Tunisie Nouvelles Technologies\",\"Confidencial\",\"PSZ electronic GmbH\",\"OWLIANCE\",\"Simplon.co\",\"Upwork\",\"TouchdownApps\",\"Leadiya\",\"Web2code\",\"SOFTParadigm\",\"LBConsulting\",\"New Access\",\"MarketBey\",\"TEAM IT Connection  ELeusys\",\"AAG Ventures\",\"Katomi France\",\"Hookedup\",\"Groupe T\\u00e9nor\",\"TakiAcademy\",\"ENVAST\",\"PAYBACK\",\"Coriolis\",\"LOGAWIN\",\"SOSCuisine\",\"ASM - All Soft Multimedia\",\"Huawei\",\"MS Solutions Group (Monetics Services Solutions)\",\"StreamWIDE\",\"Frontend web developer\",\"Sierra Bravo Intelligence\",\"Wecraft\",\"Stagii.tn\",\"Axe Finance\",\"MENAPS\",\"RIF : Rassemblement des Ing\\u00e9nieurs Francophones\",\"\\u00c9cole Nationale d'Electronique et des T\\u00e9l\\u00e9communications de Sfax (ENET'Com)\",\"Conseil Bancaire et Financier\",\"Galactech LLC\",\"Enactus FST\",\"Featway\",\"IEEE ESPRIT Student Branch\",\"Enactus\",\"Digital Identity\",\"Akkurad GmbH\",\"Hydatis\",\"Smarteo\",\"Linkia\",\"Elyos Digital\",\"AI BRIGHT\",\"DHYGEE\",\"WeDev\",\"HandsOn Systems\",\"LE TAFF\",\"Tayara Group\",\"B2M-IT\",\"Beyond Limit Studio\",\"WIMOBI\",\"Beautinda\",\"dejamobile\",\"Mobiblanc\",\"GBarena\",\"STE FHT\",\"Mantu\",\"Octoreality\",\"Brainy Concept\",\"MajusTic\",\"iDevBand - Digital Innovations \\ud83d\\udca1\",\"Digilogement\",\"Tech4IoT\",\"Superverse\",\"XtendPlex Group\",\"Majda Smart Solutions\",\"DuetoData\",\"Tekniva\",\"TechGenez Inc\",\"BFI Groupe\",\"NOVATEL IT Group\",\"TahaPharma\"],\"y\":[57,15,7,5,4,4,4,4,3,3,3,3,3,3,3,3,3,2,2,2,2,2,2,2,2,2,2,2,2,2,2,2,2,2,2,2,2,2,2,2,2,2,2,2,1,1,1,1,1,1,1,1,1,1,1,1,1,1,1,1,1,1,1,1,1,1,1,1,1,1,1,1,1,1,1,1,1,1,1,1,1,1,1,1,1,1,1,1,1,1,1,1,1,1,1,1,1,1,1,1,1,1,1,1,1,1,1,1,1,1,1,1,1,1,1,1,1,1,1,1,1,1,1,1,1,1,1,1,1,1,1,1,1,1,1,1,1,1,1,1,1,1,1,1,1,1,1,1,1,1,1,1,1,1,1,1,1,1,1,1,1,1,1,1,1,1,1,1,1,1,1,1,1,1,1,1,1,1,1,1,1,1,1,1,1,1,1,1,1,1,1,1,1,1,1,1,1,1,1,1,1,1,1,1,1,1,1,1,1,1,1,1,1,1,1,1,1,1,1,1,1,1,1,1,1,1,1,1,1,1,1,1,1,1,1,1,1,1,1,1,1,1,1,1,1,1,1,1,1,1,1,1,1,1,1,1,1,1,1,1,1,1,1,1,1,1,1,1,1,1,1,1,1,1,1,1,1,1,1,1,1,1,1,1,1,1,1,1,1,1,1,1,1,1,1,1,1,1,1],\"type\":\"bar\"}],                        {\"template\":{\"data\":{\"bar\":[{\"error_x\":{\"color\":\"#2a3f5f\"},\"error_y\":{\"color\":\"#2a3f5f\"},\"marker\":{\"line\":{\"color\":\"#E5ECF6\",\"width\":0.5},\"pattern\":{\"fillmode\":\"overlay\",\"size\":10,\"solidity\":0.2}},\"type\":\"bar\"}],\"barpolar\":[{\"marker\":{\"line\":{\"color\":\"#E5ECF6\",\"width\":0.5},\"pattern\":{\"fillmode\":\"overlay\",\"size\":10,\"solidity\":0.2}},\"type\":\"barpolar\"}],\"carpet\":[{\"aaxis\":{\"endlinecolor\":\"#2a3f5f\",\"gridcolor\":\"white\",\"linecolor\":\"white\",\"minorgridcolor\":\"white\",\"startlinecolor\":\"#2a3f5f\"},\"baxis\":{\"endlinecolor\":\"#2a3f5f\",\"gridcolor\":\"white\",\"linecolor\":\"white\",\"minorgridcolor\":\"white\",\"startlinecolor\":\"#2a3f5f\"},\"type\":\"carpet\"}],\"choropleth\":[{\"colorbar\":{\"outlinewidth\":0,\"ticks\":\"\"},\"type\":\"choropleth\"}],\"contour\":[{\"colorbar\":{\"outlinewidth\":0,\"ticks\":\"\"},\"colorscale\":[[0.0,\"#0d0887\"],[0.1111111111111111,\"#46039f\"],[0.2222222222222222,\"#7201a8\"],[0.3333333333333333,\"#9c179e\"],[0.4444444444444444,\"#bd3786\"],[0.5555555555555556,\"#d8576b\"],[0.6666666666666666,\"#ed7953\"],[0.7777777777777778,\"#fb9f3a\"],[0.8888888888888888,\"#fdca26\"],[1.0,\"#f0f921\"]],\"type\":\"contour\"}],\"contourcarpet\":[{\"colorbar\":{\"outlinewidth\":0,\"ticks\":\"\"},\"type\":\"contourcarpet\"}],\"heatmap\":[{\"colorbar\":{\"outlinewidth\":0,\"ticks\":\"\"},\"colorscale\":[[0.0,\"#0d0887\"],[0.1111111111111111,\"#46039f\"],[0.2222222222222222,\"#7201a8\"],[0.3333333333333333,\"#9c179e\"],[0.4444444444444444,\"#bd3786\"],[0.5555555555555556,\"#d8576b\"],[0.6666666666666666,\"#ed7953\"],[0.7777777777777778,\"#fb9f3a\"],[0.8888888888888888,\"#fdca26\"],[1.0,\"#f0f921\"]],\"type\":\"heatmap\"}],\"heatmapgl\":[{\"colorbar\":{\"outlinewidth\":0,\"ticks\":\"\"},\"colorscale\":[[0.0,\"#0d0887\"],[0.1111111111111111,\"#46039f\"],[0.2222222222222222,\"#7201a8\"],[0.3333333333333333,\"#9c179e\"],[0.4444444444444444,\"#bd3786\"],[0.5555555555555556,\"#d8576b\"],[0.6666666666666666,\"#ed7953\"],[0.7777777777777778,\"#fb9f3a\"],[0.8888888888888888,\"#fdca26\"],[1.0,\"#f0f921\"]],\"type\":\"heatmapgl\"}],\"histogram\":[{\"marker\":{\"pattern\":{\"fillmode\":\"overlay\",\"size\":10,\"solidity\":0.2}},\"type\":\"histogram\"}],\"histogram2d\":[{\"colorbar\":{\"outlinewidth\":0,\"ticks\":\"\"},\"colorscale\":[[0.0,\"#0d0887\"],[0.1111111111111111,\"#46039f\"],[0.2222222222222222,\"#7201a8\"],[0.3333333333333333,\"#9c179e\"],[0.4444444444444444,\"#bd3786\"],[0.5555555555555556,\"#d8576b\"],[0.6666666666666666,\"#ed7953\"],[0.7777777777777778,\"#fb9f3a\"],[0.8888888888888888,\"#fdca26\"],[1.0,\"#f0f921\"]],\"type\":\"histogram2d\"}],\"histogram2dcontour\":[{\"colorbar\":{\"outlinewidth\":0,\"ticks\":\"\"},\"colorscale\":[[0.0,\"#0d0887\"],[0.1111111111111111,\"#46039f\"],[0.2222222222222222,\"#7201a8\"],[0.3333333333333333,\"#9c179e\"],[0.4444444444444444,\"#bd3786\"],[0.5555555555555556,\"#d8576b\"],[0.6666666666666666,\"#ed7953\"],[0.7777777777777778,\"#fb9f3a\"],[0.8888888888888888,\"#fdca26\"],[1.0,\"#f0f921\"]],\"type\":\"histogram2dcontour\"}],\"mesh3d\":[{\"colorbar\":{\"outlinewidth\":0,\"ticks\":\"\"},\"type\":\"mesh3d\"}],\"parcoords\":[{\"line\":{\"colorbar\":{\"outlinewidth\":0,\"ticks\":\"\"}},\"type\":\"parcoords\"}],\"pie\":[{\"automargin\":true,\"type\":\"pie\"}],\"scatter\":[{\"marker\":{\"colorbar\":{\"outlinewidth\":0,\"ticks\":\"\"}},\"type\":\"scatter\"}],\"scatter3d\":[{\"line\":{\"colorbar\":{\"outlinewidth\":0,\"ticks\":\"\"}},\"marker\":{\"colorbar\":{\"outlinewidth\":0,\"ticks\":\"\"}},\"type\":\"scatter3d\"}],\"scattercarpet\":[{\"marker\":{\"colorbar\":{\"outlinewidth\":0,\"ticks\":\"\"}},\"type\":\"scattercarpet\"}],\"scattergeo\":[{\"marker\":{\"colorbar\":{\"outlinewidth\":0,\"ticks\":\"\"}},\"type\":\"scattergeo\"}],\"scattergl\":[{\"marker\":{\"colorbar\":{\"outlinewidth\":0,\"ticks\":\"\"}},\"type\":\"scattergl\"}],\"scattermapbox\":[{\"marker\":{\"colorbar\":{\"outlinewidth\":0,\"ticks\":\"\"}},\"type\":\"scattermapbox\"}],\"scatterpolar\":[{\"marker\":{\"colorbar\":{\"outlinewidth\":0,\"ticks\":\"\"}},\"type\":\"scatterpolar\"}],\"scatterpolargl\":[{\"marker\":{\"colorbar\":{\"outlinewidth\":0,\"ticks\":\"\"}},\"type\":\"scatterpolargl\"}],\"scatterternary\":[{\"marker\":{\"colorbar\":{\"outlinewidth\":0,\"ticks\":\"\"}},\"type\":\"scatterternary\"}],\"surface\":[{\"colorbar\":{\"outlinewidth\":0,\"ticks\":\"\"},\"colorscale\":[[0.0,\"#0d0887\"],[0.1111111111111111,\"#46039f\"],[0.2222222222222222,\"#7201a8\"],[0.3333333333333333,\"#9c179e\"],[0.4444444444444444,\"#bd3786\"],[0.5555555555555556,\"#d8576b\"],[0.6666666666666666,\"#ed7953\"],[0.7777777777777778,\"#fb9f3a\"],[0.8888888888888888,\"#fdca26\"],[1.0,\"#f0f921\"]],\"type\":\"surface\"}],\"table\":[{\"cells\":{\"fill\":{\"color\":\"#EBF0F8\"},\"line\":{\"color\":\"white\"}},\"header\":{\"fill\":{\"color\":\"#C8D4E3\"},\"line\":{\"color\":\"white\"}},\"type\":\"table\"}]},\"layout\":{\"annotationdefaults\":{\"arrowcolor\":\"#2a3f5f\",\"arrowhead\":0,\"arrowwidth\":1},\"autotypenumbers\":\"strict\",\"coloraxis\":{\"colorbar\":{\"outlinewidth\":0,\"ticks\":\"\"}},\"colorscale\":{\"diverging\":[[0,\"#8e0152\"],[0.1,\"#c51b7d\"],[0.2,\"#de77ae\"],[0.3,\"#f1b6da\"],[0.4,\"#fde0ef\"],[0.5,\"#f7f7f7\"],[0.6,\"#e6f5d0\"],[0.7,\"#b8e186\"],[0.8,\"#7fbc41\"],[0.9,\"#4d9221\"],[1,\"#276419\"]],\"sequential\":[[0.0,\"#0d0887\"],[0.1111111111111111,\"#46039f\"],[0.2222222222222222,\"#7201a8\"],[0.3333333333333333,\"#9c179e\"],[0.4444444444444444,\"#bd3786\"],[0.5555555555555556,\"#d8576b\"],[0.6666666666666666,\"#ed7953\"],[0.7777777777777778,\"#fb9f3a\"],[0.8888888888888888,\"#fdca26\"],[1.0,\"#f0f921\"]],\"sequentialminus\":[[0.0,\"#0d0887\"],[0.1111111111111111,\"#46039f\"],[0.2222222222222222,\"#7201a8\"],[0.3333333333333333,\"#9c179e\"],[0.4444444444444444,\"#bd3786\"],[0.5555555555555556,\"#d8576b\"],[0.6666666666666666,\"#ed7953\"],[0.7777777777777778,\"#fb9f3a\"],[0.8888888888888888,\"#fdca26\"],[1.0,\"#f0f921\"]]},\"colorway\":[\"#636efa\",\"#EF553B\",\"#00cc96\",\"#ab63fa\",\"#FFA15A\",\"#19d3f3\",\"#FF6692\",\"#B6E880\",\"#FF97FF\",\"#FECB52\"],\"font\":{\"color\":\"#2a3f5f\"},\"geo\":{\"bgcolor\":\"white\",\"lakecolor\":\"white\",\"landcolor\":\"#E5ECF6\",\"showlakes\":true,\"showland\":true,\"subunitcolor\":\"white\"},\"hoverlabel\":{\"align\":\"left\"},\"hovermode\":\"closest\",\"mapbox\":{\"style\":\"light\"},\"paper_bgcolor\":\"white\",\"plot_bgcolor\":\"#E5ECF6\",\"polar\":{\"angularaxis\":{\"gridcolor\":\"white\",\"linecolor\":\"white\",\"ticks\":\"\"},\"bgcolor\":\"#E5ECF6\",\"radialaxis\":{\"gridcolor\":\"white\",\"linecolor\":\"white\",\"ticks\":\"\"}},\"scene\":{\"xaxis\":{\"backgroundcolor\":\"#E5ECF6\",\"gridcolor\":\"white\",\"gridwidth\":2,\"linecolor\":\"white\",\"showbackground\":true,\"ticks\":\"\",\"zerolinecolor\":\"white\"},\"yaxis\":{\"backgroundcolor\":\"#E5ECF6\",\"gridcolor\":\"white\",\"gridwidth\":2,\"linecolor\":\"white\",\"showbackground\":true,\"ticks\":\"\",\"zerolinecolor\":\"white\"},\"zaxis\":{\"backgroundcolor\":\"#E5ECF6\",\"gridcolor\":\"white\",\"gridwidth\":2,\"linecolor\":\"white\",\"showbackground\":true,\"ticks\":\"\",\"zerolinecolor\":\"white\"}},\"shapedefaults\":{\"line\":{\"color\":\"#2a3f5f\"}},\"ternary\":{\"aaxis\":{\"gridcolor\":\"white\",\"linecolor\":\"white\",\"ticks\":\"\"},\"baxis\":{\"gridcolor\":\"white\",\"linecolor\":\"white\",\"ticks\":\"\"},\"bgcolor\":\"#E5ECF6\",\"caxis\":{\"gridcolor\":\"white\",\"linecolor\":\"white\",\"ticks\":\"\"}},\"title\":{\"x\":0.05},\"xaxis\":{\"automargin\":true,\"gridcolor\":\"white\",\"linecolor\":\"white\",\"ticks\":\"\",\"title\":{\"standoff\":15},\"zerolinecolor\":\"white\",\"zerolinewidth\":2},\"yaxis\":{\"automargin\":true,\"gridcolor\":\"white\",\"linecolor\":\"white\",\"ticks\":\"\",\"title\":{\"standoff\":15},\"zerolinecolor\":\"white\",\"zerolinewidth\":2}}},\"title\":{\"text\":\"Count plot of company\\t\"},\"xaxis\":{\"title\":{\"text\":\"\\tcompany\\t status\"}},\"yaxis\":{\"title\":{\"text\":\"Number of count\"}}},                        {\"responsive\": true}                    ).then(function(){\n",
       "                            \n",
       "var gd = document.getElementById('011286fe-2903-44e7-8053-fde4c173c9f6');\n",
       "var x = new MutationObserver(function (mutations, observer) {{\n",
       "        var display = window.getComputedStyle(gd).display;\n",
       "        if (!display || display === 'none') {{\n",
       "            console.log([gd, 'removed!']);\n",
       "            Plotly.purge(gd);\n",
       "            observer.disconnect();\n",
       "        }}\n",
       "}});\n",
       "\n",
       "// Listen for the removal of the full notebook cells\n",
       "var notebookContainer = gd.closest('#notebook-container');\n",
       "if (notebookContainer) {{\n",
       "    x.observe(notebookContainer, {childList: true});\n",
       "}}\n",
       "\n",
       "// Listen for the clearing of the current output cell\n",
       "var outputEl = gd.closest('.output');\n",
       "if (outputEl) {{\n",
       "    x.observe(outputEl, {childList: true});\n",
       "}}\n",
       "\n",
       "                        })                };                });            </script>        </div>"
      ]
     },
     "metadata": {},
     "output_type": "display_data"
    }
   ],
   "source": [
    "import plotly.graph_objects as go\n",
    "desc_count1 = df['company'].value_counts().reset_index().rename(columns={'index':'index','company':'count'})\n",
    "fig = go.Figure(go.Bar(\n",
    "    x = desc_count1['index'],y = desc_count1['count'],text=desc_count1['count'],marker={'color': desc_count1['count']}\n",
    "    ,textposition = \"outside\"))\n",
    "fig.update_layout(title_text='Count plot of company\t',xaxis_title=\"\tcompany\t status\",yaxis_title=\"Number of count\")\n",
    "fig.show()"
   ]
  },
  {
   "cell_type": "code",
   "execution_count": 1057,
   "id": "0f672cfe",
   "metadata": {},
   "outputs": [
    {
     "data": {
      "text/html": [
       "<div>\n",
       "<style scoped>\n",
       "    .dataframe tbody tr th:only-of-type {\n",
       "        vertical-align: middle;\n",
       "    }\n",
       "\n",
       "    .dataframe tbody tr th {\n",
       "        vertical-align: top;\n",
       "    }\n",
       "\n",
       "    .dataframe thead th {\n",
       "        text-align: right;\n",
       "    }\n",
       "</style>\n",
       "<table border=\"1\" class=\"dataframe\">\n",
       "  <thead>\n",
       "    <tr style=\"text-align: right;\">\n",
       "      <th></th>\n",
       "      <th>URL</th>\n",
       "      <th>job_title</th>\n",
       "      <th>location</th>\n",
       "      <th>Name</th>\n",
       "      <th>company</th>\n",
       "      <th>skills</th>\n",
       "      <th>experiences</th>\n",
       "    </tr>\n",
       "  </thead>\n",
       "  <tbody>\n",
       "    <tr>\n",
       "      <th>5</th>\n",
       "      <td>NaN</td>\n",
       "      <td>NaN</td>\n",
       "      <td>NaN</td>\n",
       "      <td>NaN</td>\n",
       "      <td>invalid company name</td>\n",
       "      <td>NaN</td>\n",
       "      <td>nan:nan,nan:nan</td>\n",
       "    </tr>\n",
       "  </tbody>\n",
       "</table>\n",
       "</div>"
      ],
      "text/plain": [
       "   URL job_title location Name               company skills      experiences\n",
       "5  NaN       NaN      NaN  NaN  invalid company name    NaN  nan:nan,nan:nan"
      ]
     },
     "execution_count": 1057,
     "metadata": {},
     "output_type": "execute_result"
    }
   ],
   "source": [
    "df[df['URL'].isnull()]"
   ]
  },
  {
   "cell_type": "code",
   "execution_count": 1058,
   "id": "b668b880",
   "metadata": {},
   "outputs": [],
   "source": [
    "df = df.drop(5)"
   ]
  },
  {
   "cell_type": "code",
   "execution_count": 1059,
   "id": "6ab9108e",
   "metadata": {},
   "outputs": [
    {
     "data": {
      "text/plain": [
       "URL             0\n",
       "job_title       1\n",
       "location        0\n",
       "Name            0\n",
       "company         0\n",
       "skills         46\n",
       "experiences     0\n",
       "dtype: int64"
      ]
     },
     "execution_count": 1059,
     "metadata": {},
     "output_type": "execute_result"
    }
   ],
   "source": [
    "df.isnull().sum()"
   ]
  },
  {
   "cell_type": "code",
   "execution_count": 1060,
   "id": "7c6a6a54",
   "metadata": {},
   "outputs": [
    {
     "data": {
      "text/html": [
       "<div>\n",
       "<style scoped>\n",
       "    .dataframe tbody tr th:only-of-type {\n",
       "        vertical-align: middle;\n",
       "    }\n",
       "\n",
       "    .dataframe tbody tr th {\n",
       "        vertical-align: top;\n",
       "    }\n",
       "\n",
       "    .dataframe thead th {\n",
       "        text-align: right;\n",
       "    }\n",
       "</style>\n",
       "<table border=\"1\" class=\"dataframe\">\n",
       "  <thead>\n",
       "    <tr style=\"text-align: right;\">\n",
       "      <th></th>\n",
       "      <th>URL</th>\n",
       "      <th>job_title</th>\n",
       "      <th>location</th>\n",
       "      <th>Name</th>\n",
       "      <th>company</th>\n",
       "      <th>skills</th>\n",
       "      <th>experiences</th>\n",
       "    </tr>\n",
       "  </thead>\n",
       "  <tbody>\n",
       "    <tr>\n",
       "      <th>149</th>\n",
       "      <td>https://www.linkedin.com/in/ayed-m-085aa9139/</td>\n",
       "      <td>NaN</td>\n",
       "      <td>Mégrine, Gouvernorat Ben Arous, Tunisie</td>\n",
       "      <td>Ayed M.</td>\n",
       "      <td>Octoreality</td>\n",
       "      <td>React Native, Framework Symfony, Laravel, Code...</td>\n",
       "      <td>Mobile Developer:nov. 2022 - aujourd’hui · 4 m...</td>\n",
       "    </tr>\n",
       "  </tbody>\n",
       "</table>\n",
       "</div>"
      ],
      "text/plain": [
       "                                               URL job_title  \\\n",
       "149  https://www.linkedin.com/in/ayed-m-085aa9139/       NaN   \n",
       "\n",
       "                                    location     Name      company  \\\n",
       "149  Mégrine, Gouvernorat Ben Arous, Tunisie  Ayed M.  Octoreality   \n",
       "\n",
       "                                                skills  \\\n",
       "149  React Native, Framework Symfony, Laravel, Code...   \n",
       "\n",
       "                                           experiences  \n",
       "149  Mobile Developer:nov. 2022 - aujourd’hui · 4 m...  "
      ]
     },
     "execution_count": 1060,
     "metadata": {},
     "output_type": "execute_result"
    }
   ],
   "source": [
    "df[df['job_title'].isnull()]"
   ]
  },
  {
   "cell_type": "code",
   "execution_count": 1061,
   "id": "8c4c7d8b",
   "metadata": {},
   "outputs": [],
   "source": [
    "df = df.drop(149)"
   ]
  },
  {
   "cell_type": "code",
   "execution_count": 1062,
   "id": "d0979d51",
   "metadata": {},
   "outputs": [
    {
     "data": {
      "text/plain": [
       "URL             0\n",
       "job_title       0\n",
       "location        0\n",
       "Name            0\n",
       "company         0\n",
       "skills         46\n",
       "experiences     0\n",
       "dtype: int64"
      ]
     },
     "execution_count": 1062,
     "metadata": {},
     "output_type": "execute_result"
    }
   ],
   "source": [
    "df.isnull().sum()"
   ]
  },
  {
   "cell_type": "code",
   "execution_count": 1063,
   "id": "e457d4cf",
   "metadata": {},
   "outputs": [],
   "source": [
    "df['skills'].fillna(\"not mentioned\", inplace=True)"
   ]
  },
  {
   "cell_type": "code",
   "execution_count": 1064,
   "id": "6b7df93d",
   "metadata": {},
   "outputs": [
    {
     "data": {
      "text/html": [
       "<div>\n",
       "<style scoped>\n",
       "    .dataframe tbody tr th:only-of-type {\n",
       "        vertical-align: middle;\n",
       "    }\n",
       "\n",
       "    .dataframe tbody tr th {\n",
       "        vertical-align: top;\n",
       "    }\n",
       "\n",
       "    .dataframe thead th {\n",
       "        text-align: right;\n",
       "    }\n",
       "</style>\n",
       "<table border=\"1\" class=\"dataframe\">\n",
       "  <thead>\n",
       "    <tr style=\"text-align: right;\">\n",
       "      <th></th>\n",
       "      <th>URL</th>\n",
       "      <th>job_title</th>\n",
       "      <th>location</th>\n",
       "      <th>Name</th>\n",
       "      <th>company</th>\n",
       "      <th>skills</th>\n",
       "      <th>experiences</th>\n",
       "    </tr>\n",
       "  </thead>\n",
       "  <tbody>\n",
       "    <tr>\n",
       "      <th>0</th>\n",
       "      <td>https://www.linkedin.com/in/talel-kb/</td>\n",
       "      <td>Web developer &amp; software engineering student</td>\n",
       "      <td>Gouvernorat Tunis, Tunisie</td>\n",
       "      <td>Talel Kbaier</td>\n",
       "      <td>Triweb</td>\n",
       "      <td>Analyse de données, Compétences analytiques, F...</td>\n",
       "      <td>Développeur web:janv. 2023 - aujourd’hui · 2 m...</td>\n",
       "    </tr>\n",
       "    <tr>\n",
       "      <th>1</th>\n",
       "      <td>https://www.linkedin.com/in/omar-talbi-sfax/</td>\n",
       "      <td>Freelance Web Developer</td>\n",
       "      <td>Gouvernorat Sfax, Tunisie</td>\n",
       "      <td>Omar Talbi</td>\n",
       "      <td>Freelance</td>\n",
       "      <td>Laravel, React, JavaScript, PHP, Microsoft Bot...</td>\n",
       "      <td>Freelance Web Developer:août 2019 - aujourd’hu...</td>\n",
       "    </tr>\n",
       "    <tr>\n",
       "      <th>2</th>\n",
       "      <td>https://www.linkedin.com/in/hassen-knani-21991...</td>\n",
       "      <td>Web developer chez ZETABOX</td>\n",
       "      <td>Gouvernorat Sfax, Tunisie</td>\n",
       "      <td>Hassen Knani</td>\n",
       "      <td>GOMYCODE</td>\n",
       "      <td>Management, Service client, Microsoft Office, ...</td>\n",
       "      <td>React Js Instructor:mars 2022 - aujourd’hui · ...</td>\n",
       "    </tr>\n",
       "    <tr>\n",
       "      <th>3</th>\n",
       "      <td>https://www.linkedin.com/in/safwendammak/</td>\n",
       "      <td>Freelance Web Developer</td>\n",
       "      <td>Gouvernorat Sfax, Tunisie</td>\n",
       "      <td>Safwen Dammak</td>\n",
       "      <td>PixiMind</td>\n",
       "      <td>Angular, PHP/Symfony, Développement web, Dével...</td>\n",
       "      <td>Web Developer:oct. 2020 - févr. 2022 · 1 an 5 ...</td>\n",
       "    </tr>\n",
       "    <tr>\n",
       "      <th>4</th>\n",
       "      <td>https://www.linkedin.com/in/oumayma-b%C3%A9hi-...</td>\n",
       "      <td>web &amp; mobile developer 💻</td>\n",
       "      <td>Tunis, Gouvernorat Tunis, Tunisie</td>\n",
       "      <td>Oumayma Béhi</td>\n",
       "      <td>SIGA</td>\n",
       "      <td>not mentioned</td>\n",
       "      <td>Projet de fin d’études:févr. 2022 - juin 2022 ...</td>\n",
       "    </tr>\n",
       "    <tr>\n",
       "      <th>...</th>\n",
       "      <td>...</td>\n",
       "      <td>...</td>\n",
       "      <td>...</td>\n",
       "      <td>...</td>\n",
       "      <td>...</td>\n",
       "      <td>...</td>\n",
       "      <td>...</td>\n",
       "    </tr>\n",
       "    <tr>\n",
       "      <th>459</th>\n",
       "      <td>https://www.linkedin.com/in/khaoula-ben-othman...</td>\n",
       "      <td>Data Science Engineer</td>\n",
       "      <td>Tunisia</td>\n",
       "      <td>khaoula Ben othman</td>\n",
       "      <td>invalid company name</td>\n",
       "      <td>MongoDB, RStudio, Business Intelligence (BI), ...</td>\n",
       "      <td>nan:nan,nan:nan</td>\n",
       "    </tr>\n",
       "    <tr>\n",
       "      <th>460</th>\n",
       "      <td>https://www.linkedin.com/in/farah-abid-989683191/</td>\n",
       "      <td>Data Science Enthusiast</td>\n",
       "      <td>Sfax, Tunisia</td>\n",
       "      <td>Farah Abid</td>\n",
       "      <td>Medicacom</td>\n",
       "      <td>Analyse de données, nlp, Extraction de données...</td>\n",
       "      <td>Data Science Intern:Oct 2022 - Present · 5 mos...</td>\n",
       "    </tr>\n",
       "    <tr>\n",
       "      <th>461</th>\n",
       "      <td>https://www.linkedin.com/in/achref-cherif-data...</td>\n",
       "      <td>Data Scientist | Founder &amp; CEO of Data Science...</td>\n",
       "      <td>Tunis, Tunis, Tunisia</td>\n",
       "      <td>Achref Cherif</td>\n",
       "      <td>TEK-UP</td>\n",
       "      <td>Extract, Transform, Load (ETL), Analytical Ski...</td>\n",
       "      <td>Data Scientist:Sep 2020 - Present · 2 yrs 6 mo...</td>\n",
       "    </tr>\n",
       "    <tr>\n",
       "      <th>462</th>\n",
       "      <td>https://www.linkedin.com/in/hamza-samaiy/</td>\n",
       "      <td>Data science master Student | Works at Vermeg</td>\n",
       "      <td>Sousse, Tunisia</td>\n",
       "      <td>Hamza Samaiy</td>\n",
       "      <td>VERMEG for Banking &amp; Insurance Software</td>\n",
       "      <td>Développement web, JavaScript, PHP, Laravel, F...</td>\n",
       "      <td>Software Programmer:Jan 2023 - Present · 2 mos...</td>\n",
       "    </tr>\n",
       "    <tr>\n",
       "      <th>463</th>\n",
       "      <td>https://www.linkedin.com/in/zitouni-amal-286b9...</td>\n",
       "      <td>Ingénieur en informatique || Spécialité Data s...</td>\n",
       "      <td>Tunis, Tunisia</td>\n",
       "      <td>Zitouni Amal</td>\n",
       "      <td>TahaPharma</td>\n",
       "      <td>Microsoft Azure Machine Learning, Apprentissag...</td>\n",
       "      <td>Ingénieur BI:Oct 2022 - Present · 5 mos,Member...</td>\n",
       "    </tr>\n",
       "  </tbody>\n",
       "</table>\n",
       "<p>434 rows × 7 columns</p>\n",
       "</div>"
      ],
      "text/plain": [
       "                                                   URL  \\\n",
       "0                https://www.linkedin.com/in/talel-kb/   \n",
       "1         https://www.linkedin.com/in/omar-talbi-sfax/   \n",
       "2    https://www.linkedin.com/in/hassen-knani-21991...   \n",
       "3            https://www.linkedin.com/in/safwendammak/   \n",
       "4    https://www.linkedin.com/in/oumayma-b%C3%A9hi-...   \n",
       "..                                                 ...   \n",
       "459  https://www.linkedin.com/in/khaoula-ben-othman...   \n",
       "460  https://www.linkedin.com/in/farah-abid-989683191/   \n",
       "461  https://www.linkedin.com/in/achref-cherif-data...   \n",
       "462          https://www.linkedin.com/in/hamza-samaiy/   \n",
       "463  https://www.linkedin.com/in/zitouni-amal-286b9...   \n",
       "\n",
       "                                             job_title  \\\n",
       "0         Web developer & software engineering student   \n",
       "1                              Freelance Web Developer   \n",
       "2                           Web developer chez ZETABOX   \n",
       "3                              Freelance Web Developer   \n",
       "4                             web & mobile developer 💻   \n",
       "..                                                 ...   \n",
       "459                              Data Science Engineer   \n",
       "460                            Data Science Enthusiast   \n",
       "461  Data Scientist | Founder & CEO of Data Science...   \n",
       "462      Data science master Student | Works at Vermeg   \n",
       "463  Ingénieur en informatique || Spécialité Data s...   \n",
       "\n",
       "                              location                Name  \\\n",
       "0           Gouvernorat Tunis, Tunisie        Talel Kbaier   \n",
       "1            Gouvernorat Sfax, Tunisie          Omar Talbi   \n",
       "2            Gouvernorat Sfax, Tunisie        Hassen Knani   \n",
       "3            Gouvernorat Sfax, Tunisie       Safwen Dammak   \n",
       "4    Tunis, Gouvernorat Tunis, Tunisie        Oumayma Béhi   \n",
       "..                                 ...                 ...   \n",
       "459                            Tunisia  khaoula Ben othman   \n",
       "460                      Sfax, Tunisia          Farah Abid   \n",
       "461              Tunis, Tunis, Tunisia       Achref Cherif   \n",
       "462                    Sousse, Tunisia        Hamza Samaiy   \n",
       "463                     Tunis, Tunisia        Zitouni Amal   \n",
       "\n",
       "                                     company  \\\n",
       "0                                     Triweb   \n",
       "1                                  Freelance   \n",
       "2                                   GOMYCODE   \n",
       "3                                   PixiMind   \n",
       "4                                       SIGA   \n",
       "..                                       ...   \n",
       "459                     invalid company name   \n",
       "460                                Medicacom   \n",
       "461                                   TEK-UP   \n",
       "462  VERMEG for Banking & Insurance Software   \n",
       "463                               TahaPharma   \n",
       "\n",
       "                                                skills  \\\n",
       "0    Analyse de données, Compétences analytiques, F...   \n",
       "1    Laravel, React, JavaScript, PHP, Microsoft Bot...   \n",
       "2    Management, Service client, Microsoft Office, ...   \n",
       "3    Angular, PHP/Symfony, Développement web, Dével...   \n",
       "4                                        not mentioned   \n",
       "..                                                 ...   \n",
       "459  MongoDB, RStudio, Business Intelligence (BI), ...   \n",
       "460  Analyse de données, nlp, Extraction de données...   \n",
       "461  Extract, Transform, Load (ETL), Analytical Ski...   \n",
       "462  Développement web, JavaScript, PHP, Laravel, F...   \n",
       "463  Microsoft Azure Machine Learning, Apprentissag...   \n",
       "\n",
       "                                           experiences  \n",
       "0    Développeur web:janv. 2023 - aujourd’hui · 2 m...  \n",
       "1    Freelance Web Developer:août 2019 - aujourd’hu...  \n",
       "2    React Js Instructor:mars 2022 - aujourd’hui · ...  \n",
       "3    Web Developer:oct. 2020 - févr. 2022 · 1 an 5 ...  \n",
       "4    Projet de fin d’études:févr. 2022 - juin 2022 ...  \n",
       "..                                                 ...  \n",
       "459                                    nan:nan,nan:nan  \n",
       "460  Data Science Intern:Oct 2022 - Present · 5 mos...  \n",
       "461  Data Scientist:Sep 2020 - Present · 2 yrs 6 mo...  \n",
       "462  Software Programmer:Jan 2023 - Present · 2 mos...  \n",
       "463  Ingénieur BI:Oct 2022 - Present · 5 mos,Member...  \n",
       "\n",
       "[434 rows x 7 columns]"
      ]
     },
     "execution_count": 1064,
     "metadata": {},
     "output_type": "execute_result"
    }
   ],
   "source": [
    "df"
   ]
  },
  {
   "cell_type": "code",
   "execution_count": 1065,
   "id": "3b9d3747",
   "metadata": {},
   "outputs": [
    {
     "data": {
      "text/plain": [
       "URL            0\n",
       "job_title      0\n",
       "location       0\n",
       "Name           0\n",
       "company        0\n",
       "skills         0\n",
       "experiences    0\n",
       "dtype: int64"
      ]
     },
     "execution_count": 1065,
     "metadata": {},
     "output_type": "execute_result"
    }
   ],
   "source": [
    "df.isnull().sum()"
   ]
  },
  {
   "cell_type": "code",
   "execution_count": 1066,
   "id": "a0e92029",
   "metadata": {},
   "outputs": [
    {
     "data": {
      "text/plain": [
       "'0'"
      ]
     },
     "execution_count": 1066,
     "metadata": {},
     "output_type": "execute_result"
    }
   ],
   "source": [
    "str(df.isna().sum().sum())#total"
   ]
  },
  {
   "cell_type": "code",
   "execution_count": 1067,
   "id": "35b45701",
   "metadata": {},
   "outputs": [
    {
     "data": {
      "application/vnd.plotly.v1+json": {
       "config": {
        "plotlyServerURL": "https://plot.ly"
       },
       "data": [
        {
         "marker": {
          "color": [
           65,
           65,
           26,
           24,
           15,
           14,
           13,
           12,
           10,
           10,
           9,
           9,
           9,
           8,
           7,
           5,
           5,
           4,
           4,
           4,
           4,
           4,
           3,
           3,
           3,
           3,
           2,
           2,
           2,
           2,
           2,
           2,
           2,
           2,
           2,
           2,
           2,
           2,
           2,
           2,
           2,
           2,
           1,
           1,
           1,
           1,
           1,
           1,
           1,
           1,
           1,
           1,
           1,
           1,
           1,
           1,
           1,
           1,
           1,
           1,
           1,
           1,
           1,
           1,
           1,
           1,
           1,
           1,
           1,
           1,
           1,
           1,
           1,
           1,
           1,
           1,
           1,
           1,
           1,
           1,
           1,
           1,
           1,
           1,
           1,
           1,
           1,
           1,
           1,
           1,
           1,
           1,
           1,
           1,
           1,
           1,
           1,
           1,
           1,
           1,
           1,
           1,
           1,
           1,
           1,
           1
          ]
         },
         "text": [
          65,
          65,
          26,
          24,
          15,
          14,
          13,
          12,
          10,
          10,
          9,
          9,
          9,
          8,
          7,
          5,
          5,
          4,
          4,
          4,
          4,
          4,
          3,
          3,
          3,
          3,
          2,
          2,
          2,
          2,
          2,
          2,
          2,
          2,
          2,
          2,
          2,
          2,
          2,
          2,
          2,
          2,
          1,
          1,
          1,
          1,
          1,
          1,
          1,
          1,
          1,
          1,
          1,
          1,
          1,
          1,
          1,
          1,
          1,
          1,
          1,
          1,
          1,
          1,
          1,
          1,
          1,
          1,
          1,
          1,
          1,
          1,
          1,
          1,
          1,
          1,
          1,
          1,
          1,
          1,
          1,
          1,
          1,
          1,
          1,
          1,
          1,
          1,
          1,
          1,
          1,
          1,
          1,
          1,
          1,
          1,
          1,
          1,
          1,
          1,
          1,
          1,
          1,
          1,
          1,
          1
         ],
         "textposition": "outside",
         "type": "bar",
         "x": [
          "Gouvernorat Tunis, Tunisie",
          "Tunis, Gouvernorat Tunis, Tunisie",
          "Tunis, Tunis, Tunisia",
          "Tunis, Tunisia",
          "Gouvernorat Sfax, Tunisie",
          "Gouvernorat Sousse, Tunisie",
          "Tunisie",
          "Gouvernorat Monastir, Tunisie",
          "Gouvernorat Nabeul, Tunisie",
          "Ariana, Tunisia",
          "Gouvernorat Ariana, Tunisie",
          "Nabeul, Tunisia",
          "Gouvernorat Bizerte, Tunisie",
          "Tunisia",
          "Sfax, Tunisia",
          "Gouvernorat Ben Arous, Tunisie",
          "Bizerte, Tunisia",
          "Délégation Hammamet, Gouvernorat Nabeul, Tunisie",
          "Ben Arous, Gouvernorat Ben Arous, Tunisie",
          "Délégation Ariana Ville, Gouvernorat Ariana, Tunisie",
          "Ben Arous, Tunisia",
          "Grand Tunis Metropolitan Area",
          "Ariana, Gouvernorat Ariana, Tunisie",
          "Sousse, Tunisia",
          "Gouvernorat Gabès, Tunisie",
          "Ariana Ville, Gouvernorat Ariana, Tunisie",
          "Fouchana, Gouvernorat Ben Arous, Tunisie",
          "Manouba, Tunisia",
          "Délégation El Battane, Gouvernorat La Manouba, Tunisie",
          "El Omrane Superieur, Gouvernorat Tunis, Tunisie",
          "Gouvernorat La Manouba, Tunisie",
          "Délégation Mahdia, Gouvernorat Mahdia, Tunisie",
          "El Menzah, Gouvernorat Tunis, Tunisie",
          "Hammamet, Gouvernorat Nabeul, Tunisie",
          "El-Hrairia, Tunis, Tunisia",
          "Gouvernorat Béja, Tunisie",
          "Délégation Sousse Medina, Gouvernorat Sousse, Tunisie",
          "Cite El Khadra, Gouvernorat Tunis, Tunisie",
          "Délégation Kélibia, Gouvernorat Nabeul, Tunisie",
          "Sakiet Eddaïer, Gouvernorat Sfax, Tunisie",
          "Délégation Radès, Gouvernorat Ben Arous, Tunisie",
          "Ariana Ville, Ariana, Tunisia",
          "Délégation Kélibia, Nabeul, Tunisia",
          "Ksar Hellal, Monastir, Tunisia",
          "Korba, Nabeul, Tunisia",
          "Délégation Tabarka, Jendouba, Tunisia",
          "La Marsa, Tunis, Tunisia",
          "Monastir, Monastir, Tunisia",
          "Soukra, Ariana, Tunisia",
          "Délégation Dar Chaabane El Fehri, Nabeul, Tunisia",
          "Délégation Megrine, Gouvernorat Ben Arous, Tunisie",
          "Délégation Menzel Bouzelfa, Nabeul, Tunisia",
          "Délégation Soukra, Gouvernorat Ariana, Tunisie",
          "Kasserine, Tunisia",
          "Mahdia, Tunisia",
          "United States",
          "Béja, Tunisia",
          "Hammamet, Nabeul, Tunisia",
          "Gabès, Tunisia",
          "El Menzah, Tunis, Tunisia",
          "Délégation Ariana Ville, Ariana, Tunisia",
          "Mongi Slim, Ben Arous, Tunisia",
          "Bab El Bhar, Tunis, Tunisia",
          "Délégation Djerba Midoun, Médenine, Tunisia",
          "Délégation Sfax Ville, Sfax, Tunisia",
          "Ariana, Ariana, Tunisia",
          "El Mourouj (2), Gouvernorat Tunis, Tunisie",
          "Sousse, Gouvernorat Sousse, Tunisie",
          "Carthage, Gouvernorat Tunis, Tunisie",
          "Nabeul, Gouvernorat Nabeul, Tunisie",
          "Gouvernorat Siliana, Tunisie",
          "Délégation Korba, Gouvernorat Nabeul, Tunisie",
          "Délégation Zarzis, Gouvernorat Médenine, Tunisie",
          "Dar Chaabane, Gouvernorat Nabeul, Tunisie",
          "El Mourouj (4), Gouvernorat Ben Arous, Tunisie",
          "Menzel Bourguiba, Gouvernorat Bizerte, Tunisie",
          "Délégation Bou Mhel El Bassatine, Gouvernorat Ben Arous, Tunisie",
          "Moknine, Gouvernorat Monastir, Tunisie",
          "Délégation Moknine, Gouvernorat Monastir, Tunisie",
          "Délégation Manouba‬‬, Gouvernorat La Manouba, Tunisie",
          "Délégation Sakiet Eddaier, Gouvernorat Sfax, Tunisie",
          "Gouvernorat Médenine, Tunisie",
          "Gouvernorat Kairouan, Tunisie",
          "Délégation Sfax Ville, Gouvernorat Sfax, Tunisie",
          "Délégation Sidi Bourouis, Gouvernorat Siliana, Tunisie",
          "Délégation Kairouan Sud, Gouvernorat Kairouan, Tunisie",
          "Mongi Slim, Gouvernorat Ben Arous, Tunisie",
          "Raoued, Gouvernorat Ariana, Tunisie",
          "Gouvernorat Mahdia, Tunisie",
          "Délégation Nabeul, Gouvernorat Nabeul, Tunisie",
          "Ezzahra, Gouvernorat Ben Arous, Tunisie",
          "Allemagne",
          "Délégation Raoued, Gouvernorat Ariana, Tunisie",
          "El-Hrairia, Gouvernorat Tunis, Tunisie",
          "Le Bardo, Gouvernorat Tunis, Tunisie",
          "El Mnihla, Gouvernorat Ariana, Tunisie",
          "Mareth, Gouvernorat Gabès, Tunisie",
          "Gouvernorat Le Kef, Tunisie",
          "Munich, Bavière, Allemagne",
          "Bab El Bhar, Gouvernorat Tunis, Tunisie",
          "Kalaa Kebira, Gouvernorat Sousse, Tunisie",
          "La Marsa, Gouvernorat Tunis, Tunisie",
          "Délégation El Mourouj, Gouvernorat Ben Arous, Tunisie",
          "Hergla, Gouvernorat Sousse, Tunisie",
          "Kelibia, Gouvernorat Nabeul, Tunisie",
          "Délégation Ksar Hellal, Monastir, Tunisia"
         ],
         "y": [
          65,
          65,
          26,
          24,
          15,
          14,
          13,
          12,
          10,
          10,
          9,
          9,
          9,
          8,
          7,
          5,
          5,
          4,
          4,
          4,
          4,
          4,
          3,
          3,
          3,
          3,
          2,
          2,
          2,
          2,
          2,
          2,
          2,
          2,
          2,
          2,
          2,
          2,
          2,
          2,
          2,
          2,
          1,
          1,
          1,
          1,
          1,
          1,
          1,
          1,
          1,
          1,
          1,
          1,
          1,
          1,
          1,
          1,
          1,
          1,
          1,
          1,
          1,
          1,
          1,
          1,
          1,
          1,
          1,
          1,
          1,
          1,
          1,
          1,
          1,
          1,
          1,
          1,
          1,
          1,
          1,
          1,
          1,
          1,
          1,
          1,
          1,
          1,
          1,
          1,
          1,
          1,
          1,
          1,
          1,
          1,
          1,
          1,
          1,
          1,
          1,
          1,
          1,
          1,
          1,
          1
         ]
        }
       ],
       "layout": {
        "template": {
         "data": {
          "bar": [
           {
            "error_x": {
             "color": "#2a3f5f"
            },
            "error_y": {
             "color": "#2a3f5f"
            },
            "marker": {
             "line": {
              "color": "#E5ECF6",
              "width": 0.5
             },
             "pattern": {
              "fillmode": "overlay",
              "size": 10,
              "solidity": 0.2
             }
            },
            "type": "bar"
           }
          ],
          "barpolar": [
           {
            "marker": {
             "line": {
              "color": "#E5ECF6",
              "width": 0.5
             },
             "pattern": {
              "fillmode": "overlay",
              "size": 10,
              "solidity": 0.2
             }
            },
            "type": "barpolar"
           }
          ],
          "carpet": [
           {
            "aaxis": {
             "endlinecolor": "#2a3f5f",
             "gridcolor": "white",
             "linecolor": "white",
             "minorgridcolor": "white",
             "startlinecolor": "#2a3f5f"
            },
            "baxis": {
             "endlinecolor": "#2a3f5f",
             "gridcolor": "white",
             "linecolor": "white",
             "minorgridcolor": "white",
             "startlinecolor": "#2a3f5f"
            },
            "type": "carpet"
           }
          ],
          "choropleth": [
           {
            "colorbar": {
             "outlinewidth": 0,
             "ticks": ""
            },
            "type": "choropleth"
           }
          ],
          "contour": [
           {
            "colorbar": {
             "outlinewidth": 0,
             "ticks": ""
            },
            "colorscale": [
             [
              0,
              "#0d0887"
             ],
             [
              0.1111111111111111,
              "#46039f"
             ],
             [
              0.2222222222222222,
              "#7201a8"
             ],
             [
              0.3333333333333333,
              "#9c179e"
             ],
             [
              0.4444444444444444,
              "#bd3786"
             ],
             [
              0.5555555555555556,
              "#d8576b"
             ],
             [
              0.6666666666666666,
              "#ed7953"
             ],
             [
              0.7777777777777778,
              "#fb9f3a"
             ],
             [
              0.8888888888888888,
              "#fdca26"
             ],
             [
              1,
              "#f0f921"
             ]
            ],
            "type": "contour"
           }
          ],
          "contourcarpet": [
           {
            "colorbar": {
             "outlinewidth": 0,
             "ticks": ""
            },
            "type": "contourcarpet"
           }
          ],
          "heatmap": [
           {
            "colorbar": {
             "outlinewidth": 0,
             "ticks": ""
            },
            "colorscale": [
             [
              0,
              "#0d0887"
             ],
             [
              0.1111111111111111,
              "#46039f"
             ],
             [
              0.2222222222222222,
              "#7201a8"
             ],
             [
              0.3333333333333333,
              "#9c179e"
             ],
             [
              0.4444444444444444,
              "#bd3786"
             ],
             [
              0.5555555555555556,
              "#d8576b"
             ],
             [
              0.6666666666666666,
              "#ed7953"
             ],
             [
              0.7777777777777778,
              "#fb9f3a"
             ],
             [
              0.8888888888888888,
              "#fdca26"
             ],
             [
              1,
              "#f0f921"
             ]
            ],
            "type": "heatmap"
           }
          ],
          "heatmapgl": [
           {
            "colorbar": {
             "outlinewidth": 0,
             "ticks": ""
            },
            "colorscale": [
             [
              0,
              "#0d0887"
             ],
             [
              0.1111111111111111,
              "#46039f"
             ],
             [
              0.2222222222222222,
              "#7201a8"
             ],
             [
              0.3333333333333333,
              "#9c179e"
             ],
             [
              0.4444444444444444,
              "#bd3786"
             ],
             [
              0.5555555555555556,
              "#d8576b"
             ],
             [
              0.6666666666666666,
              "#ed7953"
             ],
             [
              0.7777777777777778,
              "#fb9f3a"
             ],
             [
              0.8888888888888888,
              "#fdca26"
             ],
             [
              1,
              "#f0f921"
             ]
            ],
            "type": "heatmapgl"
           }
          ],
          "histogram": [
           {
            "marker": {
             "pattern": {
              "fillmode": "overlay",
              "size": 10,
              "solidity": 0.2
             }
            },
            "type": "histogram"
           }
          ],
          "histogram2d": [
           {
            "colorbar": {
             "outlinewidth": 0,
             "ticks": ""
            },
            "colorscale": [
             [
              0,
              "#0d0887"
             ],
             [
              0.1111111111111111,
              "#46039f"
             ],
             [
              0.2222222222222222,
              "#7201a8"
             ],
             [
              0.3333333333333333,
              "#9c179e"
             ],
             [
              0.4444444444444444,
              "#bd3786"
             ],
             [
              0.5555555555555556,
              "#d8576b"
             ],
             [
              0.6666666666666666,
              "#ed7953"
             ],
             [
              0.7777777777777778,
              "#fb9f3a"
             ],
             [
              0.8888888888888888,
              "#fdca26"
             ],
             [
              1,
              "#f0f921"
             ]
            ],
            "type": "histogram2d"
           }
          ],
          "histogram2dcontour": [
           {
            "colorbar": {
             "outlinewidth": 0,
             "ticks": ""
            },
            "colorscale": [
             [
              0,
              "#0d0887"
             ],
             [
              0.1111111111111111,
              "#46039f"
             ],
             [
              0.2222222222222222,
              "#7201a8"
             ],
             [
              0.3333333333333333,
              "#9c179e"
             ],
             [
              0.4444444444444444,
              "#bd3786"
             ],
             [
              0.5555555555555556,
              "#d8576b"
             ],
             [
              0.6666666666666666,
              "#ed7953"
             ],
             [
              0.7777777777777778,
              "#fb9f3a"
             ],
             [
              0.8888888888888888,
              "#fdca26"
             ],
             [
              1,
              "#f0f921"
             ]
            ],
            "type": "histogram2dcontour"
           }
          ],
          "mesh3d": [
           {
            "colorbar": {
             "outlinewidth": 0,
             "ticks": ""
            },
            "type": "mesh3d"
           }
          ],
          "parcoords": [
           {
            "line": {
             "colorbar": {
              "outlinewidth": 0,
              "ticks": ""
             }
            },
            "type": "parcoords"
           }
          ],
          "pie": [
           {
            "automargin": true,
            "type": "pie"
           }
          ],
          "scatter": [
           {
            "marker": {
             "colorbar": {
              "outlinewidth": 0,
              "ticks": ""
             }
            },
            "type": "scatter"
           }
          ],
          "scatter3d": [
           {
            "line": {
             "colorbar": {
              "outlinewidth": 0,
              "ticks": ""
             }
            },
            "marker": {
             "colorbar": {
              "outlinewidth": 0,
              "ticks": ""
             }
            },
            "type": "scatter3d"
           }
          ],
          "scattercarpet": [
           {
            "marker": {
             "colorbar": {
              "outlinewidth": 0,
              "ticks": ""
             }
            },
            "type": "scattercarpet"
           }
          ],
          "scattergeo": [
           {
            "marker": {
             "colorbar": {
              "outlinewidth": 0,
              "ticks": ""
             }
            },
            "type": "scattergeo"
           }
          ],
          "scattergl": [
           {
            "marker": {
             "colorbar": {
              "outlinewidth": 0,
              "ticks": ""
             }
            },
            "type": "scattergl"
           }
          ],
          "scattermapbox": [
           {
            "marker": {
             "colorbar": {
              "outlinewidth": 0,
              "ticks": ""
             }
            },
            "type": "scattermapbox"
           }
          ],
          "scatterpolar": [
           {
            "marker": {
             "colorbar": {
              "outlinewidth": 0,
              "ticks": ""
             }
            },
            "type": "scatterpolar"
           }
          ],
          "scatterpolargl": [
           {
            "marker": {
             "colorbar": {
              "outlinewidth": 0,
              "ticks": ""
             }
            },
            "type": "scatterpolargl"
           }
          ],
          "scatterternary": [
           {
            "marker": {
             "colorbar": {
              "outlinewidth": 0,
              "ticks": ""
             }
            },
            "type": "scatterternary"
           }
          ],
          "surface": [
           {
            "colorbar": {
             "outlinewidth": 0,
             "ticks": ""
            },
            "colorscale": [
             [
              0,
              "#0d0887"
             ],
             [
              0.1111111111111111,
              "#46039f"
             ],
             [
              0.2222222222222222,
              "#7201a8"
             ],
             [
              0.3333333333333333,
              "#9c179e"
             ],
             [
              0.4444444444444444,
              "#bd3786"
             ],
             [
              0.5555555555555556,
              "#d8576b"
             ],
             [
              0.6666666666666666,
              "#ed7953"
             ],
             [
              0.7777777777777778,
              "#fb9f3a"
             ],
             [
              0.8888888888888888,
              "#fdca26"
             ],
             [
              1,
              "#f0f921"
             ]
            ],
            "type": "surface"
           }
          ],
          "table": [
           {
            "cells": {
             "fill": {
              "color": "#EBF0F8"
             },
             "line": {
              "color": "white"
             }
            },
            "header": {
             "fill": {
              "color": "#C8D4E3"
             },
             "line": {
              "color": "white"
             }
            },
            "type": "table"
           }
          ]
         },
         "layout": {
          "annotationdefaults": {
           "arrowcolor": "#2a3f5f",
           "arrowhead": 0,
           "arrowwidth": 1
          },
          "autotypenumbers": "strict",
          "coloraxis": {
           "colorbar": {
            "outlinewidth": 0,
            "ticks": ""
           }
          },
          "colorscale": {
           "diverging": [
            [
             0,
             "#8e0152"
            ],
            [
             0.1,
             "#c51b7d"
            ],
            [
             0.2,
             "#de77ae"
            ],
            [
             0.3,
             "#f1b6da"
            ],
            [
             0.4,
             "#fde0ef"
            ],
            [
             0.5,
             "#f7f7f7"
            ],
            [
             0.6,
             "#e6f5d0"
            ],
            [
             0.7,
             "#b8e186"
            ],
            [
             0.8,
             "#7fbc41"
            ],
            [
             0.9,
             "#4d9221"
            ],
            [
             1,
             "#276419"
            ]
           ],
           "sequential": [
            [
             0,
             "#0d0887"
            ],
            [
             0.1111111111111111,
             "#46039f"
            ],
            [
             0.2222222222222222,
             "#7201a8"
            ],
            [
             0.3333333333333333,
             "#9c179e"
            ],
            [
             0.4444444444444444,
             "#bd3786"
            ],
            [
             0.5555555555555556,
             "#d8576b"
            ],
            [
             0.6666666666666666,
             "#ed7953"
            ],
            [
             0.7777777777777778,
             "#fb9f3a"
            ],
            [
             0.8888888888888888,
             "#fdca26"
            ],
            [
             1,
             "#f0f921"
            ]
           ],
           "sequentialminus": [
            [
             0,
             "#0d0887"
            ],
            [
             0.1111111111111111,
             "#46039f"
            ],
            [
             0.2222222222222222,
             "#7201a8"
            ],
            [
             0.3333333333333333,
             "#9c179e"
            ],
            [
             0.4444444444444444,
             "#bd3786"
            ],
            [
             0.5555555555555556,
             "#d8576b"
            ],
            [
             0.6666666666666666,
             "#ed7953"
            ],
            [
             0.7777777777777778,
             "#fb9f3a"
            ],
            [
             0.8888888888888888,
             "#fdca26"
            ],
            [
             1,
             "#f0f921"
            ]
           ]
          },
          "colorway": [
           "#636efa",
           "#EF553B",
           "#00cc96",
           "#ab63fa",
           "#FFA15A",
           "#19d3f3",
           "#FF6692",
           "#B6E880",
           "#FF97FF",
           "#FECB52"
          ],
          "font": {
           "color": "#2a3f5f"
          },
          "geo": {
           "bgcolor": "white",
           "lakecolor": "white",
           "landcolor": "#E5ECF6",
           "showlakes": true,
           "showland": true,
           "subunitcolor": "white"
          },
          "hoverlabel": {
           "align": "left"
          },
          "hovermode": "closest",
          "mapbox": {
           "style": "light"
          },
          "paper_bgcolor": "white",
          "plot_bgcolor": "#E5ECF6",
          "polar": {
           "angularaxis": {
            "gridcolor": "white",
            "linecolor": "white",
            "ticks": ""
           },
           "bgcolor": "#E5ECF6",
           "radialaxis": {
            "gridcolor": "white",
            "linecolor": "white",
            "ticks": ""
           }
          },
          "scene": {
           "xaxis": {
            "backgroundcolor": "#E5ECF6",
            "gridcolor": "white",
            "gridwidth": 2,
            "linecolor": "white",
            "showbackground": true,
            "ticks": "",
            "zerolinecolor": "white"
           },
           "yaxis": {
            "backgroundcolor": "#E5ECF6",
            "gridcolor": "white",
            "gridwidth": 2,
            "linecolor": "white",
            "showbackground": true,
            "ticks": "",
            "zerolinecolor": "white"
           },
           "zaxis": {
            "backgroundcolor": "#E5ECF6",
            "gridcolor": "white",
            "gridwidth": 2,
            "linecolor": "white",
            "showbackground": true,
            "ticks": "",
            "zerolinecolor": "white"
           }
          },
          "shapedefaults": {
           "line": {
            "color": "#2a3f5f"
           }
          },
          "ternary": {
           "aaxis": {
            "gridcolor": "white",
            "linecolor": "white",
            "ticks": ""
           },
           "baxis": {
            "gridcolor": "white",
            "linecolor": "white",
            "ticks": ""
           },
           "bgcolor": "#E5ECF6",
           "caxis": {
            "gridcolor": "white",
            "linecolor": "white",
            "ticks": ""
           }
          },
          "title": {
           "x": 0.05
          },
          "xaxis": {
           "automargin": true,
           "gridcolor": "white",
           "linecolor": "white",
           "ticks": "",
           "title": {
            "standoff": 15
           },
           "zerolinecolor": "white",
           "zerolinewidth": 2
          },
          "yaxis": {
           "automargin": true,
           "gridcolor": "white",
           "linecolor": "white",
           "ticks": "",
           "title": {
            "standoff": 15
           },
           "zerolinecolor": "white",
           "zerolinewidth": 2
          }
         }
        },
        "title": {
         "text": "Count plot of location"
        },
        "xaxis": {
         "title": {
          "text": "\tlocation\t status"
         }
        },
        "yaxis": {
         "title": {
          "text": "Number of count"
         }
        }
       }
      },
      "text/html": [
       "<div>                            <div id=\"81e107d1-a47f-4bb5-9c24-a005ea3cc765\" class=\"plotly-graph-div\" style=\"height:525px; width:100%;\"></div>            <script type=\"text/javascript\">                require([\"plotly\"], function(Plotly) {                    window.PLOTLYENV=window.PLOTLYENV || {};                                    if (document.getElementById(\"81e107d1-a47f-4bb5-9c24-a005ea3cc765\")) {                    Plotly.newPlot(                        \"81e107d1-a47f-4bb5-9c24-a005ea3cc765\",                        [{\"marker\":{\"color\":[65,65,26,24,15,14,13,12,10,10,9,9,9,8,7,5,5,4,4,4,4,4,3,3,3,3,2,2,2,2,2,2,2,2,2,2,2,2,2,2,2,2,1,1,1,1,1,1,1,1,1,1,1,1,1,1,1,1,1,1,1,1,1,1,1,1,1,1,1,1,1,1,1,1,1,1,1,1,1,1,1,1,1,1,1,1,1,1,1,1,1,1,1,1,1,1,1,1,1,1,1,1,1,1,1,1]},\"text\":[65.0,65.0,26.0,24.0,15.0,14.0,13.0,12.0,10.0,10.0,9.0,9.0,9.0,8.0,7.0,5.0,5.0,4.0,4.0,4.0,4.0,4.0,3.0,3.0,3.0,3.0,2.0,2.0,2.0,2.0,2.0,2.0,2.0,2.0,2.0,2.0,2.0,2.0,2.0,2.0,2.0,2.0,1.0,1.0,1.0,1.0,1.0,1.0,1.0,1.0,1.0,1.0,1.0,1.0,1.0,1.0,1.0,1.0,1.0,1.0,1.0,1.0,1.0,1.0,1.0,1.0,1.0,1.0,1.0,1.0,1.0,1.0,1.0,1.0,1.0,1.0,1.0,1.0,1.0,1.0,1.0,1.0,1.0,1.0,1.0,1.0,1.0,1.0,1.0,1.0,1.0,1.0,1.0,1.0,1.0,1.0,1.0,1.0,1.0,1.0,1.0,1.0,1.0,1.0,1.0,1.0],\"textposition\":\"outside\",\"x\":[\"Gouvernorat Tunis, Tunisie\",\"Tunis, Gouvernorat Tunis, Tunisie\",\"Tunis, Tunis, Tunisia\",\"Tunis, Tunisia\",\"Gouvernorat Sfax, Tunisie\",\"Gouvernorat Sousse, Tunisie\",\"Tunisie\",\"Gouvernorat Monastir, Tunisie\",\"Gouvernorat Nabeul, Tunisie\",\"Ariana, Tunisia\",\"Gouvernorat Ariana, Tunisie\",\"Nabeul, Tunisia\",\"Gouvernorat Bizerte, Tunisie\",\"Tunisia\",\"Sfax, Tunisia\",\"Gouvernorat Ben Arous, Tunisie\",\"Bizerte, Tunisia\",\"D\\u00e9l\\u00e9gation Hammamet, Gouvernorat Nabeul, Tunisie\",\"Ben Arous, Gouvernorat Ben Arous, Tunisie\",\"D\\u00e9l\\u00e9gation Ariana Ville, Gouvernorat Ariana, Tunisie\",\"Ben Arous, Tunisia\",\"Grand Tunis Metropolitan Area\",\"Ariana, Gouvernorat Ariana, Tunisie\",\"Sousse, Tunisia\",\"Gouvernorat Gab\\u00e8s, Tunisie\",\"Ariana Ville, Gouvernorat Ariana, Tunisie\",\"Fouchana, Gouvernorat Ben Arous, Tunisie\",\"Manouba, Tunisia\",\"D\\u00e9l\\u00e9gation El Battane, Gouvernorat La Manouba, Tunisie\",\"El Omrane Superieur, Gouvernorat Tunis, Tunisie\",\"Gouvernorat La Manouba, Tunisie\",\"D\\u00e9l\\u00e9gation Mahdia, Gouvernorat Mahdia, Tunisie\",\"El Menzah, Gouvernorat Tunis, Tunisie\",\"Hammamet, Gouvernorat Nabeul, Tunisie\",\"El-Hrairia, Tunis, Tunisia\",\"Gouvernorat B\\u00e9ja, Tunisie\",\"D\\u00e9l\\u00e9gation Sousse Medina, Gouvernorat Sousse, Tunisie\",\"Cite El Khadra, Gouvernorat Tunis, Tunisie\",\"D\\u00e9l\\u00e9gation K\\u00e9libia, Gouvernorat Nabeul, Tunisie\",\"Sakiet Edda\\u00efer, Gouvernorat Sfax, Tunisie\",\"D\\u00e9l\\u00e9gation Rad\\u00e8s, Gouvernorat Ben Arous, Tunisie\",\"Ariana Ville, Ariana, Tunisia\",\"D\\u00e9l\\u00e9gation K\\u00e9libia, Nabeul, Tunisia\",\"Ksar Hellal, Monastir, Tunisia\",\"Korba, Nabeul, Tunisia\",\"D\\u00e9l\\u00e9gation Tabarka, Jendouba, Tunisia\",\"La Marsa, Tunis, Tunisia\",\"Monastir, Monastir, Tunisia\",\"Soukra, Ariana, Tunisia\",\"D\\u00e9l\\u00e9gation Dar Chaabane El Fehri, Nabeul, Tunisia\",\"D\\u00e9l\\u00e9gation Megrine, Gouvernorat Ben Arous, Tunisie\",\"D\\u00e9l\\u00e9gation Menzel Bouzelfa, Nabeul, Tunisia\",\"D\\u00e9l\\u00e9gation Soukra, Gouvernorat Ariana, Tunisie\",\"Kasserine, Tunisia\",\"Mahdia, Tunisia\",\"United States\",\"B\\u00e9ja, Tunisia\",\"Hammamet, Nabeul, Tunisia\",\"Gab\\u00e8s, Tunisia\",\"El Menzah, Tunis, Tunisia\",\"D\\u00e9l\\u00e9gation Ariana Ville, Ariana, Tunisia\",\"Mongi Slim, Ben Arous, Tunisia\",\"Bab El Bhar, Tunis, Tunisia\",\"D\\u00e9l\\u00e9gation Djerba Midoun, M\\u00e9denine, Tunisia\",\"D\\u00e9l\\u00e9gation Sfax Ville, Sfax, Tunisia\",\"Ariana, Ariana, Tunisia\",\"El Mourouj (2), Gouvernorat Tunis, Tunisie\",\"Sousse, Gouvernorat Sousse, Tunisie\",\"Carthage, Gouvernorat Tunis, Tunisie\",\"Nabeul, Gouvernorat Nabeul, Tunisie\",\"Gouvernorat Siliana, Tunisie\",\"D\\u00e9l\\u00e9gation Korba, Gouvernorat Nabeul, Tunisie\",\"D\\u00e9l\\u00e9gation Zarzis, Gouvernorat M\\u00e9denine, Tunisie\",\"Dar Chaabane, Gouvernorat Nabeul, Tunisie\",\"El Mourouj (4), Gouvernorat Ben Arous, Tunisie\",\"Menzel Bourguiba, Gouvernorat Bizerte, Tunisie\",\"D\\u00e9l\\u00e9gation Bou Mhel El Bassatine, Gouvernorat Ben Arous, Tunisie\",\"Moknine, Gouvernorat Monastir, Tunisie\",\"D\\u00e9l\\u00e9gation Moknine, Gouvernorat Monastir, Tunisie\",\"D\\u00e9l\\u00e9gation Manouba\\u202c\\u202c, Gouvernorat La Manouba, Tunisie\",\"D\\u00e9l\\u00e9gation Sakiet Eddaier, Gouvernorat Sfax, Tunisie\",\"Gouvernorat M\\u00e9denine, Tunisie\",\"Gouvernorat Kairouan, Tunisie\",\"D\\u00e9l\\u00e9gation Sfax Ville, Gouvernorat Sfax, Tunisie\",\"D\\u00e9l\\u00e9gation Sidi Bourouis, Gouvernorat Siliana, Tunisie\",\"D\\u00e9l\\u00e9gation Kairouan Sud, Gouvernorat Kairouan, Tunisie\",\"Mongi Slim, Gouvernorat Ben Arous, Tunisie\",\"Raoued, Gouvernorat Ariana, Tunisie\",\"Gouvernorat Mahdia, Tunisie\",\"D\\u00e9l\\u00e9gation Nabeul, Gouvernorat Nabeul, Tunisie\",\"Ezzahra, Gouvernorat Ben Arous, Tunisie\",\"Allemagne\",\"D\\u00e9l\\u00e9gation Raoued, Gouvernorat Ariana, Tunisie\",\"El-Hrairia, Gouvernorat Tunis, Tunisie\",\"Le Bardo, Gouvernorat Tunis, Tunisie\",\"El Mnihla, Gouvernorat Ariana, Tunisie\",\"Mareth, Gouvernorat Gab\\u00e8s, Tunisie\",\"Gouvernorat Le Kef, Tunisie\",\"Munich, Bavi\\u00e8re, Allemagne\",\"Bab El Bhar, Gouvernorat Tunis, Tunisie\",\"Kalaa Kebira, Gouvernorat Sousse, Tunisie\",\"La Marsa, Gouvernorat Tunis, Tunisie\",\"D\\u00e9l\\u00e9gation El Mourouj, Gouvernorat Ben Arous, Tunisie\",\"Hergla, Gouvernorat Sousse, Tunisie\",\"Kelibia, Gouvernorat Nabeul, Tunisie\",\"D\\u00e9l\\u00e9gation Ksar Hellal, Monastir, Tunisia\"],\"y\":[65,65,26,24,15,14,13,12,10,10,9,9,9,8,7,5,5,4,4,4,4,4,3,3,3,3,2,2,2,2,2,2,2,2,2,2,2,2,2,2,2,2,1,1,1,1,1,1,1,1,1,1,1,1,1,1,1,1,1,1,1,1,1,1,1,1,1,1,1,1,1,1,1,1,1,1,1,1,1,1,1,1,1,1,1,1,1,1,1,1,1,1,1,1,1,1,1,1,1,1,1,1,1,1,1,1],\"type\":\"bar\"}],                        {\"template\":{\"data\":{\"bar\":[{\"error_x\":{\"color\":\"#2a3f5f\"},\"error_y\":{\"color\":\"#2a3f5f\"},\"marker\":{\"line\":{\"color\":\"#E5ECF6\",\"width\":0.5},\"pattern\":{\"fillmode\":\"overlay\",\"size\":10,\"solidity\":0.2}},\"type\":\"bar\"}],\"barpolar\":[{\"marker\":{\"line\":{\"color\":\"#E5ECF6\",\"width\":0.5},\"pattern\":{\"fillmode\":\"overlay\",\"size\":10,\"solidity\":0.2}},\"type\":\"barpolar\"}],\"carpet\":[{\"aaxis\":{\"endlinecolor\":\"#2a3f5f\",\"gridcolor\":\"white\",\"linecolor\":\"white\",\"minorgridcolor\":\"white\",\"startlinecolor\":\"#2a3f5f\"},\"baxis\":{\"endlinecolor\":\"#2a3f5f\",\"gridcolor\":\"white\",\"linecolor\":\"white\",\"minorgridcolor\":\"white\",\"startlinecolor\":\"#2a3f5f\"},\"type\":\"carpet\"}],\"choropleth\":[{\"colorbar\":{\"outlinewidth\":0,\"ticks\":\"\"},\"type\":\"choropleth\"}],\"contour\":[{\"colorbar\":{\"outlinewidth\":0,\"ticks\":\"\"},\"colorscale\":[[0.0,\"#0d0887\"],[0.1111111111111111,\"#46039f\"],[0.2222222222222222,\"#7201a8\"],[0.3333333333333333,\"#9c179e\"],[0.4444444444444444,\"#bd3786\"],[0.5555555555555556,\"#d8576b\"],[0.6666666666666666,\"#ed7953\"],[0.7777777777777778,\"#fb9f3a\"],[0.8888888888888888,\"#fdca26\"],[1.0,\"#f0f921\"]],\"type\":\"contour\"}],\"contourcarpet\":[{\"colorbar\":{\"outlinewidth\":0,\"ticks\":\"\"},\"type\":\"contourcarpet\"}],\"heatmap\":[{\"colorbar\":{\"outlinewidth\":0,\"ticks\":\"\"},\"colorscale\":[[0.0,\"#0d0887\"],[0.1111111111111111,\"#46039f\"],[0.2222222222222222,\"#7201a8\"],[0.3333333333333333,\"#9c179e\"],[0.4444444444444444,\"#bd3786\"],[0.5555555555555556,\"#d8576b\"],[0.6666666666666666,\"#ed7953\"],[0.7777777777777778,\"#fb9f3a\"],[0.8888888888888888,\"#fdca26\"],[1.0,\"#f0f921\"]],\"type\":\"heatmap\"}],\"heatmapgl\":[{\"colorbar\":{\"outlinewidth\":0,\"ticks\":\"\"},\"colorscale\":[[0.0,\"#0d0887\"],[0.1111111111111111,\"#46039f\"],[0.2222222222222222,\"#7201a8\"],[0.3333333333333333,\"#9c179e\"],[0.4444444444444444,\"#bd3786\"],[0.5555555555555556,\"#d8576b\"],[0.6666666666666666,\"#ed7953\"],[0.7777777777777778,\"#fb9f3a\"],[0.8888888888888888,\"#fdca26\"],[1.0,\"#f0f921\"]],\"type\":\"heatmapgl\"}],\"histogram\":[{\"marker\":{\"pattern\":{\"fillmode\":\"overlay\",\"size\":10,\"solidity\":0.2}},\"type\":\"histogram\"}],\"histogram2d\":[{\"colorbar\":{\"outlinewidth\":0,\"ticks\":\"\"},\"colorscale\":[[0.0,\"#0d0887\"],[0.1111111111111111,\"#46039f\"],[0.2222222222222222,\"#7201a8\"],[0.3333333333333333,\"#9c179e\"],[0.4444444444444444,\"#bd3786\"],[0.5555555555555556,\"#d8576b\"],[0.6666666666666666,\"#ed7953\"],[0.7777777777777778,\"#fb9f3a\"],[0.8888888888888888,\"#fdca26\"],[1.0,\"#f0f921\"]],\"type\":\"histogram2d\"}],\"histogram2dcontour\":[{\"colorbar\":{\"outlinewidth\":0,\"ticks\":\"\"},\"colorscale\":[[0.0,\"#0d0887\"],[0.1111111111111111,\"#46039f\"],[0.2222222222222222,\"#7201a8\"],[0.3333333333333333,\"#9c179e\"],[0.4444444444444444,\"#bd3786\"],[0.5555555555555556,\"#d8576b\"],[0.6666666666666666,\"#ed7953\"],[0.7777777777777778,\"#fb9f3a\"],[0.8888888888888888,\"#fdca26\"],[1.0,\"#f0f921\"]],\"type\":\"histogram2dcontour\"}],\"mesh3d\":[{\"colorbar\":{\"outlinewidth\":0,\"ticks\":\"\"},\"type\":\"mesh3d\"}],\"parcoords\":[{\"line\":{\"colorbar\":{\"outlinewidth\":0,\"ticks\":\"\"}},\"type\":\"parcoords\"}],\"pie\":[{\"automargin\":true,\"type\":\"pie\"}],\"scatter\":[{\"marker\":{\"colorbar\":{\"outlinewidth\":0,\"ticks\":\"\"}},\"type\":\"scatter\"}],\"scatter3d\":[{\"line\":{\"colorbar\":{\"outlinewidth\":0,\"ticks\":\"\"}},\"marker\":{\"colorbar\":{\"outlinewidth\":0,\"ticks\":\"\"}},\"type\":\"scatter3d\"}],\"scattercarpet\":[{\"marker\":{\"colorbar\":{\"outlinewidth\":0,\"ticks\":\"\"}},\"type\":\"scattercarpet\"}],\"scattergeo\":[{\"marker\":{\"colorbar\":{\"outlinewidth\":0,\"ticks\":\"\"}},\"type\":\"scattergeo\"}],\"scattergl\":[{\"marker\":{\"colorbar\":{\"outlinewidth\":0,\"ticks\":\"\"}},\"type\":\"scattergl\"}],\"scattermapbox\":[{\"marker\":{\"colorbar\":{\"outlinewidth\":0,\"ticks\":\"\"}},\"type\":\"scattermapbox\"}],\"scatterpolar\":[{\"marker\":{\"colorbar\":{\"outlinewidth\":0,\"ticks\":\"\"}},\"type\":\"scatterpolar\"}],\"scatterpolargl\":[{\"marker\":{\"colorbar\":{\"outlinewidth\":0,\"ticks\":\"\"}},\"type\":\"scatterpolargl\"}],\"scatterternary\":[{\"marker\":{\"colorbar\":{\"outlinewidth\":0,\"ticks\":\"\"}},\"type\":\"scatterternary\"}],\"surface\":[{\"colorbar\":{\"outlinewidth\":0,\"ticks\":\"\"},\"colorscale\":[[0.0,\"#0d0887\"],[0.1111111111111111,\"#46039f\"],[0.2222222222222222,\"#7201a8\"],[0.3333333333333333,\"#9c179e\"],[0.4444444444444444,\"#bd3786\"],[0.5555555555555556,\"#d8576b\"],[0.6666666666666666,\"#ed7953\"],[0.7777777777777778,\"#fb9f3a\"],[0.8888888888888888,\"#fdca26\"],[1.0,\"#f0f921\"]],\"type\":\"surface\"}],\"table\":[{\"cells\":{\"fill\":{\"color\":\"#EBF0F8\"},\"line\":{\"color\":\"white\"}},\"header\":{\"fill\":{\"color\":\"#C8D4E3\"},\"line\":{\"color\":\"white\"}},\"type\":\"table\"}]},\"layout\":{\"annotationdefaults\":{\"arrowcolor\":\"#2a3f5f\",\"arrowhead\":0,\"arrowwidth\":1},\"autotypenumbers\":\"strict\",\"coloraxis\":{\"colorbar\":{\"outlinewidth\":0,\"ticks\":\"\"}},\"colorscale\":{\"diverging\":[[0,\"#8e0152\"],[0.1,\"#c51b7d\"],[0.2,\"#de77ae\"],[0.3,\"#f1b6da\"],[0.4,\"#fde0ef\"],[0.5,\"#f7f7f7\"],[0.6,\"#e6f5d0\"],[0.7,\"#b8e186\"],[0.8,\"#7fbc41\"],[0.9,\"#4d9221\"],[1,\"#276419\"]],\"sequential\":[[0.0,\"#0d0887\"],[0.1111111111111111,\"#46039f\"],[0.2222222222222222,\"#7201a8\"],[0.3333333333333333,\"#9c179e\"],[0.4444444444444444,\"#bd3786\"],[0.5555555555555556,\"#d8576b\"],[0.6666666666666666,\"#ed7953\"],[0.7777777777777778,\"#fb9f3a\"],[0.8888888888888888,\"#fdca26\"],[1.0,\"#f0f921\"]],\"sequentialminus\":[[0.0,\"#0d0887\"],[0.1111111111111111,\"#46039f\"],[0.2222222222222222,\"#7201a8\"],[0.3333333333333333,\"#9c179e\"],[0.4444444444444444,\"#bd3786\"],[0.5555555555555556,\"#d8576b\"],[0.6666666666666666,\"#ed7953\"],[0.7777777777777778,\"#fb9f3a\"],[0.8888888888888888,\"#fdca26\"],[1.0,\"#f0f921\"]]},\"colorway\":[\"#636efa\",\"#EF553B\",\"#00cc96\",\"#ab63fa\",\"#FFA15A\",\"#19d3f3\",\"#FF6692\",\"#B6E880\",\"#FF97FF\",\"#FECB52\"],\"font\":{\"color\":\"#2a3f5f\"},\"geo\":{\"bgcolor\":\"white\",\"lakecolor\":\"white\",\"landcolor\":\"#E5ECF6\",\"showlakes\":true,\"showland\":true,\"subunitcolor\":\"white\"},\"hoverlabel\":{\"align\":\"left\"},\"hovermode\":\"closest\",\"mapbox\":{\"style\":\"light\"},\"paper_bgcolor\":\"white\",\"plot_bgcolor\":\"#E5ECF6\",\"polar\":{\"angularaxis\":{\"gridcolor\":\"white\",\"linecolor\":\"white\",\"ticks\":\"\"},\"bgcolor\":\"#E5ECF6\",\"radialaxis\":{\"gridcolor\":\"white\",\"linecolor\":\"white\",\"ticks\":\"\"}},\"scene\":{\"xaxis\":{\"backgroundcolor\":\"#E5ECF6\",\"gridcolor\":\"white\",\"gridwidth\":2,\"linecolor\":\"white\",\"showbackground\":true,\"ticks\":\"\",\"zerolinecolor\":\"white\"},\"yaxis\":{\"backgroundcolor\":\"#E5ECF6\",\"gridcolor\":\"white\",\"gridwidth\":2,\"linecolor\":\"white\",\"showbackground\":true,\"ticks\":\"\",\"zerolinecolor\":\"white\"},\"zaxis\":{\"backgroundcolor\":\"#E5ECF6\",\"gridcolor\":\"white\",\"gridwidth\":2,\"linecolor\":\"white\",\"showbackground\":true,\"ticks\":\"\",\"zerolinecolor\":\"white\"}},\"shapedefaults\":{\"line\":{\"color\":\"#2a3f5f\"}},\"ternary\":{\"aaxis\":{\"gridcolor\":\"white\",\"linecolor\":\"white\",\"ticks\":\"\"},\"baxis\":{\"gridcolor\":\"white\",\"linecolor\":\"white\",\"ticks\":\"\"},\"bgcolor\":\"#E5ECF6\",\"caxis\":{\"gridcolor\":\"white\",\"linecolor\":\"white\",\"ticks\":\"\"}},\"title\":{\"x\":0.05},\"xaxis\":{\"automargin\":true,\"gridcolor\":\"white\",\"linecolor\":\"white\",\"ticks\":\"\",\"title\":{\"standoff\":15},\"zerolinecolor\":\"white\",\"zerolinewidth\":2},\"yaxis\":{\"automargin\":true,\"gridcolor\":\"white\",\"linecolor\":\"white\",\"ticks\":\"\",\"title\":{\"standoff\":15},\"zerolinecolor\":\"white\",\"zerolinewidth\":2}}},\"title\":{\"text\":\"Count plot of location\"},\"xaxis\":{\"title\":{\"text\":\"\\tlocation\\t status\"}},\"yaxis\":{\"title\":{\"text\":\"Number of count\"}}},                        {\"responsive\": true}                    ).then(function(){\n",
       "                            \n",
       "var gd = document.getElementById('81e107d1-a47f-4bb5-9c24-a005ea3cc765');\n",
       "var x = new MutationObserver(function (mutations, observer) {{\n",
       "        var display = window.getComputedStyle(gd).display;\n",
       "        if (!display || display === 'none') {{\n",
       "            console.log([gd, 'removed!']);\n",
       "            Plotly.purge(gd);\n",
       "            observer.disconnect();\n",
       "        }}\n",
       "}});\n",
       "\n",
       "// Listen for the removal of the full notebook cells\n",
       "var notebookContainer = gd.closest('#notebook-container');\n",
       "if (notebookContainer) {{\n",
       "    x.observe(notebookContainer, {childList: true});\n",
       "}}\n",
       "\n",
       "// Listen for the clearing of the current output cell\n",
       "var outputEl = gd.closest('.output');\n",
       "if (outputEl) {{\n",
       "    x.observe(outputEl, {childList: true});\n",
       "}}\n",
       "\n",
       "                        })                };                });            </script>        </div>"
      ]
     },
     "metadata": {},
     "output_type": "display_data"
    }
   ],
   "source": [
    "desc_count1 = df['location'].value_counts().reset_index().rename(columns={'index':'index','location':'count'})\n",
    "fig = go.Figure(go.Bar(\n",
    "    x = desc_count1['index'],y = desc_count1['count'],text=desc_count1['count'],marker={'color': desc_count1['count']}\n",
    "    ,textposition = \"outside\"))\n",
    "fig.update_layout(title_text='Count plot of location',xaxis_title=\"\tlocation\t status\",yaxis_title=\"Number of count\")\n",
    "fig.show()"
   ]
  },
  {
   "cell_type": "code",
   "execution_count": 1068,
   "id": "4fa56b32",
   "metadata": {},
   "outputs": [
    {
     "data": {
      "application/vnd.plotly.v1+json": {
       "config": {
        "plotlyServerURL": "https://plot.ly"
       },
       "data": [
        {
         "marker": {
          "color": [
           24,
           18,
           11,
           10,
           8,
           7,
           7,
           6,
           4,
           4,
           3,
           3,
           3,
           3,
           3,
           3,
           2,
           2,
           2,
           2,
           2,
           2,
           2,
           2,
           2,
           2,
           2,
           2,
           2,
           2,
           2,
           1,
           1,
           1,
           1,
           1,
           1,
           1,
           1,
           1,
           1,
           1,
           1,
           1,
           1,
           1,
           1,
           1,
           1,
           1,
           1,
           1,
           1,
           1,
           1,
           1,
           1,
           1,
           1,
           1,
           1,
           1,
           1,
           1,
           1,
           1,
           1,
           1,
           1,
           1,
           1,
           1,
           1,
           1,
           1,
           1,
           1,
           1,
           1,
           1,
           1,
           1,
           1,
           1,
           1,
           1,
           1,
           1,
           1,
           1,
           1,
           1,
           1,
           1,
           1,
           1,
           1,
           1,
           1,
           1,
           1,
           1,
           1,
           1,
           1,
           1,
           1,
           1,
           1,
           1,
           1,
           1,
           1,
           1,
           1,
           1,
           1,
           1,
           1,
           1,
           1,
           1,
           1,
           1,
           1,
           1,
           1,
           1,
           1,
           1,
           1,
           1,
           1,
           1,
           1,
           1,
           1,
           1,
           1,
           1,
           1,
           1,
           1,
           1,
           1,
           1,
           1,
           1,
           1,
           1,
           1,
           1,
           1,
           1,
           1,
           1,
           1,
           1,
           1,
           1,
           1,
           1,
           1,
           1,
           1,
           1,
           1,
           1,
           1,
           1,
           1,
           1,
           1,
           1,
           1,
           1,
           1,
           1,
           1,
           1,
           1,
           1,
           1,
           1,
           1,
           1,
           1,
           1,
           1,
           1,
           1,
           1,
           1,
           1,
           1,
           1,
           1,
           1,
           1,
           1,
           1,
           1,
           1,
           1,
           1,
           1,
           1,
           1,
           1,
           1,
           1,
           1,
           1,
           1,
           1,
           1,
           1,
           1,
           1,
           1,
           1,
           1,
           1,
           1,
           1,
           1,
           1,
           1,
           1,
           1,
           1,
           1,
           1,
           1,
           1,
           1,
           1,
           1,
           1,
           1,
           1,
           1,
           1,
           1,
           1,
           1,
           1,
           1,
           1,
           1,
           1,
           1,
           1,
           1,
           1,
           1,
           1,
           1,
           1,
           1,
           1,
           1,
           1,
           1,
           1,
           1,
           1,
           1,
           1,
           1,
           1,
           1,
           1,
           1,
           1,
           1,
           1,
           1,
           1,
           1,
           1,
           1,
           1,
           1,
           1,
           1,
           1,
           1,
           1,
           1,
           1,
           1,
           1,
           1,
           1,
           1,
           1,
           1,
           1,
           1,
           1,
           1,
           1,
           1,
           1,
           1,
           1,
           1,
           1,
           1,
           1,
           1,
           1,
           1,
           1,
           1,
           1,
           1
          ]
         },
         "text": [
          24,
          18,
          11,
          10,
          8,
          7,
          7,
          6,
          4,
          4,
          3,
          3,
          3,
          3,
          3,
          3,
          2,
          2,
          2,
          2,
          2,
          2,
          2,
          2,
          2,
          2,
          2,
          2,
          2,
          2,
          2,
          1,
          1,
          1,
          1,
          1,
          1,
          1,
          1,
          1,
          1,
          1,
          1,
          1,
          1,
          1,
          1,
          1,
          1,
          1,
          1,
          1,
          1,
          1,
          1,
          1,
          1,
          1,
          1,
          1,
          1,
          1,
          1,
          1,
          1,
          1,
          1,
          1,
          1,
          1,
          1,
          1,
          1,
          1,
          1,
          1,
          1,
          1,
          1,
          1,
          1,
          1,
          1,
          1,
          1,
          1,
          1,
          1,
          1,
          1,
          1,
          1,
          1,
          1,
          1,
          1,
          1,
          1,
          1,
          1,
          1,
          1,
          1,
          1,
          1,
          1,
          1,
          1,
          1,
          1,
          1,
          1,
          1,
          1,
          1,
          1,
          1,
          1,
          1,
          1,
          1,
          1,
          1,
          1,
          1,
          1,
          1,
          1,
          1,
          1,
          1,
          1,
          1,
          1,
          1,
          1,
          1,
          1,
          1,
          1,
          1,
          1,
          1,
          1,
          1,
          1,
          1,
          1,
          1,
          1,
          1,
          1,
          1,
          1,
          1,
          1,
          1,
          1,
          1,
          1,
          1,
          1,
          1,
          1,
          1,
          1,
          1,
          1,
          1,
          1,
          1,
          1,
          1,
          1,
          1,
          1,
          1,
          1,
          1,
          1,
          1,
          1,
          1,
          1,
          1,
          1,
          1,
          1,
          1,
          1,
          1,
          1,
          1,
          1,
          1,
          1,
          1,
          1,
          1,
          1,
          1,
          1,
          1,
          1,
          1,
          1,
          1,
          1,
          1,
          1,
          1,
          1,
          1,
          1,
          1,
          1,
          1,
          1,
          1,
          1,
          1,
          1,
          1,
          1,
          1,
          1,
          1,
          1,
          1,
          1,
          1,
          1,
          1,
          1,
          1,
          1,
          1,
          1,
          1,
          1,
          1,
          1,
          1,
          1,
          1,
          1,
          1,
          1,
          1,
          1,
          1,
          1,
          1,
          1,
          1,
          1,
          1,
          1,
          1,
          1,
          1,
          1,
          1,
          1,
          1,
          1,
          1,
          1,
          1,
          1,
          1,
          1,
          1,
          1,
          1,
          1,
          1,
          1,
          1,
          1,
          1,
          1,
          1,
          1,
          1,
          1,
          1,
          1,
          1,
          1,
          1,
          1,
          1,
          1,
          1,
          1,
          1,
          1,
          1,
          1,
          1,
          1,
          1,
          1,
          1,
          1,
          1,
          1,
          1,
          1,
          1,
          1,
          1,
          1,
          1,
          1,
          1,
          1
         ],
         "textposition": "outside",
         "type": "bar",
         "x": [
          "Data Science Student",
          "Data Science Engineering Student",
          "Data science student",
          "Data Science Engineer",
          "Web Developer",
          "Web developer",
          "Data science engineering student",
          "Data Science student",
          "Mobile Developer",
          "Développeur web",
          "Freelance Web Developer",
          "Data Science Engineering student",
          "Data Science",
          "Data Science Student at ESPRIT",
          "Data Science Enthusiast",
          "Data science student ",
          "Software Engineer | Mobile developer",
          "--",
          "Data science and business intelligence engineering student",
          "Software engineer",
          "Mobile Software Engineer",
          "Mobile Software engineer",
          "Data science intern",
          "Mobile engineer",
          "Full Stack Web Developer",
          "Data Scientist",
          "Data science Engineer",
          "Software Developer",
          "Mobile Engineer",
          "Web developer ",
          "DATA SCIENCE STUDENT",
          "Master degree student  Data science and software development",
          "Data science  engineering student at ESSAI",
          "Data Science intern",
          "Data Science engineering student at the Higher School of Statistics and Information Analysis in Tunis",
          "Data Science Enthusiast | Certified Tensorflow Developer",
          "Software Data Engineer chez Elyadata",
          "Data Science Manager at Infor | Ph.D.",
          "Data Science Student.",
          "Data Science and Business Intelligence student",
          "Big Data and Data Science Student",
          "Data Science Student and Computer vision practitioner",
          "Data Scientist chez Data Science",
          "Data  Science engineering student at ESPRIT",
          "Business Intelligence and Data Science Engineering Student",
          "Data Science & Machine Learning Engineering Student",
          "Data science consultant at EY",
          "data science",
          "Data Science Engineer Student",
          "data science student",
          "Data Science Student - Paris Dauphine Tunis.",
          "Data Science Engineer Student ",
          "data science engineering student",
          "Data Science engineering student.",
          "Data Science Intern at ElyaData",
          "Web developer & software engineering student",
          "End of year Data Science Student",
          "Etudiante en M1 Data science for Business ",
          "Data science student | Lifelong learner",
          "Data science student  ",
          "Data Science and Acturial engineering Student",
          "Data Science and Telecommunications Engineer - ESPRIT",
          "data science student at ESPRIT",
          "Data Science Student ",
          "Data science engineer, certified in project management",
          "Data Science Consultant",
          "Data Science engineering Student",
          "Data Science Lead",
          "Data Science Student 👩🏻‍🎓",
          "BI Intern - BL microsoft department - Inetum",
          "Data Science and Actuarial Science Engineering Student",
          "Data Science Engineer at Rec-inov",
          "intern in Data science at Telnet",
          "Consultant Data Science à Quantylix",
          "Data Science  | Backend Developer",
          "Data science - Data analyst",
          "Consultant en Data Science chez Quantylix",
          "Data Science / Business Intelligence / Machine Learning",
          "Data Analyst | Data Scientist | Business Intelligence Consultant",
          "Data science | Data Engineering",
          "Data Science intern | Data Science (Ecole Supérieure Privée d'Ingénierie et de Technologies - ESPRIT)",
          "Data Science Engineering Student ",
          "Big Data Engineer (IBM) Certified | Data Science student looking for end-of-year internship",
          "Data Science and Actuarial Engineering Student 💻📚",
          "Data science engineering student | business analyst",
          "DATA SCIENCE ENGINEERING STUDENT",
          "Data science instructor",
          "Data Science Instructor at Go My Code",
          "Data science engineering student ",
          "Data Science and Engineering student",
          "Data Science Consultant at Biware Consulting",
          "Deep Learning | Machine Learning | Data Science | Kaggle Expert",
          "Data science engineer student",
          "Senior Data Scientist |  Data Science Manager at Cognira",
          "IT engineering student specialized In Data Science  | Data scientist | Machine learning",
          "Data science consultant at EY.",
          "Data science master student",
          "Big Data Engineer (IBM) Certified |Data Science student looking for end-of-year internship",
          "Élève ingénieur en Data science",
          "DATA SCIENCE STUDENT | Looking for an end of studies internship",
          "M2 - Data Science & Software Development",
          "Master's in Data Science Student",
          "Data science engineer at EURA NOVA",
          "Software Engineering Student | Data Science And Business analytics Intern  @the sparks foundation",
          "Data Science Student | Seeking End-of-studies Internship",
          "M1 Data Science and Software Development student",
          "Data science Engineering Student at ESSAI",
          "Data Science Researcher chez Fseg Nabeul",
          "4th year computer science student specialized in Data science",
          "Data analytics | Data science",
          "Statistical engineering student | Data Science intern @Quantylix | Volunteer @Tunisian_Red_Cressent",
          "data science student | Looking an end studies internship",
          "Data science  Student Looking for summer internship",
          "Data science master degree student",
          "Computer Science Engineering Student",
          "Data science master Student | Works at Vermeg",
          "Data Scientist | Founder & CEO of Data Science TN 🇹🇳",
          "4th Grade Data Science Student - ESPRIT",
          "Master Data Science for Business \n",
          "Data Science for business master’s student || Graduate in Business Intelligence",
          "Data Science researcher ",
          "Software engineering student || Specialized in Data science ",
          "Data Science Student • Looking for data science/data analytics internship",
          "Data Analyst | Business Analyst | Data Science | Machine Learning | Analytics Management | Dashboard Designer | Data Visualization | Open to Jobs and Internships",
          "Mechanical Engineer || Data Science Enthusiast",
          "Statistics and Data Science Engineer",
          "Data science Masters Student",
          "Data Science Intern chez Orange Tunisie",
          "Data Science Engineering Student | 📣 Looking for an end of study Internship 💻",
          "Data Science and Software Development Student",
          "Big Data and Data Science student at ISAMM",
          "Senior Data Scientist |Ph.D Applied Mathematics |Python, Machine Learning|Deep Learning| AWS Certified Machine Learning - Specialty® | GCP data engineer® | Scrum master®| Terraform®",
          "Expert en Data Science",
          "Data Science and Engineering Student at TEK-UP University",
          "Data Science Engineering Student at ESPRIT",
          "ICT engineering student at ENIT | Data science enthusiast",
          "Data science and software development student ",
          "Statistics and Data Science engineering student - Certified Tensorflow Developer",
          "Data science intern @Enova Robotics",
          "Junior data scientist",
          "Data science",
          "Data Science Intern",
          "Data Science student ",
          "Master's in data Science Student",
          "Étudiante en 3ème année Data Science",
          "Data science enthusiast",
          " Master Data Science",
          "Head of Data Science",
          "data science engineering student at ESPRIT | robotics trainer",
          "Data Engineering Intern",
          "Applied Mathematics and Modeling Engineer | Data Science | ML | AI",
          "Ingénieur en Business Intelligence | Consultant Data Science",
          "Data science and AI enthousiaste ",
          "Ingénieure informatique Spécialité Data Science ",
          "• Data Science & Artificial Intelligence Student",
          "Data science & Machine Learning Engineering Student",
          "data Science Intern",
          "Ingenieur informatique specialite Data Science",
          "Computer Science Student Engineering   #data_science_enthusiast",
          "Data Science and Business Intelligence Engineering Student",
          "Data Science and Business Intelligence engineering Student",
          "Data Science Engineering Student at Tek-UP",
          "Recent graduate of master’s degree in Data Science and Software Development",
          "Data Science | Machine Learning | AI",
          "Ingénieur Data Science ",
          "Data Science engineer holding master degree in AI and Smart Systems",
          "Project manager, Scrum master PSM®, Data science chez CLINISYS",
          "Data Science for Business and Economics | M1 Master-Student",
          "Artificial intelligence and Data Science engineer",
          "Data science student | intern at Capgemini engineering ",
          "Consultant Data Science",
          "Junior data science engineer looking for first job opportunity",
          "Data science engineering student | Business intelligence graduate ",
          "Data Science Student chez Ecole Supérieure Privée d'Ingénierie et de Technologies - ESPRIT",
          "Mobile Software Designer",
          "Full Stack Developer",
          "Software Engineer | Web developer at ADS",
          "Forex Trader - web Developer",
          "Full Stack Web Developer | Graphic Designer",
          "React Developer",
          "Web Developer | Angular | Laravel | Symfony | JavaScript | python | java",
          "web developer engineer at SAGEMCOM",
          "Développeur web full stack ",
          "Web Developer  chez Sofrecom",
          "Full Stack Web Developer Intern",
          "Développeur Web",
          "web developer React.js",
          "Full Stack Web Developer {React js/Node js}",
          "développeur web : front-end/ back-end",
          "Full Stack Web Developer(React js/Node js)",
          "Web Developer | Software Engineer",
          "Web Developer \"as beginner\"",
          "Web Developer at Google",
          "Développeur mobile",
          "software engineering and mobile developer",
          "Fullstack Mobile Developer",
          "Mobile Developer - iOS | DevOps enthusiast",
          "iOS Mobile Developer Engineer",
          "Mobile developer | Flutter enthusiast | Lead Flutter Tunisia",
          "Mobile Engineer 👩🏻‍💻",
          "Mobile Developer at EA-DEVELOPMENT",
          "Web Developer > MERN Stack ⚛️",
          "Mobile developer ",
          "Mobile Developer at Advantry X",
          "Challenger & Mobile engineer (iOS / Android)",
          "Embedded and mobile system student ",
          "Senior Mobile Developer  (Android/Flutter/Ios)",
          "Fullstack web",
          "Web Developer at Self employed",
          "Full-stack Web Developer",
          "Web Developer chez Infor",
          "UI/UX Designer Web Developer",
          "Full stack developer",
          "Développeur web chez CAPITOL SOFT",
          "Front End Web Developer | Junior Java Developer",
          "Full stack web developer / mobile developer",
          "Software Developer at Satoripop",
          "Junior Full-stack web developer",
          "Software Engineer | Full Stack Web Developer",
          "Developer Web",
          "Junior web developer | JavaScript, TypeScript , ReactJs, Redux, NodeJs, MERN Stack",
          "Data Scientist & Web Developer",
          "Web developer | PHP | Symfony",
          "Full Stack Web Developer / Odoo developer",
          "web & mobile developer 💻",
          "Web developer chez ZETABOX",
          "Web developer with a focus on crafting intuitive and engaging user experiences using the latest technologies",
          "Full stack developer / React Js / Node Js",
          "Web Developer & Web Designer",
          "Full-stack Web Developer (.Net core / Angular)",
          "Full stack Développeur",
          "web developer",
          "Fullstack Web Developer (React, Node.js)\n",
          "front end web developer",
          "Full stack Web developer",
          "Web Developer at Neopolis Development",
          "Junior Web developer | Let's Connect !",
          "Front-end web developer:angular||react.",
          "Full Stack Web Developer ",
          "Web Developer chez devclic",
          "Développeur Web Full-Stack",
          "Junior Mobile Developer | Experience with React and Angular",
          "⚡️JUNIOR WEB DEVELOPER</>(AngularJs 🅰️ || ReactJs ⚛️ || NodeJs) 🚀 ",
          "Web developer at Go My Code",
          "Mobile developer at SOFTParadigm",
          "Développeur Mobile at BROS TECHNOLOGIES",
          "Applied Mathematics and Modeling Engineering Student. Data Science Intern at MASS Analytics",
          "Mobile & FullrStack developer",
          "Développeur Mobile chez StreamWIDE",
          "Développeur web et mobile (Angular, React, Flutter)",
          "Software Mobile Developer at MSSolutions. ",
          "Huawei Mobile Core Network",
          "Mobile Software Engineer ",
          "Front-end web/mobile developer",
          "Développeur WinDev, WebDev , WinDev Mobile",
          "Ingénieur logiciel Mobile",
          "Ingénieur Support Réseau Mobile & Fixe",
          "Mobile Software Engineer (Android)",
          "Full Stack JS Developer",
          "Software Engineer",
          "Team Lead | Mobile developer",
          "Développeur Full Stack Mobile",
          "DÉVELOPPEUR FULL STACK WEB & MOBILE",
          "Mobile Developer Engineer",
          "Ingénieur développement mobile",
          "Flutter Mobile developer",
          "Applied Mathematics Engineer/Data Science Associate",
          "Data Science Master Engineer  at axefinance",
          "Data Science  Engineering student",
          "Data science  engineering student | private higher school of engineering and technology",
          "Data Science engineering student",
          "Data science Student",
          "Data Science Engineering | Data Scientist",
          "Data science / Statistics / Machine Learning ",
          "Ingénieur test et validation | Certifié ISTQB® ",
          "Mobile Software Developer ",
          "Team Leader Mobile Developer chez Medianet",
          "Web/Mobile apps developer",
          "Full Stack Mobile Developer | Certified TensorFlow Developer",
          "Mobile Core network Engineer at Ooredoo Tunisie",
          "Web & Mobile Developer (React | React Native)",
          "Cross-platform Mobile Application Engineer",
          "Software Developer WinDev/WinDev Mobile  , SFC™",
          "Ingénieur Full Stack",
          "Mobile Developer at Tayara Group",
          "Développeur Mobile",
          "Mobile R&D engineer",
          "Mobile Developer @Beautinda",
          "Mobile Developer at WIMOBI",
          "Full stack web and mobile Developer",
          "Développeur Web/Mobile Freelance",
          "Lead Mobile Developer at LETAFF & Computer Software Engineering student",
          "Consultant développeur WinDev / WinDev Mobile",
          "Senior Mobile developer",
          "Mobile developer at Satoripop",
          "Developpeur Windev et Windev Mobile chez WeDev",
          "Engineer in mobile computer systems",
          "Mobile software engineer ",
          "Senior Mobile Developer",
          "Software engineer / Mobile developer | Flutter | Node JS",
          "Mobile Developer (Android)",
          "Embedded and mobile Software developer",
          "Mobile Software Engineer chez BFI Groupe",
          "Ingénieur Radio Mobile",
          "Mobile engineer at Value",
          "Mobile developer | Web developer",
          "Full Stack Mobile Development Engineer (Flask, Flutter) Intern",
          "Mobile Developer At Mantu",
          "Mobile developer (iOS/Flutter)",
          "Full Stack Web/Mobile Developer at Tekniva",
          "Fullstack Developper - Web & Mobile & Api - MERN Stack - MEAN Stack - ReactJS - ReactNative - NodeJS - ExpressJS - NestJS -Mongodb",
          "Mobile Team Lead (React Native | Android | IOS)",
          "Mobile Application Developer",
          "Software Engineer | Web & Mobile Developer | .NET Core",
          "full stack developer",
          "Full stack cross-platform mobile enigneer",
          "Mobile developer  (iOS /React-native)",
          "Ingénieur en informatique || Spécialité Data science"
         ],
         "y": [
          24,
          18,
          11,
          10,
          8,
          7,
          7,
          6,
          4,
          4,
          3,
          3,
          3,
          3,
          3,
          3,
          2,
          2,
          2,
          2,
          2,
          2,
          2,
          2,
          2,
          2,
          2,
          2,
          2,
          2,
          2,
          1,
          1,
          1,
          1,
          1,
          1,
          1,
          1,
          1,
          1,
          1,
          1,
          1,
          1,
          1,
          1,
          1,
          1,
          1,
          1,
          1,
          1,
          1,
          1,
          1,
          1,
          1,
          1,
          1,
          1,
          1,
          1,
          1,
          1,
          1,
          1,
          1,
          1,
          1,
          1,
          1,
          1,
          1,
          1,
          1,
          1,
          1,
          1,
          1,
          1,
          1,
          1,
          1,
          1,
          1,
          1,
          1,
          1,
          1,
          1,
          1,
          1,
          1,
          1,
          1,
          1,
          1,
          1,
          1,
          1,
          1,
          1,
          1,
          1,
          1,
          1,
          1,
          1,
          1,
          1,
          1,
          1,
          1,
          1,
          1,
          1,
          1,
          1,
          1,
          1,
          1,
          1,
          1,
          1,
          1,
          1,
          1,
          1,
          1,
          1,
          1,
          1,
          1,
          1,
          1,
          1,
          1,
          1,
          1,
          1,
          1,
          1,
          1,
          1,
          1,
          1,
          1,
          1,
          1,
          1,
          1,
          1,
          1,
          1,
          1,
          1,
          1,
          1,
          1,
          1,
          1,
          1,
          1,
          1,
          1,
          1,
          1,
          1,
          1,
          1,
          1,
          1,
          1,
          1,
          1,
          1,
          1,
          1,
          1,
          1,
          1,
          1,
          1,
          1,
          1,
          1,
          1,
          1,
          1,
          1,
          1,
          1,
          1,
          1,
          1,
          1,
          1,
          1,
          1,
          1,
          1,
          1,
          1,
          1,
          1,
          1,
          1,
          1,
          1,
          1,
          1,
          1,
          1,
          1,
          1,
          1,
          1,
          1,
          1,
          1,
          1,
          1,
          1,
          1,
          1,
          1,
          1,
          1,
          1,
          1,
          1,
          1,
          1,
          1,
          1,
          1,
          1,
          1,
          1,
          1,
          1,
          1,
          1,
          1,
          1,
          1,
          1,
          1,
          1,
          1,
          1,
          1,
          1,
          1,
          1,
          1,
          1,
          1,
          1,
          1,
          1,
          1,
          1,
          1,
          1,
          1,
          1,
          1,
          1,
          1,
          1,
          1,
          1,
          1,
          1,
          1,
          1,
          1,
          1,
          1,
          1,
          1,
          1,
          1,
          1,
          1,
          1,
          1,
          1,
          1,
          1,
          1,
          1,
          1,
          1,
          1,
          1,
          1,
          1,
          1,
          1,
          1,
          1,
          1,
          1,
          1,
          1,
          1,
          1,
          1,
          1,
          1,
          1,
          1,
          1,
          1,
          1
         ]
        }
       ],
       "layout": {
        "template": {
         "data": {
          "bar": [
           {
            "error_x": {
             "color": "#2a3f5f"
            },
            "error_y": {
             "color": "#2a3f5f"
            },
            "marker": {
             "line": {
              "color": "#E5ECF6",
              "width": 0.5
             },
             "pattern": {
              "fillmode": "overlay",
              "size": 10,
              "solidity": 0.2
             }
            },
            "type": "bar"
           }
          ],
          "barpolar": [
           {
            "marker": {
             "line": {
              "color": "#E5ECF6",
              "width": 0.5
             },
             "pattern": {
              "fillmode": "overlay",
              "size": 10,
              "solidity": 0.2
             }
            },
            "type": "barpolar"
           }
          ],
          "carpet": [
           {
            "aaxis": {
             "endlinecolor": "#2a3f5f",
             "gridcolor": "white",
             "linecolor": "white",
             "minorgridcolor": "white",
             "startlinecolor": "#2a3f5f"
            },
            "baxis": {
             "endlinecolor": "#2a3f5f",
             "gridcolor": "white",
             "linecolor": "white",
             "minorgridcolor": "white",
             "startlinecolor": "#2a3f5f"
            },
            "type": "carpet"
           }
          ],
          "choropleth": [
           {
            "colorbar": {
             "outlinewidth": 0,
             "ticks": ""
            },
            "type": "choropleth"
           }
          ],
          "contour": [
           {
            "colorbar": {
             "outlinewidth": 0,
             "ticks": ""
            },
            "colorscale": [
             [
              0,
              "#0d0887"
             ],
             [
              0.1111111111111111,
              "#46039f"
             ],
             [
              0.2222222222222222,
              "#7201a8"
             ],
             [
              0.3333333333333333,
              "#9c179e"
             ],
             [
              0.4444444444444444,
              "#bd3786"
             ],
             [
              0.5555555555555556,
              "#d8576b"
             ],
             [
              0.6666666666666666,
              "#ed7953"
             ],
             [
              0.7777777777777778,
              "#fb9f3a"
             ],
             [
              0.8888888888888888,
              "#fdca26"
             ],
             [
              1,
              "#f0f921"
             ]
            ],
            "type": "contour"
           }
          ],
          "contourcarpet": [
           {
            "colorbar": {
             "outlinewidth": 0,
             "ticks": ""
            },
            "type": "contourcarpet"
           }
          ],
          "heatmap": [
           {
            "colorbar": {
             "outlinewidth": 0,
             "ticks": ""
            },
            "colorscale": [
             [
              0,
              "#0d0887"
             ],
             [
              0.1111111111111111,
              "#46039f"
             ],
             [
              0.2222222222222222,
              "#7201a8"
             ],
             [
              0.3333333333333333,
              "#9c179e"
             ],
             [
              0.4444444444444444,
              "#bd3786"
             ],
             [
              0.5555555555555556,
              "#d8576b"
             ],
             [
              0.6666666666666666,
              "#ed7953"
             ],
             [
              0.7777777777777778,
              "#fb9f3a"
             ],
             [
              0.8888888888888888,
              "#fdca26"
             ],
             [
              1,
              "#f0f921"
             ]
            ],
            "type": "heatmap"
           }
          ],
          "heatmapgl": [
           {
            "colorbar": {
             "outlinewidth": 0,
             "ticks": ""
            },
            "colorscale": [
             [
              0,
              "#0d0887"
             ],
             [
              0.1111111111111111,
              "#46039f"
             ],
             [
              0.2222222222222222,
              "#7201a8"
             ],
             [
              0.3333333333333333,
              "#9c179e"
             ],
             [
              0.4444444444444444,
              "#bd3786"
             ],
             [
              0.5555555555555556,
              "#d8576b"
             ],
             [
              0.6666666666666666,
              "#ed7953"
             ],
             [
              0.7777777777777778,
              "#fb9f3a"
             ],
             [
              0.8888888888888888,
              "#fdca26"
             ],
             [
              1,
              "#f0f921"
             ]
            ],
            "type": "heatmapgl"
           }
          ],
          "histogram": [
           {
            "marker": {
             "pattern": {
              "fillmode": "overlay",
              "size": 10,
              "solidity": 0.2
             }
            },
            "type": "histogram"
           }
          ],
          "histogram2d": [
           {
            "colorbar": {
             "outlinewidth": 0,
             "ticks": ""
            },
            "colorscale": [
             [
              0,
              "#0d0887"
             ],
             [
              0.1111111111111111,
              "#46039f"
             ],
             [
              0.2222222222222222,
              "#7201a8"
             ],
             [
              0.3333333333333333,
              "#9c179e"
             ],
             [
              0.4444444444444444,
              "#bd3786"
             ],
             [
              0.5555555555555556,
              "#d8576b"
             ],
             [
              0.6666666666666666,
              "#ed7953"
             ],
             [
              0.7777777777777778,
              "#fb9f3a"
             ],
             [
              0.8888888888888888,
              "#fdca26"
             ],
             [
              1,
              "#f0f921"
             ]
            ],
            "type": "histogram2d"
           }
          ],
          "histogram2dcontour": [
           {
            "colorbar": {
             "outlinewidth": 0,
             "ticks": ""
            },
            "colorscale": [
             [
              0,
              "#0d0887"
             ],
             [
              0.1111111111111111,
              "#46039f"
             ],
             [
              0.2222222222222222,
              "#7201a8"
             ],
             [
              0.3333333333333333,
              "#9c179e"
             ],
             [
              0.4444444444444444,
              "#bd3786"
             ],
             [
              0.5555555555555556,
              "#d8576b"
             ],
             [
              0.6666666666666666,
              "#ed7953"
             ],
             [
              0.7777777777777778,
              "#fb9f3a"
             ],
             [
              0.8888888888888888,
              "#fdca26"
             ],
             [
              1,
              "#f0f921"
             ]
            ],
            "type": "histogram2dcontour"
           }
          ],
          "mesh3d": [
           {
            "colorbar": {
             "outlinewidth": 0,
             "ticks": ""
            },
            "type": "mesh3d"
           }
          ],
          "parcoords": [
           {
            "line": {
             "colorbar": {
              "outlinewidth": 0,
              "ticks": ""
             }
            },
            "type": "parcoords"
           }
          ],
          "pie": [
           {
            "automargin": true,
            "type": "pie"
           }
          ],
          "scatter": [
           {
            "marker": {
             "colorbar": {
              "outlinewidth": 0,
              "ticks": ""
             }
            },
            "type": "scatter"
           }
          ],
          "scatter3d": [
           {
            "line": {
             "colorbar": {
              "outlinewidth": 0,
              "ticks": ""
             }
            },
            "marker": {
             "colorbar": {
              "outlinewidth": 0,
              "ticks": ""
             }
            },
            "type": "scatter3d"
           }
          ],
          "scattercarpet": [
           {
            "marker": {
             "colorbar": {
              "outlinewidth": 0,
              "ticks": ""
             }
            },
            "type": "scattercarpet"
           }
          ],
          "scattergeo": [
           {
            "marker": {
             "colorbar": {
              "outlinewidth": 0,
              "ticks": ""
             }
            },
            "type": "scattergeo"
           }
          ],
          "scattergl": [
           {
            "marker": {
             "colorbar": {
              "outlinewidth": 0,
              "ticks": ""
             }
            },
            "type": "scattergl"
           }
          ],
          "scattermapbox": [
           {
            "marker": {
             "colorbar": {
              "outlinewidth": 0,
              "ticks": ""
             }
            },
            "type": "scattermapbox"
           }
          ],
          "scatterpolar": [
           {
            "marker": {
             "colorbar": {
              "outlinewidth": 0,
              "ticks": ""
             }
            },
            "type": "scatterpolar"
           }
          ],
          "scatterpolargl": [
           {
            "marker": {
             "colorbar": {
              "outlinewidth": 0,
              "ticks": ""
             }
            },
            "type": "scatterpolargl"
           }
          ],
          "scatterternary": [
           {
            "marker": {
             "colorbar": {
              "outlinewidth": 0,
              "ticks": ""
             }
            },
            "type": "scatterternary"
           }
          ],
          "surface": [
           {
            "colorbar": {
             "outlinewidth": 0,
             "ticks": ""
            },
            "colorscale": [
             [
              0,
              "#0d0887"
             ],
             [
              0.1111111111111111,
              "#46039f"
             ],
             [
              0.2222222222222222,
              "#7201a8"
             ],
             [
              0.3333333333333333,
              "#9c179e"
             ],
             [
              0.4444444444444444,
              "#bd3786"
             ],
             [
              0.5555555555555556,
              "#d8576b"
             ],
             [
              0.6666666666666666,
              "#ed7953"
             ],
             [
              0.7777777777777778,
              "#fb9f3a"
             ],
             [
              0.8888888888888888,
              "#fdca26"
             ],
             [
              1,
              "#f0f921"
             ]
            ],
            "type": "surface"
           }
          ],
          "table": [
           {
            "cells": {
             "fill": {
              "color": "#EBF0F8"
             },
             "line": {
              "color": "white"
             }
            },
            "header": {
             "fill": {
              "color": "#C8D4E3"
             },
             "line": {
              "color": "white"
             }
            },
            "type": "table"
           }
          ]
         },
         "layout": {
          "annotationdefaults": {
           "arrowcolor": "#2a3f5f",
           "arrowhead": 0,
           "arrowwidth": 1
          },
          "autotypenumbers": "strict",
          "coloraxis": {
           "colorbar": {
            "outlinewidth": 0,
            "ticks": ""
           }
          },
          "colorscale": {
           "diverging": [
            [
             0,
             "#8e0152"
            ],
            [
             0.1,
             "#c51b7d"
            ],
            [
             0.2,
             "#de77ae"
            ],
            [
             0.3,
             "#f1b6da"
            ],
            [
             0.4,
             "#fde0ef"
            ],
            [
             0.5,
             "#f7f7f7"
            ],
            [
             0.6,
             "#e6f5d0"
            ],
            [
             0.7,
             "#b8e186"
            ],
            [
             0.8,
             "#7fbc41"
            ],
            [
             0.9,
             "#4d9221"
            ],
            [
             1,
             "#276419"
            ]
           ],
           "sequential": [
            [
             0,
             "#0d0887"
            ],
            [
             0.1111111111111111,
             "#46039f"
            ],
            [
             0.2222222222222222,
             "#7201a8"
            ],
            [
             0.3333333333333333,
             "#9c179e"
            ],
            [
             0.4444444444444444,
             "#bd3786"
            ],
            [
             0.5555555555555556,
             "#d8576b"
            ],
            [
             0.6666666666666666,
             "#ed7953"
            ],
            [
             0.7777777777777778,
             "#fb9f3a"
            ],
            [
             0.8888888888888888,
             "#fdca26"
            ],
            [
             1,
             "#f0f921"
            ]
           ],
           "sequentialminus": [
            [
             0,
             "#0d0887"
            ],
            [
             0.1111111111111111,
             "#46039f"
            ],
            [
             0.2222222222222222,
             "#7201a8"
            ],
            [
             0.3333333333333333,
             "#9c179e"
            ],
            [
             0.4444444444444444,
             "#bd3786"
            ],
            [
             0.5555555555555556,
             "#d8576b"
            ],
            [
             0.6666666666666666,
             "#ed7953"
            ],
            [
             0.7777777777777778,
             "#fb9f3a"
            ],
            [
             0.8888888888888888,
             "#fdca26"
            ],
            [
             1,
             "#f0f921"
            ]
           ]
          },
          "colorway": [
           "#636efa",
           "#EF553B",
           "#00cc96",
           "#ab63fa",
           "#FFA15A",
           "#19d3f3",
           "#FF6692",
           "#B6E880",
           "#FF97FF",
           "#FECB52"
          ],
          "font": {
           "color": "#2a3f5f"
          },
          "geo": {
           "bgcolor": "white",
           "lakecolor": "white",
           "landcolor": "#E5ECF6",
           "showlakes": true,
           "showland": true,
           "subunitcolor": "white"
          },
          "hoverlabel": {
           "align": "left"
          },
          "hovermode": "closest",
          "mapbox": {
           "style": "light"
          },
          "paper_bgcolor": "white",
          "plot_bgcolor": "#E5ECF6",
          "polar": {
           "angularaxis": {
            "gridcolor": "white",
            "linecolor": "white",
            "ticks": ""
           },
           "bgcolor": "#E5ECF6",
           "radialaxis": {
            "gridcolor": "white",
            "linecolor": "white",
            "ticks": ""
           }
          },
          "scene": {
           "xaxis": {
            "backgroundcolor": "#E5ECF6",
            "gridcolor": "white",
            "gridwidth": 2,
            "linecolor": "white",
            "showbackground": true,
            "ticks": "",
            "zerolinecolor": "white"
           },
           "yaxis": {
            "backgroundcolor": "#E5ECF6",
            "gridcolor": "white",
            "gridwidth": 2,
            "linecolor": "white",
            "showbackground": true,
            "ticks": "",
            "zerolinecolor": "white"
           },
           "zaxis": {
            "backgroundcolor": "#E5ECF6",
            "gridcolor": "white",
            "gridwidth": 2,
            "linecolor": "white",
            "showbackground": true,
            "ticks": "",
            "zerolinecolor": "white"
           }
          },
          "shapedefaults": {
           "line": {
            "color": "#2a3f5f"
           }
          },
          "ternary": {
           "aaxis": {
            "gridcolor": "white",
            "linecolor": "white",
            "ticks": ""
           },
           "baxis": {
            "gridcolor": "white",
            "linecolor": "white",
            "ticks": ""
           },
           "bgcolor": "#E5ECF6",
           "caxis": {
            "gridcolor": "white",
            "linecolor": "white",
            "ticks": ""
           }
          },
          "title": {
           "x": 0.05
          },
          "xaxis": {
           "automargin": true,
           "gridcolor": "white",
           "linecolor": "white",
           "ticks": "",
           "title": {
            "standoff": 15
           },
           "zerolinecolor": "white",
           "zerolinewidth": 2
          },
          "yaxis": {
           "automargin": true,
           "gridcolor": "white",
           "linecolor": "white",
           "ticks": "",
           "title": {
            "standoff": 15
           },
           "zerolinecolor": "white",
           "zerolinewidth": 2
          }
         }
        },
        "title": {
         "text": "Count plot of job_title"
        },
        "xaxis": {
         "title": {
          "text": "job_title status"
         }
        },
        "yaxis": {
         "title": {
          "text": "Number of count"
         }
        }
       }
      },
      "text/html": [
       "<div>                            <div id=\"524a474c-c8fb-4bd9-a217-448174c1c757\" class=\"plotly-graph-div\" style=\"height:525px; width:100%;\"></div>            <script type=\"text/javascript\">                require([\"plotly\"], function(Plotly) {                    window.PLOTLYENV=window.PLOTLYENV || {};                                    if (document.getElementById(\"524a474c-c8fb-4bd9-a217-448174c1c757\")) {                    Plotly.newPlot(                        \"524a474c-c8fb-4bd9-a217-448174c1c757\",                        [{\"marker\":{\"color\":[24,18,11,10,8,7,7,6,4,4,3,3,3,3,3,3,2,2,2,2,2,2,2,2,2,2,2,2,2,2,2,1,1,1,1,1,1,1,1,1,1,1,1,1,1,1,1,1,1,1,1,1,1,1,1,1,1,1,1,1,1,1,1,1,1,1,1,1,1,1,1,1,1,1,1,1,1,1,1,1,1,1,1,1,1,1,1,1,1,1,1,1,1,1,1,1,1,1,1,1,1,1,1,1,1,1,1,1,1,1,1,1,1,1,1,1,1,1,1,1,1,1,1,1,1,1,1,1,1,1,1,1,1,1,1,1,1,1,1,1,1,1,1,1,1,1,1,1,1,1,1,1,1,1,1,1,1,1,1,1,1,1,1,1,1,1,1,1,1,1,1,1,1,1,1,1,1,1,1,1,1,1,1,1,1,1,1,1,1,1,1,1,1,1,1,1,1,1,1,1,1,1,1,1,1,1,1,1,1,1,1,1,1,1,1,1,1,1,1,1,1,1,1,1,1,1,1,1,1,1,1,1,1,1,1,1,1,1,1,1,1,1,1,1,1,1,1,1,1,1,1,1,1,1,1,1,1,1,1,1,1,1,1,1,1,1,1,1,1,1,1,1,1,1,1,1,1,1,1,1,1,1,1,1,1,1,1,1,1,1,1,1,1,1,1,1,1,1,1,1,1,1,1,1,1,1,1,1,1,1,1,1,1,1,1,1,1,1]},\"text\":[24.0,18.0,11.0,10.0,8.0,7.0,7.0,6.0,4.0,4.0,3.0,3.0,3.0,3.0,3.0,3.0,2.0,2.0,2.0,2.0,2.0,2.0,2.0,2.0,2.0,2.0,2.0,2.0,2.0,2.0,2.0,1.0,1.0,1.0,1.0,1.0,1.0,1.0,1.0,1.0,1.0,1.0,1.0,1.0,1.0,1.0,1.0,1.0,1.0,1.0,1.0,1.0,1.0,1.0,1.0,1.0,1.0,1.0,1.0,1.0,1.0,1.0,1.0,1.0,1.0,1.0,1.0,1.0,1.0,1.0,1.0,1.0,1.0,1.0,1.0,1.0,1.0,1.0,1.0,1.0,1.0,1.0,1.0,1.0,1.0,1.0,1.0,1.0,1.0,1.0,1.0,1.0,1.0,1.0,1.0,1.0,1.0,1.0,1.0,1.0,1.0,1.0,1.0,1.0,1.0,1.0,1.0,1.0,1.0,1.0,1.0,1.0,1.0,1.0,1.0,1.0,1.0,1.0,1.0,1.0,1.0,1.0,1.0,1.0,1.0,1.0,1.0,1.0,1.0,1.0,1.0,1.0,1.0,1.0,1.0,1.0,1.0,1.0,1.0,1.0,1.0,1.0,1.0,1.0,1.0,1.0,1.0,1.0,1.0,1.0,1.0,1.0,1.0,1.0,1.0,1.0,1.0,1.0,1.0,1.0,1.0,1.0,1.0,1.0,1.0,1.0,1.0,1.0,1.0,1.0,1.0,1.0,1.0,1.0,1.0,1.0,1.0,1.0,1.0,1.0,1.0,1.0,1.0,1.0,1.0,1.0,1.0,1.0,1.0,1.0,1.0,1.0,1.0,1.0,1.0,1.0,1.0,1.0,1.0,1.0,1.0,1.0,1.0,1.0,1.0,1.0,1.0,1.0,1.0,1.0,1.0,1.0,1.0,1.0,1.0,1.0,1.0,1.0,1.0,1.0,1.0,1.0,1.0,1.0,1.0,1.0,1.0,1.0,1.0,1.0,1.0,1.0,1.0,1.0,1.0,1.0,1.0,1.0,1.0,1.0,1.0,1.0,1.0,1.0,1.0,1.0,1.0,1.0,1.0,1.0,1.0,1.0,1.0,1.0,1.0,1.0,1.0,1.0,1.0,1.0,1.0,1.0,1.0,1.0,1.0,1.0,1.0,1.0,1.0,1.0,1.0,1.0,1.0,1.0,1.0,1.0,1.0,1.0,1.0,1.0,1.0,1.0,1.0,1.0,1.0,1.0,1.0,1.0,1.0,1.0,1.0,1.0,1.0,1.0,1.0,1.0,1.0,1.0,1.0,1.0,1.0,1.0,1.0,1.0,1.0,1.0,1.0,1.0,1.0,1.0,1.0,1.0,1.0,1.0,1.0,1.0,1.0,1.0],\"textposition\":\"outside\",\"x\":[\"Data Science Student\",\"Data Science Engineering Student\",\"Data science student\",\"Data Science Engineer\",\"Web Developer\",\"Web developer\",\"Data science engineering student\",\"Data Science student\",\"Mobile Developer\",\"D\\u00e9veloppeur web\",\"Freelance Web Developer\",\"Data Science Engineering student\",\"Data Science\",\"Data Science Student at ESPRIT\",\"Data Science Enthusiast\",\"Data science student \",\"Software Engineer | Mobile developer\",\"--\",\"Data science and business intelligence engineering student\",\"Software engineer\",\"Mobile Software Engineer\",\"Mobile Software engineer\",\"Data science intern\",\"Mobile engineer\",\"Full Stack Web Developer\",\"Data Scientist\",\"Data science Engineer\",\"Software Developer\",\"Mobile Engineer\",\"Web developer \",\"DATA SCIENCE STUDENT\",\"Master degree student  Data science and software development\",\"Data science  engineering student at ESSAI\",\"Data Science intern\",\"Data Science engineering student at the Higher School of Statistics and Information Analysis in Tunis\",\"Data Science Enthusiast | Certified Tensorflow Developer\",\"Software Data Engineer chez Elyadata\",\"Data Science Manager at Infor | Ph.D.\",\"Data Science Student.\",\"Data Science and Business Intelligence student\",\"Big Data and Data Science Student\",\"Data Science Student and Computer vision practitioner\",\"Data Scientist chez Data Science\",\"Data  Science engineering student at ESPRIT\",\"Business Intelligence and Data Science Engineering Student\",\"Data Science & Machine Learning Engineering Student\",\"Data science consultant at EY\",\"data science\",\"Data Science Engineer Student\",\"data science student\",\"Data Science Student - Paris Dauphine Tunis.\",\"Data Science Engineer Student \",\"data science engineering student\",\"Data Science engineering student.\",\"Data Science Intern at ElyaData\",\"Web developer & software engineering student\",\"End of year Data Science Student\",\"Etudiante en M1 Data science for Business \",\"Data science student | Lifelong learner\",\"Data science student  \",\"Data Science and Acturial engineering Student\",\"Data Science and Telecommunications Engineer - ESPRIT\",\"data science student at ESPRIT\",\"Data Science Student \",\"Data science engineer, certified in project management\",\"Data Science Consultant\",\"Data Science engineering Student\",\"Data Science Lead\",\"Data Science Student \\ud83d\\udc69\\ud83c\\udffb\\u200d\\ud83c\\udf93\",\"BI Intern - BL microsoft department - Inetum\",\"Data Science and Actuarial Science Engineering Student\",\"Data Science Engineer at Rec-inov\",\"intern in Data science at Telnet\",\"Consultant Data Science \\u00e0 Quantylix\",\"Data Science  | Backend Developer\",\"Data science - Data analyst\",\"Consultant en Data Science chez Quantylix\",\"Data Science / Business Intelligence / Machine Learning\",\"Data Analyst | Data Scientist | Business Intelligence Consultant\",\"Data science | Data Engineering\",\"Data Science intern | Data Science (Ecole Sup\\u00e9rieure Priv\\u00e9e d'Ing\\u00e9nierie et de Technologies - ESPRIT)\",\"Data Science Engineering Student \",\"Big Data Engineer (IBM) Certified | Data Science student looking for end-of-year internship\",\"Data Science and Actuarial Engineering Student \\ud83d\\udcbb\\ud83d\\udcda\",\"Data science engineering student | business analyst\",\"DATA SCIENCE ENGINEERING STUDENT\",\"Data science instructor\",\"Data Science Instructor at Go My Code\",\"Data science engineering student \",\"Data Science and Engineering student\",\"Data Science Consultant at Biware Consulting\",\"Deep Learning | Machine Learning | Data Science | Kaggle Expert\",\"Data science engineer student\",\"Senior Data Scientist |  Data Science Manager at Cognira\",\"IT engineering student specialized In Data Science  | Data scientist | Machine learning\",\"Data science consultant at EY.\",\"Data science master student\",\"Big Data Engineer (IBM) Certified |Data Science student looking for end-of-year internship\",\"\\u00c9l\\u00e8ve ing\\u00e9nieur en Data science\",\"DATA SCIENCE STUDENT | Looking for an end of studies internship\",\"M2 - Data Science & Software Development\",\"Master's in Data Science Student\",\"Data science engineer at EURA NOVA\",\"Software Engineering Student | Data Science And Business analytics Intern  @the sparks foundation\",\"Data Science Student | Seeking End-of-studies Internship\",\"M1 Data Science and Software Development student\",\"Data science Engineering Student at ESSAI\",\"Data Science Researcher chez Fseg Nabeul\",\"4th year computer science student specialized in Data science\",\"Data analytics | Data science\",\"Statistical engineering student | Data Science intern @Quantylix | Volunteer @Tunisian_Red_Cressent\",\"data science student | Looking an end studies internship\",\"Data science  Student Looking for summer internship\",\"Data science master degree student\",\"Computer Science Engineering Student\",\"Data science master Student | Works at Vermeg\",\"Data Scientist | Founder & CEO of Data Science TN \\ud83c\\uddf9\\ud83c\\uddf3\",\"4th Grade Data Science Student - ESPRIT\",\"Master Data Science for Business \\n\",\"Data Science for business master\\u2019s student || Graduate in Business Intelligence\",\"Data Science researcher \",\"Software engineering student || Specialized in Data science \",\"Data Science Student \\u2022 Looking for data science/data analytics internship\",\"Data Analyst | Business Analyst | Data Science | Machine Learning | Analytics Management | Dashboard Designer | Data Visualization | Open to Jobs and Internships\",\"Mechanical Engineer || Data Science Enthusiast\",\"Statistics and Data Science Engineer\",\"Data science Masters Student\",\"Data Science Intern chez Orange Tunisie\",\"Data Science Engineering Student | \\ud83d\\udce3 Looking for an end of study Internship \\ud83d\\udcbb\",\"Data Science and Software Development Student\",\"Big Data and Data Science student at ISAMM\",\"Senior Data Scientist |Ph.D Applied Mathematics |Python, Machine Learning|Deep Learning| AWS Certified Machine Learning - Specialty\\u00ae | GCP data engineer\\u00ae | Scrum master\\u00ae| Terraform\\u00ae\",\"Expert en Data Science\",\"Data Science and Engineering Student at TEK-UP University\",\"Data Science Engineering Student at ESPRIT\",\"ICT engineering student at ENIT | Data science enthusiast\",\"Data science and software development student \",\"Statistics and Data Science engineering student - Certified Tensorflow Developer\",\"Data science intern @Enova Robotics\",\"Junior data scientist\",\"Data science\",\"Data Science Intern\",\"Data Science student \",\"Master's in data Science Student\",\"\\u00c9tudiante en 3\\u00e8me ann\\u00e9e Data Science\",\"Data science enthusiast\",\" Master Data Science\",\"Head of Data Science\",\"data science engineering student at ESPRIT | robotics trainer\",\"Data Engineering Intern\",\"Applied Mathematics and Modeling Engineer | Data Science | ML | AI\",\"Ing\\u00e9nieur en Business Intelligence | Consultant Data Science\",\"Data science and AI enthousiaste \",\"Ing\\u00e9nieure informatique Sp\\u00e9cialit\\u00e9 Data Science \",\"\\u2022 Data Science & Artificial Intelligence Student\",\"Data science & Machine Learning Engineering Student\",\"data Science Intern\",\"Ingenieur informatique specialite Data Science\",\"Computer Science Student Engineering   #data_science_enthusiast\",\"Data Science and Business Intelligence Engineering Student\",\"Data Science and Business Intelligence engineering Student\",\"Data Science Engineering Student at Tek-UP\",\"Recent graduate of master\\u2019s degree in Data Science and Software Development\",\"Data Science | Machine Learning | AI\",\"Ing\\u00e9nieur Data Science \",\"Data Science engineer holding master degree in AI and Smart Systems\",\"Project manager, Scrum master PSM\\u00ae, Data science chez CLINISYS\",\"Data Science for Business and Economics | M1 Master-Student\",\"Artificial intelligence and Data Science engineer\",\"Data science student | intern at Capgemini engineering \",\"Consultant Data Science\",\"Junior data science engineer looking for first job opportunity\",\"Data science engineering student | Business intelligence graduate \",\"Data Science Student chez Ecole Sup\\u00e9rieure Priv\\u00e9e d'Ing\\u00e9nierie et de Technologies - ESPRIT\",\"Mobile Software Designer\",\"Full Stack Developer\",\"Software Engineer | Web developer at ADS\",\"Forex Trader - web Developer\",\"Full Stack Web Developer | Graphic Designer\",\"React Developer\",\"Web Developer | Angular | Laravel | Symfony | JavaScript | python | java\",\"web developer engineer at SAGEMCOM\",\"D\\u00e9veloppeur web full stack \",\"Web Developer  chez Sofrecom\",\"Full Stack Web Developer Intern\",\"D\\u00e9veloppeur Web\",\"web developer React.js\",\"Full Stack Web Developer {React js/Node js}\",\"d\\u00e9veloppeur web : front-end/ back-end\",\"Full Stack Web Developer(React js/Node js)\",\"Web Developer | Software Engineer\",\"Web Developer \\\"as beginner\\\"\",\"Web Developer at Google\",\"D\\u00e9veloppeur mobile\",\"software engineering and mobile developer\",\"Fullstack Mobile Developer\",\"Mobile Developer - iOS | DevOps enthusiast\",\"iOS Mobile Developer Engineer\",\"Mobile developer | Flutter enthusiast | Lead Flutter Tunisia\",\"Mobile Engineer \\ud83d\\udc69\\ud83c\\udffb\\u200d\\ud83d\\udcbb\",\"Mobile Developer at EA-DEVELOPMENT\",\"Web Developer > MERN Stack \\u269b\\ufe0f\",\"Mobile developer \",\"Mobile Developer at Advantry X\",\"Challenger & Mobile engineer (iOS / Android)\",\"Embedded and mobile system student \",\"Senior Mobile Developer  (Android/Flutter/Ios)\",\"Fullstack web\",\"Web Developer at Self employed\",\"Full-stack Web Developer\",\"Web Developer chez Infor\",\"UI/UX Designer Web Developer\",\"Full stack developer\",\"D\\u00e9veloppeur web chez CAPITOL SOFT\",\"Front End Web Developer | Junior Java Developer\",\"Full stack web developer / mobile developer\",\"Software Developer at Satoripop\",\"Junior Full-stack web developer\",\"Software Engineer | Full Stack Web Developer\",\"Developer Web\",\"Junior web developer | JavaScript, TypeScript , ReactJs, Redux, NodeJs, MERN Stack\",\"Data Scientist & Web Developer\",\"Web developer | PHP | Symfony\",\"Full Stack Web Developer / Odoo developer\",\"web & mobile developer \\ud83d\\udcbb\",\"Web developer chez ZETABOX\",\"Web developer with a focus on crafting intuitive and engaging user experiences using the latest technologies\",\"Full stack developer / React Js / Node Js\",\"Web Developer & Web Designer\",\"Full-stack Web Developer (.Net core / Angular)\",\"Full stack D\\u00e9veloppeur\",\"web developer\",\"Fullstack Web Developer (React, Node.js)\\n\",\"front end web developer\",\"Full stack Web developer\",\"Web Developer at Neopolis Development\",\"Junior Web developer | Let's Connect !\",\"Front-end web developer:angular||react.\",\"Full Stack Web Developer \",\"Web Developer chez devclic\",\"D\\u00e9veloppeur Web Full-Stack\",\"Junior Mobile Developer | Experience with React and Angular\",\"\\u26a1\\ufe0fJUNIOR WEB DEVELOPER</>(AngularJs \\ud83c\\udd70\\ufe0f || ReactJs \\u269b\\ufe0f || NodeJs) \\ud83d\\ude80 \",\"Web developer at Go My Code\",\"Mobile developer at SOFTParadigm\",\"D\\u00e9veloppeur Mobile at BROS TECHNOLOGIES\",\"Applied Mathematics and Modeling Engineering Student. Data Science Intern at MASS Analytics\",\"Mobile & FullrStack developer\",\"D\\u00e9veloppeur Mobile chez StreamWIDE\",\"D\\u00e9veloppeur web et mobile (Angular, React, Flutter)\",\"Software Mobile Developer at MSSolutions. \",\"Huawei Mobile Core Network\",\"Mobile Software Engineer \",\"Front-end web/mobile developer\",\"D\\u00e9veloppeur WinDev, WebDev , WinDev Mobile\",\"Ing\\u00e9nieur logiciel Mobile\",\"Ing\\u00e9nieur Support R\\u00e9seau Mobile & Fixe\",\"Mobile Software Engineer (Android)\",\"Full Stack JS Developer\",\"Software Engineer\",\"Team Lead | Mobile developer\",\"D\\u00e9veloppeur Full Stack Mobile\",\"D\\u00c9VELOPPEUR FULL STACK WEB & MOBILE\",\"Mobile Developer Engineer\",\"Ing\\u00e9nieur d\\u00e9veloppement mobile\",\"Flutter Mobile developer\",\"Applied Mathematics Engineer/Data Science Associate\",\"Data Science Master Engineer  at axefinance\",\"Data Science  Engineering student\",\"Data science  engineering student | private higher school of engineering and technology\",\"Data Science engineering student\",\"Data science Student\",\"Data Science Engineering | Data Scientist\",\"Data science / Statistics / Machine Learning \",\"Ing\\u00e9nieur test et validation | Certifi\\u00e9 ISTQB\\u00ae \",\"Mobile Software Developer \",\"Team Leader Mobile Developer chez Medianet\",\"Web/Mobile apps developer\",\"Full Stack Mobile Developer | Certified TensorFlow Developer\",\"Mobile Core network Engineer at Ooredoo Tunisie\",\"Web & Mobile Developer (React | React Native)\",\"Cross-platform Mobile Application Engineer\",\"Software Developer WinDev/WinDev Mobile  , SFC\\u2122\",\"Ing\\u00e9nieur Full Stack\",\"Mobile Developer at Tayara Group\",\"D\\u00e9veloppeur Mobile\",\"Mobile R&D engineer\",\"Mobile Developer @Beautinda\",\"Mobile Developer at WIMOBI\",\"Full stack web and mobile Developer\",\"D\\u00e9veloppeur Web/Mobile Freelance\",\"Lead Mobile Developer at LETAFF & Computer Software Engineering student\",\"Consultant d\\u00e9veloppeur WinDev / WinDev Mobile\",\"Senior Mobile developer\",\"Mobile developer at Satoripop\",\"Developpeur Windev et Windev Mobile chez WeDev\",\"Engineer in mobile computer systems\",\"Mobile software engineer \",\"Senior Mobile Developer\",\"Software engineer / Mobile developer | Flutter | Node JS\",\"Mobile Developer (Android)\",\"Embedded and mobile Software developer\",\"Mobile Software Engineer chez BFI Groupe\",\"Ing\\u00e9nieur Radio Mobile\",\"Mobile engineer at Value\",\"Mobile developer | Web developer\",\"Full Stack Mobile Development Engineer (Flask, Flutter) Intern\",\"Mobile Developer At Mantu\",\"Mobile developer (iOS/Flutter)\",\"Full Stack Web/Mobile Developer at Tekniva\",\"Fullstack Developper - Web & Mobile & Api - MERN Stack - MEAN Stack - ReactJS - ReactNative - NodeJS - ExpressJS - NestJS -Mongodb\",\"Mobile Team Lead (React Native | Android | IOS)\",\"Mobile Application Developer\",\"Software Engineer | Web & Mobile Developer | .NET Core\",\"full stack developer\",\"Full stack cross-platform mobile enigneer\",\"Mobile developer  (iOS /React-native)\",\"Ing\\u00e9nieur en informatique || Sp\\u00e9cialit\\u00e9 Data science\"],\"y\":[24,18,11,10,8,7,7,6,4,4,3,3,3,3,3,3,2,2,2,2,2,2,2,2,2,2,2,2,2,2,2,1,1,1,1,1,1,1,1,1,1,1,1,1,1,1,1,1,1,1,1,1,1,1,1,1,1,1,1,1,1,1,1,1,1,1,1,1,1,1,1,1,1,1,1,1,1,1,1,1,1,1,1,1,1,1,1,1,1,1,1,1,1,1,1,1,1,1,1,1,1,1,1,1,1,1,1,1,1,1,1,1,1,1,1,1,1,1,1,1,1,1,1,1,1,1,1,1,1,1,1,1,1,1,1,1,1,1,1,1,1,1,1,1,1,1,1,1,1,1,1,1,1,1,1,1,1,1,1,1,1,1,1,1,1,1,1,1,1,1,1,1,1,1,1,1,1,1,1,1,1,1,1,1,1,1,1,1,1,1,1,1,1,1,1,1,1,1,1,1,1,1,1,1,1,1,1,1,1,1,1,1,1,1,1,1,1,1,1,1,1,1,1,1,1,1,1,1,1,1,1,1,1,1,1,1,1,1,1,1,1,1,1,1,1,1,1,1,1,1,1,1,1,1,1,1,1,1,1,1,1,1,1,1,1,1,1,1,1,1,1,1,1,1,1,1,1,1,1,1,1,1,1,1,1,1,1,1,1,1,1,1,1,1,1,1,1,1,1,1,1,1,1,1,1,1,1,1,1,1,1,1,1,1,1,1,1,1],\"type\":\"bar\"}],                        {\"template\":{\"data\":{\"bar\":[{\"error_x\":{\"color\":\"#2a3f5f\"},\"error_y\":{\"color\":\"#2a3f5f\"},\"marker\":{\"line\":{\"color\":\"#E5ECF6\",\"width\":0.5},\"pattern\":{\"fillmode\":\"overlay\",\"size\":10,\"solidity\":0.2}},\"type\":\"bar\"}],\"barpolar\":[{\"marker\":{\"line\":{\"color\":\"#E5ECF6\",\"width\":0.5},\"pattern\":{\"fillmode\":\"overlay\",\"size\":10,\"solidity\":0.2}},\"type\":\"barpolar\"}],\"carpet\":[{\"aaxis\":{\"endlinecolor\":\"#2a3f5f\",\"gridcolor\":\"white\",\"linecolor\":\"white\",\"minorgridcolor\":\"white\",\"startlinecolor\":\"#2a3f5f\"},\"baxis\":{\"endlinecolor\":\"#2a3f5f\",\"gridcolor\":\"white\",\"linecolor\":\"white\",\"minorgridcolor\":\"white\",\"startlinecolor\":\"#2a3f5f\"},\"type\":\"carpet\"}],\"choropleth\":[{\"colorbar\":{\"outlinewidth\":0,\"ticks\":\"\"},\"type\":\"choropleth\"}],\"contour\":[{\"colorbar\":{\"outlinewidth\":0,\"ticks\":\"\"},\"colorscale\":[[0.0,\"#0d0887\"],[0.1111111111111111,\"#46039f\"],[0.2222222222222222,\"#7201a8\"],[0.3333333333333333,\"#9c179e\"],[0.4444444444444444,\"#bd3786\"],[0.5555555555555556,\"#d8576b\"],[0.6666666666666666,\"#ed7953\"],[0.7777777777777778,\"#fb9f3a\"],[0.8888888888888888,\"#fdca26\"],[1.0,\"#f0f921\"]],\"type\":\"contour\"}],\"contourcarpet\":[{\"colorbar\":{\"outlinewidth\":0,\"ticks\":\"\"},\"type\":\"contourcarpet\"}],\"heatmap\":[{\"colorbar\":{\"outlinewidth\":0,\"ticks\":\"\"},\"colorscale\":[[0.0,\"#0d0887\"],[0.1111111111111111,\"#46039f\"],[0.2222222222222222,\"#7201a8\"],[0.3333333333333333,\"#9c179e\"],[0.4444444444444444,\"#bd3786\"],[0.5555555555555556,\"#d8576b\"],[0.6666666666666666,\"#ed7953\"],[0.7777777777777778,\"#fb9f3a\"],[0.8888888888888888,\"#fdca26\"],[1.0,\"#f0f921\"]],\"type\":\"heatmap\"}],\"heatmapgl\":[{\"colorbar\":{\"outlinewidth\":0,\"ticks\":\"\"},\"colorscale\":[[0.0,\"#0d0887\"],[0.1111111111111111,\"#46039f\"],[0.2222222222222222,\"#7201a8\"],[0.3333333333333333,\"#9c179e\"],[0.4444444444444444,\"#bd3786\"],[0.5555555555555556,\"#d8576b\"],[0.6666666666666666,\"#ed7953\"],[0.7777777777777778,\"#fb9f3a\"],[0.8888888888888888,\"#fdca26\"],[1.0,\"#f0f921\"]],\"type\":\"heatmapgl\"}],\"histogram\":[{\"marker\":{\"pattern\":{\"fillmode\":\"overlay\",\"size\":10,\"solidity\":0.2}},\"type\":\"histogram\"}],\"histogram2d\":[{\"colorbar\":{\"outlinewidth\":0,\"ticks\":\"\"},\"colorscale\":[[0.0,\"#0d0887\"],[0.1111111111111111,\"#46039f\"],[0.2222222222222222,\"#7201a8\"],[0.3333333333333333,\"#9c179e\"],[0.4444444444444444,\"#bd3786\"],[0.5555555555555556,\"#d8576b\"],[0.6666666666666666,\"#ed7953\"],[0.7777777777777778,\"#fb9f3a\"],[0.8888888888888888,\"#fdca26\"],[1.0,\"#f0f921\"]],\"type\":\"histogram2d\"}],\"histogram2dcontour\":[{\"colorbar\":{\"outlinewidth\":0,\"ticks\":\"\"},\"colorscale\":[[0.0,\"#0d0887\"],[0.1111111111111111,\"#46039f\"],[0.2222222222222222,\"#7201a8\"],[0.3333333333333333,\"#9c179e\"],[0.4444444444444444,\"#bd3786\"],[0.5555555555555556,\"#d8576b\"],[0.6666666666666666,\"#ed7953\"],[0.7777777777777778,\"#fb9f3a\"],[0.8888888888888888,\"#fdca26\"],[1.0,\"#f0f921\"]],\"type\":\"histogram2dcontour\"}],\"mesh3d\":[{\"colorbar\":{\"outlinewidth\":0,\"ticks\":\"\"},\"type\":\"mesh3d\"}],\"parcoords\":[{\"line\":{\"colorbar\":{\"outlinewidth\":0,\"ticks\":\"\"}},\"type\":\"parcoords\"}],\"pie\":[{\"automargin\":true,\"type\":\"pie\"}],\"scatter\":[{\"marker\":{\"colorbar\":{\"outlinewidth\":0,\"ticks\":\"\"}},\"type\":\"scatter\"}],\"scatter3d\":[{\"line\":{\"colorbar\":{\"outlinewidth\":0,\"ticks\":\"\"}},\"marker\":{\"colorbar\":{\"outlinewidth\":0,\"ticks\":\"\"}},\"type\":\"scatter3d\"}],\"scattercarpet\":[{\"marker\":{\"colorbar\":{\"outlinewidth\":0,\"ticks\":\"\"}},\"type\":\"scattercarpet\"}],\"scattergeo\":[{\"marker\":{\"colorbar\":{\"outlinewidth\":0,\"ticks\":\"\"}},\"type\":\"scattergeo\"}],\"scattergl\":[{\"marker\":{\"colorbar\":{\"outlinewidth\":0,\"ticks\":\"\"}},\"type\":\"scattergl\"}],\"scattermapbox\":[{\"marker\":{\"colorbar\":{\"outlinewidth\":0,\"ticks\":\"\"}},\"type\":\"scattermapbox\"}],\"scatterpolar\":[{\"marker\":{\"colorbar\":{\"outlinewidth\":0,\"ticks\":\"\"}},\"type\":\"scatterpolar\"}],\"scatterpolargl\":[{\"marker\":{\"colorbar\":{\"outlinewidth\":0,\"ticks\":\"\"}},\"type\":\"scatterpolargl\"}],\"scatterternary\":[{\"marker\":{\"colorbar\":{\"outlinewidth\":0,\"ticks\":\"\"}},\"type\":\"scatterternary\"}],\"surface\":[{\"colorbar\":{\"outlinewidth\":0,\"ticks\":\"\"},\"colorscale\":[[0.0,\"#0d0887\"],[0.1111111111111111,\"#46039f\"],[0.2222222222222222,\"#7201a8\"],[0.3333333333333333,\"#9c179e\"],[0.4444444444444444,\"#bd3786\"],[0.5555555555555556,\"#d8576b\"],[0.6666666666666666,\"#ed7953\"],[0.7777777777777778,\"#fb9f3a\"],[0.8888888888888888,\"#fdca26\"],[1.0,\"#f0f921\"]],\"type\":\"surface\"}],\"table\":[{\"cells\":{\"fill\":{\"color\":\"#EBF0F8\"},\"line\":{\"color\":\"white\"}},\"header\":{\"fill\":{\"color\":\"#C8D4E3\"},\"line\":{\"color\":\"white\"}},\"type\":\"table\"}]},\"layout\":{\"annotationdefaults\":{\"arrowcolor\":\"#2a3f5f\",\"arrowhead\":0,\"arrowwidth\":1},\"autotypenumbers\":\"strict\",\"coloraxis\":{\"colorbar\":{\"outlinewidth\":0,\"ticks\":\"\"}},\"colorscale\":{\"diverging\":[[0,\"#8e0152\"],[0.1,\"#c51b7d\"],[0.2,\"#de77ae\"],[0.3,\"#f1b6da\"],[0.4,\"#fde0ef\"],[0.5,\"#f7f7f7\"],[0.6,\"#e6f5d0\"],[0.7,\"#b8e186\"],[0.8,\"#7fbc41\"],[0.9,\"#4d9221\"],[1,\"#276419\"]],\"sequential\":[[0.0,\"#0d0887\"],[0.1111111111111111,\"#46039f\"],[0.2222222222222222,\"#7201a8\"],[0.3333333333333333,\"#9c179e\"],[0.4444444444444444,\"#bd3786\"],[0.5555555555555556,\"#d8576b\"],[0.6666666666666666,\"#ed7953\"],[0.7777777777777778,\"#fb9f3a\"],[0.8888888888888888,\"#fdca26\"],[1.0,\"#f0f921\"]],\"sequentialminus\":[[0.0,\"#0d0887\"],[0.1111111111111111,\"#46039f\"],[0.2222222222222222,\"#7201a8\"],[0.3333333333333333,\"#9c179e\"],[0.4444444444444444,\"#bd3786\"],[0.5555555555555556,\"#d8576b\"],[0.6666666666666666,\"#ed7953\"],[0.7777777777777778,\"#fb9f3a\"],[0.8888888888888888,\"#fdca26\"],[1.0,\"#f0f921\"]]},\"colorway\":[\"#636efa\",\"#EF553B\",\"#00cc96\",\"#ab63fa\",\"#FFA15A\",\"#19d3f3\",\"#FF6692\",\"#B6E880\",\"#FF97FF\",\"#FECB52\"],\"font\":{\"color\":\"#2a3f5f\"},\"geo\":{\"bgcolor\":\"white\",\"lakecolor\":\"white\",\"landcolor\":\"#E5ECF6\",\"showlakes\":true,\"showland\":true,\"subunitcolor\":\"white\"},\"hoverlabel\":{\"align\":\"left\"},\"hovermode\":\"closest\",\"mapbox\":{\"style\":\"light\"},\"paper_bgcolor\":\"white\",\"plot_bgcolor\":\"#E5ECF6\",\"polar\":{\"angularaxis\":{\"gridcolor\":\"white\",\"linecolor\":\"white\",\"ticks\":\"\"},\"bgcolor\":\"#E5ECF6\",\"radialaxis\":{\"gridcolor\":\"white\",\"linecolor\":\"white\",\"ticks\":\"\"}},\"scene\":{\"xaxis\":{\"backgroundcolor\":\"#E5ECF6\",\"gridcolor\":\"white\",\"gridwidth\":2,\"linecolor\":\"white\",\"showbackground\":true,\"ticks\":\"\",\"zerolinecolor\":\"white\"},\"yaxis\":{\"backgroundcolor\":\"#E5ECF6\",\"gridcolor\":\"white\",\"gridwidth\":2,\"linecolor\":\"white\",\"showbackground\":true,\"ticks\":\"\",\"zerolinecolor\":\"white\"},\"zaxis\":{\"backgroundcolor\":\"#E5ECF6\",\"gridcolor\":\"white\",\"gridwidth\":2,\"linecolor\":\"white\",\"showbackground\":true,\"ticks\":\"\",\"zerolinecolor\":\"white\"}},\"shapedefaults\":{\"line\":{\"color\":\"#2a3f5f\"}},\"ternary\":{\"aaxis\":{\"gridcolor\":\"white\",\"linecolor\":\"white\",\"ticks\":\"\"},\"baxis\":{\"gridcolor\":\"white\",\"linecolor\":\"white\",\"ticks\":\"\"},\"bgcolor\":\"#E5ECF6\",\"caxis\":{\"gridcolor\":\"white\",\"linecolor\":\"white\",\"ticks\":\"\"}},\"title\":{\"x\":0.05},\"xaxis\":{\"automargin\":true,\"gridcolor\":\"white\",\"linecolor\":\"white\",\"ticks\":\"\",\"title\":{\"standoff\":15},\"zerolinecolor\":\"white\",\"zerolinewidth\":2},\"yaxis\":{\"automargin\":true,\"gridcolor\":\"white\",\"linecolor\":\"white\",\"ticks\":\"\",\"title\":{\"standoff\":15},\"zerolinecolor\":\"white\",\"zerolinewidth\":2}}},\"title\":{\"text\":\"Count plot of job_title\"},\"xaxis\":{\"title\":{\"text\":\"job_title status\"}},\"yaxis\":{\"title\":{\"text\":\"Number of count\"}}},                        {\"responsive\": true}                    ).then(function(){\n",
       "                            \n",
       "var gd = document.getElementById('524a474c-c8fb-4bd9-a217-448174c1c757');\n",
       "var x = new MutationObserver(function (mutations, observer) {{\n",
       "        var display = window.getComputedStyle(gd).display;\n",
       "        if (!display || display === 'none') {{\n",
       "            console.log([gd, 'removed!']);\n",
       "            Plotly.purge(gd);\n",
       "            observer.disconnect();\n",
       "        }}\n",
       "}});\n",
       "\n",
       "// Listen for the removal of the full notebook cells\n",
       "var notebookContainer = gd.closest('#notebook-container');\n",
       "if (notebookContainer) {{\n",
       "    x.observe(notebookContainer, {childList: true});\n",
       "}}\n",
       "\n",
       "// Listen for the clearing of the current output cell\n",
       "var outputEl = gd.closest('.output');\n",
       "if (outputEl) {{\n",
       "    x.observe(outputEl, {childList: true});\n",
       "}}\n",
       "\n",
       "                        })                };                });            </script>        </div>"
      ]
     },
     "metadata": {},
     "output_type": "display_data"
    }
   ],
   "source": [
    "desc_count1 = df['job_title'].value_counts().reset_index().rename(columns={'index':'index','job_title':'count'})\n",
    "fig = go.Figure(go.Bar(\n",
    "    x = desc_count1['index'],y = desc_count1['count'],text=desc_count1['count'],marker={'color': desc_count1['count']}\n",
    "    ,textposition = \"outside\"))\n",
    "fig.update_layout(title_text='Count plot of job_title',xaxis_title=\"job_title status\",yaxis_title=\"Number of count\")\n",
    "fig.show()"
   ]
  },
  {
   "cell_type": "code",
   "execution_count": 1069,
   "id": "1d6abb0c",
   "metadata": {},
   "outputs": [
    {
     "name": "stderr",
     "output_type": "stream",
     "text": [
      "[nltk_data] Downloading package stopwords to\n",
      "[nltk_data]     C:\\Users\\guira\\AppData\\Roaming\\nltk_data...\n",
      "[nltk_data]   Package stopwords is already up-to-date!\n",
      "[nltk_data] Downloading package wordnet to\n",
      "[nltk_data]     C:\\Users\\guira\\AppData\\Roaming\\nltk_data...\n",
      "[nltk_data]   Package wordnet is already up-to-date!\n",
      "[nltk_data] Downloading package punkt to\n",
      "[nltk_data]     C:\\Users\\guira\\AppData\\Roaming\\nltk_data...\n",
      "[nltk_data]   Package punkt is already up-to-date!\n"
     ]
    }
   ],
   "source": [
    "from keras.preprocessing.text import Tokenizer\n",
    "#from keras.preprocessing.sequence import pad_sequences\n",
    "from nltk.corpus import stopwords\n",
    "from nltk import word_tokenize\n",
    "import nltk\n",
    "nltk.download('stopwords')\n",
    "nltk.download('wordnet')\n",
    "nltk.download('punkt')\n",
    "#from french_lefff_lemmatizer.french_lefff_lemmatizer import FrenchLefffLemmatizer\n",
    "stop_wordsFR  = set(stopwords.words('french'))\n",
    "stop_wordsAN  = set(stopwords.words('english'))\n",
    "import re\n",
    "import string\n",
    "import unidecode\n",
    "from wordcloud import WordCloud\n",
    "import requests\n",
    "import json\n",
    "from pandas import json_normalize\n",
    "from IPython.display import display"
   ]
  },
  {
   "cell_type": "code",
   "execution_count": 1070,
   "id": "977a790b",
   "metadata": {},
   "outputs": [],
   "source": [
    "new_stopwordsAN = stop_wordsAN\n",
    "new_stopwordsFR = ['cest','est','dun','en','et','du','des','de']\n",
    "stopwords_list = stop_wordsFR.union(new_stopwordsAN)\n",
    "stopwords_list = stopwords_list.union(new_stopwordsFR)"
   ]
  },
  {
   "cell_type": "code",
   "execution_count": 1071,
   "id": "0f57b9eb",
   "metadata": {},
   "outputs": [],
   "source": [
    "def clean_text(text):\n",
    "    text = text.lower()\n",
    "    text = re.sub('\\[.*?\\]', '', text)\n",
    "    text = re.sub('[%s]' % re.escape(string.punctuation), '', text)\n",
    "    text = re.sub('\\w*\\d\\w*', '', text)\n",
    "    text = re.sub('\\n', '', text)\n",
    "    text = text.replace('-', '')\n",
    "    text= unidecode.unidecode(text)\n",
    "    text = ' '.join(word for word in text.split() if word not in stopwords_list)\n",
    "    return text"
   ]
  },
  {
   "cell_type": "code",
   "execution_count": 1072,
   "id": "0e62cd17",
   "metadata": {},
   "outputs": [],
   "source": [
    "df['skills'] = df['skills'].apply(clean_text)"
   ]
  },
  {
   "cell_type": "code",
   "execution_count": 1073,
   "id": "bafb3d32",
   "metadata": {},
   "outputs": [
    {
     "data": {
      "image/png": "[encoded data removed]",
      "text/plain": [
       "<Figure size 576x576 with 1 Axes>"
      ]
     },
     "metadata": {
      "needs_background": "light"
     },
     "output_type": "display_data"
    }
   ],
   "source": [
    "text = \" \".join(complaint for complaint in df[\"skills\"])\n",
    "\n",
    "wordcloud = WordCloud(width = 1200, height = 500, \n",
    "              background_color ='white', \n",
    "               stopwords = stopwords_list,\n",
    "             min_font_size = 10).generate(text) \n",
    "                   \n",
    "plt.figure(figsize = (8, 8), facecolor = None) \n",
    "plt.imshow(wordcloud) \n",
    "plt.axis(\"off\") \n",
    "plt.tight_layout(pad = 0) \n",
    "  \n",
    "plt.show() "
   ]
  },
  {
   "cell_type": "code",
   "execution_count": 1074,
   "id": "a62915bd",
   "metadata": {},
   "outputs": [],
   "source": [
    "# Convertir toutes les lettres de la colonne \"job_title\" en minuscules\n",
    "df['job_title'] = df['job_title'].str.lower()\n",
    "\n",
    "# Supprimer les caractères de ponctuation dans la colonne job_title\n",
    "import string\n",
    "df['job_title'] = df['job_title'].str.translate(str.maketrans('', '', string.punctuation))"
   ]
  },
  {
   "cell_type": "code",
   "execution_count": 1075,
   "id": "46ff6344",
   "metadata": {},
   "outputs": [
    {
     "data": {
      "application/vnd.plotly.v1+json": {
       "config": {
        "plotlyServerURL": "https://plot.ly"
       },
       "data": [
        {
         "marker": {
          "color": [
           46,
           33,
           16,
           12,
           5,
           5,
           5,
           5,
           4,
           4,
           4,
           4,
           4,
           4,
           3,
           3,
           3,
           3,
           2,
           2,
           2,
           2,
           2,
           2,
           2,
           2,
           2,
           2,
           2,
           2,
           2,
           1,
           1,
           1,
           1,
           1,
           1,
           1,
           1,
           1,
           1,
           1,
           1,
           1,
           1,
           1,
           1,
           1,
           1,
           1,
           1,
           1,
           1,
           1,
           1,
           1,
           1,
           1,
           1,
           1,
           1,
           1,
           1,
           1,
           1,
           1,
           1,
           1,
           1,
           1,
           1,
           1,
           1,
           1,
           1,
           1,
           1,
           1,
           1,
           1,
           1,
           1,
           1,
           1,
           1,
           1,
           1,
           1,
           1,
           1,
           1,
           1,
           1,
           1,
           1,
           1,
           1,
           1,
           1,
           1,
           1,
           1,
           1,
           1,
           1,
           1,
           1,
           1,
           1,
           1,
           1,
           1,
           1,
           1,
           1,
           1,
           1,
           1,
           1,
           1,
           1,
           1,
           1,
           1,
           1,
           1,
           1,
           1,
           1,
           1,
           1,
           1,
           1,
           1,
           1,
           1,
           1,
           1,
           1,
           1,
           1,
           1,
           1,
           1,
           1,
           1,
           1,
           1,
           1,
           1,
           1,
           1,
           1,
           1,
           1,
           1,
           1,
           1,
           1,
           1,
           1,
           1,
           1,
           1,
           1,
           1,
           1,
           1,
           1,
           1,
           1,
           1,
           1,
           1,
           1,
           1,
           1,
           1,
           1,
           1,
           1,
           1,
           1,
           1,
           1,
           1,
           1,
           1,
           1,
           1,
           1,
           1,
           1,
           1,
           1,
           1,
           1,
           1,
           1,
           1,
           1,
           1,
           1,
           1,
           1,
           1,
           1,
           1,
           1,
           1,
           1,
           1,
           1,
           1,
           1,
           1,
           1,
           1,
           1,
           1,
           1,
           1,
           1,
           1,
           1,
           1,
           1,
           1,
           1,
           1,
           1,
           1,
           1,
           1,
           1,
           1,
           1,
           1,
           1,
           1,
           1,
           1,
           1,
           1,
           1,
           1,
           1,
           1,
           1,
           1,
           1,
           1,
           1,
           1,
           1,
           1,
           1,
           1,
           1,
           1,
           1,
           1,
           1,
           1,
           1,
           1,
           1,
           1,
           1,
           1,
           1,
           1,
           1,
           1,
           1,
           1
          ]
         },
         "text": [
          46,
          33,
          16,
          12,
          5,
          5,
          5,
          5,
          4,
          4,
          4,
          4,
          4,
          4,
          3,
          3,
          3,
          3,
          2,
          2,
          2,
          2,
          2,
          2,
          2,
          2,
          2,
          2,
          2,
          2,
          2,
          1,
          1,
          1,
          1,
          1,
          1,
          1,
          1,
          1,
          1,
          1,
          1,
          1,
          1,
          1,
          1,
          1,
          1,
          1,
          1,
          1,
          1,
          1,
          1,
          1,
          1,
          1,
          1,
          1,
          1,
          1,
          1,
          1,
          1,
          1,
          1,
          1,
          1,
          1,
          1,
          1,
          1,
          1,
          1,
          1,
          1,
          1,
          1,
          1,
          1,
          1,
          1,
          1,
          1,
          1,
          1,
          1,
          1,
          1,
          1,
          1,
          1,
          1,
          1,
          1,
          1,
          1,
          1,
          1,
          1,
          1,
          1,
          1,
          1,
          1,
          1,
          1,
          1,
          1,
          1,
          1,
          1,
          1,
          1,
          1,
          1,
          1,
          1,
          1,
          1,
          1,
          1,
          1,
          1,
          1,
          1,
          1,
          1,
          1,
          1,
          1,
          1,
          1,
          1,
          1,
          1,
          1,
          1,
          1,
          1,
          1,
          1,
          1,
          1,
          1,
          1,
          1,
          1,
          1,
          1,
          1,
          1,
          1,
          1,
          1,
          1,
          1,
          1,
          1,
          1,
          1,
          1,
          1,
          1,
          1,
          1,
          1,
          1,
          1,
          1,
          1,
          1,
          1,
          1,
          1,
          1,
          1,
          1,
          1,
          1,
          1,
          1,
          1,
          1,
          1,
          1,
          1,
          1,
          1,
          1,
          1,
          1,
          1,
          1,
          1,
          1,
          1,
          1,
          1,
          1,
          1,
          1,
          1,
          1,
          1,
          1,
          1,
          1,
          1,
          1,
          1,
          1,
          1,
          1,
          1,
          1,
          1,
          1,
          1,
          1,
          1,
          1,
          1,
          1,
          1,
          1,
          1,
          1,
          1,
          1,
          1,
          1,
          1,
          1,
          1,
          1,
          1,
          1,
          1,
          1,
          1,
          1,
          1,
          1,
          1,
          1,
          1,
          1,
          1,
          1,
          1,
          1,
          1,
          1,
          1,
          1,
          1,
          1,
          1,
          1,
          1,
          1,
          1,
          1,
          1,
          1,
          1,
          1,
          1,
          1,
          1,
          1,
          1,
          1,
          1
         ],
         "textposition": "outside",
         "type": "bar",
         "x": [
          "data science student",
          "data science engineering student",
          "web developer",
          "data science engineer",
          "data science intern",
          "data science",
          "développeur web",
          "data science student ",
          "data science and business intelligence engineering student",
          "data science enthusiast",
          "mobile engineer",
          "mobile developer",
          "data science student at esprit",
          "mobile software engineer",
          "software engineer",
          "full stack developer",
          "freelance web developer",
          "full stack web developer",
          "masters in data science student",
          "développeur mobile",
          "software engineer  mobile developer",
          "",
          "data science engineer student",
          "data science consultant at ey",
          "software developer",
          "web developer ",
          "data science  machine learning engineering student",
          "data scientist",
          "senior mobile developer",
          "mobile software engineer ",
          "data science engineering student ",
          "data science  engineering student at essai",
          "data science enthusiast  certified tensorflow developer",
          "4th grade data science student  esprit",
          "software data engineer chez elyadata",
          "data science manager at infor  phd",
          "big data and data science student",
          "data science intern at elyadata",
          "data science researcher ",
          "master degree student  data science and software development",
          "data scientist chez data science",
          "business intelligence and data science engineering student",
          "data science   backend developer",
          "master data science for business \n",
          "data science engineer student ",
          "data  science engineering student at esprit",
          "data science student and computer vision practitioner",
          "data science student  paris dauphine tunis",
          "data science and business intelligence student",
          "end of year data science student",
          "data science intern  data science ecole supérieure privée dingénierie et de technologies  esprit",
          "consultant en data science chez quantylix",
          "data science  business intelligence  machine learning",
          "applied mathematics and modeling engineering student data science intern at mass analytics",
          "data science master student  works at vermeg",
          "data science student chez ecole supérieure privée dingénierie et de technologies  esprit",
          "junior data science engineer looking for first job opportunity",
          "data scientist  founder  ceo of data science tn 🇹🇳",
          "data science engineer at recinov",
          "data science and actuarial science engineering student",
          "bi intern  bl microsoft department  inetum",
          "data science student 👩🏻‍🎓",
          "data science lead",
          "data science engineer certified in project management",
          "etudiante en m1 data science for business ",
          "data science and telecommunications engineer  esprit",
          "data science and acturial engineering student",
          "data science student  ",
          "data science student  lifelong learner",
          "intern in data science at telnet",
          "data science consultant",
          "consultant data science à quantylix",
          "data science and actuarial engineering student 💻📚",
          "data science and engineering student",
          "data science instructor at go my code",
          "data science instructor",
          "data science engineering student  business analyst",
          "big data engineer ibm certified  data science student looking for endofyear internship",
          "data science consultant at biware consulting",
          "data science  data analyst",
          "data science  data engineering",
          "data analyst  data scientist  business intelligence consultant",
          "data science engineering student at the higher school of statistics and information analysis in tunis",
          "data engineering intern",
          "senior data scientist   data science manager at cognira",
          "data science master student",
          "statistical engineering student  data science intern quantylix  volunteer tunisianredcressent",
          "data analytics  data science",
          "4th year computer science student specialized in data science",
          "data science researcher chez fseg nabeul",
          "data science engineering student at essai",
          "m1 data science and software development student",
          "data science student  seeking endofstudies internship",
          "software engineering student  data science and business analytics intern  the sparks foundation",
          "data science engineer at eura nova",
          "m2  data science  software development",
          "data science student  looking for an end of studies internship",
          "élève ingénieur en data science",
          "big data engineer ibm certified data science student looking for endofyear internship",
          "it engineering student specialized in data science   data scientist  machine learning",
          "senior data scientist phd applied mathematics python machine learningdeep learning aws certified machine learning  specialty®  gcp data engineer®  scrum master® terraform®",
          "data science student  looking an end studies internship",
          "data science  student looking for summer internship",
          "data science master degree student",
          "data analyst  business analyst  data science  machine learning  analytics management  dashboard designer  data visualization  open to jobs and internships",
          "big data and data science student at isamm",
          "data science and software development student",
          "data science engineering student  📣 looking for an end of study internship 💻",
          "data science intern chez orange tunisie",
          "data science masters student",
          "statistics and data science engineer",
          "mechanical engineer  data science enthusiast",
          "data science student • looking for data sciencedata analytics internship",
          "computer science engineering student",
          "data science for business master’s student  graduate in business intelligence",
          "expert en data science",
          "applied mathematics and modeling engineer  data science  ml  ai",
          "data science and ai enthousiaste ",
          "software engineering student  specialized in data science ",
          "data science engineering student at esprit  robotics trainer",
          "deep learning  machine learning  data science  kaggle expert",
          "head of data science",
          "data science master engineer  at axefinance",
          "étudiante en 3ème année data science",
          "data science engineering student at esprit",
          "junior data scientist",
          "data science intern enova robotics",
          "statistics and data science engineering student  certified tensorflow developer",
          "data science and software development student ",
          "ict engineering student at enit  data science enthusiast",
          "ingénieur en business intelligence  consultant data science",
          "data science  machine learning  ai",
          "data science and engineering student at tekup university",
          "consultant data science",
          "data science student  intern at capgemini engineering ",
          "artificial intelligence and data science engineer",
          "data science for business and economics  m1 masterstudent",
          "project manager scrum master psm® data science chez clinisys",
          "data science engineer holding master degree in ai and smart systems",
          "ingénieur data science ",
          "recent graduate of master’s degree in data science and software development",
          "• data science  artificial intelligence student",
          "data science engineering student at tekup",
          "computer science student engineering   datascienceenthusiast",
          "ingenieur informatique specialite data science",
          "ingénieure informatique spécialité data science ",
          " master data science",
          "web developer  software engineering student",
          "data science  engineering student",
          "data science  engineering student  private higher school of engineering and technology",
          "web developer at self employed",
          "full stack web developerreact jsnode js",
          "développeur web  frontend backend",
          "full stack web developer react jsnode js",
          "web developer reactjs",
          "full stack web developer intern",
          "web developer  chez sofrecom",
          "développeur web full stack ",
          "web developer engineer at sagemcom",
          "web developer  angular  laravel  symfony  javascript  python  java",
          "react developer",
          "full stack web developer  graphic designer",
          "forex trader  web developer",
          "software engineer  web developer at ads",
          "web developer  software engineer",
          "web developer as beginner",
          "web developer at google",
          "web developer  mern stack ⚛️",
          "fullstack web",
          "senior mobile developer  androidflutterios",
          "embedded and mobile system student ",
          "challenger  mobile engineer ios  android",
          "mobile developer at advantry x",
          "mobile developer ",
          "mobile developer at eadevelopment",
          "mobile engineer 👩🏻‍💻",
          "mobile developer  flutter enthusiast  lead flutter tunisia",
          "ios mobile developer engineer",
          "mobile developer  ios  devops enthusiast",
          "fullstack web developer",
          "web developer chez infor",
          "web developer  web designer",
          "web developer with a focus on crafting intuitive and engaging user experiences using the latest technologies",
          "web developer chez zetabox",
          "web  mobile developer 💻",
          "full stack web developer  odoo developer",
          "web developer  php  symfony",
          "data scientist  web developer",
          "junior web developer  javascript typescript  reactjs redux nodejs mern stack",
          "software engineer  full stack web developer",
          "uiux designer web developer",
          "junior fullstack web developer",
          "software developer at satoripop",
          "full stack web developer  mobile developer",
          "front end web developer  junior java developer",
          "développeur web chez capitol soft",
          "developer web",
          "full stack développeur",
          "full stack developer  react js  node js",
          "frontend web developerangularreact",
          "web developer at go my code",
          "⚡️junior web developerangularjs 🅰️  reactjs ⚛️  nodejs 🚀 ",
          "junior mobile developer  experience with react and angular",
          "développeur web fullstack",
          "web developer chez devclic",
          "full stack web developer ",
          "junior web developer  lets connect ",
          "fullstack web developer net core  angular",
          "web developer at neopolis development",
          "front end web developer",
          "fullstack web developer react nodejs\n",
          "fullstack mobile developer",
          "software engineering and mobile developer",
          "mobile developer at softparadigm",
          "développeur mobile chez streamwide",
          "crossplatform mobile application engineer",
          "développeur full stack web  mobile",
          "développeur full stack mobile",
          "team lead  mobile developer",
          "full stack js developer",
          "mobile software engineer android",
          "ingénieur support réseau mobile  fixe",
          "ingénieur logiciel mobile",
          "développeur windev webdev  windev mobile",
          "frontend webmobile developer",
          "huawei mobile core network",
          "software mobile developer at mssolutions ",
          "développeur web et mobile angular react flutter",
          "mobile developer engineer",
          "ingénieur full stack",
          "ingénieur développement mobile",
          "flutter mobile developer",
          "ingénieur test et validation  certifié istqb® ",
          "web  mobile developer react  react native",
          "mobile core network engineer at ooredoo tunisie",
          "full stack mobile developer  certified tensorflow developer",
          "webmobile apps developer",
          "team leader mobile developer chez medianet",
          "mobile software developer ",
          "data science  statistics  machine learning ",
          "applied mathematics engineerdata science associate",
          "data science engineering  data scientist",
          "data science engineering student  business intelligence graduate ",
          "software developer windevwindev mobile   sfc™",
          "embedded and mobile software developer",
          "mobile software designer",
          "consultant développeur windev  windev mobile",
          "développeur mobile at bros technologies",
          "mobile  fullrstack developer",
          "engineer in mobile computer systems",
          "developpeur windev et windev mobile chez wedev",
          "mobile developer at satoripop",
          "lead mobile developer at letaff  computer software engineering student",
          "mobile developer at tayara group",
          "développeur webmobile freelance",
          "full stack web and mobile developer",
          "mobile developer at wimobi",
          "mobile developer beautinda",
          "mobile rd engineer",
          "software engineer  mobile developer  flutter  node js",
          "mobile developer android",
          "ingénieur radio mobile",
          "fullstack developper  web  mobile  api  mern stack  mean stack  reactjs  reactnative  nodejs  expressjs  nestjs mongodb",
          "mobile developer  ios reactnative",
          "full stack crossplatform mobile enigneer",
          "software engineer  web  mobile developer  net core",
          "mobile application developer",
          "mobile team lead react native  android  ios",
          "full stack webmobile developer at tekniva",
          "mobile software engineer chez bfi groupe",
          "mobile developer iosflutter",
          "mobile developer at mantu",
          "full stack mobile development engineer flask flutter intern",
          "mobile developer  web developer",
          "mobile engineer at value",
          "ingénieur en informatique  spécialité data science"
         ],
         "y": [
          46,
          33,
          16,
          12,
          5,
          5,
          5,
          5,
          4,
          4,
          4,
          4,
          4,
          4,
          3,
          3,
          3,
          3,
          2,
          2,
          2,
          2,
          2,
          2,
          2,
          2,
          2,
          2,
          2,
          2,
          2,
          1,
          1,
          1,
          1,
          1,
          1,
          1,
          1,
          1,
          1,
          1,
          1,
          1,
          1,
          1,
          1,
          1,
          1,
          1,
          1,
          1,
          1,
          1,
          1,
          1,
          1,
          1,
          1,
          1,
          1,
          1,
          1,
          1,
          1,
          1,
          1,
          1,
          1,
          1,
          1,
          1,
          1,
          1,
          1,
          1,
          1,
          1,
          1,
          1,
          1,
          1,
          1,
          1,
          1,
          1,
          1,
          1,
          1,
          1,
          1,
          1,
          1,
          1,
          1,
          1,
          1,
          1,
          1,
          1,
          1,
          1,
          1,
          1,
          1,
          1,
          1,
          1,
          1,
          1,
          1,
          1,
          1,
          1,
          1,
          1,
          1,
          1,
          1,
          1,
          1,
          1,
          1,
          1,
          1,
          1,
          1,
          1,
          1,
          1,
          1,
          1,
          1,
          1,
          1,
          1,
          1,
          1,
          1,
          1,
          1,
          1,
          1,
          1,
          1,
          1,
          1,
          1,
          1,
          1,
          1,
          1,
          1,
          1,
          1,
          1,
          1,
          1,
          1,
          1,
          1,
          1,
          1,
          1,
          1,
          1,
          1,
          1,
          1,
          1,
          1,
          1,
          1,
          1,
          1,
          1,
          1,
          1,
          1,
          1,
          1,
          1,
          1,
          1,
          1,
          1,
          1,
          1,
          1,
          1,
          1,
          1,
          1,
          1,
          1,
          1,
          1,
          1,
          1,
          1,
          1,
          1,
          1,
          1,
          1,
          1,
          1,
          1,
          1,
          1,
          1,
          1,
          1,
          1,
          1,
          1,
          1,
          1,
          1,
          1,
          1,
          1,
          1,
          1,
          1,
          1,
          1,
          1,
          1,
          1,
          1,
          1,
          1,
          1,
          1,
          1,
          1,
          1,
          1,
          1,
          1,
          1,
          1,
          1,
          1,
          1,
          1,
          1,
          1,
          1,
          1,
          1,
          1,
          1,
          1,
          1,
          1,
          1,
          1,
          1,
          1,
          1,
          1,
          1,
          1,
          1,
          1,
          1,
          1,
          1,
          1,
          1,
          1,
          1,
          1,
          1
         ]
        }
       ],
       "layout": {
        "template": {
         "data": {
          "bar": [
           {
            "error_x": {
             "color": "#2a3f5f"
            },
            "error_y": {
             "color": "#2a3f5f"
            },
            "marker": {
             "line": {
              "color": "#E5ECF6",
              "width": 0.5
             },
             "pattern": {
              "fillmode": "overlay",
              "size": 10,
              "solidity": 0.2
             }
            },
            "type": "bar"
           }
          ],
          "barpolar": [
           {
            "marker": {
             "line": {
              "color": "#E5ECF6",
              "width": 0.5
             },
             "pattern": {
              "fillmode": "overlay",
              "size": 10,
              "solidity": 0.2
             }
            },
            "type": "barpolar"
           }
          ],
          "carpet": [
           {
            "aaxis": {
             "endlinecolor": "#2a3f5f",
             "gridcolor": "white",
             "linecolor": "white",
             "minorgridcolor": "white",
             "startlinecolor": "#2a3f5f"
            },
            "baxis": {
             "endlinecolor": "#2a3f5f",
             "gridcolor": "white",
             "linecolor": "white",
             "minorgridcolor": "white",
             "startlinecolor": "#2a3f5f"
            },
            "type": "carpet"
           }
          ],
          "choropleth": [
           {
            "colorbar": {
             "outlinewidth": 0,
             "ticks": ""
            },
            "type": "choropleth"
           }
          ],
          "contour": [
           {
            "colorbar": {
             "outlinewidth": 0,
             "ticks": ""
            },
            "colorscale": [
             [
              0,
              "#0d0887"
             ],
             [
              0.1111111111111111,
              "#46039f"
             ],
             [
              0.2222222222222222,
              "#7201a8"
             ],
             [
              0.3333333333333333,
              "#9c179e"
             ],
             [
              0.4444444444444444,
              "#bd3786"
             ],
             [
              0.5555555555555556,
              "#d8576b"
             ],
             [
              0.6666666666666666,
              "#ed7953"
             ],
             [
              0.7777777777777778,
              "#fb9f3a"
             ],
             [
              0.8888888888888888,
              "#fdca26"
             ],
             [
              1,
              "#f0f921"
             ]
            ],
            "type": "contour"
           }
          ],
          "contourcarpet": [
           {
            "colorbar": {
             "outlinewidth": 0,
             "ticks": ""
            },
            "type": "contourcarpet"
           }
          ],
          "heatmap": [
           {
            "colorbar": {
             "outlinewidth": 0,
             "ticks": ""
            },
            "colorscale": [
             [
              0,
              "#0d0887"
             ],
             [
              0.1111111111111111,
              "#46039f"
             ],
             [
              0.2222222222222222,
              "#7201a8"
             ],
             [
              0.3333333333333333,
              "#9c179e"
             ],
             [
              0.4444444444444444,
              "#bd3786"
             ],
             [
              0.5555555555555556,
              "#d8576b"
             ],
             [
              0.6666666666666666,
              "#ed7953"
             ],
             [
              0.7777777777777778,
              "#fb9f3a"
             ],
             [
              0.8888888888888888,
              "#fdca26"
             ],
             [
              1,
              "#f0f921"
             ]
            ],
            "type": "heatmap"
           }
          ],
          "heatmapgl": [
           {
            "colorbar": {
             "outlinewidth": 0,
             "ticks": ""
            },
            "colorscale": [
             [
              0,
              "#0d0887"
             ],
             [
              0.1111111111111111,
              "#46039f"
             ],
             [
              0.2222222222222222,
              "#7201a8"
             ],
             [
              0.3333333333333333,
              "#9c179e"
             ],
             [
              0.4444444444444444,
              "#bd3786"
             ],
             [
              0.5555555555555556,
              "#d8576b"
             ],
             [
              0.6666666666666666,
              "#ed7953"
             ],
             [
              0.7777777777777778,
              "#fb9f3a"
             ],
             [
              0.8888888888888888,
              "#fdca26"
             ],
             [
              1,
              "#f0f921"
             ]
            ],
            "type": "heatmapgl"
           }
          ],
          "histogram": [
           {
            "marker": {
             "pattern": {
              "fillmode": "overlay",
              "size": 10,
              "solidity": 0.2
             }
            },
            "type": "histogram"
           }
          ],
          "histogram2d": [
           {
            "colorbar": {
             "outlinewidth": 0,
             "ticks": ""
            },
            "colorscale": [
             [
              0,
              "#0d0887"
             ],
             [
              0.1111111111111111,
              "#46039f"
             ],
             [
              0.2222222222222222,
              "#7201a8"
             ],
             [
              0.3333333333333333,
              "#9c179e"
             ],
             [
              0.4444444444444444,
              "#bd3786"
             ],
             [
              0.5555555555555556,
              "#d8576b"
             ],
             [
              0.6666666666666666,
              "#ed7953"
             ],
             [
              0.7777777777777778,
              "#fb9f3a"
             ],
             [
              0.8888888888888888,
              "#fdca26"
             ],
             [
              1,
              "#f0f921"
             ]
            ],
            "type": "histogram2d"
           }
          ],
          "histogram2dcontour": [
           {
            "colorbar": {
             "outlinewidth": 0,
             "ticks": ""
            },
            "colorscale": [
             [
              0,
              "#0d0887"
             ],
             [
              0.1111111111111111,
              "#46039f"
             ],
             [
              0.2222222222222222,
              "#7201a8"
             ],
             [
              0.3333333333333333,
              "#9c179e"
             ],
             [
              0.4444444444444444,
              "#bd3786"
             ],
             [
              0.5555555555555556,
              "#d8576b"
             ],
             [
              0.6666666666666666,
              "#ed7953"
             ],
             [
              0.7777777777777778,
              "#fb9f3a"
             ],
             [
              0.8888888888888888,
              "#fdca26"
             ],
             [
              1,
              "#f0f921"
             ]
            ],
            "type": "histogram2dcontour"
           }
          ],
          "mesh3d": [
           {
            "colorbar": {
             "outlinewidth": 0,
             "ticks": ""
            },
            "type": "mesh3d"
           }
          ],
          "parcoords": [
           {
            "line": {
             "colorbar": {
              "outlinewidth": 0,
              "ticks": ""
             }
            },
            "type": "parcoords"
           }
          ],
          "pie": [
           {
            "automargin": true,
            "type": "pie"
           }
          ],
          "scatter": [
           {
            "marker": {
             "colorbar": {
              "outlinewidth": 0,
              "ticks": ""
             }
            },
            "type": "scatter"
           }
          ],
          "scatter3d": [
           {
            "line": {
             "colorbar": {
              "outlinewidth": 0,
              "ticks": ""
             }
            },
            "marker": {
             "colorbar": {
              "outlinewidth": 0,
              "ticks": ""
             }
            },
            "type": "scatter3d"
           }
          ],
          "scattercarpet": [
           {
            "marker": {
             "colorbar": {
              "outlinewidth": 0,
              "ticks": ""
             }
            },
            "type": "scattercarpet"
           }
          ],
          "scattergeo": [
           {
            "marker": {
             "colorbar": {
              "outlinewidth": 0,
              "ticks": ""
             }
            },
            "type": "scattergeo"
           }
          ],
          "scattergl": [
           {
            "marker": {
             "colorbar": {
              "outlinewidth": 0,
              "ticks": ""
             }
            },
            "type": "scattergl"
           }
          ],
          "scattermapbox": [
           {
            "marker": {
             "colorbar": {
              "outlinewidth": 0,
              "ticks": ""
             }
            },
            "type": "scattermapbox"
           }
          ],
          "scatterpolar": [
           {
            "marker": {
             "colorbar": {
              "outlinewidth": 0,
              "ticks": ""
             }
            },
            "type": "scatterpolar"
           }
          ],
          "scatterpolargl": [
           {
            "marker": {
             "colorbar": {
              "outlinewidth": 0,
              "ticks": ""
             }
            },
            "type": "scatterpolargl"
           }
          ],
          "scatterternary": [
           {
            "marker": {
             "colorbar": {
              "outlinewidth": 0,
              "ticks": ""
             }
            },
            "type": "scatterternary"
           }
          ],
          "surface": [
           {
            "colorbar": {
             "outlinewidth": 0,
             "ticks": ""
            },
            "colorscale": [
             [
              0,
              "#0d0887"
             ],
             [
              0.1111111111111111,
              "#46039f"
             ],
             [
              0.2222222222222222,
              "#7201a8"
             ],
             [
              0.3333333333333333,
              "#9c179e"
             ],
             [
              0.4444444444444444,
              "#bd3786"
             ],
             [
              0.5555555555555556,
              "#d8576b"
             ],
             [
              0.6666666666666666,
              "#ed7953"
             ],
             [
              0.7777777777777778,
              "#fb9f3a"
             ],
             [
              0.8888888888888888,
              "#fdca26"
             ],
             [
              1,
              "#f0f921"
             ]
            ],
            "type": "surface"
           }
          ],
          "table": [
           {
            "cells": {
             "fill": {
              "color": "#EBF0F8"
             },
             "line": {
              "color": "white"
             }
            },
            "header": {
             "fill": {
              "color": "#C8D4E3"
             },
             "line": {
              "color": "white"
             }
            },
            "type": "table"
           }
          ]
         },
         "layout": {
          "annotationdefaults": {
           "arrowcolor": "#2a3f5f",
           "arrowhead": 0,
           "arrowwidth": 1
          },
          "autotypenumbers": "strict",
          "coloraxis": {
           "colorbar": {
            "outlinewidth": 0,
            "ticks": ""
           }
          },
          "colorscale": {
           "diverging": [
            [
             0,
             "#8e0152"
            ],
            [
             0.1,
             "#c51b7d"
            ],
            [
             0.2,
             "#de77ae"
            ],
            [
             0.3,
             "#f1b6da"
            ],
            [
             0.4,
             "#fde0ef"
            ],
            [
             0.5,
             "#f7f7f7"
            ],
            [
             0.6,
             "#e6f5d0"
            ],
            [
             0.7,
             "#b8e186"
            ],
            [
             0.8,
             "#7fbc41"
            ],
            [
             0.9,
             "#4d9221"
            ],
            [
             1,
             "#276419"
            ]
           ],
           "sequential": [
            [
             0,
             "#0d0887"
            ],
            [
             0.1111111111111111,
             "#46039f"
            ],
            [
             0.2222222222222222,
             "#7201a8"
            ],
            [
             0.3333333333333333,
             "#9c179e"
            ],
            [
             0.4444444444444444,
             "#bd3786"
            ],
            [
             0.5555555555555556,
             "#d8576b"
            ],
            [
             0.6666666666666666,
             "#ed7953"
            ],
            [
             0.7777777777777778,
             "#fb9f3a"
            ],
            [
             0.8888888888888888,
             "#fdca26"
            ],
            [
             1,
             "#f0f921"
            ]
           ],
           "sequentialminus": [
            [
             0,
             "#0d0887"
            ],
            [
             0.1111111111111111,
             "#46039f"
            ],
            [
             0.2222222222222222,
             "#7201a8"
            ],
            [
             0.3333333333333333,
             "#9c179e"
            ],
            [
             0.4444444444444444,
             "#bd3786"
            ],
            [
             0.5555555555555556,
             "#d8576b"
            ],
            [
             0.6666666666666666,
             "#ed7953"
            ],
            [
             0.7777777777777778,
             "#fb9f3a"
            ],
            [
             0.8888888888888888,
             "#fdca26"
            ],
            [
             1,
             "#f0f921"
            ]
           ]
          },
          "colorway": [
           "#636efa",
           "#EF553B",
           "#00cc96",
           "#ab63fa",
           "#FFA15A",
           "#19d3f3",
           "#FF6692",
           "#B6E880",
           "#FF97FF",
           "#FECB52"
          ],
          "font": {
           "color": "#2a3f5f"
          },
          "geo": {
           "bgcolor": "white",
           "lakecolor": "white",
           "landcolor": "#E5ECF6",
           "showlakes": true,
           "showland": true,
           "subunitcolor": "white"
          },
          "hoverlabel": {
           "align": "left"
          },
          "hovermode": "closest",
          "mapbox": {
           "style": "light"
          },
          "paper_bgcolor": "white",
          "plot_bgcolor": "#E5ECF6",
          "polar": {
           "angularaxis": {
            "gridcolor": "white",
            "linecolor": "white",
            "ticks": ""
           },
           "bgcolor": "#E5ECF6",
           "radialaxis": {
            "gridcolor": "white",
            "linecolor": "white",
            "ticks": ""
           }
          },
          "scene": {
           "xaxis": {
            "backgroundcolor": "#E5ECF6",
            "gridcolor": "white",
            "gridwidth": 2,
            "linecolor": "white",
            "showbackground": true,
            "ticks": "",
            "zerolinecolor": "white"
           },
           "yaxis": {
            "backgroundcolor": "#E5ECF6",
            "gridcolor": "white",
            "gridwidth": 2,
            "linecolor": "white",
            "showbackground": true,
            "ticks": "",
            "zerolinecolor": "white"
           },
           "zaxis": {
            "backgroundcolor": "#E5ECF6",
            "gridcolor": "white",
            "gridwidth": 2,
            "linecolor": "white",
            "showbackground": true,
            "ticks": "",
            "zerolinecolor": "white"
           }
          },
          "shapedefaults": {
           "line": {
            "color": "#2a3f5f"
           }
          },
          "ternary": {
           "aaxis": {
            "gridcolor": "white",
            "linecolor": "white",
            "ticks": ""
           },
           "baxis": {
            "gridcolor": "white",
            "linecolor": "white",
            "ticks": ""
           },
           "bgcolor": "#E5ECF6",
           "caxis": {
            "gridcolor": "white",
            "linecolor": "white",
            "ticks": ""
           }
          },
          "title": {
           "x": 0.05
          },
          "xaxis": {
           "automargin": true,
           "gridcolor": "white",
           "linecolor": "white",
           "ticks": "",
           "title": {
            "standoff": 15
           },
           "zerolinecolor": "white",
           "zerolinewidth": 2
          },
          "yaxis": {
           "automargin": true,
           "gridcolor": "white",
           "linecolor": "white",
           "ticks": "",
           "title": {
            "standoff": 15
           },
           "zerolinecolor": "white",
           "zerolinewidth": 2
          }
         }
        },
        "title": {
         "text": "Count plot of job_title"
        },
        "xaxis": {
         "title": {
          "text": "job_title status"
         }
        },
        "yaxis": {
         "title": {
          "text": "Number of count"
         }
        }
       }
      },
      "text/html": [
       "<div>                            <div id=\"b2044f5f-cc44-4d58-b50c-2b68731e62ce\" class=\"plotly-graph-div\" style=\"height:525px; width:100%;\"></div>            <script type=\"text/javascript\">                require([\"plotly\"], function(Plotly) {                    window.PLOTLYENV=window.PLOTLYENV || {};                                    if (document.getElementById(\"b2044f5f-cc44-4d58-b50c-2b68731e62ce\")) {                    Plotly.newPlot(                        \"b2044f5f-cc44-4d58-b50c-2b68731e62ce\",                        [{\"marker\":{\"color\":[46,33,16,12,5,5,5,5,4,4,4,4,4,4,3,3,3,3,2,2,2,2,2,2,2,2,2,2,2,2,2,1,1,1,1,1,1,1,1,1,1,1,1,1,1,1,1,1,1,1,1,1,1,1,1,1,1,1,1,1,1,1,1,1,1,1,1,1,1,1,1,1,1,1,1,1,1,1,1,1,1,1,1,1,1,1,1,1,1,1,1,1,1,1,1,1,1,1,1,1,1,1,1,1,1,1,1,1,1,1,1,1,1,1,1,1,1,1,1,1,1,1,1,1,1,1,1,1,1,1,1,1,1,1,1,1,1,1,1,1,1,1,1,1,1,1,1,1,1,1,1,1,1,1,1,1,1,1,1,1,1,1,1,1,1,1,1,1,1,1,1,1,1,1,1,1,1,1,1,1,1,1,1,1,1,1,1,1,1,1,1,1,1,1,1,1,1,1,1,1,1,1,1,1,1,1,1,1,1,1,1,1,1,1,1,1,1,1,1,1,1,1,1,1,1,1,1,1,1,1,1,1,1,1,1,1,1,1,1,1,1,1,1,1,1,1,1,1,1,1,1,1,1,1,1,1,1,1,1,1,1,1,1,1,1,1,1,1,1,1,1,1,1,1,1,1]},\"text\":[46.0,33.0,16.0,12.0,5.0,5.0,5.0,5.0,4.0,4.0,4.0,4.0,4.0,4.0,3.0,3.0,3.0,3.0,2.0,2.0,2.0,2.0,2.0,2.0,2.0,2.0,2.0,2.0,2.0,2.0,2.0,1.0,1.0,1.0,1.0,1.0,1.0,1.0,1.0,1.0,1.0,1.0,1.0,1.0,1.0,1.0,1.0,1.0,1.0,1.0,1.0,1.0,1.0,1.0,1.0,1.0,1.0,1.0,1.0,1.0,1.0,1.0,1.0,1.0,1.0,1.0,1.0,1.0,1.0,1.0,1.0,1.0,1.0,1.0,1.0,1.0,1.0,1.0,1.0,1.0,1.0,1.0,1.0,1.0,1.0,1.0,1.0,1.0,1.0,1.0,1.0,1.0,1.0,1.0,1.0,1.0,1.0,1.0,1.0,1.0,1.0,1.0,1.0,1.0,1.0,1.0,1.0,1.0,1.0,1.0,1.0,1.0,1.0,1.0,1.0,1.0,1.0,1.0,1.0,1.0,1.0,1.0,1.0,1.0,1.0,1.0,1.0,1.0,1.0,1.0,1.0,1.0,1.0,1.0,1.0,1.0,1.0,1.0,1.0,1.0,1.0,1.0,1.0,1.0,1.0,1.0,1.0,1.0,1.0,1.0,1.0,1.0,1.0,1.0,1.0,1.0,1.0,1.0,1.0,1.0,1.0,1.0,1.0,1.0,1.0,1.0,1.0,1.0,1.0,1.0,1.0,1.0,1.0,1.0,1.0,1.0,1.0,1.0,1.0,1.0,1.0,1.0,1.0,1.0,1.0,1.0,1.0,1.0,1.0,1.0,1.0,1.0,1.0,1.0,1.0,1.0,1.0,1.0,1.0,1.0,1.0,1.0,1.0,1.0,1.0,1.0,1.0,1.0,1.0,1.0,1.0,1.0,1.0,1.0,1.0,1.0,1.0,1.0,1.0,1.0,1.0,1.0,1.0,1.0,1.0,1.0,1.0,1.0,1.0,1.0,1.0,1.0,1.0,1.0,1.0,1.0,1.0,1.0,1.0,1.0,1.0,1.0,1.0,1.0,1.0,1.0,1.0,1.0,1.0,1.0,1.0,1.0,1.0,1.0,1.0,1.0,1.0,1.0,1.0,1.0,1.0,1.0,1.0,1.0,1.0,1.0,1.0,1.0,1.0,1.0,1.0,1.0,1.0,1.0,1.0,1.0],\"textposition\":\"outside\",\"x\":[\"data science student\",\"data science engineering student\",\"web developer\",\"data science engineer\",\"data science intern\",\"data science\",\"d\\u00e9veloppeur web\",\"data science student \",\"data science and business intelligence engineering student\",\"data science enthusiast\",\"mobile engineer\",\"mobile developer\",\"data science student at esprit\",\"mobile software engineer\",\"software engineer\",\"full stack developer\",\"freelance web developer\",\"full stack web developer\",\"masters in data science student\",\"d\\u00e9veloppeur mobile\",\"software engineer  mobile developer\",\"\",\"data science engineer student\",\"data science consultant at ey\",\"software developer\",\"web developer \",\"data science  machine learning engineering student\",\"data scientist\",\"senior mobile developer\",\"mobile software engineer \",\"data science engineering student \",\"data science  engineering student at essai\",\"data science enthusiast  certified tensorflow developer\",\"4th grade data science student  esprit\",\"software data engineer chez elyadata\",\"data science manager at infor  phd\",\"big data and data science student\",\"data science intern at elyadata\",\"data science researcher \",\"master degree student  data science and software development\",\"data scientist chez data science\",\"business intelligence and data science engineering student\",\"data science   backend developer\",\"master data science for business \\n\",\"data science engineer student \",\"data  science engineering student at esprit\",\"data science student and computer vision practitioner\",\"data science student  paris dauphine tunis\",\"data science and business intelligence student\",\"end of year data science student\",\"data science intern  data science ecole sup\\u00e9rieure priv\\u00e9e ding\\u00e9nierie et de technologies  esprit\",\"consultant en data science chez quantylix\",\"data science  business intelligence  machine learning\",\"applied mathematics and modeling engineering student data science intern at mass analytics\",\"data science master student  works at vermeg\",\"data science student chez ecole sup\\u00e9rieure priv\\u00e9e ding\\u00e9nierie et de technologies  esprit\",\"junior data science engineer looking for first job opportunity\",\"data scientist  founder  ceo of data science tn \\ud83c\\uddf9\\ud83c\\uddf3\",\"data science engineer at recinov\",\"data science and actuarial science engineering student\",\"bi intern  bl microsoft department  inetum\",\"data science student \\ud83d\\udc69\\ud83c\\udffb\\u200d\\ud83c\\udf93\",\"data science lead\",\"data science engineer certified in project management\",\"etudiante en m1 data science for business \",\"data science and telecommunications engineer  esprit\",\"data science and acturial engineering student\",\"data science student  \",\"data science student  lifelong learner\",\"intern in data science at telnet\",\"data science consultant\",\"consultant data science \\u00e0 quantylix\",\"data science and actuarial engineering student \\ud83d\\udcbb\\ud83d\\udcda\",\"data science and engineering student\",\"data science instructor at go my code\",\"data science instructor\",\"data science engineering student  business analyst\",\"big data engineer ibm certified  data science student looking for endofyear internship\",\"data science consultant at biware consulting\",\"data science  data analyst\",\"data science  data engineering\",\"data analyst  data scientist  business intelligence consultant\",\"data science engineering student at the higher school of statistics and information analysis in tunis\",\"data engineering intern\",\"senior data scientist   data science manager at cognira\",\"data science master student\",\"statistical engineering student  data science intern quantylix  volunteer tunisianredcressent\",\"data analytics  data science\",\"4th year computer science student specialized in data science\",\"data science researcher chez fseg nabeul\",\"data science engineering student at essai\",\"m1 data science and software development student\",\"data science student  seeking endofstudies internship\",\"software engineering student  data science and business analytics intern  the sparks foundation\",\"data science engineer at eura nova\",\"m2  data science  software development\",\"data science student  looking for an end of studies internship\",\"\\u00e9l\\u00e8ve ing\\u00e9nieur en data science\",\"big data engineer ibm certified data science student looking for endofyear internship\",\"it engineering student specialized in data science   data scientist  machine learning\",\"senior data scientist phd applied mathematics python machine learningdeep learning aws certified machine learning  specialty\\u00ae  gcp data engineer\\u00ae  scrum master\\u00ae terraform\\u00ae\",\"data science student  looking an end studies internship\",\"data science  student looking for summer internship\",\"data science master degree student\",\"data analyst  business analyst  data science  machine learning  analytics management  dashboard designer  data visualization  open to jobs and internships\",\"big data and data science student at isamm\",\"data science and software development student\",\"data science engineering student  \\ud83d\\udce3 looking for an end of study internship \\ud83d\\udcbb\",\"data science intern chez orange tunisie\",\"data science masters student\",\"statistics and data science engineer\",\"mechanical engineer  data science enthusiast\",\"data science student \\u2022 looking for data sciencedata analytics internship\",\"computer science engineering student\",\"data science for business master\\u2019s student  graduate in business intelligence\",\"expert en data science\",\"applied mathematics and modeling engineer  data science  ml  ai\",\"data science and ai enthousiaste \",\"software engineering student  specialized in data science \",\"data science engineering student at esprit  robotics trainer\",\"deep learning  machine learning  data science  kaggle expert\",\"head of data science\",\"data science master engineer  at axefinance\",\"\\u00e9tudiante en 3\\u00e8me ann\\u00e9e data science\",\"data science engineering student at esprit\",\"junior data scientist\",\"data science intern enova robotics\",\"statistics and data science engineering student  certified tensorflow developer\",\"data science and software development student \",\"ict engineering student at enit  data science enthusiast\",\"ing\\u00e9nieur en business intelligence  consultant data science\",\"data science  machine learning  ai\",\"data science and engineering student at tekup university\",\"consultant data science\",\"data science student  intern at capgemini engineering \",\"artificial intelligence and data science engineer\",\"data science for business and economics  m1 masterstudent\",\"project manager scrum master psm\\u00ae data science chez clinisys\",\"data science engineer holding master degree in ai and smart systems\",\"ing\\u00e9nieur data science \",\"recent graduate of master\\u2019s degree in data science and software development\",\"\\u2022 data science  artificial intelligence student\",\"data science engineering student at tekup\",\"computer science student engineering   datascienceenthusiast\",\"ingenieur informatique specialite data science\",\"ing\\u00e9nieure informatique sp\\u00e9cialit\\u00e9 data science \",\" master data science\",\"web developer  software engineering student\",\"data science  engineering student\",\"data science  engineering student  private higher school of engineering and technology\",\"web developer at self employed\",\"full stack web developerreact jsnode js\",\"d\\u00e9veloppeur web  frontend backend\",\"full stack web developer react jsnode js\",\"web developer reactjs\",\"full stack web developer intern\",\"web developer  chez sofrecom\",\"d\\u00e9veloppeur web full stack \",\"web developer engineer at sagemcom\",\"web developer  angular  laravel  symfony  javascript  python  java\",\"react developer\",\"full stack web developer  graphic designer\",\"forex trader  web developer\",\"software engineer  web developer at ads\",\"web developer  software engineer\",\"web developer as beginner\",\"web developer at google\",\"web developer  mern stack \\u269b\\ufe0f\",\"fullstack web\",\"senior mobile developer  androidflutterios\",\"embedded and mobile system student \",\"challenger  mobile engineer ios  android\",\"mobile developer at advantry x\",\"mobile developer \",\"mobile developer at eadevelopment\",\"mobile engineer \\ud83d\\udc69\\ud83c\\udffb\\u200d\\ud83d\\udcbb\",\"mobile developer  flutter enthusiast  lead flutter tunisia\",\"ios mobile developer engineer\",\"mobile developer  ios  devops enthusiast\",\"fullstack web developer\",\"web developer chez infor\",\"web developer  web designer\",\"web developer with a focus on crafting intuitive and engaging user experiences using the latest technologies\",\"web developer chez zetabox\",\"web  mobile developer \\ud83d\\udcbb\",\"full stack web developer  odoo developer\",\"web developer  php  symfony\",\"data scientist  web developer\",\"junior web developer  javascript typescript  reactjs redux nodejs mern stack\",\"software engineer  full stack web developer\",\"uiux designer web developer\",\"junior fullstack web developer\",\"software developer at satoripop\",\"full stack web developer  mobile developer\",\"front end web developer  junior java developer\",\"d\\u00e9veloppeur web chez capitol soft\",\"developer web\",\"full stack d\\u00e9veloppeur\",\"full stack developer  react js  node js\",\"frontend web developerangularreact\",\"web developer at go my code\",\"\\u26a1\\ufe0fjunior web developerangularjs \\ud83c\\udd70\\ufe0f  reactjs \\u269b\\ufe0f  nodejs \\ud83d\\ude80 \",\"junior mobile developer  experience with react and angular\",\"d\\u00e9veloppeur web fullstack\",\"web developer chez devclic\",\"full stack web developer \",\"junior web developer  lets connect \",\"fullstack web developer net core  angular\",\"web developer at neopolis development\",\"front end web developer\",\"fullstack web developer react nodejs\\n\",\"fullstack mobile developer\",\"software engineering and mobile developer\",\"mobile developer at softparadigm\",\"d\\u00e9veloppeur mobile chez streamwide\",\"crossplatform mobile application engineer\",\"d\\u00e9veloppeur full stack web  mobile\",\"d\\u00e9veloppeur full stack mobile\",\"team lead  mobile developer\",\"full stack js developer\",\"mobile software engineer android\",\"ing\\u00e9nieur support r\\u00e9seau mobile  fixe\",\"ing\\u00e9nieur logiciel mobile\",\"d\\u00e9veloppeur windev webdev  windev mobile\",\"frontend webmobile developer\",\"huawei mobile core network\",\"software mobile developer at mssolutions \",\"d\\u00e9veloppeur web et mobile angular react flutter\",\"mobile developer engineer\",\"ing\\u00e9nieur full stack\",\"ing\\u00e9nieur d\\u00e9veloppement mobile\",\"flutter mobile developer\",\"ing\\u00e9nieur test et validation  certifi\\u00e9 istqb\\u00ae \",\"web  mobile developer react  react native\",\"mobile core network engineer at ooredoo tunisie\",\"full stack mobile developer  certified tensorflow developer\",\"webmobile apps developer\",\"team leader mobile developer chez medianet\",\"mobile software developer \",\"data science  statistics  machine learning \",\"applied mathematics engineerdata science associate\",\"data science engineering  data scientist\",\"data science engineering student  business intelligence graduate \",\"software developer windevwindev mobile   sfc\\u2122\",\"embedded and mobile software developer\",\"mobile software designer\",\"consultant d\\u00e9veloppeur windev  windev mobile\",\"d\\u00e9veloppeur mobile at bros technologies\",\"mobile  fullrstack developer\",\"engineer in mobile computer systems\",\"developpeur windev et windev mobile chez wedev\",\"mobile developer at satoripop\",\"lead mobile developer at letaff  computer software engineering student\",\"mobile developer at tayara group\",\"d\\u00e9veloppeur webmobile freelance\",\"full stack web and mobile developer\",\"mobile developer at wimobi\",\"mobile developer beautinda\",\"mobile rd engineer\",\"software engineer  mobile developer  flutter  node js\",\"mobile developer android\",\"ing\\u00e9nieur radio mobile\",\"fullstack developper  web  mobile  api  mern stack  mean stack  reactjs  reactnative  nodejs  expressjs  nestjs mongodb\",\"mobile developer  ios reactnative\",\"full stack crossplatform mobile enigneer\",\"software engineer  web  mobile developer  net core\",\"mobile application developer\",\"mobile team lead react native  android  ios\",\"full stack webmobile developer at tekniva\",\"mobile software engineer chez bfi groupe\",\"mobile developer iosflutter\",\"mobile developer at mantu\",\"full stack mobile development engineer flask flutter intern\",\"mobile developer  web developer\",\"mobile engineer at value\",\"ing\\u00e9nieur en informatique  sp\\u00e9cialit\\u00e9 data science\"],\"y\":[46,33,16,12,5,5,5,5,4,4,4,4,4,4,3,3,3,3,2,2,2,2,2,2,2,2,2,2,2,2,2,1,1,1,1,1,1,1,1,1,1,1,1,1,1,1,1,1,1,1,1,1,1,1,1,1,1,1,1,1,1,1,1,1,1,1,1,1,1,1,1,1,1,1,1,1,1,1,1,1,1,1,1,1,1,1,1,1,1,1,1,1,1,1,1,1,1,1,1,1,1,1,1,1,1,1,1,1,1,1,1,1,1,1,1,1,1,1,1,1,1,1,1,1,1,1,1,1,1,1,1,1,1,1,1,1,1,1,1,1,1,1,1,1,1,1,1,1,1,1,1,1,1,1,1,1,1,1,1,1,1,1,1,1,1,1,1,1,1,1,1,1,1,1,1,1,1,1,1,1,1,1,1,1,1,1,1,1,1,1,1,1,1,1,1,1,1,1,1,1,1,1,1,1,1,1,1,1,1,1,1,1,1,1,1,1,1,1,1,1,1,1,1,1,1,1,1,1,1,1,1,1,1,1,1,1,1,1,1,1,1,1,1,1,1,1,1,1,1,1,1,1,1,1,1,1,1,1,1,1,1,1,1,1,1,1,1,1,1,1,1,1,1,1,1,1],\"type\":\"bar\"}],                        {\"template\":{\"data\":{\"bar\":[{\"error_x\":{\"color\":\"#2a3f5f\"},\"error_y\":{\"color\":\"#2a3f5f\"},\"marker\":{\"line\":{\"color\":\"#E5ECF6\",\"width\":0.5},\"pattern\":{\"fillmode\":\"overlay\",\"size\":10,\"solidity\":0.2}},\"type\":\"bar\"}],\"barpolar\":[{\"marker\":{\"line\":{\"color\":\"#E5ECF6\",\"width\":0.5},\"pattern\":{\"fillmode\":\"overlay\",\"size\":10,\"solidity\":0.2}},\"type\":\"barpolar\"}],\"carpet\":[{\"aaxis\":{\"endlinecolor\":\"#2a3f5f\",\"gridcolor\":\"white\",\"linecolor\":\"white\",\"minorgridcolor\":\"white\",\"startlinecolor\":\"#2a3f5f\"},\"baxis\":{\"endlinecolor\":\"#2a3f5f\",\"gridcolor\":\"white\",\"linecolor\":\"white\",\"minorgridcolor\":\"white\",\"startlinecolor\":\"#2a3f5f\"},\"type\":\"carpet\"}],\"choropleth\":[{\"colorbar\":{\"outlinewidth\":0,\"ticks\":\"\"},\"type\":\"choropleth\"}],\"contour\":[{\"colorbar\":{\"outlinewidth\":0,\"ticks\":\"\"},\"colorscale\":[[0.0,\"#0d0887\"],[0.1111111111111111,\"#46039f\"],[0.2222222222222222,\"#7201a8\"],[0.3333333333333333,\"#9c179e\"],[0.4444444444444444,\"#bd3786\"],[0.5555555555555556,\"#d8576b\"],[0.6666666666666666,\"#ed7953\"],[0.7777777777777778,\"#fb9f3a\"],[0.8888888888888888,\"#fdca26\"],[1.0,\"#f0f921\"]],\"type\":\"contour\"}],\"contourcarpet\":[{\"colorbar\":{\"outlinewidth\":0,\"ticks\":\"\"},\"type\":\"contourcarpet\"}],\"heatmap\":[{\"colorbar\":{\"outlinewidth\":0,\"ticks\":\"\"},\"colorscale\":[[0.0,\"#0d0887\"],[0.1111111111111111,\"#46039f\"],[0.2222222222222222,\"#7201a8\"],[0.3333333333333333,\"#9c179e\"],[0.4444444444444444,\"#bd3786\"],[0.5555555555555556,\"#d8576b\"],[0.6666666666666666,\"#ed7953\"],[0.7777777777777778,\"#fb9f3a\"],[0.8888888888888888,\"#fdca26\"],[1.0,\"#f0f921\"]],\"type\":\"heatmap\"}],\"heatmapgl\":[{\"colorbar\":{\"outlinewidth\":0,\"ticks\":\"\"},\"colorscale\":[[0.0,\"#0d0887\"],[0.1111111111111111,\"#46039f\"],[0.2222222222222222,\"#7201a8\"],[0.3333333333333333,\"#9c179e\"],[0.4444444444444444,\"#bd3786\"],[0.5555555555555556,\"#d8576b\"],[0.6666666666666666,\"#ed7953\"],[0.7777777777777778,\"#fb9f3a\"],[0.8888888888888888,\"#fdca26\"],[1.0,\"#f0f921\"]],\"type\":\"heatmapgl\"}],\"histogram\":[{\"marker\":{\"pattern\":{\"fillmode\":\"overlay\",\"size\":10,\"solidity\":0.2}},\"type\":\"histogram\"}],\"histogram2d\":[{\"colorbar\":{\"outlinewidth\":0,\"ticks\":\"\"},\"colorscale\":[[0.0,\"#0d0887\"],[0.1111111111111111,\"#46039f\"],[0.2222222222222222,\"#7201a8\"],[0.3333333333333333,\"#9c179e\"],[0.4444444444444444,\"#bd3786\"],[0.5555555555555556,\"#d8576b\"],[0.6666666666666666,\"#ed7953\"],[0.7777777777777778,\"#fb9f3a\"],[0.8888888888888888,\"#fdca26\"],[1.0,\"#f0f921\"]],\"type\":\"histogram2d\"}],\"histogram2dcontour\":[{\"colorbar\":{\"outlinewidth\":0,\"ticks\":\"\"},\"colorscale\":[[0.0,\"#0d0887\"],[0.1111111111111111,\"#46039f\"],[0.2222222222222222,\"#7201a8\"],[0.3333333333333333,\"#9c179e\"],[0.4444444444444444,\"#bd3786\"],[0.5555555555555556,\"#d8576b\"],[0.6666666666666666,\"#ed7953\"],[0.7777777777777778,\"#fb9f3a\"],[0.8888888888888888,\"#fdca26\"],[1.0,\"#f0f921\"]],\"type\":\"histogram2dcontour\"}],\"mesh3d\":[{\"colorbar\":{\"outlinewidth\":0,\"ticks\":\"\"},\"type\":\"mesh3d\"}],\"parcoords\":[{\"line\":{\"colorbar\":{\"outlinewidth\":0,\"ticks\":\"\"}},\"type\":\"parcoords\"}],\"pie\":[{\"automargin\":true,\"type\":\"pie\"}],\"scatter\":[{\"marker\":{\"colorbar\":{\"outlinewidth\":0,\"ticks\":\"\"}},\"type\":\"scatter\"}],\"scatter3d\":[{\"line\":{\"colorbar\":{\"outlinewidth\":0,\"ticks\":\"\"}},\"marker\":{\"colorbar\":{\"outlinewidth\":0,\"ticks\":\"\"}},\"type\":\"scatter3d\"}],\"scattercarpet\":[{\"marker\":{\"colorbar\":{\"outlinewidth\":0,\"ticks\":\"\"}},\"type\":\"scattercarpet\"}],\"scattergeo\":[{\"marker\":{\"colorbar\":{\"outlinewidth\":0,\"ticks\":\"\"}},\"type\":\"scattergeo\"}],\"scattergl\":[{\"marker\":{\"colorbar\":{\"outlinewidth\":0,\"ticks\":\"\"}},\"type\":\"scattergl\"}],\"scattermapbox\":[{\"marker\":{\"colorbar\":{\"outlinewidth\":0,\"ticks\":\"\"}},\"type\":\"scattermapbox\"}],\"scatterpolar\":[{\"marker\":{\"colorbar\":{\"outlinewidth\":0,\"ticks\":\"\"}},\"type\":\"scatterpolar\"}],\"scatterpolargl\":[{\"marker\":{\"colorbar\":{\"outlinewidth\":0,\"ticks\":\"\"}},\"type\":\"scatterpolargl\"}],\"scatterternary\":[{\"marker\":{\"colorbar\":{\"outlinewidth\":0,\"ticks\":\"\"}},\"type\":\"scatterternary\"}],\"surface\":[{\"colorbar\":{\"outlinewidth\":0,\"ticks\":\"\"},\"colorscale\":[[0.0,\"#0d0887\"],[0.1111111111111111,\"#46039f\"],[0.2222222222222222,\"#7201a8\"],[0.3333333333333333,\"#9c179e\"],[0.4444444444444444,\"#bd3786\"],[0.5555555555555556,\"#d8576b\"],[0.6666666666666666,\"#ed7953\"],[0.7777777777777778,\"#fb9f3a\"],[0.8888888888888888,\"#fdca26\"],[1.0,\"#f0f921\"]],\"type\":\"surface\"}],\"table\":[{\"cells\":{\"fill\":{\"color\":\"#EBF0F8\"},\"line\":{\"color\":\"white\"}},\"header\":{\"fill\":{\"color\":\"#C8D4E3\"},\"line\":{\"color\":\"white\"}},\"type\":\"table\"}]},\"layout\":{\"annotationdefaults\":{\"arrowcolor\":\"#2a3f5f\",\"arrowhead\":0,\"arrowwidth\":1},\"autotypenumbers\":\"strict\",\"coloraxis\":{\"colorbar\":{\"outlinewidth\":0,\"ticks\":\"\"}},\"colorscale\":{\"diverging\":[[0,\"#8e0152\"],[0.1,\"#c51b7d\"],[0.2,\"#de77ae\"],[0.3,\"#f1b6da\"],[0.4,\"#fde0ef\"],[0.5,\"#f7f7f7\"],[0.6,\"#e6f5d0\"],[0.7,\"#b8e186\"],[0.8,\"#7fbc41\"],[0.9,\"#4d9221\"],[1,\"#276419\"]],\"sequential\":[[0.0,\"#0d0887\"],[0.1111111111111111,\"#46039f\"],[0.2222222222222222,\"#7201a8\"],[0.3333333333333333,\"#9c179e\"],[0.4444444444444444,\"#bd3786\"],[0.5555555555555556,\"#d8576b\"],[0.6666666666666666,\"#ed7953\"],[0.7777777777777778,\"#fb9f3a\"],[0.8888888888888888,\"#fdca26\"],[1.0,\"#f0f921\"]],\"sequentialminus\":[[0.0,\"#0d0887\"],[0.1111111111111111,\"#46039f\"],[0.2222222222222222,\"#7201a8\"],[0.3333333333333333,\"#9c179e\"],[0.4444444444444444,\"#bd3786\"],[0.5555555555555556,\"#d8576b\"],[0.6666666666666666,\"#ed7953\"],[0.7777777777777778,\"#fb9f3a\"],[0.8888888888888888,\"#fdca26\"],[1.0,\"#f0f921\"]]},\"colorway\":[\"#636efa\",\"#EF553B\",\"#00cc96\",\"#ab63fa\",\"#FFA15A\",\"#19d3f3\",\"#FF6692\",\"#B6E880\",\"#FF97FF\",\"#FECB52\"],\"font\":{\"color\":\"#2a3f5f\"},\"geo\":{\"bgcolor\":\"white\",\"lakecolor\":\"white\",\"landcolor\":\"#E5ECF6\",\"showlakes\":true,\"showland\":true,\"subunitcolor\":\"white\"},\"hoverlabel\":{\"align\":\"left\"},\"hovermode\":\"closest\",\"mapbox\":{\"style\":\"light\"},\"paper_bgcolor\":\"white\",\"plot_bgcolor\":\"#E5ECF6\",\"polar\":{\"angularaxis\":{\"gridcolor\":\"white\",\"linecolor\":\"white\",\"ticks\":\"\"},\"bgcolor\":\"#E5ECF6\",\"radialaxis\":{\"gridcolor\":\"white\",\"linecolor\":\"white\",\"ticks\":\"\"}},\"scene\":{\"xaxis\":{\"backgroundcolor\":\"#E5ECF6\",\"gridcolor\":\"white\",\"gridwidth\":2,\"linecolor\":\"white\",\"showbackground\":true,\"ticks\":\"\",\"zerolinecolor\":\"white\"},\"yaxis\":{\"backgroundcolor\":\"#E5ECF6\",\"gridcolor\":\"white\",\"gridwidth\":2,\"linecolor\":\"white\",\"showbackground\":true,\"ticks\":\"\",\"zerolinecolor\":\"white\"},\"zaxis\":{\"backgroundcolor\":\"#E5ECF6\",\"gridcolor\":\"white\",\"gridwidth\":2,\"linecolor\":\"white\",\"showbackground\":true,\"ticks\":\"\",\"zerolinecolor\":\"white\"}},\"shapedefaults\":{\"line\":{\"color\":\"#2a3f5f\"}},\"ternary\":{\"aaxis\":{\"gridcolor\":\"white\",\"linecolor\":\"white\",\"ticks\":\"\"},\"baxis\":{\"gridcolor\":\"white\",\"linecolor\":\"white\",\"ticks\":\"\"},\"bgcolor\":\"#E5ECF6\",\"caxis\":{\"gridcolor\":\"white\",\"linecolor\":\"white\",\"ticks\":\"\"}},\"title\":{\"x\":0.05},\"xaxis\":{\"automargin\":true,\"gridcolor\":\"white\",\"linecolor\":\"white\",\"ticks\":\"\",\"title\":{\"standoff\":15},\"zerolinecolor\":\"white\",\"zerolinewidth\":2},\"yaxis\":{\"automargin\":true,\"gridcolor\":\"white\",\"linecolor\":\"white\",\"ticks\":\"\",\"title\":{\"standoff\":15},\"zerolinecolor\":\"white\",\"zerolinewidth\":2}}},\"title\":{\"text\":\"Count plot of job_title\"},\"xaxis\":{\"title\":{\"text\":\"job_title status\"}},\"yaxis\":{\"title\":{\"text\":\"Number of count\"}}},                        {\"responsive\": true}                    ).then(function(){\n",
       "                            \n",
       "var gd = document.getElementById('b2044f5f-cc44-4d58-b50c-2b68731e62ce');\n",
       "var x = new MutationObserver(function (mutations, observer) {{\n",
       "        var display = window.getComputedStyle(gd).display;\n",
       "        if (!display || display === 'none') {{\n",
       "            console.log([gd, 'removed!']);\n",
       "            Plotly.purge(gd);\n",
       "            observer.disconnect();\n",
       "        }}\n",
       "}});\n",
       "\n",
       "// Listen for the removal of the full notebook cells\n",
       "var notebookContainer = gd.closest('#notebook-container');\n",
       "if (notebookContainer) {{\n",
       "    x.observe(notebookContainer, {childList: true});\n",
       "}}\n",
       "\n",
       "// Listen for the clearing of the current output cell\n",
       "var outputEl = gd.closest('.output');\n",
       "if (outputEl) {{\n",
       "    x.observe(outputEl, {childList: true});\n",
       "}}\n",
       "\n",
       "                        })                };                });            </script>        </div>"
      ]
     },
     "metadata": {},
     "output_type": "display_data"
    }
   ],
   "source": [
    "desc_count1 = df['job_title'].value_counts().reset_index().rename(columns={'index':'index','job_title':'count'})\n",
    "fig = go.Figure(go.Bar(\n",
    "    x = desc_count1['index'],y = desc_count1['count'],text=desc_count1['count'],marker={'color': desc_count1['count']}\n",
    "    ,textposition = \"outside\"))\n",
    "fig.update_layout(title_text='Count plot of job_title',xaxis_title=\"job_title status\",yaxis_title=\"Number of count\")\n",
    "fig.show()"
   ]
  },
  {
   "cell_type": "code",
   "execution_count": 1076,
   "id": "f2cabc2a",
   "metadata": {
    "scrolled": true
   },
   "outputs": [
    {
     "data": {
      "image/png": "[encoded data removed]",
      "text/plain": [
       "<Figure size 432x288 with 1 Axes>"
      ]
     },
     "metadata": {
      "needs_background": "light"
     },
     "output_type": "display_data"
    }
   ],
   "source": [
    "import seaborn as sns\n",
    "\n",
    "# Create a bar chart of the top 5 job titles\n",
    "top_5_job_titles = df['job_title'].value_counts().nlargest(5)\n",
    "sns.barplot(x=top_5_job_titles.values, y=top_5_job_titles.index)\n",
    "\n",
    "# Set the chart title and axis labels\n",
    "plt.title('Top 5 Job Titles')\n",
    "plt.xlabel('Frequency Count')\n",
    "plt.ylabel('Job Title')\n",
    "\n",
    "# Display the chart\n",
    "plt.show()"
   ]
  },
  {
   "cell_type": "code",
   "execution_count": null,
   "id": "91e3dac6",
   "metadata": {},
   "outputs": [],
   "source": []
  },
  {
   "cell_type": "code",
   "execution_count": 1077,
   "id": "6b42fa1b",
   "metadata": {
    "scrolled": true
   },
   "outputs": [
    {
     "data": {
      "image/png": "[encoded data removed]",
      "text/plain": [
       "<Figure size 432x288 with 1 Axes>"
      ]
     },
     "metadata": {},
     "output_type": "display_data"
    }
   ],
   "source": [
    "import matplotlib.pyplot as plt\n",
    "\n",
    "# Get the top 5 job titles and their frequency counts\n",
    "top_5_job_titles = df['job_title'].value_counts().nlargest(5)\n",
    "\n",
    "# Create a pie chart of the top 5 job titles\n",
    "plt.pie(top_5_job_titles.values, labels=top_5_job_titles.index, autopct='%1.1f%%')\n",
    "\n",
    "# Set the chart title\n",
    "plt.title('Top 5 Job Titles')\n",
    "\n",
    "# Display the chart\n",
    "plt.show()"
   ]
  },
  {
   "cell_type": "code",
   "execution_count": 1078,
   "id": "a8f966e6",
   "metadata": {},
   "outputs": [],
   "source": [
    "df['job_title'] = df['job_title'].str.replace('data science student','Data Science Student', case=False)\n"
   ]
  },
  {
   "cell_type": "code",
   "execution_count": 1079,
   "id": "22bbf712",
   "metadata": {},
   "outputs": [],
   "source": [
    "df['job_title'] = df['job_title'].str.replace('data science engineering student','Data Science Student', case=False)\n"
   ]
  },
  {
   "cell_type": "code",
   "execution_count": 1080,
   "id": "6382859f",
   "metadata": {},
   "outputs": [],
   "source": [
    "df['job_title'] = df['job_title'].str.replace('data science student ','Data Science Student', case=False)\n"
   ]
  },
  {
   "cell_type": "code",
   "execution_count": 1081,
   "id": "2d5c2290",
   "metadata": {},
   "outputs": [],
   "source": [
    "df['job_title'] = df['job_title'].replace(['développeur web', 'web developer'], 'web developer')"
   ]
  },
  {
   "cell_type": "code",
   "execution_count": 1082,
   "id": "663ba04e",
   "metadata": {},
   "outputs": [
    {
     "data": {
      "image/png": "[encoded data removed]",
      "text/plain": [
       "<Figure size 432x288 with 1 Axes>"
      ]
     },
     "metadata": {},
     "output_type": "display_data"
    }
   ],
   "source": [
    "import matplotlib.pyplot as plt\n",
    "\n",
    "# Get the top 5 job titles and their frequency counts\n",
    "top_5_job_titles = df['job_title'].value_counts().nlargest(5)\n",
    "\n",
    "# Create a pie chart of the top 5 job titles\n",
    "plt.pie(top_5_job_titles.values, labels=top_5_job_titles.index, autopct='%1.1f%%')\n",
    "\n",
    "# Set the chart title\n",
    "plt.title('Top 5 Job Titles')\n",
    "\n",
    "# Display the chart\n",
    "plt.show()"
   ]
  },
  {
   "cell_type": "code",
   "execution_count": null,
   "id": "063ae9ea",
   "metadata": {},
   "outputs": [],
   "source": []
  },
  {
   "cell_type": "code",
   "execution_count": 1083,
   "id": "22057644",
   "metadata": {
    "scrolled": true
   },
   "outputs": [
    {
     "data": {
      "text/html": [
       "<div>\n",
       "<style scoped>\n",
       "    .dataframe tbody tr th:only-of-type {\n",
       "        vertical-align: middle;\n",
       "    }\n",
       "\n",
       "    .dataframe tbody tr th {\n",
       "        vertical-align: top;\n",
       "    }\n",
       "\n",
       "    .dataframe thead th {\n",
       "        text-align: right;\n",
       "    }\n",
       "</style>\n",
       "<table border=\"1\" class=\"dataframe\">\n",
       "  <thead>\n",
       "    <tr style=\"text-align: right;\">\n",
       "      <th></th>\n",
       "      <th>URL</th>\n",
       "      <th>job_title</th>\n",
       "      <th>location</th>\n",
       "      <th>Name</th>\n",
       "      <th>company</th>\n",
       "      <th>skills</th>\n",
       "      <th>experiences</th>\n",
       "    </tr>\n",
       "  </thead>\n",
       "  <tbody>\n",
       "    <tr>\n",
       "      <th>0</th>\n",
       "      <td>https://www.linkedin.com/in/talel-kb/</td>\n",
       "      <td>web developer  software engineering student</td>\n",
       "      <td>Gouvernorat Tunis, Tunisie</td>\n",
       "      <td>Talel Kbaier</td>\n",
       "      <td>Triweb</td>\n",
       "      <td>analyse donnees competences analytiques framew...</td>\n",
       "      <td>Développeur web:janv. 2023 - aujourd’hui · 2 m...</td>\n",
       "    </tr>\n",
       "    <tr>\n",
       "      <th>1</th>\n",
       "      <td>https://www.linkedin.com/in/omar-talbi-sfax/</td>\n",
       "      <td>freelance web developer</td>\n",
       "      <td>Gouvernorat Sfax, Tunisie</td>\n",
       "      <td>Omar Talbi</td>\n",
       "      <td>Freelance</td>\n",
       "      <td>laravel react javascript php microsoft bot fra...</td>\n",
       "      <td>Freelance Web Developer:août 2019 - aujourd’hu...</td>\n",
       "    </tr>\n",
       "    <tr>\n",
       "      <th>2</th>\n",
       "      <td>https://www.linkedin.com/in/hassen-knani-21991...</td>\n",
       "      <td>web developer chez zetabox</td>\n",
       "      <td>Gouvernorat Sfax, Tunisie</td>\n",
       "      <td>Hassen Knani</td>\n",
       "      <td>GOMYCODE</td>\n",
       "      <td>management service client microsoft office ven...</td>\n",
       "      <td>React Js Instructor:mars 2022 - aujourd’hui · ...</td>\n",
       "    </tr>\n",
       "    <tr>\n",
       "      <th>3</th>\n",
       "      <td>https://www.linkedin.com/in/safwendammak/</td>\n",
       "      <td>freelance web developer</td>\n",
       "      <td>Gouvernorat Sfax, Tunisie</td>\n",
       "      <td>Safwen Dammak</td>\n",
       "      <td>PixiMind</td>\n",
       "      <td>angular phpsymfony developpement web developpe...</td>\n",
       "      <td>Web Developer:oct. 2020 - févr. 2022 · 1 an 5 ...</td>\n",
       "    </tr>\n",
       "    <tr>\n",
       "      <th>4</th>\n",
       "      <td>https://www.linkedin.com/in/oumayma-b%C3%A9hi-...</td>\n",
       "      <td>web  mobile developer 💻</td>\n",
       "      <td>Tunis, Gouvernorat Tunis, Tunisie</td>\n",
       "      <td>Oumayma Béhi</td>\n",
       "      <td>SIGA</td>\n",
       "      <td>mentioned</td>\n",
       "      <td>Projet de fin d’études:févr. 2022 - juin 2022 ...</td>\n",
       "    </tr>\n",
       "    <tr>\n",
       "      <th>...</th>\n",
       "      <td>...</td>\n",
       "      <td>...</td>\n",
       "      <td>...</td>\n",
       "      <td>...</td>\n",
       "      <td>...</td>\n",
       "      <td>...</td>\n",
       "      <td>...</td>\n",
       "    </tr>\n",
       "    <tr>\n",
       "      <th>459</th>\n",
       "      <td>https://www.linkedin.com/in/khaoula-ben-othman...</td>\n",
       "      <td>data science engineer</td>\n",
       "      <td>Tunisia</td>\n",
       "      <td>khaoula Ben othman</td>\n",
       "      <td>invalid company name</td>\n",
       "      <td>mongodb rstudio business intelligence bi pyspa...</td>\n",
       "      <td>nan:nan,nan:nan</td>\n",
       "    </tr>\n",
       "    <tr>\n",
       "      <th>460</th>\n",
       "      <td>https://www.linkedin.com/in/farah-abid-989683191/</td>\n",
       "      <td>data science enthusiast</td>\n",
       "      <td>Sfax, Tunisia</td>\n",
       "      <td>Farah Abid</td>\n",
       "      <td>Medicacom</td>\n",
       "      <td>analyse donnees nlp extraction donnees python ...</td>\n",
       "      <td>Data Science Intern:Oct 2022 - Present · 5 mos...</td>\n",
       "    </tr>\n",
       "    <tr>\n",
       "      <th>461</th>\n",
       "      <td>https://www.linkedin.com/in/achref-cherif-data...</td>\n",
       "      <td>data scientist  founder  ceo of data science t...</td>\n",
       "      <td>Tunis, Tunis, Tunisia</td>\n",
       "      <td>Achref Cherif</td>\n",
       "      <td>TEK-UP</td>\n",
       "      <td>extract transform load etl analytical skills d...</td>\n",
       "      <td>Data Scientist:Sep 2020 - Present · 2 yrs 6 mo...</td>\n",
       "    </tr>\n",
       "    <tr>\n",
       "      <th>462</th>\n",
       "      <td>https://www.linkedin.com/in/hamza-samaiy/</td>\n",
       "      <td>data science master student  works at vermeg</td>\n",
       "      <td>Sousse, Tunisia</td>\n",
       "      <td>Hamza Samaiy</td>\n",
       "      <td>VERMEG for Banking &amp; Insurance Software</td>\n",
       "      <td>developpement web javascript php laravel feuil...</td>\n",
       "      <td>Software Programmer:Jan 2023 - Present · 2 mos...</td>\n",
       "    </tr>\n",
       "    <tr>\n",
       "      <th>463</th>\n",
       "      <td>https://www.linkedin.com/in/zitouni-amal-286b9...</td>\n",
       "      <td>ingénieur en informatique  spécialité data sci...</td>\n",
       "      <td>Tunis, Tunisia</td>\n",
       "      <td>Zitouni Amal</td>\n",
       "      <td>TahaPharma</td>\n",
       "      <td>microsoft azure machine learning apprentissage...</td>\n",
       "      <td>Ingénieur BI:Oct 2022 - Present · 5 mos,Member...</td>\n",
       "    </tr>\n",
       "  </tbody>\n",
       "</table>\n",
       "<p>434 rows × 7 columns</p>\n",
       "</div>"
      ],
      "text/plain": [
       "                                                   URL  \\\n",
       "0                https://www.linkedin.com/in/talel-kb/   \n",
       "1         https://www.linkedin.com/in/omar-talbi-sfax/   \n",
       "2    https://www.linkedin.com/in/hassen-knani-21991...   \n",
       "3            https://www.linkedin.com/in/safwendammak/   \n",
       "4    https://www.linkedin.com/in/oumayma-b%C3%A9hi-...   \n",
       "..                                                 ...   \n",
       "459  https://www.linkedin.com/in/khaoula-ben-othman...   \n",
       "460  https://www.linkedin.com/in/farah-abid-989683191/   \n",
       "461  https://www.linkedin.com/in/achref-cherif-data...   \n",
       "462          https://www.linkedin.com/in/hamza-samaiy/   \n",
       "463  https://www.linkedin.com/in/zitouni-amal-286b9...   \n",
       "\n",
       "                                             job_title  \\\n",
       "0          web developer  software engineering student   \n",
       "1                              freelance web developer   \n",
       "2                           web developer chez zetabox   \n",
       "3                              freelance web developer   \n",
       "4                              web  mobile developer 💻   \n",
       "..                                                 ...   \n",
       "459                              data science engineer   \n",
       "460                            data science enthusiast   \n",
       "461  data scientist  founder  ceo of data science t...   \n",
       "462       data science master student  works at vermeg   \n",
       "463  ingénieur en informatique  spécialité data sci...   \n",
       "\n",
       "                              location                Name  \\\n",
       "0           Gouvernorat Tunis, Tunisie        Talel Kbaier   \n",
       "1            Gouvernorat Sfax, Tunisie          Omar Talbi   \n",
       "2            Gouvernorat Sfax, Tunisie        Hassen Knani   \n",
       "3            Gouvernorat Sfax, Tunisie       Safwen Dammak   \n",
       "4    Tunis, Gouvernorat Tunis, Tunisie        Oumayma Béhi   \n",
       "..                                 ...                 ...   \n",
       "459                            Tunisia  khaoula Ben othman   \n",
       "460                      Sfax, Tunisia          Farah Abid   \n",
       "461              Tunis, Tunis, Tunisia       Achref Cherif   \n",
       "462                    Sousse, Tunisia        Hamza Samaiy   \n",
       "463                     Tunis, Tunisia        Zitouni Amal   \n",
       "\n",
       "                                     company  \\\n",
       "0                                     Triweb   \n",
       "1                                  Freelance   \n",
       "2                                   GOMYCODE   \n",
       "3                                   PixiMind   \n",
       "4                                       SIGA   \n",
       "..                                       ...   \n",
       "459                     invalid company name   \n",
       "460                                Medicacom   \n",
       "461                                   TEK-UP   \n",
       "462  VERMEG for Banking & Insurance Software   \n",
       "463                               TahaPharma   \n",
       "\n",
       "                                                skills  \\\n",
       "0    analyse donnees competences analytiques framew...   \n",
       "1    laravel react javascript php microsoft bot fra...   \n",
       "2    management service client microsoft office ven...   \n",
       "3    angular phpsymfony developpement web developpe...   \n",
       "4                                            mentioned   \n",
       "..                                                 ...   \n",
       "459  mongodb rstudio business intelligence bi pyspa...   \n",
       "460  analyse donnees nlp extraction donnees python ...   \n",
       "461  extract transform load etl analytical skills d...   \n",
       "462  developpement web javascript php laravel feuil...   \n",
       "463  microsoft azure machine learning apprentissage...   \n",
       "\n",
       "                                           experiences  \n",
       "0    Développeur web:janv. 2023 - aujourd’hui · 2 m...  \n",
       "1    Freelance Web Developer:août 2019 - aujourd’hu...  \n",
       "2    React Js Instructor:mars 2022 - aujourd’hui · ...  \n",
       "3    Web Developer:oct. 2020 - févr. 2022 · 1 an 5 ...  \n",
       "4    Projet de fin d’études:févr. 2022 - juin 2022 ...  \n",
       "..                                                 ...  \n",
       "459                                    nan:nan,nan:nan  \n",
       "460  Data Science Intern:Oct 2022 - Present · 5 mos...  \n",
       "461  Data Scientist:Sep 2020 - Present · 2 yrs 6 mo...  \n",
       "462  Software Programmer:Jan 2023 - Present · 2 mos...  \n",
       "463  Ingénieur BI:Oct 2022 - Present · 5 mos,Member...  \n",
       "\n",
       "[434 rows x 7 columns]"
      ]
     },
     "execution_count": 1083,
     "metadata": {},
     "output_type": "execute_result"
    }
   ],
   "source": [
    "df"
   ]
  },
  {
   "cell_type": "code",
   "execution_count": 1095,
   "id": "65ed8269",
   "metadata": {},
   "outputs": [],
   "source": [
    "df = df.drop('company', axis=1)"
   ]
  },
  {
   "cell_type": "code",
   "execution_count": 1097,
   "id": "b252cb6b",
   "metadata": {},
   "outputs": [],
   "source": [
    "df = df.drop('location', axis=1)"
   ]
  },
  {
   "cell_type": "code",
   "execution_count": 1098,
   "id": "3de073a6",
   "metadata": {},
   "outputs": [
    {
     "data": {
      "text/html": [
       "<div>\n",
       "<style scoped>\n",
       "    .dataframe tbody tr th:only-of-type {\n",
       "        vertical-align: middle;\n",
       "    }\n",
       "\n",
       "    .dataframe tbody tr th {\n",
       "        vertical-align: top;\n",
       "    }\n",
       "\n",
       "    .dataframe thead th {\n",
       "        text-align: right;\n",
       "    }\n",
       "</style>\n",
       "<table border=\"1\" class=\"dataframe\">\n",
       "  <thead>\n",
       "    <tr style=\"text-align: right;\">\n",
       "      <th></th>\n",
       "      <th>URL</th>\n",
       "      <th>job_title</th>\n",
       "      <th>Name</th>\n",
       "      <th>skills</th>\n",
       "      <th>experiences</th>\n",
       "    </tr>\n",
       "  </thead>\n",
       "  <tbody>\n",
       "    <tr>\n",
       "      <th>0</th>\n",
       "      <td>https://www.linkedin.com/in/talel-kb/</td>\n",
       "      <td>web developer  software engineering student</td>\n",
       "      <td>Talel Kbaier</td>\n",
       "      <td>analyse donnees competences analytiques framew...</td>\n",
       "      <td>Développeur web:janv. 2023 - aujourd’hui · 2 m...</td>\n",
       "    </tr>\n",
       "    <tr>\n",
       "      <th>1</th>\n",
       "      <td>https://www.linkedin.com/in/omar-talbi-sfax/</td>\n",
       "      <td>freelance web developer</td>\n",
       "      <td>Omar Talbi</td>\n",
       "      <td>laravel react javascript php microsoft bot fra...</td>\n",
       "      <td>Freelance Web Developer:août 2019 - aujourd’hu...</td>\n",
       "    </tr>\n",
       "    <tr>\n",
       "      <th>2</th>\n",
       "      <td>https://www.linkedin.com/in/hassen-knani-21991...</td>\n",
       "      <td>web developer chez zetabox</td>\n",
       "      <td>Hassen Knani</td>\n",
       "      <td>management service client microsoft office ven...</td>\n",
       "      <td>React Js Instructor:mars 2022 - aujourd’hui · ...</td>\n",
       "    </tr>\n",
       "    <tr>\n",
       "      <th>3</th>\n",
       "      <td>https://www.linkedin.com/in/safwendammak/</td>\n",
       "      <td>freelance web developer</td>\n",
       "      <td>Safwen Dammak</td>\n",
       "      <td>angular phpsymfony developpement web developpe...</td>\n",
       "      <td>Web Developer:oct. 2020 - févr. 2022 · 1 an 5 ...</td>\n",
       "    </tr>\n",
       "    <tr>\n",
       "      <th>4</th>\n",
       "      <td>https://www.linkedin.com/in/oumayma-b%C3%A9hi-...</td>\n",
       "      <td>web  mobile developer 💻</td>\n",
       "      <td>Oumayma Béhi</td>\n",
       "      <td>mentioned</td>\n",
       "      <td>Projet de fin d’études:févr. 2022 - juin 2022 ...</td>\n",
       "    </tr>\n",
       "    <tr>\n",
       "      <th>...</th>\n",
       "      <td>...</td>\n",
       "      <td>...</td>\n",
       "      <td>...</td>\n",
       "      <td>...</td>\n",
       "      <td>...</td>\n",
       "    </tr>\n",
       "    <tr>\n",
       "      <th>459</th>\n",
       "      <td>https://www.linkedin.com/in/khaoula-ben-othman...</td>\n",
       "      <td>data science engineer</td>\n",
       "      <td>khaoula Ben othman</td>\n",
       "      <td>mongodb rstudio business intelligence bi pyspa...</td>\n",
       "      <td>nan:nan,nan:nan</td>\n",
       "    </tr>\n",
       "    <tr>\n",
       "      <th>460</th>\n",
       "      <td>https://www.linkedin.com/in/farah-abid-989683191/</td>\n",
       "      <td>data science enthusiast</td>\n",
       "      <td>Farah Abid</td>\n",
       "      <td>analyse donnees nlp extraction donnees python ...</td>\n",
       "      <td>Data Science Intern:Oct 2022 - Present · 5 mos...</td>\n",
       "    </tr>\n",
       "    <tr>\n",
       "      <th>461</th>\n",
       "      <td>https://www.linkedin.com/in/achref-cherif-data...</td>\n",
       "      <td>data scientist  founder  ceo of data science t...</td>\n",
       "      <td>Achref Cherif</td>\n",
       "      <td>extract transform load etl analytical skills d...</td>\n",
       "      <td>Data Scientist:Sep 2020 - Present · 2 yrs 6 mo...</td>\n",
       "    </tr>\n",
       "    <tr>\n",
       "      <th>462</th>\n",
       "      <td>https://www.linkedin.com/in/hamza-samaiy/</td>\n",
       "      <td>data science master student  works at vermeg</td>\n",
       "      <td>Hamza Samaiy</td>\n",
       "      <td>developpement web javascript php laravel feuil...</td>\n",
       "      <td>Software Programmer:Jan 2023 - Present · 2 mos...</td>\n",
       "    </tr>\n",
       "    <tr>\n",
       "      <th>463</th>\n",
       "      <td>https://www.linkedin.com/in/zitouni-amal-286b9...</td>\n",
       "      <td>ingénieur en informatique  spécialité data sci...</td>\n",
       "      <td>Zitouni Amal</td>\n",
       "      <td>microsoft azure machine learning apprentissage...</td>\n",
       "      <td>Ingénieur BI:Oct 2022 - Present · 5 mos,Member...</td>\n",
       "    </tr>\n",
       "  </tbody>\n",
       "</table>\n",
       "<p>434 rows × 5 columns</p>\n",
       "</div>"
      ],
      "text/plain": [
       "                                                   URL  \\\n",
       "0                https://www.linkedin.com/in/talel-kb/   \n",
       "1         https://www.linkedin.com/in/omar-talbi-sfax/   \n",
       "2    https://www.linkedin.com/in/hassen-knani-21991...   \n",
       "3            https://www.linkedin.com/in/safwendammak/   \n",
       "4    https://www.linkedin.com/in/oumayma-b%C3%A9hi-...   \n",
       "..                                                 ...   \n",
       "459  https://www.linkedin.com/in/khaoula-ben-othman...   \n",
       "460  https://www.linkedin.com/in/farah-abid-989683191/   \n",
       "461  https://www.linkedin.com/in/achref-cherif-data...   \n",
       "462          https://www.linkedin.com/in/hamza-samaiy/   \n",
       "463  https://www.linkedin.com/in/zitouni-amal-286b9...   \n",
       "\n",
       "                                             job_title                Name  \\\n",
       "0          web developer  software engineering student        Talel Kbaier   \n",
       "1                              freelance web developer          Omar Talbi   \n",
       "2                           web developer chez zetabox        Hassen Knani   \n",
       "3                              freelance web developer       Safwen Dammak   \n",
       "4                              web  mobile developer 💻        Oumayma Béhi   \n",
       "..                                                 ...                 ...   \n",
       "459                              data science engineer  khaoula Ben othman   \n",
       "460                            data science enthusiast          Farah Abid   \n",
       "461  data scientist  founder  ceo of data science t...       Achref Cherif   \n",
       "462       data science master student  works at vermeg        Hamza Samaiy   \n",
       "463  ingénieur en informatique  spécialité data sci...        Zitouni Amal   \n",
       "\n",
       "                                                skills  \\\n",
       "0    analyse donnees competences analytiques framew...   \n",
       "1    laravel react javascript php microsoft bot fra...   \n",
       "2    management service client microsoft office ven...   \n",
       "3    angular phpsymfony developpement web developpe...   \n",
       "4                                            mentioned   \n",
       "..                                                 ...   \n",
       "459  mongodb rstudio business intelligence bi pyspa...   \n",
       "460  analyse donnees nlp extraction donnees python ...   \n",
       "461  extract transform load etl analytical skills d...   \n",
       "462  developpement web javascript php laravel feuil...   \n",
       "463  microsoft azure machine learning apprentissage...   \n",
       "\n",
       "                                           experiences  \n",
       "0    Développeur web:janv. 2023 - aujourd’hui · 2 m...  \n",
       "1    Freelance Web Developer:août 2019 - aujourd’hu...  \n",
       "2    React Js Instructor:mars 2022 - aujourd’hui · ...  \n",
       "3    Web Developer:oct. 2020 - févr. 2022 · 1 an 5 ...  \n",
       "4    Projet de fin d’études:févr. 2022 - juin 2022 ...  \n",
       "..                                                 ...  \n",
       "459                                    nan:nan,nan:nan  \n",
       "460  Data Science Intern:Oct 2022 - Present · 5 mos...  \n",
       "461  Data Scientist:Sep 2020 - Present · 2 yrs 6 mo...  \n",
       "462  Software Programmer:Jan 2023 - Present · 2 mos...  \n",
       "463  Ingénieur BI:Oct 2022 - Present · 5 mos,Member...  \n",
       "\n",
       "[434 rows x 5 columns]"
      ]
     },
     "execution_count": 1098,
     "metadata": {},
     "output_type": "execute_result"
    }
   ],
   "source": [
    "df"
   ]
  },
  {
   "cell_type": "code",
   "execution_count": null,
   "id": "a4f44c10",
   "metadata": {},
   "outputs": [],
   "source": []
  },
  {
   "cell_type": "code",
   "execution_count": null,
   "id": "de184e54",
   "metadata": {},
   "outputs": [],
   "source": []
  },
  {
   "cell_type": "code",
   "execution_count": null,
   "id": "92dbc240",
   "metadata": {},
   "outputs": [],
   "source": []
  },
  {
   "cell_type": "code",
   "execution_count": 1084,
   "id": "7f7519bc",
   "metadata": {
    "scrolled": true
   },
   "outputs": [],
   "source": [
    "import nltk\n",
    "from nltk.tokenize import word_tokenize\n",
    "from nltk.corpus import stopwords\n",
    "from nltk.stem import WordNetLemmatizer\n",
    "from sklearn.feature_extraction.text import TfidfVectorizer\n",
    "\n",
    "# Charger les données de texte brut\n",
    "text_data = [\"Spring Boot, Elasticsearch, ActiveMQ, Apache Kafka, Postman, Ingénierie, Travail d’équipe, Leadership, Java, Python (langage de programmation), HTML5, Feuilles de style en cascade (CSS), Adobe Photoshop\",\n",
    "             \"Python, Pandas, NumPy, Scikit-learn, Matplotlib, Keras, TensorFlow, Data Science, Machine Learning, Jupyter Notebook\",\n",
    "             \"Java, Spring Boot, Hibernate, AngularJS, Node.js, RESTful Web Services, PostgreSQL, Docker, Jenkins, Agile Methodologies\"]\n",
    "\n",
    "# Tokenisation\n",
    "tokenized_data = [word_tokenize(text) for text in text_data]\n",
    "\n",
    "# Suppression des stop words\n",
    "stop_words = set(stopwords.words('french')) # ou 'english' selon la langue des données\n",
    "filtered_data = [[word for word in tokens if word.lower() not in stop_words] for tokens in tokenized_data]\n",
    "\n",
    "# Lemmatisation\n",
    "lemmatizer = WordNetLemmatizer()\n",
    "lemmatized_data = [[lemmatizer.lemmatize(word) for word in tokens] for tokens in filtered_data]\n",
    "\n",
    "# Vectorisation\n",
    "vectorizer = TfidfVectorizer()\n",
    "X = vectorizer.fit_transform([' '.join(tokens) for tokens in lemmatized_data])\n"
   ]
  },
  {
   "cell_type": "code",
   "execution_count": 1085,
   "id": "9d11a70d",
   "metadata": {},
   "outputs": [],
   "source": [
    "df1=df.copy()"
   ]
  },
  {
   "cell_type": "code",
   "execution_count": 1086,
   "id": "e447ef7c",
   "metadata": {},
   "outputs": [
    {
     "data": {
      "text/html": [
       "<div>\n",
       "<style scoped>\n",
       "    .dataframe tbody tr th:only-of-type {\n",
       "        vertical-align: middle;\n",
       "    }\n",
       "\n",
       "    .dataframe tbody tr th {\n",
       "        vertical-align: top;\n",
       "    }\n",
       "\n",
       "    .dataframe thead th {\n",
       "        text-align: right;\n",
       "    }\n",
       "</style>\n",
       "<table border=\"1\" class=\"dataframe\">\n",
       "  <thead>\n",
       "    <tr style=\"text-align: right;\">\n",
       "      <th></th>\n",
       "      <th>URL</th>\n",
       "      <th>job_title</th>\n",
       "      <th>location</th>\n",
       "      <th>Name</th>\n",
       "      <th>company</th>\n",
       "      <th>skills</th>\n",
       "      <th>experiences</th>\n",
       "    </tr>\n",
       "  </thead>\n",
       "  <tbody>\n",
       "  </tbody>\n",
       "</table>\n",
       "</div>"
      ],
      "text/plain": [
       "Empty DataFrame\n",
       "Columns: [URL, job_title, location, Name, company, skills, experiences]\n",
       "Index: []"
      ]
     },
     "execution_count": 1086,
     "metadata": {},
     "output_type": "execute_result"
    }
   ],
   "source": [
    "df1[df1['skills'].isnull()]"
   ]
  },
  {
   "cell_type": "code",
   "execution_count": 1087,
   "id": "fd699870",
   "metadata": {},
   "outputs": [],
   "source": [
    "df1=df1.dropna(subset=[\"skills\"])"
   ]
  },
  {
   "cell_type": "code",
   "execution_count": 1088,
   "id": "57930985",
   "metadata": {
    "scrolled": true
   },
   "outputs": [
    {
     "data": {
      "text/html": [
       "<div>\n",
       "<style scoped>\n",
       "    .dataframe tbody tr th:only-of-type {\n",
       "        vertical-align: middle;\n",
       "    }\n",
       "\n",
       "    .dataframe tbody tr th {\n",
       "        vertical-align: top;\n",
       "    }\n",
       "\n",
       "    .dataframe thead th {\n",
       "        text-align: right;\n",
       "    }\n",
       "</style>\n",
       "<table border=\"1\" class=\"dataframe\">\n",
       "  <thead>\n",
       "    <tr style=\"text-align: right;\">\n",
       "      <th></th>\n",
       "      <th>URL</th>\n",
       "      <th>job_title</th>\n",
       "      <th>location</th>\n",
       "      <th>Name</th>\n",
       "      <th>company</th>\n",
       "      <th>skills</th>\n",
       "      <th>experiences</th>\n",
       "    </tr>\n",
       "  </thead>\n",
       "  <tbody>\n",
       "  </tbody>\n",
       "</table>\n",
       "</div>"
      ],
      "text/plain": [
       "Empty DataFrame\n",
       "Columns: [URL, job_title, location, Name, company, skills, experiences]\n",
       "Index: []"
      ]
     },
     "execution_count": 1088,
     "metadata": {},
     "output_type": "execute_result"
    }
   ],
   "source": [
    "df1[df1['skills'].isnull()]"
   ]
  },
  {
   "cell_type": "code",
   "execution_count": 1089,
   "id": "0dc6598f",
   "metadata": {},
   "outputs": [],
   "source": [
    "from sklearn.model_selection import train_test_split\n",
    "\n",
    "# Diviser les données en ensembles de formation et de test\n",
    "X_train, X_test, y_train, y_test = train_test_split(df1['job_title'], df1['skills'], test_size=0.2, random_state=42)\n"
   ]
  },
  {
   "cell_type": "code",
   "execution_count": 1090,
   "id": "b7d0c743",
   "metadata": {},
   "outputs": [
    {
     "name": "stdout",
     "output_type": "stream",
     "text": [
      "Accuracy: 0.05747126436781609\n",
      "                                                                                                                                                                                                                                                                                                                                                                                                                                                                                                                                                                                                                                                            precision    recall  f1-score   support\n",
      "\n",
      "                                                                                                                                                                                                                                                              analyse donnees competences analytiques framework symfony wordpress microsoft power bi python langage programmation bootstrap php leadership oracle database montage video microsoft excel java adobe photoshop mongodb javascript microsoft powerpoint microsoft word html feuilles style cascade css android studio gestion communaute ibm spss mysql communication francais english arabe       0.00      0.00      0.00         1\n",
      "                                                                                                                                                                                                                                     analyse donnees nlp extraction donnees python langage programmation deep learning apprentissage supervise natural language toolkit nltk science donnees intelligence artificielle ia apprentissage automatique programmation neurolinguistique pnl laravel html feuilles style cascade css marketing marketing digital ingenieurs patisserie marketing numerique commerce detail ecommerce adobe photoshop python sql       0.00      0.00      0.00         1\n",
      "                                                                                                                                                                                                                                                                                                                                                                                                                                                                                                                                                                                                              analyse donnees science donnees data science       0.00      0.00      0.00         1\n",
      "                                                                                                                                                                                                                                                                                                                                                                                                                                                   android development financial accounting aspnet core microsoft power bi microsoft power automate microsoft powerapps microsoft sql server java langage modelisation unifie uml developpement android bi       0.00      0.00      0.00         1\n",
      "                                                                                                                                                                                                                                                                                                                                                                                                               anglais ingenierie gestion projet communication formation resolution problemes presentations microsoft excel leadership analyse donnees langage modelisation unifie uml java langage programmation python langage programmation unix matlab       0.00      0.00      0.00         1\n",
      "                                                                                                                                                                                                                                                                                                                                                             angular framework ionic prestashop wordpress project management laravel android java bootstrap javascript jquery ajax mysql microsoft sql server xml adobe photoshop html mysql microsoft office php linux sql firebase woocommerce cascading style sheets css phonegap adobe phonegap smarty       0.00      0.00      0.00         1\n",
      "azure databricks android studio blockchain cloud computing machine learning operations mlops talend apache spark sql server integration services ssis sql server reporting services ssrs pytorch cnn annotation reseau long shortterm memory lstm visualisation donnees reseau neurones recurrents reseaux neurones convolutifs linux scala intelligence artificielle ia statistiques algebre lineaire services web gestion temps analyse donnees finance machine learning deep learning microsoft office hbase langage hiveql hadoop mysql php nosql sql plsql javascript html feuilles style cascade css communication travail d'equipe francais anglais       0.00      0.00      0.00         1\n",
      "                                                 competences analytiques science donnees sens l'organisation intelligence artificielle ia statistiques modelisation predictive sql machine learning microsoft power bi java jakarta ee java swing eclipse mysql php conception bases donnees programmation orientee objet poo modelisation donnees simulation monte carlo theorie jeux ingenierie financiere analyse donnees modelisation statistique visualisation donnees gestion risques langages programmation etude series temporelles phpmyadmin java python langage programmation r microsoft excel sas linux oracle sql developer latex management       0.00      0.00      0.00         1\n",
      "                                                                                                                                                        computer vision microsoft azure visual studio scripting data collection angular web services api https pandas software data preparation gestion d'equipe communication software development sponsoring leadership d'equipe management bootstrap frontend development computer science artificial intelligence machine learning deep learning typescript mean stack data science numpy natural language processing nlp matplotlib data extraction flutter nodejs python programming language pandas       0.00      0.00      0.00         1\n",
      "                                                                                                                                                                                                                                                                                                                                                                                                                                                                                                                           computer vision sql python nlp r deep learning machine learning programmation orientee objet poo spring boot java net framework       0.00      0.00      0.00         1\n",
      "                                                                                                                                                                                                                                                                                                                                core network telecommunications troubleshooting nsn gsm routing voip sip umts universal mobile telecommunications system umts technical support atca training nokia voip servers sigtran cisco networking integration networking network virtualization wireless technologies valueadded services vas lte business english       0.00      0.00      0.00         1\n",
      "                                                                                                                                                                                                                                                                                                                                                                                                                                                                                     data analysis java swing web scraping machine learning python langage programmation logiciel r logiciel sas data mining statistiques langage programmation javascript       0.00      0.00      0.00         1\n",
      "                                                                                                                                                                                                                                                                                                                                                                                                                                               data science statistics data analytics data analysis programming language objectoriented programming oop php data wrangling python programming language machine learning r developpement web sql java linux       0.00      0.00      0.00         1\n",
      "                                                                                                                                                                                                                                                                                                                                                                                                                                                                                                                                                                               deep learning python sql intelligence artificielle ia communication anglais       0.00      0.00      0.00         1\n",
      "                                                                                                                                                                                                                                                                                                                                                                        design d'experience utilisateur ux developpement fullstack infographiste developpement web social media marketing javascript adobe photoshop adobe illustrator nodejs github reactjs mongodb nosql brand designer developpement web backend expressjs python langage programmation       0.00      0.00      0.00         1\n",
      "                                                                                                                                                                                                                                                                                                                                                      developpement d'applications mobiles flutter android ios dart java html feuilles style cascade css symfony php scrum devops javascript nodejs developpement d'api mysql sql mongodb uml linux android studio sdk android vmware microsoft excel programmation logique arabe anglais francais italien       0.00      0.00      0.00         1\n",
      "                                                                                                                                              developpement logiciels developpement fullstack testing serveur windows design graphique developpement web developpement android developpement frontend developpement web backend creation contenu web graphique html java javascript jquery nodejs json reactjs php cybersecurite redaction contenu web scrum reprise apres sinistre langages programmation services web programmation adobe photoshop python langage programmation systemes gestion contenu cms mysql langage programmation ruby hibernate       0.00      0.00      0.00         1\n",
      "                                                                                                                                                                                                                                                                                                                                                                                                                                                                                                                                                                                                                                     english french arabic       0.00      0.00      0.00         1\n",
      "                                                                                                                                                                                                                                                                                                                                                                                                                                                                                                                                    erp android net core windev java aspnet flutter databases arduino microsoft sql server matlab angular aspnet core diva       0.00      0.00      0.00         1\n",
      "                                                                                                                                                                                                                                                                                                                                                                                             expressjs nodejs reactjs javascript unified modeling language uml strategy leadership communication problem solving french spring boot django rest framework react native postgresql mongodb sql ionic framework cascading style sheets css angularjs english       0.00      0.00      0.00         1\n",
      "                                                                                                                                                                                                                                                                                                                                                                                           flutter ios android reactjs nodejs machine learning user experience ux frontend development python programming language mongodb angularjs javascript tensorflow mobile application development expressjs machine learning algorithms artificial neural networks       0.00      0.00      0.00         1\n",
      "                                                                                                                                                                                                                                                                                                                                                                                                                                                                         flutter robotics iot programming siemens tia portal video editing raspberry pi machine learning effects sql python vhdl matlab labview dart arduino computer vision deep learning       0.00      0.00      0.00         1\n",
      "                                                                                                                                                                                                                                                                                                                                                                                                                                 flutter swift ios developpement ios applications mobiles flutter sql javascript swift objectivec travail d'equipe developpement d'applications mobiles developpement dapplications iphone dart swift programming language       0.00      0.00      0.00         1\n",
      "                                                                                                                                                                                                                                                                                                                                                                                              fullstack development graphic design branding identity software development digital marketing commercial photography react javascript css mongodb mysql php java adobe design programs adobe photoshop adobe illustrator adobe premiere pro video production       0.00      0.00      0.00         1\n",
      "                                                                                                                                                                                                                                                                                                                                                                                                                                                                                                                                                                                                                                            gestion projet       0.00      0.00      0.00         1\n",
      "                                                                                                                                                                                                                                                                                                                                 git spring framework java android development angular laravel javafx codename one mysql javascript php sql plsql python programming language html css adobe photoshop symfony framework android studio java swing deep learning machine learning big data spark hive sqoop apache spark scikitlearn matplotlib opencv jee       0.00      0.00      0.00         1\n",
      "                                                                                                                                                                                                                                                                                                                                                                                                                                                                                                                                                                                                                                                      html       0.00      0.00      0.00         1\n",
      "                                                                                                                                                                                                                                                                                                                                                                                                                                                                                                                                                                         html javascript feuilles style cascade css mysql php net jquery wordpress laravel       0.00      0.00      0.00         1\n",
      "                                                                                                                                                                                                                                                                                                                                                                                                                                                                                                        informatique science java visual basic net vbnet html resolution problemes communication presentations leadership formation service client anglais       0.00      0.00      0.00         1\n",
      "                                                                                                                                      ios development xcode swift programming language objectivec jira subversion bitbucket cocoapods cascading style sheets css javascript nodejs reactjs mongodb mongoose odm sql sequelizejs mysql agile methodologies postgresql expressjs project management value stream mapping six sigma lean six sigma amdec failure mode effects analysis fmea process engineering quality management lean manufacturing continuous improvement quality improvement pdca cycle fullstack development ubuntu microsoft powerpoint       0.00      0.00      0.00         1\n",
      "                                                                                                                                                                                                                                                                                                                                                                                                                                                                                                                                  jakarta ee java developpement web spring boot angular framework spring tensorflow python langage programmation angularjs       0.00      0.00      0.00         1\n",
      "                                                                                                                                                                                                                                                                                                                                                                                                                                                                                        java engineering deep learning natural language processing nlp docker fastapi javascript javaee php sql symfony laravel flutter nodejs reactjs android development       0.00      0.00      0.00         1\n",
      "                                                                                                                                                                                                                                                                                                                                     java fx methodes agiles java java fx framework symfony adobe photoshop vente design microsoft excel gestion projet adobe illustrator sql langage programmation php phpstorm codenameone html analyse financiere python langage programmation programmation orientee objet poo programmation theorie graphes automates       0.00      0.00      0.00         1\n",
      "                                                                                                                                                                                                                                                                                                                                                                                                         java javascript django business intelligence bi cloud applications mysql artificial intelligence machine learning ecommerce net framework web development nosql r programming language oracle database big data agile methodologies data analysis       0.00      0.00      0.00         1\n",
      "                                                                                                                                                                                                                                                                                                                                                                                                                                                                             java linux php jee javascript java enterprise edition sql mysql python html xml android oracle vhdl microsoft office cascading style sheets css unified modeling language uml       0.00      0.00      0.00         1\n",
      "                                                                                                                                                                                                                                                                                                                                                                                                                                                               javascript aspnet mvc developpement android net framework angular sql python cascading style sheets css arduino android microsoft excel microsoft office leadership typescript raspberry pi       0.00      0.00      0.00         1\n",
      "                                                                                                                                                                                                                                                                                                                                                                                                                                                                                                                             javascript docker spring boot java keycloak talend open studio angular nodejs expressjs mongodb bootstrap mysql visual studio       0.00      0.00      0.00         1\n",
      "                                                                                                                                                                                                                                                                                                                                                                                                                                                                                                                                                                                                   javascript mongodb nodejs html leadership communication       0.00      0.00      0.00         1\n",
      "                                                                                                                                                                                                                                                                                                                                                                                                                                                                                              javascript react native vuejs xcode ionic framework angularjs feuilles style cascade css net core mongodb mysql jquery android studio html git nosql anglais       0.00      0.00      0.00         1\n",
      "                                                                                                                                                                                                                                                                                                                                                                                                                                                                                                                kotlin developpement android dart flutter android studio reactjs javascript nodejs ethersjs spring boot net framework mongodb git adobe xd       0.00      0.00      0.00         1\n",
      "                                                                                                                                                                                                                                                                                                                               kotlin flutter developpement android nodejs ecommerce gestion projet conception logiciels administration bases donnees conception bases donnees java sql nosql python android php framework spring linux unity developpement d'applications web realite augmentee mvc web services adsense firebase vuforia ar reactjs json       0.00      0.00      0.00         1\n",
      "                                                                                                                                                                                                                                                                                                                                                                                                                                                                                                                                                                                   laravel cascading style sheets css web development javascript mysql php       0.00      0.00      0.00         1\n",
      "                                                                                                                                                                                                                                                                                                                                                                                                                                                                                                              laravel odoo php javascript bootstrap mysql python langage programmation postgresql sql adobe premiere pro adobe photoshop adobe illustrator       0.00      0.00      0.00         1\n",
      "                                                                                                                                                                                                                                machine learning apprentissage supervise langage programmation javascript methodes agiles feuilles style cascade css sql plsql microsoft sql server reactjs microsoft power bi python langage programmation extract transform load etl analyse donnees bases donnees developpement nouvelles affaires competences analytiques sql server integration services ssis talend text mining natural language processing nlp bert       0.00      0.00      0.00         1\n",
      "                                                                                                                                                                                                                                                                                                                                                                                                                                                                                       machine learning python nosql statistiques java enterprise edition nodejs mysql php sql html ubuntu r git javascript management travail d'equipe symfony qt creator       0.00      0.00      0.00         1\n",
      "                                                                                                                                                                                                                                                                                                                                                                                                                                                         mapreduce hadoop data analysis data warehousing data visualization big data analytics machine learning mysql php plsql framework symfony python javafx feuilles style cascade css java javascript       0.00      0.00      0.00         1\n",
      "                                                                                                                                                                                                                                                                                                                                                                                                                                                                                                                                                                                                                                                 mentioned       0.06      1.00      0.11         5\n",
      "                                                                                                                                                                                                                                                                                                                                                                                                                        methodes agiles django deep learning java langage modelisation unifie uml python langage programmation reactjs developpement web vision ordinateur tkinter intelligence artificielle ia administration bases donnees oracle hadoop       0.00      0.00      0.00         1\n",
      "                                                                                                                                                                                                                                                                                                                                                                                                                                                                                                microsoft excel finance commerce marche monetaire economie monetaire anglais business science donnees sql python langage programmation exploration donnees       0.00      0.00      0.00         1\n",
      "                                                                                                                                                                                                                                                    microsoft powerapps sharepoint microsoft power automate developpement logiciels design graphique technologies l'information python adobe photoshop adobe illustrator git sql anglais francais arabe sdl ardiuno qt linux java github pack office adobe indesign scrum intelligence artificielle ia programmation orientee objet poo developpement web backend microsoft office symfony javafx codename       0.00      0.00      0.00         1\n",
      "                                                                                                                                                                                                                                                                                                                                                                                                                                                                      mobile application development pcap flutter python programming language java django android mongodb objectoriented programming oop nodejs rest apis html mysql flask adobe photoshop       0.00      0.00      0.00         1\n",
      "                                                                                                                                                                                                                                                                                                                                                                                                                                                                                                                                                    mongodb rstudio business intelligence bi pyspark big data machine learning python programming language       0.00      0.00      0.00         1\n",
      "                                                                                                                                                                                                                                                                                                                                                                                                                                                                                                                                   mysql langage programmation java python langage programmation flask spring boot big data deep learning machine learning       0.00      0.00      0.00         1\n",
      "                                      mysql transport layer security tls deep learning git flutter data analysis data warehousing statistical data analysis big data data modeling data management data analytics data visualization data science big data analytics sql server integration services ssis sql microsoft sql server sql server reporting services ssrs sql server analysis services ssas sqlplus extract transform load etl machine learning time series analysis data mining sql server management studio python programming language r programming language spring boot angularjs pyspark java microsoft power bi flask analytical skills       0.00      0.00      0.00         0\n",
      "                                                                                                                                                                                                                                                                                                                                                                                         natural language processing nlp python programming language talend programming language java sql angular android packet tracer machine learning pytorch javascript jakarta ee plsql cascading style sheets css php serviceoriented architecture soa vhdl java rmi       0.00      0.00      0.00         1\n",
      "                                                                                                                                                                                                                                                                                       natural language processing nlp transformer bert reactjs nodejs mongodb expressjs python programming language flask mern stack firebase research problem solving leadership communication data analysis machine learning deep learning computer vision android development symfony framework artificial intelligence career management data science java python php       0.00      0.00      0.00         1\n",
      "                                                                                                                                                                                                                                                                                                                                                                                                                                                                                                                                         nodejs mongodb reactjs javascript react native angularjs html feuilles style cascade css git sql plsql typescript       0.00      0.00      0.00         1\n",
      "                                                                                                                                                                                                                                                                                                                                                                                                                                                                        nosql intelligence emotionnelle nodejs analyse donnees programmation angular java sql javascript linux php flutter mysql jee modele mvc spring spring boot keycloak plsql big data       0.00      0.00      0.00         1\n",
      "                                                                                                                                                                                                                                                                                                                         objectivec javascript reactjs react native swift langage programmation developpement ios loopback developpement logiciel services web intelligence artificielle methodes agiles scrum swift php feuilles style cascade css mysql jquery mongodb services web restful middleware twitter bootstrap android drupal codeigniter ajax       0.00      0.00      0.00         1\n",
      "                                                                                                                                                                                                                                                                                                                                                                                                                                                                                                                                               php mongodb angular ionic kotlin android aspnet bootstrap flutter spring boot jpql mqtt java javascript sql       0.00      0.00      0.00         1\n",
      "                                                                                                                                                                                                                                                                                                                                                                                                              problem solving web development backend web development english second language esl research api development postman api rest apis frontend development fullstack development arabic reactjs training french adobe illustrator figma angular       0.00      0.00      0.00         1\n",
      "                                                                                                                                                                                                                                                                                               programmation anglais teamcenter systemes embarques developpement android applications mobiles applications web arduino android studio developpement d'applications mobiles test d'applications mobiles ardun java php developpement web sdk android travail d'equipe scrum javascript symfony applications mobile framework spring spring boot css arduino       0.00      0.00      0.00         1\n",
      "                                                                                                                                                                                                                                                                                                                                                                                                                                                                                                                programming languages web development php laravel symfony java unified modeling language uml sql jee bootstrap python programming language       0.00      0.00      0.00         1\n",
      "                                                                                                                                                                                                                                                                                                                                                                                                                                                                                                                   programming python programming language database development frontend development fullstack development html cascading style sheets css       0.00      0.00      0.00         1\n",
      "                                                                                                                                                                                                                                             python langage programmation analyse donnees traitement automatique langage naturel apprentissage automatique developpement frontend adobe photoshop communication marketing digital javascript jquery teamwork wordpress python programming language sql github data analysis data modeling data visualization data science machine learning convolutional neural networks cnn recurrent neural networks rnn       0.00      0.00      0.00         1\n",
      "                                                                                                                                                                                                                                                                                                                                                                                                                                                                                                                                      python langage programmation java anglais deep learning machine learning net framework spring boot framework symfony       0.00      0.00      0.00         1\n",
      "                                                                                                                                                                                                                                                                                                                                                                                                                                                                                                                                                                                                                                              python linux       0.00      0.00      0.00         1\n",
      "                                                                                                                                                                                                                                                                                                                                                                                                                                      python machine learning deep learning java javascript github sql server integration services ssis langage modelisation unifie uml plsql framework spring microsoft power bi r traitement automatique langage naturel       0.00      0.00      0.00         1\n",
      "                                                                                                                                                                                                                                                                                                                                                                                                                                                                                                                                                                                                                               python programming language       0.00      0.00      0.00         1\n",
      "                                                                                                                                                                                                                                                                                                                                                                                                      python programming language django rest framework django web scraping deep learning angularjs python langage programmation feuilles style cascade css javascript php firebase resolution problemes service client systemes embarques matlab embedded       0.00      0.00      0.00         1\n",
      "                                                                                                                                                                                                                                                                                               r sql python langage programmation langage modelisation unifie uml mongodb nosql scrum microsoft power bi css microsoft office java net mysql git anglais francais allemand informatique decisionnelle administration bases donnees architecture logicielle data warehouse big data public speaking communication leadership teamwork team leadership arabe       0.00      0.00      0.00         1\n",
      "                                                                                                                                                                                                                                                                                                                                                                                                                                                                                                                              reactjs nextjs reduxjs nodejs typescript angularjs spring boot java mongodb expressjs socketio javascript sass webrtc peerjs       0.00      0.00      0.00         1\n",
      "                                                                 reseaux neurones artificiels visualisation donnees modelisation langages programmation intelligence artificielle ia informatique decisionnelle algorithmes programmation pytorch mathematiques analytique keras deep learning python langage programmation sql processus stochastiques recherche operationnelle optimisation statistiques analyse donnees traitement signal traitement limage html langage programmation java r matlab plsql tensorflow langage modelisation unifie uml probabilites outils daide decision systeme gestion base donnees sgbd prolog reconnaissance formes       0.00      0.00      0.00         1\n",
      "                                                                                                                                                                                                                                                                                                                 search engine optimization seo git nodejs web development reactjs cascading style sheets css javascript typescript firebase webpack frontend development npm yarn nextjs english mern stack flexible schedule problem solving teamwork tailwind css html sass ruby ruby rails backend web development fullstack development heroku github       0.00      0.00      0.00         1\n",
      "                                                                                                                                                                                                                                                                                                                                                   shopify power bi data analysis team leadership scrum machine learning data science python programming language teamwork communication leadership graphic design community management web development javascript reactjs adobe photoshop frontend development adobe illustrator laravel git github mysql       0.00      0.00      0.00         1\n",
      "                                                                                                                                                                                                                                                                                                                                                                                                                                                                slack flutter dart android development agile methodologies gitlab firebase amazon web services aws jira solution architecture team motivation android kotlin java conception logiciels git       0.00      0.00      0.00         1\n",
      "                                                                                                                                                                                                                                                                                                                                                                                                                                                                                                                                                                                                                               sql application development       0.00      0.00      0.00         1\n",
      "                                                                                                                                                                                                                                                                                                                                                                                                                                                                                                                                   sql github html javascript node js mongodb express js python boostraap start uml api postman reactjs git apache cordova       0.00      0.00      0.00         1\n",
      "                                                                                                                                                                                                                                                                                                                                                                                                                                                                                                 sql server integration services ssis sql python langage programmation redaction rapport analyse donnees mongodb gestion projet qlik sense talend qlikview       0.00      0.00      0.00         1\n",
      "                                                                                                                                                                                                                                                                                        sql team leadership presentations computer science coding practices data mining communication team management software development artificial intelligence data science machine learning programming data analysis data visualization python microsoft office vbnet matlab latex web scraping data cleaning lunix time series analysis python programming language       0.00      0.00      0.00         1\n",
      "                                                                                                                                                                                                                                                                                                                                                                                                                                                             statistics data analysis big data python programming language data mining sql java laravel php problem solving critical thinking business intelligence bi nosql machine learning data science       0.00      0.00      0.00         1\n",
      "                                                                                                                                                                                                                                                                                                                                                                                                                                                              unity redux reactjs nodejs flutter unity mongodb hooks react nest js developpement d'applications mobiles developpement web developpement jeux mobiles developpement produits technologiques       0.00      0.00      0.00         1\n",
      "                                                                                                                                                                                                                                                                                                                                                                                                          visual basic applications vba microsoft excel ingenierie gestion projet anglais competences analytiques analyse donnees technologies l'information recherche ingenieurs reseaux informatiques big data developpement logiciels developpement web       0.00      0.00      0.00         1\n",
      "                                                                                                                                                                                                     web development javascript web services web applications programming web design agile methodologies security scrum search engine optimization seo graphic design web analytics responsive web design web project management frontend development cascading style sheets css mysql php jquery html symfony typescript cli webstorm expressjs sql java angularjs laravel jee json ajax git aspnet mongodb amazon web services aws unix linux management       0.00      0.00      0.00         1\n",
      "\n",
      "                                                                                                                                                                                                                                                                                                                                                                                                                                                                                                                                                                                                                                                  accuracy                           0.06        87\n",
      "                                                                                                                                                                                                                                                                                                                                                                                                                                                                                                                                                                                                                                                 macro avg       0.00      0.01      0.00        87\n",
      "                                                                                                                                                                                                                                                                                                                                                                                                                                                                                                                                                                                                                                              weighted avg       0.00      0.06      0.01        87\n",
      "\n"
     ]
    },
    {
     "name": "stderr",
     "output_type": "stream",
     "text": [
      "C:\\Users\\guira\\anaconda3\\lib\\site-packages\\sklearn\\metrics\\_classification.py:1318: UndefinedMetricWarning:\n",
      "\n",
      "Precision and F-score are ill-defined and being set to 0.0 in labels with no predicted samples. Use `zero_division` parameter to control this behavior.\n",
      "\n",
      "C:\\Users\\guira\\anaconda3\\lib\\site-packages\\sklearn\\metrics\\_classification.py:1318: UndefinedMetricWarning:\n",
      "\n",
      "Recall and F-score are ill-defined and being set to 0.0 in labels with no true samples. Use `zero_division` parameter to control this behavior.\n",
      "\n",
      "C:\\Users\\guira\\anaconda3\\lib\\site-packages\\sklearn\\metrics\\_classification.py:1318: UndefinedMetricWarning:\n",
      "\n",
      "Precision and F-score are ill-defined and being set to 0.0 in labels with no predicted samples. Use `zero_division` parameter to control this behavior.\n",
      "\n",
      "C:\\Users\\guira\\anaconda3\\lib\\site-packages\\sklearn\\metrics\\_classification.py:1318: UndefinedMetricWarning:\n",
      "\n",
      "Recall and F-score are ill-defined and being set to 0.0 in labels with no true samples. Use `zero_division` parameter to control this behavior.\n",
      "\n",
      "C:\\Users\\guira\\anaconda3\\lib\\site-packages\\sklearn\\metrics\\_classification.py:1318: UndefinedMetricWarning:\n",
      "\n",
      "Precision and F-score are ill-defined and being set to 0.0 in labels with no predicted samples. Use `zero_division` parameter to control this behavior.\n",
      "\n",
      "C:\\Users\\guira\\anaconda3\\lib\\site-packages\\sklearn\\metrics\\_classification.py:1318: UndefinedMetricWarning:\n",
      "\n",
      "Recall and F-score are ill-defined and being set to 0.0 in labels with no true samples. Use `zero_division` parameter to control this behavior.\n",
      "\n"
     ]
    }
   ],
   "source": [
    "from sklearn.feature_extraction.text import TfidfVectorizer\n",
    "from sklearn.svm import SVC\n",
    "from sklearn.metrics import accuracy_score, classification_report\n",
    "\n",
    "# Vectoriser les données textuelles en utilisant TF-IDF\n",
    "vectorizer = TfidfVectorizer()\n",
    "X_train_vec = vectorizer.fit_transform(X_train)\n",
    "X_test_vec = vectorizer.transform(X_test)\n",
    "\n",
    "# Entraîner un modèle SVM\n",
    "svm = SVC(kernel='linear')\n",
    "svm.fit(X_train_vec, y_train)\n",
    "\n",
    "# Prédire les compétences à partir des titres de poste de test\n",
    "y_pred = svm.predict(X_test_vec)\n",
    "\n",
    "# Évaluer les performances du modèle\n",
    "print('Accuracy:', accuracy_score(y_test, y_pred))\n",
    "print(classification_report(y_test, y_pred))\n"
   ]
  },
  {
   "cell_type": "code",
   "execution_count": 1091,
   "id": "62408264",
   "metadata": {},
   "outputs": [
    {
     "name": "stdout",
     "output_type": "stream",
     "text": [
      "Precision: 0.0006921373200442967\n",
      "Recall: 0.011904761904761904\n",
      "F1 score: 0.0013082155939298794\n"
     ]
    },
    {
     "name": "stderr",
     "output_type": "stream",
     "text": [
      "C:\\Users\\guira\\anaconda3\\lib\\site-packages\\sklearn\\metrics\\_classification.py:1318: UndefinedMetricWarning:\n",
      "\n",
      "Precision is ill-defined and being set to 0.0 in labels with no predicted samples. Use `zero_division` parameter to control this behavior.\n",
      "\n",
      "C:\\Users\\guira\\anaconda3\\lib\\site-packages\\sklearn\\metrics\\_classification.py:1318: UndefinedMetricWarning:\n",
      "\n",
      "Recall is ill-defined and being set to 0.0 in labels with no true samples. Use `zero_division` parameter to control this behavior.\n",
      "\n"
     ]
    }
   ],
   "source": [
    "from sklearn.metrics import precision_score, recall_score, f1_score, roc_auc_score\n",
    "\n",
    "# Calculer les métriques d'évaluation\n",
    "precision = precision_score(y_test, y_pred, average='macro')\n",
    "recall = recall_score(y_test, y_pred, average='macro')\n",
    "f1 = f1_score(y_test, y_pred, average='macro')\n",
    "#roc_auc = roc_auc_score(y_test, y_pred, multi_class='ovr')\n",
    "\n",
    "# Afficher les métriques d'évaluation\n",
    "print('Precision:', precision)\n",
    "print('Recall:', recall)\n",
    "print('F1 score:', f1)\n",
    "#print('ROC AUC score:', roc_auc)\n"
   ]
  },
  {
   "cell_type": "code",
   "execution_count": 1099,
   "id": "acd09d60",
   "metadata": {},
   "outputs": [
    {
     "name": "stdout",
     "output_type": "stream",
     "text": [
      "L'accuracy de la qualité des données est :  1.0\n"
     ]
    }
   ],
   "source": [
    "import pandas as pd\n",
    "\n",
    "# Calculer la précision des valeurs manquantes\n",
    "missing_values_count = df.isnull().sum()\n",
    "total_cells = np.product(df.shape)\n",
    "total_missing = missing_values_count.sum()\n",
    "accuracy = 1 - (total_missing / total_cells)\n",
    "\n",
    "# Afficher le résultat\n",
    "print(\"L'accuracy de la qualité des données est : \", accuracy)\n"
   ]
  },
  {
   "cell_type": "code",
   "execution_count": null,
   "id": "3517ced6",
   "metadata": {},
   "outputs": [],
   "source": []
  },
  {
   "cell_type": "code",
   "execution_count": null,
   "id": "38158ef3",
   "metadata": {},
   "outputs": [],
   "source": []
  },
  {
   "cell_type": "code",
   "execution_count": null,
   "id": "1bfca79e",
   "metadata": {},
   "outputs": [],
   "source": []
  },
  {
   "cell_type": "code",
   "execution_count": null,
   "id": "eb4d1427",
   "metadata": {},
   "outputs": [],
   "source": []
  },
  {
   "cell_type": "code",
   "execution_count": 60,
   "id": "052f9642",
   "metadata": {},
   "outputs": [],
   "source": [
    "#df.to_excel('cv1.xlsx')"
   ]
  },
  {
   "cell_type": "code",
   "execution_count": 61,
   "id": "15f46aa0",
   "metadata": {},
   "outputs": [],
   "source": [
    "#df.to_csv('your_file.csv', index=False)"
   ]
  },
  {
   "cell_type": "code",
   "execution_count": null,
   "id": "055fad7e",
   "metadata": {},
   "outputs": [],
   "source": []
  }
 ],
 "metadata": {
  "kernelspec": {
   "display_name": "Python 3 (ipykernel)",
   "language": "python",
   "name": "python3"
  },
  "language_info": {
   "codemirror_mode": {
    "name": "ipython",
    "version": 3
   },
   "file_extension": ".py",
   "mimetype": "text/x-python",
   "name": "python",
   "nbconvert_exporter": "python",
   "pygments_lexer": "ipython3",
   "version": "3.9.12"
  }
 },
 "nbformat": 4,
 "nbformat_minor": 5
}
