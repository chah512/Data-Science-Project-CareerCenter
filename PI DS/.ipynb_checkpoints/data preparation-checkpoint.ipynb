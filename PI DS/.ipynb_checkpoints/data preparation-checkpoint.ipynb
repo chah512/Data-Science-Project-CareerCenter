{
 "cells": [
  {
   "cell_type": "markdown",
   "id": "f95d8983-b264-473d-9613-1fa8be34d890",
   "metadata": {},
   "source": [
    "<div style=\"text-align:center;\">\n",
    "    <h1 style=\"font-family:Arial, sans-serif; font-weight:bold; color:#FF5733\">Data preparation</h1>\n",
    "</div>\n"
   ]
  },
  {
   "cell_type": "code",
   "execution_count": 3,
   "id": "3586f6ea-5b7d-4b2f-98c0-7672161a503b",
   "metadata": {},
   "outputs": [],
   "source": [
    "import pandas as pd"
   ]
  },
  {
   "cell_type": "markdown",
   "id": "c452d940-b8b6-4b3c-b43f-9042078f6559",
   "metadata": {},
   "source": [
    "## Data Import"
   ]
  },
  {
   "cell_type": "code",
   "execution_count": 25,
   "id": "c7421684-4d50-4fac-a2a1-4d1a0461293a",
   "metadata": {},
   "outputs": [],
   "source": [
    "df1=pd.read_excel('output2.xlsx')\n",
    "df2=pd.read_excel('output.xlsx')"
   ]
  },
  {
   "cell_type": "code",
   "execution_count": 26,
   "id": "6ecc1a71-01cf-419f-a608-ab688cb7d5b6",
   "metadata": {},
   "outputs": [],
   "source": [
    "df1.drop(df.columns[0], axis=1, inplace=True)\n",
    "df2.drop(df2.columns[0], axis=1, inplace=True)"
   ]
  },
  {
   "cell_type": "code",
   "execution_count": 27,
   "id": "a505f3d6-948f-4df7-b553-b04880b36387",
   "metadata": {},
   "outputs": [],
   "source": [
    "\n",
    "#frames=[df,df2]\n",
    "#data=pd.concat(frames)"
   ]
  },
  {
   "cell_type": "code",
   "execution_count": 28,
   "id": "e7b75bb8-d8d0-4570-a384-82775b4359ab",
   "metadata": {},
   "outputs": [],
   "source": [
    "df1.drop_duplicates(inplace=True)"
   ]
  },
  {
   "cell_type": "code",
   "execution_count": 29,
   "id": "51ae8749-b3a5-4753-b66a-0010253892fb",
   "metadata": {},
   "outputs": [
    {
     "name": "stdout",
     "output_type": "stream",
     "text": [
      "                                              job_title  \\\n",
      "0                     ExecutionManagementProjectAnalyst   \n",
      "1                                 Consultoría funcional   \n",
      "2                              Organización de procesos   \n",
      "3                          Analista BMC-SBGM Consulting   \n",
      "4                  Execution Management Project Analyst   \n",
      "...                                                 ...   \n",
      "2659             Développement outil monitoring risques   \n",
      "2660  Outil prédictif NLP utilisant différentes donn...   \n",
      "2661  Réflexion stratégique cadre conception platefo...   \n",
      "2662          Evaluation bilan carbone d'une entreprise   \n",
      "2663  Conception pilote et tokenisation crédit carbo...   \n",
      "\n",
      "                                         skill_required location  \\\n",
      "0                                  gestión de proyectos   Málaga   \n",
      "1                                           consultoría   Málaga   \n",
      "2                                   control de procesos   Málaga   \n",
      "3                            alta grado especialización   Málaga   \n",
      "4                                gestión de operaciones   Málaga   \n",
      "...                                                 ...      ...   \n",
      "2659                 implémentation chatbot intelligent      NaN   \n",
      "2660  techniques webscrapping ou/et parsing des docu...      NaN   \n",
      "2661                                                NaN      NaN   \n",
      "2662        méthodologie, questionnaire(questions clés)      NaN   \n",
      "2663                                                NaN    VALUE   \n",
      "\n",
      "                        link  \n",
      "0     1-checkpoint-page0.pdf  \n",
      "1     1-checkpoint-page0.pdf  \n",
      "2     1-checkpoint-page0.pdf  \n",
      "3     1-checkpoint-page2.pdf  \n",
      "4     1-checkpoint-page2.pdf  \n",
      "...                      ...  \n",
      "2659         Value-page3.pdf  \n",
      "2660         Value-page3.pdf  \n",
      "2661         Value-page3.pdf  \n",
      "2662         Value-page3.pdf  \n",
      "2663         Value-page3.pdf  \n",
      "\n",
      "[2654 rows x 4 columns]\n"
     ]
    }
   ],
   "source": [
    "print(df1)"
   ]
  },
  {
   "cell_type": "code",
   "execution_count": 31,
   "id": "aa4b9552-f502-4d03-a3ef-80f8132eabba",
   "metadata": {},
   "outputs": [
    {
     "name": "stdout",
     "output_type": "stream",
     "text": [
      "Collecting google-cloud-translate\n",
      "  Downloading google_cloud_translate-3.11.1-py2.py3-none-any.whl (128 kB)\n",
      "     ------------------------------------ 128.4/128.4 kB 236.3 kB/s eta 0:00:00\n",
      "Collecting google-api-core[grpc]!=2.0.*,!=2.1.*,!=2.10.*,!=2.2.*,!=2.3.*,!=2.4.*,!=2.5.*,!=2.6.*,!=2.7.*,!=2.8.*,!=2.9.*,<3.0.0dev,>=1.34.0\n",
      "  Downloading google_api_core-2.11.0-py3-none-any.whl (120 kB)\n",
      "     ------------------------------------ 120.3/120.3 kB 390.4 kB/s eta 0:00:00\n",
      "Collecting protobuf!=3.20.0,!=3.20.1,!=4.21.0,!=4.21.1,!=4.21.2,!=4.21.3,!=4.21.4,!=4.21.5,<5.0.0dev,>=3.19.5\n",
      "  Downloading protobuf-4.22.1-cp310-abi3-win_amd64.whl (420 kB)\n",
      "     -------------------------------------- 420.6/420.6 kB 1.5 MB/s eta 0:00:00\n",
      "Collecting proto-plus<2.0.0dev,>=1.22.0\n",
      "  Downloading proto_plus-1.22.2-py3-none-any.whl (47 kB)\n",
      "     -------------------------------------- 47.9/47.9 kB 400.6 kB/s eta 0:00:00\n",
      "Collecting google-cloud-core<3.0.0dev,>=1.3.0\n",
      "  Downloading google_cloud_core-2.3.2-py2.py3-none-any.whl (29 kB)\n",
      "Collecting googleapis-common-protos<2.0dev,>=1.56.2\n",
      "  Downloading googleapis_common_protos-1.59.0-py2.py3-none-any.whl (223 kB)\n",
      "     -------------------------------------- 223.6/223.6 kB 1.7 MB/s eta 0:00:00\n",
      "Requirement already satisfied: requests<3.0.0dev,>=2.18.0 in c:\\anaconda3\\lib\\site-packages (from google-api-core[grpc]!=2.0.*,!=2.1.*,!=2.10.*,!=2.2.*,!=2.3.*,!=2.4.*,!=2.5.*,!=2.6.*,!=2.7.*,!=2.8.*,!=2.9.*,<3.0.0dev,>=1.34.0->google-cloud-translate) (2.28.1)\n",
      "Collecting google-auth<3.0dev,>=2.14.1\n",
      "  Downloading google_auth-2.17.1-py2.py3-none-any.whl (178 kB)\n",
      "     -------------------------------------- 178.1/178.1 kB 1.5 MB/s eta 0:00:00\n",
      "Collecting grpcio<2.0dev,>=1.33.2\n",
      "  Downloading grpcio-1.53.0-cp310-cp310-win_amd64.whl (3.9 MB)\n",
      "     ---------------------------------------- 3.9/3.9 MB 402.1 kB/s eta 0:00:00\n",
      "Collecting grpcio-status<2.0dev,>=1.33.2\n",
      "  Downloading grpcio_status-1.53.0-py3-none-any.whl (5.1 kB)\n",
      "Requirement already satisfied: six>=1.9.0 in c:\\anaconda3\\lib\\site-packages (from google-auth<3.0dev,>=2.14.1->google-api-core[grpc]!=2.0.*,!=2.1.*,!=2.10.*,!=2.2.*,!=2.3.*,!=2.4.*,!=2.5.*,!=2.6.*,!=2.7.*,!=2.8.*,!=2.9.*,<3.0.0dev,>=1.34.0->google-cloud-translate) (1.16.0)\n",
      "Collecting rsa<5,>=3.1.4\n",
      "  Downloading rsa-4.9-py3-none-any.whl (34 kB)\n",
      "Collecting cachetools<6.0,>=2.0.0\n",
      "  Downloading cachetools-5.3.0-py3-none-any.whl (9.3 kB)\n",
      "Requirement already satisfied: pyasn1-modules>=0.2.1 in c:\\anaconda3\\lib\\site-packages (from google-auth<3.0dev,>=2.14.1->google-api-core[grpc]!=2.0.*,!=2.1.*,!=2.10.*,!=2.2.*,!=2.3.*,!=2.4.*,!=2.5.*,!=2.6.*,!=2.7.*,!=2.8.*,!=2.9.*,<3.0.0dev,>=1.34.0->google-cloud-translate) (0.2.8)\n",
      "Requirement already satisfied: charset-normalizer<3,>=2 in c:\\anaconda3\\lib\\site-packages (from requests<3.0.0dev,>=2.18.0->google-api-core[grpc]!=2.0.*,!=2.1.*,!=2.10.*,!=2.2.*,!=2.3.*,!=2.4.*,!=2.5.*,!=2.6.*,!=2.7.*,!=2.8.*,!=2.9.*,<3.0.0dev,>=1.34.0->google-cloud-translate) (2.0.4)\n",
      "Requirement already satisfied: certifi>=2017.4.17 in c:\\anaconda3\\lib\\site-packages (from requests<3.0.0dev,>=2.18.0->google-api-core[grpc]!=2.0.*,!=2.1.*,!=2.10.*,!=2.2.*,!=2.3.*,!=2.4.*,!=2.5.*,!=2.6.*,!=2.7.*,!=2.8.*,!=2.9.*,<3.0.0dev,>=1.34.0->google-cloud-translate) (2022.12.7)\n",
      "Requirement already satisfied: urllib3<1.27,>=1.21.1 in c:\\anaconda3\\lib\\site-packages (from requests<3.0.0dev,>=2.18.0->google-api-core[grpc]!=2.0.*,!=2.1.*,!=2.10.*,!=2.2.*,!=2.3.*,!=2.4.*,!=2.5.*,!=2.6.*,!=2.7.*,!=2.8.*,!=2.9.*,<3.0.0dev,>=1.34.0->google-cloud-translate) (1.26.14)\n",
      "Requirement already satisfied: idna<4,>=2.5 in c:\\anaconda3\\lib\\site-packages (from requests<3.0.0dev,>=2.18.0->google-api-core[grpc]!=2.0.*,!=2.1.*,!=2.10.*,!=2.2.*,!=2.3.*,!=2.4.*,!=2.5.*,!=2.6.*,!=2.7.*,!=2.8.*,!=2.9.*,<3.0.0dev,>=1.34.0->google-cloud-translate) (2.10)\n",
      "Requirement already satisfied: pyasn1<0.5.0,>=0.4.6 in c:\\anaconda3\\lib\\site-packages (from pyasn1-modules>=0.2.1->google-auth<3.0dev,>=2.14.1->google-api-core[grpc]!=2.0.*,!=2.1.*,!=2.10.*,!=2.2.*,!=2.3.*,!=2.4.*,!=2.5.*,!=2.6.*,!=2.7.*,!=2.8.*,!=2.9.*,<3.0.0dev,>=1.34.0->google-cloud-translate) (0.4.8)\n",
      "Installing collected packages: rsa, protobuf, grpcio, cachetools, proto-plus, googleapis-common-protos, google-auth, grpcio-status, google-api-core, google-cloud-core, google-cloud-translate\n",
      "Successfully installed cachetools-5.3.0 google-api-core-2.11.0 google-auth-2.17.1 google-cloud-core-2.3.2 google-cloud-translate-3.11.1 googleapis-common-protos-1.59.0 grpcio-1.53.0 grpcio-status-1.53.0 proto-plus-1.22.2 protobuf-4.22.1 rsa-4.9\n",
      "Note: you may need to restart the kernel to use updated packages.\n"
     ]
    }
   ],
   "source": [
    "pip install google-cloud-translate\n"
   ]
  },
  {
   "cell_type": "code",
   "execution_count": 33,
   "id": "c6995076-4ea9-4b0a-aedb-d167ee774bb5",
   "metadata": {},
   "outputs": [
    {
     "ename": "TypeError",
     "evalue": "Client.__init__() got an unexpected keyword argument 'api_key'",
     "output_type": "error",
     "traceback": [
      "\u001b[1;31m---------------------------------------------------------------------------\u001b[0m",
      "\u001b[1;31mTypeError\u001b[0m                                 Traceback (most recent call last)",
      "Cell \u001b[1;32mIn[33], line 6\u001b[0m\n\u001b[0;32m      2\u001b[0m \u001b[38;5;28;01mfrom\u001b[39;00m \u001b[38;5;21;01mgoogle\u001b[39;00m\u001b[38;5;21;01m.\u001b[39;00m\u001b[38;5;21;01mcloud\u001b[39;00m \u001b[38;5;28;01mimport\u001b[39;00m translate_v2\n\u001b[0;32m      5\u001b[0m \u001b[38;5;66;03m# authenticate with the Google Cloud Translation API\u001b[39;00m\n\u001b[1;32m----> 6\u001b[0m translate_client \u001b[38;5;241m=\u001b[39m \u001b[43mtranslate_v2\u001b[49m\u001b[38;5;241;43m.\u001b[39;49m\u001b[43mClient\u001b[49m\u001b[43m(\u001b[49m\u001b[43mapi_key\u001b[49m\u001b[38;5;241;43m=\u001b[39;49m\u001b[38;5;124;43m'\u001b[39;49m\u001b[38;5;124;43mAIzaSyA9hEbeQzFUpwiu-s7SGQvF20QZQnVJbpg\u001b[39;49m\u001b[38;5;124;43m'\u001b[39;49m\u001b[43m)\u001b[49m\n\u001b[0;32m      8\u001b[0m \u001b[38;5;66;03m# define the target language\u001b[39;00m\n\u001b[0;32m      9\u001b[0m target_language \u001b[38;5;241m=\u001b[39m \u001b[38;5;124m'\u001b[39m\u001b[38;5;124men\u001b[39m\u001b[38;5;124m'\u001b[39m\n",
      "\u001b[1;31mTypeError\u001b[0m: Client.__init__() got an unexpected keyword argument 'api_key'"
     ]
    }
   ],
   "source": [
    "from googletrans import Translator\n",
    "\n",
    "translator = Translator()\n",
    "\n",
    "\n",
    "\n",
    "# create a function to translate a single string value\n",
    "def translate_text(text, target_language):\n",
    "    translation = translator.translate(text)\n",
    "    return translation.text\n",
    "\n",
    "# apply the translation function to all cells of the dataframe\n",
    "df1.iloc[:, :-1] = df1.iloc[:, :-1].applymap(lambda x: translate_text(x, target_language))\n",
    "\n",
    "# display the translated dataframe\n",
    "print(df1)\n"
   ]
  }
 ],
 "metadata": {
  "kernelspec": {
   "display_name": "Python 3 (ipykernel)",
   "language": "python",
   "name": "python3"
  },
  "language_info": {
   "codemirror_mode": {
    "name": "ipython",
    "version": 3
   },
   "file_extension": ".py",
   "mimetype": "text/x-python",
   "name": "python",
   "nbconvert_exporter": "python",
   "pygments_lexer": "ipython3",
   "version": "3.10.9"
  }
 },
 "nbformat": 4,
 "nbformat_minor": 5
}
