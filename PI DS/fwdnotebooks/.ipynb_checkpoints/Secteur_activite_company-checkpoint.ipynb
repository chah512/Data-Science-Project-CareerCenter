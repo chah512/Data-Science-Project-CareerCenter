{
  "nbformat": 4,
  "nbformat_minor": 0,
  "metadata": {
    "colab": {
      "name": "SecteurActiviteCompanyMyCopy2.ipynb",
      "provenance": [],
      "collapsed_sections": []
    },
    "kernelspec": {
      "name": "python3",
      "display_name": "Python 3"
    },
    "language_info": {
      "name": "python"
    },
    "accelerator": "GPU"
  },
  "cells": [
    {
      "cell_type": "code",
      "execution_count": 4,
      "metadata": {
        "colab": {
          "base_uri": "https://localhost:8080/"
        },
        "id": "hHXQnZbLXcSK",
        "outputId": "8632ceef-765a-494c-a1c5-6a56bf0be689"
      },
      "outputs": [
        {
          "output_type": "stream",
          "name": "stdout",
          "text": [
            "[nltk_data] Downloading package stopwords to /root/nltk_data...\n",
            "[nltk_data]   Package stopwords is already up-to-date!\n",
            "[nltk_data] Downloading package wordnet to /root/nltk_data...\n",
            "[nltk_data]   Package wordnet is already up-to-date!\n",
            "[nltk_data] Downloading package punkt to /root/nltk_data...\n",
            "[nltk_data]   Package punkt is already up-to-date!\n"
          ]
        }
      ],
      "source": [
        "import numpy as np \n",
        "import pandas as pd\n",
        "import matplotlib.pyplot as plt\n",
        "\n",
        "from keras.preprocessing.text import Tokenizer\n",
        "from keras.preprocessing.sequence import pad_sequences\n",
        "from nltk.corpus import stopwords\n",
        "from nltk import word_tokenize\n",
        "import nltk\n",
        "nltk.download('stopwords')\n",
        "nltk.download('wordnet')\n",
        "nltk.download('punkt')\n",
        "#from french_lefff_lemmatizer.french_lefff_lemmatizer import FrenchLefffLemmatizer\n",
        "stop_wordsFR  = set(stopwords.words('french'))\n",
        "stop_wordsAN  = set(stopwords.words('english'))\n",
        "import re\n",
        "import string\n",
        "#import unidecode\n",
        "from wordcloud import WordCloud\n",
        "import requests\n",
        "import json\n",
        "from pandas import json_normalize"
      ]
    },
    {
      "cell_type": "code",
      "source": [
        "!pip install git+https://github.com/ClaudeCoulombe/FrenchLefffLemmatizer.git &> /dev/null\n",
        "!pip install Unidecode\n",
        "!pip3 install googletrans==3.1.0a0\n",
        "!pip install google_trans_new\n",
        "!pip install itranslate -U\n",
        "!pip install deep-translator\n",
        "from deep_translator import GoogleTranslator\n",
        "from googletrans import Translator"
      ],
      "metadata": {
        "colab": {
          "base_uri": "https://localhost:8080/",
          "height": 1000
        },
        "id": "IYuPsTDiXrNK",
        "outputId": "1e92fcd2-3f8e-473b-bac0-780ab4a46210"
      },
      "execution_count": 5,
      "outputs": [
        {
          "output_type": "stream",
          "name": "stdout",
          "text": [
            "Requirement already satisfied: Unidecode in /usr/local/lib/python3.7/dist-packages (1.3.4)\n",
            "Requirement already satisfied: googletrans==3.1.0a0 in /usr/local/lib/python3.7/dist-packages (3.1.0a0)\n",
            "Collecting httpx==0.13.3\n",
            "  Using cached httpx-0.13.3-py3-none-any.whl (55 kB)\n",
            "Requirement already satisfied: idna==2.* in /usr/local/lib/python3.7/dist-packages (from httpx==0.13.3->googletrans==3.1.0a0) (2.10)\n",
            "Collecting httpcore==0.9.*\n",
            "  Using cached httpcore-0.9.1-py3-none-any.whl (42 kB)\n",
            "Requirement already satisfied: sniffio in /usr/local/lib/python3.7/dist-packages (from httpx==0.13.3->googletrans==3.1.0a0) (1.2.0)\n",
            "Requirement already satisfied: certifi in /usr/local/lib/python3.7/dist-packages (from httpx==0.13.3->googletrans==3.1.0a0) (2021.10.8)\n",
            "Requirement already satisfied: rfc3986<2,>=1.3 in /usr/local/lib/python3.7/dist-packages (from httpx==0.13.3->googletrans==3.1.0a0) (1.5.0)\n",
            "Requirement already satisfied: hstspreload in /usr/local/lib/python3.7/dist-packages (from httpx==0.13.3->googletrans==3.1.0a0) (2021.12.1)\n",
            "Requirement already satisfied: chardet==3.* in /usr/local/lib/python3.7/dist-packages (from httpx==0.13.3->googletrans==3.1.0a0) (3.0.4)\n",
            "Requirement already satisfied: h2==3.* in /usr/local/lib/python3.7/dist-packages (from httpcore==0.9.*->httpx==0.13.3->googletrans==3.1.0a0) (3.2.0)\n",
            "Collecting h11<0.10,>=0.8\n",
            "  Using cached h11-0.9.0-py2.py3-none-any.whl (53 kB)\n",
            "Requirement already satisfied: hpack<4,>=3.0 in /usr/local/lib/python3.7/dist-packages (from h2==3.*->httpcore==0.9.*->httpx==0.13.3->googletrans==3.1.0a0) (3.0.0)\n",
            "Requirement already satisfied: hyperframe<6,>=5.2.0 in /usr/local/lib/python3.7/dist-packages (from h2==3.*->httpcore==0.9.*->httpx==0.13.3->googletrans==3.1.0a0) (5.2.0)\n",
            "Installing collected packages: h11, httpcore, httpx\n",
            "  Attempting uninstall: h11\n",
            "    Found existing installation: h11 0.12.0\n",
            "    Uninstalling h11-0.12.0:\n",
            "      Successfully uninstalled h11-0.12.0\n",
            "  Attempting uninstall: httpcore\n",
            "    Found existing installation: httpcore 0.13.7\n",
            "    Uninstalling httpcore-0.13.7:\n",
            "      Successfully uninstalled httpcore-0.13.7\n",
            "  Attempting uninstall: httpx\n",
            "    Found existing installation: httpx 0.18.2\n",
            "    Uninstalling httpx-0.18.2:\n",
            "      Successfully uninstalled httpx-0.18.2\n",
            "\u001b[31mERROR: pip's dependency resolver does not currently take into account all the packages that are installed. This behaviour is the source of the following dependency conflicts.\n",
            "itranslate 0.1.1 requires httpx<0.19.0,>=0.18.2, but you have httpx 0.13.3 which is incompatible.\u001b[0m\n",
            "Successfully installed h11-0.9.0 httpcore-0.9.1 httpx-0.13.3\n"
          ]
        },
        {
          "output_type": "display_data",
          "data": {
            "application/vnd.colab-display-data+json": {
              "pip_warning": {
                "packages": [
                  "h11",
                  "httpcore",
                  "httpx"
                ]
              }
            }
          },
          "metadata": {}
        },
        {
          "output_type": "stream",
          "name": "stdout",
          "text": [
            "Requirement already satisfied: google_trans_new in /usr/local/lib/python3.7/dist-packages (1.1.9)\n",
            "Requirement already satisfied: itranslate in /usr/local/lib/python3.7/dist-packages (0.1.1)\n",
            "Collecting httpx<0.19.0,>=0.18.2\n",
            "  Using cached httpx-0.18.2-py3-none-any.whl (76 kB)\n",
            "Requirement already satisfied: logzero<2.0.0,>=1.7.0 in /usr/local/lib/python3.7/dist-packages (from itranslate) (1.7.0)\n",
            "Requirement already satisfied: joblib<2.0.0,>=1.0.1 in /usr/local/lib/python3.7/dist-packages (from itranslate) (1.1.0)\n",
            "Collecting httpcore<0.14.0,>=0.13.3\n",
            "  Using cached httpcore-0.13.7-py3-none-any.whl (58 kB)\n",
            "Requirement already satisfied: sniffio in /usr/local/lib/python3.7/dist-packages (from httpx<0.19.0,>=0.18.2->itranslate) (1.2.0)\n",
            "Requirement already satisfied: rfc3986[idna2008]<2,>=1.3 in /usr/local/lib/python3.7/dist-packages (from httpx<0.19.0,>=0.18.2->itranslate) (1.5.0)\n",
            "Requirement already satisfied: certifi in /usr/local/lib/python3.7/dist-packages (from httpx<0.19.0,>=0.18.2->itranslate) (2021.10.8)\n",
            "Requirement already satisfied: anyio==3.* in /usr/local/lib/python3.7/dist-packages (from httpcore<0.14.0,>=0.13.3->httpx<0.19.0,>=0.18.2->itranslate) (3.5.0)\n",
            "Collecting h11<0.13,>=0.11\n",
            "  Using cached h11-0.12.0-py3-none-any.whl (54 kB)\n",
            "Requirement already satisfied: idna>=2.8 in /usr/local/lib/python3.7/dist-packages (from anyio==3.*->httpcore<0.14.0,>=0.13.3->httpx<0.19.0,>=0.18.2->itranslate) (2.10)\n",
            "Requirement already satisfied: typing-extensions in /usr/local/lib/python3.7/dist-packages (from anyio==3.*->httpcore<0.14.0,>=0.13.3->httpx<0.19.0,>=0.18.2->itranslate) (3.10.0.2)\n",
            "Installing collected packages: h11, httpcore, httpx\n",
            "  Attempting uninstall: h11\n",
            "    Found existing installation: h11 0.9.0\n",
            "    Uninstalling h11-0.9.0:\n",
            "      Successfully uninstalled h11-0.9.0\n",
            "  Attempting uninstall: httpcore\n",
            "    Found existing installation: httpcore 0.9.1\n",
            "    Uninstalling httpcore-0.9.1:\n",
            "      Successfully uninstalled httpcore-0.9.1\n",
            "  Attempting uninstall: httpx\n",
            "    Found existing installation: httpx 0.13.3\n",
            "    Uninstalling httpx-0.13.3:\n",
            "      Successfully uninstalled httpx-0.13.3\n",
            "\u001b[31mERROR: pip's dependency resolver does not currently take into account all the packages that are installed. This behaviour is the source of the following dependency conflicts.\n",
            "googletrans 3.1.0a0 requires httpx==0.13.3, but you have httpx 0.18.2 which is incompatible.\u001b[0m\n",
            "Successfully installed h11-0.12.0 httpcore-0.13.7 httpx-0.18.2\n"
          ]
        },
        {
          "output_type": "display_data",
          "data": {
            "application/vnd.colab-display-data+json": {
              "pip_warning": {
                "packages": [
                  "h11",
                  "httpcore",
                  "httpx"
                ]
              }
            }
          },
          "metadata": {}
        },
        {
          "output_type": "stream",
          "name": "stdout",
          "text": [
            "Requirement already satisfied: deep-translator in /usr/local/lib/python3.7/dist-packages (1.8.1)\n",
            "Requirement already satisfied: beautifulsoup4<5.0.0,>=4.9.1 in /usr/local/lib/python3.7/dist-packages (from deep-translator) (4.10.0)\n",
            "Requirement already satisfied: requests<3.0.0,>=2.23.0 in /usr/local/lib/python3.7/dist-packages (from deep-translator) (2.23.0)\n",
            "Requirement already satisfied: soupsieve>1.2 in /usr/local/lib/python3.7/dist-packages (from beautifulsoup4<5.0.0,>=4.9.1->deep-translator) (2.3.1)\n",
            "Requirement already satisfied: chardet<4,>=3.0.2 in /usr/local/lib/python3.7/dist-packages (from requests<3.0.0,>=2.23.0->deep-translator) (3.0.4)\n",
            "Requirement already satisfied: urllib3!=1.25.0,!=1.25.1,<1.26,>=1.21.1 in /usr/local/lib/python3.7/dist-packages (from requests<3.0.0,>=2.23.0->deep-translator) (1.24.3)\n",
            "Requirement already satisfied: idna<3,>=2.5 in /usr/local/lib/python3.7/dist-packages (from requests<3.0.0,>=2.23.0->deep-translator) (2.10)\n",
            "Requirement already satisfied: certifi>=2017.4.17 in /usr/local/lib/python3.7/dist-packages (from requests<3.0.0,>=2.23.0->deep-translator) (2021.10.8)\n"
          ]
        }
      ]
    },
    {
      "cell_type": "code",
      "source": [
        "df = pd.read_excel(\"Companies_Scraping.xlsx\",header=None)\n",
        "df=df.rename(columns=df.iloc[0])\n",
        "df.drop(df.index[0],inplace=True)\n",
        "df.reset_index(drop=True, inplace=True)\n",
        "df.head()"
      ],
      "metadata": {
        "colab": {
          "base_uri": "https://localhost:8080/",
          "height": 600
        },
        "id": "_DxnztXiXrPv",
        "outputId": "7c93dc58-d262-44ca-c50f-d6a0ecc7d260"
      },
      "execution_count": 6,
      "outputs": [
        {
          "output_type": "execute_result",
          "data": {
            "text/plain": [
              "                                          companyUrl  \\\n",
              "0     https://www.linkedin.com/company/informatique/   \n",
              "1  https://www.linkedin.com/company/informatique-...   \n",
              "2  https://www.linkedin.com/company/informatique-...   \n",
              "3  https://www.linkedin.com/company/informatique-...   \n",
              "4  https://www.linkedin.com/company/informatique-...   \n",
              "\n",
              "                                       companyName  \\\n",
              "0                                     Informatique   \n",
              "1                    Informatique Banque Populaire   \n",
              "2  Informatique et Technologies - Caisse d'Epargne   \n",
              "3                          Informatique ProContact   \n",
              "4                            Informatique EBR inc.   \n",
              "\n",
              "                                             logoUrl  \\\n",
              "0  https://media-exp1.licdn.com/dms/image/C4E0BAQ...   \n",
              "1  https://media-exp1.licdn.com/dms/image/C4E0BAQ...   \n",
              "2  https://media-exp1.licdn.com/dms/image/C4D0BAQ...   \n",
              "3  https://media-exp1.licdn.com/dms/image/C4E0BAQ...   \n",
              "4  https://media-exp1.licdn.com/dms/image/C4E0BAQ...   \n",
              "\n",
              "                                         description followerCount  \\\n",
              "0                            Logiciels informatiques            83   \n",
              "1  Technologies et services de l’information • Im...           156   \n",
              "2     Logiciels informatiques • Paris, Île-de-France           114   \n",
              "3                     Réseaux informatiques • Québec             8   \n",
              "4  Technologies et services de l’information • Qu...            23   \n",
              "\n",
              "                                             tagLine  \\\n",
              "0  Informatique is an Egyptian shareholding compa...   \n",
              "1  Avec Informatique Banque Populaire, osez l'équ...   \n",
              "2  IT-CE est une entreprise informatique du Group...   \n",
              "3  ...technologies de l’information et des commun...   \n",
              "4  ...de données    - Consolidation  - Virtualisa...   \n",
              "\n",
              "                                              name  \\\n",
              "0                                     Informatique   \n",
              "1                    Informatique Banque Populaire   \n",
              "2  Informatique et Technologies - Caisse d'Epargne   \n",
              "3                          Informatique ProContact   \n",
              "4                            Informatique EBR inc.   \n",
              "\n",
              "                                               query   category  \\\n",
              "0  https://www.linkedin.com/search/results/compan...  Companies   \n",
              "1  https://www.linkedin.com/search/results/compan...  Companies   \n",
              "2  https://www.linkedin.com/search/results/compan...  Companies   \n",
              "3  https://www.linkedin.com/search/results/compan...  Companies   \n",
              "4  https://www.linkedin.com/search/results/compan...  Companies   \n",
              "\n",
              "                  timestamp  \n",
              "0  2022-03-19T10:02:18.488Z  \n",
              "1  2022-03-19T10:02:18.488Z  \n",
              "2  2022-03-19T10:02:18.488Z  \n",
              "3  2022-03-19T10:02:18.488Z  \n",
              "4  2022-03-19T10:02:18.488Z  "
            ],
            "text/html": [
              "\n",
              "  <div id=\"df-f6439f16-e2d6-415d-8569-a4264155eed0\">\n",
              "    <div class=\"colab-df-container\">\n",
              "      <div>\n",
              "<style scoped>\n",
              "    .dataframe tbody tr th:only-of-type {\n",
              "        vertical-align: middle;\n",
              "    }\n",
              "\n",
              "    .dataframe tbody tr th {\n",
              "        vertical-align: top;\n",
              "    }\n",
              "\n",
              "    .dataframe thead th {\n",
              "        text-align: right;\n",
              "    }\n",
              "</style>\n",
              "<table border=\"1\" class=\"dataframe\">\n",
              "  <thead>\n",
              "    <tr style=\"text-align: right;\">\n",
              "      <th></th>\n",
              "      <th>companyUrl</th>\n",
              "      <th>companyName</th>\n",
              "      <th>logoUrl</th>\n",
              "      <th>description</th>\n",
              "      <th>followerCount</th>\n",
              "      <th>tagLine</th>\n",
              "      <th>name</th>\n",
              "      <th>query</th>\n",
              "      <th>category</th>\n",
              "      <th>timestamp</th>\n",
              "    </tr>\n",
              "  </thead>\n",
              "  <tbody>\n",
              "    <tr>\n",
              "      <th>0</th>\n",
              "      <td>https://www.linkedin.com/company/informatique/</td>\n",
              "      <td>Informatique</td>\n",
              "      <td>https://media-exp1.licdn.com/dms/image/C4E0BAQ...</td>\n",
              "      <td>Logiciels informatiques</td>\n",
              "      <td>83</td>\n",
              "      <td>Informatique is an Egyptian shareholding compa...</td>\n",
              "      <td>Informatique</td>\n",
              "      <td>https://www.linkedin.com/search/results/compan...</td>\n",
              "      <td>Companies</td>\n",
              "      <td>2022-03-19T10:02:18.488Z</td>\n",
              "    </tr>\n",
              "    <tr>\n",
              "      <th>1</th>\n",
              "      <td>https://www.linkedin.com/company/informatique-...</td>\n",
              "      <td>Informatique Banque Populaire</td>\n",
              "      <td>https://media-exp1.licdn.com/dms/image/C4E0BAQ...</td>\n",
              "      <td>Technologies et services de l’information • Im...</td>\n",
              "      <td>156</td>\n",
              "      <td>Avec Informatique Banque Populaire, osez l'équ...</td>\n",
              "      <td>Informatique Banque Populaire</td>\n",
              "      <td>https://www.linkedin.com/search/results/compan...</td>\n",
              "      <td>Companies</td>\n",
              "      <td>2022-03-19T10:02:18.488Z</td>\n",
              "    </tr>\n",
              "    <tr>\n",
              "      <th>2</th>\n",
              "      <td>https://www.linkedin.com/company/informatique-...</td>\n",
              "      <td>Informatique et Technologies - Caisse d'Epargne</td>\n",
              "      <td>https://media-exp1.licdn.com/dms/image/C4D0BAQ...</td>\n",
              "      <td>Logiciels informatiques • Paris, Île-de-France</td>\n",
              "      <td>114</td>\n",
              "      <td>IT-CE est une entreprise informatique du Group...</td>\n",
              "      <td>Informatique et Technologies - Caisse d'Epargne</td>\n",
              "      <td>https://www.linkedin.com/search/results/compan...</td>\n",
              "      <td>Companies</td>\n",
              "      <td>2022-03-19T10:02:18.488Z</td>\n",
              "    </tr>\n",
              "    <tr>\n",
              "      <th>3</th>\n",
              "      <td>https://www.linkedin.com/company/informatique-...</td>\n",
              "      <td>Informatique ProContact</td>\n",
              "      <td>https://media-exp1.licdn.com/dms/image/C4E0BAQ...</td>\n",
              "      <td>Réseaux informatiques • Québec</td>\n",
              "      <td>8</td>\n",
              "      <td>...technologies de l’information et des commun...</td>\n",
              "      <td>Informatique ProContact</td>\n",
              "      <td>https://www.linkedin.com/search/results/compan...</td>\n",
              "      <td>Companies</td>\n",
              "      <td>2022-03-19T10:02:18.488Z</td>\n",
              "    </tr>\n",
              "    <tr>\n",
              "      <th>4</th>\n",
              "      <td>https://www.linkedin.com/company/informatique-...</td>\n",
              "      <td>Informatique EBR inc.</td>\n",
              "      <td>https://media-exp1.licdn.com/dms/image/C4E0BAQ...</td>\n",
              "      <td>Technologies et services de l’information • Qu...</td>\n",
              "      <td>23</td>\n",
              "      <td>...de données    - Consolidation  - Virtualisa...</td>\n",
              "      <td>Informatique EBR inc.</td>\n",
              "      <td>https://www.linkedin.com/search/results/compan...</td>\n",
              "      <td>Companies</td>\n",
              "      <td>2022-03-19T10:02:18.488Z</td>\n",
              "    </tr>\n",
              "  </tbody>\n",
              "</table>\n",
              "</div>\n",
              "      <button class=\"colab-df-convert\" onclick=\"convertToInteractive('df-f6439f16-e2d6-415d-8569-a4264155eed0')\"\n",
              "              title=\"Convert this dataframe to an interactive table.\"\n",
              "              style=\"display:none;\">\n",
              "        \n",
              "  <svg xmlns=\"http://www.w3.org/2000/svg\" height=\"24px\"viewBox=\"0 0 24 24\"\n",
              "       width=\"24px\">\n",
              "    <path d=\"M0 0h24v24H0V0z\" fill=\"none\"/>\n",
              "    <path d=\"M18.56 5.44l.94 2.06.94-2.06 2.06-.94-2.06-.94-.94-2.06-.94 2.06-2.06.94zm-11 1L8.5 8.5l.94-2.06 2.06-.94-2.06-.94L8.5 2.5l-.94 2.06-2.06.94zm10 10l.94 2.06.94-2.06 2.06-.94-2.06-.94-.94-2.06-.94 2.06-2.06.94z\"/><path d=\"M17.41 7.96l-1.37-1.37c-.4-.4-.92-.59-1.43-.59-.52 0-1.04.2-1.43.59L10.3 9.45l-7.72 7.72c-.78.78-.78 2.05 0 2.83L4 21.41c.39.39.9.59 1.41.59.51 0 1.02-.2 1.41-.59l7.78-7.78 2.81-2.81c.8-.78.8-2.07 0-2.86zM5.41 20L4 18.59l7.72-7.72 1.47 1.35L5.41 20z\"/>\n",
              "  </svg>\n",
              "      </button>\n",
              "      \n",
              "  <style>\n",
              "    .colab-df-container {\n",
              "      display:flex;\n",
              "      flex-wrap:wrap;\n",
              "      gap: 12px;\n",
              "    }\n",
              "\n",
              "    .colab-df-convert {\n",
              "      background-color: #E8F0FE;\n",
              "      border: none;\n",
              "      border-radius: 50%;\n",
              "      cursor: pointer;\n",
              "      display: none;\n",
              "      fill: #1967D2;\n",
              "      height: 32px;\n",
              "      padding: 0 0 0 0;\n",
              "      width: 32px;\n",
              "    }\n",
              "\n",
              "    .colab-df-convert:hover {\n",
              "      background-color: #E2EBFA;\n",
              "      box-shadow: 0px 1px 2px rgba(60, 64, 67, 0.3), 0px 1px 3px 1px rgba(60, 64, 67, 0.15);\n",
              "      fill: #174EA6;\n",
              "    }\n",
              "\n",
              "    [theme=dark] .colab-df-convert {\n",
              "      background-color: #3B4455;\n",
              "      fill: #D2E3FC;\n",
              "    }\n",
              "\n",
              "    [theme=dark] .colab-df-convert:hover {\n",
              "      background-color: #434B5C;\n",
              "      box-shadow: 0px 1px 3px 1px rgba(0, 0, 0, 0.15);\n",
              "      filter: drop-shadow(0px 1px 2px rgba(0, 0, 0, 0.3));\n",
              "      fill: #FFFFFF;\n",
              "    }\n",
              "  </style>\n",
              "\n",
              "      <script>\n",
              "        const buttonEl =\n",
              "          document.querySelector('#df-f6439f16-e2d6-415d-8569-a4264155eed0 button.colab-df-convert');\n",
              "        buttonEl.style.display =\n",
              "          google.colab.kernel.accessAllowed ? 'block' : 'none';\n",
              "\n",
              "        async function convertToInteractive(key) {\n",
              "          const element = document.querySelector('#df-f6439f16-e2d6-415d-8569-a4264155eed0');\n",
              "          const dataTable =\n",
              "            await google.colab.kernel.invokeFunction('convertToInteractive',\n",
              "                                                     [key], {});\n",
              "          if (!dataTable) return;\n",
              "\n",
              "          const docLinkHtml = 'Like what you see? Visit the ' +\n",
              "            '<a target=\"_blank\" href=https://colab.research.google.com/notebooks/data_table.ipynb>data table notebook</a>'\n",
              "            + ' to learn more about interactive tables.';\n",
              "          element.innerHTML = '';\n",
              "          dataTable['output_type'] = 'display_data';\n",
              "          await google.colab.output.renderOutput(dataTable, element);\n",
              "          const docLink = document.createElement('div');\n",
              "          docLink.innerHTML = docLinkHtml;\n",
              "          element.appendChild(docLink);\n",
              "        }\n",
              "      </script>\n",
              "    </div>\n",
              "  </div>\n",
              "  "
            ]
          },
          "metadata": {},
          "execution_count": 6
        }
      ]
    },
    {
      "cell_type": "code",
      "source": [
        "#expanding the display\n",
        "pd.set_option('display.max_colwidth', -1)\n",
        "#using only description column\n",
        "df1= df [['description']]\n",
        "df1.head()"
      ],
      "metadata": {
        "colab": {
          "base_uri": "https://localhost:8080/",
          "height": 261
        },
        "id": "Be7t0eiOXrSU",
        "outputId": "0e2b61d4-c387-483f-ecdc-043798e6db38"
      },
      "execution_count": 7,
      "outputs": [
        {
          "output_type": "stream",
          "name": "stderr",
          "text": [
            "/usr/local/lib/python3.7/dist-packages/ipykernel_launcher.py:2: FutureWarning: Passing a negative integer is deprecated in version 1.0 and will not be supported in future version. Instead, use None to not limit the column width.\n",
            "  \n"
          ]
        },
        {
          "output_type": "execute_result",
          "data": {
            "text/plain": [
              "                                                                              description\n",
              "0  Logiciels informatiques                                                               \n",
              "1  Technologies et services de l’information • Immeuble Le Futura, St Quentin en Yvelines\n",
              "2  Logiciels informatiques • Paris, Île-de-France                                        \n",
              "3  Réseaux informatiques • Québec                                                        \n",
              "4  Technologies et services de l’information • Québec, Québec                            "
            ],
            "text/html": [
              "\n",
              "  <div id=\"df-4ea67132-d390-45a4-a260-9e301d2e7c35\">\n",
              "    <div class=\"colab-df-container\">\n",
              "      <div>\n",
              "<style scoped>\n",
              "    .dataframe tbody tr th:only-of-type {\n",
              "        vertical-align: middle;\n",
              "    }\n",
              "\n",
              "    .dataframe tbody tr th {\n",
              "        vertical-align: top;\n",
              "    }\n",
              "\n",
              "    .dataframe thead th {\n",
              "        text-align: right;\n",
              "    }\n",
              "</style>\n",
              "<table border=\"1\" class=\"dataframe\">\n",
              "  <thead>\n",
              "    <tr style=\"text-align: right;\">\n",
              "      <th></th>\n",
              "      <th>description</th>\n",
              "    </tr>\n",
              "  </thead>\n",
              "  <tbody>\n",
              "    <tr>\n",
              "      <th>0</th>\n",
              "      <td>Logiciels informatiques</td>\n",
              "    </tr>\n",
              "    <tr>\n",
              "      <th>1</th>\n",
              "      <td>Technologies et services de l’information • Immeuble Le Futura, St Quentin en Yvelines</td>\n",
              "    </tr>\n",
              "    <tr>\n",
              "      <th>2</th>\n",
              "      <td>Logiciels informatiques • Paris, Île-de-France</td>\n",
              "    </tr>\n",
              "    <tr>\n",
              "      <th>3</th>\n",
              "      <td>Réseaux informatiques • Québec</td>\n",
              "    </tr>\n",
              "    <tr>\n",
              "      <th>4</th>\n",
              "      <td>Technologies et services de l’information • Québec, Québec</td>\n",
              "    </tr>\n",
              "  </tbody>\n",
              "</table>\n",
              "</div>\n",
              "      <button class=\"colab-df-convert\" onclick=\"convertToInteractive('df-4ea67132-d390-45a4-a260-9e301d2e7c35')\"\n",
              "              title=\"Convert this dataframe to an interactive table.\"\n",
              "              style=\"display:none;\">\n",
              "        \n",
              "  <svg xmlns=\"http://www.w3.org/2000/svg\" height=\"24px\"viewBox=\"0 0 24 24\"\n",
              "       width=\"24px\">\n",
              "    <path d=\"M0 0h24v24H0V0z\" fill=\"none\"/>\n",
              "    <path d=\"M18.56 5.44l.94 2.06.94-2.06 2.06-.94-2.06-.94-.94-2.06-.94 2.06-2.06.94zm-11 1L8.5 8.5l.94-2.06 2.06-.94-2.06-.94L8.5 2.5l-.94 2.06-2.06.94zm10 10l.94 2.06.94-2.06 2.06-.94-2.06-.94-.94-2.06-.94 2.06-2.06.94z\"/><path d=\"M17.41 7.96l-1.37-1.37c-.4-.4-.92-.59-1.43-.59-.52 0-1.04.2-1.43.59L10.3 9.45l-7.72 7.72c-.78.78-.78 2.05 0 2.83L4 21.41c.39.39.9.59 1.41.59.51 0 1.02-.2 1.41-.59l7.78-7.78 2.81-2.81c.8-.78.8-2.07 0-2.86zM5.41 20L4 18.59l7.72-7.72 1.47 1.35L5.41 20z\"/>\n",
              "  </svg>\n",
              "      </button>\n",
              "      \n",
              "  <style>\n",
              "    .colab-df-container {\n",
              "      display:flex;\n",
              "      flex-wrap:wrap;\n",
              "      gap: 12px;\n",
              "    }\n",
              "\n",
              "    .colab-df-convert {\n",
              "      background-color: #E8F0FE;\n",
              "      border: none;\n",
              "      border-radius: 50%;\n",
              "      cursor: pointer;\n",
              "      display: none;\n",
              "      fill: #1967D2;\n",
              "      height: 32px;\n",
              "      padding: 0 0 0 0;\n",
              "      width: 32px;\n",
              "    }\n",
              "\n",
              "    .colab-df-convert:hover {\n",
              "      background-color: #E2EBFA;\n",
              "      box-shadow: 0px 1px 2px rgba(60, 64, 67, 0.3), 0px 1px 3px 1px rgba(60, 64, 67, 0.15);\n",
              "      fill: #174EA6;\n",
              "    }\n",
              "\n",
              "    [theme=dark] .colab-df-convert {\n",
              "      background-color: #3B4455;\n",
              "      fill: #D2E3FC;\n",
              "    }\n",
              "\n",
              "    [theme=dark] .colab-df-convert:hover {\n",
              "      background-color: #434B5C;\n",
              "      box-shadow: 0px 1px 3px 1px rgba(0, 0, 0, 0.15);\n",
              "      filter: drop-shadow(0px 1px 2px rgba(0, 0, 0, 0.3));\n",
              "      fill: #FFFFFF;\n",
              "    }\n",
              "  </style>\n",
              "\n",
              "      <script>\n",
              "        const buttonEl =\n",
              "          document.querySelector('#df-4ea67132-d390-45a4-a260-9e301d2e7c35 button.colab-df-convert');\n",
              "        buttonEl.style.display =\n",
              "          google.colab.kernel.accessAllowed ? 'block' : 'none';\n",
              "\n",
              "        async function convertToInteractive(key) {\n",
              "          const element = document.querySelector('#df-4ea67132-d390-45a4-a260-9e301d2e7c35');\n",
              "          const dataTable =\n",
              "            await google.colab.kernel.invokeFunction('convertToInteractive',\n",
              "                                                     [key], {});\n",
              "          if (!dataTable) return;\n",
              "\n",
              "          const docLinkHtml = 'Like what you see? Visit the ' +\n",
              "            '<a target=\"_blank\" href=https://colab.research.google.com/notebooks/data_table.ipynb>data table notebook</a>'\n",
              "            + ' to learn more about interactive tables.';\n",
              "          element.innerHTML = '';\n",
              "          dataTable['output_type'] = 'display_data';\n",
              "          await google.colab.output.renderOutput(dataTable, element);\n",
              "          const docLink = document.createElement('div');\n",
              "          docLink.innerHTML = docLinkHtml;\n",
              "          element.appendChild(docLink);\n",
              "        }\n",
              "      </script>\n",
              "    </div>\n",
              "  </div>\n",
              "  "
            ]
          },
          "metadata": {},
          "execution_count": 7
        }
      ]
    },
    {
      "cell_type": "code",
      "source": [
        "#ch=df['description'][2]\n",
        "#ch"
      ],
      "metadata": {
        "id": "azJBtUtGXrUt"
      },
      "execution_count": 8,
      "outputs": []
    },
    {
      "cell_type": "code",
      "source": [
        "#split_string = ch.split(\"•\",1)\n",
        "#substring = split_string[0]\n",
        "#substring"
      ],
      "metadata": {
        "id": "7E24uJfnXrYE"
      },
      "execution_count": 9,
      "outputs": []
    },
    {
      "cell_type": "code",
      "source": [
        "def split_string(ch) :\n",
        "  split_string = ch.split(\"•\",1)\n",
        "  substring = split_string[0]\n",
        "  return substring"
      ],
      "metadata": {
        "id": "QTs74sPIbT_-"
      },
      "execution_count": 10,
      "outputs": []
    },
    {
      "cell_type": "code",
      "source": [
        "#ch2=df['description'][2]\n",
        "#split_string(ch2)"
      ],
      "metadata": {
        "id": "E9tm-3DobqCx"
      },
      "execution_count": 11,
      "outputs": []
    },
    {
      "cell_type": "code",
      "source": [
        "df.info()"
      ],
      "metadata": {
        "colab": {
          "base_uri": "https://localhost:8080/"
        },
        "id": "jWvp38SIcx76",
        "outputId": "4cfcd35d-2b41-4b15-c522-ca7241f9428b"
      },
      "execution_count": 12,
      "outputs": [
        {
          "output_type": "stream",
          "name": "stdout",
          "text": [
            "<class 'pandas.core.frame.DataFrame'>\n",
            "RangeIndex: 250 entries, 0 to 249\n",
            "Data columns (total 10 columns):\n",
            " #   Column         Non-Null Count  Dtype \n",
            "---  ------         --------------  ----- \n",
            " 0   companyUrl     250 non-null    object\n",
            " 1   companyName    250 non-null    object\n",
            " 2   logoUrl        248 non-null    object\n",
            " 3   description    248 non-null    object\n",
            " 4   followerCount  248 non-null    object\n",
            " 5   tagLine        242 non-null    object\n",
            " 6   name           250 non-null    object\n",
            " 7   query          250 non-null    object\n",
            " 8   category       250 non-null    object\n",
            " 9   timestamp      250 non-null    object\n",
            "dtypes: object(10)\n",
            "memory usage: 19.7+ KB\n"
          ]
        }
      ]
    },
    {
      "cell_type": "code",
      "source": [
        "df=df.astype(str)"
      ],
      "metadata": {
        "id": "Nt9VvU4DLrDv"
      },
      "execution_count": 13,
      "outputs": []
    },
    {
      "cell_type": "code",
      "source": [
        "df.info()"
      ],
      "metadata": {
        "colab": {
          "base_uri": "https://localhost:8080/"
        },
        "id": "M3O1y3CNeHW5",
        "outputId": "d11b71ca-199c-466d-b8b9-ab676bd187fc"
      },
      "execution_count": 14,
      "outputs": [
        {
          "output_type": "stream",
          "name": "stdout",
          "text": [
            "<class 'pandas.core.frame.DataFrame'>\n",
            "RangeIndex: 250 entries, 0 to 249\n",
            "Data columns (total 10 columns):\n",
            " #   Column         Non-Null Count  Dtype \n",
            "---  ------         --------------  ----- \n",
            " 0   companyUrl     250 non-null    object\n",
            " 1   companyName    250 non-null    object\n",
            " 2   logoUrl        250 non-null    object\n",
            " 3   description    250 non-null    object\n",
            " 4   followerCount  250 non-null    object\n",
            " 5   tagLine        250 non-null    object\n",
            " 6   name           250 non-null    object\n",
            " 7   query          250 non-null    object\n",
            " 8   category       250 non-null    object\n",
            " 9   timestamp      250 non-null    object\n",
            "dtypes: object(10)\n",
            "memory usage: 19.7+ KB\n"
          ]
        }
      ]
    },
    {
      "cell_type": "code",
      "source": [
        "desc=df['description']\n",
        "caract='•'\n",
        "sum=0\n",
        "for i in desc :\n",
        "  if caract in i :\n",
        "    sum=sum+1\n",
        "\n",
        "sum  #193/250"
      ],
      "metadata": {
        "colab": {
          "base_uri": "https://localhost:8080/"
        },
        "id": "KzT4iZ1F9j28",
        "outputId": "809ef82c-0ee7-4ea5-a2a6-4f2a9d58d25e"
      },
      "execution_count": 15,
      "outputs": [
        {
          "output_type": "execute_result",
          "data": {
            "text/plain": [
              "193"
            ]
          },
          "metadata": {},
          "execution_count": 15
        }
      ]
    },
    {
      "cell_type": "code",
      "source": [
        "for i in desc :\n",
        "  if i.find(caract) == -1:\n",
        "    print(i)"
      ],
      "metadata": {
        "colab": {
          "base_uri": "https://localhost:8080/"
        },
        "id": "WkrrLJrZwTqB",
        "outputId": "3764850b-b41d-47d5-82e8-bddafbaddd3b"
      },
      "execution_count": 16,
      "outputs": [
        {
          "output_type": "stream",
          "name": "stdout",
          "text": [
            "Logiciels informatiques\n",
            "nan\n",
            "Toulon, PACA\n",
            "Le Kremlin Bicêtre, île-de-france\n",
            "Paris\n",
            "Limoges, Nouvelle Aquitaine\n",
            "Ivry-sur-Seine\n",
            "Grande distribution\n",
            "Saint Herblain\n",
            "Perpignan, Région Occitanie\n",
            "Lyon, Auvergne-Rhône-Alpes\n",
            "nan\n",
            "Ivry-sur-Seine, Ile-de-France\n",
            "Paris, Île-de-France\n",
            "Sécurité informatique et des réseaux\n",
            "Montréal, Québec\n",
            "Bègles, Nouvelle-Aquitaine\n",
            "Namur, Namur\n",
            "Sidi-Bel-Abbes, Algeria\n",
            "Technologies et services de l’information\n",
            "Rabat, Rabat - Salé - Kénitra\n",
            "Villejuif\n",
            "Avignon, PACA\n",
            "Nanterre\n",
            "Toulouse\n",
            "Puteaux, Île-de-France\n",
            "Chambéry, Auvergne Rhône-Alpes\n",
            "Compiègne\n",
            "Villejuif, Île-de-France\n",
            "Puteaux, Île-de-France\n",
            "Saint-Étienne, France\n",
            "Belfort, cedex\n",
            "Noisy-le-Grand, Île-de-France\n",
            "Evry\n",
            "Villeneuve d'Ascq\n",
            "Montpellier, cedex 2\n",
            "Talence, Aquitaine\n",
            "Paris, Île-de-France\n",
            "Services financiers\n",
            "Toulouse, Occitanie\n",
            "Cergy\n",
            "30319 Alès Cedex\n",
            "Villeneuve-d'Ascq, Hauts-de-France\n",
            "Angers\n",
            "Puteaux, Île-de-France\n",
            "Montpellier cedex 5\n",
            "Lille, Nord\n",
            "Marseille, Provence-Alpes-Côte d’Azur\n",
            "CERGY, Île-de-France\n",
            "Belfort cedex\n",
            "Aulnoy-lez-Valenciennes\n",
            "Aix, Bordeaux, Lyon, Montpellier, Nantes, Paris, Rennes, Strasbourg, Toulouse, Tours\n",
            "CAEN\n",
            "Paris, Île-de-France\n",
            "SAINT-ETIENNE Cedex 2\n",
            "Lyon, Rhône-Alpes\n",
            "Pays de la Loire\n"
          ]
        }
      ]
    },
    {
      "cell_type": "code",
      "source": [
        "def traitement(desc) :\n",
        "  caract='•'\n",
        "  if caract in desc :\n",
        "    return split_string(desc)\n",
        "  else :\n",
        "    return 'vide'\n"
      ],
      "metadata": {
        "id": "441kBhkHaOVa"
      },
      "execution_count": 17,
      "outputs": []
    },
    {
      "cell_type": "code",
      "source": [
        "x=traitement('Logiciels in Logiciels informatiques Logiciels informatiques • Paris, Île-de-France Paris, Île-de-France Paris, Île-de-France')\n",
        "print(x)"
      ],
      "metadata": {
        "colab": {
          "base_uri": "https://localhost:8080/"
        },
        "id": "N14csir4Szxl",
        "outputId": "bf05b238-a1fc-4e19-edac-bfa370788f6a"
      },
      "execution_count": 18,
      "outputs": [
        {
          "output_type": "stream",
          "name": "stdout",
          "text": [
            "Logiciels in Logiciels informatiques Logiciels informatiques \n"
          ]
        }
      ]
    },
    {
      "cell_type": "code",
      "source": [
        "df['description']=df['description'].apply(lambda x: traitement(x))"
      ],
      "metadata": {
        "id": "q_8VrLHILGJ-"
      },
      "execution_count": 19,
      "outputs": []
    },
    {
      "cell_type": "code",
      "source": [
        "#expanding the display\n",
        "pd.set_option('display.max_colwidth', -1)\n",
        "#using only description column\n",
        "df1= df [['description']]\n",
        "df1.head()"
      ],
      "metadata": {
        "colab": {
          "base_uri": "https://localhost:8080/",
          "height": 261
        },
        "id": "GiV9PDr4aPNz",
        "outputId": "fbe3b835-04ab-48e2-9220-8e6a9da4cd6c"
      },
      "execution_count": 20,
      "outputs": [
        {
          "output_type": "stream",
          "name": "stderr",
          "text": [
            "/usr/local/lib/python3.7/dist-packages/ipykernel_launcher.py:2: FutureWarning: Passing a negative integer is deprecated in version 1.0 and will not be supported in future version. Instead, use None to not limit the column width.\n",
            "  \n"
          ]
        },
        {
          "output_type": "execute_result",
          "data": {
            "text/plain": [
              "                                  description\n",
              "0  vide                                      \n",
              "1  Technologies et services de l’information \n",
              "2  Logiciels informatiques                   \n",
              "3  Réseaux informatiques                     \n",
              "4  Technologies et services de l’information "
            ],
            "text/html": [
              "\n",
              "  <div id=\"df-33b8f0be-36a7-47a9-8e6f-bd055ddb5e88\">\n",
              "    <div class=\"colab-df-container\">\n",
              "      <div>\n",
              "<style scoped>\n",
              "    .dataframe tbody tr th:only-of-type {\n",
              "        vertical-align: middle;\n",
              "    }\n",
              "\n",
              "    .dataframe tbody tr th {\n",
              "        vertical-align: top;\n",
              "    }\n",
              "\n",
              "    .dataframe thead th {\n",
              "        text-align: right;\n",
              "    }\n",
              "</style>\n",
              "<table border=\"1\" class=\"dataframe\">\n",
              "  <thead>\n",
              "    <tr style=\"text-align: right;\">\n",
              "      <th></th>\n",
              "      <th>description</th>\n",
              "    </tr>\n",
              "  </thead>\n",
              "  <tbody>\n",
              "    <tr>\n",
              "      <th>0</th>\n",
              "      <td>vide</td>\n",
              "    </tr>\n",
              "    <tr>\n",
              "      <th>1</th>\n",
              "      <td>Technologies et services de l’information</td>\n",
              "    </tr>\n",
              "    <tr>\n",
              "      <th>2</th>\n",
              "      <td>Logiciels informatiques</td>\n",
              "    </tr>\n",
              "    <tr>\n",
              "      <th>3</th>\n",
              "      <td>Réseaux informatiques</td>\n",
              "    </tr>\n",
              "    <tr>\n",
              "      <th>4</th>\n",
              "      <td>Technologies et services de l’information</td>\n",
              "    </tr>\n",
              "  </tbody>\n",
              "</table>\n",
              "</div>\n",
              "      <button class=\"colab-df-convert\" onclick=\"convertToInteractive('df-33b8f0be-36a7-47a9-8e6f-bd055ddb5e88')\"\n",
              "              title=\"Convert this dataframe to an interactive table.\"\n",
              "              style=\"display:none;\">\n",
              "        \n",
              "  <svg xmlns=\"http://www.w3.org/2000/svg\" height=\"24px\"viewBox=\"0 0 24 24\"\n",
              "       width=\"24px\">\n",
              "    <path d=\"M0 0h24v24H0V0z\" fill=\"none\"/>\n",
              "    <path d=\"M18.56 5.44l.94 2.06.94-2.06 2.06-.94-2.06-.94-.94-2.06-.94 2.06-2.06.94zm-11 1L8.5 8.5l.94-2.06 2.06-.94-2.06-.94L8.5 2.5l-.94 2.06-2.06.94zm10 10l.94 2.06.94-2.06 2.06-.94-2.06-.94-.94-2.06-.94 2.06-2.06.94z\"/><path d=\"M17.41 7.96l-1.37-1.37c-.4-.4-.92-.59-1.43-.59-.52 0-1.04.2-1.43.59L10.3 9.45l-7.72 7.72c-.78.78-.78 2.05 0 2.83L4 21.41c.39.39.9.59 1.41.59.51 0 1.02-.2 1.41-.59l7.78-7.78 2.81-2.81c.8-.78.8-2.07 0-2.86zM5.41 20L4 18.59l7.72-7.72 1.47 1.35L5.41 20z\"/>\n",
              "  </svg>\n",
              "      </button>\n",
              "      \n",
              "  <style>\n",
              "    .colab-df-container {\n",
              "      display:flex;\n",
              "      flex-wrap:wrap;\n",
              "      gap: 12px;\n",
              "    }\n",
              "\n",
              "    .colab-df-convert {\n",
              "      background-color: #E8F0FE;\n",
              "      border: none;\n",
              "      border-radius: 50%;\n",
              "      cursor: pointer;\n",
              "      display: none;\n",
              "      fill: #1967D2;\n",
              "      height: 32px;\n",
              "      padding: 0 0 0 0;\n",
              "      width: 32px;\n",
              "    }\n",
              "\n",
              "    .colab-df-convert:hover {\n",
              "      background-color: #E2EBFA;\n",
              "      box-shadow: 0px 1px 2px rgba(60, 64, 67, 0.3), 0px 1px 3px 1px rgba(60, 64, 67, 0.15);\n",
              "      fill: #174EA6;\n",
              "    }\n",
              "\n",
              "    [theme=dark] .colab-df-convert {\n",
              "      background-color: #3B4455;\n",
              "      fill: #D2E3FC;\n",
              "    }\n",
              "\n",
              "    [theme=dark] .colab-df-convert:hover {\n",
              "      background-color: #434B5C;\n",
              "      box-shadow: 0px 1px 3px 1px rgba(0, 0, 0, 0.15);\n",
              "      filter: drop-shadow(0px 1px 2px rgba(0, 0, 0, 0.3));\n",
              "      fill: #FFFFFF;\n",
              "    }\n",
              "  </style>\n",
              "\n",
              "      <script>\n",
              "        const buttonEl =\n",
              "          document.querySelector('#df-33b8f0be-36a7-47a9-8e6f-bd055ddb5e88 button.colab-df-convert');\n",
              "        buttonEl.style.display =\n",
              "          google.colab.kernel.accessAllowed ? 'block' : 'none';\n",
              "\n",
              "        async function convertToInteractive(key) {\n",
              "          const element = document.querySelector('#df-33b8f0be-36a7-47a9-8e6f-bd055ddb5e88');\n",
              "          const dataTable =\n",
              "            await google.colab.kernel.invokeFunction('convertToInteractive',\n",
              "                                                     [key], {});\n",
              "          if (!dataTable) return;\n",
              "\n",
              "          const docLinkHtml = 'Like what you see? Visit the ' +\n",
              "            '<a target=\"_blank\" href=https://colab.research.google.com/notebooks/data_table.ipynb>data table notebook</a>'\n",
              "            + ' to learn more about interactive tables.';\n",
              "          element.innerHTML = '';\n",
              "          dataTable['output_type'] = 'display_data';\n",
              "          await google.colab.output.renderOutput(dataTable, element);\n",
              "          const docLink = document.createElement('div');\n",
              "          docLink.innerHTML = docLinkHtml;\n",
              "          element.appendChild(docLink);\n",
              "        }\n",
              "      </script>\n",
              "    </div>\n",
              "  </div>\n",
              "  "
            ]
          },
          "metadata": {},
          "execution_count": 20
        }
      ]
    },
    {
      "cell_type": "code",
      "source": [
        "df['description'].isnull().sum()"
      ],
      "metadata": {
        "colab": {
          "base_uri": "https://localhost:8080/"
        },
        "id": "jg7hJim22Dc6",
        "outputId": "2f5f2dc7-c871-45c7-c342-d01d4c279e97"
      },
      "execution_count": 21,
      "outputs": [
        {
          "output_type": "execute_result",
          "data": {
            "text/plain": [
              "0"
            ]
          },
          "metadata": {},
          "execution_count": 21
        }
      ]
    },
    {
      "cell_type": "code",
      "source": [
        "import plotly.graph_objs as go"
      ],
      "metadata": {
        "id": "R9Zr-iMS4cRA"
      },
      "execution_count": 22,
      "outputs": []
    },
    {
      "cell_type": "code",
      "source": [
        "desc_count1 = df['description'].value_counts().reset_index().rename(columns={'index':'index','description':'count'})\n",
        "fig = go.Figure(go.Bar(\n",
        "    x = desc_count1['index'],y = desc_count1['count'],text=desc_count1['count'],marker={'color': desc_count1['count']}\n",
        "    ,textposition = \"outside\"))\n",
        "fig.update_layout(title_text='Count plot of description',xaxis_title=\"description status\",yaxis_title=\"Number of count\")\n",
        "fig.show()"
      ],
      "metadata": {
        "colab": {
          "base_uri": "https://localhost:8080/",
          "height": 542
        },
        "id": "zn35MPDN37FJ",
        "outputId": "bce07546-2d9f-4705-92cf-5ccd2f5d2b0c"
      },
      "execution_count": 23,
      "outputs": [
        {
          "output_type": "display_data",
          "data": {
            "text/html": [
              "<html>\n",
              "<head><meta charset=\"utf-8\" /></head>\n",
              "<body>\n",
              "    <div>            <script src=\"https://cdnjs.cloudflare.com/ajax/libs/mathjax/2.7.5/MathJax.js?config=TeX-AMS-MML_SVG\"></script><script type=\"text/javascript\">if (window.MathJax) {MathJax.Hub.Config({SVG: {font: \"STIX-Web\"}});}</script>                <script type=\"text/javascript\">window.PlotlyConfig = {MathJaxConfig: 'local'};</script>\n",
              "        <script src=\"https://cdn.plot.ly/plotly-2.8.3.min.js\"></script>                <div id=\"783a9deb-a540-44bb-bd69-9226c36997ad\" class=\"plotly-graph-div\" style=\"height:525px; width:100%;\"></div>            <script type=\"text/javascript\">                                    window.PLOTLYENV=window.PLOTLYENV || {};                                    if (document.getElementById(\"783a9deb-a540-44bb-bd69-9226c36997ad\")) {                    Plotly.newPlot(                        \"783a9deb-a540-44bb-bd69-9226c36997ad\",                        [{\"marker\":{\"color\":[87,57,22,14,8,7,6,5,4,4,4,3,3,3,3,2,2,2,2,1,1,1,1,1,1,1,1,1,1,1,1]},\"text\":[87.0,57.0,22.0,14.0,8.0,7.0,6.0,5.0,4.0,4.0,4.0,3.0,3.0,3.0,3.0,2.0,2.0,2.0,2.0,1.0,1.0,1.0,1.0,1.0,1.0,1.0,1.0,1.0,1.0,1.0,1.0],\"textposition\":\"outside\",\"x\":[\"Technologies et services de l\\u2019information \",\"vide\",\"Logiciels informatiques \",\"Recrutement \",\"S\\u00e9curit\\u00e9 informatique et des r\\u00e9seaux \",\"Ressources humaines \",\"Mat\\u00e9riel informatique \",\"Internet \",\"R\\u00e9seaux informatiques \",\"T\\u00e9l\\u00e9communications \",\"\\u00c9tudes/recherche \",\"Formation professionnelle et coaching \",\"Enseignement sup\\u00e9rieur \",\"Administration publique \",\"Conseil en management \",\"Divertissements \",\"M\\u00e9dias en ligne \",\"Ing\\u00e9nierie m\\u00e9canique ou industrielle \",\"Industrie composants \\u00e9lectriques/\\u00e9lectroniques \",\"Assurances \",\"Musique \",\"Police/gendarmerie \",\"Biens et \\u00e9quipements pour les entreprises \",\"Automatismes industriels \",\"Produits \\u00e9lectroniques grand public \",\"Services d\\u2019information \",\"Grande distribution \",\"Machines et \\u00e9quipements \",\"H\\u00f4pitaux et centres de soins \",\"Environnement et \\u00e9nergies renouvelables \",\"Commerce de d\\u00e9tail \"],\"y\":[87,57,22,14,8,7,6,5,4,4,4,3,3,3,3,2,2,2,2,1,1,1,1,1,1,1,1,1,1,1,1],\"type\":\"bar\"}],                        {\"template\":{\"data\":{\"bar\":[{\"error_x\":{\"color\":\"#2a3f5f\"},\"error_y\":{\"color\":\"#2a3f5f\"},\"marker\":{\"line\":{\"color\":\"#E5ECF6\",\"width\":0.5},\"pattern\":{\"fillmode\":\"overlay\",\"size\":10,\"solidity\":0.2}},\"type\":\"bar\"}],\"barpolar\":[{\"marker\":{\"line\":{\"color\":\"#E5ECF6\",\"width\":0.5},\"pattern\":{\"fillmode\":\"overlay\",\"size\":10,\"solidity\":0.2}},\"type\":\"barpolar\"}],\"carpet\":[{\"aaxis\":{\"endlinecolor\":\"#2a3f5f\",\"gridcolor\":\"white\",\"linecolor\":\"white\",\"minorgridcolor\":\"white\",\"startlinecolor\":\"#2a3f5f\"},\"baxis\":{\"endlinecolor\":\"#2a3f5f\",\"gridcolor\":\"white\",\"linecolor\":\"white\",\"minorgridcolor\":\"white\",\"startlinecolor\":\"#2a3f5f\"},\"type\":\"carpet\"}],\"choropleth\":[{\"colorbar\":{\"outlinewidth\":0,\"ticks\":\"\"},\"type\":\"choropleth\"}],\"contour\":[{\"colorbar\":{\"outlinewidth\":0,\"ticks\":\"\"},\"colorscale\":[[0.0,\"#0d0887\"],[0.1111111111111111,\"#46039f\"],[0.2222222222222222,\"#7201a8\"],[0.3333333333333333,\"#9c179e\"],[0.4444444444444444,\"#bd3786\"],[0.5555555555555556,\"#d8576b\"],[0.6666666666666666,\"#ed7953\"],[0.7777777777777778,\"#fb9f3a\"],[0.8888888888888888,\"#fdca26\"],[1.0,\"#f0f921\"]],\"type\":\"contour\"}],\"contourcarpet\":[{\"colorbar\":{\"outlinewidth\":0,\"ticks\":\"\"},\"type\":\"contourcarpet\"}],\"heatmap\":[{\"colorbar\":{\"outlinewidth\":0,\"ticks\":\"\"},\"colorscale\":[[0.0,\"#0d0887\"],[0.1111111111111111,\"#46039f\"],[0.2222222222222222,\"#7201a8\"],[0.3333333333333333,\"#9c179e\"],[0.4444444444444444,\"#bd3786\"],[0.5555555555555556,\"#d8576b\"],[0.6666666666666666,\"#ed7953\"],[0.7777777777777778,\"#fb9f3a\"],[0.8888888888888888,\"#fdca26\"],[1.0,\"#f0f921\"]],\"type\":\"heatmap\"}],\"heatmapgl\":[{\"colorbar\":{\"outlinewidth\":0,\"ticks\":\"\"},\"colorscale\":[[0.0,\"#0d0887\"],[0.1111111111111111,\"#46039f\"],[0.2222222222222222,\"#7201a8\"],[0.3333333333333333,\"#9c179e\"],[0.4444444444444444,\"#bd3786\"],[0.5555555555555556,\"#d8576b\"],[0.6666666666666666,\"#ed7953\"],[0.7777777777777778,\"#fb9f3a\"],[0.8888888888888888,\"#fdca26\"],[1.0,\"#f0f921\"]],\"type\":\"heatmapgl\"}],\"histogram\":[{\"marker\":{\"pattern\":{\"fillmode\":\"overlay\",\"size\":10,\"solidity\":0.2}},\"type\":\"histogram\"}],\"histogram2d\":[{\"colorbar\":{\"outlinewidth\":0,\"ticks\":\"\"},\"colorscale\":[[0.0,\"#0d0887\"],[0.1111111111111111,\"#46039f\"],[0.2222222222222222,\"#7201a8\"],[0.3333333333333333,\"#9c179e\"],[0.4444444444444444,\"#bd3786\"],[0.5555555555555556,\"#d8576b\"],[0.6666666666666666,\"#ed7953\"],[0.7777777777777778,\"#fb9f3a\"],[0.8888888888888888,\"#fdca26\"],[1.0,\"#f0f921\"]],\"type\":\"histogram2d\"}],\"histogram2dcontour\":[{\"colorbar\":{\"outlinewidth\":0,\"ticks\":\"\"},\"colorscale\":[[0.0,\"#0d0887\"],[0.1111111111111111,\"#46039f\"],[0.2222222222222222,\"#7201a8\"],[0.3333333333333333,\"#9c179e\"],[0.4444444444444444,\"#bd3786\"],[0.5555555555555556,\"#d8576b\"],[0.6666666666666666,\"#ed7953\"],[0.7777777777777778,\"#fb9f3a\"],[0.8888888888888888,\"#fdca26\"],[1.0,\"#f0f921\"]],\"type\":\"histogram2dcontour\"}],\"mesh3d\":[{\"colorbar\":{\"outlinewidth\":0,\"ticks\":\"\"},\"type\":\"mesh3d\"}],\"parcoords\":[{\"line\":{\"colorbar\":{\"outlinewidth\":0,\"ticks\":\"\"}},\"type\":\"parcoords\"}],\"pie\":[{\"automargin\":true,\"type\":\"pie\"}],\"scatter\":[{\"marker\":{\"colorbar\":{\"outlinewidth\":0,\"ticks\":\"\"}},\"type\":\"scatter\"}],\"scatter3d\":[{\"line\":{\"colorbar\":{\"outlinewidth\":0,\"ticks\":\"\"}},\"marker\":{\"colorbar\":{\"outlinewidth\":0,\"ticks\":\"\"}},\"type\":\"scatter3d\"}],\"scattercarpet\":[{\"marker\":{\"colorbar\":{\"outlinewidth\":0,\"ticks\":\"\"}},\"type\":\"scattercarpet\"}],\"scattergeo\":[{\"marker\":{\"colorbar\":{\"outlinewidth\":0,\"ticks\":\"\"}},\"type\":\"scattergeo\"}],\"scattergl\":[{\"marker\":{\"colorbar\":{\"outlinewidth\":0,\"ticks\":\"\"}},\"type\":\"scattergl\"}],\"scattermapbox\":[{\"marker\":{\"colorbar\":{\"outlinewidth\":0,\"ticks\":\"\"}},\"type\":\"scattermapbox\"}],\"scatterpolar\":[{\"marker\":{\"colorbar\":{\"outlinewidth\":0,\"ticks\":\"\"}},\"type\":\"scatterpolar\"}],\"scatterpolargl\":[{\"marker\":{\"colorbar\":{\"outlinewidth\":0,\"ticks\":\"\"}},\"type\":\"scatterpolargl\"}],\"scatterternary\":[{\"marker\":{\"colorbar\":{\"outlinewidth\":0,\"ticks\":\"\"}},\"type\":\"scatterternary\"}],\"surface\":[{\"colorbar\":{\"outlinewidth\":0,\"ticks\":\"\"},\"colorscale\":[[0.0,\"#0d0887\"],[0.1111111111111111,\"#46039f\"],[0.2222222222222222,\"#7201a8\"],[0.3333333333333333,\"#9c179e\"],[0.4444444444444444,\"#bd3786\"],[0.5555555555555556,\"#d8576b\"],[0.6666666666666666,\"#ed7953\"],[0.7777777777777778,\"#fb9f3a\"],[0.8888888888888888,\"#fdca26\"],[1.0,\"#f0f921\"]],\"type\":\"surface\"}],\"table\":[{\"cells\":{\"fill\":{\"color\":\"#EBF0F8\"},\"line\":{\"color\":\"white\"}},\"header\":{\"fill\":{\"color\":\"#C8D4E3\"},\"line\":{\"color\":\"white\"}},\"type\":\"table\"}]},\"layout\":{\"annotationdefaults\":{\"arrowcolor\":\"#2a3f5f\",\"arrowhead\":0,\"arrowwidth\":1},\"autotypenumbers\":\"strict\",\"coloraxis\":{\"colorbar\":{\"outlinewidth\":0,\"ticks\":\"\"}},\"colorscale\":{\"diverging\":[[0,\"#8e0152\"],[0.1,\"#c51b7d\"],[0.2,\"#de77ae\"],[0.3,\"#f1b6da\"],[0.4,\"#fde0ef\"],[0.5,\"#f7f7f7\"],[0.6,\"#e6f5d0\"],[0.7,\"#b8e186\"],[0.8,\"#7fbc41\"],[0.9,\"#4d9221\"],[1,\"#276419\"]],\"sequential\":[[0.0,\"#0d0887\"],[0.1111111111111111,\"#46039f\"],[0.2222222222222222,\"#7201a8\"],[0.3333333333333333,\"#9c179e\"],[0.4444444444444444,\"#bd3786\"],[0.5555555555555556,\"#d8576b\"],[0.6666666666666666,\"#ed7953\"],[0.7777777777777778,\"#fb9f3a\"],[0.8888888888888888,\"#fdca26\"],[1.0,\"#f0f921\"]],\"sequentialminus\":[[0.0,\"#0d0887\"],[0.1111111111111111,\"#46039f\"],[0.2222222222222222,\"#7201a8\"],[0.3333333333333333,\"#9c179e\"],[0.4444444444444444,\"#bd3786\"],[0.5555555555555556,\"#d8576b\"],[0.6666666666666666,\"#ed7953\"],[0.7777777777777778,\"#fb9f3a\"],[0.8888888888888888,\"#fdca26\"],[1.0,\"#f0f921\"]]},\"colorway\":[\"#636efa\",\"#EF553B\",\"#00cc96\",\"#ab63fa\",\"#FFA15A\",\"#19d3f3\",\"#FF6692\",\"#B6E880\",\"#FF97FF\",\"#FECB52\"],\"font\":{\"color\":\"#2a3f5f\"},\"geo\":{\"bgcolor\":\"white\",\"lakecolor\":\"white\",\"landcolor\":\"#E5ECF6\",\"showlakes\":true,\"showland\":true,\"subunitcolor\":\"white\"},\"hoverlabel\":{\"align\":\"left\"},\"hovermode\":\"closest\",\"mapbox\":{\"style\":\"light\"},\"paper_bgcolor\":\"white\",\"plot_bgcolor\":\"#E5ECF6\",\"polar\":{\"angularaxis\":{\"gridcolor\":\"white\",\"linecolor\":\"white\",\"ticks\":\"\"},\"bgcolor\":\"#E5ECF6\",\"radialaxis\":{\"gridcolor\":\"white\",\"linecolor\":\"white\",\"ticks\":\"\"}},\"scene\":{\"xaxis\":{\"backgroundcolor\":\"#E5ECF6\",\"gridcolor\":\"white\",\"gridwidth\":2,\"linecolor\":\"white\",\"showbackground\":true,\"ticks\":\"\",\"zerolinecolor\":\"white\"},\"yaxis\":{\"backgroundcolor\":\"#E5ECF6\",\"gridcolor\":\"white\",\"gridwidth\":2,\"linecolor\":\"white\",\"showbackground\":true,\"ticks\":\"\",\"zerolinecolor\":\"white\"},\"zaxis\":{\"backgroundcolor\":\"#E5ECF6\",\"gridcolor\":\"white\",\"gridwidth\":2,\"linecolor\":\"white\",\"showbackground\":true,\"ticks\":\"\",\"zerolinecolor\":\"white\"}},\"shapedefaults\":{\"line\":{\"color\":\"#2a3f5f\"}},\"ternary\":{\"aaxis\":{\"gridcolor\":\"white\",\"linecolor\":\"white\",\"ticks\":\"\"},\"baxis\":{\"gridcolor\":\"white\",\"linecolor\":\"white\",\"ticks\":\"\"},\"bgcolor\":\"#E5ECF6\",\"caxis\":{\"gridcolor\":\"white\",\"linecolor\":\"white\",\"ticks\":\"\"}},\"title\":{\"x\":0.05},\"xaxis\":{\"automargin\":true,\"gridcolor\":\"white\",\"linecolor\":\"white\",\"ticks\":\"\",\"title\":{\"standoff\":15},\"zerolinecolor\":\"white\",\"zerolinewidth\":2},\"yaxis\":{\"automargin\":true,\"gridcolor\":\"white\",\"linecolor\":\"white\",\"ticks\":\"\",\"title\":{\"standoff\":15},\"zerolinecolor\":\"white\",\"zerolinewidth\":2}}},\"title\":{\"text\":\"Count plot of description\"},\"xaxis\":{\"title\":{\"text\":\"description status\"}},\"yaxis\":{\"title\":{\"text\":\"Number of count\"}}},                        {\"responsive\": true}                    ).then(function(){\n",
              "                            \n",
              "var gd = document.getElementById('783a9deb-a540-44bb-bd69-9226c36997ad');\n",
              "var x = new MutationObserver(function (mutations, observer) {{\n",
              "        var display = window.getComputedStyle(gd).display;\n",
              "        if (!display || display === 'none') {{\n",
              "            console.log([gd, 'removed!']);\n",
              "            Plotly.purge(gd);\n",
              "            observer.disconnect();\n",
              "        }}\n",
              "}});\n",
              "\n",
              "// Listen for the removal of the full notebook cells\n",
              "var notebookContainer = gd.closest('#notebook-container');\n",
              "if (notebookContainer) {{\n",
              "    x.observe(notebookContainer, {childList: true});\n",
              "}}\n",
              "\n",
              "// Listen for the clearing of the current output cell\n",
              "var outputEl = gd.closest('.output');\n",
              "if (outputEl) {{\n",
              "    x.observe(outputEl, {childList: true});\n",
              "}}\n",
              "\n",
              "                        })                };                            </script>        </div>\n",
              "</body>\n",
              "</html>"
            ]
          },
          "metadata": {}
        }
      ]
    },
    {
      "cell_type": "code",
      "source": [
        "list_activite=[]\n",
        "for i in desc_count1['index'] :\n",
        "  list_activite.append(i)\n",
        "\n",
        "list_activite.pop(1) # 'vide'\n",
        "list_activite"
      ],
      "metadata": {
        "colab": {
          "base_uri": "https://localhost:8080/"
        },
        "id": "kGaVQhB76yZg",
        "outputId": "592a8a6f-54e6-4bc4-8a0c-3414dc7f4fe2"
      },
      "execution_count": 24,
      "outputs": [
        {
          "output_type": "execute_result",
          "data": {
            "text/plain": [
              "['Technologies et services de l’information ',\n",
              " 'Logiciels informatiques ',\n",
              " 'Recrutement ',\n",
              " 'Sécurité informatique et des réseaux ',\n",
              " 'Ressources humaines ',\n",
              " 'Matériel informatique ',\n",
              " 'Internet ',\n",
              " 'Réseaux informatiques ',\n",
              " 'Télécommunications ',\n",
              " 'Études/recherche ',\n",
              " 'Formation professionnelle et coaching ',\n",
              " 'Enseignement supérieur ',\n",
              " 'Administration publique ',\n",
              " 'Conseil en management ',\n",
              " 'Divertissements ',\n",
              " 'Médias en ligne ',\n",
              " 'Ingénierie mécanique ou industrielle ',\n",
              " 'Industrie composants électriques/électroniques ',\n",
              " 'Assurances ',\n",
              " 'Musique ',\n",
              " 'Police/gendarmerie ',\n",
              " 'Biens et équipements pour les entreprises ',\n",
              " 'Automatismes industriels ',\n",
              " 'Produits électroniques grand public ',\n",
              " 'Services d’information ',\n",
              " 'Grande distribution ',\n",
              " 'Machines et équipements ',\n",
              " 'Hôpitaux et centres de soins ',\n",
              " 'Environnement et énergies renouvelables ',\n",
              " 'Commerce de détail ']"
            ]
          },
          "metadata": {},
          "execution_count": 24
        }
      ]
    },
    {
      "cell_type": "code",
      "source": [
        "!pip install fuzzywuzzy"
      ],
      "metadata": {
        "colab": {
          "base_uri": "https://localhost:8080/"
        },
        "id": "dqMEYDrF-0xH",
        "outputId": "b0251e16-2c41-46ff-9dbe-704b52a4bc33"
      },
      "execution_count": 25,
      "outputs": [
        {
          "output_type": "stream",
          "name": "stdout",
          "text": [
            "Collecting fuzzywuzzy\n",
            "  Downloading fuzzywuzzy-0.18.0-py2.py3-none-any.whl (18 kB)\n",
            "Installing collected packages: fuzzywuzzy\n",
            "Successfully installed fuzzywuzzy-0.18.0\n"
          ]
        }
      ]
    },
    {
      "cell_type": "code",
      "source": [
        "from fuzzywuzzy import fuzz\n",
        "\n",
        "def get_ratio(row1,row2):\n",
        "    name = row1\n",
        "    name1 = row2\n",
        "    return fuzz.token_set_ratio(name, name1)\n",
        "#len(Profile[Profile.apply(get_ratio, axis=1) > 70]) / len(Profile)"
      ],
      "metadata": {
        "id": "QjADXcX_9hrB",
        "colab": {
          "base_uri": "https://localhost:8080/"
        },
        "outputId": "1702f8bd-3f17-4750-cea1-5cea8485d7f9"
      },
      "execution_count": 26,
      "outputs": [
        {
          "output_type": "stream",
          "name": "stderr",
          "text": [
            "/usr/local/lib/python3.7/dist-packages/fuzzywuzzy/fuzz.py:11: UserWarning:\n",
            "\n",
            "Using slow pure-python SequenceMatcher. Install python-Levenshtein to remove this warning\n",
            "\n"
          ]
        }
      ]
    },
    {
      "cell_type": "code",
      "source": [
        "#for i in df['name'] :\n",
        "#  ind=df.index[df['name']==i]\n",
        "#  for j in list_activite :\n",
        "#    item = df['description'][ind]\n",
        "#    if item is 'vide' :\n",
        "#      if(get_ratio(i,j) > 10):\n",
        "#        index=df.index[df['description']==i]\n",
        "#        df['description'][index] = j\n",
        "#        df"
      ],
      "metadata": {
        "id": "bseaz2CmAh3r"
      },
      "execution_count": 27,
      "outputs": []
    },
    {
      "cell_type": "code",
      "source": [
        "#ch='vide'\n",
        "#for i in df['name']:\n",
        "#  for j in list_activite:\n",
        "#    if(get_ratio(i,j) > 50):\n",
        "#        #print(get_ratio(i,j))\n",
        "#        index=df.index[df['name']==i]\n",
        "#        if (ch in df['description'][index]): \n",
        "#          df['description'][index] = j\n",
        "            \n",
        "#df['description'][0]"
      ],
      "metadata": {
        "id": "BRyd184LPKFz"
      },
      "execution_count": 28,
      "outputs": []
    },
    {
      "cell_type": "code",
      "source": [
        "ch='vide'\n",
        "for i in df['description']:\n",
        "  if ch in i :\n",
        "    index=df.index[df['description']==i]\n",
        "\n",
        "    for j in list_activite:\n",
        "      if(get_ratio(df['name'][index],j) > 60):\n",
        "        df['description'][index]=j"
      ],
      "metadata": {
        "id": "TWiG0TADOq9V"
      },
      "execution_count": 29,
      "outputs": []
    },
    {
      "cell_type": "code",
      "source": [
        "df['description']"
      ],
      "metadata": {
        "colab": {
          "base_uri": "https://localhost:8080/"
        },
        "id": "QN1cBoawBQbc",
        "outputId": "c9f7de94-adb5-4e50-be3e-ca9603d816db"
      },
      "execution_count": 30,
      "outputs": [
        {
          "output_type": "execute_result",
          "data": {
            "text/plain": [
              "0      Services d’information                    \n",
              "1      Technologies et services de l’information \n",
              "2      Logiciels informatiques                   \n",
              "3      Réseaux informatiques                     \n",
              "4      Technologies et services de l’information \n",
              "                          ...                    \n",
              "245    Services d’information                    \n",
              "246    Services d’information                    \n",
              "247    Technologies et services de l’information \n",
              "248    Réseaux informatiques                     \n",
              "249    Ressources humaines                       \n",
              "Name: description, Length: 250, dtype: object"
            ]
          },
          "metadata": {},
          "execution_count": 30
        }
      ]
    },
    {
      "cell_type": "code",
      "source": [
        "desc_count1 = df['description'].value_counts().reset_index().rename(columns={'index':'index','description':'count'})\n",
        "fig = go.Figure(go.Bar(\n",
        "    x = desc_count1['index'],y = desc_count1['count'],text=desc_count1['count'],marker={'color': desc_count1['count']}\n",
        "    ,textposition = \"outside\"))\n",
        "fig.update_layout(title_text='Count plot of description',xaxis_title=\"description status\",yaxis_title=\"Number of count\")\n",
        "fig.show()"
      ],
      "metadata": {
        "colab": {
          "base_uri": "https://localhost:8080/",
          "height": 542
        },
        "id": "T6XHZXSyORAL",
        "outputId": "c15eed26-98fe-48cd-eaf5-fd33ef4c62f8"
      },
      "execution_count": 31,
      "outputs": [
        {
          "output_type": "display_data",
          "data": {
            "text/html": [
              "<html>\n",
              "<head><meta charset=\"utf-8\" /></head>\n",
              "<body>\n",
              "    <div>            <script src=\"https://cdnjs.cloudflare.com/ajax/libs/mathjax/2.7.5/MathJax.js?config=TeX-AMS-MML_SVG\"></script><script type=\"text/javascript\">if (window.MathJax) {MathJax.Hub.Config({SVG: {font: \"STIX-Web\"}});}</script>                <script type=\"text/javascript\">window.PlotlyConfig = {MathJaxConfig: 'local'};</script>\n",
              "        <script src=\"https://cdn.plot.ly/plotly-2.8.3.min.js\"></script>                <div id=\"7f6584c5-1c8f-484b-9b87-0dbe93fbeff1\" class=\"plotly-graph-div\" style=\"height:525px; width:100%;\"></div>            <script type=\"text/javascript\">                                    window.PLOTLYENV=window.PLOTLYENV || {};                                    if (document.getElementById(\"7f6584c5-1c8f-484b-9b87-0dbe93fbeff1\")) {                    Plotly.newPlot(                        \"7f6584c5-1c8f-484b-9b87-0dbe93fbeff1\",                        [{\"marker\":{\"color\":[87,58,22,14,8,7,6,5,4,4,4,3,3,3,3,2,2,2,2,1,1,1,1,1,1,1,1,1,1,1]},\"text\":[87.0,58.0,22.0,14.0,8.0,7.0,6.0,5.0,4.0,4.0,4.0,3.0,3.0,3.0,3.0,2.0,2.0,2.0,2.0,1.0,1.0,1.0,1.0,1.0,1.0,1.0,1.0,1.0,1.0,1.0],\"textposition\":\"outside\",\"x\":[\"Technologies et services de l\\u2019information \",\"Services d\\u2019information \",\"Logiciels informatiques \",\"Recrutement \",\"S\\u00e9curit\\u00e9 informatique et des r\\u00e9seaux \",\"Ressources humaines \",\"Mat\\u00e9riel informatique \",\"Internet \",\"T\\u00e9l\\u00e9communications \",\"\\u00c9tudes/recherche \",\"R\\u00e9seaux informatiques \",\"Conseil en management \",\"Enseignement sup\\u00e9rieur \",\"Administration publique \",\"Formation professionnelle et coaching \",\"M\\u00e9dias en ligne \",\"Divertissements \",\"Ing\\u00e9nierie m\\u00e9canique ou industrielle \",\"Industrie composants \\u00e9lectriques/\\u00e9lectroniques \",\"Automatismes industriels \",\"Musique \",\"Police/gendarmerie \",\"Biens et \\u00e9quipements pour les entreprises \",\"Environnement et \\u00e9nergies renouvelables \",\"Assurances \",\"Produits \\u00e9lectroniques grand public \",\"Grande distribution \",\"Machines et \\u00e9quipements \",\"H\\u00f4pitaux et centres de soins \",\"Commerce de d\\u00e9tail \"],\"y\":[87,58,22,14,8,7,6,5,4,4,4,3,3,3,3,2,2,2,2,1,1,1,1,1,1,1,1,1,1,1],\"type\":\"bar\"}],                        {\"template\":{\"data\":{\"bar\":[{\"error_x\":{\"color\":\"#2a3f5f\"},\"error_y\":{\"color\":\"#2a3f5f\"},\"marker\":{\"line\":{\"color\":\"#E5ECF6\",\"width\":0.5},\"pattern\":{\"fillmode\":\"overlay\",\"size\":10,\"solidity\":0.2}},\"type\":\"bar\"}],\"barpolar\":[{\"marker\":{\"line\":{\"color\":\"#E5ECF6\",\"width\":0.5},\"pattern\":{\"fillmode\":\"overlay\",\"size\":10,\"solidity\":0.2}},\"type\":\"barpolar\"}],\"carpet\":[{\"aaxis\":{\"endlinecolor\":\"#2a3f5f\",\"gridcolor\":\"white\",\"linecolor\":\"white\",\"minorgridcolor\":\"white\",\"startlinecolor\":\"#2a3f5f\"},\"baxis\":{\"endlinecolor\":\"#2a3f5f\",\"gridcolor\":\"white\",\"linecolor\":\"white\",\"minorgridcolor\":\"white\",\"startlinecolor\":\"#2a3f5f\"},\"type\":\"carpet\"}],\"choropleth\":[{\"colorbar\":{\"outlinewidth\":0,\"ticks\":\"\"},\"type\":\"choropleth\"}],\"contour\":[{\"colorbar\":{\"outlinewidth\":0,\"ticks\":\"\"},\"colorscale\":[[0.0,\"#0d0887\"],[0.1111111111111111,\"#46039f\"],[0.2222222222222222,\"#7201a8\"],[0.3333333333333333,\"#9c179e\"],[0.4444444444444444,\"#bd3786\"],[0.5555555555555556,\"#d8576b\"],[0.6666666666666666,\"#ed7953\"],[0.7777777777777778,\"#fb9f3a\"],[0.8888888888888888,\"#fdca26\"],[1.0,\"#f0f921\"]],\"type\":\"contour\"}],\"contourcarpet\":[{\"colorbar\":{\"outlinewidth\":0,\"ticks\":\"\"},\"type\":\"contourcarpet\"}],\"heatmap\":[{\"colorbar\":{\"outlinewidth\":0,\"ticks\":\"\"},\"colorscale\":[[0.0,\"#0d0887\"],[0.1111111111111111,\"#46039f\"],[0.2222222222222222,\"#7201a8\"],[0.3333333333333333,\"#9c179e\"],[0.4444444444444444,\"#bd3786\"],[0.5555555555555556,\"#d8576b\"],[0.6666666666666666,\"#ed7953\"],[0.7777777777777778,\"#fb9f3a\"],[0.8888888888888888,\"#fdca26\"],[1.0,\"#f0f921\"]],\"type\":\"heatmap\"}],\"heatmapgl\":[{\"colorbar\":{\"outlinewidth\":0,\"ticks\":\"\"},\"colorscale\":[[0.0,\"#0d0887\"],[0.1111111111111111,\"#46039f\"],[0.2222222222222222,\"#7201a8\"],[0.3333333333333333,\"#9c179e\"],[0.4444444444444444,\"#bd3786\"],[0.5555555555555556,\"#d8576b\"],[0.6666666666666666,\"#ed7953\"],[0.7777777777777778,\"#fb9f3a\"],[0.8888888888888888,\"#fdca26\"],[1.0,\"#f0f921\"]],\"type\":\"heatmapgl\"}],\"histogram\":[{\"marker\":{\"pattern\":{\"fillmode\":\"overlay\",\"size\":10,\"solidity\":0.2}},\"type\":\"histogram\"}],\"histogram2d\":[{\"colorbar\":{\"outlinewidth\":0,\"ticks\":\"\"},\"colorscale\":[[0.0,\"#0d0887\"],[0.1111111111111111,\"#46039f\"],[0.2222222222222222,\"#7201a8\"],[0.3333333333333333,\"#9c179e\"],[0.4444444444444444,\"#bd3786\"],[0.5555555555555556,\"#d8576b\"],[0.6666666666666666,\"#ed7953\"],[0.7777777777777778,\"#fb9f3a\"],[0.8888888888888888,\"#fdca26\"],[1.0,\"#f0f921\"]],\"type\":\"histogram2d\"}],\"histogram2dcontour\":[{\"colorbar\":{\"outlinewidth\":0,\"ticks\":\"\"},\"colorscale\":[[0.0,\"#0d0887\"],[0.1111111111111111,\"#46039f\"],[0.2222222222222222,\"#7201a8\"],[0.3333333333333333,\"#9c179e\"],[0.4444444444444444,\"#bd3786\"],[0.5555555555555556,\"#d8576b\"],[0.6666666666666666,\"#ed7953\"],[0.7777777777777778,\"#fb9f3a\"],[0.8888888888888888,\"#fdca26\"],[1.0,\"#f0f921\"]],\"type\":\"histogram2dcontour\"}],\"mesh3d\":[{\"colorbar\":{\"outlinewidth\":0,\"ticks\":\"\"},\"type\":\"mesh3d\"}],\"parcoords\":[{\"line\":{\"colorbar\":{\"outlinewidth\":0,\"ticks\":\"\"}},\"type\":\"parcoords\"}],\"pie\":[{\"automargin\":true,\"type\":\"pie\"}],\"scatter\":[{\"marker\":{\"colorbar\":{\"outlinewidth\":0,\"ticks\":\"\"}},\"type\":\"scatter\"}],\"scatter3d\":[{\"line\":{\"colorbar\":{\"outlinewidth\":0,\"ticks\":\"\"}},\"marker\":{\"colorbar\":{\"outlinewidth\":0,\"ticks\":\"\"}},\"type\":\"scatter3d\"}],\"scattercarpet\":[{\"marker\":{\"colorbar\":{\"outlinewidth\":0,\"ticks\":\"\"}},\"type\":\"scattercarpet\"}],\"scattergeo\":[{\"marker\":{\"colorbar\":{\"outlinewidth\":0,\"ticks\":\"\"}},\"type\":\"scattergeo\"}],\"scattergl\":[{\"marker\":{\"colorbar\":{\"outlinewidth\":0,\"ticks\":\"\"}},\"type\":\"scattergl\"}],\"scattermapbox\":[{\"marker\":{\"colorbar\":{\"outlinewidth\":0,\"ticks\":\"\"}},\"type\":\"scattermapbox\"}],\"scatterpolar\":[{\"marker\":{\"colorbar\":{\"outlinewidth\":0,\"ticks\":\"\"}},\"type\":\"scatterpolar\"}],\"scatterpolargl\":[{\"marker\":{\"colorbar\":{\"outlinewidth\":0,\"ticks\":\"\"}},\"type\":\"scatterpolargl\"}],\"scatterternary\":[{\"marker\":{\"colorbar\":{\"outlinewidth\":0,\"ticks\":\"\"}},\"type\":\"scatterternary\"}],\"surface\":[{\"colorbar\":{\"outlinewidth\":0,\"ticks\":\"\"},\"colorscale\":[[0.0,\"#0d0887\"],[0.1111111111111111,\"#46039f\"],[0.2222222222222222,\"#7201a8\"],[0.3333333333333333,\"#9c179e\"],[0.4444444444444444,\"#bd3786\"],[0.5555555555555556,\"#d8576b\"],[0.6666666666666666,\"#ed7953\"],[0.7777777777777778,\"#fb9f3a\"],[0.8888888888888888,\"#fdca26\"],[1.0,\"#f0f921\"]],\"type\":\"surface\"}],\"table\":[{\"cells\":{\"fill\":{\"color\":\"#EBF0F8\"},\"line\":{\"color\":\"white\"}},\"header\":{\"fill\":{\"color\":\"#C8D4E3\"},\"line\":{\"color\":\"white\"}},\"type\":\"table\"}]},\"layout\":{\"annotationdefaults\":{\"arrowcolor\":\"#2a3f5f\",\"arrowhead\":0,\"arrowwidth\":1},\"autotypenumbers\":\"strict\",\"coloraxis\":{\"colorbar\":{\"outlinewidth\":0,\"ticks\":\"\"}},\"colorscale\":{\"diverging\":[[0,\"#8e0152\"],[0.1,\"#c51b7d\"],[0.2,\"#de77ae\"],[0.3,\"#f1b6da\"],[0.4,\"#fde0ef\"],[0.5,\"#f7f7f7\"],[0.6,\"#e6f5d0\"],[0.7,\"#b8e186\"],[0.8,\"#7fbc41\"],[0.9,\"#4d9221\"],[1,\"#276419\"]],\"sequential\":[[0.0,\"#0d0887\"],[0.1111111111111111,\"#46039f\"],[0.2222222222222222,\"#7201a8\"],[0.3333333333333333,\"#9c179e\"],[0.4444444444444444,\"#bd3786\"],[0.5555555555555556,\"#d8576b\"],[0.6666666666666666,\"#ed7953\"],[0.7777777777777778,\"#fb9f3a\"],[0.8888888888888888,\"#fdca26\"],[1.0,\"#f0f921\"]],\"sequentialminus\":[[0.0,\"#0d0887\"],[0.1111111111111111,\"#46039f\"],[0.2222222222222222,\"#7201a8\"],[0.3333333333333333,\"#9c179e\"],[0.4444444444444444,\"#bd3786\"],[0.5555555555555556,\"#d8576b\"],[0.6666666666666666,\"#ed7953\"],[0.7777777777777778,\"#fb9f3a\"],[0.8888888888888888,\"#fdca26\"],[1.0,\"#f0f921\"]]},\"colorway\":[\"#636efa\",\"#EF553B\",\"#00cc96\",\"#ab63fa\",\"#FFA15A\",\"#19d3f3\",\"#FF6692\",\"#B6E880\",\"#FF97FF\",\"#FECB52\"],\"font\":{\"color\":\"#2a3f5f\"},\"geo\":{\"bgcolor\":\"white\",\"lakecolor\":\"white\",\"landcolor\":\"#E5ECF6\",\"showlakes\":true,\"showland\":true,\"subunitcolor\":\"white\"},\"hoverlabel\":{\"align\":\"left\"},\"hovermode\":\"closest\",\"mapbox\":{\"style\":\"light\"},\"paper_bgcolor\":\"white\",\"plot_bgcolor\":\"#E5ECF6\",\"polar\":{\"angularaxis\":{\"gridcolor\":\"white\",\"linecolor\":\"white\",\"ticks\":\"\"},\"bgcolor\":\"#E5ECF6\",\"radialaxis\":{\"gridcolor\":\"white\",\"linecolor\":\"white\",\"ticks\":\"\"}},\"scene\":{\"xaxis\":{\"backgroundcolor\":\"#E5ECF6\",\"gridcolor\":\"white\",\"gridwidth\":2,\"linecolor\":\"white\",\"showbackground\":true,\"ticks\":\"\",\"zerolinecolor\":\"white\"},\"yaxis\":{\"backgroundcolor\":\"#E5ECF6\",\"gridcolor\":\"white\",\"gridwidth\":2,\"linecolor\":\"white\",\"showbackground\":true,\"ticks\":\"\",\"zerolinecolor\":\"white\"},\"zaxis\":{\"backgroundcolor\":\"#E5ECF6\",\"gridcolor\":\"white\",\"gridwidth\":2,\"linecolor\":\"white\",\"showbackground\":true,\"ticks\":\"\",\"zerolinecolor\":\"white\"}},\"shapedefaults\":{\"line\":{\"color\":\"#2a3f5f\"}},\"ternary\":{\"aaxis\":{\"gridcolor\":\"white\",\"linecolor\":\"white\",\"ticks\":\"\"},\"baxis\":{\"gridcolor\":\"white\",\"linecolor\":\"white\",\"ticks\":\"\"},\"bgcolor\":\"#E5ECF6\",\"caxis\":{\"gridcolor\":\"white\",\"linecolor\":\"white\",\"ticks\":\"\"}},\"title\":{\"x\":0.05},\"xaxis\":{\"automargin\":true,\"gridcolor\":\"white\",\"linecolor\":\"white\",\"ticks\":\"\",\"title\":{\"standoff\":15},\"zerolinecolor\":\"white\",\"zerolinewidth\":2},\"yaxis\":{\"automargin\":true,\"gridcolor\":\"white\",\"linecolor\":\"white\",\"ticks\":\"\",\"title\":{\"standoff\":15},\"zerolinecolor\":\"white\",\"zerolinewidth\":2}}},\"title\":{\"text\":\"Count plot of description\"},\"xaxis\":{\"title\":{\"text\":\"description status\"}},\"yaxis\":{\"title\":{\"text\":\"Number of count\"}}},                        {\"responsive\": true}                    ).then(function(){\n",
              "                            \n",
              "var gd = document.getElementById('7f6584c5-1c8f-484b-9b87-0dbe93fbeff1');\n",
              "var x = new MutationObserver(function (mutations, observer) {{\n",
              "        var display = window.getComputedStyle(gd).display;\n",
              "        if (!display || display === 'none') {{\n",
              "            console.log([gd, 'removed!']);\n",
              "            Plotly.purge(gd);\n",
              "            observer.disconnect();\n",
              "        }}\n",
              "}});\n",
              "\n",
              "// Listen for the removal of the full notebook cells\n",
              "var notebookContainer = gd.closest('#notebook-container');\n",
              "if (notebookContainer) {{\n",
              "    x.observe(notebookContainer, {childList: true});\n",
              "}}\n",
              "\n",
              "// Listen for the clearing of the current output cell\n",
              "var outputEl = gd.closest('.output');\n",
              "if (outputEl) {{\n",
              "    x.observe(outputEl, {childList: true});\n",
              "}}\n",
              "\n",
              "                        })                };                            </script>        </div>\n",
              "</body>\n",
              "</html>"
            ]
          },
          "metadata": {}
        }
      ]
    },
    {
      "cell_type": "code",
      "source": [
        "aa=df['description']\n",
        "bb='vide'\n",
        "sum2=0\n",
        "for i in aa :\n",
        "  if bb in i :\n",
        "    sum2=sum2+1\n",
        "\n",
        "sum2  #0 vide"
      ],
      "metadata": {
        "colab": {
          "base_uri": "https://localhost:8080/"
        },
        "id": "eorfOlQLUV69",
        "outputId": "558922c1-9244-41d7-ce49-080789705384"
      },
      "execution_count": 32,
      "outputs": [
        {
          "output_type": "execute_result",
          "data": {
            "text/plain": [
              "0"
            ]
          },
          "metadata": {},
          "execution_count": 32
        }
      ]
    },
    {
      "cell_type": "code",
      "source": [
        "translator = Translator()\n",
        "df['description']=df['description'].apply(lambda x: translator.translate(x).text)"
      ],
      "metadata": {
        "id": "q62iVp8X54aC"
      },
      "execution_count": 33,
      "outputs": []
    },
    {
      "cell_type": "code",
      "source": [
        "desc_count1 = df['description'].value_counts().reset_index().rename(columns={'index':'index','description':'count'})\n",
        "fig = go.Figure(go.Bar(\n",
        "    x = desc_count1['index'],y = desc_count1['count'],text=desc_count1['count'],marker={'color': desc_count1['count']}\n",
        "    ,textposition = \"outside\"))\n",
        "fig.update_layout(title_text='Count plot of description',xaxis_title=\"description status\",yaxis_title=\"Number of count\")\n",
        "fig.show()"
      ],
      "metadata": {
        "colab": {
          "base_uri": "https://localhost:8080/",
          "height": 542
        },
        "id": "VEv85po98rff",
        "outputId": "4b6642d2-bde1-4fd1-9851-81ec05005fdf"
      },
      "execution_count": 35,
      "outputs": [
        {
          "output_type": "display_data",
          "data": {
            "text/html": [
              "<html>\n",
              "<head><meta charset=\"utf-8\" /></head>\n",
              "<body>\n",
              "    <div>            <script src=\"https://cdnjs.cloudflare.com/ajax/libs/mathjax/2.7.5/MathJax.js?config=TeX-AMS-MML_SVG\"></script><script type=\"text/javascript\">if (window.MathJax) {MathJax.Hub.Config({SVG: {font: \"STIX-Web\"}});}</script>                <script type=\"text/javascript\">window.PlotlyConfig = {MathJaxConfig: 'local'};</script>\n",
              "        <script src=\"https://cdn.plot.ly/plotly-2.8.3.min.js\"></script>                <div id=\"31f4c8b3-723b-4571-ac40-b5064880f46f\" class=\"plotly-graph-div\" style=\"height:525px; width:100%;\"></div>            <script type=\"text/javascript\">                                    window.PLOTLYENV=window.PLOTLYENV || {};                                    if (document.getElementById(\"31f4c8b3-723b-4571-ac40-b5064880f46f\")) {                    Plotly.newPlot(                        \"31f4c8b3-723b-4571-ac40-b5064880f46f\",                        [{\"marker\":{\"color\":[87,58,22,14,8,7,6,5,4,4,4,3,3,3,3,2,2,2,2,1,1,1,1,1,1,1,1,1,1,1]},\"text\":[87.0,58.0,22.0,14.0,8.0,7.0,6.0,5.0,4.0,4.0,4.0,3.0,3.0,3.0,3.0,2.0,2.0,2.0,2.0,1.0,1.0,1.0,1.0,1.0,1.0,1.0,1.0,1.0,1.0,1.0],\"textposition\":\"outside\",\"x\":[\"Information Technology and Services\",\"Services d\\u2019information\",\"Software\",\"Recruitment\",\"Computer and network security\",\"Human ressources\",\"Hardware\",\"Internet\",\"Telecommunications\",\"Studies/research\",\"Computer networks\",\"Management consulting\",\"Higher Education\",\"Public administration\",\"Professional training and coaching\",\"Online media\",\"Entertainment\",\"Mechanical or industrial engineering\",\"Electrical/electronic components industry\",\"Industrial automation\",\"Music\",\"Police/gendarmerie\",\"Goods and equipment for businesses\",\"Environment and renewable energies\",\"Assurances\",\"Consumer electronics\",\"Retail\",\"Machinery and equipment\",\"Hospitals and health centers\",\"Retail business\"],\"y\":[87,58,22,14,8,7,6,5,4,4,4,3,3,3,3,2,2,2,2,1,1,1,1,1,1,1,1,1,1,1],\"type\":\"bar\"}],                        {\"template\":{\"data\":{\"bar\":[{\"error_x\":{\"color\":\"#2a3f5f\"},\"error_y\":{\"color\":\"#2a3f5f\"},\"marker\":{\"line\":{\"color\":\"#E5ECF6\",\"width\":0.5},\"pattern\":{\"fillmode\":\"overlay\",\"size\":10,\"solidity\":0.2}},\"type\":\"bar\"}],\"barpolar\":[{\"marker\":{\"line\":{\"color\":\"#E5ECF6\",\"width\":0.5},\"pattern\":{\"fillmode\":\"overlay\",\"size\":10,\"solidity\":0.2}},\"type\":\"barpolar\"}],\"carpet\":[{\"aaxis\":{\"endlinecolor\":\"#2a3f5f\",\"gridcolor\":\"white\",\"linecolor\":\"white\",\"minorgridcolor\":\"white\",\"startlinecolor\":\"#2a3f5f\"},\"baxis\":{\"endlinecolor\":\"#2a3f5f\",\"gridcolor\":\"white\",\"linecolor\":\"white\",\"minorgridcolor\":\"white\",\"startlinecolor\":\"#2a3f5f\"},\"type\":\"carpet\"}],\"choropleth\":[{\"colorbar\":{\"outlinewidth\":0,\"ticks\":\"\"},\"type\":\"choropleth\"}],\"contour\":[{\"colorbar\":{\"outlinewidth\":0,\"ticks\":\"\"},\"colorscale\":[[0.0,\"#0d0887\"],[0.1111111111111111,\"#46039f\"],[0.2222222222222222,\"#7201a8\"],[0.3333333333333333,\"#9c179e\"],[0.4444444444444444,\"#bd3786\"],[0.5555555555555556,\"#d8576b\"],[0.6666666666666666,\"#ed7953\"],[0.7777777777777778,\"#fb9f3a\"],[0.8888888888888888,\"#fdca26\"],[1.0,\"#f0f921\"]],\"type\":\"contour\"}],\"contourcarpet\":[{\"colorbar\":{\"outlinewidth\":0,\"ticks\":\"\"},\"type\":\"contourcarpet\"}],\"heatmap\":[{\"colorbar\":{\"outlinewidth\":0,\"ticks\":\"\"},\"colorscale\":[[0.0,\"#0d0887\"],[0.1111111111111111,\"#46039f\"],[0.2222222222222222,\"#7201a8\"],[0.3333333333333333,\"#9c179e\"],[0.4444444444444444,\"#bd3786\"],[0.5555555555555556,\"#d8576b\"],[0.6666666666666666,\"#ed7953\"],[0.7777777777777778,\"#fb9f3a\"],[0.8888888888888888,\"#fdca26\"],[1.0,\"#f0f921\"]],\"type\":\"heatmap\"}],\"heatmapgl\":[{\"colorbar\":{\"outlinewidth\":0,\"ticks\":\"\"},\"colorscale\":[[0.0,\"#0d0887\"],[0.1111111111111111,\"#46039f\"],[0.2222222222222222,\"#7201a8\"],[0.3333333333333333,\"#9c179e\"],[0.4444444444444444,\"#bd3786\"],[0.5555555555555556,\"#d8576b\"],[0.6666666666666666,\"#ed7953\"],[0.7777777777777778,\"#fb9f3a\"],[0.8888888888888888,\"#fdca26\"],[1.0,\"#f0f921\"]],\"type\":\"heatmapgl\"}],\"histogram\":[{\"marker\":{\"pattern\":{\"fillmode\":\"overlay\",\"size\":10,\"solidity\":0.2}},\"type\":\"histogram\"}],\"histogram2d\":[{\"colorbar\":{\"outlinewidth\":0,\"ticks\":\"\"},\"colorscale\":[[0.0,\"#0d0887\"],[0.1111111111111111,\"#46039f\"],[0.2222222222222222,\"#7201a8\"],[0.3333333333333333,\"#9c179e\"],[0.4444444444444444,\"#bd3786\"],[0.5555555555555556,\"#d8576b\"],[0.6666666666666666,\"#ed7953\"],[0.7777777777777778,\"#fb9f3a\"],[0.8888888888888888,\"#fdca26\"],[1.0,\"#f0f921\"]],\"type\":\"histogram2d\"}],\"histogram2dcontour\":[{\"colorbar\":{\"outlinewidth\":0,\"ticks\":\"\"},\"colorscale\":[[0.0,\"#0d0887\"],[0.1111111111111111,\"#46039f\"],[0.2222222222222222,\"#7201a8\"],[0.3333333333333333,\"#9c179e\"],[0.4444444444444444,\"#bd3786\"],[0.5555555555555556,\"#d8576b\"],[0.6666666666666666,\"#ed7953\"],[0.7777777777777778,\"#fb9f3a\"],[0.8888888888888888,\"#fdca26\"],[1.0,\"#f0f921\"]],\"type\":\"histogram2dcontour\"}],\"mesh3d\":[{\"colorbar\":{\"outlinewidth\":0,\"ticks\":\"\"},\"type\":\"mesh3d\"}],\"parcoords\":[{\"line\":{\"colorbar\":{\"outlinewidth\":0,\"ticks\":\"\"}},\"type\":\"parcoords\"}],\"pie\":[{\"automargin\":true,\"type\":\"pie\"}],\"scatter\":[{\"marker\":{\"colorbar\":{\"outlinewidth\":0,\"ticks\":\"\"}},\"type\":\"scatter\"}],\"scatter3d\":[{\"line\":{\"colorbar\":{\"outlinewidth\":0,\"ticks\":\"\"}},\"marker\":{\"colorbar\":{\"outlinewidth\":0,\"ticks\":\"\"}},\"type\":\"scatter3d\"}],\"scattercarpet\":[{\"marker\":{\"colorbar\":{\"outlinewidth\":0,\"ticks\":\"\"}},\"type\":\"scattercarpet\"}],\"scattergeo\":[{\"marker\":{\"colorbar\":{\"outlinewidth\":0,\"ticks\":\"\"}},\"type\":\"scattergeo\"}],\"scattergl\":[{\"marker\":{\"colorbar\":{\"outlinewidth\":0,\"ticks\":\"\"}},\"type\":\"scattergl\"}],\"scattermapbox\":[{\"marker\":{\"colorbar\":{\"outlinewidth\":0,\"ticks\":\"\"}},\"type\":\"scattermapbox\"}],\"scatterpolar\":[{\"marker\":{\"colorbar\":{\"outlinewidth\":0,\"ticks\":\"\"}},\"type\":\"scatterpolar\"}],\"scatterpolargl\":[{\"marker\":{\"colorbar\":{\"outlinewidth\":0,\"ticks\":\"\"}},\"type\":\"scatterpolargl\"}],\"scatterternary\":[{\"marker\":{\"colorbar\":{\"outlinewidth\":0,\"ticks\":\"\"}},\"type\":\"scatterternary\"}],\"surface\":[{\"colorbar\":{\"outlinewidth\":0,\"ticks\":\"\"},\"colorscale\":[[0.0,\"#0d0887\"],[0.1111111111111111,\"#46039f\"],[0.2222222222222222,\"#7201a8\"],[0.3333333333333333,\"#9c179e\"],[0.4444444444444444,\"#bd3786\"],[0.5555555555555556,\"#d8576b\"],[0.6666666666666666,\"#ed7953\"],[0.7777777777777778,\"#fb9f3a\"],[0.8888888888888888,\"#fdca26\"],[1.0,\"#f0f921\"]],\"type\":\"surface\"}],\"table\":[{\"cells\":{\"fill\":{\"color\":\"#EBF0F8\"},\"line\":{\"color\":\"white\"}},\"header\":{\"fill\":{\"color\":\"#C8D4E3\"},\"line\":{\"color\":\"white\"}},\"type\":\"table\"}]},\"layout\":{\"annotationdefaults\":{\"arrowcolor\":\"#2a3f5f\",\"arrowhead\":0,\"arrowwidth\":1},\"autotypenumbers\":\"strict\",\"coloraxis\":{\"colorbar\":{\"outlinewidth\":0,\"ticks\":\"\"}},\"colorscale\":{\"diverging\":[[0,\"#8e0152\"],[0.1,\"#c51b7d\"],[0.2,\"#de77ae\"],[0.3,\"#f1b6da\"],[0.4,\"#fde0ef\"],[0.5,\"#f7f7f7\"],[0.6,\"#e6f5d0\"],[0.7,\"#b8e186\"],[0.8,\"#7fbc41\"],[0.9,\"#4d9221\"],[1,\"#276419\"]],\"sequential\":[[0.0,\"#0d0887\"],[0.1111111111111111,\"#46039f\"],[0.2222222222222222,\"#7201a8\"],[0.3333333333333333,\"#9c179e\"],[0.4444444444444444,\"#bd3786\"],[0.5555555555555556,\"#d8576b\"],[0.6666666666666666,\"#ed7953\"],[0.7777777777777778,\"#fb9f3a\"],[0.8888888888888888,\"#fdca26\"],[1.0,\"#f0f921\"]],\"sequentialminus\":[[0.0,\"#0d0887\"],[0.1111111111111111,\"#46039f\"],[0.2222222222222222,\"#7201a8\"],[0.3333333333333333,\"#9c179e\"],[0.4444444444444444,\"#bd3786\"],[0.5555555555555556,\"#d8576b\"],[0.6666666666666666,\"#ed7953\"],[0.7777777777777778,\"#fb9f3a\"],[0.8888888888888888,\"#fdca26\"],[1.0,\"#f0f921\"]]},\"colorway\":[\"#636efa\",\"#EF553B\",\"#00cc96\",\"#ab63fa\",\"#FFA15A\",\"#19d3f3\",\"#FF6692\",\"#B6E880\",\"#FF97FF\",\"#FECB52\"],\"font\":{\"color\":\"#2a3f5f\"},\"geo\":{\"bgcolor\":\"white\",\"lakecolor\":\"white\",\"landcolor\":\"#E5ECF6\",\"showlakes\":true,\"showland\":true,\"subunitcolor\":\"white\"},\"hoverlabel\":{\"align\":\"left\"},\"hovermode\":\"closest\",\"mapbox\":{\"style\":\"light\"},\"paper_bgcolor\":\"white\",\"plot_bgcolor\":\"#E5ECF6\",\"polar\":{\"angularaxis\":{\"gridcolor\":\"white\",\"linecolor\":\"white\",\"ticks\":\"\"},\"bgcolor\":\"#E5ECF6\",\"radialaxis\":{\"gridcolor\":\"white\",\"linecolor\":\"white\",\"ticks\":\"\"}},\"scene\":{\"xaxis\":{\"backgroundcolor\":\"#E5ECF6\",\"gridcolor\":\"white\",\"gridwidth\":2,\"linecolor\":\"white\",\"showbackground\":true,\"ticks\":\"\",\"zerolinecolor\":\"white\"},\"yaxis\":{\"backgroundcolor\":\"#E5ECF6\",\"gridcolor\":\"white\",\"gridwidth\":2,\"linecolor\":\"white\",\"showbackground\":true,\"ticks\":\"\",\"zerolinecolor\":\"white\"},\"zaxis\":{\"backgroundcolor\":\"#E5ECF6\",\"gridcolor\":\"white\",\"gridwidth\":2,\"linecolor\":\"white\",\"showbackground\":true,\"ticks\":\"\",\"zerolinecolor\":\"white\"}},\"shapedefaults\":{\"line\":{\"color\":\"#2a3f5f\"}},\"ternary\":{\"aaxis\":{\"gridcolor\":\"white\",\"linecolor\":\"white\",\"ticks\":\"\"},\"baxis\":{\"gridcolor\":\"white\",\"linecolor\":\"white\",\"ticks\":\"\"},\"bgcolor\":\"#E5ECF6\",\"caxis\":{\"gridcolor\":\"white\",\"linecolor\":\"white\",\"ticks\":\"\"}},\"title\":{\"x\":0.05},\"xaxis\":{\"automargin\":true,\"gridcolor\":\"white\",\"linecolor\":\"white\",\"ticks\":\"\",\"title\":{\"standoff\":15},\"zerolinecolor\":\"white\",\"zerolinewidth\":2},\"yaxis\":{\"automargin\":true,\"gridcolor\":\"white\",\"linecolor\":\"white\",\"ticks\":\"\",\"title\":{\"standoff\":15},\"zerolinecolor\":\"white\",\"zerolinewidth\":2}}},\"title\":{\"text\":\"Count plot of description\"},\"xaxis\":{\"title\":{\"text\":\"description status\"}},\"yaxis\":{\"title\":{\"text\":\"Number of count\"}}},                        {\"responsive\": true}                    ).then(function(){\n",
              "                            \n",
              "var gd = document.getElementById('31f4c8b3-723b-4571-ac40-b5064880f46f');\n",
              "var x = new MutationObserver(function (mutations, observer) {{\n",
              "        var display = window.getComputedStyle(gd).display;\n",
              "        if (!display || display === 'none') {{\n",
              "            console.log([gd, 'removed!']);\n",
              "            Plotly.purge(gd);\n",
              "            observer.disconnect();\n",
              "        }}\n",
              "}});\n",
              "\n",
              "// Listen for the removal of the full notebook cells\n",
              "var notebookContainer = gd.closest('#notebook-container');\n",
              "if (notebookContainer) {{\n",
              "    x.observe(notebookContainer, {childList: true});\n",
              "}}\n",
              "\n",
              "// Listen for the clearing of the current output cell\n",
              "var outputEl = gd.closest('.output');\n",
              "if (outputEl) {{\n",
              "    x.observe(outputEl, {childList: true});\n",
              "}}\n",
              "\n",
              "                        })                };                            </script>        </div>\n",
              "</body>\n",
              "</html>"
            ]
          },
          "metadata": {}
        }
      ]
    },
    {
      "cell_type": "code",
      "source": [
        "df.head()"
      ],
      "metadata": {
        "colab": {
          "base_uri": "https://localhost:8080/",
          "height": 1000
        },
        "id": "9nJGzVtB6bw2",
        "outputId": "deddfde8-4f8c-4116-cd25-02b3b0ac7cab"
      },
      "execution_count": 34,
      "outputs": [
        {
          "output_type": "execute_result",
          "data": {
            "text/plain": [
              "                                                                        companyUrl  \\\n",
              "0  https://www.linkedin.com/company/informatique/                                    \n",
              "1  https://www.linkedin.com/company/informatique-banque-populaire/                   \n",
              "2  https://www.linkedin.com/company/informatique-et-technologies-caisse-d'epargne/   \n",
              "3  https://www.linkedin.com/company/informatique-procontact/                         \n",
              "4  https://www.linkedin.com/company/informatique-ebr-inc./                           \n",
              "\n",
              "                                       companyName  \\\n",
              "0  Informatique                                      \n",
              "1  Informatique Banque Populaire                     \n",
              "2  Informatique et Technologies - Caisse d'Epargne   \n",
              "3  Informatique ProContact                           \n",
              "4  Informatique EBR inc.                             \n",
              "\n",
              "                                                                                                                                                             logoUrl  \\\n",
              "0  https://media-exp1.licdn.com/dms/image/C4E0BAQFSXFbElmLLQA/company-logo_100_100/0/1519888560483?e=1655942400&v=beta&t=VlT6CEIvLjEazu9JIusm7JdeN_SP8_qQbJRRWpg1szQ   \n",
              "1  https://media-exp1.licdn.com/dms/image/C4E0BAQE2Dgeq-5UFww/company-logo_100_100/0/1547740410165?e=1655942400&v=beta&t=i7YWTxLlqJ2PYwQPRMvtw-90DSe1-o-DoHU_Hz3YERI   \n",
              "2  https://media-exp1.licdn.com/dms/image/C4D0BAQHQBLt0D7Pa1g/company-logo_100_100/0/1606807582719?e=1655942400&v=beta&t=TDp_fh0-kw9kykKnfttIWlEj2vTRzhaRfREwJ-1TS8k   \n",
              "3  https://media-exp1.licdn.com/dms/image/C4E0BAQFhsG_1CF8CfQ/company-logo_100_100/0/1584643971410?e=1655942400&v=beta&t=MvpOVbtcKxneH8yIabeCDjZbF5CLOc1Eb6FtTzjpvWc   \n",
              "4  https://media-exp1.licdn.com/dms/image/C4E0BAQFqIEY7l_99sA/company-logo_100_100/0/1519874648186?e=1655942400&v=beta&t=QFMsAZc7Y0BNyzhMVAlQVaiLnc9iamXOIFXuEW_2I-o   \n",
              "\n",
              "                           description followerCount  \\\n",
              "0  Services d’information               83             \n",
              "1  Information Technology and Services  156            \n",
              "2  Software                             114            \n",
              "3  Computer networks                    8              \n",
              "4  Information Technology and Services  23             \n",
              "\n",
              "                                                                                                                                                                                                                                                                                                                             tagLine  \\\n",
              "0  Informatique is an Egyptian shareholding company with main premises in Cairo and a branch in Kuwait to manage the Gulf operations. The Company has been established on 2000                                                                                                                                                         \n",
              "1  Avec Informatique Banque Populaire, osez l'équilibre !                                                                                                                                                                                                                                                                              \n",
              "2  IT-CE est une entreprise informatique du Groupe BPCE, 2e groupe bancaire en France. Ses 1300 collaborateurs développent et maintiennent MySys, le système d’information des Caisses d’Epargne. IT-CE s’engage également dans de nombreux projets innovants et ambitieux : la transformation digitale des caisses, la signature...   \n",
              "3  ...technologies de l’information et des communications dans la région de Québec et Montréal depuis 1991, Informatique ProContact demeure près de ses clients, à...                                                                                                                                                                  \n",
              "4  ...de données    - Consolidation  - Virtualisation  - Informatique en nuage (Cloud Computing)  - Les produits interactifs et les produits et solutions de la...                                                                                                                                                                     \n",
              "\n",
              "                                              name  \\\n",
              "0  Informatique                                      \n",
              "1  Informatique Banque Populaire                     \n",
              "2  Informatique et Technologies - Caisse d'Epargne   \n",
              "3  Informatique ProContact                           \n",
              "4  Informatique EBR inc.                             \n",
              "\n",
              "                                                                                                    query  \\\n",
              "0  https://www.linkedin.com/search/results/companies/?keywords=informatique&origin=SWITCH_SEARCH_VERTICAL   \n",
              "1  https://www.linkedin.com/search/results/companies/?keywords=informatique&origin=SWITCH_SEARCH_VERTICAL   \n",
              "2  https://www.linkedin.com/search/results/companies/?keywords=informatique&origin=SWITCH_SEARCH_VERTICAL   \n",
              "3  https://www.linkedin.com/search/results/companies/?keywords=informatique&origin=SWITCH_SEARCH_VERTICAL   \n",
              "4  https://www.linkedin.com/search/results/companies/?keywords=informatique&origin=SWITCH_SEARCH_VERTICAL   \n",
              "\n",
              "    category                 timestamp  \n",
              "0  Companies  2022-03-19T10:02:18.488Z  \n",
              "1  Companies  2022-03-19T10:02:18.488Z  \n",
              "2  Companies  2022-03-19T10:02:18.488Z  \n",
              "3  Companies  2022-03-19T10:02:18.488Z  \n",
              "4  Companies  2022-03-19T10:02:18.488Z  "
            ],
            "text/html": [
              "\n",
              "  <div id=\"df-45040bf4-7c10-43c2-969e-d6055b9ca275\">\n",
              "    <div class=\"colab-df-container\">\n",
              "      <div>\n",
              "<style scoped>\n",
              "    .dataframe tbody tr th:only-of-type {\n",
              "        vertical-align: middle;\n",
              "    }\n",
              "\n",
              "    .dataframe tbody tr th {\n",
              "        vertical-align: top;\n",
              "    }\n",
              "\n",
              "    .dataframe thead th {\n",
              "        text-align: right;\n",
              "    }\n",
              "</style>\n",
              "<table border=\"1\" class=\"dataframe\">\n",
              "  <thead>\n",
              "    <tr style=\"text-align: right;\">\n",
              "      <th></th>\n",
              "      <th>companyUrl</th>\n",
              "      <th>companyName</th>\n",
              "      <th>logoUrl</th>\n",
              "      <th>description</th>\n",
              "      <th>followerCount</th>\n",
              "      <th>tagLine</th>\n",
              "      <th>name</th>\n",
              "      <th>query</th>\n",
              "      <th>category</th>\n",
              "      <th>timestamp</th>\n",
              "    </tr>\n",
              "  </thead>\n",
              "  <tbody>\n",
              "    <tr>\n",
              "      <th>0</th>\n",
              "      <td>https://www.linkedin.com/company/informatique/</td>\n",
              "      <td>Informatique</td>\n",
              "      <td>https://media-exp1.licdn.com/dms/image/C4E0BAQFSXFbElmLLQA/company-logo_100_100/0/1519888560483?e=1655942400&amp;v=beta&amp;t=VlT6CEIvLjEazu9JIusm7JdeN_SP8_qQbJRRWpg1szQ</td>\n",
              "      <td>Services d’information</td>\n",
              "      <td>83</td>\n",
              "      <td>Informatique is an Egyptian shareholding company with main premises in Cairo and a branch in Kuwait to manage the Gulf operations. The Company has been established on 2000</td>\n",
              "      <td>Informatique</td>\n",
              "      <td>https://www.linkedin.com/search/results/companies/?keywords=informatique&amp;origin=SWITCH_SEARCH_VERTICAL</td>\n",
              "      <td>Companies</td>\n",
              "      <td>2022-03-19T10:02:18.488Z</td>\n",
              "    </tr>\n",
              "    <tr>\n",
              "      <th>1</th>\n",
              "      <td>https://www.linkedin.com/company/informatique-banque-populaire/</td>\n",
              "      <td>Informatique Banque Populaire</td>\n",
              "      <td>https://media-exp1.licdn.com/dms/image/C4E0BAQE2Dgeq-5UFww/company-logo_100_100/0/1547740410165?e=1655942400&amp;v=beta&amp;t=i7YWTxLlqJ2PYwQPRMvtw-90DSe1-o-DoHU_Hz3YERI</td>\n",
              "      <td>Information Technology and Services</td>\n",
              "      <td>156</td>\n",
              "      <td>Avec Informatique Banque Populaire, osez l'équilibre !</td>\n",
              "      <td>Informatique Banque Populaire</td>\n",
              "      <td>https://www.linkedin.com/search/results/companies/?keywords=informatique&amp;origin=SWITCH_SEARCH_VERTICAL</td>\n",
              "      <td>Companies</td>\n",
              "      <td>2022-03-19T10:02:18.488Z</td>\n",
              "    </tr>\n",
              "    <tr>\n",
              "      <th>2</th>\n",
              "      <td>https://www.linkedin.com/company/informatique-et-technologies-caisse-d'epargne/</td>\n",
              "      <td>Informatique et Technologies - Caisse d'Epargne</td>\n",
              "      <td>https://media-exp1.licdn.com/dms/image/C4D0BAQHQBLt0D7Pa1g/company-logo_100_100/0/1606807582719?e=1655942400&amp;v=beta&amp;t=TDp_fh0-kw9kykKnfttIWlEj2vTRzhaRfREwJ-1TS8k</td>\n",
              "      <td>Software</td>\n",
              "      <td>114</td>\n",
              "      <td>IT-CE est une entreprise informatique du Groupe BPCE, 2e groupe bancaire en France. Ses 1300 collaborateurs développent et maintiennent MySys, le système d’information des Caisses d’Epargne. IT-CE s’engage également dans de nombreux projets innovants et ambitieux : la transformation digitale des caisses, la signature...</td>\n",
              "      <td>Informatique et Technologies - Caisse d'Epargne</td>\n",
              "      <td>https://www.linkedin.com/search/results/companies/?keywords=informatique&amp;origin=SWITCH_SEARCH_VERTICAL</td>\n",
              "      <td>Companies</td>\n",
              "      <td>2022-03-19T10:02:18.488Z</td>\n",
              "    </tr>\n",
              "    <tr>\n",
              "      <th>3</th>\n",
              "      <td>https://www.linkedin.com/company/informatique-procontact/</td>\n",
              "      <td>Informatique ProContact</td>\n",
              "      <td>https://media-exp1.licdn.com/dms/image/C4E0BAQFhsG_1CF8CfQ/company-logo_100_100/0/1584643971410?e=1655942400&amp;v=beta&amp;t=MvpOVbtcKxneH8yIabeCDjZbF5CLOc1Eb6FtTzjpvWc</td>\n",
              "      <td>Computer networks</td>\n",
              "      <td>8</td>\n",
              "      <td>...technologies de l’information et des communications dans la région de Québec et Montréal depuis 1991, Informatique ProContact demeure près de ses clients, à...</td>\n",
              "      <td>Informatique ProContact</td>\n",
              "      <td>https://www.linkedin.com/search/results/companies/?keywords=informatique&amp;origin=SWITCH_SEARCH_VERTICAL</td>\n",
              "      <td>Companies</td>\n",
              "      <td>2022-03-19T10:02:18.488Z</td>\n",
              "    </tr>\n",
              "    <tr>\n",
              "      <th>4</th>\n",
              "      <td>https://www.linkedin.com/company/informatique-ebr-inc./</td>\n",
              "      <td>Informatique EBR inc.</td>\n",
              "      <td>https://media-exp1.licdn.com/dms/image/C4E0BAQFqIEY7l_99sA/company-logo_100_100/0/1519874648186?e=1655942400&amp;v=beta&amp;t=QFMsAZc7Y0BNyzhMVAlQVaiLnc9iamXOIFXuEW_2I-o</td>\n",
              "      <td>Information Technology and Services</td>\n",
              "      <td>23</td>\n",
              "      <td>...de données    - Consolidation  - Virtualisation  - Informatique en nuage (Cloud Computing)  - Les produits interactifs et les produits et solutions de la...</td>\n",
              "      <td>Informatique EBR inc.</td>\n",
              "      <td>https://www.linkedin.com/search/results/companies/?keywords=informatique&amp;origin=SWITCH_SEARCH_VERTICAL</td>\n",
              "      <td>Companies</td>\n",
              "      <td>2022-03-19T10:02:18.488Z</td>\n",
              "    </tr>\n",
              "  </tbody>\n",
              "</table>\n",
              "</div>\n",
              "      <button class=\"colab-df-convert\" onclick=\"convertToInteractive('df-45040bf4-7c10-43c2-969e-d6055b9ca275')\"\n",
              "              title=\"Convert this dataframe to an interactive table.\"\n",
              "              style=\"display:none;\">\n",
              "        \n",
              "  <svg xmlns=\"http://www.w3.org/2000/svg\" height=\"24px\"viewBox=\"0 0 24 24\"\n",
              "       width=\"24px\">\n",
              "    <path d=\"M0 0h24v24H0V0z\" fill=\"none\"/>\n",
              "    <path d=\"M18.56 5.44l.94 2.06.94-2.06 2.06-.94-2.06-.94-.94-2.06-.94 2.06-2.06.94zm-11 1L8.5 8.5l.94-2.06 2.06-.94-2.06-.94L8.5 2.5l-.94 2.06-2.06.94zm10 10l.94 2.06.94-2.06 2.06-.94-2.06-.94-.94-2.06-.94 2.06-2.06.94z\"/><path d=\"M17.41 7.96l-1.37-1.37c-.4-.4-.92-.59-1.43-.59-.52 0-1.04.2-1.43.59L10.3 9.45l-7.72 7.72c-.78.78-.78 2.05 0 2.83L4 21.41c.39.39.9.59 1.41.59.51 0 1.02-.2 1.41-.59l7.78-7.78 2.81-2.81c.8-.78.8-2.07 0-2.86zM5.41 20L4 18.59l7.72-7.72 1.47 1.35L5.41 20z\"/>\n",
              "  </svg>\n",
              "      </button>\n",
              "      \n",
              "  <style>\n",
              "    .colab-df-container {\n",
              "      display:flex;\n",
              "      flex-wrap:wrap;\n",
              "      gap: 12px;\n",
              "    }\n",
              "\n",
              "    .colab-df-convert {\n",
              "      background-color: #E8F0FE;\n",
              "      border: none;\n",
              "      border-radius: 50%;\n",
              "      cursor: pointer;\n",
              "      display: none;\n",
              "      fill: #1967D2;\n",
              "      height: 32px;\n",
              "      padding: 0 0 0 0;\n",
              "      width: 32px;\n",
              "    }\n",
              "\n",
              "    .colab-df-convert:hover {\n",
              "      background-color: #E2EBFA;\n",
              "      box-shadow: 0px 1px 2px rgba(60, 64, 67, 0.3), 0px 1px 3px 1px rgba(60, 64, 67, 0.15);\n",
              "      fill: #174EA6;\n",
              "    }\n",
              "\n",
              "    [theme=dark] .colab-df-convert {\n",
              "      background-color: #3B4455;\n",
              "      fill: #D2E3FC;\n",
              "    }\n",
              "\n",
              "    [theme=dark] .colab-df-convert:hover {\n",
              "      background-color: #434B5C;\n",
              "      box-shadow: 0px 1px 3px 1px rgba(0, 0, 0, 0.15);\n",
              "      filter: drop-shadow(0px 1px 2px rgba(0, 0, 0, 0.3));\n",
              "      fill: #FFFFFF;\n",
              "    }\n",
              "  </style>\n",
              "\n",
              "      <script>\n",
              "        const buttonEl =\n",
              "          document.querySelector('#df-45040bf4-7c10-43c2-969e-d6055b9ca275 button.colab-df-convert');\n",
              "        buttonEl.style.display =\n",
              "          google.colab.kernel.accessAllowed ? 'block' : 'none';\n",
              "\n",
              "        async function convertToInteractive(key) {\n",
              "          const element = document.querySelector('#df-45040bf4-7c10-43c2-969e-d6055b9ca275');\n",
              "          const dataTable =\n",
              "            await google.colab.kernel.invokeFunction('convertToInteractive',\n",
              "                                                     [key], {});\n",
              "          if (!dataTable) return;\n",
              "\n",
              "          const docLinkHtml = 'Like what you see? Visit the ' +\n",
              "            '<a target=\"_blank\" href=https://colab.research.google.com/notebooks/data_table.ipynb>data table notebook</a>'\n",
              "            + ' to learn more about interactive tables.';\n",
              "          element.innerHTML = '';\n",
              "          dataTable['output_type'] = 'display_data';\n",
              "          await google.colab.output.renderOutput(dataTable, element);\n",
              "          const docLink = document.createElement('div');\n",
              "          docLink.innerHTML = docLinkHtml;\n",
              "          element.appendChild(docLink);\n",
              "        }\n",
              "      </script>\n",
              "    </div>\n",
              "  </div>\n",
              "  "
            ]
          },
          "metadata": {},
          "execution_count": 34
        }
      ]
    }
  ]
}