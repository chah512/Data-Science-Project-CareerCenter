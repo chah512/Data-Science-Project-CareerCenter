{
  "cells": [
    {
      "cell_type": "markdown",
      "metadata": {
        "id": "TdkHXs_JSDsa"
      },
      "source": [
        "Importation des Librairies"
      ]
    },
    {
      "cell_type": "markdown",
      "source": [
        "**PI DEV: Esprit Alumni NLP:Text Cleaning/Field of Activity Extraction.**"
      ],
      "metadata": {
        "id": "uc_RM8gxfHz0"
      }
    },
    {
      "cell_type": "code",
      "execution_count": null,
      "metadata": {
        "colab": {
          "base_uri": "https://localhost:8080/"
        },
        "id": "LjVv9_vN1DGq",
        "outputId": "578e7541-ec98-4403-aaa4-1bfe8c4dab5b"
      },
      "outputs": [
        {
          "output_type": "stream",
          "name": "stdout",
          "text": [
            "[nltk_data] Downloading package stopwords to /root/nltk_data...\n",
            "[nltk_data]   Unzipping corpora/stopwords.zip.\n",
            "[nltk_data] Downloading package wordnet to /root/nltk_data...\n",
            "[nltk_data]   Unzipping corpora/wordnet.zip.\n",
            "[nltk_data] Downloading package punkt to /root/nltk_data...\n",
            "[nltk_data]   Unzipping tokenizers/punkt.zip.\n"
          ]
        }
      ],
      "source": [
        "import numpy as np \n",
        "import pandas as pd\n",
        "import matplotlib.pyplot as plt\n",
        "\n",
        "from keras.preprocessing.text import Tokenizer\n",
        "from keras.preprocessing.sequence import pad_sequences\n",
        "from nltk.corpus import stopwords\n",
        "from nltk import word_tokenize\n",
        "import nltk\n",
        "nltk.download('stopwords')\n",
        "nltk.download('wordnet')\n",
        "nltk.download('punkt')\n",
        "#from french_lefff_lemmatizer.french_lefff_lemmatizer import FrenchLefffLemmatizer\n",
        "stop_wordsFR  = set(stopwords.words('french'))\n",
        "stop_wordsAN  = set(stopwords.words('english'))\n",
        "import re\n",
        "import string\n",
        "#!pip install git+https://github.com/ClaudeCoulombe/FrenchLefffLemmatizer.git &> /dev/null\n",
        "#import unidecode\n",
        "from wordcloud import WordCloud\n",
        "import requests\n",
        "import json\n",
        "from pandas import json_normalize\n",
        "import plotly.graph_objs as go"
      ]
    },
    {
      "cell_type": "code",
      "source": [
        "!pip install Unidecode\n"
      ],
      "metadata": {
        "colab": {
          "base_uri": "https://localhost:8080/"
        },
        "id": "VWIeumo5smdE",
        "outputId": "fa9e6530-89c3-41b2-bf73-b78f3158cf20"
      },
      "execution_count": null,
      "outputs": [
        {
          "output_type": "stream",
          "name": "stdout",
          "text": [
            "Collecting Unidecode\n",
            "  Downloading Unidecode-1.3.4-py3-none-any.whl (235 kB)\n",
            "\u001b[?25l\r\u001b[K     |█▍                              | 10 kB 27.1 MB/s eta 0:00:01\r\u001b[K     |██▉                             | 20 kB 33.4 MB/s eta 0:00:01\r\u001b[K     |████▏                           | 30 kB 34.2 MB/s eta 0:00:01\r\u001b[K     |█████▋                          | 40 kB 21.6 MB/s eta 0:00:01\r\u001b[K     |███████                         | 51 kB 18.4 MB/s eta 0:00:01\r\u001b[K     |████████▍                       | 61 kB 21.1 MB/s eta 0:00:01\r\u001b[K     |█████████▊                      | 71 kB 20.5 MB/s eta 0:00:01\r\u001b[K     |███████████▏                    | 81 kB 22.0 MB/s eta 0:00:01\r\u001b[K     |████████████▌                   | 92 kB 24.0 MB/s eta 0:00:01\r\u001b[K     |██████████████                  | 102 kB 24.1 MB/s eta 0:00:01\r\u001b[K     |███████████████▎                | 112 kB 24.1 MB/s eta 0:00:01\r\u001b[K     |████████████████▊               | 122 kB 24.1 MB/s eta 0:00:01\r\u001b[K     |██████████████████              | 133 kB 24.1 MB/s eta 0:00:01\r\u001b[K     |███████████████████▌            | 143 kB 24.1 MB/s eta 0:00:01\r\u001b[K     |████████████████████▉           | 153 kB 24.1 MB/s eta 0:00:01\r\u001b[K     |██████████████████████▎         | 163 kB 24.1 MB/s eta 0:00:01\r\u001b[K     |███████████████████████▋        | 174 kB 24.1 MB/s eta 0:00:01\r\u001b[K     |█████████████████████████       | 184 kB 24.1 MB/s eta 0:00:01\r\u001b[K     |██████████████████████████▍     | 194 kB 24.1 MB/s eta 0:00:01\r\u001b[K     |███████████████████████████▉    | 204 kB 24.1 MB/s eta 0:00:01\r\u001b[K     |█████████████████████████████▏  | 215 kB 24.1 MB/s eta 0:00:01\r\u001b[K     |██████████████████████████████▋ | 225 kB 24.1 MB/s eta 0:00:01\r\u001b[K     |████████████████████████████████| 235 kB 24.1 MB/s eta 0:00:01\r\u001b[K     |████████████████████████████████| 235 kB 24.1 MB/s \n",
            "\u001b[?25hInstalling collected packages: Unidecode\n",
            "Successfully installed Unidecode-1.3.4\n"
          ]
        }
      ]
    },
    {
      "cell_type": "code",
      "source": [
        "import unidecode\n"
      ],
      "metadata": {
        "id": "w5kAmjeYsuD1"
      },
      "execution_count": null,
      "outputs": []
    },
    {
      "cell_type": "code",
      "source": [
        "!pip install git+https://github.com/ClaudeCoulombe/FrenchLefffLemmatizer.git &> /dev/null\n",
        "!pip install Unidecode\n",
        "!pip3 install googletrans==3.1.0a0\n",
        "!pip install google_trans_new\n",
        "!pip install itranslate -U\n",
        "!pip install deep-translator\n",
        "from deep_translator import GoogleTranslator\n",
        "from googletrans import Translator"
      ],
      "metadata": {
        "colab": {
          "base_uri": "https://localhost:8080/"
        },
        "id": "_Fh8qO6PwosD",
        "outputId": "11bc327d-f384-447e-a630-64b49a134478"
      },
      "execution_count": null,
      "outputs": [
        {
          "output_type": "stream",
          "name": "stdout",
          "text": [
            "Requirement already satisfied: Unidecode in /usr/local/lib/python3.7/dist-packages (1.3.4)\n",
            "Collecting googletrans==3.1.0a0\n",
            "  Downloading googletrans-3.1.0a0.tar.gz (19 kB)\n",
            "Collecting httpx==0.13.3\n",
            "  Downloading httpx-0.13.3-py3-none-any.whl (55 kB)\n",
            "\u001b[K     |████████████████████████████████| 55 kB 3.3 MB/s \n",
            "\u001b[?25hCollecting rfc3986<2,>=1.3\n",
            "  Downloading rfc3986-1.5.0-py2.py3-none-any.whl (31 kB)\n",
            "Collecting sniffio\n",
            "  Downloading sniffio-1.2.0-py3-none-any.whl (10 kB)\n",
            "Requirement already satisfied: certifi in /usr/local/lib/python3.7/dist-packages (from httpx==0.13.3->googletrans==3.1.0a0) (2021.10.8)\n",
            "Requirement already satisfied: chardet==3.* in /usr/local/lib/python3.7/dist-packages (from httpx==0.13.3->googletrans==3.1.0a0) (3.0.4)\n",
            "Collecting httpcore==0.9.*\n",
            "  Downloading httpcore-0.9.1-py3-none-any.whl (42 kB)\n",
            "\u001b[K     |████████████████████████████████| 42 kB 1.6 MB/s \n",
            "\u001b[?25hRequirement already satisfied: idna==2.* in /usr/local/lib/python3.7/dist-packages (from httpx==0.13.3->googletrans==3.1.0a0) (2.10)\n",
            "Collecting hstspreload\n",
            "  Downloading hstspreload-2021.12.1-py3-none-any.whl (1.3 MB)\n",
            "\u001b[K     |████████████████████████████████| 1.3 MB 51.2 MB/s \n",
            "\u001b[?25hCollecting h2==3.*\n",
            "  Downloading h2-3.2.0-py2.py3-none-any.whl (65 kB)\n",
            "\u001b[K     |████████████████████████████████| 65 kB 4.4 MB/s \n",
            "\u001b[?25hCollecting h11<0.10,>=0.8\n",
            "  Downloading h11-0.9.0-py2.py3-none-any.whl (53 kB)\n",
            "\u001b[K     |████████████████████████████████| 53 kB 2.4 MB/s \n",
            "\u001b[?25hCollecting hpack<4,>=3.0\n",
            "  Downloading hpack-3.0.0-py2.py3-none-any.whl (38 kB)\n",
            "Collecting hyperframe<6,>=5.2.0\n",
            "  Downloading hyperframe-5.2.0-py2.py3-none-any.whl (12 kB)\n",
            "Building wheels for collected packages: googletrans\n",
            "  Building wheel for googletrans (setup.py) ... \u001b[?25l\u001b[?25hdone\n",
            "  Created wheel for googletrans: filename=googletrans-3.1.0a0-py3-none-any.whl size=16367 sha256=6e827064581abf89ef4e74b6abc2d2eebfb21f66b348d5eedf8ec49eef2f307c\n",
            "  Stored in directory: /root/.cache/pip/wheels/0c/be/fe/93a6a40ffe386e16089e44dad9018ebab9dc4cb9eb7eab65ae\n",
            "Successfully built googletrans\n",
            "Installing collected packages: hyperframe, hpack, sniffio, h2, h11, rfc3986, httpcore, hstspreload, httpx, googletrans\n",
            "Successfully installed googletrans-3.1.0a0 h11-0.9.0 h2-3.2.0 hpack-3.0.0 hstspreload-2021.12.1 httpcore-0.9.1 httpx-0.13.3 hyperframe-5.2.0 rfc3986-1.5.0 sniffio-1.2.0\n",
            "Collecting google_trans_new\n",
            "  Downloading google_trans_new-1.1.9-py3-none-any.whl (9.2 kB)\n",
            "Installing collected packages: google-trans-new\n",
            "Successfully installed google-trans-new-1.1.9\n",
            "Collecting itranslate\n",
            "  Downloading itranslate-0.1.1-py3-none-any.whl (5.7 kB)\n",
            "Requirement already satisfied: joblib<2.0.0,>=1.0.1 in /usr/local/lib/python3.7/dist-packages (from itranslate) (1.1.0)\n",
            "Collecting logzero<2.0.0,>=1.7.0\n",
            "  Downloading logzero-1.7.0-py2.py3-none-any.whl (16 kB)\n",
            "Collecting httpx<0.19.0,>=0.18.2\n",
            "  Downloading httpx-0.18.2-py3-none-any.whl (76 kB)\n",
            "\u001b[K     |████████████████████████████████| 76 kB 5.9 MB/s \n",
            "\u001b[?25hRequirement already satisfied: certifi in /usr/local/lib/python3.7/dist-packages (from httpx<0.19.0,>=0.18.2->itranslate) (2021.10.8)\n",
            "Requirement already satisfied: sniffio in /usr/local/lib/python3.7/dist-packages (from httpx<0.19.0,>=0.18.2->itranslate) (1.2.0)\n",
            "Collecting httpcore<0.14.0,>=0.13.3\n",
            "  Downloading httpcore-0.13.7-py3-none-any.whl (58 kB)\n",
            "\u001b[K     |████████████████████████████████| 58 kB 5.3 MB/s \n",
            "\u001b[?25hRequirement already satisfied: rfc3986[idna2008]<2,>=1.3 in /usr/local/lib/python3.7/dist-packages (from httpx<0.19.0,>=0.18.2->itranslate) (1.5.0)\n",
            "Collecting h11<0.13,>=0.11\n",
            "  Downloading h11-0.12.0-py3-none-any.whl (54 kB)\n",
            "\u001b[K     |████████████████████████████████| 54 kB 4.6 MB/s \n",
            "\u001b[?25hCollecting anyio==3.*\n",
            "  Downloading anyio-3.5.0-py3-none-any.whl (79 kB)\n",
            "\u001b[K     |████████████████████████████████| 79 kB 8.8 MB/s \n",
            "\u001b[?25hRequirement already satisfied: idna>=2.8 in /usr/local/lib/python3.7/dist-packages (from anyio==3.*->httpcore<0.14.0,>=0.13.3->httpx<0.19.0,>=0.18.2->itranslate) (2.10)\n",
            "Requirement already satisfied: typing-extensions in /usr/local/lib/python3.7/dist-packages (from anyio==3.*->httpcore<0.14.0,>=0.13.3->httpx<0.19.0,>=0.18.2->itranslate) (3.10.0.2)\n",
            "Installing collected packages: h11, anyio, httpcore, logzero, httpx, itranslate\n",
            "  Attempting uninstall: h11\n",
            "    Found existing installation: h11 0.9.0\n",
            "    Uninstalling h11-0.9.0:\n",
            "      Successfully uninstalled h11-0.9.0\n",
            "  Attempting uninstall: httpcore\n",
            "    Found existing installation: httpcore 0.9.1\n",
            "    Uninstalling httpcore-0.9.1:\n",
            "      Successfully uninstalled httpcore-0.9.1\n",
            "  Attempting uninstall: httpx\n",
            "    Found existing installation: httpx 0.13.3\n",
            "    Uninstalling httpx-0.13.3:\n",
            "      Successfully uninstalled httpx-0.13.3\n",
            "\u001b[31mERROR: pip's dependency resolver does not currently take into account all the packages that are installed. This behaviour is the source of the following dependency conflicts.\n",
            "googletrans 3.1.0a0 requires httpx==0.13.3, but you have httpx 0.18.2 which is incompatible.\u001b[0m\n",
            "Successfully installed anyio-3.5.0 h11-0.12.0 httpcore-0.13.7 httpx-0.18.2 itranslate-0.1.1 logzero-1.7.0\n",
            "Collecting deep-translator\n",
            "  Downloading deep_translator-1.8.1-py3-none-any.whl (29 kB)\n",
            "Requirement already satisfied: requests<3.0.0,>=2.23.0 in /usr/local/lib/python3.7/dist-packages (from deep-translator) (2.23.0)\n",
            "Collecting beautifulsoup4<5.0.0,>=4.9.1\n",
            "  Downloading beautifulsoup4-4.10.0-py3-none-any.whl (97 kB)\n",
            "\u001b[K     |████████████████████████████████| 97 kB 7.4 MB/s \n",
            "\u001b[?25hRequirement already satisfied: soupsieve>1.2 in /usr/local/lib/python3.7/dist-packages (from beautifulsoup4<5.0.0,>=4.9.1->deep-translator) (2.3.1)\n",
            "Requirement already satisfied: urllib3!=1.25.0,!=1.25.1,<1.26,>=1.21.1 in /usr/local/lib/python3.7/dist-packages (from requests<3.0.0,>=2.23.0->deep-translator) (1.24.3)\n",
            "Requirement already satisfied: chardet<4,>=3.0.2 in /usr/local/lib/python3.7/dist-packages (from requests<3.0.0,>=2.23.0->deep-translator) (3.0.4)\n",
            "Requirement already satisfied: idna<3,>=2.5 in /usr/local/lib/python3.7/dist-packages (from requests<3.0.0,>=2.23.0->deep-translator) (2.10)\n",
            "Requirement already satisfied: certifi>=2017.4.17 in /usr/local/lib/python3.7/dist-packages (from requests<3.0.0,>=2.23.0->deep-translator) (2021.10.8)\n",
            "Installing collected packages: beautifulsoup4, deep-translator\n",
            "  Attempting uninstall: beautifulsoup4\n",
            "    Found existing installation: beautifulsoup4 4.6.3\n",
            "    Uninstalling beautifulsoup4-4.6.3:\n",
            "      Successfully uninstalled beautifulsoup4-4.6.3\n",
            "Successfully installed beautifulsoup4-4.10.0 deep-translator-1.8.1\n"
          ]
        }
      ]
    },
    {
      "cell_type": "markdown",
      "metadata": {
        "id": "rx2CGEq8SLeo"
      },
      "source": [
        "Découvrir La Data"
      ]
    },
    {
      "cell_type": "code",
      "execution_count": null,
      "metadata": {
        "id": "T7LVB-UD1Ic-"
      },
      "outputs": [],
      "source": [
        "df = pd.read_excel(\"SalemCompany&Startup.xlsx\",header=None)\n"
      ]
    },
    {
      "cell_type": "markdown",
      "metadata": {
        "id": "1YF47daFwobd"
      },
      "source": [
        "# Nouvelle section"
      ]
    },
    {
      "cell_type": "code",
      "execution_count": null,
      "metadata": {
        "colab": {
          "base_uri": "https://localhost:8080/",
          "height": 1000
        },
        "id": "RsazMCIO1Ift",
        "outputId": "ceb35f1a-b2aa-46d1-96d6-a1cf2af89116"
      },
      "outputs": [
        {
          "output_type": "execute_result",
          "data": {
            "text/plain": [
              "                                                   0                  1  \\\n",
              "0  query                                              error               \n",
              "1  companyUrl                                         Not a Company URL   \n",
              "2  https://www.linkedin.com/company/it-serv-company/  NaN                 \n",
              "3  https://www.linkedin.com/company/devitco/          NaN                 \n",
              "4  https://www.linkedin.com/company/itskillscompany/  NaN                 \n",
              "\n",
              "                          2                                 3        4  \\\n",
              "0  timestamp                 name                              isAdmin   \n",
              "1  2022-02-14T19:01:59.750Z  NaN                               NaN       \n",
              "2  2022-02-14T19:02:02.959Z  IT SERV Company                   False     \n",
              "3  2022-02-14T19:02:09.174Z  DevItCo - the Develop It Company  False     \n",
              "4  2022-02-14T19:02:15.974Z  IT Skills Company                 False     \n",
              "\n",
              "                                                                                                                                                                   5  \\\n",
              "0  logo                                                                                                                                                                \n",
              "1  NaN                                                                                                                                                                 \n",
              "2  https://media-exp1.licdn.com/dms/image/C560BAQHiAba3CgrkOA/company-logo_400_400/0/1576164571126?e=1652918400&v=beta&t=PIwzIwmBHZuMAciTlaqIW8DqdpB_fhJmw-C1rosS-1c   \n",
              "3  https://media-exp1.licdn.com/dms/image/C4E0BAQH8LTaIy4fVpQ/company-logo_400_400/0/1519908760235?e=1652918400&v=beta&t=MlxW5xYJNnI8DkCETHlzfP0nkF2Erj2sQmGdb33Z8iM   \n",
              "4  https://media-exp1.licdn.com/dms/image/C4E0BAQEL_0RgNyOGdA/company-logo_400_400/0/1519871063059?e=1652918400&v=beta&t=M3UXPEswVUBJi51cmkTCI1tO2h1puXfi5puE3zAoAy0   \n",
              "\n",
              "                                                                                                                                                                       6  \\\n",
              "0  banner                                                                                                                                                                  \n",
              "1  NaN                                                                                                                                                                     \n",
              "2  https://media-exp1.licdn.com/dms/image/C561BAQHkbUKJ9N9fSQ/company-background_10000/0/1579700954138?e=1644955200&v=beta&t=z5nEynvoBt58JNEyFypjL4YZWkwycLwE7j_2eumN1JY   \n",
              "3  NaN                                                                                                                                                                     \n",
              "4  NaN                                                                                                                                                                     \n",
              "\n",
              "                                                                                                                                                                                                                                                                                                                                                                                                                                                                                                                                                                                                                                                                                                                                                                                                                                                                                                                                                                                           7  \\\n",
              "0  description                                                                                                                                                                                                                                                                                                                                                                                                                                                                                                                                                                                                                                                                                                                                                                                                                                                                                                                                                                                 \n",
              "1  NaN                                                                                                                                                                                                                                                                                                                                                                                                                                                                                                                                                                                                                                                                                                                                                                                                                                                                                                                                                                                         \n",
              "2  IT SERV est une société de conseil et de services en TIC, qui depuis sa création en 2008 articule ses prestations autour de quatre offres :\\nConsulting IT\\nIntégration & Développement\\nExpertise Télécoms\\nNearshore Outsourcing, \\nAfin d'aider ses Clients à profiter pleinement des technologies nouvelles, à maximiser l’efficacité et l’efficience de leur organisation et à optimiser leurs processus.                                                                                                                                                                                                                                                                                                                                                                                                                                                                                                                                                                              \n",
              "3  We do digital transformation for retail brands!\\n\\nA DevItCo, nous sommes passionnés par la transformation digital et l'expérience client dans vos boutiques et en dehors. Notre objectif: apporter les outils et l'accompagnement nécessaires aux acteurs retail pour mener à bien leur transformation digitale et offrir à leurs clients une expérience unique, cohérente et totalement personnalisée où qu'ils soient.\\n\\nNotre solution ConnectiK est la première API d'interfaçage entre Cegid et les solutions clients B2C omnicanal. Cette solution Plug & Play totalement bâtie sur les web services du module Omnicanal Cegid vous permettra d'enfin capturer tout le potentiel de votre système d'informations, sans lui apporter aucune modification. Grâce à ConnectiK, vous pourrez, en temps réel, automatiser le traitement de vos informations et de vos transactions sur toutes vos solutions clients B2C: site e-commerce, applications mobiles, bornes digitales etc..   \n",
              "4  IT Skills Company est une entreprise informatique en plein essor, installée à Sfax, Tunisie, spécialisée dans le développement web et des applications mobile.\\nWebsite : www.itskills.com.tn\\nAddress : \\n- Rue Ahmed Aloulou Imm. El Hana App. 14 Sfax Eljadida, 3003 Sfax, Tunisia.\\n- Pépinière d’entreprises Sfax Innovation 1, Sfax 3052                                                                                                                                                                                                                                                                                                                                                                                                                                                                                                                                                                                                                                              \n",
              "\n",
              "                                                           8  \\\n",
              "0  tagLine                                                     \n",
              "1  NaN                                                         \n",
              "2  Votre partenaire technologique pour aujourd'hui et demain   \n",
              "3  NaN                                                         \n",
              "4  NaN                                                         \n",
              "\n",
              "                                                             9  ...  \\\n",
              "0  type                                                         ...   \n",
              "1  NaN                                                          ...   \n",
              "2  Société de personnes (associés)                              ...   \n",
              "3  Société civile/Société commerciale/Autres types de sociétés  ...   \n",
              "4  Société civile/Société commerciale/Autres types de sociétés  ...   \n",
              "\n",
              "                                                  28  \\\n",
              "0  relatedCompanies3                                   \n",
              "1  NaN                                                 \n",
              "2  https://www.linkedin.com/company/tobbabykeeplyna/   \n",
              "3  NaN                                                 \n",
              "4  https://www.linkedin.com/company/spark-it-france/   \n",
              "\n",
              "                                                29  \\\n",
              "0  relatedCompanies4                                 \n",
              "1  NaN                                               \n",
              "2  https://www.linkedin.com/company/inetumtunisie/   \n",
              "3  NaN                                               \n",
              "4  https://www.linkedin.com/company/piximind/        \n",
              "\n",
              "                                                  30  \\\n",
              "0  relatedCompanies5                                   \n",
              "1  NaN                                                 \n",
              "2  https://www.linkedin.com/company/digitech-france/   \n",
              "3  NaN                                                 \n",
              "4  https://www.linkedin.com/company/bfigroupe/         \n",
              "\n",
              "                                              31  \\\n",
              "0  relatedCompanies6                               \n",
              "1  NaN                                             \n",
              "2  https://www.linkedin.com/company/it-services/   \n",
              "3  NaN                                             \n",
              "4  https://www.linkedin.com/company/roboxagency/   \n",
              "\n",
              "                                                      32  \\\n",
              "0  relatedCompanies7                                       \n",
              "1  NaN                                                     \n",
              "2  https://www.linkedin.com/company/be-softilys-tunisie/   \n",
              "3  NaN                                                     \n",
              "4  https://www.linkedin.com/company/dot-tn/                \n",
              "\n",
              "                                               33  \\\n",
              "0  relatedCompanies8                                \n",
              "1  NaN                                              \n",
              "2  https://www.linkedin.com/company/it-serve-com/   \n",
              "3  NaN                                              \n",
              "4  https://www.linkedin.com/company/ooredootn/      \n",
              "\n",
              "                                                              34  \\\n",
              "0  relatedCompanies9                                               \n",
              "1  NaN                                                             \n",
              "2  https://www.linkedin.com/company/itserv-teknoloji-hizmetleri/   \n",
              "3  NaN                                                             \n",
              "4  https://www.linkedin.com/company/itcblida/                      \n",
              "\n",
              "                                                   35             36  \\\n",
              "0  relatedCompanies10                                  siègeSocial     \n",
              "1  NaN                                                 NaN             \n",
              "2  https://www.linkedin.com/company/aymax-consulting/  NaN             \n",
              "3  NaN                                                 Paris, France   \n",
              "4  https://www.linkedin.com/company/linedata/          Sfax , Sfax     \n",
              "\n",
              "                37  \n",
              "0  spécialisations  \n",
              "1  NaN              \n",
              "2  NaN              \n",
              "3  Big Data         \n",
              "4  NaN              \n",
              "\n",
              "[5 rows x 38 columns]"
            ],
            "text/html": [
              "\n",
              "  <div id=\"df-364fb7d9-4be9-4ac5-8743-8afe9cb5403c\">\n",
              "    <div class=\"colab-df-container\">\n",
              "      <div>\n",
              "<style scoped>\n",
              "    .dataframe tbody tr th:only-of-type {\n",
              "        vertical-align: middle;\n",
              "    }\n",
              "\n",
              "    .dataframe tbody tr th {\n",
              "        vertical-align: top;\n",
              "    }\n",
              "\n",
              "    .dataframe thead th {\n",
              "        text-align: right;\n",
              "    }\n",
              "</style>\n",
              "<table border=\"1\" class=\"dataframe\">\n",
              "  <thead>\n",
              "    <tr style=\"text-align: right;\">\n",
              "      <th></th>\n",
              "      <th>0</th>\n",
              "      <th>1</th>\n",
              "      <th>2</th>\n",
              "      <th>3</th>\n",
              "      <th>4</th>\n",
              "      <th>5</th>\n",
              "      <th>6</th>\n",
              "      <th>7</th>\n",
              "      <th>8</th>\n",
              "      <th>9</th>\n",
              "      <th>...</th>\n",
              "      <th>28</th>\n",
              "      <th>29</th>\n",
              "      <th>30</th>\n",
              "      <th>31</th>\n",
              "      <th>32</th>\n",
              "      <th>33</th>\n",
              "      <th>34</th>\n",
              "      <th>35</th>\n",
              "      <th>36</th>\n",
              "      <th>37</th>\n",
              "    </tr>\n",
              "  </thead>\n",
              "  <tbody>\n",
              "    <tr>\n",
              "      <th>0</th>\n",
              "      <td>query</td>\n",
              "      <td>error</td>\n",
              "      <td>timestamp</td>\n",
              "      <td>name</td>\n",
              "      <td>isAdmin</td>\n",
              "      <td>logo</td>\n",
              "      <td>banner</td>\n",
              "      <td>description</td>\n",
              "      <td>tagLine</td>\n",
              "      <td>type</td>\n",
              "      <td>...</td>\n",
              "      <td>relatedCompanies3</td>\n",
              "      <td>relatedCompanies4</td>\n",
              "      <td>relatedCompanies5</td>\n",
              "      <td>relatedCompanies6</td>\n",
              "      <td>relatedCompanies7</td>\n",
              "      <td>relatedCompanies8</td>\n",
              "      <td>relatedCompanies9</td>\n",
              "      <td>relatedCompanies10</td>\n",
              "      <td>siègeSocial</td>\n",
              "      <td>spécialisations</td>\n",
              "    </tr>\n",
              "    <tr>\n",
              "      <th>1</th>\n",
              "      <td>companyUrl</td>\n",
              "      <td>Not a Company URL</td>\n",
              "      <td>2022-02-14T19:01:59.750Z</td>\n",
              "      <td>NaN</td>\n",
              "      <td>NaN</td>\n",
              "      <td>NaN</td>\n",
              "      <td>NaN</td>\n",
              "      <td>NaN</td>\n",
              "      <td>NaN</td>\n",
              "      <td>NaN</td>\n",
              "      <td>...</td>\n",
              "      <td>NaN</td>\n",
              "      <td>NaN</td>\n",
              "      <td>NaN</td>\n",
              "      <td>NaN</td>\n",
              "      <td>NaN</td>\n",
              "      <td>NaN</td>\n",
              "      <td>NaN</td>\n",
              "      <td>NaN</td>\n",
              "      <td>NaN</td>\n",
              "      <td>NaN</td>\n",
              "    </tr>\n",
              "    <tr>\n",
              "      <th>2</th>\n",
              "      <td>https://www.linkedin.com/company/it-serv-company/</td>\n",
              "      <td>NaN</td>\n",
              "      <td>2022-02-14T19:02:02.959Z</td>\n",
              "      <td>IT SERV Company</td>\n",
              "      <td>False</td>\n",
              "      <td>https://media-exp1.licdn.com/dms/image/C560BAQHiAba3CgrkOA/company-logo_400_400/0/1576164571126?e=1652918400&amp;v=beta&amp;t=PIwzIwmBHZuMAciTlaqIW8DqdpB_fhJmw-C1rosS-1c</td>\n",
              "      <td>https://media-exp1.licdn.com/dms/image/C561BAQHkbUKJ9N9fSQ/company-background_10000/0/1579700954138?e=1644955200&amp;v=beta&amp;t=z5nEynvoBt58JNEyFypjL4YZWkwycLwE7j_2eumN1JY</td>\n",
              "      <td>IT SERV est une société de conseil et de services en TIC, qui depuis sa création en 2008 articule ses prestations autour de quatre offres :\\nConsulting IT\\nIntégration &amp; Développement\\nExpertise Télécoms\\nNearshore Outsourcing, \\nAfin d'aider ses Clients à profiter pleinement des technologies nouvelles, à maximiser l’efficacité et l’efficience de leur organisation et à optimiser leurs processus.</td>\n",
              "      <td>Votre partenaire technologique pour aujourd'hui et demain</td>\n",
              "      <td>Société de personnes (associés)</td>\n",
              "      <td>...</td>\n",
              "      <td>https://www.linkedin.com/company/tobbabykeeplyna/</td>\n",
              "      <td>https://www.linkedin.com/company/inetumtunisie/</td>\n",
              "      <td>https://www.linkedin.com/company/digitech-france/</td>\n",
              "      <td>https://www.linkedin.com/company/it-services/</td>\n",
              "      <td>https://www.linkedin.com/company/be-softilys-tunisie/</td>\n",
              "      <td>https://www.linkedin.com/company/it-serve-com/</td>\n",
              "      <td>https://www.linkedin.com/company/itserv-teknoloji-hizmetleri/</td>\n",
              "      <td>https://www.linkedin.com/company/aymax-consulting/</td>\n",
              "      <td>NaN</td>\n",
              "      <td>NaN</td>\n",
              "    </tr>\n",
              "    <tr>\n",
              "      <th>3</th>\n",
              "      <td>https://www.linkedin.com/company/devitco/</td>\n",
              "      <td>NaN</td>\n",
              "      <td>2022-02-14T19:02:09.174Z</td>\n",
              "      <td>DevItCo - the Develop It Company</td>\n",
              "      <td>False</td>\n",
              "      <td>https://media-exp1.licdn.com/dms/image/C4E0BAQH8LTaIy4fVpQ/company-logo_400_400/0/1519908760235?e=1652918400&amp;v=beta&amp;t=MlxW5xYJNnI8DkCETHlzfP0nkF2Erj2sQmGdb33Z8iM</td>\n",
              "      <td>NaN</td>\n",
              "      <td>We do digital transformation for retail brands!\\n\\nA DevItCo, nous sommes passionnés par la transformation digital et l'expérience client dans vos boutiques et en dehors. Notre objectif: apporter les outils et l'accompagnement nécessaires aux acteurs retail pour mener à bien leur transformation digitale et offrir à leurs clients une expérience unique, cohérente et totalement personnalisée où qu'ils soient.\\n\\nNotre solution ConnectiK est la première API d'interfaçage entre Cegid et les solutions clients B2C omnicanal. Cette solution Plug &amp; Play totalement bâtie sur les web services du module Omnicanal Cegid vous permettra d'enfin capturer tout le potentiel de votre système d'informations, sans lui apporter aucune modification. Grâce à ConnectiK, vous pourrez, en temps réel, automatiser le traitement de vos informations et de vos transactions sur toutes vos solutions clients B2C: site e-commerce, applications mobiles, bornes digitales etc..</td>\n",
              "      <td>NaN</td>\n",
              "      <td>Société civile/Société commerciale/Autres types de sociétés</td>\n",
              "      <td>...</td>\n",
              "      <td>NaN</td>\n",
              "      <td>NaN</td>\n",
              "      <td>NaN</td>\n",
              "      <td>NaN</td>\n",
              "      <td>NaN</td>\n",
              "      <td>NaN</td>\n",
              "      <td>NaN</td>\n",
              "      <td>NaN</td>\n",
              "      <td>Paris, France</td>\n",
              "      <td>Big Data</td>\n",
              "    </tr>\n",
              "    <tr>\n",
              "      <th>4</th>\n",
              "      <td>https://www.linkedin.com/company/itskillscompany/</td>\n",
              "      <td>NaN</td>\n",
              "      <td>2022-02-14T19:02:15.974Z</td>\n",
              "      <td>IT Skills Company</td>\n",
              "      <td>False</td>\n",
              "      <td>https://media-exp1.licdn.com/dms/image/C4E0BAQEL_0RgNyOGdA/company-logo_400_400/0/1519871063059?e=1652918400&amp;v=beta&amp;t=M3UXPEswVUBJi51cmkTCI1tO2h1puXfi5puE3zAoAy0</td>\n",
              "      <td>NaN</td>\n",
              "      <td>IT Skills Company est une entreprise informatique en plein essor, installée à Sfax, Tunisie, spécialisée dans le développement web et des applications mobile.\\nWebsite : www.itskills.com.tn\\nAddress : \\n- Rue Ahmed Aloulou Imm. El Hana App. 14 Sfax Eljadida, 3003 Sfax, Tunisia.\\n- Pépinière d’entreprises Sfax Innovation 1, Sfax 3052</td>\n",
              "      <td>NaN</td>\n",
              "      <td>Société civile/Société commerciale/Autres types de sociétés</td>\n",
              "      <td>...</td>\n",
              "      <td>https://www.linkedin.com/company/spark-it-france/</td>\n",
              "      <td>https://www.linkedin.com/company/piximind/</td>\n",
              "      <td>https://www.linkedin.com/company/bfigroupe/</td>\n",
              "      <td>https://www.linkedin.com/company/roboxagency/</td>\n",
              "      <td>https://www.linkedin.com/company/dot-tn/</td>\n",
              "      <td>https://www.linkedin.com/company/ooredootn/</td>\n",
              "      <td>https://www.linkedin.com/company/itcblida/</td>\n",
              "      <td>https://www.linkedin.com/company/linedata/</td>\n",
              "      <td>Sfax , Sfax</td>\n",
              "      <td>NaN</td>\n",
              "    </tr>\n",
              "  </tbody>\n",
              "</table>\n",
              "<p>5 rows × 38 columns</p>\n",
              "</div>\n",
              "      <button class=\"colab-df-convert\" onclick=\"convertToInteractive('df-364fb7d9-4be9-4ac5-8743-8afe9cb5403c')\"\n",
              "              title=\"Convert this dataframe to an interactive table.\"\n",
              "              style=\"display:none;\">\n",
              "        \n",
              "  <svg xmlns=\"http://www.w3.org/2000/svg\" height=\"24px\"viewBox=\"0 0 24 24\"\n",
              "       width=\"24px\">\n",
              "    <path d=\"M0 0h24v24H0V0z\" fill=\"none\"/>\n",
              "    <path d=\"M18.56 5.44l.94 2.06.94-2.06 2.06-.94-2.06-.94-.94-2.06-.94 2.06-2.06.94zm-11 1L8.5 8.5l.94-2.06 2.06-.94-2.06-.94L8.5 2.5l-.94 2.06-2.06.94zm10 10l.94 2.06.94-2.06 2.06-.94-2.06-.94-.94-2.06-.94 2.06-2.06.94z\"/><path d=\"M17.41 7.96l-1.37-1.37c-.4-.4-.92-.59-1.43-.59-.52 0-1.04.2-1.43.59L10.3 9.45l-7.72 7.72c-.78.78-.78 2.05 0 2.83L4 21.41c.39.39.9.59 1.41.59.51 0 1.02-.2 1.41-.59l7.78-7.78 2.81-2.81c.8-.78.8-2.07 0-2.86zM5.41 20L4 18.59l7.72-7.72 1.47 1.35L5.41 20z\"/>\n",
              "  </svg>\n",
              "      </button>\n",
              "      \n",
              "  <style>\n",
              "    .colab-df-container {\n",
              "      display:flex;\n",
              "      flex-wrap:wrap;\n",
              "      gap: 12px;\n",
              "    }\n",
              "\n",
              "    .colab-df-convert {\n",
              "      background-color: #E8F0FE;\n",
              "      border: none;\n",
              "      border-radius: 50%;\n",
              "      cursor: pointer;\n",
              "      display: none;\n",
              "      fill: #1967D2;\n",
              "      height: 32px;\n",
              "      padding: 0 0 0 0;\n",
              "      width: 32px;\n",
              "    }\n",
              "\n",
              "    .colab-df-convert:hover {\n",
              "      background-color: #E2EBFA;\n",
              "      box-shadow: 0px 1px 2px rgba(60, 64, 67, 0.3), 0px 1px 3px 1px rgba(60, 64, 67, 0.15);\n",
              "      fill: #174EA6;\n",
              "    }\n",
              "\n",
              "    [theme=dark] .colab-df-convert {\n",
              "      background-color: #3B4455;\n",
              "      fill: #D2E3FC;\n",
              "    }\n",
              "\n",
              "    [theme=dark] .colab-df-convert:hover {\n",
              "      background-color: #434B5C;\n",
              "      box-shadow: 0px 1px 3px 1px rgba(0, 0, 0, 0.15);\n",
              "      filter: drop-shadow(0px 1px 2px rgba(0, 0, 0, 0.3));\n",
              "      fill: #FFFFFF;\n",
              "    }\n",
              "  </style>\n",
              "\n",
              "      <script>\n",
              "        const buttonEl =\n",
              "          document.querySelector('#df-364fb7d9-4be9-4ac5-8743-8afe9cb5403c button.colab-df-convert');\n",
              "        buttonEl.style.display =\n",
              "          google.colab.kernel.accessAllowed ? 'block' : 'none';\n",
              "\n",
              "        async function convertToInteractive(key) {\n",
              "          const element = document.querySelector('#df-364fb7d9-4be9-4ac5-8743-8afe9cb5403c');\n",
              "          const dataTable =\n",
              "            await google.colab.kernel.invokeFunction('convertToInteractive',\n",
              "                                                     [key], {});\n",
              "          if (!dataTable) return;\n",
              "\n",
              "          const docLinkHtml = 'Like what you see? Visit the ' +\n",
              "            '<a target=\"_blank\" href=https://colab.research.google.com/notebooks/data_table.ipynb>data table notebook</a>'\n",
              "            + ' to learn more about interactive tables.';\n",
              "          element.innerHTML = '';\n",
              "          dataTable['output_type'] = 'display_data';\n",
              "          await google.colab.output.renderOutput(dataTable, element);\n",
              "          const docLink = document.createElement('div');\n",
              "          docLink.innerHTML = docLinkHtml;\n",
              "          element.appendChild(docLink);\n",
              "        }\n",
              "      </script>\n",
              "    </div>\n",
              "  </div>\n",
              "  "
            ]
          },
          "metadata": {},
          "execution_count": 133
        }
      ],
      "source": [
        "df.head()"
      ]
    },
    {
      "cell_type": "code",
      "source": [
        "df.columns"
      ],
      "metadata": {
        "colab": {
          "base_uri": "https://localhost:8080/"
        },
        "id": "zZu0kPbPf6MU",
        "outputId": "9cdf32af-592a-4cac-bb1f-eae2058d3aa6"
      },
      "execution_count": null,
      "outputs": [
        {
          "output_type": "execute_result",
          "data": {
            "text/plain": [
              "Int64Index([ 0,  1,  2,  3,  4,  5,  6,  7,  8,  9, 10, 11, 12, 13, 14, 15, 16,\n",
              "            17, 18, 19, 20, 21, 22, 23, 24, 25, 26, 27, 28, 29, 30, 31, 32, 33,\n",
              "            34, 35, 36, 37],\n",
              "           dtype='int64')"
            ]
          },
          "metadata": {},
          "execution_count": 45
        }
      ]
    },
    {
      "cell_type": "markdown",
      "metadata": {
        "id": "Vrjw9cUZSd6f"
      },
      "source": [
        "On voit que la data n'a pas le bon header donc on va régler ce problème en enlever la ligne de 0,1,2.."
      ]
    },
    {
      "cell_type": "code",
      "execution_count": null,
      "metadata": {
        "id": "DBcLFQMB1IiC"
      },
      "outputs": [],
      "source": [
        "df=df.rename(columns=df.iloc[0])\n",
        "df.drop(df.index[0],inplace=True)\n",
        "df.reset_index(drop=True, inplace=True)"
      ]
    },
    {
      "cell_type": "code",
      "execution_count": null,
      "metadata": {
        "colab": {
          "base_uri": "https://localhost:8080/"
        },
        "id": "hoA2nv7s1Ik1",
        "outputId": "8c0bfc10-66fc-4cf2-dca7-69018687fbf9"
      },
      "outputs": [
        {
          "output_type": "execute_result",
          "data": {
            "text/plain": [
              "Index(['query', 'error', 'timestamp', 'name', 'isAdmin', 'logo', 'banner',\n",
              "       'description', 'tagLine', 'type', 'followerCount', 'website', 'domain',\n",
              "       'siteWeb', 'téléphone', 'tailleDel’entreprise', 'fondéeEn',\n",
              "       'companyAddress', 'mainCompanyID', 'industryCode', 'industry',\n",
              "       'salesNavigatorLink', 'employeesOnLinkedIn', 'companyName', 'savedImg',\n",
              "       'companyUrl', 'relatedCompanies1', 'relatedCompanies2',\n",
              "       'relatedCompanies3', 'relatedCompanies4', 'relatedCompanies5',\n",
              "       'relatedCompanies6', 'relatedCompanies7', 'relatedCompanies8',\n",
              "       'relatedCompanies9', 'relatedCompanies10', 'siègeSocial',\n",
              "       'spécialisations'],\n",
              "      dtype='object')"
            ]
          },
          "metadata": {},
          "execution_count": 48
        }
      ],
      "source": [
        "df.columns"
      ]
    },
    {
      "cell_type": "markdown",
      "metadata": {
        "id": "FBMMvP8HKGMJ"
      },
      "source": [
        "* La colonne Error est une colonne erroné à cause du web scrapping, c'est pour cela on va l'enlever.\n",
        "* La colonne siteWeb, domain et website fournir les memes données :  le lien du site web de l'entreprise, c'est pour cela on va laisser une seul colonne qui est siteWEb.\n",
        "* La colonne savedImg n'est pas une colonne significative, elle représente un code XML géneré suit au web scrapping, on va l'enlever.\n",
        "* La colonne Query et CompanyUrl fournit la meme information : le lien linkedin de l'entreprise => on va enlever la colonne Query et  laisser la colonne  companyUrl.\n",
        "* La colonne banner est une colonne  qui nous mennent pour un site erroné, on va l'enlever.\n",
        "* La colonne salesNavigatorLink est une colonne qui contient des liens qui nous mènent à un produit pour Linkedin, c'est une colonne inutile pour notre problème, on va l'enlever.\n",
        "A faire : Comprendre l'utilité de la colonne IsAdmin\n",
        "\n",
        "\n",
        "*   Related companies : regex ( extraire nom )\n",
        "*   \n",
        "\n"
      ]
    },
    {
      "cell_type": "code",
      "execution_count": null,
      "metadata": {
        "colab": {
          "base_uri": "https://localhost:8080/"
        },
        "id": "cmreQque1Inm",
        "outputId": "e256f189-e97c-4e3a-ade9-d080fa1dfc4e"
      },
      "outputs": [
        {
          "output_type": "stream",
          "name": "stdout",
          "text": [
            "<class 'pandas.core.frame.DataFrame'>\n",
            "RangeIndex: 678 entries, 0 to 677\n",
            "Data columns (total 38 columns):\n",
            " #   Column                Non-Null Count  Dtype \n",
            "---  ------                --------------  ----- \n",
            " 0   query                 33 non-null     object\n",
            " 1   error                 1 non-null      object\n",
            " 2   timestamp             33 non-null     object\n",
            " 3   name                  677 non-null    object\n",
            " 4   isAdmin               32 non-null     object\n",
            " 5   logo                  676 non-null    object\n",
            " 6   banner                26 non-null     object\n",
            " 7   description           677 non-null    object\n",
            " 8   tagLine               19 non-null     object\n",
            " 9   type                  32 non-null     object\n",
            " 10  followerCount         32 non-null     object\n",
            " 11  website               32 non-null     object\n",
            " 12  domain                32 non-null     object\n",
            " 13  siteWeb               32 non-null     object\n",
            " 14  téléphone             5 non-null      object\n",
            " 15  tailleDel’entreprise  31 non-null     object\n",
            " 16  fondéeEn              627 non-null    object\n",
            " 17  companyAddress        13 non-null     object\n",
            " 18  mainCompanyID         32 non-null     object\n",
            " 19  industryCode          32 non-null     object\n",
            " 20  industry              32 non-null     object\n",
            " 21  salesNavigatorLink    32 non-null     object\n",
            " 22  employeesOnLinkedIn   30 non-null     object\n",
            " 23  companyName           32 non-null     object\n",
            " 24  savedImg              31 non-null     object\n",
            " 25  companyUrl            13 non-null     object\n",
            " 26  relatedCompanies1     12 non-null     object\n",
            " 27  relatedCompanies2     11 non-null     object\n",
            " 28  relatedCompanies3     11 non-null     object\n",
            " 29  relatedCompanies4     11 non-null     object\n",
            " 30  relatedCompanies5     11 non-null     object\n",
            " 31  relatedCompanies6     11 non-null     object\n",
            " 32  relatedCompanies7     11 non-null     object\n",
            " 33  relatedCompanies8     11 non-null     object\n",
            " 34  relatedCompanies9     11 non-null     object\n",
            " 35  relatedCompanies10    11 non-null     object\n",
            " 36  siègeSocial           24 non-null     object\n",
            " 37  spécialisations       670 non-null    object\n",
            "dtypes: object(38)\n",
            "memory usage: 201.4+ KB\n"
          ]
        }
      ],
      "source": [
        "df.info()"
      ]
    },
    {
      "cell_type": "markdown",
      "metadata": {
        "id": "-etXYMcl1gBW"
      },
      "source": [
        "*   query : inutile\n",
        "*   website, domain, siteweb : le meme feature pas d'information supplementaire \n",
        "*   taille de l'entreprise : on peut mettre un scale 1 2 3 \n",
        "*   followerCount, fondéeEn, mainCompanyID, industryCode, employeesOnLinkedIn : caster pour un int"
      ]
    },
    {
      "cell_type": "code",
      "execution_count": null,
      "metadata": {
        "id": "nYyt_iV91Ip8"
      },
      "outputs": [],
      "source": [
        "df=df.astype({'followerCount': float, 'mainCompanyID': float}) \n"
      ]
    },
    {
      "cell_type": "code",
      "execution_count": null,
      "metadata": {
        "id": "9JcqnXj37lbc"
      },
      "outputs": [],
      "source": [
        "#df=df.astype({'fondéeEn': float, 'industryCode': float, 'employeesOnLinkedIn': int})\n",
        "# le cast n'est pas possible ici erreur"
      ]
    },
    {
      "cell_type": "code",
      "execution_count": null,
      "metadata": {
        "colab": {
          "base_uri": "https://localhost:8080/"
        },
        "id": "PxKVszFL1Iss",
        "outputId": "88c4f526-af65-4765-e250-d55efb285288"
      },
      "outputs": [
        {
          "output_type": "stream",
          "name": "stdout",
          "text": [
            "<class 'pandas.core.frame.DataFrame'>\n",
            "RangeIndex: 678 entries, 0 to 677\n",
            "Data columns (total 38 columns):\n",
            " #   Column                Non-Null Count  Dtype  \n",
            "---  ------                --------------  -----  \n",
            " 0   query                 33 non-null     object \n",
            " 1   error                 1 non-null      object \n",
            " 2   timestamp             33 non-null     object \n",
            " 3   name                  677 non-null    object \n",
            " 4   isAdmin               32 non-null     object \n",
            " 5   logo                  676 non-null    object \n",
            " 6   banner                26 non-null     object \n",
            " 7   description           677 non-null    object \n",
            " 8   tagLine               19 non-null     object \n",
            " 9   type                  32 non-null     object \n",
            " 10  followerCount         32 non-null     float64\n",
            " 11  website               32 non-null     object \n",
            " 12  domain                32 non-null     object \n",
            " 13  siteWeb               32 non-null     object \n",
            " 14  téléphone             5 non-null      object \n",
            " 15  tailleDel’entreprise  31 non-null     object \n",
            " 16  fondéeEn              627 non-null    object \n",
            " 17  companyAddress        13 non-null     object \n",
            " 18  mainCompanyID         32 non-null     float64\n",
            " 19  industryCode          32 non-null     object \n",
            " 20  industry              32 non-null     object \n",
            " 21  salesNavigatorLink    32 non-null     object \n",
            " 22  employeesOnLinkedIn   30 non-null     object \n",
            " 23  companyName           32 non-null     object \n",
            " 24  savedImg              31 non-null     object \n",
            " 25  companyUrl            13 non-null     object \n",
            " 26  relatedCompanies1     12 non-null     object \n",
            " 27  relatedCompanies2     11 non-null     object \n",
            " 28  relatedCompanies3     11 non-null     object \n",
            " 29  relatedCompanies4     11 non-null     object \n",
            " 30  relatedCompanies5     11 non-null     object \n",
            " 31  relatedCompanies6     11 non-null     object \n",
            " 32  relatedCompanies7     11 non-null     object \n",
            " 33  relatedCompanies8     11 non-null     object \n",
            " 34  relatedCompanies9     11 non-null     object \n",
            " 35  relatedCompanies10    11 non-null     object \n",
            " 36  siègeSocial           24 non-null     object \n",
            " 37  spécialisations       670 non-null    object \n",
            "dtypes: float64(2), object(36)\n",
            "memory usage: 201.4+ KB\n"
          ]
        }
      ],
      "source": [
        "df.info()"
      ]
    },
    {
      "cell_type": "markdown",
      "metadata": {
        "id": "ti5t91pcJ7Ta"
      },
      "source": [
        "\n",
        "\n",
        "1.   Élément de liste\n",
        "2.   Élément de liste\n",
        "\n"
      ]
    },
    {
      "cell_type": "code",
      "execution_count": null,
      "metadata": {
        "colab": {
          "base_uri": "https://localhost:8080/"
        },
        "id": "w0SbjOl_1IwQ",
        "outputId": "44d82de6-f5ef-4978-ccaf-dd1103643328"
      },
      "outputs": [
        {
          "output_type": "execute_result",
          "data": {
            "text/plain": [
              "query                   645\n",
              "error                   677\n",
              "timestamp               645\n",
              "name                    1  \n",
              "isAdmin                 646\n",
              "logo                    2  \n",
              "banner                  652\n",
              "description             1  \n",
              "tagLine                 659\n",
              "type                    646\n",
              "followerCount           646\n",
              "website                 646\n",
              "domain                  646\n",
              "siteWeb                 646\n",
              "téléphone               673\n",
              "tailleDel’entreprise    647\n",
              "fondéeEn                51 \n",
              "companyAddress          665\n",
              "mainCompanyID           646\n",
              "industryCode            646\n",
              "industry                646\n",
              "salesNavigatorLink      646\n",
              "employeesOnLinkedIn     648\n",
              "companyName             646\n",
              "savedImg                647\n",
              "companyUrl              665\n",
              "relatedCompanies1       666\n",
              "relatedCompanies2       667\n",
              "relatedCompanies3       667\n",
              "relatedCompanies4       667\n",
              "relatedCompanies5       667\n",
              "relatedCompanies6       667\n",
              "relatedCompanies7       667\n",
              "relatedCompanies8       667\n",
              "relatedCompanies9       667\n",
              "relatedCompanies10      667\n",
              "siègeSocial             654\n",
              "spécialisations         8  \n",
              "dtype: int64"
            ]
          },
          "metadata": {},
          "execution_count": 136
        }
      ],
      "source": [
        "df.isnull().sum()   "
      ]
    },
    {
      "cell_type": "code",
      "execution_count": null,
      "metadata": {
        "colab": {
          "base_uri": "https://localhost:8080/"
        },
        "id": "ua-WqnHCsVLE",
        "outputId": "93100822-9a48-4e48-bad2-7adc964a5fdf"
      },
      "outputs": [
        {
          "output_type": "execute_result",
          "data": {
            "text/plain": [
              "Index(['query', 'error', 'timestamp', 'name', 'isAdmin', 'logo', 'banner',\n",
              "       'description', 'tagLine', 'type', 'followerCount', 'website', 'domain',\n",
              "       'siteWeb', 'téléphone', 'tailleDel’entreprise', 'fondéeEn',\n",
              "       'companyAddress', 'mainCompanyID', 'industryCode', 'industry',\n",
              "       'salesNavigatorLink', 'employeesOnLinkedIn', 'companyName', 'savedImg',\n",
              "       'companyUrl', 'relatedCompanies1', 'relatedCompanies2',\n",
              "       'relatedCompanies3', 'relatedCompanies4', 'relatedCompanies5',\n",
              "       'relatedCompanies6', 'relatedCompanies7', 'relatedCompanies8',\n",
              "       'relatedCompanies9', 'relatedCompanies10', 'siègeSocial',\n",
              "       'spécialisations'],\n",
              "      dtype='object')"
            ]
          },
          "metadata": {},
          "execution_count": 8
        }
      ],
      "source": [
        "df.columns"
      ]
    },
    {
      "cell_type": "code",
      "execution_count": null,
      "metadata": {
        "id": "Xjrf83p2_zdr"
      },
      "outputs": [],
      "source": [
        "cols=['query', 'error','banner','website','siteWeb','salesNavigatorLink','savedImg', 'isAdmin', 'logo']\n",
        "df.drop(cols,axis=1,inplace=True)"
      ]
    },
    {
      "cell_type": "code",
      "source": [
        "df.columns"
      ],
      "metadata": {
        "colab": {
          "base_uri": "https://localhost:8080/"
        },
        "id": "646WLml7G_Ib",
        "outputId": "7690f178-81db-4010-8e9a-be8802e904f4"
      },
      "execution_count": null,
      "outputs": [
        {
          "output_type": "execute_result",
          "data": {
            "text/plain": [
              "Index(['timestamp', 'name', 'description', 'tagLine', 'type', 'followerCount',\n",
              "       'domain', 'téléphone', 'tailleDel’entreprise', 'fondéeEn',\n",
              "       'companyAddress', 'mainCompanyID', 'industryCode', 'industry',\n",
              "       'employeesOnLinkedIn', 'companyName', 'companyUrl', 'relatedCompanies1',\n",
              "       'relatedCompanies2', 'relatedCompanies3', 'relatedCompanies4',\n",
              "       'relatedCompanies5', 'relatedCompanies6', 'relatedCompanies7',\n",
              "       'relatedCompanies8', 'relatedCompanies9', 'relatedCompanies10',\n",
              "       'siègeSocial', 'spécialisations'],\n",
              "      dtype='object')"
            ]
          },
          "metadata": {},
          "execution_count": 139
        }
      ]
    },
    {
      "cell_type": "code",
      "execution_count": null,
      "metadata": {
        "colab": {
          "base_uri": "https://localhost:8080/",
          "height": 543
        },
        "id": "5ZXFbzCF_zs0",
        "outputId": "8c995b13-cadf-407e-cac5-6069d2cf1671"
      },
      "outputs": [
        {
          "output_type": "execute_result",
          "data": {
            "text/plain": [
              "                  timestamp                              name  \\\n",
              "0  2022-02-14T19:01:59.750Z                               NaN   \n",
              "1  2022-02-14T19:02:02.959Z                   IT SERV Company   \n",
              "2  2022-02-14T19:02:09.174Z  DevItCo - the Develop It Company   \n",
              "3  2022-02-14T19:02:15.974Z                 IT Skills Company   \n",
              "4  2022-02-14T19:02:21.859Z  KODREVO - IT Development Company   \n",
              "\n",
              "                                         description  \\\n",
              "0                                                NaN   \n",
              "1  IT SERV est une société de conseil et de servi...   \n",
              "2  We do digital transformation for retail brands...   \n",
              "3  IT Skills Company est une entreprise informati...   \n",
              "4  Nous sommes une équipe de passionnés, animés p...   \n",
              "\n",
              "                                             tagLine  \\\n",
              "0                                                NaN   \n",
              "1  Votre partenaire technologique pour aujourd'hu...   \n",
              "2                                                NaN   \n",
              "3                                                NaN   \n",
              "4  Une jeune STARTUP Tunisienne de développements...   \n",
              "\n",
              "                                                type  followerCount  \\\n",
              "0                                                NaN            NaN   \n",
              "1                    Société de personnes (associés)         3871.0   \n",
              "2  Société civile/Société commerciale/Autres type...           50.0   \n",
              "3  Société civile/Société commerciale/Autres type...          291.0   \n",
              "4     Travailleur indépendant ou profession libérale            4.0   \n",
              "\n",
              "                        domain     téléphone tailleDel’entreprise fondéeEn  \\\n",
              "0                          NaN           NaN                  NaN      NaN   \n",
              "1                    itserv.tn  +21671230206       11-50 employés   2008.0   \n",
              "2                   devitco.io           NaN        2-10 employés   2017.0   \n",
              "3              itskills.com.tn           NaN        2-10 employés   2017.0   \n",
              "4  https://kodrevo.netlify.app    54007387.0        2-10 employés   2021.0   \n",
              "\n",
              "   ...                                  relatedCompanies3  \\\n",
              "0  ...                                                NaN   \n",
              "1  ...  https://www.linkedin.com/company/tobbabykeeplyna/   \n",
              "2  ...                                                NaN   \n",
              "3  ...  https://www.linkedin.com/company/spark-it-france/   \n",
              "4  ...                                                NaN   \n",
              "\n",
              "                                 relatedCompanies4  \\\n",
              "0                                              NaN   \n",
              "1  https://www.linkedin.com/company/inetumtunisie/   \n",
              "2                                              NaN   \n",
              "3       https://www.linkedin.com/company/piximind/   \n",
              "4                                              NaN   \n",
              "\n",
              "                                   relatedCompanies5  \\\n",
              "0                                                NaN   \n",
              "1  https://www.linkedin.com/company/digitech-france/   \n",
              "2                                                NaN   \n",
              "3        https://www.linkedin.com/company/bfigroupe/   \n",
              "4                                                NaN   \n",
              "\n",
              "                               relatedCompanies6  \\\n",
              "0                                            NaN   \n",
              "1  https://www.linkedin.com/company/it-services/   \n",
              "2                                            NaN   \n",
              "3  https://www.linkedin.com/company/roboxagency/   \n",
              "4                                            NaN   \n",
              "\n",
              "                                   relatedCompanies7  \\\n",
              "0                                                NaN   \n",
              "1  https://www.linkedin.com/company/be-softilys-t...   \n",
              "2                                                NaN   \n",
              "3           https://www.linkedin.com/company/dot-tn/   \n",
              "4                                                NaN   \n",
              "\n",
              "                                relatedCompanies8  \\\n",
              "0                                             NaN   \n",
              "1  https://www.linkedin.com/company/it-serve-com/   \n",
              "2                                             NaN   \n",
              "3     https://www.linkedin.com/company/ooredootn/   \n",
              "4                                             NaN   \n",
              "\n",
              "                                   relatedCompanies9  \\\n",
              "0                                                NaN   \n",
              "1  https://www.linkedin.com/company/itserv-teknol...   \n",
              "2                                                NaN   \n",
              "3         https://www.linkedin.com/company/itcblida/   \n",
              "4                                                NaN   \n",
              "\n",
              "                                  relatedCompanies10    siègeSocial  \\\n",
              "0                                                NaN            NaN   \n",
              "1  https://www.linkedin.com/company/aymax-consult...            NaN   \n",
              "2                                                NaN  Paris, France   \n",
              "3         https://www.linkedin.com/company/linedata/    Sfax , Sfax   \n",
              "4                                                NaN            NaN   \n",
              "\n",
              "  spécialisations  \n",
              "0             NaN  \n",
              "1   Consulting IT  \n",
              "2        Big Data  \n",
              "3  développement   \n",
              "4     Development  \n",
              "\n",
              "[5 rows x 29 columns]"
            ],
            "text/html": [
              "\n",
              "  <div id=\"df-9828568e-2d10-4b85-a168-558dc72806fd\">\n",
              "    <div class=\"colab-df-container\">\n",
              "      <div>\n",
              "<style scoped>\n",
              "    .dataframe tbody tr th:only-of-type {\n",
              "        vertical-align: middle;\n",
              "    }\n",
              "\n",
              "    .dataframe tbody tr th {\n",
              "        vertical-align: top;\n",
              "    }\n",
              "\n",
              "    .dataframe thead th {\n",
              "        text-align: right;\n",
              "    }\n",
              "</style>\n",
              "<table border=\"1\" class=\"dataframe\">\n",
              "  <thead>\n",
              "    <tr style=\"text-align: right;\">\n",
              "      <th></th>\n",
              "      <th>timestamp</th>\n",
              "      <th>name</th>\n",
              "      <th>description</th>\n",
              "      <th>tagLine</th>\n",
              "      <th>type</th>\n",
              "      <th>followerCount</th>\n",
              "      <th>domain</th>\n",
              "      <th>téléphone</th>\n",
              "      <th>tailleDel’entreprise</th>\n",
              "      <th>fondéeEn</th>\n",
              "      <th>...</th>\n",
              "      <th>relatedCompanies3</th>\n",
              "      <th>relatedCompanies4</th>\n",
              "      <th>relatedCompanies5</th>\n",
              "      <th>relatedCompanies6</th>\n",
              "      <th>relatedCompanies7</th>\n",
              "      <th>relatedCompanies8</th>\n",
              "      <th>relatedCompanies9</th>\n",
              "      <th>relatedCompanies10</th>\n",
              "      <th>siègeSocial</th>\n",
              "      <th>spécialisations</th>\n",
              "    </tr>\n",
              "  </thead>\n",
              "  <tbody>\n",
              "    <tr>\n",
              "      <th>0</th>\n",
              "      <td>2022-02-14T19:01:59.750Z</td>\n",
              "      <td>NaN</td>\n",
              "      <td>NaN</td>\n",
              "      <td>NaN</td>\n",
              "      <td>NaN</td>\n",
              "      <td>NaN</td>\n",
              "      <td>NaN</td>\n",
              "      <td>NaN</td>\n",
              "      <td>NaN</td>\n",
              "      <td>NaN</td>\n",
              "      <td>...</td>\n",
              "      <td>NaN</td>\n",
              "      <td>NaN</td>\n",
              "      <td>NaN</td>\n",
              "      <td>NaN</td>\n",
              "      <td>NaN</td>\n",
              "      <td>NaN</td>\n",
              "      <td>NaN</td>\n",
              "      <td>NaN</td>\n",
              "      <td>NaN</td>\n",
              "      <td>NaN</td>\n",
              "    </tr>\n",
              "    <tr>\n",
              "      <th>1</th>\n",
              "      <td>2022-02-14T19:02:02.959Z</td>\n",
              "      <td>IT SERV Company</td>\n",
              "      <td>IT SERV est une société de conseil et de servi...</td>\n",
              "      <td>Votre partenaire technologique pour aujourd'hu...</td>\n",
              "      <td>Société de personnes (associés)</td>\n",
              "      <td>3871.0</td>\n",
              "      <td>itserv.tn</td>\n",
              "      <td>+21671230206</td>\n",
              "      <td>11-50 employés</td>\n",
              "      <td>2008.0</td>\n",
              "      <td>...</td>\n",
              "      <td>https://www.linkedin.com/company/tobbabykeeplyna/</td>\n",
              "      <td>https://www.linkedin.com/company/inetumtunisie/</td>\n",
              "      <td>https://www.linkedin.com/company/digitech-france/</td>\n",
              "      <td>https://www.linkedin.com/company/it-services/</td>\n",
              "      <td>https://www.linkedin.com/company/be-softilys-t...</td>\n",
              "      <td>https://www.linkedin.com/company/it-serve-com/</td>\n",
              "      <td>https://www.linkedin.com/company/itserv-teknol...</td>\n",
              "      <td>https://www.linkedin.com/company/aymax-consult...</td>\n",
              "      <td>NaN</td>\n",
              "      <td>Consulting IT</td>\n",
              "    </tr>\n",
              "    <tr>\n",
              "      <th>2</th>\n",
              "      <td>2022-02-14T19:02:09.174Z</td>\n",
              "      <td>DevItCo - the Develop It Company</td>\n",
              "      <td>We do digital transformation for retail brands...</td>\n",
              "      <td>NaN</td>\n",
              "      <td>Société civile/Société commerciale/Autres type...</td>\n",
              "      <td>50.0</td>\n",
              "      <td>devitco.io</td>\n",
              "      <td>NaN</td>\n",
              "      <td>2-10 employés</td>\n",
              "      <td>2017.0</td>\n",
              "      <td>...</td>\n",
              "      <td>NaN</td>\n",
              "      <td>NaN</td>\n",
              "      <td>NaN</td>\n",
              "      <td>NaN</td>\n",
              "      <td>NaN</td>\n",
              "      <td>NaN</td>\n",
              "      <td>NaN</td>\n",
              "      <td>NaN</td>\n",
              "      <td>Paris, France</td>\n",
              "      <td>Big Data</td>\n",
              "    </tr>\n",
              "    <tr>\n",
              "      <th>3</th>\n",
              "      <td>2022-02-14T19:02:15.974Z</td>\n",
              "      <td>IT Skills Company</td>\n",
              "      <td>IT Skills Company est une entreprise informati...</td>\n",
              "      <td>NaN</td>\n",
              "      <td>Société civile/Société commerciale/Autres type...</td>\n",
              "      <td>291.0</td>\n",
              "      <td>itskills.com.tn</td>\n",
              "      <td>NaN</td>\n",
              "      <td>2-10 employés</td>\n",
              "      <td>2017.0</td>\n",
              "      <td>...</td>\n",
              "      <td>https://www.linkedin.com/company/spark-it-france/</td>\n",
              "      <td>https://www.linkedin.com/company/piximind/</td>\n",
              "      <td>https://www.linkedin.com/company/bfigroupe/</td>\n",
              "      <td>https://www.linkedin.com/company/roboxagency/</td>\n",
              "      <td>https://www.linkedin.com/company/dot-tn/</td>\n",
              "      <td>https://www.linkedin.com/company/ooredootn/</td>\n",
              "      <td>https://www.linkedin.com/company/itcblida/</td>\n",
              "      <td>https://www.linkedin.com/company/linedata/</td>\n",
              "      <td>Sfax , Sfax</td>\n",
              "      <td>développement</td>\n",
              "    </tr>\n",
              "    <tr>\n",
              "      <th>4</th>\n",
              "      <td>2022-02-14T19:02:21.859Z</td>\n",
              "      <td>KODREVO - IT Development Company</td>\n",
              "      <td>Nous sommes une équipe de passionnés, animés p...</td>\n",
              "      <td>Une jeune STARTUP Tunisienne de développements...</td>\n",
              "      <td>Travailleur indépendant ou profession libérale</td>\n",
              "      <td>4.0</td>\n",
              "      <td>https://kodrevo.netlify.app</td>\n",
              "      <td>54007387.0</td>\n",
              "      <td>2-10 employés</td>\n",
              "      <td>2021.0</td>\n",
              "      <td>...</td>\n",
              "      <td>NaN</td>\n",
              "      <td>NaN</td>\n",
              "      <td>NaN</td>\n",
              "      <td>NaN</td>\n",
              "      <td>NaN</td>\n",
              "      <td>NaN</td>\n",
              "      <td>NaN</td>\n",
              "      <td>NaN</td>\n",
              "      <td>NaN</td>\n",
              "      <td>Development</td>\n",
              "    </tr>\n",
              "  </tbody>\n",
              "</table>\n",
              "<p>5 rows × 29 columns</p>\n",
              "</div>\n",
              "      <button class=\"colab-df-convert\" onclick=\"convertToInteractive('df-9828568e-2d10-4b85-a168-558dc72806fd')\"\n",
              "              title=\"Convert this dataframe to an interactive table.\"\n",
              "              style=\"display:none;\">\n",
              "        \n",
              "  <svg xmlns=\"http://www.w3.org/2000/svg\" height=\"24px\"viewBox=\"0 0 24 24\"\n",
              "       width=\"24px\">\n",
              "    <path d=\"M0 0h24v24H0V0z\" fill=\"none\"/>\n",
              "    <path d=\"M18.56 5.44l.94 2.06.94-2.06 2.06-.94-2.06-.94-.94-2.06-.94 2.06-2.06.94zm-11 1L8.5 8.5l.94-2.06 2.06-.94-2.06-.94L8.5 2.5l-.94 2.06-2.06.94zm10 10l.94 2.06.94-2.06 2.06-.94-2.06-.94-.94-2.06-.94 2.06-2.06.94z\"/><path d=\"M17.41 7.96l-1.37-1.37c-.4-.4-.92-.59-1.43-.59-.52 0-1.04.2-1.43.59L10.3 9.45l-7.72 7.72c-.78.78-.78 2.05 0 2.83L4 21.41c.39.39.9.59 1.41.59.51 0 1.02-.2 1.41-.59l7.78-7.78 2.81-2.81c.8-.78.8-2.07 0-2.86zM5.41 20L4 18.59l7.72-7.72 1.47 1.35L5.41 20z\"/>\n",
              "  </svg>\n",
              "      </button>\n",
              "      \n",
              "  <style>\n",
              "    .colab-df-container {\n",
              "      display:flex;\n",
              "      flex-wrap:wrap;\n",
              "      gap: 12px;\n",
              "    }\n",
              "\n",
              "    .colab-df-convert {\n",
              "      background-color: #E8F0FE;\n",
              "      border: none;\n",
              "      border-radius: 50%;\n",
              "      cursor: pointer;\n",
              "      display: none;\n",
              "      fill: #1967D2;\n",
              "      height: 32px;\n",
              "      padding: 0 0 0 0;\n",
              "      width: 32px;\n",
              "    }\n",
              "\n",
              "    .colab-df-convert:hover {\n",
              "      background-color: #E2EBFA;\n",
              "      box-shadow: 0px 1px 2px rgba(60, 64, 67, 0.3), 0px 1px 3px 1px rgba(60, 64, 67, 0.15);\n",
              "      fill: #174EA6;\n",
              "    }\n",
              "\n",
              "    [theme=dark] .colab-df-convert {\n",
              "      background-color: #3B4455;\n",
              "      fill: #D2E3FC;\n",
              "    }\n",
              "\n",
              "    [theme=dark] .colab-df-convert:hover {\n",
              "      background-color: #434B5C;\n",
              "      box-shadow: 0px 1px 3px 1px rgba(0, 0, 0, 0.15);\n",
              "      filter: drop-shadow(0px 1px 2px rgba(0, 0, 0, 0.3));\n",
              "      fill: #FFFFFF;\n",
              "    }\n",
              "  </style>\n",
              "\n",
              "      <script>\n",
              "        const buttonEl =\n",
              "          document.querySelector('#df-9828568e-2d10-4b85-a168-558dc72806fd button.colab-df-convert');\n",
              "        buttonEl.style.display =\n",
              "          google.colab.kernel.accessAllowed ? 'block' : 'none';\n",
              "\n",
              "        async function convertToInteractive(key) {\n",
              "          const element = document.querySelector('#df-9828568e-2d10-4b85-a168-558dc72806fd');\n",
              "          const dataTable =\n",
              "            await google.colab.kernel.invokeFunction('convertToInteractive',\n",
              "                                                     [key], {});\n",
              "          if (!dataTable) return;\n",
              "\n",
              "          const docLinkHtml = 'Like what you see? Visit the ' +\n",
              "            '<a target=\"_blank\" href=https://colab.research.google.com/notebooks/data_table.ipynb>data table notebook</a>'\n",
              "            + ' to learn more about interactive tables.';\n",
              "          element.innerHTML = '';\n",
              "          dataTable['output_type'] = 'display_data';\n",
              "          await google.colab.output.renderOutput(dataTable, element);\n",
              "          const docLink = document.createElement('div');\n",
              "          docLink.innerHTML = docLinkHtml;\n",
              "          element.appendChild(docLink);\n",
              "        }\n",
              "      </script>\n",
              "    </div>\n",
              "  </div>\n",
              "  "
            ]
          },
          "metadata": {},
          "execution_count": 10
        }
      ],
      "source": [
        "df.head()"
      ]
    },
    {
      "cell_type": "code",
      "execution_count": null,
      "metadata": {
        "colab": {
          "base_uri": "https://localhost:8080/"
        },
        "id": "LHL7vEse_zwU",
        "outputId": "ac284a6a-d5fe-46d8-99bf-667ee3daff25"
      },
      "outputs": [
        {
          "output_type": "execute_result",
          "data": {
            "text/plain": [
              "timestamp               645\n",
              "name                      1\n",
              "description               1\n",
              "tagLine                 659\n",
              "type                    646\n",
              "followerCount           646\n",
              "domain                  646\n",
              "téléphone               673\n",
              "tailleDel’entreprise    647\n",
              "fondéeEn                 51\n",
              "companyAddress          665\n",
              "mainCompanyID           646\n",
              "industryCode            646\n",
              "industry                646\n",
              "employeesOnLinkedIn     648\n",
              "companyName             646\n",
              "companyUrl              665\n",
              "relatedCompanies1       666\n",
              "relatedCompanies2       667\n",
              "relatedCompanies3       667\n",
              "relatedCompanies4       667\n",
              "relatedCompanies5       667\n",
              "relatedCompanies6       667\n",
              "relatedCompanies7       667\n",
              "relatedCompanies8       667\n",
              "relatedCompanies9       667\n",
              "relatedCompanies10      667\n",
              "siègeSocial             654\n",
              "spécialisations           8\n",
              "dtype: int64"
            ]
          },
          "metadata": {},
          "execution_count": 19
        }
      ],
      "source": [
        "df.isnull().sum()"
      ]
    },
    {
      "cell_type": "markdown",
      "source": [
        "\n",
        "# **Text Cleaning sur la colonne Spécialisations**"
      ],
      "metadata": {
        "id": "LQxbM0o7heCs"
      }
    },
    {
      "cell_type": "code",
      "source": [
        "df['spécialisations'].fillna('vide')"
      ],
      "metadata": {
        "colab": {
          "base_uri": "https://localhost:8080/"
        },
        "id": "dYMp18dRAPSZ",
        "outputId": "14a5bd7c-17ff-4eb6-b291-07d8c75d268f"
      },
      "execution_count": null,
      "outputs": [
        {
          "output_type": "execute_result",
          "data": {
            "text/plain": [
              "0                                         vide\n",
              "1                                Consulting IT\n",
              "2                                     Big Data\n",
              "3                               développement \n",
              "4                                  Development\n",
              "                        ...                   \n",
              "671                      Conseil en management\n",
              "672                       Industrie automobile\n",
              "673                                     Design\n",
              "674    Fabrication de produits pharmaceutiques\n",
              "675                    Restauration collective\n",
              "Name: spécialisations, Length: 676, dtype: object"
            ]
          },
          "metadata": {},
          "execution_count": 11
        }
      ]
    },
    {
      "cell_type": "code",
      "execution_count": null,
      "metadata": {
        "id": "DekCY1F6_z-B"
      },
      "outputs": [],
      "source": [
        "cols_null=['timestamp','name', 'description', 'type', 'domain', 'téléphone','tailleDel’entreprise','tagLine','fondéeEn', 'companyAddress','mainCompanyID',\n",
        "           'industryCode','industry','employeesOnLinkedIn','companyName','companyUrl',\n",
        "           'relatedCompanies1','relatedCompanies2','relatedCompanies3','relatedCompanies4',\n",
        "           'relatedCompanies5','relatedCompanies6','relatedCompanies7','relatedCompanies8',\n",
        "           'relatedCompanies9','relatedCompanies10','siègeSocial','spécialisations']\n",
        "for x in cols_null :\n",
        "  df[x].fillna(\"vide\",inplace=True)\n",
        "\n",
        "\n",
        "df[\"followerCount\"].fillna(df[\"followerCount\"].median(),inplace=True)\n",
        "\n",
        "\n"
      ]
    },
    {
      "cell_type": "markdown",
      "source": [
        "# **# Traduction Colonne Spécialisation en anglais**"
      ],
      "metadata": {
        "id": "Lk5wnkK1IGUX"
      }
    },
    {
      "cell_type": "code",
      "source": [
        "translator = Translator()\n",
        "df['spécialisations']=df['spécialisations'].apply(lambda x: translator.translate(x).text)"
      ],
      "metadata": {
        "id": "zQqL73mlxp_N"
      },
      "execution_count": null,
      "outputs": []
    },
    {
      "cell_type": "code",
      "execution_count": null,
      "metadata": {
        "colab": {
          "base_uri": "https://localhost:8080/"
        },
        "id": "mM1j8CX-_0Au",
        "outputId": "8c8d18a9-244d-4b27-9e8b-03d8376d922f"
      },
      "outputs": [
        {
          "output_type": "execute_result",
          "data": {
            "text/plain": [
              "timestamp               0\n",
              "name                    0\n",
              "description             0\n",
              "tagLine                 0\n",
              "type                    0\n",
              "followerCount           0\n",
              "domain                  0\n",
              "téléphone               0\n",
              "tailleDel’entreprise    0\n",
              "fondéeEn                0\n",
              "companyAddress          0\n",
              "mainCompanyID           0\n",
              "industryCode            0\n",
              "industry                0\n",
              "employeesOnLinkedIn     0\n",
              "companyName             0\n",
              "companyUrl              0\n",
              "relatedCompanies1       0\n",
              "relatedCompanies2       0\n",
              "relatedCompanies3       0\n",
              "relatedCompanies4       0\n",
              "relatedCompanies5       0\n",
              "relatedCompanies6       0\n",
              "relatedCompanies7       0\n",
              "relatedCompanies8       0\n",
              "relatedCompanies9       0\n",
              "relatedCompanies10      0\n",
              "siègeSocial             0\n",
              "spécialisations         0\n",
              "dtype: int64"
            ]
          },
          "metadata": {},
          "execution_count": 144
        }
      ],
      "source": [
        "df.isnull().sum()"
      ]
    },
    {
      "cell_type": "markdown",
      "source": [
        "# **Removing Stop Words**"
      ],
      "metadata": {
        "id": "uh56MS5zIVET"
      }
    },
    {
      "cell_type": "code",
      "source": [
        "#importing nlp library\n",
        "import nltk\n",
        "from nltk.corpus import stopwords\n",
        "nltk.download('stopwords')\n",
        "\n",
        "#Stop words present in the library\n",
        "new_stopwordsAN = ['i', 'me', 'my', 'myself', 'we', 'our', 'ours', 'ourselves', 'you', \"you're\"]\n",
        "new_stopwordsFR = ['cest',' ’','afin','objectif','autour','dehors','depuis','quelle','fait', 'dun','cette','sil','ème','ère','aussi','alors','donc','lorsque','Actuellement', 'je' , 'spécialité','permis','personnalité','très', 'plusieurs','mont','plus','forger','mesure','devenais','pouvoir','si','comme','tout','quil','encore','ça','quand','jai','dit',]\n",
        "stopwords_listFR = stop_wordsFR.union(new_stopwordsFR)\n",
        "stopwords_listAN = stop_wordsAN.union(new_stopwordsAN)\n",
        "stopwords_list = stopwords_listFR.union(stopwords_listAN)\n",
        "#stopwords_list[0:10]\n",
        "\n"
      ],
      "metadata": {
        "colab": {
          "base_uri": "https://localhost:8080/"
        },
        "id": "QbSFws6ZmBlO",
        "outputId": "4d7db79d-aca3-4878-f276-bd253eeba8cf"
      },
      "execution_count": null,
      "outputs": [
        {
          "output_type": "stream",
          "name": "stdout",
          "text": [
            "[nltk_data] Downloading package stopwords to /root/nltk_data...\n",
            "[nltk_data]   Package stopwords is already up-to-date!\n"
          ]
        }
      ]
    },
    {
      "cell_type": "code",
      "source": [
        "def clean_text(text):\n",
        "    text = text.lower()\n",
        "    text = re.sub('\\[.*?\\]', '', text)\n",
        "    text = re.sub('[%s]' % re.escape(string.punctuation), '', text)\n",
        "    text = re.sub('\\w*\\d\\w*', '', text)\n",
        "    text = re.sub('\\n', '', text)\n",
        "    text = text.replace('-', '')\n",
        "    text= unidecode.unidecode(text)\n",
        "    text = ' '.join(word for word in text.split() if word not in stopwords_list)\n",
        "    return text"
      ],
      "metadata": {
        "id": "t0SeLPtRsY_b"
      },
      "execution_count": null,
      "outputs": []
    },
    {
      "cell_type": "code",
      "source": [
        "df['spécialisations'] = df['spécialisations'].apply(clean_text)"
      ],
      "metadata": {
        "id": "lRyiO2MgsdSt"
      },
      "execution_count": null,
      "outputs": []
    },
    {
      "cell_type": "code",
      "source": [
        "df['spécialisations'] "
      ],
      "metadata": {
        "colab": {
          "base_uri": "https://localhost:8080/"
        },
        "id": "wXgXyuFoHmZw",
        "outputId": "0f3fd6c3-b832-406a-8a7e-e1d4de6b830c"
      },
      "execution_count": null,
      "outputs": [
        {
          "output_type": "execute_result",
          "data": {
            "text/plain": [
              "0                                    empty\n",
              "1                               consulting\n",
              "2                                 big data\n",
              "3                              development\n",
              "4                              development\n",
              "                      ...                 \n",
              "671                  management consulting\n",
              "672                    automotive industry\n",
              "673                                 design\n",
              "674    manufacture pharmaceutical products\n",
              "675                    collective catering\n",
              "Name: spécialisations, Length: 676, dtype: object"
            ]
          },
          "metadata": {},
          "execution_count": 17
        }
      ]
    },
    {
      "cell_type": "markdown",
      "source": [
        "# **Removing Punctuation**"
      ],
      "metadata": {
        "id": "hRmnsfh9IfhJ"
      }
    },
    {
      "cell_type": "code",
      "execution_count": null,
      "metadata": {
        "colab": {
          "base_uri": "https://localhost:8080/",
          "height": 36
        },
        "outputId": "a2c11790-15b0-422e-92fc-b634057e49b1",
        "id": "U5_mL-aNtA97"
      },
      "outputs": [
        {
          "output_type": "execute_result",
          "data": {
            "text/plain": [
              "'!\"#$%&\\'()*+,-./:;<=>?@[\\\\]^_`{|}~'"
            ],
            "application/vnd.google.colaboratory.intrinsic+json": {
              "type": "string"
            }
          },
          "metadata": {},
          "execution_count": 18
        }
      ],
      "source": [
        "import string\n",
        "string.punctuation"
      ]
    },
    {
      "cell_type": "markdown",
      "source": [
        ""
      ],
      "metadata": {
        "id": "CYHE5vfCIdXB"
      }
    },
    {
      "cell_type": "code",
      "source": [
        "#defining the function to remove punctuation\n",
        "def remove_punctuation(text):\n",
        "    punctuationfree=\"\".join([i for i in text if i not in string.punctuation])\n",
        "    return punctuationfree\n",
        "#storing the puntuation free text\n",
        "df['spécialisations'] = df['spécialisations'] .apply(lambda x:remove_punctuation(x))\n",
        "#lower casing\n",
        "df['spécialisations'] = df['spécialisations'] .apply(lambda x: x.lower())\n"
      ],
      "metadata": {
        "id": "17zcUd9ItNRR"
      },
      "execution_count": null,
      "outputs": []
    },
    {
      "cell_type": "code",
      "source": [
        "df['spécialisations'] "
      ],
      "metadata": {
        "colab": {
          "base_uri": "https://localhost:8080/"
        },
        "id": "fsOR4HlstraB",
        "outputId": "2c4845ab-3f4d-467f-a6d4-af936b9619f6"
      },
      "execution_count": null,
      "outputs": [
        {
          "output_type": "execute_result",
          "data": {
            "text/plain": [
              "0                                    empty\n",
              "1                               consulting\n",
              "2                                 big data\n",
              "3                              development\n",
              "4                              development\n",
              "                      ...                 \n",
              "671                  management consulting\n",
              "672                    automotive industry\n",
              "673                                 design\n",
              "674    manufacture pharmaceutical products\n",
              "675                    collective catering\n",
              "Name: spécialisations, Length: 676, dtype: object"
            ]
          },
          "metadata": {},
          "execution_count": 20
        }
      ]
    },
    {
      "cell_type": "markdown",
      "source": [
        "# **Tokenization**"
      ],
      "metadata": {
        "id": "z1LVfMjGIleB"
      }
    },
    {
      "cell_type": "code",
      "source": [
        "from keras.preprocessing.text import Tokenizer\n",
        "from nltk import word_tokenize\n",
        "import nltk\n",
        "nltk.download('punkt')\n",
        "df['spécialisations'] = df['spécialisations'] .apply(lambda x: nltk.tokenize.word_tokenize(x))\n"
      ],
      "metadata": {
        "colab": {
          "base_uri": "https://localhost:8080/"
        },
        "id": "wSFkj7fJ6CVD",
        "outputId": "cc7379a8-7537-4b98-c436-068fa5ae54b9"
      },
      "execution_count": null,
      "outputs": [
        {
          "output_type": "stream",
          "name": "stdout",
          "text": [
            "[nltk_data] Downloading package punkt to /root/nltk_data...\n",
            "[nltk_data]   Package punkt is already up-to-date!\n"
          ]
        }
      ]
    },
    {
      "cell_type": "code",
      "source": [
        "df['spécialisations'] "
      ],
      "metadata": {
        "colab": {
          "base_uri": "https://localhost:8080/"
        },
        "id": "lCOxqAVuMgSu",
        "outputId": "4aa6dafa-6fa1-404a-df1f-0305448fd162"
      },
      "execution_count": null,
      "outputs": [
        {
          "output_type": "execute_result",
          "data": {
            "text/plain": [
              "0      [empty]         \n",
              "1      [empty]         \n",
              "2      [big, data]     \n",
              "3      [empty]         \n",
              "4      [development]   \n",
              "           ...         \n",
              "673    [marketing]     \n",
              "674    [entertainment] \n",
              "675    [business]      \n",
              "676    [pharmaceutical]\n",
              "677    [food, beverage]\n",
              "Name: spécialisations, Length: 678, dtype: object"
            ]
          },
          "metadata": {},
          "execution_count": 182
        }
      ]
    },
    {
      "cell_type": "markdown",
      "source": [
        "# Tokenization n'a pas donnée un bon résultat, on la juste tester"
      ],
      "metadata": {
        "id": "1Qi2MJRQInSB"
      }
    },
    {
      "cell_type": "markdown",
      "source": [
        "# **Stemming and lemmatization**"
      ],
      "metadata": {
        "id": "AFLbsdQ9JO5I"
      }
    },
    {
      "cell_type": "code",
      "source": [
        "from nltk.stem import WordNetLemmatizer\n",
        "#defining the object for Lemmatization\n",
        "wordnet_lemmatizer = WordNetLemmatizer()\n",
        "#defining the function for lemmatization\n",
        "def lemmatizer(text):\n",
        "    lemm_text = [wordnet_lemmatizer.lemmatize(word) for word in text]\n",
        "    return lemm_text\n",
        "df['spécialisations'] =df['spécialisations'] .apply(lambda x:lemmatizer(x))"
      ],
      "metadata": {
        "id": "Pm7hvLC_9XZI"
      },
      "execution_count": null,
      "outputs": []
    },
    {
      "cell_type": "code",
      "source": [
        "#expanding the display\n",
        "pd.set_option('display.max_colwidth', -1)\n",
        "#using only description column\n",
        "df= df ['spécialisations']\n",
        "df.head()"
      ],
      "metadata": {
        "id": "etd_6S8l9bXB"
      },
      "execution_count": null,
      "outputs": []
    },
    {
      "cell_type": "code",
      "source": [
        "df['spécialisations']"
      ],
      "metadata": {
        "colab": {
          "base_uri": "https://localhost:8080/"
        },
        "id": "Lepvj1VZI2u5",
        "outputId": "a563143d-8bdb-460c-b048-a5b174374bd6"
      },
      "execution_count": null,
      "outputs": [
        {
          "output_type": "execute_result",
          "data": {
            "text/plain": [
              "0      empty         \n",
              "1      empty         \n",
              "2      big data      \n",
              "3      empty         \n",
              "4      development   \n",
              "          ...        \n",
              "673    marketing     \n",
              "674    entertainment \n",
              "675    business      \n",
              "676    pharmaceutical\n",
              "677    food beverage \n",
              "Name: spécialisations, Length: 678, dtype: object"
            ]
          },
          "metadata": {},
          "execution_count": 203
        }
      ]
    },
    {
      "cell_type": "markdown",
      "source": [
        "# Stemming et lemmatization n'ont pas données des bon résultats."
      ],
      "metadata": {
        "id": "J759b8XUJt9A"
      }
    },
    {
      "cell_type": "markdown",
      "source": [
        "# Extraire du Datasets les entreprises qui peuvent avoir les memes projets que l'entreprise recommandé au profil."
      ],
      "metadata": {
        "id": "sGSnkhg5SJd7"
      }
    },
    {
      "cell_type": "code",
      "source": [
        "#a_string = \"https://www.linkedin.com/company/it-tecos/\"\n",
        "a_string = df['relatedCompanies3'][1]\n",
        "#a_string\n",
        "split_string = a_string.split(\"https://www.linkedin.com/company/\", 1)\n",
        "\n",
        "substring = split_string[1]\n",
        "print(substring)"
      ],
      "metadata": {
        "colab": {
          "base_uri": "https://localhost:8080/"
        },
        "id": "O1C8OZm1LS8J",
        "outputId": "7e7a14e9-6b2e-42c1-972a-fd6facb5d109"
      },
      "execution_count": null,
      "outputs": [
        {
          "output_type": "stream",
          "name": "stdout",
          "text": [
            "tobbabykeeplyna/\n"
          ]
        }
      ]
    },
    {
      "cell_type": "code",
      "source": [
        "def split_string(ch) :\n",
        "  split_string = ch.split(\"https://www.linkedin.com/company/\",1)\n",
        "  substring = split_string[1]\n",
        "  return substring"
      ],
      "metadata": {
        "id": "FBk_EMtdI5GU"
      },
      "execution_count": null,
      "outputs": []
    },
    {
      "cell_type": "code",
      "source": [
        "df['relatedCompanies2']"
      ],
      "metadata": {
        "colab": {
          "base_uri": "https://localhost:8080/"
        },
        "id": "embf1kR7Thtq",
        "outputId": "4f231ac6-ba41-4405-f70b-b1c7862985f9"
      },
      "execution_count": null,
      "outputs": [
        {
          "output_type": "execute_result",
          "data": {
            "text/plain": [
              "0      vide                                            \n",
              "1      https://www.linkedin.com/company/itserv-company/\n",
              "2      vide                                            \n",
              "3      https://www.linkedin.com/company/xper-media/    \n",
              "4      vide                                            \n",
              "       ...                                             \n",
              "671    vide                                            \n",
              "672    vide                                            \n",
              "673    vide                                            \n",
              "674    vide                                            \n",
              "675    vide                                            \n",
              "Name: relatedCompanies2, Length: 676, dtype: object"
            ]
          },
          "metadata": {},
          "execution_count": 35
        }
      ]
    },
    {
      "cell_type": "code",
      "source": [
        "desc=df['relatedCompanies2']\n",
        "caract='https://www.linkedin.com/company/'\n",
        "sum=0\n",
        "for i in desc :\n",
        "  if caract in i :\n",
        "    sum=sum+1\n",
        "\n",
        "sum  #193/250"
      ],
      "metadata": {
        "colab": {
          "base_uri": "https://localhost:8080/"
        },
        "id": "uToGTD02IF0-",
        "outputId": "5fe1621d-35fe-42a0-c5e7-6cab6fe73a8b"
      },
      "execution_count": null,
      "outputs": [
        {
          "output_type": "execute_result",
          "data": {
            "text/plain": [
              "9"
            ]
          },
          "metadata": {},
          "execution_count": 36
        }
      ]
    },
    {
      "cell_type": "code",
      "source": [
        "desc=df['relatedCompanies3']\n",
        "caract='https://www.linkedin.com/company/'\n",
        "sum=0\n",
        "for i in desc :\n",
        "  if caract in i :\n",
        "    sum=sum+1\n",
        "\n",
        "sum  #193/250"
      ],
      "metadata": {
        "colab": {
          "base_uri": "https://localhost:8080/"
        },
        "id": "-gE7siRwLEFc",
        "outputId": "3a10b6ed-79ff-4d4e-ce1e-01694cebf527"
      },
      "execution_count": null,
      "outputs": [
        {
          "output_type": "execute_result",
          "data": {
            "text/plain": [
              "9"
            ]
          },
          "metadata": {},
          "execution_count": 45
        }
      ]
    },
    {
      "cell_type": "code",
      "source": [
        "desc=df['relatedCompanies4']\n",
        "caract='https://www.linkedin.com/company/'\n",
        "sum=0\n",
        "for i in desc :\n",
        "  if caract in i :\n",
        "    sum=sum+1\n",
        "\n",
        "sum  #193/250"
      ],
      "metadata": {
        "colab": {
          "base_uri": "https://localhost:8080/"
        },
        "id": "hgS8719LLETh",
        "outputId": "69e3a8dd-4d0e-4828-fc18-ab8c6f9e1966"
      },
      "execution_count": null,
      "outputs": [
        {
          "output_type": "execute_result",
          "data": {
            "text/plain": [
              "9"
            ]
          },
          "metadata": {},
          "execution_count": 46
        }
      ]
    },
    {
      "cell_type": "code",
      "source": [
        "desc=df['relatedCompanies5']\n",
        "caract='https://www.linkedin.com/company/'\n",
        "sum=0\n",
        "for i in desc :\n",
        "  if caract in i :\n",
        "    sum=sum+1\n",
        "\n",
        "sum  #193/250"
      ],
      "metadata": {
        "colab": {
          "base_uri": "https://localhost:8080/"
        },
        "id": "7ZDpNVJ5LEby",
        "outputId": "9f77520c-77e2-4153-9cf6-abcdcd95f919"
      },
      "execution_count": null,
      "outputs": [
        {
          "output_type": "execute_result",
          "data": {
            "text/plain": [
              "9"
            ]
          },
          "metadata": {},
          "execution_count": 47
        }
      ]
    },
    {
      "cell_type": "code",
      "source": [
        "desc=df['relatedCompanies6']\n",
        "caract='https://www.linkedin.com/company/'\n",
        "sum=0\n",
        "for i in desc :\n",
        "  if caract in i :\n",
        "    sum=sum+1\n",
        "\n",
        "sum  #193/250"
      ],
      "metadata": {
        "colab": {
          "base_uri": "https://localhost:8080/"
        },
        "id": "Oh-PsFq9LEjJ",
        "outputId": "3410fb3e-3212-4ed5-bd81-0de022026945"
      },
      "execution_count": null,
      "outputs": [
        {
          "output_type": "execute_result",
          "data": {
            "text/plain": [
              "9"
            ]
          },
          "metadata": {},
          "execution_count": 48
        }
      ]
    },
    {
      "cell_type": "code",
      "source": [
        "desc=df['relatedCompanies7']\n",
        "caract='https://www.linkedin.com/company/'\n",
        "sum=0\n",
        "for i in desc :\n",
        "  if caract in i :\n",
        "    sum=sum+1\n",
        "\n",
        "sum  #193/250"
      ],
      "metadata": {
        "colab": {
          "base_uri": "https://localhost:8080/"
        },
        "id": "BmdLWE2ELEpr",
        "outputId": "b56ae6da-b9eb-4516-e7b0-0700c9defbee"
      },
      "execution_count": null,
      "outputs": [
        {
          "output_type": "execute_result",
          "data": {
            "text/plain": [
              "9"
            ]
          },
          "metadata": {},
          "execution_count": 49
        }
      ]
    },
    {
      "cell_type": "code",
      "source": [
        "desc=df['relatedCompanies8']\n",
        "caract='https://www.linkedin.com/company/'\n",
        "sum=0\n",
        "for i in desc :\n",
        "  if caract in i :\n",
        "    sum=sum+1\n",
        "\n",
        "sum  #193/250"
      ],
      "metadata": {
        "colab": {
          "base_uri": "https://localhost:8080/"
        },
        "id": "JwxSP1J0LEup",
        "outputId": "7d86033a-c254-4f64-b950-21eb405272bb"
      },
      "execution_count": null,
      "outputs": [
        {
          "output_type": "execute_result",
          "data": {
            "text/plain": [
              "9"
            ]
          },
          "metadata": {},
          "execution_count": 50
        }
      ]
    },
    {
      "cell_type": "code",
      "source": [
        "for i in desc :\n",
        "  if i.find(caract) == -1:\n",
        "    print(i)"
      ],
      "metadata": {
        "colab": {
          "base_uri": "https://localhost:8080/"
        },
        "id": "dwaBHHSNIRxK",
        "outputId": "502065f3-0835-4b9d-c415-92519f7d4224"
      },
      "execution_count": null,
      "outputs": [
        {
          "output_type": "stream",
          "name": "stdout",
          "text": [
            "vide\n",
            "vide\n",
            "vide\n",
            "vide\n",
            "vide\n",
            "vide\n",
            "vide\n",
            "vide\n",
            "vide\n",
            "vide\n",
            "vide\n",
            "vide\n",
            "vide\n",
            "vide\n",
            "vide\n",
            "vide\n",
            "vide\n",
            "vide\n",
            "vide\n",
            "vide\n",
            "vide\n",
            "vide\n",
            "vide\n",
            "vide\n",
            "vide\n",
            "vide\n",
            "vide\n",
            "vide\n",
            "vide\n",
            "vide\n",
            "vide\n",
            "vide\n",
            "vide\n",
            "vide\n",
            "vide\n",
            "vide\n",
            "vide\n",
            "vide\n",
            "vide\n",
            "vide\n",
            "vide\n",
            "vide\n",
            "vide\n",
            "vide\n",
            "vide\n",
            "vide\n",
            "vide\n",
            "vide\n",
            "vide\n",
            "vide\n",
            "vide\n",
            "vide\n",
            "vide\n",
            "vide\n",
            "vide\n",
            "vide\n",
            "vide\n",
            "vide\n",
            "vide\n",
            "vide\n",
            "vide\n",
            "vide\n",
            "vide\n",
            "vide\n",
            "vide\n",
            "vide\n",
            "vide\n",
            "vide\n",
            "vide\n",
            "vide\n",
            "vide\n",
            "vide\n",
            "vide\n",
            "vide\n",
            "vide\n",
            "vide\n",
            "vide\n",
            "vide\n",
            "vide\n",
            "vide\n",
            "vide\n",
            "vide\n",
            "vide\n",
            "vide\n",
            "vide\n",
            "vide\n",
            "vide\n",
            "vide\n",
            "vide\n",
            "vide\n",
            "vide\n",
            "vide\n",
            "vide\n",
            "vide\n",
            "vide\n",
            "vide\n",
            "vide\n",
            "vide\n",
            "vide\n",
            "vide\n",
            "vide\n",
            "vide\n",
            "vide\n",
            "vide\n",
            "vide\n",
            "vide\n",
            "vide\n",
            "vide\n",
            "vide\n",
            "vide\n",
            "vide\n",
            "vide\n",
            "vide\n",
            "vide\n",
            "vide\n",
            "vide\n",
            "vide\n",
            "vide\n",
            "vide\n",
            "vide\n",
            "vide\n",
            "vide\n",
            "vide\n",
            "vide\n",
            "vide\n",
            "vide\n",
            "vide\n",
            "vide\n",
            "vide\n",
            "vide\n",
            "vide\n",
            "vide\n",
            "vide\n",
            "vide\n",
            "vide\n",
            "vide\n",
            "vide\n",
            "vide\n",
            "vide\n",
            "vide\n",
            "vide\n",
            "vide\n",
            "vide\n",
            "vide\n",
            "vide\n",
            "vide\n",
            "vide\n",
            "vide\n",
            "vide\n",
            "vide\n",
            "vide\n",
            "vide\n",
            "vide\n",
            "vide\n",
            "vide\n",
            "vide\n",
            "vide\n",
            "vide\n",
            "vide\n",
            "vide\n",
            "vide\n",
            "vide\n",
            "vide\n",
            "vide\n",
            "vide\n",
            "vide\n",
            "vide\n",
            "vide\n",
            "vide\n",
            "vide\n",
            "vide\n",
            "vide\n",
            "vide\n",
            "vide\n",
            "vide\n",
            "vide\n",
            "vide\n",
            "vide\n",
            "vide\n",
            "vide\n",
            "vide\n",
            "vide\n",
            "vide\n",
            "vide\n",
            "vide\n",
            "vide\n",
            "vide\n",
            "vide\n",
            "vide\n",
            "vide\n",
            "vide\n",
            "vide\n",
            "vide\n",
            "vide\n",
            "vide\n",
            "vide\n",
            "vide\n",
            "vide\n",
            "vide\n",
            "vide\n",
            "vide\n",
            "vide\n",
            "vide\n",
            "vide\n",
            "vide\n",
            "vide\n",
            "vide\n",
            "vide\n",
            "vide\n",
            "vide\n",
            "vide\n",
            "vide\n",
            "vide\n",
            "vide\n",
            "vide\n",
            "vide\n",
            "vide\n",
            "vide\n",
            "vide\n",
            "vide\n",
            "vide\n",
            "vide\n",
            "vide\n",
            "vide\n",
            "vide\n",
            "vide\n",
            "vide\n",
            "vide\n",
            "vide\n",
            "vide\n",
            "vide\n",
            "vide\n",
            "vide\n",
            "vide\n",
            "vide\n",
            "vide\n",
            "vide\n",
            "vide\n",
            "vide\n",
            "vide\n",
            "vide\n",
            "vide\n",
            "vide\n",
            "vide\n",
            "vide\n",
            "vide\n",
            "vide\n",
            "vide\n",
            "vide\n",
            "vide\n",
            "vide\n",
            "vide\n",
            "vide\n",
            "vide\n",
            "vide\n",
            "vide\n",
            "vide\n",
            "vide\n",
            "vide\n",
            "vide\n",
            "vide\n",
            "vide\n",
            "vide\n",
            "vide\n",
            "vide\n",
            "vide\n",
            "vide\n",
            "vide\n",
            "vide\n",
            "vide\n",
            "vide\n",
            "vide\n",
            "vide\n",
            "vide\n",
            "vide\n",
            "vide\n",
            "vide\n",
            "vide\n",
            "vide\n",
            "vide\n",
            "vide\n",
            "vide\n",
            "vide\n",
            "vide\n",
            "vide\n",
            "vide\n",
            "vide\n",
            "vide\n",
            "vide\n",
            "vide\n",
            "vide\n",
            "vide\n",
            "vide\n",
            "vide\n",
            "vide\n",
            "vide\n",
            "vide\n",
            "vide\n",
            "vide\n",
            "vide\n",
            "vide\n",
            "vide\n",
            "vide\n",
            "vide\n",
            "vide\n",
            "vide\n",
            "vide\n",
            "vide\n",
            "vide\n",
            "vide\n",
            "vide\n",
            "vide\n",
            "vide\n",
            "vide\n",
            "vide\n",
            "vide\n",
            "vide\n",
            "vide\n",
            "vide\n",
            "vide\n",
            "vide\n",
            "vide\n",
            "vide\n",
            "vide\n",
            "vide\n",
            "vide\n",
            "vide\n",
            "vide\n",
            "vide\n",
            "vide\n",
            "vide\n",
            "vide\n",
            "vide\n",
            "vide\n",
            "vide\n",
            "vide\n",
            "vide\n",
            "vide\n",
            "vide\n",
            "vide\n",
            "vide\n",
            "vide\n",
            "vide\n",
            "vide\n",
            "vide\n",
            "vide\n",
            "vide\n",
            "vide\n",
            "vide\n",
            "vide\n",
            "vide\n",
            "vide\n",
            "vide\n",
            "vide\n",
            "vide\n",
            "vide\n",
            "vide\n",
            "vide\n",
            "vide\n",
            "vide\n",
            "vide\n",
            "vide\n",
            "vide\n",
            "vide\n",
            "vide\n",
            "vide\n",
            "vide\n",
            "vide\n",
            "vide\n",
            "vide\n",
            "vide\n",
            "vide\n",
            "vide\n",
            "vide\n",
            "vide\n",
            "vide\n",
            "vide\n",
            "vide\n",
            "vide\n",
            "vide\n",
            "vide\n",
            "vide\n",
            "vide\n",
            "vide\n",
            "vide\n",
            "vide\n",
            "vide\n",
            "vide\n",
            "vide\n",
            "vide\n",
            "vide\n",
            "vide\n",
            "vide\n",
            "vide\n",
            "vide\n",
            "vide\n",
            "vide\n",
            "vide\n",
            "vide\n",
            "vide\n",
            "vide\n",
            "vide\n",
            "vide\n",
            "vide\n",
            "vide\n",
            "vide\n",
            "vide\n",
            "vide\n",
            "vide\n",
            "vide\n",
            "vide\n",
            "vide\n",
            "vide\n",
            "vide\n",
            "vide\n",
            "vide\n",
            "vide\n",
            "vide\n",
            "vide\n",
            "vide\n",
            "vide\n",
            "vide\n",
            "vide\n",
            "vide\n",
            "vide\n",
            "vide\n",
            "vide\n",
            "vide\n",
            "vide\n",
            "vide\n",
            "vide\n",
            "vide\n",
            "vide\n",
            "vide\n",
            "vide\n",
            "vide\n",
            "vide\n",
            "vide\n",
            "vide\n",
            "vide\n",
            "vide\n",
            "vide\n",
            "vide\n",
            "vide\n",
            "vide\n",
            "vide\n",
            "vide\n",
            "vide\n",
            "vide\n",
            "vide\n",
            "vide\n",
            "vide\n",
            "vide\n",
            "vide\n",
            "vide\n",
            "vide\n",
            "vide\n",
            "vide\n",
            "vide\n",
            "vide\n",
            "vide\n",
            "vide\n",
            "vide\n",
            "vide\n",
            "vide\n",
            "vide\n",
            "vide\n",
            "vide\n",
            "vide\n",
            "vide\n",
            "vide\n",
            "vide\n",
            "vide\n",
            "vide\n",
            "vide\n",
            "vide\n",
            "vide\n",
            "vide\n",
            "vide\n",
            "vide\n",
            "vide\n",
            "vide\n",
            "vide\n",
            "vide\n",
            "vide\n",
            "vide\n",
            "vide\n",
            "vide\n",
            "vide\n",
            "vide\n",
            "vide\n",
            "vide\n",
            "vide\n",
            "vide\n",
            "vide\n",
            "vide\n",
            "vide\n",
            "vide\n",
            "vide\n",
            "vide\n",
            "vide\n",
            "vide\n",
            "vide\n",
            "vide\n",
            "vide\n",
            "vide\n",
            "vide\n",
            "vide\n",
            "vide\n",
            "vide\n",
            "vide\n",
            "vide\n",
            "vide\n",
            "vide\n",
            "vide\n",
            "vide\n",
            "vide\n",
            "vide\n",
            "vide\n",
            "vide\n",
            "vide\n",
            "vide\n",
            "vide\n",
            "vide\n",
            "vide\n",
            "vide\n",
            "vide\n",
            "vide\n",
            "vide\n",
            "vide\n",
            "vide\n",
            "vide\n",
            "vide\n",
            "vide\n",
            "vide\n",
            "vide\n",
            "vide\n",
            "vide\n",
            "vide\n",
            "vide\n",
            "vide\n",
            "vide\n",
            "vide\n",
            "vide\n",
            "vide\n",
            "vide\n",
            "vide\n",
            "vide\n",
            "vide\n",
            "vide\n",
            "vide\n",
            "vide\n",
            "vide\n",
            "vide\n",
            "vide\n",
            "vide\n",
            "vide\n",
            "vide\n",
            "vide\n",
            "vide\n",
            "vide\n",
            "vide\n",
            "vide\n",
            "vide\n",
            "vide\n",
            "vide\n",
            "vide\n",
            "vide\n",
            "vide\n",
            "vide\n",
            "vide\n",
            "vide\n",
            "vide\n",
            "vide\n",
            "vide\n",
            "vide\n",
            "vide\n",
            "vide\n",
            "vide\n",
            "vide\n",
            "vide\n",
            "vide\n",
            "vide\n",
            "vide\n",
            "vide\n",
            "vide\n",
            "vide\n",
            "vide\n",
            "vide\n",
            "vide\n",
            "vide\n",
            "vide\n",
            "vide\n",
            "vide\n",
            "vide\n",
            "vide\n",
            "vide\n",
            "vide\n",
            "vide\n",
            "vide\n",
            "vide\n",
            "vide\n",
            "vide\n",
            "vide\n",
            "vide\n",
            "vide\n",
            "vide\n",
            "vide\n",
            "vide\n",
            "vide\n",
            "vide\n",
            "vide\n",
            "vide\n",
            "vide\n",
            "vide\n",
            "vide\n",
            "vide\n",
            "vide\n",
            "vide\n",
            "vide\n",
            "vide\n",
            "vide\n",
            "vide\n",
            "vide\n",
            "vide\n",
            "vide\n",
            "vide\n",
            "vide\n",
            "vide\n",
            "vide\n",
            "vide\n",
            "vide\n",
            "vide\n",
            "vide\n",
            "vide\n",
            "vide\n",
            "vide\n",
            "vide\n",
            "vide\n",
            "vide\n",
            "vide\n",
            "vide\n",
            "vide\n",
            "vide\n",
            "vide\n",
            "vide\n",
            "vide\n",
            "vide\n",
            "vide\n",
            "vide\n",
            "vide\n",
            "vide\n",
            "vide\n",
            "vide\n",
            "vide\n",
            "vide\n",
            "vide\n",
            "vide\n",
            "vide\n",
            "vide\n",
            "vide\n",
            "vide\n",
            "vide\n",
            "vide\n",
            "vide\n",
            "vide\n",
            "vide\n"
          ]
        }
      ]
    },
    {
      "cell_type": "code",
      "source": [
        "def traitement(desc) :\n",
        "  caract='https://www.linkedin.com/company/'\n",
        "  if caract in desc :\n",
        "    return split_string(desc)\n",
        "  else :\n",
        "    return 'vide'\n"
      ],
      "metadata": {
        "id": "ROiMas5jIntU"
      },
      "execution_count": null,
      "outputs": []
    },
    {
      "cell_type": "code",
      "source": [
        "x=traitement('https://www.linkedin.com/company/it-serv/')\n",
        "print(x)"
      ],
      "metadata": {
        "colab": {
          "base_uri": "https://localhost:8080/"
        },
        "id": "McpM_AJ5IvB6",
        "outputId": "2d2b8eca-47c4-4de5-8dae-4cb97bbc6edb"
      },
      "execution_count": null,
      "outputs": [
        {
          "output_type": "stream",
          "name": "stdout",
          "text": [
            "it-serv/\n"
          ]
        }
      ]
    },
    {
      "cell_type": "code",
      "source": [
        "df['relatedCompanies1']=df['relatedCompanies1'].apply(lambda x: traitement(x))\n",
        "df['relatedCompanies2']=df['relatedCompanies2'].apply(lambda x: traitement(x))\n",
        "df['relatedCompanies3']=df['relatedCompanies3'].apply(lambda x: traitement(x))\n",
        "df['relatedCompanies4']=df['relatedCompanies4'].apply(lambda x: traitement(x))\n",
        "df['relatedCompanies5']=df['relatedCompanies5'].apply(lambda x: traitement(x))\n",
        "df['relatedCompanies6']=df['relatedCompanies6'].apply(lambda x: traitement(x))\n",
        "df['relatedCompanies7']=df['relatedCompanies7'].apply(lambda x: traitement(x))\n",
        "df['relatedCompanies8']=df['relatedCompanies8'].apply(lambda x: traitement(x))\n",
        "df['relatedCompanies9']=df['relatedCompanies9'].apply(lambda x: traitement(x))\n",
        "df['relatedCompanies10']=df['relatedCompanies10'].apply(lambda x: traitement(x))"
      ],
      "metadata": {
        "id": "DgsdTWpMJG4D"
      },
      "execution_count": null,
      "outputs": []
    },
    {
      "cell_type": "code",
      "source": [
        "#expanding the display\n",
        "pd.set_option('display.max_colwidth', -1)\n",
        "#using only description column\n",
        "df1= df [['relatedCompanies4']]\n",
        "df1"
      ],
      "metadata": {
        "colab": {
          "base_uri": "https://localhost:8080/",
          "height": 480
        },
        "id": "lCni2-h2JNdh",
        "outputId": "1b073518-0d27-40a3-b96e-912e48f3efcd"
      },
      "execution_count": null,
      "outputs": [
        {
          "output_type": "stream",
          "name": "stderr",
          "text": [
            "/usr/local/lib/python3.7/dist-packages/ipykernel_launcher.py:2: FutureWarning: Passing a negative integer is deprecated in version 1.0 and will not be supported in future version. Instead, use None to not limit the column width.\n",
            "  \n"
          ]
        },
        {
          "output_type": "execute_result",
          "data": {
            "text/plain": [
              "    relatedCompanies4\n",
              "0    vide            \n",
              "1    inetumtunisie/  \n",
              "2    vide            \n",
              "3    piximind/       \n",
              "4    vide            \n",
              "..    ...            \n",
              "671  vide            \n",
              "672  vide            \n",
              "673  vide            \n",
              "674  vide            \n",
              "675  vide            \n",
              "\n",
              "[676 rows x 1 columns]"
            ],
            "text/html": [
              "\n",
              "  <div id=\"df-180179a7-beb3-41b8-b267-beb056defa95\">\n",
              "    <div class=\"colab-df-container\">\n",
              "      <div>\n",
              "<style scoped>\n",
              "    .dataframe tbody tr th:only-of-type {\n",
              "        vertical-align: middle;\n",
              "    }\n",
              "\n",
              "    .dataframe tbody tr th {\n",
              "        vertical-align: top;\n",
              "    }\n",
              "\n",
              "    .dataframe thead th {\n",
              "        text-align: right;\n",
              "    }\n",
              "</style>\n",
              "<table border=\"1\" class=\"dataframe\">\n",
              "  <thead>\n",
              "    <tr style=\"text-align: right;\">\n",
              "      <th></th>\n",
              "      <th>relatedCompanies4</th>\n",
              "    </tr>\n",
              "  </thead>\n",
              "  <tbody>\n",
              "    <tr>\n",
              "      <th>0</th>\n",
              "      <td>vide</td>\n",
              "    </tr>\n",
              "    <tr>\n",
              "      <th>1</th>\n",
              "      <td>inetumtunisie/</td>\n",
              "    </tr>\n",
              "    <tr>\n",
              "      <th>2</th>\n",
              "      <td>vide</td>\n",
              "    </tr>\n",
              "    <tr>\n",
              "      <th>3</th>\n",
              "      <td>piximind/</td>\n",
              "    </tr>\n",
              "    <tr>\n",
              "      <th>4</th>\n",
              "      <td>vide</td>\n",
              "    </tr>\n",
              "    <tr>\n",
              "      <th>...</th>\n",
              "      <td>...</td>\n",
              "    </tr>\n",
              "    <tr>\n",
              "      <th>671</th>\n",
              "      <td>vide</td>\n",
              "    </tr>\n",
              "    <tr>\n",
              "      <th>672</th>\n",
              "      <td>vide</td>\n",
              "    </tr>\n",
              "    <tr>\n",
              "      <th>673</th>\n",
              "      <td>vide</td>\n",
              "    </tr>\n",
              "    <tr>\n",
              "      <th>674</th>\n",
              "      <td>vide</td>\n",
              "    </tr>\n",
              "    <tr>\n",
              "      <th>675</th>\n",
              "      <td>vide</td>\n",
              "    </tr>\n",
              "  </tbody>\n",
              "</table>\n",
              "<p>676 rows × 1 columns</p>\n",
              "</div>\n",
              "      <button class=\"colab-df-convert\" onclick=\"convertToInteractive('df-180179a7-beb3-41b8-b267-beb056defa95')\"\n",
              "              title=\"Convert this dataframe to an interactive table.\"\n",
              "              style=\"display:none;\">\n",
              "        \n",
              "  <svg xmlns=\"http://www.w3.org/2000/svg\" height=\"24px\"viewBox=\"0 0 24 24\"\n",
              "       width=\"24px\">\n",
              "    <path d=\"M0 0h24v24H0V0z\" fill=\"none\"/>\n",
              "    <path d=\"M18.56 5.44l.94 2.06.94-2.06 2.06-.94-2.06-.94-.94-2.06-.94 2.06-2.06.94zm-11 1L8.5 8.5l.94-2.06 2.06-.94-2.06-.94L8.5 2.5l-.94 2.06-2.06.94zm10 10l.94 2.06.94-2.06 2.06-.94-2.06-.94-.94-2.06-.94 2.06-2.06.94z\"/><path d=\"M17.41 7.96l-1.37-1.37c-.4-.4-.92-.59-1.43-.59-.52 0-1.04.2-1.43.59L10.3 9.45l-7.72 7.72c-.78.78-.78 2.05 0 2.83L4 21.41c.39.39.9.59 1.41.59.51 0 1.02-.2 1.41-.59l7.78-7.78 2.81-2.81c.8-.78.8-2.07 0-2.86zM5.41 20L4 18.59l7.72-7.72 1.47 1.35L5.41 20z\"/>\n",
              "  </svg>\n",
              "      </button>\n",
              "      \n",
              "  <style>\n",
              "    .colab-df-container {\n",
              "      display:flex;\n",
              "      flex-wrap:wrap;\n",
              "      gap: 12px;\n",
              "    }\n",
              "\n",
              "    .colab-df-convert {\n",
              "      background-color: #E8F0FE;\n",
              "      border: none;\n",
              "      border-radius: 50%;\n",
              "      cursor: pointer;\n",
              "      display: none;\n",
              "      fill: #1967D2;\n",
              "      height: 32px;\n",
              "      padding: 0 0 0 0;\n",
              "      width: 32px;\n",
              "    }\n",
              "\n",
              "    .colab-df-convert:hover {\n",
              "      background-color: #E2EBFA;\n",
              "      box-shadow: 0px 1px 2px rgba(60, 64, 67, 0.3), 0px 1px 3px 1px rgba(60, 64, 67, 0.15);\n",
              "      fill: #174EA6;\n",
              "    }\n",
              "\n",
              "    [theme=dark] .colab-df-convert {\n",
              "      background-color: #3B4455;\n",
              "      fill: #D2E3FC;\n",
              "    }\n",
              "\n",
              "    [theme=dark] .colab-df-convert:hover {\n",
              "      background-color: #434B5C;\n",
              "      box-shadow: 0px 1px 3px 1px rgba(0, 0, 0, 0.15);\n",
              "      filter: drop-shadow(0px 1px 2px rgba(0, 0, 0, 0.3));\n",
              "      fill: #FFFFFF;\n",
              "    }\n",
              "  </style>\n",
              "\n",
              "      <script>\n",
              "        const buttonEl =\n",
              "          document.querySelector('#df-180179a7-beb3-41b8-b267-beb056defa95 button.colab-df-convert');\n",
              "        buttonEl.style.display =\n",
              "          google.colab.kernel.accessAllowed ? 'block' : 'none';\n",
              "\n",
              "        async function convertToInteractive(key) {\n",
              "          const element = document.querySelector('#df-180179a7-beb3-41b8-b267-beb056defa95');\n",
              "          const dataTable =\n",
              "            await google.colab.kernel.invokeFunction('convertToInteractive',\n",
              "                                                     [key], {});\n",
              "          if (!dataTable) return;\n",
              "\n",
              "          const docLinkHtml = 'Like what you see? Visit the ' +\n",
              "            '<a target=\"_blank\" href=https://colab.research.google.com/notebooks/data_table.ipynb>data table notebook</a>'\n",
              "            + ' to learn more about interactive tables.';\n",
              "          element.innerHTML = '';\n",
              "          dataTable['output_type'] = 'display_data';\n",
              "          await google.colab.output.renderOutput(dataTable, element);\n",
              "          const docLink = document.createElement('div');\n",
              "          docLink.innerHTML = docLinkHtml;\n",
              "          element.appendChild(docLink);\n",
              "        }\n",
              "      </script>\n",
              "    </div>\n",
              "  </div>\n",
              "  "
            ]
          },
          "metadata": {},
          "execution_count": 56
        }
      ]
    },
    {
      "cell_type": "code",
      "source": [
        "df.head()"
      ],
      "metadata": {
        "colab": {
          "base_uri": "https://localhost:8080/",
          "height": 1000
        },
        "id": "7PiYK9mzJht9",
        "outputId": "7e6336ad-b7b6-4e91-e2c4-0dc86f5b3b7b"
      },
      "execution_count": null,
      "outputs": [
        {
          "output_type": "execute_result",
          "data": {
            "text/plain": [
              "                  timestamp                              name  \\\n",
              "0  2022-02-14T19:01:59.750Z  vide                               \n",
              "1  2022-02-14T19:02:02.959Z  IT SERV Company                    \n",
              "2  2022-02-14T19:02:09.174Z  DevItCo - the Develop It Company   \n",
              "3  2022-02-14T19:02:15.974Z  IT Skills Company                  \n",
              "4  2022-02-14T19:02:21.859Z  KODREVO - IT Development Company   \n",
              "\n",
              "                                                                                                                                                                                                                                                                                                                                                                                                                                                                                                                                                                                                                                                                                                                                                                                                                                                                                                                                                                                 description  \\\n",
              "0  vide                                                                                                                                                                                                                                                                                                                                                                                                                                                                                                                                                                                                                                                                                                                                                                                                                                                                                                                                                                                        \n",
              "1  IT SERV est une société de conseil et de services en TIC, qui depuis sa création en 2008 articule ses prestations autour de quatre offres :\\nConsulting IT\\nIntégration & Développement\\nExpertise Télécoms\\nNearshore Outsourcing, \\nAfin d'aider ses Clients à profiter pleinement des technologies nouvelles, à maximiser l’efficacité et l’efficience de leur organisation et à optimiser leurs processus.                                                                                                                                                                                                                                                                                                                                                                                                                                                                                                                                                                              \n",
              "2  We do digital transformation for retail brands!\\n\\nA DevItCo, nous sommes passionnés par la transformation digital et l'expérience client dans vos boutiques et en dehors. Notre objectif: apporter les outils et l'accompagnement nécessaires aux acteurs retail pour mener à bien leur transformation digitale et offrir à leurs clients une expérience unique, cohérente et totalement personnalisée où qu'ils soient.\\n\\nNotre solution ConnectiK est la première API d'interfaçage entre Cegid et les solutions clients B2C omnicanal. Cette solution Plug & Play totalement bâtie sur les web services du module Omnicanal Cegid vous permettra d'enfin capturer tout le potentiel de votre système d'informations, sans lui apporter aucune modification. Grâce à ConnectiK, vous pourrez, en temps réel, automatiser le traitement de vos informations et de vos transactions sur toutes vos solutions clients B2C: site e-commerce, applications mobiles, bornes digitales etc..   \n",
              "3  IT Skills Company est une entreprise informatique en plein essor, installée à Sfax, Tunisie, spécialisée dans le développement web et des applications mobile.\\nWebsite : www.itskills.com.tn\\nAddress : \\n- Rue Ahmed Aloulou Imm. El Hana App. 14 Sfax Eljadida, 3003 Sfax, Tunisia.\\n- Pépinière d’entreprises Sfax Innovation 1, Sfax 3052                                                                                                                                                                                                                                                                                                                                                                                                                                                                                                                                                                                                                                              \n",
              "4  Nous sommes une équipe de passionnés, animés par la volonté d’aider à gagner en productivité et à faire de la technologie l'alliée de notre réussite.                                                                                                                                                                                                                                                                                                                                                                                                                                                                                                                                                                                                                                                                                                                                                                                                                                       \n",
              "\n",
              "                                                                  tagLine  \\\n",
              "0  vide                                                                     \n",
              "1  Votre partenaire technologique pour aujourd'hui et demain                \n",
              "2  vide                                                                     \n",
              "3  vide                                                                     \n",
              "4  Une jeune STARTUP Tunisienne de développements à forte valeur humaine.   \n",
              "\n",
              "                                                          type  followerCount  \\\n",
              "0  vide                                                         1202604.5       \n",
              "1  Société de personnes (associés)                              3871.0          \n",
              "2  Société civile/Société commerciale/Autres types de sociétés  50.0            \n",
              "3  Société civile/Société commerciale/Autres types de sociétés  291.0           \n",
              "4  Travailleur indépendant ou profession libérale               4.0             \n",
              "\n",
              "                        domain     téléphone tailleDel’entreprise fondéeEn  \\\n",
              "0  vide                         vide          vide                 vide      \n",
              "1  itserv.tn                    +21671230206  11-50 employés       2008.0    \n",
              "2  devitco.io                   vide          2-10 employés        2017.0    \n",
              "3  itskills.com.tn              vide          2-10 employés        2017.0    \n",
              "4  https://kodrevo.netlify.app  54007387.0    2-10 employés        2021.0    \n",
              "\n",
              "   ... relatedCompanies3 relatedCompanies4 relatedCompanies5  \\\n",
              "0  ...  vide              vide              vide               \n",
              "1  ...  tobbabykeeplyna/  inetumtunisie/    digitech-france/   \n",
              "2  ...  vide              vide              vide               \n",
              "3  ...  spark-it-france/  piximind/         bfigroupe/         \n",
              "4  ...  vide              vide              vide               \n",
              "\n",
              "  relatedCompanies6     relatedCompanies7 relatedCompanies8  \\\n",
              "0  vide              vide                  vide               \n",
              "1  it-services/      be-softilys-tunisie/  it-serve-com/      \n",
              "2  vide              vide                  vide               \n",
              "3  roboxagency/      dot-tn/               ooredootn/         \n",
              "4  vide              vide                  vide               \n",
              "\n",
              "              relatedCompanies9 relatedCompanies10    siègeSocial  \\\n",
              "0  vide                          vide               vide            \n",
              "1  itserv-teknoloji-hizmetleri/  aymax-consulting/  vide            \n",
              "2  vide                          vide               Paris, France   \n",
              "3  itcblida/                     linedata/          Sfax , Sfax     \n",
              "4  vide                          vide               vide            \n",
              "\n",
              "  spécialisations  \n",
              "0  empty           \n",
              "1  consulting      \n",
              "2  big data        \n",
              "3  development     \n",
              "4  development     \n",
              "\n",
              "[5 rows x 29 columns]"
            ],
            "text/html": [
              "\n",
              "  <div id=\"df-a0578080-0dc5-438e-9ee4-53fa3f57eb09\">\n",
              "    <div class=\"colab-df-container\">\n",
              "      <div>\n",
              "<style scoped>\n",
              "    .dataframe tbody tr th:only-of-type {\n",
              "        vertical-align: middle;\n",
              "    }\n",
              "\n",
              "    .dataframe tbody tr th {\n",
              "        vertical-align: top;\n",
              "    }\n",
              "\n",
              "    .dataframe thead th {\n",
              "        text-align: right;\n",
              "    }\n",
              "</style>\n",
              "<table border=\"1\" class=\"dataframe\">\n",
              "  <thead>\n",
              "    <tr style=\"text-align: right;\">\n",
              "      <th></th>\n",
              "      <th>timestamp</th>\n",
              "      <th>name</th>\n",
              "      <th>description</th>\n",
              "      <th>tagLine</th>\n",
              "      <th>type</th>\n",
              "      <th>followerCount</th>\n",
              "      <th>domain</th>\n",
              "      <th>téléphone</th>\n",
              "      <th>tailleDel’entreprise</th>\n",
              "      <th>fondéeEn</th>\n",
              "      <th>...</th>\n",
              "      <th>relatedCompanies3</th>\n",
              "      <th>relatedCompanies4</th>\n",
              "      <th>relatedCompanies5</th>\n",
              "      <th>relatedCompanies6</th>\n",
              "      <th>relatedCompanies7</th>\n",
              "      <th>relatedCompanies8</th>\n",
              "      <th>relatedCompanies9</th>\n",
              "      <th>relatedCompanies10</th>\n",
              "      <th>siègeSocial</th>\n",
              "      <th>spécialisations</th>\n",
              "    </tr>\n",
              "  </thead>\n",
              "  <tbody>\n",
              "    <tr>\n",
              "      <th>0</th>\n",
              "      <td>2022-02-14T19:01:59.750Z</td>\n",
              "      <td>vide</td>\n",
              "      <td>vide</td>\n",
              "      <td>vide</td>\n",
              "      <td>vide</td>\n",
              "      <td>1202604.5</td>\n",
              "      <td>vide</td>\n",
              "      <td>vide</td>\n",
              "      <td>vide</td>\n",
              "      <td>vide</td>\n",
              "      <td>...</td>\n",
              "      <td>vide</td>\n",
              "      <td>vide</td>\n",
              "      <td>vide</td>\n",
              "      <td>vide</td>\n",
              "      <td>vide</td>\n",
              "      <td>vide</td>\n",
              "      <td>vide</td>\n",
              "      <td>vide</td>\n",
              "      <td>vide</td>\n",
              "      <td>empty</td>\n",
              "    </tr>\n",
              "    <tr>\n",
              "      <th>1</th>\n",
              "      <td>2022-02-14T19:02:02.959Z</td>\n",
              "      <td>IT SERV Company</td>\n",
              "      <td>IT SERV est une société de conseil et de services en TIC, qui depuis sa création en 2008 articule ses prestations autour de quatre offres :\\nConsulting IT\\nIntégration &amp; Développement\\nExpertise Télécoms\\nNearshore Outsourcing, \\nAfin d'aider ses Clients à profiter pleinement des technologies nouvelles, à maximiser l’efficacité et l’efficience de leur organisation et à optimiser leurs processus.</td>\n",
              "      <td>Votre partenaire technologique pour aujourd'hui et demain</td>\n",
              "      <td>Société de personnes (associés)</td>\n",
              "      <td>3871.0</td>\n",
              "      <td>itserv.tn</td>\n",
              "      <td>+21671230206</td>\n",
              "      <td>11-50 employés</td>\n",
              "      <td>2008.0</td>\n",
              "      <td>...</td>\n",
              "      <td>tobbabykeeplyna/</td>\n",
              "      <td>inetumtunisie/</td>\n",
              "      <td>digitech-france/</td>\n",
              "      <td>it-services/</td>\n",
              "      <td>be-softilys-tunisie/</td>\n",
              "      <td>it-serve-com/</td>\n",
              "      <td>itserv-teknoloji-hizmetleri/</td>\n",
              "      <td>aymax-consulting/</td>\n",
              "      <td>vide</td>\n",
              "      <td>consulting</td>\n",
              "    </tr>\n",
              "    <tr>\n",
              "      <th>2</th>\n",
              "      <td>2022-02-14T19:02:09.174Z</td>\n",
              "      <td>DevItCo - the Develop It Company</td>\n",
              "      <td>We do digital transformation for retail brands!\\n\\nA DevItCo, nous sommes passionnés par la transformation digital et l'expérience client dans vos boutiques et en dehors. Notre objectif: apporter les outils et l'accompagnement nécessaires aux acteurs retail pour mener à bien leur transformation digitale et offrir à leurs clients une expérience unique, cohérente et totalement personnalisée où qu'ils soient.\\n\\nNotre solution ConnectiK est la première API d'interfaçage entre Cegid et les solutions clients B2C omnicanal. Cette solution Plug &amp; Play totalement bâtie sur les web services du module Omnicanal Cegid vous permettra d'enfin capturer tout le potentiel de votre système d'informations, sans lui apporter aucune modification. Grâce à ConnectiK, vous pourrez, en temps réel, automatiser le traitement de vos informations et de vos transactions sur toutes vos solutions clients B2C: site e-commerce, applications mobiles, bornes digitales etc..</td>\n",
              "      <td>vide</td>\n",
              "      <td>Société civile/Société commerciale/Autres types de sociétés</td>\n",
              "      <td>50.0</td>\n",
              "      <td>devitco.io</td>\n",
              "      <td>vide</td>\n",
              "      <td>2-10 employés</td>\n",
              "      <td>2017.0</td>\n",
              "      <td>...</td>\n",
              "      <td>vide</td>\n",
              "      <td>vide</td>\n",
              "      <td>vide</td>\n",
              "      <td>vide</td>\n",
              "      <td>vide</td>\n",
              "      <td>vide</td>\n",
              "      <td>vide</td>\n",
              "      <td>vide</td>\n",
              "      <td>Paris, France</td>\n",
              "      <td>big data</td>\n",
              "    </tr>\n",
              "    <tr>\n",
              "      <th>3</th>\n",
              "      <td>2022-02-14T19:02:15.974Z</td>\n",
              "      <td>IT Skills Company</td>\n",
              "      <td>IT Skills Company est une entreprise informatique en plein essor, installée à Sfax, Tunisie, spécialisée dans le développement web et des applications mobile.\\nWebsite : www.itskills.com.tn\\nAddress : \\n- Rue Ahmed Aloulou Imm. El Hana App. 14 Sfax Eljadida, 3003 Sfax, Tunisia.\\n- Pépinière d’entreprises Sfax Innovation 1, Sfax 3052</td>\n",
              "      <td>vide</td>\n",
              "      <td>Société civile/Société commerciale/Autres types de sociétés</td>\n",
              "      <td>291.0</td>\n",
              "      <td>itskills.com.tn</td>\n",
              "      <td>vide</td>\n",
              "      <td>2-10 employés</td>\n",
              "      <td>2017.0</td>\n",
              "      <td>...</td>\n",
              "      <td>spark-it-france/</td>\n",
              "      <td>piximind/</td>\n",
              "      <td>bfigroupe/</td>\n",
              "      <td>roboxagency/</td>\n",
              "      <td>dot-tn/</td>\n",
              "      <td>ooredootn/</td>\n",
              "      <td>itcblida/</td>\n",
              "      <td>linedata/</td>\n",
              "      <td>Sfax , Sfax</td>\n",
              "      <td>development</td>\n",
              "    </tr>\n",
              "    <tr>\n",
              "      <th>4</th>\n",
              "      <td>2022-02-14T19:02:21.859Z</td>\n",
              "      <td>KODREVO - IT Development Company</td>\n",
              "      <td>Nous sommes une équipe de passionnés, animés par la volonté d’aider à gagner en productivité et à faire de la technologie l'alliée de notre réussite.</td>\n",
              "      <td>Une jeune STARTUP Tunisienne de développements à forte valeur humaine.</td>\n",
              "      <td>Travailleur indépendant ou profession libérale</td>\n",
              "      <td>4.0</td>\n",
              "      <td>https://kodrevo.netlify.app</td>\n",
              "      <td>54007387.0</td>\n",
              "      <td>2-10 employés</td>\n",
              "      <td>2021.0</td>\n",
              "      <td>...</td>\n",
              "      <td>vide</td>\n",
              "      <td>vide</td>\n",
              "      <td>vide</td>\n",
              "      <td>vide</td>\n",
              "      <td>vide</td>\n",
              "      <td>vide</td>\n",
              "      <td>vide</td>\n",
              "      <td>vide</td>\n",
              "      <td>vide</td>\n",
              "      <td>development</td>\n",
              "    </tr>\n",
              "  </tbody>\n",
              "</table>\n",
              "<p>5 rows × 29 columns</p>\n",
              "</div>\n",
              "      <button class=\"colab-df-convert\" onclick=\"convertToInteractive('df-a0578080-0dc5-438e-9ee4-53fa3f57eb09')\"\n",
              "              title=\"Convert this dataframe to an interactive table.\"\n",
              "              style=\"display:none;\">\n",
              "        \n",
              "  <svg xmlns=\"http://www.w3.org/2000/svg\" height=\"24px\"viewBox=\"0 0 24 24\"\n",
              "       width=\"24px\">\n",
              "    <path d=\"M0 0h24v24H0V0z\" fill=\"none\"/>\n",
              "    <path d=\"M18.56 5.44l.94 2.06.94-2.06 2.06-.94-2.06-.94-.94-2.06-.94 2.06-2.06.94zm-11 1L8.5 8.5l.94-2.06 2.06-.94-2.06-.94L8.5 2.5l-.94 2.06-2.06.94zm10 10l.94 2.06.94-2.06 2.06-.94-2.06-.94-.94-2.06-.94 2.06-2.06.94z\"/><path d=\"M17.41 7.96l-1.37-1.37c-.4-.4-.92-.59-1.43-.59-.52 0-1.04.2-1.43.59L10.3 9.45l-7.72 7.72c-.78.78-.78 2.05 0 2.83L4 21.41c.39.39.9.59 1.41.59.51 0 1.02-.2 1.41-.59l7.78-7.78 2.81-2.81c.8-.78.8-2.07 0-2.86zM5.41 20L4 18.59l7.72-7.72 1.47 1.35L5.41 20z\"/>\n",
              "  </svg>\n",
              "      </button>\n",
              "      \n",
              "  <style>\n",
              "    .colab-df-container {\n",
              "      display:flex;\n",
              "      flex-wrap:wrap;\n",
              "      gap: 12px;\n",
              "    }\n",
              "\n",
              "    .colab-df-convert {\n",
              "      background-color: #E8F0FE;\n",
              "      border: none;\n",
              "      border-radius: 50%;\n",
              "      cursor: pointer;\n",
              "      display: none;\n",
              "      fill: #1967D2;\n",
              "      height: 32px;\n",
              "      padding: 0 0 0 0;\n",
              "      width: 32px;\n",
              "    }\n",
              "\n",
              "    .colab-df-convert:hover {\n",
              "      background-color: #E2EBFA;\n",
              "      box-shadow: 0px 1px 2px rgba(60, 64, 67, 0.3), 0px 1px 3px 1px rgba(60, 64, 67, 0.15);\n",
              "      fill: #174EA6;\n",
              "    }\n",
              "\n",
              "    [theme=dark] .colab-df-convert {\n",
              "      background-color: #3B4455;\n",
              "      fill: #D2E3FC;\n",
              "    }\n",
              "\n",
              "    [theme=dark] .colab-df-convert:hover {\n",
              "      background-color: #434B5C;\n",
              "      box-shadow: 0px 1px 3px 1px rgba(0, 0, 0, 0.15);\n",
              "      filter: drop-shadow(0px 1px 2px rgba(0, 0, 0, 0.3));\n",
              "      fill: #FFFFFF;\n",
              "    }\n",
              "  </style>\n",
              "\n",
              "      <script>\n",
              "        const buttonEl =\n",
              "          document.querySelector('#df-a0578080-0dc5-438e-9ee4-53fa3f57eb09 button.colab-df-convert');\n",
              "        buttonEl.style.display =\n",
              "          google.colab.kernel.accessAllowed ? 'block' : 'none';\n",
              "\n",
              "        async function convertToInteractive(key) {\n",
              "          const element = document.querySelector('#df-a0578080-0dc5-438e-9ee4-53fa3f57eb09');\n",
              "          const dataTable =\n",
              "            await google.colab.kernel.invokeFunction('convertToInteractive',\n",
              "                                                     [key], {});\n",
              "          if (!dataTable) return;\n",
              "\n",
              "          const docLinkHtml = 'Like what you see? Visit the ' +\n",
              "            '<a target=\"_blank\" href=https://colab.research.google.com/notebooks/data_table.ipynb>data table notebook</a>'\n",
              "            + ' to learn more about interactive tables.';\n",
              "          element.innerHTML = '';\n",
              "          dataTable['output_type'] = 'display_data';\n",
              "          await google.colab.output.renderOutput(dataTable, element);\n",
              "          const docLink = document.createElement('div');\n",
              "          docLink.innerHTML = docLinkHtml;\n",
              "          element.appendChild(docLink);\n",
              "        }\n",
              "      </script>\n",
              "    </div>\n",
              "  </div>\n",
              "  "
            ]
          },
          "metadata": {},
          "execution_count": 58
        }
      ]
    }
  ],
  "metadata": {
    "colab": {
      "collapsed_sections": [],
      "name": "Company&StartupPIDEV",
      "provenance": []
    },
    "kernelspec": {
      "display_name": "Python 3",
      "name": "python3"
    },
    "language_info": {
      "name": "python"
    }
  },
  "nbformat": 4,
  "nbformat_minor": 0
}