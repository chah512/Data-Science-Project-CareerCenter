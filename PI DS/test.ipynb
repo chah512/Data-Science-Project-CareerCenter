{
 "cells": [
  {
   "cell_type": "code",
   "execution_count": 8,
   "id": "f84153d7-02ae-4ecd-9ca1-dd6a88d0d608",
   "metadata": {},
   "outputs": [],
   "source": [
    "import PyPDF2\n",
    "import fitz\n",
    "from pdf2image import convert_from_path, convert_from_bytes\n",
    "\n",
    "from pdf2image.exceptions import (\n",
    "    PDFInfoNotInstalledError,\n",
    "    PDFPageCountError,\n",
    "    PDFSyntaxError\n",
    ")"
   ]
  },
  {
   "cell_type": "code",
   "execution_count": 9,
   "id": "1bf735e0-9f51-4e44-b7ac-6537e07f904e",
   "metadata": {},
   "outputs": [],
   "source": [
    "\n",
    "def convert_pdf(path):\n",
    "   l=path.split('\\\\')\n",
    "   file=l[-1]\n",
    "   pdf_name=file.split('.')[0]\n",
    "   #print(pdf_name)\n",
    "   images=convert_from_path(path)\n",
    "\n",
    "   save_path=\"Data\\\\Converted_images\\\\\"\n",
    "   n=0\n",
    "   for i,image in enumerate(images):\n",
    "       fname = \"image_\"+pdf_name+\"_\"+ str(i) + \".png\"\n",
    "       image.save(save_path+fname, \"PNG\")\n",
    "       n=n+1\n",
    "   return n\n",
    "\n",
    "def is_scanned_pdf(file_path):\n",
    "    \"\"\"\n",
    "    Determines if a PDF file is scanned or not by checking if it contains text or not.\n",
    "\n",
    "    Parameters:\n",
    "        file_path (str): The path to the PDF file to check.\n",
    "\n",
    "    Returns:\n",
    "        bool: True if the PDF file is scanned, False otherwise.\n",
    "    \"\"\"\n",
    "    with fitz.open(file_path) as pdf:\n",
    "        for page in pdf:\n",
    "            text = page.get_text()\n",
    "            if text.strip() != \"\":\n",
    "                # If the page contains text, it's not a scanned PDF\n",
    "                return False\n",
    "    # If all pages don't contain text, it's a scanned PDF\n",
    "    return True\n",
    "\n",
    "def is_pdf_text_based(pdf_file_path):\n",
    "    with open(pdf_file_path, 'rb') as pdf_file:\n",
    "        pdf_reader = PyPDF2.PdfReader(pdf_file)\n",
    "\n",
    "        # Check if PDF file is encrypted\n",
    "        if pdf_reader.is_encrypted:\n",
    "            return False\n",
    "\n",
    "        # Check each page in the PDF file\n",
    "        for page_num in range(len(pdf_reader.pages)):\n",
    "            page = pdf_reader.pages[page_num]\n",
    "\n",
    "            # Check if page contains any images\n",
    "            if '/XObject' in page['/Resources']:\n",
    "                return False\n",
    "\n",
    "            # Check if page contains any text\n",
    "            if '/Font' in page['/Resources'] or '/Text' in page['/Contents']:\n",
    "                return True\n",
    "\n",
    "        # If PDF file contains no pages, return False\n",
    "        return False\n"
   ]
  },
  {
   "cell_type": "code",
   "execution_count": 10,
   "id": "fdfcd788-3c8b-49aa-93a0-0944f7e61007",
   "metadata": {},
   "outputs": [],
   "source": [
    "import warnings\n",
    "warnings.filterwarnings('ignore')"
   ]
  },
  {
   "cell_type": "code",
   "execution_count": 11,
   "id": "6f014e3d-5288-48ec-ab14-477adb7d3b39",
   "metadata": {},
   "outputs": [
    {
     "name": "stdout",
     "output_type": "stream",
     "text": [
      "Requirement already satisfied: googletrans==3.1.0a0 in c:\\users\\msi gf63\\anaconda3\\lib\\site-packages (3.1.0a0)\n",
      "Requirement already satisfied: httpx==0.13.3 in c:\\users\\msi gf63\\anaconda3\\lib\\site-packages (from googletrans==3.1.0a0) (0.13.3)\n",
      "Requirement already satisfied: chardet==3.* in c:\\users\\msi gf63\\anaconda3\\lib\\site-packages (from httpx==0.13.3->googletrans==3.1.0a0) (3.0.4)\n",
      "Requirement already satisfied: idna==2.* in c:\\users\\msi gf63\\anaconda3\\lib\\site-packages (from httpx==0.13.3->googletrans==3.1.0a0) (2.10)\n",
      "Requirement already satisfied: httpcore==0.9.* in c:\\users\\msi gf63\\anaconda3\\lib\\site-packages (from httpx==0.13.3->googletrans==3.1.0a0) (0.9.1)\n",
      "Requirement already satisfied: certifi in c:\\users\\msi gf63\\anaconda3\\lib\\site-packages (from httpx==0.13.3->googletrans==3.1.0a0) (2022.6.15)\n",
      "Requirement already satisfied: rfc3986<2,>=1.3 in c:\\users\\msi gf63\\anaconda3\\lib\\site-packages (from httpx==0.13.3->googletrans==3.1.0a0) (1.5.0)\n",
      "Requirement already satisfied: hstspreload in c:\\users\\msi gf63\\anaconda3\\lib\\site-packages (from httpx==0.13.3->googletrans==3.1.0a0) (2023.1.1)\n",
      "Requirement already satisfied: sniffio in c:\\users\\msi gf63\\anaconda3\\lib\\site-packages (from httpx==0.13.3->googletrans==3.1.0a0) (1.2.0)\n",
      "Requirement already satisfied: h2==3.* in c:\\users\\msi gf63\\anaconda3\\lib\\site-packages (from httpcore==0.9.*->httpx==0.13.3->googletrans==3.1.0a0) (3.2.0)\n",
      "Requirement already satisfied: h11<0.10,>=0.8 in c:\\users\\msi gf63\\anaconda3\\lib\\site-packages (from httpcore==0.9.*->httpx==0.13.3->googletrans==3.1.0a0) (0.9.0)\n",
      "Requirement already satisfied: hyperframe<6,>=5.2.0 in c:\\users\\msi gf63\\anaconda3\\lib\\site-packages (from h2==3.*->httpcore==0.9.*->httpx==0.13.3->googletrans==3.1.0a0) (5.2.0)\n",
      "Requirement already satisfied: hpack<4,>=3.0 in c:\\users\\msi gf63\\anaconda3\\lib\\site-packages (from h2==3.*->httpcore==0.9.*->httpx==0.13.3->googletrans==3.1.0a0) (3.0.0)\n",
      "\n",
      "[notice] A new release of pip available: 22.2 -> 23.0.1\n",
      "[notice] To update, run: python.exe -m pip install --upgrade pip\n",
      "Note: you may need to restart the kernel to use updated packages.\n"
     ]
    }
   ],
   "source": [
    "pip install googletrans==3.1.0a0"
   ]
  },
  {
   "cell_type": "code",
   "execution_count": 12,
   "id": "2940f610-086c-49eb-b958-f0aef8483d8e",
   "metadata": {},
   "outputs": [],
   "source": [
    "from googletrans import Translator\n",
    "\n",
    "translator = Translator()"
   ]
  },
  {
   "cell_type": "code",
   "execution_count": 13,
   "id": "a4c7ef51-e864-44af-830e-74f92dba32e1",
   "metadata": {},
   "outputs": [],
   "source": [
    "import PyPDF2\n",
    "#from googletrans import Translator\n",
    "import numpy as np\n",
    "import cv2\n",
    "from PIL import Image\n",
    "import pytesseract\n",
    "\n",
    "pytesseract.pytesseract.tesseract_cmd = 'C:\\\\Program Files\\\\Tesseract-OCR\\\\tesseract.exe'\n",
    "\n",
    "\n",
    "def ocr_core(image):\n",
    "    text = pytesseract.image_to_string(image, lang='fra', config='-c page_separator=\"\"')\n",
    "    return text\n",
    "\n",
    "\n",
    "def get_grayscale(image):\n",
    "    return cv2.cvtColor(image, cv2.COLOR_BGR2HSV)\n",
    "\n",
    "\n",
    "def remove_noise(image):\n",
    "    return cv2.medianBlur(image, 5)\n",
    "\n",
    "\n",
    "def thresholding(image):\n",
    "    # need thrershold optimization !!!!!!!@TODO/TO SEARCH\n",
    "    return cv2.threshold(image, 127, 255, cv2.THRESH_BINARY)\n",
    "\n",
    "\n",
    "def ocr_extract_txt(image_name):\n",
    "    img = cv2.imread('Data\\\\Converted_images\\\\' + image_name)\n",
    "    img = cv2.resize(img, (0, 0), fx=0.9, fy=0.9)\n",
    "    # img = np.invert(img)\n",
    "    # img=get_grayscale(img)\n",
    "    img = cv2.cvtColor(img, cv2.COLOR_BGR2GRAY)\n",
    "\n",
    "    # img=thresholding(img)[1]\n",
    "    #print(ocr_core(img))\n",
    "    # img2=get_grayscale(img2)\n",
    "    #cv2.imshow('Image', img)\n",
    "    #cv2.waitKey(0)\n",
    "\n",
    "    # Find the contours in the image and store them in an array\n",
    "    # contours, hierarchy = cv2.findContours(thresh, cv2.RETR_TREE, cv2.CHAIN_APPROX_SIMPLE)\n",
    "    # text_contours = cv2.drawContours(img, contours, -1, (0, 255, 0), 3)\n",
    "\n",
    "    # Show the contours\n",
    "    # cv2.imshow('Contours', text_contours)\n",
    "    # cv2.waitKey(0)\n",
    "    # text = pytesseract.image_to_string(img, lang='eng')\n",
    "    text_file = open(\"Data\\\\Converted_images\\\\AllText.txt\", \"w\")\n",
    "    text_file.write(ocr_core(img[1]))\n",
    "    return ocr_core(img)\n",
    "\n",
    "\n",
    "\n",
    "def extract_text_from_pdf(pdf_file_path):\n",
    "    text = \"\"\n",
    "\n",
    "    with open(pdf_file_path, 'rb') as pdf_file:\n",
    "        pdf_reader = PyPDF2.PdfReader(pdf_file)\n",
    "\n",
    "        # Iterate through each page in the PDF file\n",
    "        for page_num in range(len(pdf_reader.pages)):\n",
    "            page = pdf_reader.pages[page_num]\n",
    "\n",
    "            # Extract text from the page\n",
    "            page_text = page.extract_text()\n",
    "\n",
    "            # Append the page text to the overall text string\n",
    "            text += page_text\n",
    "\n",
    "    return text\n",
    "\n",
    "\n",
    "def extract(pdf_file_path):\n",
    "    if is_scanned_pdf(pdf_file_path):\n",
    "        convert_pdf(pdf_file_path)\n",
    "        l = pdf_file_path.split('\\\\')\n",
    "        file = l[-1]\n",
    "        pdf_name = file.split('.')[0]\n",
    "        t=\"\"\n",
    "        for i in range(convert_pdf(pdf_file_path)):\n",
    "            fname = \"image_\" + pdf_name + \"_\" + str(i) + \".png\"\n",
    "            #print(fname)\n",
    "            t=t+ocr_extract_txt(fname)\n",
    "        return t    \n",
    "            \n",
    "        \n",
    "    else :\n",
    "        return extract_text_from_pdf(pdf_file_path)\n"
   ]
  },
  {
   "cell_type": "markdown",
   "id": "b7aa5ad2-1812-482e-8059-ce098efcbe60",
   "metadata": {},
   "source": []
  },
  {
   "cell_type": "code",
   "execution_count": null,
   "id": "ba902354-78b2-4745-94c2-542109967318",
   "metadata": {},
   "outputs": [],
   "source": []
  },
  {
   "cell_type": "markdown",
   "id": "f78af090-a366-4966-95b1-ee5473fab4dd",
   "metadata": {},
   "source": [
    "## extract is  a complete function\n"
   ]
  },
  {
   "cell_type": "code",
   "execution_count": 15,
   "id": "d2f99e13-5cdb-47a9-8308-0270320d0848",
   "metadata": {},
   "outputs": [
    {
     "name": "stdout",
     "output_type": "stream",
     "text": [
      "['Catalogue des sujets', 'de stage de PFE 2023', '2 Stages PFE 2023Qui sommes -nous', 'Avec une présence en France et en Tunisie,  ', 'ATS se place aujourd’hui comme spécialiste du ', 'digital intervenant dès les étapes d’idéation,', 'de stratégie et de conception jusqu’à ', 'l’implémentation d’applications répondant aux ', 'enjeux de ses clients internationaux.Développement ', 'Web / MobileConseil Digital', 'Ops & ', 'Cybersecurity', 'QA', '3ATS en quelques chiffres', 'Âge moyen28 ', 'ansPersonnes dans', 'l’équipe', '20 15 30%', 'ClientsTaux de ', 'croissance', 'Stages PFE 2023', '4Avantages pour les stagiaires ', 'de PFE 2022', 'IndemnitésEntraidePartage de ', 'connaissances', 'Tickets ', 'restaurantsStage de pré -', 'embauche', 'Stages PFE 2023', '5Comment postuler', \"Afin de postuler, ilvous suffit d'envoyer un email àl'adresse\", ':recrutement@ats -digital .com avec :', '•Objet du mail :[Candidature Stage] -référence de stage -', 'NOM Prénom', '•Mettre CV etLM au format PDF en pièces jointes', '•Fichier CV ànommer :CV_NOM_Prenom .pdf', '•Fichier LM ànommer :LM_NOM_Prenom .pdf', 'Ilest aussi possible de postuler directement sur notre site', 'internet (rubrique Nous rejoindre ).', 'Si votre candidature est retenue, l’équipe de recrutement reviendra vers vous sous la ', 'quinzaine qui suit la réception de votre candidature.', 'Bon courage ! ', 'Stages PFE 2023', '6SUJETS WEB', 'Stages PFE 2023', \"7IMPLÉMENTATION D’UNE PLATEFORME D’ANALYSE D'AUDIENCE/TRAFIC WEB\", '(<Tech. Backend à définir>, ReactJS, Typescript, MongoDB)', 'Description de la mission', 'Votre stage de PFE vise à implémenter une application permettant d’offrir une suite de fonctionnalités Web Analytics . Cette application se distinguera', 'des solutions existantes par sa dimension Full -Stack (collecte des évènements Frontend + Backend), sa conformité RGPD (installat ion on -premise), et sa ', 'simplicité d’installation/déploiement et d’utilisation.', 'Fonctionnalités à développer', '● Pouvoir configurer une application/site web quelconque afin de la', 'rendre apte àexposer des évènements /métriques ànotre application', 'cible .', '● Développement d’une suite de plugins permettant àune application/site', 'web configuré (e) de diffuser les évènements àcollecter (Script JS inline', 'et/ ou Plugin React pour les analytics Frontend, Agent en CLI et/ ou', 'Plugin PHP/JS -TS pour les analytics Backend) .', '● Conception et Implémentation d’un dashboard permettant de', 'consolider /interpréter les divers évènements collectés par plateforme .', 'En tant que stagiaire, vous serez amené àréaliser ces activités :', '● Conception etimplémentation des fonctionnalités', '● Participer au choix des librairies /outillage adaptés au projet', '● Assimiler (et challenger sibesoin )les spécifications fonctionnelles', '● Tests Unitaires etFonctionnels', 'Vous serez assisté /guidé par un/ plusieurs encadrant (s) afin de bien mener la', 'phase de conception, assurer le bon déroulement du projet et faciliter le', 'processus de testabilité /déploiement .Pour vous épanouir chez nous', 'Nous recherchons un élève ingénieur en dernière année du cycle ', 'ingénieur ou un étudiant en M2 qui :', '● Est intéressé par le monde du web et  par les challenges qui lui', 'sont reliés', '● A une bonne connaissance des librairies /frameworks JS/TS ', 'tels que ReactJS', '● Excellente capacité d’analyse / Problem -solving', '● A une bonne connaissance du système d’exploitation Linux et ', 'du scripting shell, et des notions générales des technologies ', 'de conteneurisation (e.g. Docker)', '● A une bonne connaissance des bases de données NoSQL du ', 'type MongoDB', '● A un Geek mindset, un bon relationnel et maîtrisant la ', 'communication en français et en anglais', 'Date de démarrage : ASAP ', 'Durée du stage : 6 mois', 'Stages PFE 2023', '8SUJETS CONSEIL', 'Stages PFE 20239', 'Linkedin.com/ATSDIGITALLinkedin', 'www.atsdigital.comWeb', 'Facebook', 'Facebook.com / ATSDIGITAL', 'Merci', 'ATS Digital l Au coeur du développement digital', 'Stages PFE 2023']\n"
     ]
    }
   ],
   "source": [
    "\n",
    "lop=extract('data\\\\ATS.pdf').split('\\n')\n",
    "print(lop)"
   ]
  },
  {
   "cell_type": "markdown",
   "id": "3b455932-02a6-49af-88fc-06189123dd24",
   "metadata": {},
   "source": [
    "### Cleaning the texg"
   ]
  },
  {
   "cell_type": "code",
   "execution_count": 16,
   "id": "b892aa50-7993-4a27-b8da-9e453b80dc56",
   "metadata": {},
   "outputs": [],
   "source": [
    "import nltk\n",
    "from nltk.corpus import stopwords\n",
    "from nltk.tokenize import word_tokenize\n",
    "import re"
   ]
  },
  {
   "cell_type": "code",
   "execution_count": 17,
   "id": "2a341488-3793-479e-b5c6-02a9deac5b13",
   "metadata": {},
   "outputs": [
    {
     "name": "stdout",
     "output_type": "stream",
     "text": [
      "Catalogue des sujetsde stage de PFE 20232 Stages PFE 2023Qui sommes -nousAvec une présence en France et en Tunisie,ATS se place aujourd’hui comme spécialiste dudigital intervenant dès les étapes d’idéation,de stratégie et de conception jusqu’àl’implémentation d’applications répondant auxenjeux de ses clients internationaux.DéveloppementWeb / MobileConseil DigitalOps &CybersecurityQA3ATS en quelques chiffresÂge moyen28ansPersonnes dansl’équipe20 15 30%ClientsTaux decroissanceStages PFE 20234Avantages pour les stagiairesde PFE 2022IndemnitésEntraidePartage deconnaissancesTicketsrestaurantsStage de pré -embaucheStages PFE 20235Comment postulerAfin de postuler, ilvous suffit d'envoyer un email àl'adresse:recrutement@ats -digital .com avec :•Objet du mail :[Candidature Stage] -référence de stage -NOM Prénom•Mettre CV etLM au format PDF en pièces jointes•Fichier CV ànommer :CV_NOM_Prenom .pdf•Fichier LM ànommer :LM_NOM_Prenom .pdfIlest aussi possible de postuler directement sur notre siteinternet (rubrique Nous rejoindre ).Si votre candidature est retenue, l’équipe de recrutement reviendra vers vous sous laquinzaine qui suit la réception de votre candidature.Bon courage !Stages PFE 20236SUJETS WEBStages PFE 20237IMPLÉMENTATION D’UNE PLATEFORME D’ANALYSE D'AUDIENCE/TRAFIC WEB(<Tech. Backend à définir>, ReactJS, Typescript, MongoDB)Description de la missionVotre stage de PFE vise à implémenter une application permettant d’offrir une suite de fonctionnalités Web Analytics . Cette application se distinguerades solutions existantes par sa dimension Full -Stack (collecte des évènements Frontend + Backend), sa conformité RGPD (installat ion on -premise), et sasimplicité d’installation/déploiement et d’utilisation.Fonctionnalités à développer● Pouvoir configurer une application/site web quelconque afin de larendre apte àexposer des évènements /métriques ànotre applicationcible .● Développement d’une suite de plugins permettant àune application/siteweb configuré (e) de diffuser les évènements àcollecter (Script JS inlineet/ ou Plugin React pour les analytics Frontend, Agent en CLI et/ ouPlugin PHP/JS -TS pour les analytics Backend) .● Conception et Implémentation d’un dashboard permettant deconsolider /interpréter les divers évènements collectés par plateforme .En tant que stagiaire, vous serez amené àréaliser ces activités :● Conception etimplémentation des fonctionnalités● Participer au choix des librairies /outillage adaptés au projet● Assimiler (et challenger sibesoin )les spécifications fonctionnelles● Tests Unitaires etFonctionnelsVous serez assisté /guidé par un/ plusieurs encadrant (s) afin de bien mener laphase de conception, assurer le bon déroulement du projet et faciliter leprocessus de testabilité /déploiement .Pour vous épanouir chez nousNous recherchons un élève ingénieur en dernière année du cycleingénieur ou un étudiant en M2 qui :● Est intéressé par le monde du web et  par les challenges qui luisont reliés● A une bonne connaissance des librairies /frameworks JS/TStels que ReactJS● Excellente capacité d’analyse / Problem -solving● A une bonne connaissance du système d’exploitation Linux etdu scripting shell, et des notions générales des technologiesde conteneurisation (e.g. Docker)● A une bonne connaissance des bases de données NoSQL dutype MongoDB● A un Geek mindset, un bon relationnel et maîtrisant lacommunication en français et en anglaisDate de démarrage : ASAPDurée du stage : 6 moisStages PFE 20238SUJETS CONSEILStages PFE 20239Linkedin.com/ATSDIGITALLinkedinwww.atsdigital.comWebFacebookFacebook.com / ATSDIGITALMerciATS Digital l Au coeur du développement digitalStages PFE 2023\n"
     ]
    }
   ],
   "source": [
    "filtered_lop=[string for string in lop if string.strip() and not string.strip().isdigit()]\n",
    "#print(filtered_lop)\n",
    "def st(a):\n",
    "    return a.strip()\n",
    "cleaned_lop=list(map(st,filtered_lop))\n",
    "#print(cleaned_lop)\n",
    "raw_txt=\"\".join(cleaned_lop)\n",
    "print(raw_txt)"
   ]
  },
  {
   "cell_type": "code",
   "execution_count": null,
   "id": "f5f920c0-f8ee-42ea-9d37-a10fa110628c",
   "metadata": {},
   "outputs": [
    {
     "name": "stdout",
     "output_type": "stream",
     "text": [
      "Requirement already satisfied: spacy in c:\\users\\msi gf63\\anaconda3\\lib\\site-packages (3.5.1)Note: you may need to restart the kernel to use updated packages.\n",
      "Requirement already satisfied: jinja2 in c:\\users\\msi gf63\\anaconda3\\lib\\site-packages (from spacy) (2.11.3)\n",
      "Requirement already satisfied: srsly<3.0.0,>=2.4.3 in c:\\users\\msi gf63\\anaconda3\\lib\\site-packages (from spacy) (2.4.6)\n",
      "Requirement already satisfied: murmurhash<1.1.0,>=0.28.0 in c:\\users\\msi gf63\\anaconda3\\lib\\site-packages (from spacy) (1.0.9)\n",
      "Requirement already satisfied: catalogue<2.1.0,>=2.0.6 in c:\\users\\msi gf63\\anaconda3\\lib\\site-packages (from spacy) (2.0.8)\n",
      "\n",
      "Requirement already satisfied: preshed<3.1.0,>=3.0.2 in c:\\users\\msi gf63\\anaconda3\\lib\\site-packages (from spacy) (3.0.8)\n",
      "Requirement already satisfied: spacy-legacy<3.1.0,>=3.0.11 in c:\\users\\msi gf63\\anaconda3\\lib\\site-packages (from spacy) (3.0.12)\n",
      "Requirement already satisfied: smart-open<7.0.0,>=5.2.1 in c:\\users\\msi gf63\\anaconda3\\lib\\site-packages (from spacy) (6.3.0)\n",
      "Requirement already satisfied: langcodes<4.0.0,>=3.2.0 in c:\\users\\msi gf63\\anaconda3\\lib\\site-packages (from spacy) (3.3.0)\n",
      "Requirement already satisfied: typer<0.8.0,>=0.3.0 in c:\\users\\msi gf63\\anaconda3\\lib\\site-packages (from spacy) (0.7.0)\n",
      "Requirement already satisfied: packaging>=20.0 in c:\\users\\msi gf63\\anaconda3\\lib\\site-packages (from spacy) (21.3)\n",
      "Requirement already satisfied: tqdm<5.0.0,>=4.38.0 in c:\\users\\msi gf63\\anaconda3\\lib\\site-packages (from spacy) (4.64.0)\n",
      "Requirement already satisfied: requests<3.0.0,>=2.13.0 in c:\\users\\msi gf63\\anaconda3\\lib\\site-packages (from spacy) (2.27.1)\n",
      "Requirement already satisfied: cymem<2.1.0,>=2.0.2 in c:\\users\\msi gf63\\anaconda3\\lib\\site-packages (from spacy) (2.0.7)\n",
      "Requirement already satisfied: wasabi<1.2.0,>=0.9.1 in c:\\users\\msi gf63\\anaconda3\\lib\\site-packages (from spacy) (1.1.1)\n",
      "Requirement already satisfied: pydantic!=1.8,!=1.8.1,<1.11.0,>=1.7.4 in c:\\users\\msi gf63\\anaconda3\\lib\\site-packages (from spacy) (1.10.6)\n",
      "Requirement already satisfied: setuptools in c:\\users\\msi gf63\\anaconda3\\lib\\site-packages (from spacy) (61.2.0)\n",
      "Requirement already satisfied: spacy-loggers<2.0.0,>=1.0.0 in c:\\users\\msi gf63\\anaconda3\\lib\\site-packages (from spacy) (1.0.4)\n",
      "Requirement already satisfied: thinc<8.2.0,>=8.1.8 in c:\\users\\msi gf63\\anaconda3\\lib\\site-packages (from spacy) (8.1.9)\n",
      "Requirement already satisfied: numpy>=1.15.0 in c:\\users\\msi gf63\\anaconda3\\lib\\site-packages (from spacy) (1.21.5)\n",
      "Requirement already satisfied: pathy>=0.10.0 in c:\\users\\msi gf63\\anaconda3\\lib\\site-packages (from spacy) (0.10.1)\n",
      "Requirement already satisfied: pyparsing!=3.0.5,>=2.0.2 in c:\\users\\msi gf63\\anaconda3\\lib\\site-packages (from packaging>=20.0->spacy) (3.0.4)\n",
      "Requirement already satisfied: typing-extensions>=4.2.0 in c:\\users\\msi gf63\\anaconda3\\lib\\site-packages (from pydantic!=1.8,!=1.8.1,<1.11.0,>=1.7.4->spacy) (4.3.0)\n",
      "Requirement already satisfied: idna<4,>=2.5 in c:\\users\\msi gf63\\anaconda3\\lib\\site-packages (from requests<3.0.0,>=2.13.0->spacy) (2.10)\n",
      "Requirement already satisfied: charset-normalizer~=2.0.0 in c:\\users\\msi gf63\\anaconda3\\lib\\site-packages (from requests<3.0.0,>=2.13.0->spacy) (2.0.4)\n",
      "Requirement already satisfied: urllib3<1.27,>=1.21.1 in c:\\users\\msi gf63\\anaconda3\\lib\\site-packages (from requests<3.0.0,>=2.13.0->spacy) (1.26.9)\n",
      "Requirement already satisfied: certifi>=2017.4.17 in c:\\users\\msi gf63\\anaconda3\\lib\\site-packages (from requests<3.0.0,>=2.13.0->spacy) (2022.6.15)\n",
      "Requirement already satisfied: blis<0.8.0,>=0.7.8 in c:\\users\\msi gf63\\anaconda3\\lib\\site-packages (from thinc<8.2.0,>=8.1.8->spacy) (0.7.9)\n",
      "Requirement already satisfied: confection<1.0.0,>=0.0.1 in c:\\users\\msi gf63\\anaconda3\\lib\\site-packages (from thinc<8.2.0,>=8.1.8->spacy) (0.0.4)\n",
      "Requirement already satisfied: colorama in c:\\users\\msi gf63\\anaconda3\\lib\\site-packages (from tqdm<5.0.0,>=4.38.0->spacy) (0.4.6)\n",
      "Requirement already satisfied: click<9.0.0,>=7.1.1 in c:\\users\\msi gf63\\anaconda3\\lib\\site-packages (from typer<0.8.0,>=0.3.0->spacy) (8.0.4)\n",
      "Requirement already satisfied: MarkupSafe>=0.23 in c:\\users\\msi gf63\\anaconda3\\lib\\site-packages (from jinja2->spacy) (2.0.1)\n",
      "\n",
      "[notice] A new release of pip available: 22.2 -> 23.0.1\n",
      "[notice] To update, run: python.exe -m pip install --upgrade pip\n"
     ]
    }
   ],
   "source": [
    "pip install spacy"
   ]
  },
  {
   "cell_type": "code",
   "execution_count": 19,
   "id": "55d8c709-92d2-4f91-9bf4-d904ba316975",
   "metadata": {},
   "outputs": [
    {
     "name": "stdout",
     "output_type": "stream",
     "text": [
      "Collecting en-core-web-lg==3.5.0\n",
      "  Downloading https://github.com/explosion/spacy-models/releases/download/en_core_web_lg-3.5.0/en_core_web_lg-3.5.0-py3-none-any.whl (587.7 MB)\n",
      "     -------------------------------------- 587.7/587.7 MB 1.6 MB/s eta 0:00:00\n",
      "Requirement already satisfied: spacy<3.6.0,>=3.5.0 in c:\\users\\msi gf63\\anaconda3\\lib\\site-packages (from en-core-web-lg==3.5.0) (3.5.1)\n",
      "Requirement already satisfied: pathy>=0.10.0 in c:\\users\\msi gf63\\anaconda3\\lib\\site-packages (from spacy<3.6.0,>=3.5.0->en-core-web-lg==3.5.0) (0.10.1)\n",
      "Requirement already satisfied: langcodes<4.0.0,>=3.2.0 in c:\\users\\msi gf63\\anaconda3\\lib\\site-packages (from spacy<3.6.0,>=3.5.0->en-core-web-lg==3.5.0) (3.3.0)\n",
      "Requirement already satisfied: setuptools in c:\\users\\msi gf63\\anaconda3\\lib\\site-packages (from spacy<3.6.0,>=3.5.0->en-core-web-lg==3.5.0) (61.2.0)\n",
      "Requirement already satisfied: srsly<3.0.0,>=2.4.3 in c:\\users\\msi gf63\\anaconda3\\lib\\site-packages (from spacy<3.6.0,>=3.5.0->en-core-web-lg==3.5.0) (2.4.6)\n",
      "Requirement already satisfied: requests<3.0.0,>=2.13.0 in c:\\users\\msi gf63\\anaconda3\\lib\\site-packages (from spacy<3.6.0,>=3.5.0->en-core-web-lg==3.5.0) (2.27.1)\n",
      "Requirement already satisfied: catalogue<2.1.0,>=2.0.6 in c:\\users\\msi gf63\\anaconda3\\lib\\site-packages (from spacy<3.6.0,>=3.5.0->en-core-web-lg==3.5.0) (2.0.8)\n",
      "Requirement already satisfied: murmurhash<1.1.0,>=0.28.0 in c:\\users\\msi gf63\\anaconda3\\lib\\site-packages (from spacy<3.6.0,>=3.5.0->en-core-web-lg==3.5.0) (1.0.9)\n",
      "Requirement already satisfied: packaging>=20.0 in c:\\users\\msi gf63\\anaconda3\\lib\\site-packages (from spacy<3.6.0,>=3.5.0->en-core-web-lg==3.5.0) (21.3)\n",
      "Requirement already satisfied: tqdm<5.0.0,>=4.38.0 in c:\\users\\msi gf63\\anaconda3\\lib\\site-packages (from spacy<3.6.0,>=3.5.0->en-core-web-lg==3.5.0) (4.64.0)\n",
      "Requirement already satisfied: typer<0.8.0,>=0.3.0 in c:\\users\\msi gf63\\anaconda3\\lib\\site-packages (from spacy<3.6.0,>=3.5.0->en-core-web-lg==3.5.0) (0.7.0)\n",
      "Requirement already satisfied: jinja2 in c:\\users\\msi gf63\\anaconda3\\lib\\site-packages (from spacy<3.6.0,>=3.5.0->en-core-web-lg==3.5.0) (2.11.3)\n",
      "Requirement already satisfied: thinc<8.2.0,>=8.1.8 in c:\\users\\msi gf63\\anaconda3\\lib\\site-packages (from spacy<3.6.0,>=3.5.0->en-core-web-lg==3.5.0) (8.1.9)\n",
      "Requirement already satisfied: wasabi<1.2.0,>=0.9.1 in c:\\users\\msi gf63\\anaconda3\\lib\\site-packages (from spacy<3.6.0,>=3.5.0->en-core-web-lg==3.5.0) (1.1.1)\n",
      "Requirement already satisfied: pydantic!=1.8,!=1.8.1,<1.11.0,>=1.7.4 in c:\\users\\msi gf63\\anaconda3\\lib\\site-packages (from spacy<3.6.0,>=3.5.0->en-core-web-lg==3.5.0) (1.10.6)\n",
      "Requirement already satisfied: numpy>=1.15.0 in c:\\users\\msi gf63\\anaconda3\\lib\\site-packages (from spacy<3.6.0,>=3.5.0->en-core-web-lg==3.5.0) (1.21.5)\n",
      "Requirement already satisfied: cymem<2.1.0,>=2.0.2 in c:\\users\\msi gf63\\anaconda3\\lib\\site-packages (from spacy<3.6.0,>=3.5.0->en-core-web-lg==3.5.0) (2.0.7)\n",
      "Requirement already satisfied: preshed<3.1.0,>=3.0.2 in c:\\users\\msi gf63\\anaconda3\\lib\\site-packages (from spacy<3.6.0,>=3.5.0->en-core-web-lg==3.5.0) (3.0.8)\n",
      "Requirement already satisfied: spacy-loggers<2.0.0,>=1.0.0 in c:\\users\\msi gf63\\anaconda3\\lib\\site-packages (from spacy<3.6.0,>=3.5.0->en-core-web-lg==3.5.0) (1.0.4)\n",
      "Requirement already satisfied: spacy-legacy<3.1.0,>=3.0.11 in c:\\users\\msi gf63\\anaconda3\\lib\\site-packages (from spacy<3.6.0,>=3.5.0->en-core-web-lg==3.5.0) (3.0.12)\n",
      "Requirement already satisfied: smart-open<7.0.0,>=5.2.1 in c:\\users\\msi gf63\\anaconda3\\lib\\site-packages (from spacy<3.6.0,>=3.5.0->en-core-web-lg==3.5.0) (6.3.0)\n",
      "Requirement already satisfied: pyparsing!=3.0.5,>=2.0.2 in c:\\users\\msi gf63\\anaconda3\\lib\\site-packages (from packaging>=20.0->spacy<3.6.0,>=3.5.0->en-core-web-lg==3.5.0) (3.0.4)\n",
      "Requirement already satisfied: typing-extensions>=4.2.0 in c:\\users\\msi gf63\\anaconda3\\lib\\site-packages (from pydantic!=1.8,!=1.8.1,<1.11.0,>=1.7.4->spacy<3.6.0,>=3.5.0->en-core-web-lg==3.5.0) (4.3.0)\n",
      "Requirement already satisfied: idna<4,>=2.5 in c:\\users\\msi gf63\\anaconda3\\lib\\site-packages (from requests<3.0.0,>=2.13.0->spacy<3.6.0,>=3.5.0->en-core-web-lg==3.5.0) (2.10)\n",
      "Requirement already satisfied: urllib3<1.27,>=1.21.1 in c:\\users\\msi gf63\\anaconda3\\lib\\site-packages (from requests<3.0.0,>=2.13.0->spacy<3.6.0,>=3.5.0->en-core-web-lg==3.5.0) (1.26.9)\n",
      "Requirement already satisfied: certifi>=2017.4.17 in c:\\users\\msi gf63\\anaconda3\\lib\\site-packages (from requests<3.0.0,>=2.13.0->spacy<3.6.0,>=3.5.0->en-core-web-lg==3.5.0) (2022.6.15)\n",
      "Requirement already satisfied: charset-normalizer~=2.0.0 in c:\\users\\msi gf63\\anaconda3\\lib\\site-packages (from requests<3.0.0,>=2.13.0->spacy<3.6.0,>=3.5.0->en-core-web-lg==3.5.0) (2.0.4)\n",
      "Requirement already satisfied: blis<0.8.0,>=0.7.8 in c:\\users\\msi gf63\\anaconda3\\lib\\site-packages (from thinc<8.2.0,>=8.1.8->spacy<3.6.0,>=3.5.0->en-core-web-lg==3.5.0) (0.7.9)\n",
      "Requirement already satisfied: confection<1.0.0,>=0.0.1 in c:\\users\\msi gf63\\anaconda3\\lib\\site-packages (from thinc<8.2.0,>=8.1.8->spacy<3.6.0,>=3.5.0->en-core-web-lg==3.5.0) (0.0.4)\n",
      "Requirement already satisfied: colorama in c:\\users\\msi gf63\\anaconda3\\lib\\site-packages (from tqdm<5.0.0,>=4.38.0->spacy<3.6.0,>=3.5.0->en-core-web-lg==3.5.0) (0.4.6)\n",
      "Requirement already satisfied: click<9.0.0,>=7.1.1 in c:\\users\\msi gf63\\anaconda3\\lib\\site-packages (from typer<0.8.0,>=0.3.0->spacy<3.6.0,>=3.5.0->en-core-web-lg==3.5.0) (8.0.4)\n",
      "Requirement already satisfied: MarkupSafe>=0.23 in c:\\users\\msi gf63\\anaconda3\\lib\\site-packages (from jinja2->spacy<3.6.0,>=3.5.0->en-core-web-lg==3.5.0) (2.0.1)\n",
      "Installing collected packages: en-core-web-lg\n",
      "Successfully installed en-core-web-lg-3.5.0\n",
      "\n",
      "[notice] A new release of pip available: 22.2 -> 23.0.1\n",
      "[notice] To update, run: python.exe -m pip install --upgrade pip\n",
      "\u001b[38;5;2m[+] Download and installation successful\u001b[0m\n",
      "You can now load the package via spacy.load('en_core_web_lg')\n"
     ]
    }
   ],
   "source": [
    "!python -m spacy download en_core_web_lg"
   ]
  },
  {
   "cell_type": "code",
   "execution_count": 20,
   "id": "1c6ace55-c25a-42f9-b460-fb676d8d5c71",
   "metadata": {},
   "outputs": [
    {
     "name": "stdout",
     "output_type": "stream",
     "text": [
      "Collecting skillNer\n",
      "  Downloading skillNer-1.0.3.tar.gz (24 kB)\n",
      "  Preparing metadata (setup.py): started\n",
      "  Preparing metadata (setup.py): finished with status 'done'\n",
      "Requirement already satisfied: numpy in c:\\users\\msi gf63\\anaconda3\\lib\\site-packages (from skillNer) (1.21.5)\n",
      "Requirement already satisfied: pandas in c:\\users\\msi gf63\\anaconda3\\lib\\site-packages (from skillNer) (1.4.3)\n",
      "Requirement already satisfied: nltk in c:\\users\\msi gf63\\anaconda3\\lib\\site-packages (from skillNer) (3.7)\n",
      "Requirement already satisfied: spacy in c:\\users\\msi gf63\\anaconda3\\lib\\site-packages (from skillNer) (3.5.1)\n",
      "Requirement already satisfied: jellyfish in c:\\users\\msi gf63\\anaconda3\\lib\\site-packages (from skillNer) (0.9.0)\n",
      "Requirement already satisfied: regex>=2021.8.3 in c:\\users\\msi gf63\\anaconda3\\lib\\site-packages (from nltk->skillNer) (2022.7.9)\n",
      "Requirement already satisfied: tqdm in c:\\users\\msi gf63\\anaconda3\\lib\\site-packages (from nltk->skillNer) (4.64.0)\n",
      "Requirement already satisfied: joblib in c:\\users\\msi gf63\\anaconda3\\lib\\site-packages (from nltk->skillNer) (1.1.0)\n",
      "Requirement already satisfied: click in c:\\users\\msi gf63\\anaconda3\\lib\\site-packages (from nltk->skillNer) (8.0.4)\n",
      "Requirement already satisfied: pytz>=2020.1 in c:\\users\\msi gf63\\anaconda3\\lib\\site-packages (from pandas->skillNer) (2022.1)\n",
      "Requirement already satisfied: python-dateutil>=2.8.1 in c:\\users\\msi gf63\\anaconda3\\lib\\site-packages (from pandas->skillNer) (2.8.2)\n",
      "Requirement already satisfied: jinja2 in c:\\users\\msi gf63\\anaconda3\\lib\\site-packages (from spacy->skillNer) (2.11.3)\n",
      "Requirement already satisfied: pydantic!=1.8,!=1.8.1,<1.11.0,>=1.7.4 in c:\\users\\msi gf63\\anaconda3\\lib\\site-packages (from spacy->skillNer) (1.10.6)\n",
      "Requirement already satisfied: murmurhash<1.1.0,>=0.28.0 in c:\\users\\msi gf63\\anaconda3\\lib\\site-packages (from spacy->skillNer) (1.0.9)\n",
      "Requirement already satisfied: typer<0.8.0,>=0.3.0 in c:\\users\\msi gf63\\anaconda3\\lib\\site-packages (from spacy->skillNer) (0.7.0)\n",
      "Requirement already satisfied: packaging>=20.0 in c:\\users\\msi gf63\\anaconda3\\lib\\site-packages (from spacy->skillNer) (21.3)\n",
      "Requirement already satisfied: setuptools in c:\\users\\msi gf63\\anaconda3\\lib\\site-packages (from spacy->skillNer) (61.2.0)\n",
      "Requirement already satisfied: langcodes<4.0.0,>=3.2.0 in c:\\users\\msi gf63\\anaconda3\\lib\\site-packages (from spacy->skillNer) (3.3.0)\n",
      "Requirement already satisfied: smart-open<7.0.0,>=5.2.1 in c:\\users\\msi gf63\\anaconda3\\lib\\site-packages (from spacy->skillNer) (6.3.0)\n",
      "Requirement already satisfied: spacy-loggers<2.0.0,>=1.0.0 in c:\\users\\msi gf63\\anaconda3\\lib\\site-packages (from spacy->skillNer) (1.0.4)\n",
      "Requirement already satisfied: srsly<3.0.0,>=2.4.3 in c:\\users\\msi gf63\\anaconda3\\lib\\site-packages (from spacy->skillNer) (2.4.6)\n",
      "Requirement already satisfied: pathy>=0.10.0 in c:\\users\\msi gf63\\anaconda3\\lib\\site-packages (from spacy->skillNer) (0.10.1)\n",
      "Requirement already satisfied: requests<3.0.0,>=2.13.0 in c:\\users\\msi gf63\\anaconda3\\lib\\site-packages (from spacy->skillNer) (2.27.1)\n",
      "Requirement already satisfied: thinc<8.2.0,>=8.1.8 in c:\\users\\msi gf63\\anaconda3\\lib\\site-packages (from spacy->skillNer) (8.1.9)\n",
      "Requirement already satisfied: cymem<2.1.0,>=2.0.2 in c:\\users\\msi gf63\\anaconda3\\lib\\site-packages (from spacy->skillNer) (2.0.7)\n",
      "Requirement already satisfied: wasabi<1.2.0,>=0.9.1 in c:\\users\\msi gf63\\anaconda3\\lib\\site-packages (from spacy->skillNer) (1.1.1)\n",
      "Requirement already satisfied: spacy-legacy<3.1.0,>=3.0.11 in c:\\users\\msi gf63\\anaconda3\\lib\\site-packages (from spacy->skillNer) (3.0.12)\n",
      "Requirement already satisfied: catalogue<2.1.0,>=2.0.6 in c:\\users\\msi gf63\\anaconda3\\lib\\site-packages (from spacy->skillNer) (2.0.8)\n",
      "Requirement already satisfied: preshed<3.1.0,>=3.0.2 in c:\\users\\msi gf63\\anaconda3\\lib\\site-packages (from spacy->skillNer) (3.0.8)\n",
      "Requirement already satisfied: pyparsing!=3.0.5,>=2.0.2 in c:\\users\\msi gf63\\anaconda3\\lib\\site-packages (from packaging>=20.0->spacy->skillNer) (3.0.4)\n",
      "Requirement already satisfied: typing-extensions>=4.2.0 in c:\\users\\msi gf63\\anaconda3\\lib\\site-packages (from pydantic!=1.8,!=1.8.1,<1.11.0,>=1.7.4->spacy->skillNer) (4.3.0)\n",
      "Requirement already satisfied: six>=1.5 in c:\\users\\msi gf63\\anaconda3\\lib\\site-packages (from python-dateutil>=2.8.1->pandas->skillNer) (1.16.0)\n",
      "Requirement already satisfied: idna<4,>=2.5 in c:\\users\\msi gf63\\anaconda3\\lib\\site-packages (from requests<3.0.0,>=2.13.0->spacy->skillNer) (2.10)\n",
      "Requirement already satisfied: urllib3<1.27,>=1.21.1 in c:\\users\\msi gf63\\anaconda3\\lib\\site-packages (from requests<3.0.0,>=2.13.0->spacy->skillNer) (1.26.9)\n",
      "Requirement already satisfied: charset-normalizer~=2.0.0 in c:\\users\\msi gf63\\anaconda3\\lib\\site-packages (from requests<3.0.0,>=2.13.0->spacy->skillNer) (2.0.4)\n",
      "Requirement already satisfied: certifi>=2017.4.17 in c:\\users\\msi gf63\\anaconda3\\lib\\site-packages (from requests<3.0.0,>=2.13.0->spacy->skillNer) (2022.6.15)\n",
      "Requirement already satisfied: confection<1.0.0,>=0.0.1 in c:\\users\\msi gf63\\anaconda3\\lib\\site-packages (from thinc<8.2.0,>=8.1.8->spacy->skillNer) (0.0.4)\n",
      "Requirement already satisfied: blis<0.8.0,>=0.7.8 in c:\\users\\msi gf63\\anaconda3\\lib\\site-packages (from thinc<8.2.0,>=8.1.8->spacy->skillNer) (0.7.9)\n",
      "Requirement already satisfied: colorama in c:\\users\\msi gf63\\anaconda3\\lib\\site-packages (from tqdm->nltk->skillNer) (0.4.6)\n",
      "Requirement already satisfied: MarkupSafe>=0.23 in c:\\users\\msi gf63\\anaconda3\\lib\\site-packages (from jinja2->spacy->skillNer) (2.0.1)\n",
      "Building wheels for collected packages: skillNer\n",
      "  Building wheel for skillNer (setup.py): started\n",
      "  Building wheel for skillNer (setup.py): finished with status 'done'\n",
      "  Created wheel for skillNer: filename=skillNer-1.0.3-py3-none-any.whl size=25648 sha256=6ee9563f059a3daf5a364092af77cf528a8ec4d221f5e16e78cd3c7e43fffe44\n",
      "  Stored in directory: c:\\users\\msi gf63\\appdata\\local\\pip\\cache\\wheels\\eb\\a1\\1a\\735667a07483c24897ef0857e0dcbc9bd9d2c0cd0c840c7d7d\n",
      "Successfully built skillNer\n",
      "Installing collected packages: skillNer\n",
      "Successfully installed skillNer-1.0.3\n",
      "\n",
      "[notice] A new release of pip available: 22.2 -> 23.0.1\n",
      "[notice] To update, run: python.exe -m pip install --upgrade pip\n",
      "Note: you may need to restart the kernel to use updated packages.\n"
     ]
    }
   ],
   "source": [
    "pip install skillNer"
   ]
  },
  {
   "cell_type": "code",
   "execution_count": 21,
   "id": "17acee85-4a51-42ef-9afb-2f0c8c1b4fe4",
   "metadata": {},
   "outputs": [
    {
     "name": "stdout",
     "output_type": "stream",
     "text": [
      "loading full_matcher ...\n",
      "loading abv_matcher ...\n",
      "loading full_uni_matcher ...\n",
      "loading low_form_matcher ...\n",
      "loading token_matcher ...\n"
     ]
    }
   ],
   "source": [
    "# imports\n",
    "import spacy\n",
    "from spacy.matcher import PhraseMatcher\n",
    "\n",
    "# load default skills data base\n",
    "from skillNer.general_params import SKILL_DB\n",
    "# import skill extractor\n",
    "from skillNer.skill_extractor_class import SkillExtractor\n",
    "\n",
    "# init params of skill extractor\n",
    "nlp = spacy.load(\"en_core_web_lg\")\n",
    "# init skill extractor\n",
    "skill_extractor = SkillExtractor(nlp, SKILL_DB, PhraseMatcher)\n",
    "\n",
    "# extract skills from job_description\n",
    "job_description = \"\"\"\n",
    "You are a Python developer with a solid experience in web development\n",
    "and can manage projects. You quickly adapt to new environments\n",
    "and speak fluently English and French\n",
    "\"\"\"\n",
    "\n",
    "annotations = skill_extractor.annotate(job_description)"
   ]
  },
  {
   "cell_type": "code",
   "execution_count": 24,
   "id": "f339050c-e4c5-405c-a9b5-68b8dc780445",
   "metadata": {},
   "outputs": [
    {
     "name": "stdout",
     "output_type": "stream",
     "text": [
      "{'text': 'you are a python developer with a solid experience in web development and can manage projects you quickly adapt to new environments and speak fluently english and french', 'results': {'full_matches': [{'skill_id': 'KS122Z36QK3N5097B5JH', 'doc_node_value': 'web development', 'score': 1, 'doc_node_id': [10, 11]}], 'ngram_scored': [{'skill_id': 'KS125LS6N7WP4S6SFTCK', 'doc_node_id': [3], 'doc_node_value': 'python', 'type': 'fullUni', 'score': 1, 'len': 1}, {'skill_id': 'KS1267F6MSPN366LX7ST', 'doc_node_id': [14, 15], 'doc_node_value': 'manage projects', 'type': 'lowSurf', 'score': 2, 'len': 2}, {'skill_id': 'KS120626HMWCXJWJC7VK', 'doc_node_id': [18], 'doc_node_value': 'adapt', 'type': 'lowSurf', 'score': 0.5245310068130493, 'len': 1}, {'skill_id': 'KS123K75YYK8VGH90NCS', 'doc_node_id': [25], 'doc_node_value': 'english', 'type': 'lowSurf', 'score': 1, 'len': 1}, {'skill_id': 'KS1243976G466GV63ZBY', 'doc_node_id': [27], 'doc_node_value': 'french', 'type': 'lowSurf', 'score': 1, 'len': 1}]}}\n"
     ]
    }
   ],
   "source": [
    "print(annotations)"
   ]
  },
  {
   "cell_type": "code",
   "execution_count": 12,
   "id": "b19e34e2-a4c0-438b-ade9-8e1bfe6ad4ec",
   "metadata": {},
   "outputs": [
    {
     "name": "stdout",
     "output_type": "stream",
     "text": [
      "Collecting find_job_titles\n",
      "  Using cached find_job_titles-0.7.0-py2.py3-none-any.whl (383 kB)\n",
      "Collecting pyahocorasick\n",
      "  Using cached pyahocorasick-2.0.0-cp39-cp39-win_amd64.whl (39 kB)\n",
      "Collecting acora\n",
      "  Using cached acora-2.3.tar.gz (215 kB)\n",
      "  Preparing metadata (setup.py): started\n",
      "  Preparing metadata (setup.py): finished with status 'done'\n",
      "Building wheels for collected packages: acora\n",
      "  Building wheel for acora (setup.py): started\n",
      "  Building wheel for acora (setup.py): finished with status 'done'\n",
      "  Created wheel for acora: filename=acora-2.3-cp39-cp39-win_amd64.whl size=117543 sha256=ca3ba64737b0d59629647e3b49af24675efe5dfb23963a9d009cc617351b2484\n",
      "  Stored in directory: c:\\users\\msi gf63\\appdata\\local\\pip\\cache\\wheels\\99\\bf\\f7\\75667d77774e3b5e57b17b03489c7b14037b9c416940cfc953\n",
      "Successfully built acora\n",
      "Installing collected packages: acora, pyahocorasick, find_job_titles\n",
      "Successfully installed acora-2.3 find_job_titles-0.7.0 pyahocorasick-2.0.0\n",
      "Note: you may need to restart the kernel to use updated packages.\n"
     ]
    }
   ],
   "source": [
    "pip install find_job_titles"
   ]
  },
  {
   "cell_type": "markdown",
   "id": "e24c8099-d766-48b1-9f77-e2f68ea5253e",
   "metadata": {},
   "source": [
    "## TEST SPACY !!!!!!!!!!!!!!!!!!!!"
   ]
  },
  {
   "cell_type": "code",
   "execution_count": 3,
   "id": "b0591600-d543-4b22-9d88-e7da878de990",
   "metadata": {},
   "outputs": [
    {
     "name": "stdout",
     "output_type": "stream",
     "text": [
      "Collecting en-core-web-sm==3.5.0\n",
      "  Downloading https://github.com/explosion/spacy-models/releases/download/en_core_web_sm-3.5.0/en_core_web_sm-3.5.0-py3-none-any.whl (12.8 MB)\n",
      "     -------------------------------------- 12.8/12.8 MB 930.7 kB/s eta 0:00:00\n",
      "Requirement already satisfied: spacy<3.6.0,>=3.5.0 in c:\\users\\msi gf63\\anaconda3\\lib\\site-packages (from en-core-web-sm==3.5.0) (3.5.1)\n",
      "Requirement already satisfied: catalogue<2.1.0,>=2.0.6 in c:\\users\\msi gf63\\anaconda3\\lib\\site-packages (from spacy<3.6.0,>=3.5.0->en-core-web-sm==3.5.0) (2.0.8)\n",
      "Requirement already satisfied: cymem<2.1.0,>=2.0.2 in c:\\users\\msi gf63\\anaconda3\\lib\\site-packages (from spacy<3.6.0,>=3.5.0->en-core-web-sm==3.5.0) (2.0.7)\n",
      "Requirement already satisfied: numpy>=1.15.0 in c:\\users\\msi gf63\\anaconda3\\lib\\site-packages (from spacy<3.6.0,>=3.5.0->en-core-web-sm==3.5.0) (1.21.5)\n",
      "Requirement already satisfied: pathy>=0.10.0 in c:\\users\\msi gf63\\anaconda3\\lib\\site-packages (from spacy<3.6.0,>=3.5.0->en-core-web-sm==3.5.0) (0.10.1)\n",
      "Requirement already satisfied: thinc<8.2.0,>=8.1.8 in c:\\users\\msi gf63\\anaconda3\\lib\\site-packages (from spacy<3.6.0,>=3.5.0->en-core-web-sm==3.5.0) (8.1.9)\n",
      "Requirement already satisfied: spacy-legacy<3.1.0,>=3.0.11 in c:\\users\\msi gf63\\anaconda3\\lib\\site-packages (from spacy<3.6.0,>=3.5.0->en-core-web-sm==3.5.0) (3.0.12)\n",
      "Requirement already satisfied: typer<0.8.0,>=0.3.0 in c:\\users\\msi gf63\\anaconda3\\lib\\site-packages (from spacy<3.6.0,>=3.5.0->en-core-web-sm==3.5.0) (0.7.0)\n",
      "Requirement already satisfied: srsly<3.0.0,>=2.4.3 in c:\\users\\msi gf63\\anaconda3\\lib\\site-packages (from spacy<3.6.0,>=3.5.0->en-core-web-sm==3.5.0) (2.4.6)\n",
      "Requirement already satisfied: wasabi<1.2.0,>=0.9.1 in c:\\users\\msi gf63\\anaconda3\\lib\\site-packages (from spacy<3.6.0,>=3.5.0->en-core-web-sm==3.5.0) (1.1.1)\n",
      "Requirement already satisfied: langcodes<4.0.0,>=3.2.0 in c:\\users\\msi gf63\\anaconda3\\lib\\site-packages (from spacy<3.6.0,>=3.5.0->en-core-web-sm==3.5.0) (3.3.0)\n",
      "Requirement already satisfied: pydantic!=1.8,!=1.8.1,<1.11.0,>=1.7.4 in c:\\users\\msi gf63\\anaconda3\\lib\\site-packages (from spacy<3.6.0,>=3.5.0->en-core-web-sm==3.5.0) (1.10.6)\n",
      "Requirement already satisfied: packaging>=20.0 in c:\\users\\msi gf63\\anaconda3\\lib\\site-packages (from spacy<3.6.0,>=3.5.0->en-core-web-sm==3.5.0) (21.3)\n",
      "Requirement already satisfied: requests<3.0.0,>=2.13.0 in c:\\users\\msi gf63\\anaconda3\\lib\\site-packages (from spacy<3.6.0,>=3.5.0->en-core-web-sm==3.5.0) (2.27.1)\n",
      "Requirement already satisfied: jinja2 in c:\\users\\msi gf63\\anaconda3\\lib\\site-packages (from spacy<3.6.0,>=3.5.0->en-core-web-sm==3.5.0) (2.11.3)\n",
      "Requirement already satisfied: setuptools in c:\\users\\msi gf63\\anaconda3\\lib\\site-packages (from spacy<3.6.0,>=3.5.0->en-core-web-sm==3.5.0) (61.2.0)\n",
      "Requirement already satisfied: tqdm<5.0.0,>=4.38.0 in c:\\users\\msi gf63\\anaconda3\\lib\\site-packages (from spacy<3.6.0,>=3.5.0->en-core-web-sm==3.5.0) (4.64.0)\n",
      "Requirement already satisfied: smart-open<7.0.0,>=5.2.1 in c:\\users\\msi gf63\\anaconda3\\lib\\site-packages (from spacy<3.6.0,>=3.5.0->en-core-web-sm==3.5.0) (6.3.0)\n",
      "Requirement already satisfied: spacy-loggers<2.0.0,>=1.0.0 in c:\\users\\msi gf63\\anaconda3\\lib\\site-packages (from spacy<3.6.0,>=3.5.0->en-core-web-sm==3.5.0) (1.0.4)\n",
      "Requirement already satisfied: preshed<3.1.0,>=3.0.2 in c:\\users\\msi gf63\\anaconda3\\lib\\site-packages (from spacy<3.6.0,>=3.5.0->en-core-web-sm==3.5.0) (3.0.8)\n",
      "Requirement already satisfied: murmurhash<1.1.0,>=0.28.0 in c:\\users\\msi gf63\\anaconda3\\lib\\site-packages (from spacy<3.6.0,>=3.5.0->en-core-web-sm==3.5.0) (1.0.9)\n",
      "Requirement already satisfied: pyparsing!=3.0.5,>=2.0.2 in c:\\users\\msi gf63\\anaconda3\\lib\\site-packages (from packaging>=20.0->spacy<3.6.0,>=3.5.0->en-core-web-sm==3.5.0) (3.0.4)\n",
      "Requirement already satisfied: typing-extensions>=4.2.0 in c:\\users\\msi gf63\\anaconda3\\lib\\site-packages (from pydantic!=1.8,!=1.8.1,<1.11.0,>=1.7.4->spacy<3.6.0,>=3.5.0->en-core-web-sm==3.5.0) (4.3.0)\n",
      "Requirement already satisfied: certifi>=2017.4.17 in c:\\users\\msi gf63\\anaconda3\\lib\\site-packages (from requests<3.0.0,>=2.13.0->spacy<3.6.0,>=3.5.0->en-core-web-sm==3.5.0) (2022.6.15)\n",
      "Requirement already satisfied: idna<4,>=2.5 in c:\\users\\msi gf63\\anaconda3\\lib\\site-packages (from requests<3.0.0,>=2.13.0->spacy<3.6.0,>=3.5.0->en-core-web-sm==3.5.0) (2.10)\n",
      "Requirement already satisfied: urllib3<1.27,>=1.21.1 in c:\\users\\msi gf63\\anaconda3\\lib\\site-packages (from requests<3.0.0,>=2.13.0->spacy<3.6.0,>=3.5.0->en-core-web-sm==3.5.0) (1.26.9)\n",
      "Requirement already satisfied: charset-normalizer~=2.0.0 in c:\\users\\msi gf63\\anaconda3\\lib\\site-packages (from requests<3.0.0,>=2.13.0->spacy<3.6.0,>=3.5.0->en-core-web-sm==3.5.0) (2.0.4)\n",
      "Requirement already satisfied: confection<1.0.0,>=0.0.1 in c:\\users\\msi gf63\\anaconda3\\lib\\site-packages (from thinc<8.2.0,>=8.1.8->spacy<3.6.0,>=3.5.0->en-core-web-sm==3.5.0) (0.0.4)\n",
      "Requirement already satisfied: blis<0.8.0,>=0.7.8 in c:\\users\\msi gf63\\anaconda3\\lib\\site-packages (from thinc<8.2.0,>=8.1.8->spacy<3.6.0,>=3.5.0->en-core-web-sm==3.5.0) (0.7.9)\n",
      "Requirement already satisfied: colorama in c:\\users\\msi gf63\\anaconda3\\lib\\site-packages (from tqdm<5.0.0,>=4.38.0->spacy<3.6.0,>=3.5.0->en-core-web-sm==3.5.0) (0.4.6)\n",
      "Requirement already satisfied: click<9.0.0,>=7.1.1 in c:\\users\\msi gf63\\anaconda3\\lib\\site-packages (from typer<0.8.0,>=0.3.0->spacy<3.6.0,>=3.5.0->en-core-web-sm==3.5.0) (8.0.4)\n",
      "Requirement already satisfied: MarkupSafe>=0.23 in c:\\users\\msi gf63\\anaconda3\\lib\\site-packages (from jinja2->spacy<3.6.0,>=3.5.0->en-core-web-sm==3.5.0) (2.0.1)\n",
      "\u001b[38;5;2m[+] Download and installation successful\u001b[0m\n",
      "You can now load the package via spacy.load('en_core_web_sm')\n"
     ]
    },
    {
     "data": {
      "text/plain": [
       "['tok2vec', 'tagger', 'parser', 'attribute_ruler', 'lemmatizer', 'ner']"
      ]
     },
     "execution_count": 3,
     "metadata": {},
     "output_type": "execute_result"
    }
   ],
   "source": [
    "!python -m spacy download en_core_web_sm\n",
    "\n",
    "import spacy \n",
    "\n",
    "nlp = spacy.load(\"en_core_web_sm\")\n",
    "nlp.pipe_names"
   ]
  },
  {
   "cell_type": "code",
   "execution_count": 6,
   "id": "4622d737-55a6-4725-a29a-a07ba2e2335a",
   "metadata": {},
   "outputs": [
    {
     "data": {
      "text/html": [
       "<span class=\"tex2jax_ignore\"><div class=\"entities\" style=\"line-height: 2.5; direction: ltr\">\n",
       "<mark class=\"entity\" style=\"background: #aa9cfc; padding: 0.45em 0.6em; margin: 0 0.25em; line-height: 1; border-radius: 0.35em;\">\n",
       "    Daniil Medvedev\n",
       "    <span style=\"font-size: 0.8em; font-weight: bold; line-height: 1; border-radius: 0.35em; vertical-align: middle; margin-left: 0.5rem\">PERSON</span>\n",
       "</mark>\n",
       " and \n",
       "<mark class=\"entity\" style=\"background: #aa9cfc; padding: 0.45em 0.6em; margin: 0 0.25em; line-height: 1; border-radius: 0.35em;\">\n",
       "    Novak Djokovic\n",
       "    <span style=\"font-size: 0.8em; font-weight: bold; line-height: 1; border-radius: 0.35em; vertical-align: middle; margin-left: 0.5rem\">PERSON</span>\n",
       "</mark>\n",
       " have built an intriguing rivalry since the \n",
       "<mark class=\"entity\" style=\"background: #c887fb; padding: 0.45em 0.6em; margin: 0 0.25em; line-height: 1; border-radius: 0.35em;\">\n",
       "    Australian\n",
       "    <span style=\"font-size: 0.8em; font-weight: bold; line-height: 1; border-radius: 0.35em; vertical-align: middle; margin-left: 0.5rem\">NORP</span>\n",
       "</mark>\n",
       " Open decider, which the \n",
       "<mark class=\"entity\" style=\"background: #c887fb; padding: 0.45em 0.6em; margin: 0 0.25em; line-height: 1; border-radius: 0.35em;\">\n",
       "    Serb\n",
       "    <span style=\"font-size: 0.8em; font-weight: bold; line-height: 1; border-radius: 0.35em; vertical-align: middle; margin-left: 0.5rem\">NORP</span>\n",
       "</mark>\n",
       " won comprehensively.</div></span>"
      ],
      "text/plain": [
       "<IPython.core.display.HTML object>"
      ]
     },
     "metadata": {},
     "output_type": "display_data"
    },
    {
     "data": {
      "text/plain": [
       "[(Daniil, 'B', 'PERSON'),\n",
       " (Medvedev, 'I', 'PERSON'),\n",
       " (Novak, 'B', 'PERSON'),\n",
       " (Djokovic, 'I', 'PERSON'),\n",
       " (Australian, 'B', 'NORP'),\n",
       " (Serb, 'B', 'NORP')]"
      ]
     },
     "execution_count": 6,
     "metadata": {},
     "output_type": "execute_result"
    }
   ],
   "source": [
    "sentence = \"Daniil Medvedev and Novak Djokovic have built an intriguing rivalry since the Australian Open decider, which the Serb won comprehensively.\"\n",
    "doc = nlp(sentence)\n",
    "\n",
    "from spacy import displacy\n",
    "displacy.render(doc, style=\"ent\", jupyter=True)\n",
    "\n",
    "[(X, X.ent_iob_, X.ent_type_) for X in doc if X.ent_type_]"
   ]
  },
  {
   "cell_type": "code",
   "execution_count": 10,
   "id": "8c7d135d-bd2f-452a-a418-ca7f7f84b4fc",
   "metadata": {},
   "outputs": [
    {
     "name": "stdout",
     "output_type": "stream",
     "text": [
      "Requirement already satisfied: setuptools in c:\\users\\msi gf63\\anaconda3\\lib\\site-packages (61.2.0)\n",
      "Collecting setuptools\n",
      "  Downloading setuptools-67.6.1-py3-none-any.whl (1.1 MB)\n",
      "     ---------------------------------------- 1.1/1.1 MB 2.3 MB/s eta 0:00:00\n",
      "Installing collected packages: setuptools\n",
      "  Attempting uninstall: setuptools\n",
      "    Found existing installation: setuptools 61.2.0\n",
      "    Uninstalling setuptools-61.2.0:\n",
      "      Successfully uninstalled setuptools-61.2.0\n",
      "Successfully installed setuptools-67.6.1\n",
      "Note: you may need to restart the kernel to use updated packages.\n"
     ]
    },
    {
     "name": "stderr",
     "output_type": "stream",
     "text": [
      "ERROR: pip's dependency resolver does not currently take into account all the packages that are installed. This behaviour is the source of the following dependency conflicts.\n",
      "spyder 5.2.2 requires pyqt5<5.13, which is not installed.\n",
      "spyder 5.2.2 requires pyqtwebengine<5.13, which is not installed.\n",
      "conda-repo-cli 1.0.4 requires pathlib, which is not installed.\n"
     ]
    }
   ],
   "source": [
    "pip install --upgrade setuptools"
   ]
  },
  {
   "cell_type": "code",
   "execution_count": 18,
   "id": "ef017d3a-442e-4abc-93dc-0f1c756f81a4",
   "metadata": {},
   "outputs": [
    {
     "ename": "RuntimeError",
     "evalue": "generator raised StopIteration",
     "output_type": "error",
     "traceback": [
      "\u001b[1;31m---------------------------------------------------------------------------\u001b[0m",
      "\u001b[1;31mStopIteration\u001b[0m                             Traceback (most recent call last)",
      "\u001b[1;32m~\\anaconda3\\lib\\site-packages\\find_job_titles\\__init__.py\u001b[0m in \u001b[0;36mlongest_match\u001b[1;34m(matches)\u001b[0m\n\u001b[0;32m     48\u001b[0m     \"\"\"\n\u001b[1;32m---> 49\u001b[1;33m     \u001b[0mlongest\u001b[0m \u001b[1;33m=\u001b[0m \u001b[0mnext\u001b[0m\u001b[1;33m(\u001b[0m\u001b[0mmatches\u001b[0m\u001b[1;33m)\u001b[0m\u001b[1;33m\u001b[0m\u001b[1;33m\u001b[0m\u001b[0m\n\u001b[0m\u001b[0;32m     50\u001b[0m     \u001b[1;32mif\u001b[0m \u001b[0mlongest\u001b[0m \u001b[1;32mis\u001b[0m \u001b[1;32mNone\u001b[0m\u001b[1;33m:\u001b[0m\u001b[1;33m\u001b[0m\u001b[1;33m\u001b[0m\u001b[0m\n",
      "\u001b[1;31mStopIteration\u001b[0m: ",
      "\nThe above exception was the direct cause of the following exception:\n",
      "\u001b[1;31mRuntimeError\u001b[0m                              Traceback (most recent call last)",
      "\u001b[1;32m~\\AppData\\Local\\Temp\\ipykernel_19360\\669126553.py\u001b[0m in \u001b[0;36m<module>\u001b[1;34m\u001b[0m\n\u001b[0;32m      1\u001b[0m \u001b[1;32mfrom\u001b[0m \u001b[0mfind_job_titles\u001b[0m \u001b[1;32mimport\u001b[0m \u001b[0mFinderAcora\u001b[0m\u001b[1;33m\u001b[0m\u001b[1;33m\u001b[0m\u001b[0m\n\u001b[0;32m      2\u001b[0m \u001b[0mfinder\u001b[0m\u001b[1;33m=\u001b[0m\u001b[0mFinderAcora\u001b[0m\u001b[1;33m(\u001b[0m\u001b[1;33m)\u001b[0m\u001b[1;33m\u001b[0m\u001b[1;33m\u001b[0m\u001b[0m\n\u001b[1;32m----> 3\u001b[1;33m \u001b[0mprint\u001b[0m\u001b[1;33m(\u001b[0m\u001b[0mfinder\u001b[0m\u001b[1;33m.\u001b[0m\u001b[0mfindall\u001b[0m\u001b[1;33m(\u001b[0m\u001b[1;34mu\"Objective.Description of the young talent positions that we would like to share with universities,disrupted schools and vocational education centres, showing requirements and valueproposition offered by Santander Corporate & Investment Banking (SCIB).Document structure.- Common Santander T&O value proposition.- Profiles description:o DevSecOps.o Software engineering.o Data development and solutions.o Cybersecurity analyst.\"\u001b[0m\u001b[1;33m)\u001b[0m\u001b[1;33m)\u001b[0m\u001b[1;33m\u001b[0m\u001b[1;33m\u001b[0m\u001b[0m\n\u001b[0m",
      "\u001b[1;32m~\\anaconda3\\lib\\site-packages\\find_job_titles\\__init__.py\u001b[0m in \u001b[0;36mfindall\u001b[1;34m(self, string, use_longest)\u001b[0m\n\u001b[0;32m     82\u001b[0m         \u001b[1;33m:\u001b[0m\u001b[0mreturns\u001b[0m\u001b[1;33m:\u001b[0m \u001b[0mlist\u001b[0m \u001b[0mof\u001b[0m \u001b[0mmatches\u001b[0m \u001b[0mof\u001b[0m \u001b[0mtype\u001b[0m\u001b[0;31m \u001b[0m\u001b[0;31m`\u001b[0m\u001b[0mMatch\u001b[0m\u001b[0;31m`\u001b[0m\u001b[1;33m\u001b[0m\u001b[1;33m\u001b[0m\u001b[0m\n\u001b[0;32m     83\u001b[0m         \"\"\"\n\u001b[1;32m---> 84\u001b[1;33m         \u001b[1;32mreturn\u001b[0m \u001b[0mlist\u001b[0m\u001b[1;33m(\u001b[0m\u001b[0mself\u001b[0m\u001b[1;33m.\u001b[0m\u001b[0mfinditer\u001b[0m\u001b[1;33m(\u001b[0m\u001b[0mstring\u001b[0m\u001b[1;33m,\u001b[0m \u001b[0muse_longest\u001b[0m\u001b[1;33m=\u001b[0m\u001b[0muse_longest\u001b[0m\u001b[1;33m)\u001b[0m\u001b[1;33m)\u001b[0m\u001b[1;33m\u001b[0m\u001b[1;33m\u001b[0m\u001b[0m\n\u001b[0m\u001b[0;32m     85\u001b[0m \u001b[1;33m\u001b[0m\u001b[0m\n\u001b[0;32m     86\u001b[0m     \u001b[1;32mdef\u001b[0m \u001b[0mfinditer\u001b[0m\u001b[1;33m(\u001b[0m\u001b[0mself\u001b[0m\u001b[1;33m,\u001b[0m \u001b[0mstring\u001b[0m\u001b[1;33m,\u001b[0m \u001b[0muse_longest\u001b[0m\u001b[1;33m=\u001b[0m\u001b[1;32mTrue\u001b[0m\u001b[1;33m)\u001b[0m\u001b[1;33m:\u001b[0m\u001b[1;33m\u001b[0m\u001b[1;33m\u001b[0m\u001b[0m\n",
      "\u001b[1;31mRuntimeError\u001b[0m: generator raised StopIteration"
     ]
    }
   ],
   "source": [
    "from find_job_titles import FinderAcora\n",
    "finder=FinderAcora()\n",
    "print(finder.findall(u\"Objective.Description of the young talent positions that we would like to share with universities,disrupted schools and vocational education centres, showing requirements and valueproposition offered by Santander Corporate & Investment Banking (SCIB).Document structure.- Common Santander T&O value proposition.- Profiles description:o DevSecOps.o Software engineering.o Data development and solutions.o Cybersecurity analyst.\"))"
   ]
  }
 ],
 "metadata": {
  "kernelspec": {
   "display_name": "Python 3 (ipykernel)",
   "language": "python",
   "name": "python3"
  },
  "language_info": {
   "codemirror_mode": {
    "name": "ipython",
    "version": 3
   },
   "file_extension": ".py",
   "mimetype": "text/x-python",
   "name": "python",
   "nbconvert_exporter": "python",
   "pygments_lexer": "ipython3",
   "version": "3.9.12"
  }
 },
 "nbformat": 4,
 "nbformat_minor": 5
}
